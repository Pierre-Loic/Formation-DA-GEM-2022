{
 "cells": [
  {
   "cell_type": "markdown",
   "id": "3f04c206",
   "metadata": {},
   "source": [
    "# Activité 5 : séries temporelles\n",
    "\n",
    "<img src=\"https://cdn.pixabay.com/photo/2013/07/12/16/01/clock-150754_1280.png\" alt=\"horloge\" width=\"400\"/>\n",
    "\n",
    "#### [Pierre-Loic BAYART](https://www.linkedin.com/in/pierreloicbayart/) - Formation développeur d'applications spécialisation data analyst - Webforce3 - Grenoble Ecole de Management\n",
    "\n",
    "### Code pour indiquer l'importance des notions traitées dans cette activité\n",
    "\n",
    "- #### 🥇 : connaissance fondamentale pour l'analyse de données\n",
    "- #### 🥈 : connaissance importante pour l'analyse de données\n",
    "- #### 🥉 : connaissance moins importante pour l'analyse de données\n",
    "> Si rien n'est indiqué, il s'agit de connaissances fondamentales pour l'analyse de données"
   ]
  },
  {
   "cell_type": "markdown",
   "id": "c2d70b77",
   "metadata": {},
   "source": [
    "## 🔍 Recherche d'informations\n",
    "\n",
    "En recherchant sur le web, trouver les réponses aux questions suivantes :\n",
    "\n",
    "### - Qu'est-ce qu'une moyenne mobile ? A quoi cela sert-il ?\n",
    "___\n",
    "*A COMPLETER*\n",
    "___\n",
    "### - Qu'est-ce qu'une interpolation ?\n",
    "___\n",
    "*A COMPLETER*\n",
    "___\n",
    "### - Qu'est-ce qu'une série temporelle stationnaire ?\n",
    "___\n",
    "*A COMPLETER*\n",
    "___\n",
    "### - A quoi sert le modèle ARIMA ?\n",
    "___\n",
    "*A COMPLETER*\n",
    "___"
   ]
  },
  {
   "cell_type": "markdown",
   "id": "50bf876d",
   "metadata": {},
   "source": [
    "## ✏️ Activités\n",
    "\n",
    "Le jeu de données que l'on va utiliser pour cette activité contient les **températures moyennes** dans **différents pays** sur plusieurs **centaines d'années**.\n",
    "\n",
    "### Analyse exploratoire des données temporelles\n",
    "\n",
    "- **Récupérer** dans un **dataframe** Pandas les données du fichier \"GlobalTemp.csv\""
   ]
  },
  {
   "cell_type": "code",
   "execution_count": null,
   "id": "4a9adda0",
   "metadata": {},
   "outputs": [],
   "source": [
    "# A COMPLETER"
   ]
  },
  {
   "cell_type": "markdown",
   "id": "a1b8ca05",
   "metadata": {},
   "source": [
    "- A partir des **données d'origine**, sélectionner uniquement les **données pour la France**. Conserver uniquement les colonnes \"dt\" et \"AverageTemperature\""
   ]
  },
  {
   "cell_type": "code",
   "execution_count": null,
   "id": "b9de493f",
   "metadata": {},
   "outputs": [],
   "source": [
    "# A COMPLETER"
   ]
  },
  {
   "cell_type": "markdown",
   "id": "11597a37",
   "metadata": {},
   "source": [
    "- **Transformer** la colonne \"dt\" en **datetime**. Passer la colonne \"dt\" en **index** et supprimer la colonne \"dt\""
   ]
  },
  {
   "cell_type": "code",
   "execution_count": null,
   "id": "0cb8f46a",
   "metadata": {},
   "outputs": [],
   "source": [
    "# A COMPLETER"
   ]
  },
  {
   "cell_type": "markdown",
   "id": "6d8382a5",
   "metadata": {},
   "source": [
    "- Tracer le graphique **des températures en fonction du temps**"
   ]
  },
  {
   "cell_type": "code",
   "execution_count": null,
   "id": "6e4931db",
   "metadata": {},
   "outputs": [],
   "source": [
    "# A COMPLETER"
   ]
  },
  {
   "cell_type": "markdown",
   "id": "14c5f2b1",
   "metadata": {},
   "source": [
    "- Calculer le **nombre de valeurs manquantes** ainsi que les **dates de ces valeurs manquantes**"
   ]
  },
  {
   "cell_type": "code",
   "execution_count": null,
   "id": "1966ff74",
   "metadata": {},
   "outputs": [],
   "source": [
    "# A COMPLETER"
   ]
  },
  {
   "cell_type": "markdown",
   "id": "a89ac21a",
   "metadata": {},
   "source": [
    "Pour l'**imputation des données manquantes** dans les **séries temporelles**, il existe des **méthodes spécifiques** de remplacement des valeurs manquantes.\n",
    "\n",
    "- **Tracer la graphique** depuis l'**origine des données** jusqu'à **1753** (créer un nouveau dataframe). Effectuer le **remplacement des valeurs manquantes** par la **valeur précédente**, par la **valeur suivante** et par **interpolation linéaire**. Afficher les résultats sous forme de 4 graphiques superposés. Effectuer un **interpolation des valeurs manquantes** sur tout le jeu de données.\n",
    "\n",
    "*Ressources :*\n",
    "\n",
    "   - [pandas.DataFrame.fillna](https://pandas.pydata.org/docs/reference/api/pandas.DataFrame.fillna.html#pandas.DataFrame.fillna)\n",
    "   - [pandas.DataFrame.interpolate](https://pandas.pydata.org/docs/reference/api/pandas.DataFrame.interpolate.html)"
   ]
  },
  {
   "cell_type": "code",
   "execution_count": null,
   "id": "bf4fa7a2",
   "metadata": {},
   "outputs": [],
   "source": [
    "# A COMPLETER"
   ]
  },
  {
   "cell_type": "markdown",
   "id": "42f215f7",
   "metadata": {},
   "source": [
    "- Tracer le graphique des **moyennes mobiles (moving averages)** à 365 jours. Analyser l'**impact du changement** de l'**intervalle de temps** sur le graphique.\n",
    "\n",
    "*Ressources :*\n",
    "\n",
    "   - [pandas.DataFrame.rolling](https://pandas.pydata.org/docs/reference/api/pandas.DataFrame.rolling.html)"
   ]
  },
  {
   "cell_type": "code",
   "execution_count": null,
   "id": "b38925f2",
   "metadata": {},
   "outputs": [],
   "source": [
    "# A COMPLETER"
   ]
  },
  {
   "cell_type": "markdown",
   "id": "1ae1e405",
   "metadata": {},
   "source": [
    "- Afficher sur un **même graphique** les températures du **18ème siècle en rouge**, celles du **19ème en bleu*, celles du **20ème en vert** et celles du **21ème en noir**."
   ]
  },
  {
   "cell_type": "code",
   "execution_count": null,
   "id": "8a4faddc",
   "metadata": {},
   "outputs": [],
   "source": [
    "# A COMPLETER"
   ]
  },
  {
   "cell_type": "markdown",
   "id": "859d164e",
   "metadata": {},
   "source": [
    "- Effectuer un **test augmenté de Dickey-Fuller** (ADF) pour vérifier que la **série temporelle** est **stationnaire**.\n",
    "\n",
    "Ressources : https://www.statsmodels.org/dev/generated/statsmodels.tsa.stattools.adfuller.html"
   ]
  },
  {
   "cell_type": "code",
   "execution_count": null,
   "id": "84ad674c",
   "metadata": {},
   "outputs": [],
   "source": [
    "# A COMPLETER"
   ]
  },
  {
   "cell_type": "markdown",
   "id": "252f76d2",
   "metadata": {},
   "source": [
    "- Entrainer un **modèle ARIMA** et effectuer le graphique pour comparer les **données réelles** et les **prédictions**\n",
    "\n",
    "Ressources : https://www.statsmodels.org/dev/generated/statsmodels.tsa.arima.model.ARIMA.html"
   ]
  },
  {
   "cell_type": "code",
   "execution_count": null,
   "id": "a59ec9e1",
   "metadata": {},
   "outputs": [],
   "source": [
    "# A COMPLETER"
   ]
  },
  {
   "cell_type": "markdown",
   "id": "c5d6c976",
   "metadata": {},
   "source": [
    "- Effectuer une **prédiction** sur **une année après la fin des données (fin 2014)** et afficher le **graphique des données**"
   ]
  },
  {
   "cell_type": "code",
   "execution_count": null,
   "id": "7f06c14f",
   "metadata": {},
   "outputs": [],
   "source": [
    "# A COMPLETER"
   ]
  },
  {
   "cell_type": "markdown",
   "id": "3d1489a1",
   "metadata": {},
   "source": [
    "## 🚀 Pour aller plus loin\n",
    "\n",
    "- [Série temporelle - Wikipedia](https://fr.wikipedia.org/wiki/S%C3%A9rie_temporelle)\n",
    "- [Prophet library](https://facebook.github.io/prophet/docs/quick_start.html#python-api)"
   ]
  },
  {
   "cell_type": "markdown",
   "id": "4c5390f7",
   "metadata": {},
   "source": [
    "___\n",
    "*👨‍🏫 [Pierre-Loic BAYART](https://www.linkedin.com/in/pierreloicbayart/) - Formation développeur d'applications spécialisation data analyst - Webforce3 - Grenoble Ecole de Management*\n",
    "___\n",
    "Source images d'illustration : Image par OpenClipart-Vectors de Pixabay"
   ]
  }
 ],
 "metadata": {
  "kernelspec": {
   "display_name": "Python 3 (ipykernel)",
   "language": "python",
   "name": "python3"
  },
  "language_info": {
   "codemirror_mode": {
    "name": "ipython",
    "version": 3
   },
   "file_extension": ".py",
   "mimetype": "text/x-python",
   "name": "python",
   "nbconvert_exporter": "python",
   "pygments_lexer": "ipython3",
   "version": "3.10.8"
  }
 },
 "nbformat": 4,
 "nbformat_minor": 5
}
