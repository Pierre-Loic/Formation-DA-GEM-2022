{
 "cells": [
  {
   "cell_type": "markdown",
   "id": "0e0388d1",
   "metadata": {},
   "source": [
    "# Activité 3 : bibliothèque Keras\n",
    "\n",
    "<img src=\"https://cdn.pixabay.com/photo/2018/11/15/00/56/neural-network-3816319_1280.png\" alt=\"reseau de neurones\" width=\"400\"/>\n",
    "\n",
    "#### [Pierre-Loic BAYART](https://www.linkedin.com/in/pierreloicbayart/) - Formation développeur d'applications spécialisation data analyst - Webforce3 - Grenoble Ecole de Management\n",
    "\n",
    "### Code pour indiquer l'importance des notions traitées dans cette activité\n",
    "\n",
    "- #### 🥇 : connaissance fondamentale pour l'analyse de données\n",
    "- #### 🥈 : connaissance importante pour l'analyse de données\n",
    "- #### 🥉 : connaissance moins importante pour l'analyse de données\n",
    "> Si rien n'est indiqué, il s'agit de connaissances fondamentales pour l'analyse de données"
   ]
  },
  {
   "cell_type": "markdown",
   "id": "1bf99037",
   "metadata": {},
   "source": [
    "## 🔍 Recherche d'informations\n",
    "\n",
    "En recherchant sur le web, trouver les réponses aux questions suivantes :\n",
    "\n",
    "### - A quoi sert la bibliothèque Keras ?\n",
    "___\n",
    "*A COMPLETER*\n",
    "___\n",
    "### - Qu'est-ce qu'une fonction d'activation ? \n",
    "___\n",
    "*A COMPLETER*\n",
    "___\n",
    "### - Qu'est-ce qu'une fonction de perte ? \n",
    "___\n",
    "*A COMPLETER*\n",
    "___\n",
    "### - Qu'est-ce que la couche de neurones d'entrée ? Par quoi est-elle définie ?\n",
    "___\n",
    "*A COMPLETER*\n",
    "___\n",
    "### - Qu'est-ce qu'une couche de neurones cachée ? Par quoi est-elle définie ?\n",
    "___\n",
    "*A COMPLETER*\n",
    "___\n",
    "### - Qu'est-ce que la couche de neurones de sortie ? Par quoi est-elle définie ?\n",
    "___\n",
    "*A COMPLETER*\n",
    "___\n",
    "### - Qu'est-ce qu'un optimiseur ? \n",
    "___\n",
    "*A COMPLETER*\n",
    "___\n",
    "### - Qu'est-ce qu'une époque ? \n",
    "___\n",
    "*A COMPLETER*\n",
    "___\n",
    "### - Qu'est-ce qu'un batch (lot) ? \n",
    "___\n",
    "*A COMPLETER*\n",
    "___"
   ]
  },
  {
   "cell_type": "markdown",
   "id": "3b81e577",
   "metadata": {},
   "source": [
    "## ✏️ Activités\n",
    "\n",
    "Pour cette partie sur les réseaux de neurones et la bibliothèque `keras`, nous allons reprendre les **données des contrôles sanitaires** des activités 1 et 2.\n",
    "\n",
    "### 🥇Analyse exploratoire des données (EDA)\n",
    "\n",
    "- Importer les **données des contrôles sanitaires** dans un **dataframe Pandas** à partir du fichier CSV créé dans l'activité 1"
   ]
  },
  {
   "cell_type": "code",
   "execution_count": null,
   "id": "6b5756bc",
   "metadata": {},
   "outputs": [],
   "source": [
    "# A COMPLETER"
   ]
  },
  {
   "cell_type": "markdown",
   "id": "ebf1512a",
   "metadata": {},
   "source": [
    "- **Détection de données aberrantes univariée** : calculer le nombre de **données aberrantes** dans la colonne \"latitude\" grâce au **z-score** (prendre un critère de z-score de 2.5 pour obtenir un résultat mais si la valeur de référence est plutôt 3). **Récupérér les lignes correspondantes**"
   ]
  },
  {
   "cell_type": "code",
   "execution_count": null,
   "id": "777c6b82",
   "metadata": {},
   "outputs": [],
   "source": [
    "# A COMPLETER"
   ]
  },
  {
   "cell_type": "markdown",
   "id": "e9a992bf",
   "metadata": {},
   "source": [
    "- **Détection de données aberrantes univariée** : même question avec la méthode de la **distance inter-quartile (comme avec les boîtes à moustaches)** (pour comme valeur de référence Q1 - 1 x IQR et Q3 + 1 x IQR pour obtenir un résultat mais si la valeur de référence est Q1 - 1.5 x IQR et Q3 + 1.5 x IQR)"
   ]
  },
  {
   "cell_type": "code",
   "execution_count": null,
   "id": "4f82985c",
   "metadata": {},
   "outputs": [],
   "source": [
    "# A COMPLETER"
   ]
  },
  {
   "cell_type": "markdown",
   "id": "9212735e",
   "metadata": {},
   "source": [
    "- **Détection de données aberrantes multivariée** : **détecter les données aberrantes** des variables \"latitude\", \"longitude\", \"semaine\" et \"jour\" à l'aide de l'algorithme de clustering **DBSCAN**. Fixer la valeur de `min_samples` à 2 et faire varier `eps` pour obtenir un nombre de données aberrantes (cluster -1) inférieur à 20 et supérieur à 0. **Afficher ces données sur une carte**.\n",
    "\n",
    "Ressource : [sklearn.cluster.DBSCAN](https://scikit-learn.org/stable/modules/generated/sklearn.cluster.DBSCAN.html)"
   ]
  },
  {
   "cell_type": "code",
   "execution_count": null,
   "id": "b876a454",
   "metadata": {},
   "outputs": [],
   "source": [
    "# A COMPLETER"
   ]
  },
  {
   "cell_type": "markdown",
   "id": "9e947fa0",
   "metadata": {},
   "source": [
    "### 🥇 Pré-traitement des données"
   ]
  },
  {
   "cell_type": "markdown",
   "id": "66c790c4",
   "metadata": {},
   "source": [
    "- **Séparer la variable cible** (nommé `y`) des autres variables. Appliquer un **`LabelEncoder()`** sur la variable cible. Créer une **variable `X`** avec les **variables quantitatives** \"latitude\", \"longitude\", \"semaine\" et \"jour\" sous forme de **tableau Numpy**.\n",
    "\n",
    "Ressource : https://scikit-learn.org/stable/modules/generated/sklearn.preprocessing.LabelEncoder.html"
   ]
  },
  {
   "cell_type": "code",
   "execution_count": null,
   "id": "afd863f5",
   "metadata": {},
   "outputs": [],
   "source": [
    "# A COMPLETER"
   ]
  },
  {
   "cell_type": "markdown",
   "id": "ad88b606",
   "metadata": {},
   "source": [
    "- Séparer les données en un **jeu d'entrainement** et un **jeu de test**\n",
    "\n",
    "Ressource : [sklearn.model_selection.train_test_split](https://scikit-learn.org/stable/modules/generated/sklearn.model_selection.train_test_split.html)"
   ]
  },
  {
   "cell_type": "code",
   "execution_count": null,
   "id": "9ea95362",
   "metadata": {},
   "outputs": [],
   "source": [
    "# A COMPLETER"
   ]
  },
  {
   "cell_type": "markdown",
   "id": "08fbdf50",
   "metadata": {},
   "source": [
    "- **Standardiser les données** car les données doivent être **standardisées** pour être utilisées par un **réseau de neurones**\n",
    "\n",
    "Ressource : [sklearn.preprocessing.StandardScaler](https://scikit-learn.org/stable/modules/generated/sklearn.preprocessing.StandardScaler.html)"
   ]
  },
  {
   "cell_type": "code",
   "execution_count": null,
   "id": "7a828e6c",
   "metadata": {},
   "outputs": [],
   "source": [
    "# A COMPLETER"
   ]
  },
  {
   "cell_type": "markdown",
   "id": "4dd54b8d",
   "metadata": {},
   "source": [
    "### 🥈Réseaux de neurones pour la classification"
   ]
  },
  {
   "cell_type": "markdown",
   "id": "e92ab0b5",
   "metadata": {},
   "source": [
    "- Compléter le code suivant pour créer un **réseau de neurones** séquentiel. Ajouter 4 couches de neurones : **couche cachée** (avec autant de neurones que de caractéristiques), une **couche cachée à 12 neurones** avec une **fonction d'activation \"tanh\"**, une **couche cachée à 24 neurones** avec une **fonction d'activation \"tanh\"** et la **couche de sortie** avec autant de neurones que de classes et une **fonction d'activation \"softmax\"**. Compiler le modèle avec une fonction de perte (loss) de type `tf.keras.losses.SparseCategoricalCrossentropy()`, un optimiseur de type `adam` et une métrique de type `accuracy`.\n",
    "\n",
    "Ressources :\n",
    "\n",
    "- [The Sequential class - keras](https://keras.io/api/models/sequential/)"
   ]
  },
  {
   "cell_type": "code",
   "execution_count": null,
   "id": "cf4a1020",
   "metadata": {},
   "outputs": [],
   "source": [
    "def create_model():\n",
    "    \"\"\"Fonction de création du réseau de neurones\"\"\"\n",
    "    # Créer un modèle de réseau de neurones séquentiel\n",
    "    # A COMPLETER\n",
    "    model = None \n",
    "    return model"
   ]
  },
  {
   "cell_type": "markdown",
   "id": "115ba93f",
   "metadata": {},
   "source": [
    "- **Visualiser la structure** du réseau de neurones.\n",
    "\n",
    "Ressource :\n",
    "\n",
    "- https://keras.io/api/models/model/#summary-method"
   ]
  },
  {
   "cell_type": "code",
   "execution_count": null,
   "id": "af392e3c",
   "metadata": {},
   "outputs": [],
   "source": [
    "# A COMPLETER"
   ]
  },
  {
   "cell_type": "markdown",
   "id": "8e368bef",
   "metadata": {},
   "source": [
    "- **Transformer le réseau de neurone Keras** en modèle **scikit-learn** grâce à `KerasClassifier` de la bibliothèque `scikeras` avec un `batch_size` de 10 et un nombre d'époques (`epochs`) de 10. **Entrainer le modèle** avec les **données d'entrainement**."
   ]
  },
  {
   "cell_type": "code",
   "execution_count": null,
   "id": "5fdc348c",
   "metadata": {},
   "outputs": [],
   "source": [
    "# A COMPLETER"
   ]
  },
  {
   "cell_type": "markdown",
   "id": "9fb0849f",
   "metadata": {},
   "source": [
    "- **Récupérer la fonction `show_metrics()`** de l'activité 1 et appliquer cette fonction au modèle. **Analyser les résultats**"
   ]
  },
  {
   "cell_type": "code",
   "execution_count": null,
   "id": "a2a1252d",
   "metadata": {},
   "outputs": [],
   "source": [
    "# A COMPLETER"
   ]
  },
  {
   "cell_type": "markdown",
   "id": "9916d9b1",
   "metadata": {},
   "source": [
    "- Essayer d'**améliorer la qualité du modèle** de réseau de neurones en modifiant les **hyperparamètres du réseau**"
   ]
  },
  {
   "cell_type": "code",
   "execution_count": null,
   "id": "010b0da6",
   "metadata": {},
   "outputs": [],
   "source": [
    "# A COMPLETER"
   ]
  },
  {
   "cell_type": "markdown",
   "id": "4f9ae8c0",
   "metadata": {},
   "source": [
    "## 🚀 Pour aller plus loin\n",
    "\n",
    "- [Documentation de Keras](https://keras.io/getting_started/)\n",
    "- [Use Keras Deep Learning Models with Scikit-Learn in Python](https://machinelearningmastery.com/use-keras-deep-learning-models-scikit-learn-python/)"
   ]
  },
  {
   "cell_type": "markdown",
   "id": "630a7e04",
   "metadata": {},
   "source": [
    "___\n",
    "*👨‍🏫 [Pierre-Loic BAYART](https://www.linkedin.com/in/pierreloicbayart/) - Formation développeur d'applications spécialisation data analyst - Webforce3 - Grenoble Ecole de Management*\n",
    "___\n",
    "Source images d'illustration : Image par Gordon Johnson de Pixabay"
   ]
  }
 ],
 "metadata": {
  "kernelspec": {
   "display_name": "Python 3 (ipykernel)",
   "language": "python",
   "name": "python3"
  },
  "language_info": {
   "codemirror_mode": {
    "name": "ipython",
    "version": 3
   },
   "file_extension": ".py",
   "mimetype": "text/x-python",
   "name": "python",
   "nbconvert_exporter": "python",
   "pygments_lexer": "ipython3",
   "version": "3.10.8"
  }
 },
 "nbformat": 4,
 "nbformat_minor": 5
}
