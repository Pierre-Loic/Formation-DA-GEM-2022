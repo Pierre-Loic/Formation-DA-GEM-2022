{
 "cells": [
  {
   "cell_type": "markdown",
   "id": "a34e0a6c",
   "metadata": {},
   "source": [
    "# Activité 2 : analyse des corrélations et des associations (EDA)\n",
    "\n",
    "<img src=\"https://cdn.pixabay.com/photo/2013/07/12/13/22/chain-146909_1280.png\" alt=\"lien\" width=\"400\"/>\n",
    "\n",
    "#### [Pierre-Loic BAYART](https://www.linkedin.com/in/pierreloicbayart/) - Formation développeur d'applications spécialisation data analyst - Webforce3 - Grenoble Ecole de Management\n",
    "\n",
    "### Code pour indiquer l'importance des notions traitées dans cette activité\n",
    "\n",
    "- #### 🥇 : connaissance fondamentale pour l'analyse de données\n",
    "- #### 🥈 : connaissance importante pour l'analyse de données\n",
    "- #### 🥉 : connaissance moins importante pour l'analyse de données\n",
    "> Si rien n'est indiqué, il s'agit de connaissances fondamentales pour l'analyse de données"
   ]
  },
  {
   "cell_type": "markdown",
   "id": "5dd3adf7",
   "metadata": {},
   "source": [
    "## 🔍 Recherche d'informations\n",
    "\n",
    "En recherchant sur le web, trouver les réponses aux questions suivantes :\n",
    "\n",
    "### - Qu'est-ce qu'un tableau de contingence ?\n",
    "___\n",
    "*A COMPLETER*\n",
    "___\n",
    "### - Comment visualiser des corrélations entre deux variables qualitatives? entre une variable qualitative et une variable quantitative ? deux variables quantitatives ? \n",
    "___\n",
    "*A COMPLETER*\n",
    "___\n",
    "### - A quoi sert le test du Khi 2 ?\n",
    "___\n",
    "*A COMPLETER*\n",
    "___\n",
    "### - A quoi sert le test de Cramer (V de Cramer) ?\n",
    "___\n",
    "*A COMPLETER*\n",
    "___\n",
    "### - A quoi sert le test de Kruskal-Wallis ?\n",
    "___\n",
    "*A COMPLETER*\n",
    "___\n",
    "### - Quelle différence y a-t-il entre la corrélation de Pearson et de Spearman ?\n",
    "___\n",
    "*A COMPLETER*\n",
    "___"
   ]
  },
  {
   "cell_type": "markdown",
   "id": "cc90e842",
   "metadata": {},
   "source": [
    "## ✏️ Activités\n",
    "\n",
    "### 🥇 Analyse de deux caractéristiques qualitatives\n",
    "\n",
    "Pour savoir si **deux caractéristiques qualitatives** sont **liées**, on utilise le **test d'association du khi 2**. Pour connaitre l'**intensité du lien**, on peut utiliser le **V de Cramer** : il est **compris entre 0 et 1** (**1** quand les variables sont **complétement dépendantes**, **0** quand les variables sont **complétement indépendantes**). On peut aussi utiliser le **T de Tschuprow**.\n",
    "\n",
    "- Importer les **données des contrôles sanitaires** dans un **dataframe Pandas** à partir du fichier CSV créé dans l'activité 1"
   ]
  },
  {
   "cell_type": "code",
   "execution_count": null,
   "id": "4ca9215d",
   "metadata": {},
   "outputs": [],
   "source": [
    "# A COMPLETER"
   ]
  },
  {
   "cell_type": "markdown",
   "id": "97849711",
   "metadata": {},
   "source": [
    "- Créer un **tableau de contingence** avec les **deux caractéristiques qualitatives** \"ods_type_activite\" et \"Synthese_eval_sanit\" (valeur cible pour la classification). **Normer les valeurs** par la somme du nombre d'individus par ligne\n",
    "\n",
    "*Ressources :*\n",
    "\n",
    "- [Tableau de contingence - Wikipédia](https://fr.wikipedia.org/wiki/Tableau_de_contingence)\n",
    "- [pandas.crosstab](https://pandas.pydata.org/docs/reference/api/pandas.crosstab.html)"
   ]
  },
  {
   "cell_type": "code",
   "execution_count": null,
   "id": "9460df2a",
   "metadata": {},
   "outputs": [],
   "source": [
    "# A COMPLETER"
   ]
  },
  {
   "cell_type": "markdown",
   "id": "1f6d9c9b",
   "metadata": {},
   "source": [
    "- Afficher le **tableau de contingence normé** sous forme d'une **carte de chaleur (heatmap)** puis d'un **graphique en bâtons**"
   ]
  },
  {
   "cell_type": "code",
   "execution_count": null,
   "id": "c97ebc0a",
   "metadata": {},
   "outputs": [],
   "source": [
    "# A COMPLETER"
   ]
  },
  {
   "cell_type": "markdown",
   "id": "2e285bf9",
   "metadata": {},
   "source": [
    "- Recalculer le **tableau de contingence** précédent mais cette fois avec les **effectifs totaux** (paramètre `margins` de la fonction `pandas.crosstab()`)"
   ]
  },
  {
   "cell_type": "code",
   "execution_count": null,
   "id": "8f6a8795",
   "metadata": {},
   "outputs": [],
   "source": [
    "# A COMPLETER"
   ]
  },
  {
   "cell_type": "markdown",
   "id": "4d5372c9",
   "metadata": {},
   "source": [
    "- A partir du **tableau de contingence** de la question précédente, calculer le **tableau des effectifs attendus** si les variables étaient **indépendantes**. A partir de ce tableau, calculer le **khi 2** grâce à la formule suivante :\n",
    "\n",
    "$${\\chi}^2=\\sum_{i,j} \\frac{(n_{i,j} - n_{i,j}^*)^2}{n_{i,j}^*}$$\n",
    "$$\\textit{Avec }n_{i,j}\\textit{ l'effectif réel et }n_{i,j}^*\\textit{ l'effectif que l'on aurait si les variables étaient indépendantes}$$"
   ]
  },
  {
   "cell_type": "code",
   "execution_count": null,
   "id": "83bf11d5",
   "metadata": {},
   "outputs": [],
   "source": [
    "# A COMPLETER"
   ]
  },
  {
   "cell_type": "markdown",
   "id": "d42986f1",
   "metadata": {},
   "source": [
    "- Grâce à la fonction [scipy.stats.chi2_contingency](https://docs.scipy.org/doc/scipy/reference/generated/scipy.stats.chi2_contingency.html), retrouver la valeur du **khi 2**, le **degré de liberté** et le **tableau des effectifs attendus** calculés à la question précédente. Grâce à la valeur de la **p-value**, indiquer si le type d'**activité** a un impact sur le **résultat du test sanitaire** (statistiquement)."
   ]
  },
  {
   "cell_type": "code",
   "execution_count": null,
   "id": "98bf7cba",
   "metadata": {},
   "outputs": [],
   "source": [
    "# A COMPLETER"
   ]
  },
  {
   "cell_type": "markdown",
   "id": "395a5df3",
   "metadata": {},
   "source": [
    "- Calculer le **V de Cramer** grâce à la formule suivante et **vérifier la valeur** en utilisant la fonction [scipy.stats.contingency.association](https://docs.scipy.org/doc/scipy/reference/generated/scipy.stats.contingency.association.html) :\n",
    "\n",
    "$$V=\\sqrt\\frac{{\\chi}^2}{n\\cdot min(c-1,r-1)}$$\n",
    "$$\\textit{Avec n l'effectif total, c le nombre de colonnes du tableau de contingence et r le nombre de lignes du tableau de contingence}$$\n",
    "\n",
    "*Source : https://en.wikipedia.org/wiki/Cram%C3%A9r%27s_V*"
   ]
  },
  {
   "cell_type": "code",
   "execution_count": null,
   "id": "2d3a7617",
   "metadata": {},
   "outputs": [],
   "source": [
    "# A COMPLETER"
   ]
  },
  {
   "cell_type": "markdown",
   "id": "7da2d6d7",
   "metadata": {},
   "source": [
    "- Calculer le **T de Tschuprow** grâce à la formule suivante et **vérifier la valeur** en utilisant la fonction [scipy.stats.contingency.association](https://docs.scipy.org/doc/scipy/reference/generated/scipy.stats.contingency.association.html) :\n",
    "\n",
    "$$T=\\sqrt\\frac{{\\chi}^2}{n\\cdot \\sqrt{(c-1)(r-1)}}$$\n",
    "$$\\textit{Avec n l'effectif total, c le nombre de colonnes du tableau de contingence et r le nombre de lignes du tableau de contingence}$$\n",
    "\n",
    "*Source : https://en.wikipedia.org/wiki/Tschuprow%27s_T*"
   ]
  },
  {
   "cell_type": "code",
   "execution_count": null,
   "id": "7a7446de",
   "metadata": {},
   "outputs": [],
   "source": [
    "# A COMPLETER"
   ]
  },
  {
   "cell_type": "markdown",
   "id": "331bd2b4",
   "metadata": {},
   "source": [
    "### 🥇 Analyse d'une caractéristique quantitative et d'une caractéristique qualitative\n",
    "\n",
    "- Analyser le **lien entre les variables** \"Synthese_eval_sanit\" et \"latitude\" d'une part et \"Synthese_eval_sanit\" et \"longitude\" d'autre part grâce au **test statistique de Kruskal-Wallis**\n",
    "\n",
    "*Ressources :*\n",
    "\n",
    "- https://fr.wikipedia.org/wiki/Test_de_Kruskal-Wallis\n",
    "- https://docs.scipy.org/doc/scipy/reference/generated/scipy.stats.kruskal.html"
   ]
  },
  {
   "cell_type": "code",
   "execution_count": null,
   "id": "9a82a808",
   "metadata": {},
   "outputs": [],
   "source": [
    "# A COMPLETER"
   ]
  },
  {
   "cell_type": "markdown",
   "id": "fcacb1c6",
   "metadata": {},
   "source": [
    "- **Analyser graphiquement** (histogrammes et boîtes à moustaches) le lien entre variables précédentes à l'aide des bibliothèques **Seaborn** et **Plotly**"
   ]
  },
  {
   "cell_type": "code",
   "execution_count": null,
   "id": "61b961dd",
   "metadata": {},
   "outputs": [],
   "source": [
    "# A COMPLETER"
   ]
  },
  {
   "cell_type": "markdown",
   "id": "66f82b8b",
   "metadata": {},
   "source": [
    "- La **force de la corrélation** entre une **variable quantitative** et une **variable qualitative** peut être mesurée par le **rapport de corrélation**. Pour le calculer, on a besoin de deux termes : la **variation totale** et la **variation interclasse**. Calculer la **variation totale** à partir de la **formule** suivante :\n",
    "\n",
    "$$\\text{variation totale = }\\sum_{i=1}^{k}\\sum_{j=1}^{n_i} (y_{ij}-\\overline{y})^2$$\n",
    "$$\\text{avec k le nombre de classes ,}{n_i}\\text{ le nombre d'élèments dans la classe i et }\\overline{y}\\text{ la moyenne de la latitude ou de la longitude}$$"
   ]
  },
  {
   "cell_type": "code",
   "execution_count": 1,
   "id": "4d23b647",
   "metadata": {},
   "outputs": [],
   "source": [
    "# A COMPLETER"
   ]
  },
  {
   "cell_type": "markdown",
   "id": "1ef00bce",
   "metadata": {},
   "source": [
    "- Calculer la **variation interclasse** à partir de la **formule** suivante :\n",
    "\n",
    "$$\\text{variation interclasse = }\\sum_{i=1}^{k}{n_i} (\\overline{y_i}-\\overline{y})^2$$\n",
    "$$\\text{avec k le nombre de classes, }{n_i}\\text{ le nombre d'élèments dans la classe i}$$\n",
    "$$\\overline{y}\\text{ la moyenne de la latitude ou de la longitude et }\\overline{y_i}\\text{ la moyenne de la latitude ou de la longitude de la classe i}$$"
   ]
  },
  {
   "cell_type": "code",
   "execution_count": null,
   "id": "c62f43e8",
   "metadata": {},
   "outputs": [],
   "source": [
    "# A COMPLETER"
   ]
  },
  {
   "cell_type": "markdown",
   "id": "dcd52fb7",
   "metadata": {},
   "source": [
    "- Calculer le **rapport de corrélation** grâce à la formule suivante (compris entre 0 et 1, **0** signifie que les **moyennes** sont **égales** et donc qu'il n'y a **pas de relation entre les variables qualitative** et **quantitative**. A l'inverse, plus la valeur est proche de 1, plus les variables sont liées) :\n",
    "\n",
    "$$\\eta^2 = \\frac{\\text{variation interclasse}}{\\text{variation totale}}$$"
   ]
  },
  {
   "cell_type": "code",
   "execution_count": null,
   "id": "86ea22ca",
   "metadata": {},
   "outputs": [],
   "source": [
    "# A COMPLETER"
   ]
  },
  {
   "cell_type": "markdown",
   "id": "e7a98bc7",
   "metadata": {},
   "source": [
    "### 🥇 Analyse de deux caractéristiques quantitatives\n",
    "\n",
    "- Calculer les **corrélations de Pearson** et **Spearman** entre la **latitude** et la **longitude**"
   ]
  },
  {
   "cell_type": "code",
   "execution_count": null,
   "id": "2eda3359",
   "metadata": {},
   "outputs": [],
   "source": [
    "# A COMPLETER"
   ]
  },
  {
   "cell_type": "markdown",
   "id": "1bb45222",
   "metadata": {},
   "source": [
    "- Tracer le **graphique de nuage de points** entre la **latitude** et la **longitude** avec la **droite de régression linéaire** (avec les bibliothèques Seaborn et Plotly)"
   ]
  },
  {
   "cell_type": "code",
   "execution_count": null,
   "id": "259cb9b2",
   "metadata": {},
   "outputs": [],
   "source": [
    "# A COMPLETER"
   ]
  },
  {
   "cell_type": "markdown",
   "id": "328a0023",
   "metadata": {},
   "source": [
    "## 🚀 Pour aller plus loin\n",
    "\n",
    "- [Cramér's V - Wikipedia](https://en.wikipedia.org/wiki/Cram%C3%A9r%27s_V)"
   ]
  },
  {
   "cell_type": "markdown",
   "id": "1a508cce",
   "metadata": {},
   "source": [
    "___\n",
    "*👨‍🏫 [Pierre-Loic BAYART](https://www.linkedin.com/in/pierreloicbayart/) - Formation développeur d'applications spécialisation data analyst - Webforce3 - Grenoble Ecole de Management*\n",
    "___\n",
    "Source images d'illustration : Image par OpenClipart-Vectors de Pixabay"
   ]
  }
 ],
 "metadata": {
  "kernelspec": {
   "display_name": "Python 3 (ipykernel)",
   "language": "python",
   "name": "python3"
  },
  "language_info": {
   "codemirror_mode": {
    "name": "ipython",
    "version": 3
   },
   "file_extension": ".py",
   "mimetype": "text/x-python",
   "name": "python",
   "nbconvert_exporter": "python",
   "pygments_lexer": "ipython3",
   "version": "3.9.6"
  }
 },
 "nbformat": 4,
 "nbformat_minor": 5
}
