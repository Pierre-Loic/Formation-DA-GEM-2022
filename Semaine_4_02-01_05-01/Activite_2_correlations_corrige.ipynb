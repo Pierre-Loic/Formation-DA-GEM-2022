{
 "cells": [
  {
   "cell_type": "markdown",
   "id": "a34e0a6c",
   "metadata": {},
   "source": [
    "# Activité 2 : analyse des corrélations et des associations (EDA)\n",
    "\n",
    "<img src=\"https://cdn.pixabay.com/photo/2013/07/12/13/22/chain-146909_1280.png\" alt=\"lien\" width=\"400\"/>\n",
    "\n",
    "#### [Pierre-Loic BAYART](https://www.linkedin.com/in/pierreloicbayart/) - Formation développeur d'applications spécialisation data analyst - Webforce3 - Grenoble Ecole de Management\n",
    "\n",
    "### Code pour indiquer l'importance des notions traitées dans cette activité\n",
    "\n",
    "- #### 🥇 : connaissance fondamentale pour l'analyse de données\n",
    "- #### 🥈 : connaissance importante pour l'analyse de données\n",
    "- #### 🥉 : connaissance moins importante pour l'analyse de données\n",
    "> Si rien n'est indiqué, il s'agit de connaissances fondamentales pour l'analyse de données"
   ]
  },
  {
   "cell_type": "markdown",
   "id": "5dd3adf7",
   "metadata": {},
   "source": [
    "## 🔍 Recherche d'informations\n",
    "\n",
    "En recherchant sur le web, trouver les réponses aux questions suivantes :\n",
    "\n",
    "### - Qu'est-ce qu'un tableau de contingence ?\n",
    "___\n",
    "Le **tableau de contingence** contient les **effectifs croisés** entre **deux variables qualitatives**.\n",
    "\n",
    "Source : https://fr.wikipedia.org/wiki/Tableau_de_contingence\n",
    "___\n",
    "### - Comment visualiser des corrélations entre deux variables qualitatives? entre une variable qualitative et une variable quantitative ? deux variables quantitatives ? \n",
    "___\n",
    "On peut visualiser l'**association entre deux variables qualitatives** grâce à un **carte de chaleur (heatmap)** sur la **tableau de contingence** ou grâce à un **graphique en bâtons normé et empilé**.\n",
    "\n",
    "On peut visualiser l'**association entre une variable qualitative et une variable quantitative** grâce à des **histogrammes** ou des **boîtes à moustaches (box plot)**.\n",
    "\n",
    "On peut visualiser la **corrélation entre deux variables quantitatives** grâce à un **nuage de points (scatter plot)**. On peut aussi ajouter sur le graphique la **droite de régression linéaire (ou polynomiale)**.\n",
    "\n",
    "Sources :\n",
    "\n",
    "- [seaborn.heatmap](https://seaborn.pydata.org/generated/seaborn.heatmap.html)\n",
    "- [Heatmaps in Python - Plotly](https://plotly.com/python/heatmaps/)\n",
    "- [seaborn.histplot](https://seaborn.pydata.org/generated/seaborn.histplot.html)\n",
    "- [Histograms in Python - Plotly](https://plotly.com/python/histograms/)\n",
    "- [seaborn.boxplot](https://seaborn.pydata.org/generated/seaborn.boxplot.html)\n",
    "- [Box Plots in Python - Plotly](https://plotly.com/python/box-plots/)\n",
    "- [Estimating regression fits - Seaborn](https://seaborn.pydata.org/tutorial/regression.html#regression-tutorial)\n",
    "- [Linear and Non-Linear Trendlines in Python - Plotly](https://plotly.com/python/linear-fits/)\n",
    "___\n",
    "### - A quoi sert le test du Khi 2 ?\n",
    "___\n",
    "Il s'agit d'un **test statistique** qui permet de savoir si **deux variables qualitatives** sont **indépendantes**. Il **ne mesure pas la force de l'association** entre les deux variables.\n",
    "\n",
    "Source : https://fr.wikipedia.org/wiki/Test_du_%CF%87%C2%B2\n",
    "___\n",
    "### - A quoi sert le test de Cramer (V de Cramer) ?\n",
    "___\n",
    "Le **V de Cramer** mesure la **force de l'association** entre **deux variables qualitatives**.\n",
    "\n",
    "Source : https://en.wikipedia.org/wiki/Cram%C3%A9r%27s_V\n",
    "___\n",
    "### - A quoi sert le test de Kruskal-Wallis ?\n",
    "___\n",
    "Il permet de savoir si **différents échantillons** proviennent d'une **même population** (le test se base sur les **médianes des échantillons**). Dans notre cas, cela permettra de savoir s'il y a un **lien** entre une **variable qualitative** et une **variable quantitative**.\n",
    "\n",
    "Source : https://fr.wikipedia.org/wiki/Test_de_Kruskal-Wallis\n",
    "___\n",
    "### - Quelle différence y a-t-il entre la corrélation de Pearson et de Spearman ?\n",
    "___\n",
    "La **corrélation de Pearson** mesure la **corrélation linéaire** entre **deux variables quantitatives** tandis que la **corrélation de Spearman** mesure une **corrélation monotone**.\n",
    "\n",
    "Source : https://fr.wikipedia.org/wiki/Corr%C3%A9lation_(statistiques)\n",
    "___"
   ]
  },
  {
   "cell_type": "markdown",
   "id": "cc90e842",
   "metadata": {},
   "source": [
    "## ✏️ Activités\n",
    "\n",
    "### 🥇 Analyse de deux caractéristiques qualitatives\n",
    "\n",
    "Pour savoir si **deux caractéristiques qualitatives** sont **liées**, on utilise le **test d'association du khi 2**. Pour connaitre l'**intensité du lien**, on peut utiliser le **V de Cramer** : il est **compris entre 0 et 1** (**1** quand les variables sont **complétement dépendantes**, **0** quand les variables sont **complétement indépendantes**). On peut aussi utiliser le **T de Tschuprow**.\n",
    "\n",
    "- Importer les **données des contrôles sanitaires** dans un **dataframe Pandas** à partir du fichier CSV créé dans l'activité 1"
   ]
  },
  {
   "cell_type": "code",
   "execution_count": 1,
   "id": "4ca9215d",
   "metadata": {},
   "outputs": [],
   "source": [
    "import pandas as pd\n",
    "import matplotlib.pyplot as plt\n",
    "import seaborn as sns\n",
    "import plotly.express as px"
   ]
  },
  {
   "cell_type": "code",
   "execution_count": 2,
   "id": "07da18d8",
   "metadata": {},
   "outputs": [
    {
     "data": {
      "text/html": [
       "<div>\n",
       "<style scoped>\n",
       "    .dataframe tbody tr th:only-of-type {\n",
       "        vertical-align: middle;\n",
       "    }\n",
       "\n",
       "    .dataframe tbody tr th {\n",
       "        vertical-align: top;\n",
       "    }\n",
       "\n",
       "    .dataframe thead th {\n",
       "        text-align: right;\n",
       "    }\n",
       "</style>\n",
       "<table border=\"1\" class=\"dataframe\">\n",
       "  <thead>\n",
       "    <tr style=\"text-align: right;\">\n",
       "      <th></th>\n",
       "      <th>APP_Libelle_activite_etablissement</th>\n",
       "      <th>Synthese_eval_sanit</th>\n",
       "      <th>ods_type_activite</th>\n",
       "      <th>latitude</th>\n",
       "      <th>longitude</th>\n",
       "      <th>semaine</th>\n",
       "      <th>jour</th>\n",
       "    </tr>\n",
       "  </thead>\n",
       "  <tbody>\n",
       "    <tr>\n",
       "      <th>0</th>\n",
       "      <td>Restaurant</td>\n",
       "      <td>Très satisfaisant</td>\n",
       "      <td>Autres</td>\n",
       "      <td>45.762926</td>\n",
       "      <td>4.832648</td>\n",
       "      <td>14</td>\n",
       "      <td>2</td>\n",
       "    </tr>\n",
       "    <tr>\n",
       "      <th>1</th>\n",
       "      <td>Alimentation générale</td>\n",
       "      <td>Très satisfaisant</td>\n",
       "      <td>Autres</td>\n",
       "      <td>45.487687</td>\n",
       "      <td>6.530501</td>\n",
       "      <td>12</td>\n",
       "      <td>3</td>\n",
       "    </tr>\n",
       "    <tr>\n",
       "      <th>2</th>\n",
       "      <td>Alimentation générale</td>\n",
       "      <td>Très satisfaisant</td>\n",
       "      <td>Autres</td>\n",
       "      <td>45.277210</td>\n",
       "      <td>6.344363</td>\n",
       "      <td>1</td>\n",
       "      <td>3</td>\n",
       "    </tr>\n",
       "    <tr>\n",
       "      <th>3</th>\n",
       "      <td>Restaurant</td>\n",
       "      <td>Satisfaisant</td>\n",
       "      <td>Autres</td>\n",
       "      <td>45.762510</td>\n",
       "      <td>4.832729</td>\n",
       "      <td>10</td>\n",
       "      <td>4</td>\n",
       "    </tr>\n",
       "    <tr>\n",
       "      <th>4</th>\n",
       "      <td>Boulangerie-Pâtisserie</td>\n",
       "      <td>Satisfaisant</td>\n",
       "      <td>Autres</td>\n",
       "      <td>45.182566</td>\n",
       "      <td>5.716843</td>\n",
       "      <td>3</td>\n",
       "      <td>4</td>\n",
       "    </tr>\n",
       "    <tr>\n",
       "      <th>...</th>\n",
       "      <td>...</td>\n",
       "      <td>...</td>\n",
       "      <td>...</td>\n",
       "      <td>...</td>\n",
       "      <td>...</td>\n",
       "      <td>...</td>\n",
       "      <td>...</td>\n",
       "    </tr>\n",
       "    <tr>\n",
       "      <th>32785</th>\n",
       "      <td>Entreposage de distribution de denrées aliment...</td>\n",
       "      <td>Très satisfaisant</td>\n",
       "      <td>Transport et entreposage de denrées alimentaires</td>\n",
       "      <td>42.482331</td>\n",
       "      <td>9.487211</td>\n",
       "      <td>18</td>\n",
       "      <td>4</td>\n",
       "    </tr>\n",
       "    <tr>\n",
       "      <th>32786</th>\n",
       "      <td>Restauration collective</td>\n",
       "      <td>Satisfaisant</td>\n",
       "      <td>Autres</td>\n",
       "      <td>42.627970</td>\n",
       "      <td>9.469757</td>\n",
       "      <td>33</td>\n",
       "      <td>3</td>\n",
       "    </tr>\n",
       "    <tr>\n",
       "      <th>32787</th>\n",
       "      <td>Boucherie-Charcuterie</td>\n",
       "      <td>Très satisfaisant</td>\n",
       "      <td>Autres</td>\n",
       "      <td>42.548024</td>\n",
       "      <td>9.525643</td>\n",
       "      <td>10</td>\n",
       "      <td>1</td>\n",
       "    </tr>\n",
       "    <tr>\n",
       "      <th>32788</th>\n",
       "      <td>Producteur fermier</td>\n",
       "      <td>Très satisfaisant</td>\n",
       "      <td>Autres</td>\n",
       "      <td>42.447770</td>\n",
       "      <td>9.172667</td>\n",
       "      <td>29</td>\n",
       "      <td>3</td>\n",
       "    </tr>\n",
       "    <tr>\n",
       "      <th>32789</th>\n",
       "      <td>Restaurant</td>\n",
       "      <td>Satisfaisant</td>\n",
       "      <td>Autres</td>\n",
       "      <td>41.928462</td>\n",
       "      <td>8.738011</td>\n",
       "      <td>9</td>\n",
       "      <td>4</td>\n",
       "    </tr>\n",
       "  </tbody>\n",
       "</table>\n",
       "<p>32790 rows × 7 columns</p>\n",
       "</div>"
      ],
      "text/plain": [
       "                      APP_Libelle_activite_etablissement Synthese_eval_sanit  \\\n",
       "0                                             Restaurant   Très satisfaisant   \n",
       "1                                  Alimentation générale   Très satisfaisant   \n",
       "2                                  Alimentation générale   Très satisfaisant   \n",
       "3                                             Restaurant        Satisfaisant   \n",
       "4                                 Boulangerie-Pâtisserie        Satisfaisant   \n",
       "...                                                  ...                 ...   \n",
       "32785  Entreposage de distribution de denrées aliment...   Très satisfaisant   \n",
       "32786                            Restauration collective        Satisfaisant   \n",
       "32787                              Boucherie-Charcuterie   Très satisfaisant   \n",
       "32788                                 Producteur fermier   Très satisfaisant   \n",
       "32789                                         Restaurant        Satisfaisant   \n",
       "\n",
       "                                      ods_type_activite   latitude  longitude  \\\n",
       "0                                                Autres  45.762926   4.832648   \n",
       "1                                                Autres  45.487687   6.530501   \n",
       "2                                                Autres  45.277210   6.344363   \n",
       "3                                                Autres  45.762510   4.832729   \n",
       "4                                                Autres  45.182566   5.716843   \n",
       "...                                                 ...        ...        ...   \n",
       "32785  Transport et entreposage de denrées alimentaires  42.482331   9.487211   \n",
       "32786                                            Autres  42.627970   9.469757   \n",
       "32787                                            Autres  42.548024   9.525643   \n",
       "32788                                            Autres  42.447770   9.172667   \n",
       "32789                                            Autres  41.928462   8.738011   \n",
       "\n",
       "       semaine  jour  \n",
       "0           14     2  \n",
       "1           12     3  \n",
       "2            1     3  \n",
       "3           10     4  \n",
       "4            3     4  \n",
       "...        ...   ...  \n",
       "32785       18     4  \n",
       "32786       33     3  \n",
       "32787       10     1  \n",
       "32788       29     3  \n",
       "32789        9     4  \n",
       "\n",
       "[32790 rows x 7 columns]"
      ]
     },
     "execution_count": 2,
     "metadata": {},
     "output_type": "execute_result"
    }
   ],
   "source": [
    "df = pd.read_csv(\"clean_data_sanitaire.csv\")\n",
    "df"
   ]
  },
  {
   "cell_type": "markdown",
   "id": "97849711",
   "metadata": {},
   "source": [
    "- Créer un **tableau de contingence** avec les **deux caractéristiques qualitatives** \"ods_type_activite\" et \"Synthese_eval_sanit\" (valeur cible pour la classification). **Normer les valeurs** par la somme du nombre d'individus par ligne\n",
    "\n",
    "*Ressources :*\n",
    "\n",
    "- [Tableau de contingence - Wikipédia](https://fr.wikipedia.org/wiki/Tableau_de_contingence)\n",
    "- [pandas.crosstab](https://pandas.pydata.org/docs/reference/api/pandas.crosstab.html)"
   ]
  },
  {
   "cell_type": "code",
   "execution_count": 3,
   "id": "9460df2a",
   "metadata": {},
   "outputs": [
    {
     "data": {
      "text/html": [
       "<div>\n",
       "<style scoped>\n",
       "    .dataframe tbody tr th:only-of-type {\n",
       "        vertical-align: middle;\n",
       "    }\n",
       "\n",
       "    .dataframe tbody tr th {\n",
       "        vertical-align: top;\n",
       "    }\n",
       "\n",
       "    .dataframe thead th {\n",
       "        text-align: right;\n",
       "    }\n",
       "</style>\n",
       "<table border=\"1\" class=\"dataframe\">\n",
       "  <thead>\n",
       "    <tr style=\"text-align: right;\">\n",
       "      <th>Synthese_eval_sanit</th>\n",
       "      <th>A améliorer</th>\n",
       "      <th>A corriger de manière urgente</th>\n",
       "      <th>Satisfaisant</th>\n",
       "      <th>Très satisfaisant</th>\n",
       "    </tr>\n",
       "    <tr>\n",
       "      <th>ods_type_activite</th>\n",
       "      <th></th>\n",
       "      <th></th>\n",
       "      <th></th>\n",
       "      <th></th>\n",
       "    </tr>\n",
       "  </thead>\n",
       "  <tbody>\n",
       "    <tr>\n",
       "      <th>Abattoirs</th>\n",
       "      <td>52</td>\n",
       "      <td>5</td>\n",
       "      <td>451</td>\n",
       "      <td>480</td>\n",
       "    </tr>\n",
       "    <tr>\n",
       "      <th>Autres</th>\n",
       "      <td>1406</td>\n",
       "      <td>108</td>\n",
       "      <td>14617</td>\n",
       "      <td>8936</td>\n",
       "    </tr>\n",
       "    <tr>\n",
       "      <th>Lait et produits laitiers</th>\n",
       "      <td>54</td>\n",
       "      <td>1</td>\n",
       "      <td>490</td>\n",
       "      <td>1108</td>\n",
       "    </tr>\n",
       "    <tr>\n",
       "      <th>Produits de la mer et d'eau douce</th>\n",
       "      <td>36</td>\n",
       "      <td>2</td>\n",
       "      <td>569</td>\n",
       "      <td>933</td>\n",
       "    </tr>\n",
       "    <tr>\n",
       "      <th>Transport et entreposage de denrées alimentaires</th>\n",
       "      <td>35</td>\n",
       "      <td>2</td>\n",
       "      <td>233</td>\n",
       "      <td>494</td>\n",
       "    </tr>\n",
       "    <tr>\n",
       "      <th>Viandes et produits carnés</th>\n",
       "      <td>112</td>\n",
       "      <td>3</td>\n",
       "      <td>1076</td>\n",
       "      <td>1176</td>\n",
       "    </tr>\n",
       "    <tr>\n",
       "      <th>Œufs et ovoproduits</th>\n",
       "      <td>12</td>\n",
       "      <td>0</td>\n",
       "      <td>114</td>\n",
       "      <td>285</td>\n",
       "    </tr>\n",
       "  </tbody>\n",
       "</table>\n",
       "</div>"
      ],
      "text/plain": [
       "Synthese_eval_sanit                               A améliorer  \\\n",
       "ods_type_activite                                               \n",
       "Abattoirs                                                  52   \n",
       "Autres                                                   1406   \n",
       "Lait et produits laitiers                                  54   \n",
       "Produits de la mer et d'eau douce                          36   \n",
       "Transport et entreposage de denrées alimentaires           35   \n",
       "Viandes et produits carnés                                112   \n",
       "Œufs et ovoproduits                                        12   \n",
       "\n",
       "Synthese_eval_sanit                               A corriger de manière urgente  \\\n",
       "ods_type_activite                                                                 \n",
       "Abattoirs                                                                     5   \n",
       "Autres                                                                      108   \n",
       "Lait et produits laitiers                                                     1   \n",
       "Produits de la mer et d'eau douce                                             2   \n",
       "Transport et entreposage de denrées alimentaires                              2   \n",
       "Viandes et produits carnés                                                    3   \n",
       "Œufs et ovoproduits                                                           0   \n",
       "\n",
       "Synthese_eval_sanit                               Satisfaisant  \\\n",
       "ods_type_activite                                                \n",
       "Abattoirs                                                  451   \n",
       "Autres                                                   14617   \n",
       "Lait et produits laitiers                                  490   \n",
       "Produits de la mer et d'eau douce                          569   \n",
       "Transport et entreposage de denrées alimentaires           233   \n",
       "Viandes et produits carnés                                1076   \n",
       "Œufs et ovoproduits                                        114   \n",
       "\n",
       "Synthese_eval_sanit                               Très satisfaisant  \n",
       "ods_type_activite                                                    \n",
       "Abattoirs                                                       480  \n",
       "Autres                                                         8936  \n",
       "Lait et produits laitiers                                      1108  \n",
       "Produits de la mer et d'eau douce                               933  \n",
       "Transport et entreposage de denrées alimentaires                494  \n",
       "Viandes et produits carnés                                     1176  \n",
       "Œufs et ovoproduits                                             285  "
      ]
     },
     "execution_count": 3,
     "metadata": {},
     "output_type": "execute_result"
    }
   ],
   "source": [
    "cross = pd.crosstab(df[\"ods_type_activite\"], df[\"Synthese_eval_sanit\"])\n",
    "cross"
   ]
  },
  {
   "cell_type": "code",
   "execution_count": 4,
   "id": "9a61f1ca",
   "metadata": {},
   "outputs": [
    {
     "data": {
      "text/html": [
       "<div>\n",
       "<style scoped>\n",
       "    .dataframe tbody tr th:only-of-type {\n",
       "        vertical-align: middle;\n",
       "    }\n",
       "\n",
       "    .dataframe tbody tr th {\n",
       "        vertical-align: top;\n",
       "    }\n",
       "\n",
       "    .dataframe thead th {\n",
       "        text-align: right;\n",
       "    }\n",
       "</style>\n",
       "<table border=\"1\" class=\"dataframe\">\n",
       "  <thead>\n",
       "    <tr style=\"text-align: right;\">\n",
       "      <th>Synthese_eval_sanit</th>\n",
       "      <th>A améliorer</th>\n",
       "      <th>A corriger de manière urgente</th>\n",
       "      <th>Satisfaisant</th>\n",
       "      <th>Très satisfaisant</th>\n",
       "    </tr>\n",
       "    <tr>\n",
       "      <th>ods_type_activite</th>\n",
       "      <th></th>\n",
       "      <th></th>\n",
       "      <th></th>\n",
       "      <th></th>\n",
       "    </tr>\n",
       "  </thead>\n",
       "  <tbody>\n",
       "    <tr>\n",
       "      <th>Abattoirs</th>\n",
       "      <td>0.052632</td>\n",
       "      <td>0.005061</td>\n",
       "      <td>0.456478</td>\n",
       "      <td>0.485830</td>\n",
       "    </tr>\n",
       "    <tr>\n",
       "      <th>Autres</th>\n",
       "      <td>0.056090</td>\n",
       "      <td>0.004308</td>\n",
       "      <td>0.583117</td>\n",
       "      <td>0.356485</td>\n",
       "    </tr>\n",
       "    <tr>\n",
       "      <th>Lait et produits laitiers</th>\n",
       "      <td>0.032668</td>\n",
       "      <td>0.000605</td>\n",
       "      <td>0.296431</td>\n",
       "      <td>0.670296</td>\n",
       "    </tr>\n",
       "    <tr>\n",
       "      <th>Produits de la mer et d'eau douce</th>\n",
       "      <td>0.023377</td>\n",
       "      <td>0.001299</td>\n",
       "      <td>0.369481</td>\n",
       "      <td>0.605844</td>\n",
       "    </tr>\n",
       "    <tr>\n",
       "      <th>Transport et entreposage de denrées alimentaires</th>\n",
       "      <td>0.045812</td>\n",
       "      <td>0.002618</td>\n",
       "      <td>0.304974</td>\n",
       "      <td>0.646597</td>\n",
       "    </tr>\n",
       "    <tr>\n",
       "      <th>Viandes et produits carnés</th>\n",
       "      <td>0.047317</td>\n",
       "      <td>0.001267</td>\n",
       "      <td>0.454584</td>\n",
       "      <td>0.496831</td>\n",
       "    </tr>\n",
       "    <tr>\n",
       "      <th>Œufs et ovoproduits</th>\n",
       "      <td>0.029197</td>\n",
       "      <td>0.000000</td>\n",
       "      <td>0.277372</td>\n",
       "      <td>0.693431</td>\n",
       "    </tr>\n",
       "  </tbody>\n",
       "</table>\n",
       "</div>"
      ],
      "text/plain": [
       "Synthese_eval_sanit                               A améliorer  \\\n",
       "ods_type_activite                                               \n",
       "Abattoirs                                            0.052632   \n",
       "Autres                                               0.056090   \n",
       "Lait et produits laitiers                            0.032668   \n",
       "Produits de la mer et d'eau douce                    0.023377   \n",
       "Transport et entreposage de denrées alimentaires     0.045812   \n",
       "Viandes et produits carnés                           0.047317   \n",
       "Œufs et ovoproduits                                  0.029197   \n",
       "\n",
       "Synthese_eval_sanit                               A corriger de manière urgente  \\\n",
       "ods_type_activite                                                                 \n",
       "Abattoirs                                                              0.005061   \n",
       "Autres                                                                 0.004308   \n",
       "Lait et produits laitiers                                              0.000605   \n",
       "Produits de la mer et d'eau douce                                      0.001299   \n",
       "Transport et entreposage de denrées alimentaires                       0.002618   \n",
       "Viandes et produits carnés                                             0.001267   \n",
       "Œufs et ovoproduits                                                    0.000000   \n",
       "\n",
       "Synthese_eval_sanit                               Satisfaisant  \\\n",
       "ods_type_activite                                                \n",
       "Abattoirs                                             0.456478   \n",
       "Autres                                                0.583117   \n",
       "Lait et produits laitiers                             0.296431   \n",
       "Produits de la mer et d'eau douce                     0.369481   \n",
       "Transport et entreposage de denrées alimentaires      0.304974   \n",
       "Viandes et produits carnés                            0.454584   \n",
       "Œufs et ovoproduits                                   0.277372   \n",
       "\n",
       "Synthese_eval_sanit                               Très satisfaisant  \n",
       "ods_type_activite                                                    \n",
       "Abattoirs                                                  0.485830  \n",
       "Autres                                                     0.356485  \n",
       "Lait et produits laitiers                                  0.670296  \n",
       "Produits de la mer et d'eau douce                          0.605844  \n",
       "Transport et entreposage de denrées alimentaires           0.646597  \n",
       "Viandes et produits carnés                                 0.496831  \n",
       "Œufs et ovoproduits                                        0.693431  "
      ]
     },
     "execution_count": 4,
     "metadata": {},
     "output_type": "execute_result"
    }
   ],
   "source": [
    "cross = cross.div(cross.sum(axis=1), axis=0)\n",
    "cross"
   ]
  },
  {
   "cell_type": "markdown",
   "id": "1f6d9c9b",
   "metadata": {},
   "source": [
    "- Afficher le **tableau de contingence normé** sous forme d'une **carte de chaleur (heatmap)** puis d'un **graphique en bâtons**"
   ]
  },
  {
   "cell_type": "code",
   "execution_count": 5,
   "id": "c97ebc0a",
   "metadata": {},
   "outputs": [
    {
     "data": {
      "image/png": "[encoded data removed]",
      "text/plain": [
       "<Figure size 1000x2000 with 2 Axes>"
      ]
     },
     "metadata": {},
     "output_type": "display_data"
    }
   ],
   "source": [
    "fig, ax = plt.subplots(figsize=(10, 20))\n",
    "ax = sns.heatmap(cross, annot=True, ax=ax)"
   ]
  },
  {
   "cell_type": "code",
   "execution_count": 6,
   "id": "af3227b7",
   "metadata": {},
   "outputs": [
    {
     "data": {
      "image/png": "[encoded data removed]",
      "text/plain": [
       "<Figure size 1000x600 with 1 Axes>"
      ]
     },
     "metadata": {},
     "output_type": "display_data"
    }
   ],
   "source": [
    "cross.plot(\n",
    "    kind='bar', stacked=True, colormap='tab10', figsize=(10, 6),\n",
    ")\n",
    "plt.show()"
   ]
  },
  {
   "cell_type": "markdown",
   "id": "2e285bf9",
   "metadata": {},
   "source": [
    "- Recalculer le **tableau de contingence** précédent mais cette fois avec les **effectifs totaux** (paramètre `margins` de la fonction `pandas.crosstab()`)"
   ]
  },
  {
   "cell_type": "code",
   "execution_count": 7,
   "id": "8f6a8795",
   "metadata": {},
   "outputs": [
    {
     "data": {
      "text/html": [
       "<div>\n",
       "<style scoped>\n",
       "    .dataframe tbody tr th:only-of-type {\n",
       "        vertical-align: middle;\n",
       "    }\n",
       "\n",
       "    .dataframe tbody tr th {\n",
       "        vertical-align: top;\n",
       "    }\n",
       "\n",
       "    .dataframe thead th {\n",
       "        text-align: right;\n",
       "    }\n",
       "</style>\n",
       "<table border=\"1\" class=\"dataframe\">\n",
       "  <thead>\n",
       "    <tr style=\"text-align: right;\">\n",
       "      <th>Synthese_eval_sanit</th>\n",
       "      <th>A améliorer</th>\n",
       "      <th>A corriger de manière urgente</th>\n",
       "      <th>Satisfaisant</th>\n",
       "      <th>Très satisfaisant</th>\n",
       "      <th>All</th>\n",
       "    </tr>\n",
       "    <tr>\n",
       "      <th>ods_type_activite</th>\n",
       "      <th></th>\n",
       "      <th></th>\n",
       "      <th></th>\n",
       "      <th></th>\n",
       "      <th></th>\n",
       "    </tr>\n",
       "  </thead>\n",
       "  <tbody>\n",
       "    <tr>\n",
       "      <th>Abattoirs</th>\n",
       "      <td>52</td>\n",
       "      <td>5</td>\n",
       "      <td>451</td>\n",
       "      <td>480</td>\n",
       "      <td>988</td>\n",
       "    </tr>\n",
       "    <tr>\n",
       "      <th>Autres</th>\n",
       "      <td>1406</td>\n",
       "      <td>108</td>\n",
       "      <td>14617</td>\n",
       "      <td>8936</td>\n",
       "      <td>25067</td>\n",
       "    </tr>\n",
       "    <tr>\n",
       "      <th>Lait et produits laitiers</th>\n",
       "      <td>54</td>\n",
       "      <td>1</td>\n",
       "      <td>490</td>\n",
       "      <td>1108</td>\n",
       "      <td>1653</td>\n",
       "    </tr>\n",
       "    <tr>\n",
       "      <th>Produits de la mer et d'eau douce</th>\n",
       "      <td>36</td>\n",
       "      <td>2</td>\n",
       "      <td>569</td>\n",
       "      <td>933</td>\n",
       "      <td>1540</td>\n",
       "    </tr>\n",
       "    <tr>\n",
       "      <th>Transport et entreposage de denrées alimentaires</th>\n",
       "      <td>35</td>\n",
       "      <td>2</td>\n",
       "      <td>233</td>\n",
       "      <td>494</td>\n",
       "      <td>764</td>\n",
       "    </tr>\n",
       "    <tr>\n",
       "      <th>Viandes et produits carnés</th>\n",
       "      <td>112</td>\n",
       "      <td>3</td>\n",
       "      <td>1076</td>\n",
       "      <td>1176</td>\n",
       "      <td>2367</td>\n",
       "    </tr>\n",
       "    <tr>\n",
       "      <th>Œufs et ovoproduits</th>\n",
       "      <td>12</td>\n",
       "      <td>0</td>\n",
       "      <td>114</td>\n",
       "      <td>285</td>\n",
       "      <td>411</td>\n",
       "    </tr>\n",
       "    <tr>\n",
       "      <th>All</th>\n",
       "      <td>1707</td>\n",
       "      <td>121</td>\n",
       "      <td>17550</td>\n",
       "      <td>13412</td>\n",
       "      <td>32790</td>\n",
       "    </tr>\n",
       "  </tbody>\n",
       "</table>\n",
       "</div>"
      ],
      "text/plain": [
       "Synthese_eval_sanit                               A améliorer  \\\n",
       "ods_type_activite                                               \n",
       "Abattoirs                                                  52   \n",
       "Autres                                                   1406   \n",
       "Lait et produits laitiers                                  54   \n",
       "Produits de la mer et d'eau douce                          36   \n",
       "Transport et entreposage de denrées alimentaires           35   \n",
       "Viandes et produits carnés                                112   \n",
       "Œufs et ovoproduits                                        12   \n",
       "All                                                      1707   \n",
       "\n",
       "Synthese_eval_sanit                               A corriger de manière urgente  \\\n",
       "ods_type_activite                                                                 \n",
       "Abattoirs                                                                     5   \n",
       "Autres                                                                      108   \n",
       "Lait et produits laitiers                                                     1   \n",
       "Produits de la mer et d'eau douce                                             2   \n",
       "Transport et entreposage de denrées alimentaires                              2   \n",
       "Viandes et produits carnés                                                    3   \n",
       "Œufs et ovoproduits                                                           0   \n",
       "All                                                                         121   \n",
       "\n",
       "Synthese_eval_sanit                               Satisfaisant  \\\n",
       "ods_type_activite                                                \n",
       "Abattoirs                                                  451   \n",
       "Autres                                                   14617   \n",
       "Lait et produits laitiers                                  490   \n",
       "Produits de la mer et d'eau douce                          569   \n",
       "Transport et entreposage de denrées alimentaires           233   \n",
       "Viandes et produits carnés                                1076   \n",
       "Œufs et ovoproduits                                        114   \n",
       "All                                                      17550   \n",
       "\n",
       "Synthese_eval_sanit                               Très satisfaisant    All  \n",
       "ods_type_activite                                                           \n",
       "Abattoirs                                                       480    988  \n",
       "Autres                                                         8936  25067  \n",
       "Lait et produits laitiers                                      1108   1653  \n",
       "Produits de la mer et d'eau douce                               933   1540  \n",
       "Transport et entreposage de denrées alimentaires                494    764  \n",
       "Viandes et produits carnés                                     1176   2367  \n",
       "Œufs et ovoproduits                                             285    411  \n",
       "All                                                           13412  32790  "
      ]
     },
     "execution_count": 7,
     "metadata": {},
     "output_type": "execute_result"
    }
   ],
   "source": [
    "cross = pd.crosstab(df[\"ods_type_activite\"], df[\"Synthese_eval_sanit\"], margins=True)\n",
    "cross"
   ]
  },
  {
   "cell_type": "markdown",
   "id": "4d5372c9",
   "metadata": {},
   "source": [
    "- A partir du **tableau de contingence** de la question précédente, calculer le **tableau des effectifs attendus** si les variables étaient **indépendantes**. A partir de ce tableau, calculer le **khi 2** grâce à la formule suivante :\n",
    "\n",
    "$${\\chi}^2=\\sum_{i,j} \\frac{(n_{i,j} - n_{i,j}^*)^2}{n_{i,j}^*}$$\n",
    "$$\\textit{Avec }n_{i,j}\\textit{ l'effectif réel et }n_{i,j}^*\\textit{ l'effectif que l'on aurait si les variables étaient indépendantes}$$"
   ]
  },
  {
   "cell_type": "code",
   "execution_count": 8,
   "id": "83bf11d5",
   "metadata": {},
   "outputs": [
    {
     "data": {
      "text/plain": [
       "Synthese_eval_sanit\n",
       "A améliorer                       1707\n",
       "A corriger de manière urgente      121\n",
       "Satisfaisant                     17550\n",
       "Très satisfaisant                13412\n",
       "All                              32790\n",
       "Name: All, dtype: int64"
      ]
     },
     "execution_count": 8,
     "metadata": {},
     "output_type": "execute_result"
    }
   ],
   "source": [
    "cross.loc[\"All\"]"
   ]
  },
  {
   "cell_type": "code",
   "execution_count": 9,
   "id": "fcfb9ff8",
   "metadata": {},
   "outputs": [
    {
     "data": {
      "text/plain": [
       "32790"
      ]
     },
     "execution_count": 9,
     "metadata": {},
     "output_type": "execute_result"
    }
   ],
   "source": [
    "cross.loc[\"All\",\"All\"]"
   ]
  },
  {
   "cell_type": "code",
   "execution_count": 10,
   "id": "aa67112b",
   "metadata": {},
   "outputs": [
    {
     "data": {
      "text/plain": [
       "ods_type_activite\n",
       "Abattoirs                                             988\n",
       "Autres                                              25067\n",
       "Lait et produits laitiers                            1653\n",
       "Produits de la mer et d'eau douce                    1540\n",
       "Transport et entreposage de denrées alimentaires      764\n",
       "Viandes et produits carnés                           2367\n",
       "Œufs et ovoproduits                                   411\n",
       "All                                                 32790\n",
       "Name: All, dtype: int64"
      ]
     },
     "execution_count": 10,
     "metadata": {},
     "output_type": "execute_result"
    }
   ],
   "source": [
    "cross[\"All\"]"
   ]
  },
  {
   "cell_type": "code",
   "execution_count": 11,
   "id": "ff41325b",
   "metadata": {},
   "outputs": [
    {
     "data": {
      "text/html": [
       "<div>\n",
       "<style scoped>\n",
       "    .dataframe tbody tr th:only-of-type {\n",
       "        vertical-align: middle;\n",
       "    }\n",
       "\n",
       "    .dataframe tbody tr th {\n",
       "        vertical-align: top;\n",
       "    }\n",
       "\n",
       "    .dataframe thead th {\n",
       "        text-align: right;\n",
       "    }\n",
       "</style>\n",
       "<table border=\"1\" class=\"dataframe\">\n",
       "  <thead>\n",
       "    <tr style=\"text-align: right;\">\n",
       "      <th></th>\n",
       "      <th>All</th>\n",
       "      <th>All</th>\n",
       "      <th>All</th>\n",
       "      <th>All</th>\n",
       "      <th>All</th>\n",
       "    </tr>\n",
       "    <tr>\n",
       "      <th>ods_type_activite</th>\n",
       "      <th></th>\n",
       "      <th></th>\n",
       "      <th></th>\n",
       "      <th></th>\n",
       "      <th></th>\n",
       "    </tr>\n",
       "  </thead>\n",
       "  <tbody>\n",
       "    <tr>\n",
       "      <th>Abattoirs</th>\n",
       "      <td>988</td>\n",
       "      <td>988</td>\n",
       "      <td>988</td>\n",
       "      <td>988</td>\n",
       "      <td>988</td>\n",
       "    </tr>\n",
       "    <tr>\n",
       "      <th>Autres</th>\n",
       "      <td>25067</td>\n",
       "      <td>25067</td>\n",
       "      <td>25067</td>\n",
       "      <td>25067</td>\n",
       "      <td>25067</td>\n",
       "    </tr>\n",
       "    <tr>\n",
       "      <th>Lait et produits laitiers</th>\n",
       "      <td>1653</td>\n",
       "      <td>1653</td>\n",
       "      <td>1653</td>\n",
       "      <td>1653</td>\n",
       "      <td>1653</td>\n",
       "    </tr>\n",
       "    <tr>\n",
       "      <th>Produits de la mer et d'eau douce</th>\n",
       "      <td>1540</td>\n",
       "      <td>1540</td>\n",
       "      <td>1540</td>\n",
       "      <td>1540</td>\n",
       "      <td>1540</td>\n",
       "    </tr>\n",
       "    <tr>\n",
       "      <th>Transport et entreposage de denrées alimentaires</th>\n",
       "      <td>764</td>\n",
       "      <td>764</td>\n",
       "      <td>764</td>\n",
       "      <td>764</td>\n",
       "      <td>764</td>\n",
       "    </tr>\n",
       "    <tr>\n",
       "      <th>Viandes et produits carnés</th>\n",
       "      <td>2367</td>\n",
       "      <td>2367</td>\n",
       "      <td>2367</td>\n",
       "      <td>2367</td>\n",
       "      <td>2367</td>\n",
       "    </tr>\n",
       "    <tr>\n",
       "      <th>Œufs et ovoproduits</th>\n",
       "      <td>411</td>\n",
       "      <td>411</td>\n",
       "      <td>411</td>\n",
       "      <td>411</td>\n",
       "      <td>411</td>\n",
       "    </tr>\n",
       "    <tr>\n",
       "      <th>All</th>\n",
       "      <td>32790</td>\n",
       "      <td>32790</td>\n",
       "      <td>32790</td>\n",
       "      <td>32790</td>\n",
       "      <td>32790</td>\n",
       "    </tr>\n",
       "  </tbody>\n",
       "</table>\n",
       "</div>"
      ],
      "text/plain": [
       "                                                    All    All    All    All  \\\n",
       "ods_type_activite                                                              \n",
       "Abattoirs                                           988    988    988    988   \n",
       "Autres                                            25067  25067  25067  25067   \n",
       "Lait et produits laitiers                          1653   1653   1653   1653   \n",
       "Produits de la mer et d'eau douce                  1540   1540   1540   1540   \n",
       "Transport et entreposage de denrées alimentaires    764    764    764    764   \n",
       "Viandes et produits carnés                         2367   2367   2367   2367   \n",
       "Œufs et ovoproduits                                 411    411    411    411   \n",
       "All                                               32790  32790  32790  32790   \n",
       "\n",
       "                                                    All  \n",
       "ods_type_activite                                        \n",
       "Abattoirs                                           988  \n",
       "Autres                                            25067  \n",
       "Lait et produits laitiers                          1653  \n",
       "Produits de la mer et d'eau douce                  1540  \n",
       "Transport et entreposage de denrées alimentaires    764  \n",
       "Viandes et produits carnés                         2367  \n",
       "Œufs et ovoproduits                                 411  \n",
       "All                                               32790  "
      ]
     },
     "execution_count": 11,
     "metadata": {},
     "output_type": "execute_result"
    }
   ],
   "source": [
    "result = pd.concat([cross[\"All\"]] * len(cross.loc[\"All\"]), axis=1)\n",
    "result"
   ]
  },
  {
   "cell_type": "code",
   "execution_count": 12,
   "id": "7ce4b5f2",
   "metadata": {},
   "outputs": [
    {
     "data": {
      "text/html": [
       "<div>\n",
       "<style scoped>\n",
       "    .dataframe tbody tr th:only-of-type {\n",
       "        vertical-align: middle;\n",
       "    }\n",
       "\n",
       "    .dataframe tbody tr th {\n",
       "        vertical-align: top;\n",
       "    }\n",
       "\n",
       "    .dataframe thead th {\n",
       "        text-align: right;\n",
       "    }\n",
       "</style>\n",
       "<table border=\"1\" class=\"dataframe\">\n",
       "  <thead>\n",
       "    <tr style=\"text-align: right;\">\n",
       "      <th>Synthese_eval_sanit</th>\n",
       "      <th>A améliorer</th>\n",
       "      <th>A corriger de manière urgente</th>\n",
       "      <th>Satisfaisant</th>\n",
       "      <th>Très satisfaisant</th>\n",
       "      <th>All</th>\n",
       "    </tr>\n",
       "    <tr>\n",
       "      <th>ods_type_activite</th>\n",
       "      <th></th>\n",
       "      <th></th>\n",
       "      <th></th>\n",
       "      <th></th>\n",
       "      <th></th>\n",
       "    </tr>\n",
       "  </thead>\n",
       "  <tbody>\n",
       "    <tr>\n",
       "      <th>Abattoirs</th>\n",
       "      <td>988</td>\n",
       "      <td>988</td>\n",
       "      <td>988</td>\n",
       "      <td>988</td>\n",
       "      <td>988</td>\n",
       "    </tr>\n",
       "    <tr>\n",
       "      <th>Autres</th>\n",
       "      <td>25067</td>\n",
       "      <td>25067</td>\n",
       "      <td>25067</td>\n",
       "      <td>25067</td>\n",
       "      <td>25067</td>\n",
       "    </tr>\n",
       "    <tr>\n",
       "      <th>Lait et produits laitiers</th>\n",
       "      <td>1653</td>\n",
       "      <td>1653</td>\n",
       "      <td>1653</td>\n",
       "      <td>1653</td>\n",
       "      <td>1653</td>\n",
       "    </tr>\n",
       "    <tr>\n",
       "      <th>Produits de la mer et d'eau douce</th>\n",
       "      <td>1540</td>\n",
       "      <td>1540</td>\n",
       "      <td>1540</td>\n",
       "      <td>1540</td>\n",
       "      <td>1540</td>\n",
       "    </tr>\n",
       "    <tr>\n",
       "      <th>Transport et entreposage de denrées alimentaires</th>\n",
       "      <td>764</td>\n",
       "      <td>764</td>\n",
       "      <td>764</td>\n",
       "      <td>764</td>\n",
       "      <td>764</td>\n",
       "    </tr>\n",
       "    <tr>\n",
       "      <th>Viandes et produits carnés</th>\n",
       "      <td>2367</td>\n",
       "      <td>2367</td>\n",
       "      <td>2367</td>\n",
       "      <td>2367</td>\n",
       "      <td>2367</td>\n",
       "    </tr>\n",
       "    <tr>\n",
       "      <th>Œufs et ovoproduits</th>\n",
       "      <td>411</td>\n",
       "      <td>411</td>\n",
       "      <td>411</td>\n",
       "      <td>411</td>\n",
       "      <td>411</td>\n",
       "    </tr>\n",
       "    <tr>\n",
       "      <th>All</th>\n",
       "      <td>32790</td>\n",
       "      <td>32790</td>\n",
       "      <td>32790</td>\n",
       "      <td>32790</td>\n",
       "      <td>32790</td>\n",
       "    </tr>\n",
       "  </tbody>\n",
       "</table>\n",
       "</div>"
      ],
      "text/plain": [
       "Synthese_eval_sanit                               A améliorer  \\\n",
       "ods_type_activite                                               \n",
       "Abattoirs                                                 988   \n",
       "Autres                                                  25067   \n",
       "Lait et produits laitiers                                1653   \n",
       "Produits de la mer et d'eau douce                        1540   \n",
       "Transport et entreposage de denrées alimentaires          764   \n",
       "Viandes et produits carnés                               2367   \n",
       "Œufs et ovoproduits                                       411   \n",
       "All                                                     32790   \n",
       "\n",
       "Synthese_eval_sanit                               A corriger de manière urgente  \\\n",
       "ods_type_activite                                                                 \n",
       "Abattoirs                                                                   988   \n",
       "Autres                                                                    25067   \n",
       "Lait et produits laitiers                                                  1653   \n",
       "Produits de la mer et d'eau douce                                          1540   \n",
       "Transport et entreposage de denrées alimentaires                            764   \n",
       "Viandes et produits carnés                                                 2367   \n",
       "Œufs et ovoproduits                                                         411   \n",
       "All                                                                       32790   \n",
       "\n",
       "Synthese_eval_sanit                               Satisfaisant  \\\n",
       "ods_type_activite                                                \n",
       "Abattoirs                                                  988   \n",
       "Autres                                                   25067   \n",
       "Lait et produits laitiers                                 1653   \n",
       "Produits de la mer et d'eau douce                         1540   \n",
       "Transport et entreposage de denrées alimentaires           764   \n",
       "Viandes et produits carnés                                2367   \n",
       "Œufs et ovoproduits                                        411   \n",
       "All                                                      32790   \n",
       "\n",
       "Synthese_eval_sanit                               Très satisfaisant    All  \n",
       "ods_type_activite                                                           \n",
       "Abattoirs                                                       988    988  \n",
       "Autres                                                        25067  25067  \n",
       "Lait et produits laitiers                                      1653   1653  \n",
       "Produits de la mer et d'eau douce                              1540   1540  \n",
       "Transport et entreposage de denrées alimentaires                764    764  \n",
       "Viandes et produits carnés                                     2367   2367  \n",
       "Œufs et ovoproduits                                             411    411  \n",
       "All                                                           32790  32790  "
      ]
     },
     "execution_count": 12,
     "metadata": {},
     "output_type": "execute_result"
    }
   ],
   "source": [
    "result.columns = cross.loc[\"All\"].index\n",
    "result"
   ]
  },
  {
   "cell_type": "code",
   "execution_count": 13,
   "id": "54d4ed05",
   "metadata": {},
   "outputs": [
    {
     "name": "stdout",
     "output_type": "stream",
     "text": [
      "Tableau des effectifs attendus si les variables étaient indépendantes : \n"
     ]
    },
    {
     "data": {
      "text/html": [
       "<div>\n",
       "<style scoped>\n",
       "    .dataframe tbody tr th:only-of-type {\n",
       "        vertical-align: middle;\n",
       "    }\n",
       "\n",
       "    .dataframe tbody tr th {\n",
       "        vertical-align: top;\n",
       "    }\n",
       "\n",
       "    .dataframe thead th {\n",
       "        text-align: right;\n",
       "    }\n",
       "</style>\n",
       "<table border=\"1\" class=\"dataframe\">\n",
       "  <thead>\n",
       "    <tr style=\"text-align: right;\">\n",
       "      <th>Synthese_eval_sanit</th>\n",
       "      <th>A améliorer</th>\n",
       "      <th>A corriger de manière urgente</th>\n",
       "      <th>Satisfaisant</th>\n",
       "      <th>Très satisfaisant</th>\n",
       "    </tr>\n",
       "    <tr>\n",
       "      <th>ods_type_activite</th>\n",
       "      <th></th>\n",
       "      <th></th>\n",
       "      <th></th>\n",
       "      <th></th>\n",
       "    </tr>\n",
       "  </thead>\n",
       "  <tbody>\n",
       "    <tr>\n",
       "      <th>Abattoirs</th>\n",
       "      <td>51.433852</td>\n",
       "      <td>3.645868</td>\n",
       "      <td>528.801464</td>\n",
       "      <td>404.118817</td>\n",
       "    </tr>\n",
       "    <tr>\n",
       "      <th>Autres</th>\n",
       "      <td>1304.951784</td>\n",
       "      <td>92.500976</td>\n",
       "      <td>13416.463861</td>\n",
       "      <td>10253.083379</td>\n",
       "    </tr>\n",
       "    <tr>\n",
       "      <th>Lait et produits laitiers</th>\n",
       "      <td>86.052790</td>\n",
       "      <td>6.099817</td>\n",
       "      <td>884.725526</td>\n",
       "      <td>676.121866</td>\n",
       "    </tr>\n",
       "    <tr>\n",
       "      <th>Produits de la mer et d'eau douce</th>\n",
       "      <td>80.170174</td>\n",
       "      <td>5.682830</td>\n",
       "      <td>824.245197</td>\n",
       "      <td>629.901799</td>\n",
       "    </tr>\n",
       "    <tr>\n",
       "      <th>Transport et entreposage de denrées alimentaires</th>\n",
       "      <td>39.772736</td>\n",
       "      <td>2.819274</td>\n",
       "      <td>408.911253</td>\n",
       "      <td>312.496737</td>\n",
       "    </tr>\n",
       "    <tr>\n",
       "      <th>Viandes et produits carnés</th>\n",
       "      <td>123.222598</td>\n",
       "      <td>8.734584</td>\n",
       "      <td>1266.875572</td>\n",
       "      <td>968.167246</td>\n",
       "    </tr>\n",
       "    <tr>\n",
       "      <th>Œufs et ovoproduits</th>\n",
       "      <td>21.396066</td>\n",
       "      <td>1.516651</td>\n",
       "      <td>219.977127</td>\n",
       "      <td>168.110156</td>\n",
       "    </tr>\n",
       "  </tbody>\n",
       "</table>\n",
       "</div>"
      ],
      "text/plain": [
       "Synthese_eval_sanit                               A améliorer  \\\n",
       "ods_type_activite                                               \n",
       "Abattoirs                                           51.433852   \n",
       "Autres                                            1304.951784   \n",
       "Lait et produits laitiers                           86.052790   \n",
       "Produits de la mer et d'eau douce                   80.170174   \n",
       "Transport et entreposage de denrées alimentaires    39.772736   \n",
       "Viandes et produits carnés                         123.222598   \n",
       "Œufs et ovoproduits                                 21.396066   \n",
       "\n",
       "Synthese_eval_sanit                               A corriger de manière urgente  \\\n",
       "ods_type_activite                                                                 \n",
       "Abattoirs                                                              3.645868   \n",
       "Autres                                                                92.500976   \n",
       "Lait et produits laitiers                                              6.099817   \n",
       "Produits de la mer et d'eau douce                                      5.682830   \n",
       "Transport et entreposage de denrées alimentaires                       2.819274   \n",
       "Viandes et produits carnés                                             8.734584   \n",
       "Œufs et ovoproduits                                                    1.516651   \n",
       "\n",
       "Synthese_eval_sanit                               Satisfaisant  \\\n",
       "ods_type_activite                                                \n",
       "Abattoirs                                           528.801464   \n",
       "Autres                                            13416.463861   \n",
       "Lait et produits laitiers                           884.725526   \n",
       "Produits de la mer et d'eau douce                   824.245197   \n",
       "Transport et entreposage de denrées alimentaires    408.911253   \n",
       "Viandes et produits carnés                         1266.875572   \n",
       "Œufs et ovoproduits                                 219.977127   \n",
       "\n",
       "Synthese_eval_sanit                               Très satisfaisant  \n",
       "ods_type_activite                                                    \n",
       "Abattoirs                                                404.118817  \n",
       "Autres                                                 10253.083379  \n",
       "Lait et produits laitiers                                676.121866  \n",
       "Produits de la mer et d'eau douce                        629.901799  \n",
       "Transport et entreposage de denrées alimentaires         312.496737  \n",
       "Viandes et produits carnés                               968.167246  \n",
       "Œufs et ovoproduits                                      168.110156  "
      ]
     },
     "execution_count": 13,
     "metadata": {},
     "output_type": "execute_result"
    }
   ],
   "source": [
    "print(\"Tableau des effectifs attendus si les variables étaient indépendantes : \")\n",
    "indep_cross = (result * cross.loc[\"All\"] / cross.loc[\"All\",\"All\"]).drop(\"All\").drop(\"All\", axis=1)\n",
    "indep_cross"
   ]
  },
  {
   "cell_type": "code",
   "execution_count": 14,
   "id": "b32909b3",
   "metadata": {},
   "outputs": [
    {
     "name": "stdout",
     "output_type": "stream",
     "text": [
      "Valeur du khi 2 : 1431.0707853069302\n"
     ]
    }
   ],
   "source": [
    "khi_2 = ((cross.drop(\"All\").drop(\"All\", axis=1) - indep_cross)**2/indep_cross).sum().sum()\n",
    "print(f\"Valeur du khi 2 : {khi_2}\")"
   ]
  },
  {
   "cell_type": "markdown",
   "id": "d42986f1",
   "metadata": {},
   "source": [
    "- Grâce à la fonction [scipy.stats.chi2_contingency](https://docs.scipy.org/doc/scipy/reference/generated/scipy.stats.chi2_contingency.html), retrouver la valeur du **khi 2**, le **degré de liberté** et le **tableau des effectifs attendus** calculés à la question précédente. Grâce à la valeur de la **p-value**, indiquer si le type d'**activité** a un impact sur le **résultat du test sanitaire** (statistiquement)."
   ]
  },
  {
   "cell_type": "code",
   "execution_count": 15,
   "id": "98bf7cba",
   "metadata": {},
   "outputs": [],
   "source": [
    "from scipy.stats import chi2_contingency"
   ]
  },
  {
   "cell_type": "code",
   "execution_count": 16,
   "id": "d9ffdeea",
   "metadata": {},
   "outputs": [
    {
     "data": {
      "text/plain": [
       "(1431.0707853069302,\n",
       " 3.043209373128411e-293,\n",
       " 18,\n",
       " array([[5.14338518e+01, 3.64586764e+00, 5.28801464e+02, 4.04118817e+02],\n",
       "        [1.30495178e+03, 9.25009759e+01, 1.34164639e+04, 1.02530834e+04],\n",
       "        [8.60527905e+01, 6.09981702e+00, 8.84725526e+02, 6.76121866e+02],\n",
       "        [8.01701738e+01, 5.68283013e+00, 8.24245197e+02, 6.29901799e+02],\n",
       "        [3.97727356e+01, 2.81927417e+00, 4.08911253e+02, 3.12496737e+02],\n",
       "        [1.23222598e+02, 8.73458371e+00, 1.26687557e+03, 9.68167246e+02],\n",
       "        [2.13960659e+01, 1.51665142e+00, 2.19977127e+02, 1.68110156e+02]]))"
      ]
     },
     "execution_count": 16,
     "metadata": {},
     "output_type": "execute_result"
    }
   ],
   "source": [
    "khi2, pval , ddl , contingent_theorique = chi2_contingency(pd.crosstab(df[\"ods_type_activite\"], df[\"Synthese_eval_sanit\"]))\n",
    "khi2, pval , ddl , contingent_theorique"
   ]
  },
  {
   "cell_type": "markdown",
   "id": "395a5df3",
   "metadata": {},
   "source": [
    "- Calculer le **V de Cramer** grâce à la formule suivante et **vérifier la valeur** en utilisant la fonction [scipy.stats.contingency.association](https://docs.scipy.org/doc/scipy/reference/generated/scipy.stats.contingency.association.html) :\n",
    "\n",
    "$$V=\\sqrt\\frac{{\\chi}^2}{n\\cdot min(c-1,r-1)}$$\n",
    "$$\\textit{Avec n l'effectif total, c le nombre de colonnes du tableau de contingence et r le nombre de lignes du tableau de contingence}$$\n",
    "\n",
    "*Source : https://en.wikipedia.org/wiki/Cram%C3%A9r%27s_V*"
   ]
  },
  {
   "cell_type": "code",
   "execution_count": 17,
   "id": "2d3a7617",
   "metadata": {},
   "outputs": [],
   "source": [
    "import math\n",
    "from scipy.stats.contingency import association"
   ]
  },
  {
   "cell_type": "code",
   "execution_count": 18,
   "id": "c42ea5f7",
   "metadata": {},
   "outputs": [
    {
     "data": {
      "text/plain": [
       "0.12061441707378054"
      ]
     },
     "execution_count": 18,
     "metadata": {},
     "output_type": "execute_result"
    }
   ],
   "source": [
    "V = math.sqrt(khi2/(df.shape[0]*3))\n",
    "V"
   ]
  },
  {
   "cell_type": "code",
   "execution_count": 19,
   "id": "4ac0b988",
   "metadata": {},
   "outputs": [
    {
     "data": {
      "text/plain": [
       "0.12061441707378054"
      ]
     },
     "execution_count": 19,
     "metadata": {},
     "output_type": "execute_result"
    }
   ],
   "source": [
    "association(pd.crosstab(df[\"ods_type_activite\"], df[\"Synthese_eval_sanit\"]), method=\"cramer\")"
   ]
  },
  {
   "cell_type": "markdown",
   "id": "7da2d6d7",
   "metadata": {},
   "source": [
    "- Calculer le **T de Tschuprow** grâce à la formule suivante et **vérifier la valeur** en utilisant la fonction [scipy.stats.contingency.association](https://docs.scipy.org/doc/scipy/reference/generated/scipy.stats.contingency.association.html) :\n",
    "\n",
    "$$T=\\sqrt\\frac{{\\chi}^2}{n\\cdot \\sqrt{(c-1)(r-1)}}$$\n",
    "$$\\textit{Avec n l'effectif total, c le nombre de colonnes du tableau de contingence et r le nombre de lignes du tableau de contingence}$$\n",
    "\n",
    "*Source : https://en.wikipedia.org/wiki/Tschuprow%27s_T*"
   ]
  },
  {
   "cell_type": "code",
   "execution_count": 20,
   "id": "7a7446de",
   "metadata": {},
   "outputs": [
    {
     "data": {
      "text/plain": [
       "0.10142423094525849"
      ]
     },
     "execution_count": 20,
     "metadata": {},
     "output_type": "execute_result"
    }
   ],
   "source": [
    "T = math.sqrt(khi2/(df.shape[0]*math.sqrt(6*3)))\n",
    "T"
   ]
  },
  {
   "cell_type": "code",
   "execution_count": 21,
   "id": "f48397ed",
   "metadata": {},
   "outputs": [
    {
     "data": {
      "text/plain": [
       "0.10142423094525847"
      ]
     },
     "execution_count": 21,
     "metadata": {},
     "output_type": "execute_result"
    }
   ],
   "source": [
    "association(pd.crosstab(df[\"ods_type_activite\"], df[\"Synthese_eval_sanit\"]), method=\"tschuprow\")"
   ]
  },
  {
   "cell_type": "markdown",
   "id": "331bd2b4",
   "metadata": {},
   "source": [
    "### 🥇 Analyse d'une caractéristique quantitative et d'une caractéristique qualitative\n",
    "\n",
    "- Analyser le **lien entre les variables** \"Synthese_eval_sanit\" et \"latitude\" d'une part et \"Synthese_eval_sanit\" et \"longitude\" d'autre part grâce au **test statistique de Kruskal-Wallis**\n",
    "\n",
    "*Ressources :*\n",
    "\n",
    "- https://fr.wikipedia.org/wiki/Test_de_Kruskal-Wallis\n",
    "- https://docs.scipy.org/doc/scipy/reference/generated/scipy.stats.kruskal.html"
   ]
  },
  {
   "cell_type": "code",
   "execution_count": null,
   "id": "9a82a808",
   "metadata": {},
   "outputs": [],
   "source": [
    "from scipy import stats"
   ]
  },
  {
   "cell_type": "code",
   "execution_count": null,
   "id": "ed3d6def",
   "metadata": {},
   "outputs": [],
   "source": [
    "kstat, pval = stats.kruskal(*[group[\"latitude\"].values for name, group in df.groupby(\"Synthese_eval_sanit\")])\n",
    "kstat, pval"
   ]
  },
  {
   "cell_type": "code",
   "execution_count": null,
   "id": "346f82c3",
   "metadata": {},
   "outputs": [],
   "source": [
    "kstat, pval = stats.kruskal(*[group[\"longitude\"].values for name, group in df.groupby(\"Synthese_eval_sanit\")])\n",
    "kstat, pval"
   ]
  },
  {
   "cell_type": "markdown",
   "id": "fcacb1c6",
   "metadata": {},
   "source": [
    "- **Aalyser graphiquement** (histogrammes et boîtes à moustaches) le lien entre variables précédentes à l'aide des bibliothèques **Seaborn** et **Plotly**"
   ]
  },
  {
   "cell_type": "code",
   "execution_count": null,
   "id": "61b961dd",
   "metadata": {},
   "outputs": [],
   "source": [
    "plt.figure(figsize=(10, 5))\n",
    "sns.histplot(data=df, x=\"longitude\", hue=\"Synthese_eval_sanit\")\n",
    "plt.show()"
   ]
  },
  {
   "cell_type": "code",
   "execution_count": null,
   "id": "7b1cedbc",
   "metadata": {},
   "outputs": [],
   "source": [
    "fig = px.histogram(df, x=\"latitude\", color=\"Synthese_eval_sanit\")\n",
    "fig.show()"
   ]
  },
  {
   "cell_type": "code",
   "execution_count": null,
   "id": "b2689da7",
   "metadata": {},
   "outputs": [],
   "source": [
    "plt.figure(figsize=(10, 5))\n",
    "sns.boxplot(data=df, x=\"latitude\", y=\"Synthese_eval_sanit\")\n",
    "plt.show()"
   ]
  },
  {
   "cell_type": "code",
   "execution_count": null,
   "id": "372071e4",
   "metadata": {},
   "outputs": [],
   "source": [
    "fig = px.box(df, x=\"longitude\", y=\"Synthese_eval_sanit\")\n",
    "fig.show()"
   ]
  },
  {
   "cell_type": "code",
   "execution_count": null,
   "id": "54637c29",
   "metadata": {},
   "outputs": [],
   "source": [
    "plt.figure(figsize=(10, 5))\n",
    "sns.boxplot(data=df, x=\"longitude\", y=\"Synthese_eval_sanit\")\n",
    "plt.show()"
   ]
  },
  {
   "cell_type": "markdown",
   "id": "011716f8",
   "metadata": {},
   "source": [
    "- La **force de la corrélation** entre une **variable quantitative** et une **variable qualitative** peut être mesurée par le **rapport de corrélation**. Pour le calculer, on a besoin de deux termes : la **variation totale** et la **variation interclasse**. Calculer la **variation totale** à partir de la **formule** suivante :\n",
    "\n",
    "$$\\text{variation totale = }\\sum_{i=1}^{k}\\sum_{j=1}^{n_i} (y_{ij}-\\overline{y})^2$$\n",
    "$$\\text{avec k le nombre de classes ,}{n_i}\\text{ le nombre d'élèments dans la classe i et }\\overline{y}\\text{ la moyenne de la latitude ou de la longitude}$$"
   ]
  },
  {
   "cell_type": "code",
   "execution_count": null,
   "id": "6c1e39bb",
   "metadata": {},
   "outputs": [],
   "source": [
    "latitude_tot_var = ((df[\"latitude\"] - df[\"latitude\"].mean())**2).sum()\n",
    "longitude_tot_var = ((df[\"longitude\"] - df[\"longitude\"].mean())**2).sum()\n",
    "latitude_tot_var, longitude_tot_var"
   ]
  },
  {
   "cell_type": "markdown",
   "id": "16dc88e7",
   "metadata": {},
   "source": [
    "- Calculer la **variation interclasse** à partir de la **formule** suivante :\n",
    "\n",
    "$$\\text{variation interclasse = }\\sum_{i=1}^{k}{n_i} (\\overline{y_i}-\\overline{y})^2$$\n",
    "$$\\text{avec k le nombre de classes, }{n_i}\\text{ le nombre d'élèments dans la classe i}$$\n",
    "$$\\overline{y}\\text{ la moyenne de la latitude ou de la longitude et }\\overline{y_i}\\text{ la moyenne de la latitude ou de la longitude de la classe i}$$"
   ]
  },
  {
   "cell_type": "code",
   "execution_count": null,
   "id": "66a24888",
   "metadata": {},
   "outputs": [],
   "source": [
    "y_bar = df[\"latitude\"].mean()\n",
    "yi_bar = df[[\"latitude\", \"Synthese_eval_sanit\"]].groupby(\"Synthese_eval_sanit\").agg([\"mean\", \"count\"])[\"latitude\"]\n",
    "latitude_inter_var = (yi_bar[\"count\"]*(yi_bar[\"mean\"] - y_bar)**2).sum()\n",
    "latitude_inter_var"
   ]
  },
  {
   "cell_type": "code",
   "execution_count": null,
   "id": "d3206683",
   "metadata": {},
   "outputs": [],
   "source": [
    "y_bar = df[\"longitude\"].mean()\n",
    "yi_bar = df[[\"longitude\", \"Synthese_eval_sanit\"]].groupby(\"Synthese_eval_sanit\").agg([\"mean\", \"count\"])[\"longitude\"]\n",
    "longitude_inter_var = (yi_bar[\"count\"]*(yi_bar[\"mean\"] - y_bar)**2).sum()\n",
    "longitude_inter_var"
   ]
  },
  {
   "cell_type": "markdown",
   "id": "9957f9c2",
   "metadata": {},
   "source": [
    "- Calculer le **rapport de corrélation** grâce à la formule suivante (compris entre 0 et 1, **0** signifie que les **moyennes** sont **égales** et donc qu'il n'y a **pas de relation entre les variables qualitative** et **quantitative**. A l'inverse, plus la valeur est proche de 1, plus les variables sont liées) :\n",
    "\n",
    "$$\\eta^2 = \\frac{\\text{variation interclasse}}{\\text{variation totale}}$$"
   ]
  },
  {
   "cell_type": "code",
   "execution_count": null,
   "id": "3e5a17cf",
   "metadata": {},
   "outputs": [],
   "source": [
    "eta_latitude = latitude_inter_var/latitude_tot_var\n",
    "eta_longitude = longitude_inter_var/longitude_tot_var\n",
    "print(f\"Le rapport de corrélation entre la latitude et le résultat du contrôle sanitaire vaut {round(eta_latitude, 2)}\")\n",
    "print(f\"Le rapport de corrélation entre la latitude et le résultat du contrôle sanitaire vaut {round(eta_longitude, 2)}\")"
   ]
  },
  {
   "cell_type": "markdown",
   "id": "e7a98bc7",
   "metadata": {},
   "source": [
    "### 🥇 Analyse de deux caractéristiques quantitatives\n",
    "\n",
    "- Calculer les **corrélations de Pearson** et **Spearman** entre la **latitude** et la **longitude**"
   ]
  },
  {
   "cell_type": "code",
   "execution_count": null,
   "id": "2eda3359",
   "metadata": {},
   "outputs": [],
   "source": [
    "pearson_corr = round(df[[\"latitude\", \"longitude\"]].corr(method='pearson').loc[\"latitude\",\"longitude\"], 2)\n",
    "spearman_corr = round(df[[\"latitude\", \"longitude\"]].corr(method='spearman').loc[\"latitude\",\"longitude\"], 2)\n",
    "print(f\"Corrélation de Pearson {pearson_corr}\")\n",
    "print(f\"Corrélation de Spearman {spearman_corr}\")"
   ]
  },
  {
   "cell_type": "markdown",
   "id": "1bb45222",
   "metadata": {},
   "source": [
    "- Tracer le **graphique de nuage de points** entre la **latitude** et la **longitude** avec la **droite de régression linéaire** (avec les bibliothèques Seaborn et Plotly)"
   ]
  },
  {
   "cell_type": "code",
   "execution_count": null,
   "id": "259cb9b2",
   "metadata": {},
   "outputs": [],
   "source": [
    "sns.jointplot(x=\"longitude\", y=\"latitude\", data=df, kind=\"reg\", scatter_kws={\"color\": \"blue\"}, line_kws={\"color\": \"red\"})\n",
    "plt.show()"
   ]
  },
  {
   "cell_type": "code",
   "execution_count": null,
   "id": "6bb7b535",
   "metadata": {},
   "outputs": [],
   "source": [
    "fig = px.scatter(df, x=\"longitude\", y=\"latitude\", trendline=\"ols\")\n",
    "fig.show()"
   ]
  },
  {
   "cell_type": "markdown",
   "id": "328a0023",
   "metadata": {},
   "source": [
    "## 🚀 Pour aller plus loin\n",
    "\n",
    "- [Cramér's V - Wikipedia](https://en.wikipedia.org/wiki/Cram%C3%A9r%27s_V)"
   ]
  },
  {
   "cell_type": "markdown",
   "id": "1a508cce",
   "metadata": {},
   "source": [
    "___\n",
    "*👨‍🏫 [Pierre-Loic BAYART](https://www.linkedin.com/in/pierreloicbayart/) - Formation développeur d'applications spécialisation data analyst - Webforce3 - Grenoble Ecole de Management*\n",
    "___\n",
    "Source images d'illustration : Image par OpenClipart-Vectors de Pixabay"
   ]
  }
 ],
 "metadata": {
  "kernelspec": {
   "display_name": "Python 3 (ipykernel)",
   "language": "python",
   "name": "python3"
  },
  "language_info": {
   "codemirror_mode": {
    "name": "ipython",
    "version": 3
   },
   "file_extension": ".py",
   "mimetype": "text/x-python",
   "name": "python",
   "nbconvert_exporter": "python",
   "pygments_lexer": "ipython3",
   "version": "3.9.6"
  }
 },
 "nbformat": 4,
 "nbformat_minor": 5
}
