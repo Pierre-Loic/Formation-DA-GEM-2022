{
 "cells": [
  {
   "cell_type": "markdown",
   "id": "e9adb2c4",
   "metadata": {},
   "source": [
    "# Activité 4 : modèles non supervisés\n",
    "\n",
    "<img src=\"https://upload.wikimedia.org/wikipedia/commons/thumb/c/c8/Cluster-2.svg/1200px-Cluster-2.svg.png\" alt=\"cluster\" width=\"400\"/>\n",
    "\n",
    "#### [Pierre-Loic BAYART](https://www.linkedin.com/in/pierreloicbayart/) - Formation développeur d'applications spécialisation data analyst - Webforce3 - Grenoble Ecole de Management\n",
    "\n",
    "### Code pour indiquer l'importance des notions traitées dans cette activité\n",
    "\n",
    "- #### 🥇 : connaissance fondamentale pour l'analyse de données\n",
    "- #### 🥈 : connaissance importante pour l'analyse de données\n",
    "- #### 🥉 : connaissance moins importante pour l'analyse de données\n",
    "> Si rien n'est indiqué, il s'agit de connaissances fondamentales pour l'analyse de données"
   ]
  },
  {
   "cell_type": "markdown",
   "id": "47a1147d",
   "metadata": {},
   "source": [
    "## 🔍 Recherche d'informations\n",
    "\n",
    "En recherchant sur le web, trouver les réponses aux questions suivantes :\n",
    "\n",
    "### - Quelle différence y a-t-il entre modèle supervisé et non supervisé ?\n",
    "___\n",
    "*A COMPLETER*\n",
    "___\n",
    "### - Citer 3 modèles de clustering\n",
    "___\n",
    "*A COMPLETER*\n",
    "___\n",
    "### - En quoi consiste la méthode du coude pour le K-means ?\n",
    "___\n",
    "*A COMPLETER*\n",
    "___\n",
    "### - A quoi correspond le coefficient de Silhouette ?\n",
    "___\n",
    "*A COMPLETER*\n",
    "___\n",
    "### - Comment fonctionne le clustering hiérarchique ?\n",
    "___\n",
    "*A COMPLETER*\n",
    "___\n",
    "### - Qu'est-ce qu'un dendrogramme ?\n",
    "___\n",
    "*A COMPLETER*\n",
    "___"
   ]
  },
  {
   "cell_type": "markdown",
   "id": "232b0095",
   "metadata": {},
   "source": [
    "## ✏️ Activités\n",
    "\n",
    "Le jeu de données que l'on va utiliser pour cette activité contient les **températures moyennes** dans **différents pays** sur plusieurs **centaines d'années**. Dans cette activité, on va travailler avec **deux algorithmes de clustering** : le **k-means** et le **clustering hiérarchique**.\n",
    "\n",
    "### 🥇 K-means clustering\n",
    "\n",
    "- **Récupérer** dans un **dataframe** Pandas les données du fichier \"GlobalTemp.csv\""
   ]
  },
  {
   "cell_type": "code",
   "execution_count": null,
   "id": "4dd8bb48",
   "metadata": {},
   "outputs": [],
   "source": [
    "# A COMPLETER"
   ]
  },
  {
   "cell_type": "markdown",
   "id": "146b61ff",
   "metadata": {},
   "source": [
    "- **Grouper les données par pays** et calculer les **grandeurs statistiques** suivantes sur les températures moyennes : **médiane, moyenne et écart-type**\n",
    "\n",
    "Ressources :\n",
    "    \n",
    "   - [pandas.DataFrame.groupby](https://pandas.pydata.org/docs/reference/api/pandas.DataFrame.groupby.html)\n",
    "   - [pandas.DataFrame.agg](https://pandas.pydata.org/docs/reference/api/pandas.DataFrame.agg.html)"
   ]
  },
  {
   "cell_type": "code",
   "execution_count": null,
   "id": "14e05115",
   "metadata": {},
   "outputs": [],
   "source": [
    "# A COMPLETER"
   ]
  },
  {
   "cell_type": "markdown",
   "id": "0e5e259d",
   "metadata": {},
   "source": [
    "- A partir de données calculées précédemment, effectuer un **clustering** à l'aide de l'algorithme de **K-means**. Ajouter un colonne au dataframe pour indiquer le **numéro du cluster de la prédiction** et afficher les données sur un graphique de **nuage de points** de la bibliothèque **Plotly**. Justifier le choix du **meilleur nombre de clusters** (méthode du coude ou score de silhouette).\n",
    "\n",
    "Ressources :\n",
    "    \n",
    "   - [sklearn.preprocessing.StandardScaler](https://scikit-learn.org/stable/modules/generated/sklearn.preprocessing.StandardScaler.html)\n",
    "   - [sklearn.pipeline.make_pipeline](https://scikit-learn.org/stable/modules/generated/sklearn.pipeline.make_pipeline.html)\n",
    "   - [sklearn.cluster.KMeans](https://scikit-learn.org/stable/modules/generated/sklearn.cluster.KMeans.html)\n",
    "   - [sklearn.metrics.silhouette_score](https://scikit-learn.org/stable/modules/generated/sklearn.metrics.silhouette_score.html)\n",
    "   - [Selecting the number of clusters with silhouette analysis on KMeans clustering](https://scikit-learn.org/stable/auto_examples/cluster/plot_kmeans_silhouette_analysis.html)\n",
    "   - [Scatter Plots in Python](https://plotly.com/python/line-and-scatter/)"
   ]
  },
  {
   "cell_type": "code",
   "execution_count": null,
   "id": "d31fdedf",
   "metadata": {},
   "outputs": [],
   "source": [
    "# A COMPLETER"
   ]
  },
  {
   "cell_type": "markdown",
   "id": "72b81248",
   "metadata": {},
   "source": [
    "### 🥇 Clustering hiérarchique\n",
    "\n",
    "- A partir de données calculées précédemment, effectuer un **clustering hiérarchique**. Afficher le **dendrogramme des données**. Valider le nombre de clusters trouvés avec l'algorithme de k-means. Ajouter un colonne au dataframe pour indiquer le **numéro du cluster de la prédiction** et afficher les données sur un graphique de **nuage de points** de la bibliothèque **Plotly**.\n",
    "\n",
    "*Ressources :*\n",
    "\n",
    "   - [scipy.cluster.hierarchy.dendrogram](https://docs.scipy.org/doc/scipy/reference/generated/scipy.cluster.hierarchy.dendrogram.html)\n",
    "   - [scipy.cluster.hierarchy.linkage](https://docs.scipy.org/doc/scipy/reference/generated/scipy.cluster.hierarchy.linkage.html)\n",
    "   - [scipy.cluster.hierarchy.fcluster](https://docs.scipy.org/doc/scipy/reference/generated/scipy.cluster.hierarchy.fcluster.html)"
   ]
  },
  {
   "cell_type": "code",
   "execution_count": null,
   "id": "0196cdf5",
   "metadata": {},
   "outputs": [],
   "source": [
    "# A COMPLETER"
   ]
  },
  {
   "cell_type": "markdown",
   "id": "d4ef6754",
   "metadata": {},
   "source": [
    "## 🚀 Pour aller plus loin\n",
    "\n",
    "- [Unsupervised learning - Scikit-learn](https://scikit-learn.org/stable/unsupervised_learning.html)"
   ]
  },
  {
   "cell_type": "markdown",
   "id": "4e62ea41",
   "metadata": {},
   "source": [
    "___\n",
    "*👨‍🏫 [Pierre-Loic BAYART](https://www.linkedin.com/in/pierreloicbayart/) - Formation développeur d'applications spécialisation data analyst - Webforce3 - Grenoble Ecole de Management*\n",
    "___\n",
    "Source images d'illustration : Image Wikipedia"
   ]
  }
 ],
 "metadata": {
  "kernelspec": {
   "display_name": "Python 3 (ipykernel)",
   "language": "python",
   "name": "python3"
  },
  "language_info": {
   "codemirror_mode": {
    "name": "ipython",
    "version": 3
   },
   "file_extension": ".py",
   "mimetype": "text/x-python",
   "name": "python",
   "nbconvert_exporter": "python",
   "pygments_lexer": "ipython3",
   "version": "3.9.6"
  }
 },
 "nbformat": 4,
 "nbformat_minor": 5
}
