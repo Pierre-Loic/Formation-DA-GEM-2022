{
 "cells": [
  {
   "cell_type": "markdown",
   "id": "e9adb2c4",
   "metadata": {},
   "source": [
    "# Activité 4 : modèles non supervisés\n",
    "\n",
    "<img src=\"https://upload.wikimedia.org/wikipedia/commons/thumb/c/c8/Cluster-2.svg/1200px-Cluster-2.svg.png\" alt=\"cluster\" width=\"400\"/>\n",
    "\n",
    "#### [Pierre-Loic BAYART](https://www.linkedin.com/in/pierreloicbayart/) - Formation développeur d'applications spécialisation data analyst - Webforce3 - Grenoble Ecole de Management\n",
    "\n",
    "### Code pour indiquer l'importance des notions traitées dans cette activité\n",
    "\n",
    "- #### 🥇 : connaissance fondamentale pour l'analyse de données\n",
    "- #### 🥈 : connaissance importante pour l'analyse de données\n",
    "- #### 🥉 : connaissance moins importante pour l'analyse de données\n",
    "> Si rien n'est indiqué, il s'agit de connaissances fondamentales pour l'analyse de données"
   ]
  },
  {
   "cell_type": "markdown",
   "id": "47a1147d",
   "metadata": {},
   "source": [
    "## 🔍 Recherche d'informations\n",
    "\n",
    "En recherchant sur le web, trouver les réponses aux questions suivantes :\n",
    "\n",
    "### - Quelle différence y a-t-il entre modèle supervisé et non supervisé ?\n",
    "___\n",
    "A la différence des modèles supervisés, les **modèles non supervisés** ne possèdent **pas de valeurs cibles (données non étiquetées)**.\n",
    "\n",
    "Source : https://fr.wikipedia.org/wiki/Apprentissage_non_supervis%C3%A9\n",
    "___\n",
    "### - Citer 3 modèles de clustering\n",
    "___\n",
    "- K-means clustering : https://scikit-learn.org/stable/modules/clustering.html#k-means\n",
    "- DBSCAN : https://scikit-learn.org/stable/modules/clustering.html#dbscan\n",
    "- Clustering hiérarchique : https://scikit-learn.org/stable/modules/clustering.html#hierarchical-clustering\n",
    "___\n",
    "### - En quoi consiste la méthode du coude pour le K-means ?\n",
    "___\n",
    "La **méthode du coude** permet de trouver le **nombre de clusters optimal** pour un algorithme de k-means.\n",
    "\n",
    "Source : https://en.wikipedia.org/wiki/Elbow_method_(clustering)\n",
    "___\n",
    "### - A quoi correspond le coefficient de Silhouette ?\n",
    "___\n",
    "Le **coefficient de Silhouette** est une **métrique** qui permet de mesurer la **qualité du regroupement des données dans les clusters**. Il peut aussi permettre de trouver le **nombre de clusters optimal** pour l'algorithme de k-means.\n",
    "\n",
    "Source : https://fr.wikipedia.org/wiki/Silhouette_(clustering)\n",
    "___\n",
    "### - Comment fonctionne le clustering hiérarchique ?\n",
    "___\n",
    "Il existe **deux types de clustering hiérarchique** : la classification **descendante** hiérarchique et la classification **ascendante** hiérarchique. La classification **ascendante hiérarchique** consiste à partir d'une situation où **tous les individus du jeu de données** sont **considérés comme des clusters** puis de les rassembler petit à petit.\n",
    "\n",
    "Source : https://fr.wikipedia.org/wiki/Regroupement_hi%C3%A9rarchique\n",
    "___\n",
    "### - Qu'est-ce qu'un dendrogramme ?\n",
    "___\n",
    "Il s'agit d'un **graphique sous forme d'arbre** qui permet de visualiser comment sont effectués les **regroupements** pour un clustering hiérarchique.\n",
    "\n",
    "Source : https://fr.wikipedia.org/wiki/Dendrogramme\n",
    "___"
   ]
  },
  {
   "cell_type": "markdown",
   "id": "232b0095",
   "metadata": {},
   "source": [
    "## ✏️ Activités\n",
    "\n",
    "Le jeu de données que l'on va utiliser pour cette activité contient les **températures moyennes** dans **différents pays** sur plusieurs **centaines d'années**. Dans cette activité, on va travailler avec **deux algorithmes de clustering** : le **k-means** et le **clustering hiérarchique**.\n",
    "\n",
    "### 🥇 K-means clustering\n",
    "\n",
    "- **Récupérer** dans un **dataframe** Pandas les données du fichier \"GlobalTemp.csv\""
   ]
  },
  {
   "cell_type": "code",
   "execution_count": 1,
   "id": "4dd8bb48",
   "metadata": {},
   "outputs": [],
   "source": [
    "import pandas as pd"
   ]
  },
  {
   "cell_type": "code",
   "execution_count": 2,
   "id": "17bc00aa",
   "metadata": {},
   "outputs": [
    {
     "data": {
      "text/html": [
       "<div>\n",
       "<style scoped>\n",
       "    .dataframe tbody tr th:only-of-type {\n",
       "        vertical-align: middle;\n",
       "    }\n",
       "\n",
       "    .dataframe tbody tr th {\n",
       "        vertical-align: top;\n",
       "    }\n",
       "\n",
       "    .dataframe thead th {\n",
       "        text-align: right;\n",
       "    }\n",
       "</style>\n",
       "<table border=\"1\" class=\"dataframe\">\n",
       "  <thead>\n",
       "    <tr style=\"text-align: right;\">\n",
       "      <th></th>\n",
       "      <th>dt</th>\n",
       "      <th>AverageTemperature</th>\n",
       "      <th>AverageTemperatureUncertainty</th>\n",
       "      <th>Country</th>\n",
       "    </tr>\n",
       "  </thead>\n",
       "  <tbody>\n",
       "    <tr>\n",
       "      <th>0</th>\n",
       "      <td>1743-11-01</td>\n",
       "      <td>4.384</td>\n",
       "      <td>2.294</td>\n",
       "      <td>Åland</td>\n",
       "    </tr>\n",
       "    <tr>\n",
       "      <th>1</th>\n",
       "      <td>1743-12-01</td>\n",
       "      <td>NaN</td>\n",
       "      <td>NaN</td>\n",
       "      <td>Åland</td>\n",
       "    </tr>\n",
       "    <tr>\n",
       "      <th>2</th>\n",
       "      <td>1744-01-01</td>\n",
       "      <td>NaN</td>\n",
       "      <td>NaN</td>\n",
       "      <td>Åland</td>\n",
       "    </tr>\n",
       "    <tr>\n",
       "      <th>3</th>\n",
       "      <td>1744-02-01</td>\n",
       "      <td>NaN</td>\n",
       "      <td>NaN</td>\n",
       "      <td>Åland</td>\n",
       "    </tr>\n",
       "    <tr>\n",
       "      <th>4</th>\n",
       "      <td>1744-03-01</td>\n",
       "      <td>NaN</td>\n",
       "      <td>NaN</td>\n",
       "      <td>Åland</td>\n",
       "    </tr>\n",
       "    <tr>\n",
       "      <th>...</th>\n",
       "      <td>...</td>\n",
       "      <td>...</td>\n",
       "      <td>...</td>\n",
       "      <td>...</td>\n",
       "    </tr>\n",
       "    <tr>\n",
       "      <th>577457</th>\n",
       "      <td>2013-05-01</td>\n",
       "      <td>19.059</td>\n",
       "      <td>1.022</td>\n",
       "      <td>Zimbabwe</td>\n",
       "    </tr>\n",
       "    <tr>\n",
       "      <th>577458</th>\n",
       "      <td>2013-06-01</td>\n",
       "      <td>17.613</td>\n",
       "      <td>0.473</td>\n",
       "      <td>Zimbabwe</td>\n",
       "    </tr>\n",
       "    <tr>\n",
       "      <th>577459</th>\n",
       "      <td>2013-07-01</td>\n",
       "      <td>17.000</td>\n",
       "      <td>0.453</td>\n",
       "      <td>Zimbabwe</td>\n",
       "    </tr>\n",
       "    <tr>\n",
       "      <th>577460</th>\n",
       "      <td>2013-08-01</td>\n",
       "      <td>19.759</td>\n",
       "      <td>0.717</td>\n",
       "      <td>Zimbabwe</td>\n",
       "    </tr>\n",
       "    <tr>\n",
       "      <th>577461</th>\n",
       "      <td>2013-09-01</td>\n",
       "      <td>NaN</td>\n",
       "      <td>NaN</td>\n",
       "      <td>Zimbabwe</td>\n",
       "    </tr>\n",
       "  </tbody>\n",
       "</table>\n",
       "<p>577462 rows × 4 columns</p>\n",
       "</div>"
      ],
      "text/plain": [
       "                dt  AverageTemperature  AverageTemperatureUncertainty  \\\n",
       "0       1743-11-01               4.384                          2.294   \n",
       "1       1743-12-01                 NaN                            NaN   \n",
       "2       1744-01-01                 NaN                            NaN   \n",
       "3       1744-02-01                 NaN                            NaN   \n",
       "4       1744-03-01                 NaN                            NaN   \n",
       "...            ...                 ...                            ...   \n",
       "577457  2013-05-01              19.059                          1.022   \n",
       "577458  2013-06-01              17.613                          0.473   \n",
       "577459  2013-07-01              17.000                          0.453   \n",
       "577460  2013-08-01              19.759                          0.717   \n",
       "577461  2013-09-01                 NaN                            NaN   \n",
       "\n",
       "         Country  \n",
       "0          Åland  \n",
       "1          Åland  \n",
       "2          Åland  \n",
       "3          Åland  \n",
       "4          Åland  \n",
       "...          ...  \n",
       "577457  Zimbabwe  \n",
       "577458  Zimbabwe  \n",
       "577459  Zimbabwe  \n",
       "577460  Zimbabwe  \n",
       "577461  Zimbabwe  \n",
       "\n",
       "[577462 rows x 4 columns]"
      ]
     },
     "execution_count": 2,
     "metadata": {},
     "output_type": "execute_result"
    }
   ],
   "source": [
    "df = pd.read_csv(\"GlobalTemp.csv\")\n",
    "df"
   ]
  },
  {
   "cell_type": "markdown",
   "id": "146b61ff",
   "metadata": {},
   "source": [
    "- **Grouper les données par pays** et calculer les **grandeurs statistiques** suivantes sur les températures moyennes : **médiane, moyenne et écart-type**\n",
    "\n",
    "Ressources :\n",
    "    \n",
    "   - [pandas.DataFrame.groupby](https://pandas.pydata.org/docs/reference/api/pandas.DataFrame.groupby.html)\n",
    "   - [pandas.DataFrame.agg](https://pandas.pydata.org/docs/reference/api/pandas.DataFrame.agg.html)"
   ]
  },
  {
   "cell_type": "code",
   "execution_count": 3,
   "id": "14e05115",
   "metadata": {},
   "outputs": [
    {
     "data": {
      "text/html": [
       "<div>\n",
       "<style scoped>\n",
       "    .dataframe tbody tr th:only-of-type {\n",
       "        vertical-align: middle;\n",
       "    }\n",
       "\n",
       "    .dataframe tbody tr th {\n",
       "        vertical-align: top;\n",
       "    }\n",
       "\n",
       "    .dataframe thead th {\n",
       "        text-align: right;\n",
       "    }\n",
       "</style>\n",
       "<table border=\"1\" class=\"dataframe\">\n",
       "  <thead>\n",
       "    <tr style=\"text-align: right;\">\n",
       "      <th></th>\n",
       "      <th>mean</th>\n",
       "      <th>median</th>\n",
       "      <th>std</th>\n",
       "    </tr>\n",
       "    <tr>\n",
       "      <th>Country</th>\n",
       "      <th></th>\n",
       "      <th></th>\n",
       "      <th></th>\n",
       "    </tr>\n",
       "  </thead>\n",
       "  <tbody>\n",
       "    <tr>\n",
       "      <th>Afghanistan</th>\n",
       "      <td>14.045007</td>\n",
       "      <td>14.0900</td>\n",
       "      <td>9.225628</td>\n",
       "    </tr>\n",
       "    <tr>\n",
       "      <th>Africa</th>\n",
       "      <td>24.074203</td>\n",
       "      <td>24.8060</td>\n",
       "      <td>1.767355</td>\n",
       "    </tr>\n",
       "    <tr>\n",
       "      <th>Albania</th>\n",
       "      <td>12.610646</td>\n",
       "      <td>12.3015</td>\n",
       "      <td>6.992006</td>\n",
       "    </tr>\n",
       "    <tr>\n",
       "      <th>Algeria</th>\n",
       "      <td>22.985112</td>\n",
       "      <td>23.1135</td>\n",
       "      <td>7.710151</td>\n",
       "    </tr>\n",
       "    <tr>\n",
       "      <th>American Samoa</th>\n",
       "      <td>26.611965</td>\n",
       "      <td>26.6080</td>\n",
       "      <td>0.612077</td>\n",
       "    </tr>\n",
       "    <tr>\n",
       "      <th>...</th>\n",
       "      <td>...</td>\n",
       "      <td>...</td>\n",
       "      <td>...</td>\n",
       "    </tr>\n",
       "    <tr>\n",
       "      <th>Western Sahara</th>\n",
       "      <td>22.319818</td>\n",
       "      <td>22.3070</td>\n",
       "      <td>4.022152</td>\n",
       "    </tr>\n",
       "    <tr>\n",
       "      <th>Yemen</th>\n",
       "      <td>26.253597</td>\n",
       "      <td>26.6430</td>\n",
       "      <td>3.788625</td>\n",
       "    </tr>\n",
       "    <tr>\n",
       "      <th>Zambia</th>\n",
       "      <td>21.282956</td>\n",
       "      <td>21.9695</td>\n",
       "      <td>2.373674</td>\n",
       "    </tr>\n",
       "    <tr>\n",
       "      <th>Zimbabwe</th>\n",
       "      <td>21.117547</td>\n",
       "      <td>22.2840</td>\n",
       "      <td>3.097284</td>\n",
       "    </tr>\n",
       "    <tr>\n",
       "      <th>Åland</th>\n",
       "      <td>5.291383</td>\n",
       "      <td>4.5705</td>\n",
       "      <td>7.168692</td>\n",
       "    </tr>\n",
       "  </tbody>\n",
       "</table>\n",
       "<p>242 rows × 3 columns</p>\n",
       "</div>"
      ],
      "text/plain": [
       "                     mean   median       std\n",
       "Country                                     \n",
       "Afghanistan     14.045007  14.0900  9.225628\n",
       "Africa          24.074203  24.8060  1.767355\n",
       "Albania         12.610646  12.3015  6.992006\n",
       "Algeria         22.985112  23.1135  7.710151\n",
       "American Samoa  26.611965  26.6080  0.612077\n",
       "...                   ...      ...       ...\n",
       "Western Sahara  22.319818  22.3070  4.022152\n",
       "Yemen           26.253597  26.6430  3.788625\n",
       "Zambia          21.282956  21.9695  2.373674\n",
       "Zimbabwe        21.117547  22.2840  3.097284\n",
       "Åland            5.291383   4.5705  7.168692\n",
       "\n",
       "[242 rows x 3 columns]"
      ]
     },
     "execution_count": 3,
     "metadata": {},
     "output_type": "execute_result"
    }
   ],
   "source": [
    "group_stat = df[[\"AverageTemperature\", \"Country\"]].groupby(\"Country\").agg([\"mean\", \"median\", \"std\"])\n",
    "group_stat.columns = group_stat.columns.droplevel()\n",
    "group_stat = group_stat.dropna()\n",
    "group_stat"
   ]
  },
  {
   "cell_type": "markdown",
   "id": "0e5e259d",
   "metadata": {},
   "source": [
    "- A partir de données calculées précédemment, effectuer un **clustering** à l'aide de l'algorithme de **K-means**. Ajouter un colonne au dataframe pour indiquer le **numéro du cluster de la prédiction** et afficher les données sur un graphique de **nuage de points** de la bibliothèque **Plotly**. Justifier le choix du **meilleur nombre de clusters** (méthode du coude ou score de silhouette).\n",
    "\n",
    "Ressources :\n",
    "    \n",
    "   - [sklearn.preprocessing.StandardScaler](https://scikit-learn.org/stable/modules/generated/sklearn.preprocessing.StandardScaler.html)\n",
    "   - [sklearn.pipeline.make_pipeline](https://scikit-learn.org/stable/modules/generated/sklearn.pipeline.make_pipeline.html)\n",
    "   - [sklearn.cluster.KMeans](https://scikit-learn.org/stable/modules/generated/sklearn.cluster.KMeans.html)\n",
    "   - [sklearn.metrics.silhouette_score](https://scikit-learn.org/stable/modules/generated/sklearn.metrics.silhouette_score.html)\n",
    "   - [Selecting the number of clusters with silhouette analysis on KMeans clustering](https://scikit-learn.org/stable/auto_examples/cluster/plot_kmeans_silhouette_analysis.html)\n",
    "   - [Scatter Plots in Python](https://plotly.com/python/line-and-scatter/)"
   ]
  },
  {
   "cell_type": "code",
   "execution_count": 5,
   "id": "d31fdedf",
   "metadata": {},
   "outputs": [],
   "source": [
    "from sklearn.pipeline import make_pipeline\n",
    "from sklearn.preprocessing import StandardScaler\n",
    "from sklearn.cluster import KMeans\n",
    "from sklearn.metrics import silhouette_score, silhouette_samples\n",
    "import matplotlib.pyplot as plt\n",
    "import plotly.express as px\n",
    "import matplotlib.cm as cm\n",
    "import numpy as np"
   ]
  },
  {
   "cell_type": "code",
   "execution_count": 6,
   "id": "ba6369da",
   "metadata": {},
   "outputs": [
    {
     "data": {
      "image/png": "[encoded data removed]",
      "text/plain": [
       "<Figure size 1000x700 with 1 Axes>"
      ]
     },
     "metadata": {},
     "output_type": "display_data"
    }
   ],
   "source": [
    "def elbow_chart(data, min_cluster=2, max_cluster=15, print_values=False):\n",
    "    inertia={}\n",
    "    for i in range(min_cluster, max_cluster):\n",
    "        scaler = StandardScaler()\n",
    "        kmeans = KMeans(n_clusters=i, random_state=0, n_init=10)\n",
    "        pipeline = make_pipeline(scaler, kmeans)\n",
    "        pipeline.fit(data)\n",
    "        inertia[i]=pipeline[1].inertia_\n",
    "    # Show chart\n",
    "    plt.figure(figsize=(10, 7))\n",
    "    plt.plot(inertia.keys(), inertia.values(), 'bx-')\n",
    "    plt.xlabel(\"Nombre de clusters\")\n",
    "    plt.ylabel(\"Somme des carré des distances aux clusters\")\n",
    "    plt.title(\"Analyse de l'inertie des clusters - méthode du coude\")\n",
    "    plt.show()\n",
    "    # Show values\n",
    "    if print_values is True:\n",
    "        print(inertia)\n",
    "\n",
    "elbow_chart(group_stat)"
   ]
  },
  {
   "cell_type": "markdown",
   "id": "f9702899",
   "metadata": {},
   "source": [
    "Grâce à la **méthode du coude (elbow method)**, on observe que le **nombre optimal de cluster** est **5**."
   ]
  },
  {
   "cell_type": "code",
   "execution_count": 7,
   "id": "399075f3",
   "metadata": {},
   "outputs": [
    {
     "data": {
      "image/png": "[encoded data removed]",
      "text/plain": [
       "<Figure size 1000x700 with 1 Axes>"
      ]
     },
     "metadata": {},
     "output_type": "display_data"
    }
   ],
   "source": [
    "def silhouette_chart(data, min_cluster=2, max_cluster=15, print_values=False):\n",
    "    silhouette={}\n",
    "    for i in range(min_cluster, max_cluster):\n",
    "        scaler = StandardScaler()\n",
    "        kmeans = KMeans(n_clusters=i, random_state=0, n_init=10)\n",
    "        pipeline = make_pipeline(scaler, kmeans)\n",
    "        predictions = pipeline.fit_predict(data)\n",
    "        silhouette[i] = silhouette_score(data, predictions)\n",
    "    # Show chart\n",
    "    plt.figure(figsize=(10, 7))\n",
    "    plt.plot(silhouette.keys(), silhouette.values(), 'bx-')\n",
    "    plt.xlabel(\"Nombre de clusters\")\n",
    "    plt.ylabel(\"Silhouette score\")\n",
    "    plt.title(\"Analyse du score de silhouette des clusters\")\n",
    "    plt.show()\n",
    "    # Show values\n",
    "    if print_values is True:\n",
    "        print(silhouette)\n",
    "    \n",
    "silhouette_chart(group_stat)"
   ]
  },
  {
   "cell_type": "code",
   "execution_count": 8,
   "id": "0581894d",
   "metadata": {},
   "outputs": [
    {
     "data": {
      "image/png": "[encoded data removed]",
      "text/plain": [
       "<Figure size 800x800 with 1 Axes>"
      ]
     },
     "metadata": {},
     "output_type": "display_data"
    },
    {
     "data": {
      "image/png": "[encoded data removed]",
      "text/plain": [
       "<Figure size 800x800 with 1 Axes>"
      ]
     },
     "metadata": {},
     "output_type": "display_data"
    },
    {
     "data": {
      "image/png": "[encoded data removed]",
      "text/plain": [
       "<Figure size 800x800 with 1 Axes>"
      ]
     },
     "metadata": {},
     "output_type": "display_data"
    },
    {
     "data": {
      "image/png": "[encoded data removed]",
      "text/plain": [
       "<Figure size 800x800 with 1 Axes>"
      ]
     },
     "metadata": {},
     "output_type": "display_data"
    },
    {
     "data": {
      "image/png": "[encoded data removed]",
      "text/plain": [
       "<Figure size 800x800 with 1 Axes>"
      ]
     },
     "metadata": {},
     "output_type": "display_data"
    },
    {
     "data": {
      "image/png": "[encoded data removed]",
      "text/plain": [
       "<Figure size 800x800 with 1 Axes>"
      ]
     },
     "metadata": {},
     "output_type": "display_data"
    }
   ],
   "source": [
    "for n_clusters in range(2, 8):\n",
    "    # Création du graphique\n",
    "    fig, ax = plt.subplots(1, 1, figsize=(8,8))\n",
    "    ax.set_xlim([-0.2, 1])\n",
    "    ax.set_ylim([0, len(group_stat) + (n_clusters + 1) * 10])\n",
    "    # Création du modèle de Kmeans\n",
    "    scaler = StandardScaler()\n",
    "    kmeans = KMeans(n_clusters=n_clusters, n_init=10, random_state=0)\n",
    "    pipeline = make_pipeline(scaler, kmeans)\n",
    "    cluster_labels = pipeline.fit_predict(group_stat)\n",
    "    # Coefficient de silhouette moyen\n",
    "    silhouette_avg = silhouette_score(group_stat, cluster_labels)\n",
    "    # Coefficient de silhouette individuel\n",
    "    sample_silhouette_values = silhouette_samples(group_stat, cluster_labels)\n",
    "    # Positionnement du début du cluster sur l'axe y\n",
    "    y_lower = 10\n",
    "    # Affichage des différents clusters\n",
    "    for i in range(n_clusters):\n",
    "        ith_cluster_silhouette_values = sample_silhouette_values[cluster_labels == i]\n",
    "        ith_cluster_silhouette_values.sort()\n",
    "        # Positionnement du cluster sur l'axe y\n",
    "        size_cluster_i = ith_cluster_silhouette_values.shape[0]\n",
    "        y_upper = y_lower + size_cluster_i\n",
    "        # Choix de la couleur du cluster\n",
    "        color = cm.nipy_spectral(float(i) / n_clusters)\n",
    "        ax.fill_betweenx(\n",
    "            np.arange(y_lower, y_upper),\n",
    "            0,\n",
    "            ith_cluster_silhouette_values,\n",
    "            facecolor=color,\n",
    "            edgecolor=color,\n",
    "            alpha=0.7,\n",
    "        )\n",
    "        # Ajout du numéro des clusters\n",
    "        ax.text(-0.05, y_lower + 0.5 * size_cluster_i, str(i))\n",
    "        # Décalage de 10 pour une séparation entre les 2 clusters\n",
    "        y_lower = y_upper + 10\n",
    "    \n",
    "    # Ajout du titre et des légendes\n",
    "    ax.set_title(f\"Coefficients de silhouette pour {n_clusters} clusters.\")\n",
    "    ax.set_xlabel(\"Coefficients de silhouette pour chaque donnée\")\n",
    "    ax.set_ylabel(\"Numéro des clusters\")\n",
    "    # Ligne verticale pour le coefficient de silhouette moyen\n",
    "    ax.axvline(x=silhouette_avg, color=\"red\", linestyle=\"--\")\n",
    "    # Echelles des axes x et y\n",
    "    ax.set_yticks([])\n",
    "    ax.set_xticks([-0.1, 0, 0.2, 0.4, 0.6, 0.8, 1])\n",
    "\n",
    "plt.show()"
   ]
  },
  {
   "cell_type": "code",
   "execution_count": 14,
   "id": "148bc69e",
   "metadata": {},
   "outputs": [
    {
     "data": {
      "text/html": [
       "<div>\n",
       "<style scoped>\n",
       "    .dataframe tbody tr th:only-of-type {\n",
       "        vertical-align: middle;\n",
       "    }\n",
       "\n",
       "    .dataframe tbody tr th {\n",
       "        vertical-align: top;\n",
       "    }\n",
       "\n",
       "    .dataframe thead th {\n",
       "        text-align: right;\n",
       "    }\n",
       "</style>\n",
       "<table border=\"1\" class=\"dataframe\">\n",
       "  <thead>\n",
       "    <tr style=\"text-align: right;\">\n",
       "      <th></th>\n",
       "      <th>mean</th>\n",
       "      <th>median</th>\n",
       "      <th>std</th>\n",
       "      <th>cluster_index</th>\n",
       "    </tr>\n",
       "    <tr>\n",
       "      <th>Country</th>\n",
       "      <th></th>\n",
       "      <th></th>\n",
       "      <th></th>\n",
       "      <th></th>\n",
       "    </tr>\n",
       "  </thead>\n",
       "  <tbody>\n",
       "    <tr>\n",
       "      <th>Afghanistan</th>\n",
       "      <td>14.045007</td>\n",
       "      <td>14.0900</td>\n",
       "      <td>9.225628</td>\n",
       "      <td>1</td>\n",
       "    </tr>\n",
       "    <tr>\n",
       "      <th>Africa</th>\n",
       "      <td>24.074203</td>\n",
       "      <td>24.8060</td>\n",
       "      <td>1.767355</td>\n",
       "      <td>0</td>\n",
       "    </tr>\n",
       "    <tr>\n",
       "      <th>Albania</th>\n",
       "      <td>12.610646</td>\n",
       "      <td>12.3015</td>\n",
       "      <td>6.992006</td>\n",
       "      <td>1</td>\n",
       "    </tr>\n",
       "    <tr>\n",
       "      <th>Algeria</th>\n",
       "      <td>22.985112</td>\n",
       "      <td>23.1135</td>\n",
       "      <td>7.710151</td>\n",
       "      <td>0</td>\n",
       "    </tr>\n",
       "    <tr>\n",
       "      <th>American Samoa</th>\n",
       "      <td>26.611965</td>\n",
       "      <td>26.6080</td>\n",
       "      <td>0.612077</td>\n",
       "      <td>0</td>\n",
       "    </tr>\n",
       "    <tr>\n",
       "      <th>...</th>\n",
       "      <td>...</td>\n",
       "      <td>...</td>\n",
       "      <td>...</td>\n",
       "      <td>...</td>\n",
       "    </tr>\n",
       "    <tr>\n",
       "      <th>Western Sahara</th>\n",
       "      <td>22.319818</td>\n",
       "      <td>22.3070</td>\n",
       "      <td>4.022152</td>\n",
       "      <td>0</td>\n",
       "    </tr>\n",
       "    <tr>\n",
       "      <th>Yemen</th>\n",
       "      <td>26.253597</td>\n",
       "      <td>26.6430</td>\n",
       "      <td>3.788625</td>\n",
       "      <td>0</td>\n",
       "    </tr>\n",
       "    <tr>\n",
       "      <th>Zambia</th>\n",
       "      <td>21.282956</td>\n",
       "      <td>21.9695</td>\n",
       "      <td>2.373674</td>\n",
       "      <td>0</td>\n",
       "    </tr>\n",
       "    <tr>\n",
       "      <th>Zimbabwe</th>\n",
       "      <td>21.117547</td>\n",
       "      <td>22.2840</td>\n",
       "      <td>3.097284</td>\n",
       "      <td>0</td>\n",
       "    </tr>\n",
       "    <tr>\n",
       "      <th>Åland</th>\n",
       "      <td>5.291383</td>\n",
       "      <td>4.5705</td>\n",
       "      <td>7.168692</td>\n",
       "      <td>1</td>\n",
       "    </tr>\n",
       "  </tbody>\n",
       "</table>\n",
       "<p>242 rows × 4 columns</p>\n",
       "</div>"
      ],
      "text/plain": [
       "                     mean   median       std  cluster_index\n",
       "Country                                                    \n",
       "Afghanistan     14.045007  14.0900  9.225628              1\n",
       "Africa          24.074203  24.8060  1.767355              0\n",
       "Albania         12.610646  12.3015  6.992006              1\n",
       "Algeria         22.985112  23.1135  7.710151              0\n",
       "American Samoa  26.611965  26.6080  0.612077              0\n",
       "...                   ...      ...       ...            ...\n",
       "Western Sahara  22.319818  22.3070  4.022152              0\n",
       "Yemen           26.253597  26.6430  3.788625              0\n",
       "Zambia          21.282956  21.9695  2.373674              0\n",
       "Zimbabwe        21.117547  22.2840  3.097284              0\n",
       "Åland            5.291383   4.5705  7.168692              1\n",
       "\n",
       "[242 rows x 4 columns]"
      ]
     },
     "execution_count": 14,
     "metadata": {},
     "output_type": "execute_result"
    }
   ],
   "source": [
    "scaler = StandardScaler()\n",
    "kmeans = KMeans(n_init=10, n_clusters = 2)\n",
    "pipeline = make_pipeline(scaler, kmeans)\n",
    "cluster_index = pipeline.fit_predict(group_stat)\n",
    "group_stat[\"cluster_index\"] = cluster_index\n",
    "group_stat"
   ]
  },
  {
   "cell_type": "code",
   "execution_count": 15,
   "id": "687de5da",
   "metadata": {},
   "outputs": [
    {
     "data": {
      "application/vnd.plotly.v1+json": {
       "config": {
        "plotlyServerURL": "https://plot.ly"
       },
       "data": [
        {
         "customdata": [
          [
           "Afghanistan"
          ],
          [
           "Africa"
          ],
          [
           "Albania"
          ],
          [
           "Algeria"
          ],
          [
           "American Samoa"
          ],
          [
           "Andorra"
          ],
          [
           "Angola"
          ],
          [
           "Anguilla"
          ],
          [
           "Antigua And Barbuda"
          ],
          [
           "Argentina"
          ],
          [
           "Armenia"
          ],
          [
           "Aruba"
          ],
          [
           "Asia"
          ],
          [
           "Australia"
          ],
          [
           "Austria"
          ],
          [
           "Azerbaijan"
          ],
          [
           "Bahamas"
          ],
          [
           "Bahrain"
          ],
          [
           "Baker Island"
          ],
          [
           "Bangladesh"
          ],
          [
           "Barbados"
          ],
          [
           "Belarus"
          ],
          [
           "Belgium"
          ],
          [
           "Belize"
          ],
          [
           "Benin"
          ],
          [
           "Bhutan"
          ],
          [
           "Bolivia"
          ],
          [
           "Bonaire, Saint Eustatius And Saba"
          ],
          [
           "Bosnia And Herzegovina"
          ],
          [
           "Botswana"
          ],
          [
           "Brazil"
          ],
          [
           "British Virgin Islands"
          ],
          [
           "Bulgaria"
          ],
          [
           "Burkina Faso"
          ],
          [
           "Burma"
          ],
          [
           "Burundi"
          ],
          [
           "Cambodia"
          ],
          [
           "Cameroon"
          ],
          [
           "Canada"
          ],
          [
           "Cape Verde"
          ],
          [
           "Cayman Islands"
          ],
          [
           "Central African Republic"
          ],
          [
           "Chad"
          ],
          [
           "Chile"
          ],
          [
           "China"
          ],
          [
           "Christmas Island"
          ],
          [
           "Colombia"
          ],
          [
           "Comoros"
          ],
          [
           "Congo"
          ],
          [
           "Congo (Democratic Republic Of The)"
          ],
          [
           "Costa Rica"
          ],
          [
           "Croatia"
          ],
          [
           "Cuba"
          ],
          [
           "Curaçao"
          ],
          [
           "Cyprus"
          ],
          [
           "Czech Republic"
          ],
          [
           "Côte D'Ivoire"
          ],
          [
           "Denmark"
          ],
          [
           "Denmark (Europe)"
          ],
          [
           "Djibouti"
          ],
          [
           "Dominica"
          ],
          [
           "Dominican Republic"
          ],
          [
           "Ecuador"
          ],
          [
           "Egypt"
          ],
          [
           "El Salvador"
          ],
          [
           "Equatorial Guinea"
          ],
          [
           "Eritrea"
          ],
          [
           "Estonia"
          ],
          [
           "Ethiopia"
          ],
          [
           "Europe"
          ],
          [
           "Falkland Islands (Islas Malvinas)"
          ],
          [
           "Faroe Islands"
          ],
          [
           "Federated States Of Micronesia"
          ],
          [
           "Fiji"
          ],
          [
           "Finland"
          ],
          [
           "France"
          ],
          [
           "France (Europe)"
          ],
          [
           "French Guiana"
          ],
          [
           "French Polynesia"
          ],
          [
           "French Southern And Antarctic Lands"
          ],
          [
           "Gabon"
          ],
          [
           "Gambia"
          ],
          [
           "Gaza Strip"
          ],
          [
           "Georgia"
          ],
          [
           "Germany"
          ],
          [
           "Ghana"
          ],
          [
           "Greece"
          ],
          [
           "Greenland"
          ],
          [
           "Grenada"
          ],
          [
           "Guadeloupe"
          ],
          [
           "Guam"
          ],
          [
           "Guatemala"
          ],
          [
           "Guernsey"
          ],
          [
           "Guinea"
          ],
          [
           "Guinea Bissau"
          ],
          [
           "Guyana"
          ],
          [
           "Haiti"
          ],
          [
           "Heard Island And Mcdonald Islands"
          ],
          [
           "Honduras"
          ],
          [
           "Hong Kong"
          ],
          [
           "Hungary"
          ],
          [
           "Iceland"
          ],
          [
           "India"
          ],
          [
           "Indonesia"
          ],
          [
           "Iran"
          ],
          [
           "Iraq"
          ],
          [
           "Ireland"
          ],
          [
           "Isle Of Man"
          ],
          [
           "Israel"
          ],
          [
           "Italy"
          ],
          [
           "Jamaica"
          ],
          [
           "Japan"
          ],
          [
           "Jersey"
          ],
          [
           "Jordan"
          ],
          [
           "Kazakhstan"
          ],
          [
           "Kenya"
          ],
          [
           "Kingman Reef"
          ],
          [
           "Kiribati"
          ],
          [
           "Kuwait"
          ],
          [
           "Kyrgyzstan"
          ],
          [
           "Laos"
          ],
          [
           "Latvia"
          ],
          [
           "Lebanon"
          ],
          [
           "Lesotho"
          ],
          [
           "Liberia"
          ],
          [
           "Libya"
          ],
          [
           "Liechtenstein"
          ],
          [
           "Lithuania"
          ],
          [
           "Luxembourg"
          ],
          [
           "Macau"
          ],
          [
           "Macedonia"
          ],
          [
           "Madagascar"
          ],
          [
           "Malawi"
          ],
          [
           "Malaysia"
          ],
          [
           "Mali"
          ],
          [
           "Malta"
          ],
          [
           "Martinique"
          ],
          [
           "Mauritania"
          ],
          [
           "Mauritius"
          ],
          [
           "Mayotte"
          ],
          [
           "Mexico"
          ],
          [
           "Moldova"
          ],
          [
           "Monaco"
          ],
          [
           "Mongolia"
          ],
          [
           "Montenegro"
          ],
          [
           "Montserrat"
          ],
          [
           "Morocco"
          ],
          [
           "Mozambique"
          ],
          [
           "Namibia"
          ],
          [
           "Nepal"
          ],
          [
           "Netherlands"
          ],
          [
           "Netherlands (Europe)"
          ],
          [
           "New Caledonia"
          ],
          [
           "New Zealand"
          ],
          [
           "Nicaragua"
          ],
          [
           "Niger"
          ],
          [
           "Nigeria"
          ],
          [
           "Niue"
          ],
          [
           "North America"
          ],
          [
           "North Korea"
          ],
          [
           "Northern Mariana Islands"
          ],
          [
           "Norway"
          ],
          [
           "Oceania"
          ],
          [
           "Oman"
          ],
          [
           "Pakistan"
          ],
          [
           "Palau"
          ],
          [
           "Palestina"
          ],
          [
           "Palmyra Atoll"
          ],
          [
           "Panama"
          ],
          [
           "Papua New Guinea"
          ],
          [
           "Paraguay"
          ],
          [
           "Peru"
          ],
          [
           "Philippines"
          ],
          [
           "Poland"
          ],
          [
           "Portugal"
          ],
          [
           "Puerto Rico"
          ],
          [
           "Qatar"
          ],
          [
           "Reunion"
          ],
          [
           "Romania"
          ],
          [
           "Russia"
          ],
          [
           "Rwanda"
          ],
          [
           "Saint Barthélemy"
          ],
          [
           "Saint Kitts And Nevis"
          ],
          [
           "Saint Lucia"
          ],
          [
           "Saint Martin"
          ],
          [
           "Saint Pierre And Miquelon"
          ],
          [
           "Saint Vincent And The Grenadines"
          ],
          [
           "Samoa"
          ],
          [
           "San Marino"
          ],
          [
           "Sao Tome And Principe"
          ],
          [
           "Saudi Arabia"
          ],
          [
           "Senegal"
          ],
          [
           "Serbia"
          ],
          [
           "Seychelles"
          ],
          [
           "Sierra Leone"
          ],
          [
           "Singapore"
          ],
          [
           "Sint Maarten"
          ],
          [
           "Slovakia"
          ],
          [
           "Slovenia"
          ],
          [
           "Solomon Islands"
          ],
          [
           "Somalia"
          ],
          [
           "South Africa"
          ],
          [
           "South America"
          ],
          [
           "South Georgia And The South Sandwich Isla"
          ],
          [
           "South Korea"
          ],
          [
           "Spain"
          ],
          [
           "Sri Lanka"
          ],
          [
           "Sudan"
          ],
          [
           "Suriname"
          ],
          [
           "Svalbard And Jan Mayen"
          ],
          [
           "Swaziland"
          ],
          [
           "Sweden"
          ],
          [
           "Switzerland"
          ],
          [
           "Syria"
          ],
          [
           "Taiwan"
          ],
          [
           "Tajikistan"
          ],
          [
           "Tanzania"
          ],
          [
           "Thailand"
          ],
          [
           "Timor Leste"
          ],
          [
           "Togo"
          ],
          [
           "Tonga"
          ],
          [
           "Trinidad And Tobago"
          ],
          [
           "Tunisia"
          ],
          [
           "Turkey"
          ],
          [
           "Turkmenistan"
          ],
          [
           "Turks And Caicas Islands"
          ],
          [
           "Uganda"
          ],
          [
           "Ukraine"
          ],
          [
           "United Arab Emirates"
          ],
          [
           "United Kingdom"
          ],
          [
           "United Kingdom (Europe)"
          ],
          [
           "United States"
          ],
          [
           "Uruguay"
          ],
          [
           "Uzbekistan"
          ],
          [
           "Venezuela"
          ],
          [
           "Vietnam"
          ],
          [
           "Virgin Islands"
          ],
          [
           "Western Sahara"
          ],
          [
           "Yemen"
          ],
          [
           "Zambia"
          ],
          [
           "Zimbabwe"
          ],
          [
           "Åland"
          ]
         ],
         "hovertemplate": "mean=%{x}<br>std=%{y}<br>Country=%{customdata[0]}<br>cluster_index=%{marker.color}<extra></extra>",
         "legendgroup": "",
         "marker": {
          "color": [
           1,
           0,
           1,
           0,
           0,
           1,
           0,
           0,
           0,
           1,
           1,
           0,
           1,
           0,
           1,
           1,
           0,
           0,
           0,
           0,
           0,
           1,
           1,
           0,
           0,
           1,
           0,
           0,
           1,
           0,
           0,
           0,
           1,
           0,
           0,
           0,
           0,
           0,
           1,
           0,
           0,
           0,
           0,
           1,
           1,
           0,
           0,
           0,
           0,
           0,
           0,
           1,
           0,
           0,
           0,
           1,
           0,
           1,
           1,
           0,
           0,
           0,
           0,
           0,
           0,
           0,
           0,
           1,
           0,
           1,
           1,
           1,
           0,
           0,
           1,
           1,
           1,
           0,
           0,
           1,
           0,
           0,
           0,
           1,
           1,
           0,
           1,
           1,
           0,
           0,
           0,
           0,
           1,
           0,
           0,
           0,
           0,
           1,
           0,
           0,
           1,
           1,
           0,
           0,
           0,
           0,
           1,
           1,
           0,
           1,
           0,
           1,
           1,
           0,
           1,
           0,
           0,
           0,
           0,
           1,
           0,
           1,
           0,
           1,
           0,
           0,
           1,
           1,
           1,
           0,
           1,
           0,
           0,
           0,
           0,
           0,
           0,
           0,
           0,
           0,
           0,
           1,
           1,
           1,
           1,
           0,
           0,
           0,
           0,
           0,
           1,
           1,
           0,
           1,
           0,
           0,
           0,
           0,
           1,
           1,
           0,
           1,
           0,
           0,
           0,
           0,
           0,
           0,
           0,
           0,
           0,
           0,
           0,
           1,
           1,
           0,
           0,
           0,
           1,
           1,
           0,
           0,
           0,
           0,
           0,
           1,
           0,
           0,
           1,
           0,
           0,
           0,
           1,
           0,
           0,
           0,
           0,
           1,
           1,
           0,
           0,
           0,
           0,
           1,
           1,
           1,
           0,
           0,
           0,
           1,
           0,
           1,
           1,
           0,
           0,
           1,
           0,
           0,
           0,
           0,
           0,
           0,
           0,
           1,
           1,
           0,
           0,
           1,
           0,
           1,
           1,
           1,
           0,
           1,
           0,
           0,
           0,
           0,
           0,
           0,
           0,
           1
          ],
          "coloraxis": "coloraxis",
          "symbol": "circle"
         },
         "mode": "markers",
         "name": "",
         "orientation": "v",
         "showlegend": false,
         "type": "scatter",
         "x": [
          14.045007194244604,
          24.074202745512142,
          12.610645925457991,
          22.98511176905996,
          26.611965009208106,
          11.201553063802905,
          21.824549189814817,
          26.61049185043145,
          26.437924256951103,
          14.621194210526316,
          8.551647926634768,
          27.92039022051774,
          7.3478922231614545,
          21.62469689119171,
          6.210731838281744,
          11.175936074918567,
          25.12822004008016,
          25.9308093346574,
          25.37235023279876,
          24.820242783708977,
          26.458547938638542,
          5.819288060644346,
          9.483378395451673,
          25.052099776286354,
          27.17199943181818,
          11.811878969957082,
          20.87723052631579,
          27.17329482262704,
          10.421283954516742,
          21.87929669156884,
          24.699255545286505,
          26.336523239099186,
          10.482968414403032,
          28.083506760411034,
          23.706197239536955,
          20.07099012775842,
          26.65685403576607,
          24.352585590778098,
          -5.216658945686901,
          24.185563568376068,
          26.722504150283967,
          25.280406916426514,
          27.120466282420747,
          9.383473684210525,
          6.612731031349386,
          25.784654071314527,
          24.716870967741936,
          25.70220930232558,
          24.462931988472622,
          23.77366493955095,
          25.61578443420379,
          11.342399873657612,
          25.40742638706859,
          27.353414669223397,
          18.787745686421605,
          7.62601926721415,
          25.94853606027987,
          -18.053050699300698,
          7.832859444093493,
          28.8166025331725,
          26.110151486097795,
          25.547511210762334,
          21.869970347003154,
          22.620693031209917,
          24.906704545454545,
          24.921677809798272,
          26.802653110047846,
          4.819805748578648,
          23.01235675997618,
          7.830063802905875,
          6.076773492667029,
          6.619001579279849,
          26.944357771260997,
          25.038671779141108,
          1.244742261528743,
          12.772445672773216,
          10.416045799115604,
          25.718151106833492,
          26.10709611829945,
          4.9831111111111115,
          24.254725648414986,
          27.538551816239316,
          19.192636960985627,
          8.106881895881896,
          8.152496209728364,
          26.711013551665726,
          14.773012002526848,
          -18.58745804195804,
          26.741952061361456,
          26.32956088207095,
          26.996834337349398,
          23.111650494159928,
          10.928408717624762,
          25.452353098290597,
          26.76136664885088,
          25.930920115495667,
          26.295837740923353,
          2.5621149425287357,
          24.69554799459216,
          22.65989491362764,
          9.722423246999368,
          1.4050650663297535,
          23.873789473684212,
          25.684483767961684,
          17.607076451156207,
          21.775628879310347,
          9.419558433354391,
          9.365805432722679,
          19.62657730263158,
          12.737121920404297,
          26.096339563862927,
          11.951907335907336,
          10.928408717624762,
          19.346512587701195,
          5.202144758735441,
          24.102428231089934,
          27.13303443877551,
          26.73686534779834,
          25.098140232108317,
          3.2204981651376143,
          23.574696349065007,
          5.320545167403664,
          17.63161773078487,
          13.726681793913508,
          25.37773793103448,
          22.268253938484623,
          4.642939039797852,
          5.9079917877447885,
          9.165196462413139,
          22.418374760076777,
          10.375550852811118,
          22.74904594441293,
          21.431086144578316,
          25.80544200779727,
          28.44197657082002,
          18.494875319693094,
          26.110151486097795,
          27.62025550435228,
          23.522653983353152,
          26.340961429381736,
          20.567558041958044,
          8.9317166771952,
          9.024701831964624,
          -0.8206709844559585,
          10.214629500947568,
          26.383128475551292,
          17.627497409326423,
          23.59619475878499,
          20.484495197438637,
          14.8073906122449,
          9.504604548325963,
          9.112799115603284,
          22.700108194965186,
          10.371239107883817,
          25.957508780036967,
          27.458972540045767,
          26.744708309122604,
          25.094878453038675,
          2.0283738920225622,
          6.748336832061068,
          26.996834337349398,
          0.09580385344283004,
          21.452989119170983,
          26.91686266589729,
          20.615513304305757,
          27.216379332477533,
          23.125663223140496,
          27.16345599489796,
          26.291620638085742,
          24.450801898734177,
          23.237967557251906,
          19.935974230044,
          26.44047248677249,
          7.46020593809223,
          14.688179987212276,
          25.45196166746526,
          26.784996015936255,
          23.30140309155767,
          8.76090176879343,
          -5.521881912681913,
          19.244422183507552,
          26.61049185043145,
          25.85218600191755,
          26.646838446788113,
          26.61049185043145,
          4.223059955113818,
          26.78944870565676,
          26.33186249232658,
          13.83142229943146,
          25.794386167146975,
          25.546407835258666,
          27.967375,
          9.986563171193936,
          26.738423142370962,
          26.022571277159514,
          26.52310282651072,
          26.61049185043145,
          7.527216993051168,
          9.659700568540746,
          26.62503698979592,
          26.877085169743896,
          17.27098291510945,
          21.823920081967213,
          1.4010251017639077,
          11.849048745173745,
          13.61283417561592,
          26.947687001594897,
          27.09335942857143,
          26.17166313763234,
          -7.448027925531916,
          18.839807261078484,
          2.3863319646241314,
          6.992051484523057,
          17.917548596990645,
          21.937427536231883,
          4.016035217794253,
          22.34791097178683,
          25.986800979519145,
          25.96633271832718,
          26.87178275666478,
          23.236247852760737,
          26.118751198465965,
          19.97059047314578,
          11.631567300916139,
          14.781998181818182,
          26.662733508082134,
          23.03296871378911,
          7.653507264687303,
          27.693994700582934,
          8.489325331648768,
          8.655788060644346,
          8.60357252215955,
          17.149306774809162,
          12.278015938069217,
          25.025685522531163,
          23.688365504061156,
          26.336523239099186,
          22.319817823343847,
          26.253596725288055,
          21.282955621301774,
          21.117547246376812,
          5.291383449147189
         ],
         "xaxis": "x",
         "y": [
          9.22562808625195,
          1.767354847496902,
          6.992006287211512,
          7.710150754484953,
          0.6120770600169315,
          5.928616295931718,
          1.7184771947955395,
          1.3555329238374858,
          1.2857756404667053,
          4.846885372622607,
          9.129693354475645,
          1.3911996311105628,
          10.175788761725702,
          4.892713813117062,
          7.456458427285005,
          8.560555380867868,
          2.474313549852231,
          6.958616798690009,
          0.6156200033763826,
          3.8328640822696864,
          0.9945080788027457,
          9.178329682789132,
          6.126352152150472,
          1.8155079646035455,
          1.72026516574545,
          5.13554248378667,
          1.8602313412544929,
          1.2863402710379725,
          7.438805502807681,
          4.197290454208352,
          0.9787871649300676,
          1.3855149270052693,
          7.896491130298435,
          2.266461331357714,
          2.9020568074838216,
          0.6970731459822641,
          1.5142333525568399,
          1.1077033169722081,
          12.8780740920338,
          1.940633570916004,
          1.6596842496868078,
          1.2769302192082443,
          3.2090259277101514,
          3.179080620264985,
          9.949540012363524,
          0.7286037777380647,
          0.629906483493919,
          1.347392624748093,
          0.8808244931649554,
          0.676270803659174,
          0.8414134137944984,
          7.57692966498353,
          1.8401068038996988,
          1.2472216694377878,
          5.686996152989589,
          7.6219770945783125,
          1.2385920825038106,
          10.751181257805143,
          6.383069875476387,
          3.1389393423531535,
          1.16056970673339,
          1.4020999902936253,
          0.723098900533994,
          6.163713892631002,
          1.0887503202727669,
          1.0735528632667226,
          2.3732843144775573,
          8.90192810226672,
          1.0837167249740771,
          7.312509526753876,
          2.4303221490417837,
          2.7969551150558947,
          0.46502803851094626,
          1.3271885666119596,
          9.582648586002069,
          4.85715722461509,
          5.914469821783125,
          0.7772037506226586,
          0.9034971898203613,
          2.390626525797838,
          1.0899023139111501,
          1.801731772934069,
          6.064324719576567,
          7.740732654924595,
          6.913426969118257,
          1.4590526633375913,
          6.848276813677991,
          10.850605640881401,
          0.8569940230214902,
          1.241968944604149,
          0.6870656891128817,
          1.6318559759764726,
          3.8809929454169105,
          1.6410205972307552,
          1.463588717849196,
          0.7527485149691309,
          1.3795929917869032,
          1.8654320631338301,
          1.476551904111696,
          4.831397319666742,
          8.315091682597352,
          4.665084039602603,
          4.325811210417991,
          0.5192638063275156,
          8.559339449287426,
          9.18955363380385,
          3.8037139517942484,
          3.5755028938769087,
          5.855596821462984,
          6.479437813825746,
          1.238230705668306,
          8.18912107262786,
          3.8809929454169105,
          7.064419230433743,
          13.323474545386347,
          1.0409934603285838,
          0.633833721942144,
          0.723480365632823,
          8.482860767559828,
          10.361933462918305,
          3.0968406824426897,
          8.844474224655611,
          6.222384288501838,
          4.335276266985067,
          1.0212396567854427,
          6.524369972676989,
          7.024037957710207,
          8.572383550473319,
          6.400047729428072,
          5.115221895198282,
          7.896083693168045,
          2.1632107953472732,
          2.2665803823613735,
          0.6855729481499326,
          4.2298143743470185,
          4.978016816637608,
          1.16056970673339,
          4.919364870931217,
          2.074372356301235,
          1.0284689830693687,
          3.7533429683386887,
          9.21911513782327,
          6.756792980560951,
          14.21542472575486,
          7.622459793474105,
          1.2653199475141477,
          5.859243751042344,
          2.4009784901078564,
          3.4426913736974907,
          5.703862023446658,
          5.777653896425959,
          5.880785372431089,
          2.105586605163983,
          3.472039712894213,
          1.0786138265352279,
          4.763516977111742,
          1.8131788104287703,
          1.2961738724322363,
          9.991894879337812,
          10.896580789331265,
          0.6870656891128817,
          7.259076788253062,
          4.56247544520099,
          4.7773584686941035,
          7.473851268608296,
          0.5436005766251644,
          1.5102326600747018,
          0.6388624667427812,
          0.7650615030141591,
          0.6530560365110317,
          3.4155243242360545,
          0.8505738817212155,
          1.0081956735588649,
          8.185233947420553,
          5.005202432697652,
          1.4539354490474652,
          6.557316209732736,
          1.8809133074491164,
          8.505562202460276,
          14.567358222183051,
          0.6525613486969798,
          1.3555329238374858,
          1.2191359360688585,
          0.9844426366342042,
          1.3555329238374858,
          7.319507776421297,
          0.9429259401154897,
          0.5776201158884994,
          6.171293913614088,
          0.9768395591784897,
          6.88015184662242,
          2.1615205251455154,
          8.076215645477042,
          0.8192731622474805,
          1.1803446802707607,
          0.7423962997429727,
          1.3555329238374858,
          7.91486767679719,
          7.5084078630321445,
          0.5778498323545078,
          1.1828620023399568,
          4.260834041398516,
          1.5703509872750294,
          2.523158482231555,
          9.311358406756831,
          6.060843589215606,
          1.1484435677729694,
          2.8517637306756605,
          0.829581464335104,
          7.541880935093506,
          3.1989530353111917,
          8.45461766247738,
          6.843239589583634,
          8.22364710850564,
          4.069457394667414,
          9.615267616490376,
          1.1986129921673931,
          2.014082000267877,
          1.0611423710755945,
          1.4758982035567627,
          1.850832665775587,
          0.8294061577532131,
          6.9252052200226935,
          7.925874465700971,
          10.514954391070392,
          1.9042102725258458,
          0.8594340943311791,
          9.426926321862831,
          6.182019453702234,
          4.006873254863422,
          4.40041938367515,
          8.976108782767001,
          4.5344242553825245,
          11.149489105396862,
          0.7031891858045796,
          3.000440643657776,
          1.3855149270052693,
          4.022151748590809,
          3.78862463107117,
          2.373674334666076,
          3.0972839305997493,
          7.168691665440248
         ],
         "yaxis": "y"
        }
       ],
       "layout": {
        "coloraxis": {
         "colorbar": {
          "title": {
           "text": "cluster_index"
          }
         },
         "colorscale": [
          [
           0,
           "#0d0887"
          ],
          [
           0.1111111111111111,
           "#46039f"
          ],
          [
           0.2222222222222222,
           "#7201a8"
          ],
          [
           0.3333333333333333,
           "#9c179e"
          ],
          [
           0.4444444444444444,
           "#bd3786"
          ],
          [
           0.5555555555555556,
           "#d8576b"
          ],
          [
           0.6666666666666666,
           "#ed7953"
          ],
          [
           0.7777777777777778,
           "#fb9f3a"
          ],
          [
           0.8888888888888888,
           "#fdca26"
          ],
          [
           1,
           "#f0f921"
          ]
         ]
        },
        "legend": {
         "tracegroupgap": 0
        },
        "margin": {
         "t": 60
        },
        "template": {
         "data": {
          "bar": [
           {
            "error_x": {
             "color": "#2a3f5f"
            },
            "error_y": {
             "color": "#2a3f5f"
            },
            "marker": {
             "line": {
              "color": "#E5ECF6",
              "width": 0.5
             },
             "pattern": {
              "fillmode": "overlay",
              "size": 10,
              "solidity": 0.2
             }
            },
            "type": "bar"
           }
          ],
          "barpolar": [
           {
            "marker": {
             "line": {
              "color": "#E5ECF6",
              "width": 0.5
             },
             "pattern": {
              "fillmode": "overlay",
              "size": 10,
              "solidity": 0.2
             }
            },
            "type": "barpolar"
           }
          ],
          "carpet": [
           {
            "aaxis": {
             "endlinecolor": "#2a3f5f",
             "gridcolor": "white",
             "linecolor": "white",
             "minorgridcolor": "white",
             "startlinecolor": "#2a3f5f"
            },
            "baxis": {
             "endlinecolor": "#2a3f5f",
             "gridcolor": "white",
             "linecolor": "white",
             "minorgridcolor": "white",
             "startlinecolor": "#2a3f5f"
            },
            "type": "carpet"
           }
          ],
          "choropleth": [
           {
            "colorbar": {
             "outlinewidth": 0,
             "ticks": ""
            },
            "type": "choropleth"
           }
          ],
          "contour": [
           {
            "colorbar": {
             "outlinewidth": 0,
             "ticks": ""
            },
            "colorscale": [
             [
              0,
              "#0d0887"
             ],
             [
              0.1111111111111111,
              "#46039f"
             ],
             [
              0.2222222222222222,
              "#7201a8"
             ],
             [
              0.3333333333333333,
              "#9c179e"
             ],
             [
              0.4444444444444444,
              "#bd3786"
             ],
             [
              0.5555555555555556,
              "#d8576b"
             ],
             [
              0.6666666666666666,
              "#ed7953"
             ],
             [
              0.7777777777777778,
              "#fb9f3a"
             ],
             [
              0.8888888888888888,
              "#fdca26"
             ],
             [
              1,
              "#f0f921"
             ]
            ],
            "type": "contour"
           }
          ],
          "contourcarpet": [
           {
            "colorbar": {
             "outlinewidth": 0,
             "ticks": ""
            },
            "type": "contourcarpet"
           }
          ],
          "heatmap": [
           {
            "colorbar": {
             "outlinewidth": 0,
             "ticks": ""
            },
            "colorscale": [
             [
              0,
              "#0d0887"
             ],
             [
              0.1111111111111111,
              "#46039f"
             ],
             [
              0.2222222222222222,
              "#7201a8"
             ],
             [
              0.3333333333333333,
              "#9c179e"
             ],
             [
              0.4444444444444444,
              "#bd3786"
             ],
             [
              0.5555555555555556,
              "#d8576b"
             ],
             [
              0.6666666666666666,
              "#ed7953"
             ],
             [
              0.7777777777777778,
              "#fb9f3a"
             ],
             [
              0.8888888888888888,
              "#fdca26"
             ],
             [
              1,
              "#f0f921"
             ]
            ],
            "type": "heatmap"
           }
          ],
          "heatmapgl": [
           {
            "colorbar": {
             "outlinewidth": 0,
             "ticks": ""
            },
            "colorscale": [
             [
              0,
              "#0d0887"
             ],
             [
              0.1111111111111111,
              "#46039f"
             ],
             [
              0.2222222222222222,
              "#7201a8"
             ],
             [
              0.3333333333333333,
              "#9c179e"
             ],
             [
              0.4444444444444444,
              "#bd3786"
             ],
             [
              0.5555555555555556,
              "#d8576b"
             ],
             [
              0.6666666666666666,
              "#ed7953"
             ],
             [
              0.7777777777777778,
              "#fb9f3a"
             ],
             [
              0.8888888888888888,
              "#fdca26"
             ],
             [
              1,
              "#f0f921"
             ]
            ],
            "type": "heatmapgl"
           }
          ],
          "histogram": [
           {
            "marker": {
             "pattern": {
              "fillmode": "overlay",
              "size": 10,
              "solidity": 0.2
             }
            },
            "type": "histogram"
           }
          ],
          "histogram2d": [
           {
            "colorbar": {
             "outlinewidth": 0,
             "ticks": ""
            },
            "colorscale": [
             [
              0,
              "#0d0887"
             ],
             [
              0.1111111111111111,
              "#46039f"
             ],
             [
              0.2222222222222222,
              "#7201a8"
             ],
             [
              0.3333333333333333,
              "#9c179e"
             ],
             [
              0.4444444444444444,
              "#bd3786"
             ],
             [
              0.5555555555555556,
              "#d8576b"
             ],
             [
              0.6666666666666666,
              "#ed7953"
             ],
             [
              0.7777777777777778,
              "#fb9f3a"
             ],
             [
              0.8888888888888888,
              "#fdca26"
             ],
             [
              1,
              "#f0f921"
             ]
            ],
            "type": "histogram2d"
           }
          ],
          "histogram2dcontour": [
           {
            "colorbar": {
             "outlinewidth": 0,
             "ticks": ""
            },
            "colorscale": [
             [
              0,
              "#0d0887"
             ],
             [
              0.1111111111111111,
              "#46039f"
             ],
             [
              0.2222222222222222,
              "#7201a8"
             ],
             [
              0.3333333333333333,
              "#9c179e"
             ],
             [
              0.4444444444444444,
              "#bd3786"
             ],
             [
              0.5555555555555556,
              "#d8576b"
             ],
             [
              0.6666666666666666,
              "#ed7953"
             ],
             [
              0.7777777777777778,
              "#fb9f3a"
             ],
             [
              0.8888888888888888,
              "#fdca26"
             ],
             [
              1,
              "#f0f921"
             ]
            ],
            "type": "histogram2dcontour"
           }
          ],
          "mesh3d": [
           {
            "colorbar": {
             "outlinewidth": 0,
             "ticks": ""
            },
            "type": "mesh3d"
           }
          ],
          "parcoords": [
           {
            "line": {
             "colorbar": {
              "outlinewidth": 0,
              "ticks": ""
             }
            },
            "type": "parcoords"
           }
          ],
          "pie": [
           {
            "automargin": true,
            "type": "pie"
           }
          ],
          "scatter": [
           {
            "fillpattern": {
             "fillmode": "overlay",
             "size": 10,
             "solidity": 0.2
            },
            "type": "scatter"
           }
          ],
          "scatter3d": [
           {
            "line": {
             "colorbar": {
              "outlinewidth": 0,
              "ticks": ""
             }
            },
            "marker": {
             "colorbar": {
              "outlinewidth": 0,
              "ticks": ""
             }
            },
            "type": "scatter3d"
           }
          ],
          "scattercarpet": [
           {
            "marker": {
             "colorbar": {
              "outlinewidth": 0,
              "ticks": ""
             }
            },
            "type": "scattercarpet"
           }
          ],
          "scattergeo": [
           {
            "marker": {
             "colorbar": {
              "outlinewidth": 0,
              "ticks": ""
             }
            },
            "type": "scattergeo"
           }
          ],
          "scattergl": [
           {
            "marker": {
             "colorbar": {
              "outlinewidth": 0,
              "ticks": ""
             }
            },
            "type": "scattergl"
           }
          ],
          "scattermapbox": [
           {
            "marker": {
             "colorbar": {
              "outlinewidth": 0,
              "ticks": ""
             }
            },
            "type": "scattermapbox"
           }
          ],
          "scatterpolar": [
           {
            "marker": {
             "colorbar": {
              "outlinewidth": 0,
              "ticks": ""
             }
            },
            "type": "scatterpolar"
           }
          ],
          "scatterpolargl": [
           {
            "marker": {
             "colorbar": {
              "outlinewidth": 0,
              "ticks": ""
             }
            },
            "type": "scatterpolargl"
           }
          ],
          "scatterternary": [
           {
            "marker": {
             "colorbar": {
              "outlinewidth": 0,
              "ticks": ""
             }
            },
            "type": "scatterternary"
           }
          ],
          "surface": [
           {
            "colorbar": {
             "outlinewidth": 0,
             "ticks": ""
            },
            "colorscale": [
             [
              0,
              "#0d0887"
             ],
             [
              0.1111111111111111,
              "#46039f"
             ],
             [
              0.2222222222222222,
              "#7201a8"
             ],
             [
              0.3333333333333333,
              "#9c179e"
             ],
             [
              0.4444444444444444,
              "#bd3786"
             ],
             [
              0.5555555555555556,
              "#d8576b"
             ],
             [
              0.6666666666666666,
              "#ed7953"
             ],
             [
              0.7777777777777778,
              "#fb9f3a"
             ],
             [
              0.8888888888888888,
              "#fdca26"
             ],
             [
              1,
              "#f0f921"
             ]
            ],
            "type": "surface"
           }
          ],
          "table": [
           {
            "cells": {
             "fill": {
              "color": "#EBF0F8"
             },
             "line": {
              "color": "white"
             }
            },
            "header": {
             "fill": {
              "color": "#C8D4E3"
             },
             "line": {
              "color": "white"
             }
            },
            "type": "table"
           }
          ]
         },
         "layout": {
          "annotationdefaults": {
           "arrowcolor": "#2a3f5f",
           "arrowhead": 0,
           "arrowwidth": 1
          },
          "autotypenumbers": "strict",
          "coloraxis": {
           "colorbar": {
            "outlinewidth": 0,
            "ticks": ""
           }
          },
          "colorscale": {
           "diverging": [
            [
             0,
             "#8e0152"
            ],
            [
             0.1,
             "#c51b7d"
            ],
            [
             0.2,
             "#de77ae"
            ],
            [
             0.3,
             "#f1b6da"
            ],
            [
             0.4,
             "#fde0ef"
            ],
            [
             0.5,
             "#f7f7f7"
            ],
            [
             0.6,
             "#e6f5d0"
            ],
            [
             0.7,
             "#b8e186"
            ],
            [
             0.8,
             "#7fbc41"
            ],
            [
             0.9,
             "#4d9221"
            ],
            [
             1,
             "#276419"
            ]
           ],
           "sequential": [
            [
             0,
             "#0d0887"
            ],
            [
             0.1111111111111111,
             "#46039f"
            ],
            [
             0.2222222222222222,
             "#7201a8"
            ],
            [
             0.3333333333333333,
             "#9c179e"
            ],
            [
             0.4444444444444444,
             "#bd3786"
            ],
            [
             0.5555555555555556,
             "#d8576b"
            ],
            [
             0.6666666666666666,
             "#ed7953"
            ],
            [
             0.7777777777777778,
             "#fb9f3a"
            ],
            [
             0.8888888888888888,
             "#fdca26"
            ],
            [
             1,
             "#f0f921"
            ]
           ],
           "sequentialminus": [
            [
             0,
             "#0d0887"
            ],
            [
             0.1111111111111111,
             "#46039f"
            ],
            [
             0.2222222222222222,
             "#7201a8"
            ],
            [
             0.3333333333333333,
             "#9c179e"
            ],
            [
             0.4444444444444444,
             "#bd3786"
            ],
            [
             0.5555555555555556,
             "#d8576b"
            ],
            [
             0.6666666666666666,
             "#ed7953"
            ],
            [
             0.7777777777777778,
             "#fb9f3a"
            ],
            [
             0.8888888888888888,
             "#fdca26"
            ],
            [
             1,
             "#f0f921"
            ]
           ]
          },
          "colorway": [
           "#636efa",
           "#EF553B",
           "#00cc96",
           "#ab63fa",
           "#FFA15A",
           "#19d3f3",
           "#FF6692",
           "#B6E880",
           "#FF97FF",
           "#FECB52"
          ],
          "font": {
           "color": "#2a3f5f"
          },
          "geo": {
           "bgcolor": "white",
           "lakecolor": "white",
           "landcolor": "#E5ECF6",
           "showlakes": true,
           "showland": true,
           "subunitcolor": "white"
          },
          "hoverlabel": {
           "align": "left"
          },
          "hovermode": "closest",
          "mapbox": {
           "style": "light"
          },
          "paper_bgcolor": "white",
          "plot_bgcolor": "#E5ECF6",
          "polar": {
           "angularaxis": {
            "gridcolor": "white",
            "linecolor": "white",
            "ticks": ""
           },
           "bgcolor": "#E5ECF6",
           "radialaxis": {
            "gridcolor": "white",
            "linecolor": "white",
            "ticks": ""
           }
          },
          "scene": {
           "xaxis": {
            "backgroundcolor": "#E5ECF6",
            "gridcolor": "white",
            "gridwidth": 2,
            "linecolor": "white",
            "showbackground": true,
            "ticks": "",
            "zerolinecolor": "white"
           },
           "yaxis": {
            "backgroundcolor": "#E5ECF6",
            "gridcolor": "white",
            "gridwidth": 2,
            "linecolor": "white",
            "showbackground": true,
            "ticks": "",
            "zerolinecolor": "white"
           },
           "zaxis": {
            "backgroundcolor": "#E5ECF6",
            "gridcolor": "white",
            "gridwidth": 2,
            "linecolor": "white",
            "showbackground": true,
            "ticks": "",
            "zerolinecolor": "white"
           }
          },
          "shapedefaults": {
           "line": {
            "color": "#2a3f5f"
           }
          },
          "ternary": {
           "aaxis": {
            "gridcolor": "white",
            "linecolor": "white",
            "ticks": ""
           },
           "baxis": {
            "gridcolor": "white",
            "linecolor": "white",
            "ticks": ""
           },
           "bgcolor": "#E5ECF6",
           "caxis": {
            "gridcolor": "white",
            "linecolor": "white",
            "ticks": ""
           }
          },
          "title": {
           "x": 0.05
          },
          "xaxis": {
           "automargin": true,
           "gridcolor": "white",
           "linecolor": "white",
           "ticks": "",
           "title": {
            "standoff": 15
           },
           "zerolinecolor": "white",
           "zerolinewidth": 2
          },
          "yaxis": {
           "automargin": true,
           "gridcolor": "white",
           "linecolor": "white",
           "ticks": "",
           "title": {
            "standoff": 15
           },
           "zerolinecolor": "white",
           "zerolinewidth": 2
          }
         }
        },
        "xaxis": {
         "anchor": "y",
         "domain": [
          0,
          1
         ],
         "title": {
          "text": "mean"
         }
        },
        "yaxis": {
         "anchor": "x",
         "domain": [
          0,
          1
         ],
         "title": {
          "text": "std"
         }
        }
       }
      },
      "text/html": [
       "<div>                            <div id=\"e6eee585-71be-49e8-9735-ae39e0caf52d\" class=\"plotly-graph-div\" style=\"height:525px; width:100%;\"></div>            <script type=\"text/javascript\">                require([\"plotly\"], function(Plotly) {                    window.PLOTLYENV=window.PLOTLYENV || {};                                    if (document.getElementById(\"e6eee585-71be-49e8-9735-ae39e0caf52d\")) {                    Plotly.newPlot(                        \"e6eee585-71be-49e8-9735-ae39e0caf52d\",                        [{\"customdata\":[[\"Afghanistan\"],[\"Africa\"],[\"Albania\"],[\"Algeria\"],[\"American Samoa\"],[\"Andorra\"],[\"Angola\"],[\"Anguilla\"],[\"Antigua And Barbuda\"],[\"Argentina\"],[\"Armenia\"],[\"Aruba\"],[\"Asia\"],[\"Australia\"],[\"Austria\"],[\"Azerbaijan\"],[\"Bahamas\"],[\"Bahrain\"],[\"Baker Island\"],[\"Bangladesh\"],[\"Barbados\"],[\"Belarus\"],[\"Belgium\"],[\"Belize\"],[\"Benin\"],[\"Bhutan\"],[\"Bolivia\"],[\"Bonaire, Saint Eustatius And Saba\"],[\"Bosnia And Herzegovina\"],[\"Botswana\"],[\"Brazil\"],[\"British Virgin Islands\"],[\"Bulgaria\"],[\"Burkina Faso\"],[\"Burma\"],[\"Burundi\"],[\"Cambodia\"],[\"Cameroon\"],[\"Canada\"],[\"Cape Verde\"],[\"Cayman Islands\"],[\"Central African Republic\"],[\"Chad\"],[\"Chile\"],[\"China\"],[\"Christmas Island\"],[\"Colombia\"],[\"Comoros\"],[\"Congo\"],[\"Congo (Democratic Republic Of The)\"],[\"Costa Rica\"],[\"Croatia\"],[\"Cuba\"],[\"Cura\\u00e7ao\"],[\"Cyprus\"],[\"Czech Republic\"],[\"C\\u00f4te D'Ivoire\"],[\"Denmark\"],[\"Denmark (Europe)\"],[\"Djibouti\"],[\"Dominica\"],[\"Dominican Republic\"],[\"Ecuador\"],[\"Egypt\"],[\"El Salvador\"],[\"Equatorial Guinea\"],[\"Eritrea\"],[\"Estonia\"],[\"Ethiopia\"],[\"Europe\"],[\"Falkland Islands (Islas Malvinas)\"],[\"Faroe Islands\"],[\"Federated States Of Micronesia\"],[\"Fiji\"],[\"Finland\"],[\"France\"],[\"France (Europe)\"],[\"French Guiana\"],[\"French Polynesia\"],[\"French Southern And Antarctic Lands\"],[\"Gabon\"],[\"Gambia\"],[\"Gaza Strip\"],[\"Georgia\"],[\"Germany\"],[\"Ghana\"],[\"Greece\"],[\"Greenland\"],[\"Grenada\"],[\"Guadeloupe\"],[\"Guam\"],[\"Guatemala\"],[\"Guernsey\"],[\"Guinea\"],[\"Guinea Bissau\"],[\"Guyana\"],[\"Haiti\"],[\"Heard Island And Mcdonald Islands\"],[\"Honduras\"],[\"Hong Kong\"],[\"Hungary\"],[\"Iceland\"],[\"India\"],[\"Indonesia\"],[\"Iran\"],[\"Iraq\"],[\"Ireland\"],[\"Isle Of Man\"],[\"Israel\"],[\"Italy\"],[\"Jamaica\"],[\"Japan\"],[\"Jersey\"],[\"Jordan\"],[\"Kazakhstan\"],[\"Kenya\"],[\"Kingman Reef\"],[\"Kiribati\"],[\"Kuwait\"],[\"Kyrgyzstan\"],[\"Laos\"],[\"Latvia\"],[\"Lebanon\"],[\"Lesotho\"],[\"Liberia\"],[\"Libya\"],[\"Liechtenstein\"],[\"Lithuania\"],[\"Luxembourg\"],[\"Macau\"],[\"Macedonia\"],[\"Madagascar\"],[\"Malawi\"],[\"Malaysia\"],[\"Mali\"],[\"Malta\"],[\"Martinique\"],[\"Mauritania\"],[\"Mauritius\"],[\"Mayotte\"],[\"Mexico\"],[\"Moldova\"],[\"Monaco\"],[\"Mongolia\"],[\"Montenegro\"],[\"Montserrat\"],[\"Morocco\"],[\"Mozambique\"],[\"Namibia\"],[\"Nepal\"],[\"Netherlands\"],[\"Netherlands (Europe)\"],[\"New Caledonia\"],[\"New Zealand\"],[\"Nicaragua\"],[\"Niger\"],[\"Nigeria\"],[\"Niue\"],[\"North America\"],[\"North Korea\"],[\"Northern Mariana Islands\"],[\"Norway\"],[\"Oceania\"],[\"Oman\"],[\"Pakistan\"],[\"Palau\"],[\"Palestina\"],[\"Palmyra Atoll\"],[\"Panama\"],[\"Papua New Guinea\"],[\"Paraguay\"],[\"Peru\"],[\"Philippines\"],[\"Poland\"],[\"Portugal\"],[\"Puerto Rico\"],[\"Qatar\"],[\"Reunion\"],[\"Romania\"],[\"Russia\"],[\"Rwanda\"],[\"Saint Barth\\u00e9lemy\"],[\"Saint Kitts And Nevis\"],[\"Saint Lucia\"],[\"Saint Martin\"],[\"Saint Pierre And Miquelon\"],[\"Saint Vincent And The Grenadines\"],[\"Samoa\"],[\"San Marino\"],[\"Sao Tome And Principe\"],[\"Saudi Arabia\"],[\"Senegal\"],[\"Serbia\"],[\"Seychelles\"],[\"Sierra Leone\"],[\"Singapore\"],[\"Sint Maarten\"],[\"Slovakia\"],[\"Slovenia\"],[\"Solomon Islands\"],[\"Somalia\"],[\"South Africa\"],[\"South America\"],[\"South Georgia And The South Sandwich Isla\"],[\"South Korea\"],[\"Spain\"],[\"Sri Lanka\"],[\"Sudan\"],[\"Suriname\"],[\"Svalbard And Jan Mayen\"],[\"Swaziland\"],[\"Sweden\"],[\"Switzerland\"],[\"Syria\"],[\"Taiwan\"],[\"Tajikistan\"],[\"Tanzania\"],[\"Thailand\"],[\"Timor Leste\"],[\"Togo\"],[\"Tonga\"],[\"Trinidad And Tobago\"],[\"Tunisia\"],[\"Turkey\"],[\"Turkmenistan\"],[\"Turks And Caicas Islands\"],[\"Uganda\"],[\"Ukraine\"],[\"United Arab Emirates\"],[\"United Kingdom\"],[\"United Kingdom (Europe)\"],[\"United States\"],[\"Uruguay\"],[\"Uzbekistan\"],[\"Venezuela\"],[\"Vietnam\"],[\"Virgin Islands\"],[\"Western Sahara\"],[\"Yemen\"],[\"Zambia\"],[\"Zimbabwe\"],[\"\\u00c5land\"]],\"hovertemplate\":\"mean=%{x}<br>std=%{y}<br>Country=%{customdata[0]}<br>cluster_index=%{marker.color}<extra></extra>\",\"legendgroup\":\"\",\"marker\":{\"color\":[1,0,1,0,0,1,0,0,0,1,1,0,1,0,1,1,0,0,0,0,0,1,1,0,0,1,0,0,1,0,0,0,1,0,0,0,0,0,1,0,0,0,0,1,1,0,0,0,0,0,0,1,0,0,0,1,0,1,1,0,0,0,0,0,0,0,0,1,0,1,1,1,0,0,1,1,1,0,0,1,0,0,0,1,1,0,1,1,0,0,0,0,1,0,0,0,0,1,0,0,1,1,0,0,0,0,1,1,0,1,0,1,1,0,1,0,0,0,0,1,0,1,0,1,0,0,1,1,1,0,1,0,0,0,0,0,0,0,0,0,0,1,1,1,1,0,0,0,0,0,1,1,0,1,0,0,0,0,1,1,0,1,0,0,0,0,0,0,0,0,0,0,0,1,1,0,0,0,1,1,0,0,0,0,0,1,0,0,1,0,0,0,1,0,0,0,0,1,1,0,0,0,0,1,1,1,0,0,0,1,0,1,1,0,0,1,0,0,0,0,0,0,0,1,1,0,0,1,0,1,1,1,0,1,0,0,0,0,0,0,0,1],\"coloraxis\":\"coloraxis\",\"symbol\":\"circle\"},\"mode\":\"markers\",\"name\":\"\",\"orientation\":\"v\",\"showlegend\":false,\"x\":[14.045007194244604,24.074202745512142,12.610645925457991,22.98511176905996,26.611965009208106,11.201553063802905,21.824549189814817,26.61049185043145,26.437924256951103,14.621194210526316,8.551647926634768,27.92039022051774,7.3478922231614545,21.62469689119171,6.210731838281744,11.175936074918567,25.12822004008016,25.9308093346574,25.37235023279876,24.820242783708977,26.458547938638542,5.819288060644346,9.483378395451673,25.052099776286354,27.17199943181818,11.811878969957082,20.87723052631579,27.17329482262704,10.421283954516742,21.87929669156884,24.699255545286505,26.336523239099186,10.482968414403032,28.083506760411034,23.706197239536955,20.07099012775842,26.65685403576607,24.352585590778098,-5.216658945686901,24.185563568376068,26.722504150283967,25.280406916426514,27.120466282420747,9.383473684210525,6.612731031349386,25.784654071314527,24.716870967741936,25.70220930232558,24.462931988472622,23.77366493955095,25.61578443420379,11.342399873657612,25.40742638706859,27.353414669223397,18.787745686421605,7.62601926721415,25.94853606027987,-18.053050699300698,7.832859444093493,28.8166025331725,26.110151486097795,25.547511210762334,21.869970347003154,22.620693031209917,24.906704545454545,24.921677809798272,26.802653110047846,4.819805748578648,23.01235675997618,7.830063802905875,6.076773492667029,6.619001579279849,26.944357771260997,25.038671779141108,1.244742261528743,12.772445672773216,10.416045799115604,25.718151106833492,26.10709611829945,4.9831111111111115,24.254725648414986,27.538551816239316,19.192636960985627,8.106881895881896,8.152496209728364,26.711013551665726,14.773012002526848,-18.58745804195804,26.741952061361456,26.32956088207095,26.996834337349398,23.111650494159928,10.928408717624762,25.452353098290597,26.76136664885088,25.930920115495667,26.295837740923353,2.5621149425287357,24.69554799459216,22.65989491362764,9.722423246999368,1.4050650663297535,23.873789473684212,25.684483767961684,17.607076451156207,21.775628879310347,9.419558433354391,9.365805432722679,19.62657730263158,12.737121920404297,26.096339563862927,11.951907335907336,10.928408717624762,19.346512587701195,5.202144758735441,24.102428231089934,27.13303443877551,26.73686534779834,25.098140232108317,3.2204981651376143,23.574696349065007,5.320545167403664,17.63161773078487,13.726681793913508,25.37773793103448,22.268253938484623,4.642939039797852,5.9079917877447885,9.165196462413139,22.418374760076777,10.375550852811118,22.74904594441293,21.431086144578316,25.80544200779727,28.44197657082002,18.494875319693094,26.110151486097795,27.62025550435228,23.522653983353152,26.340961429381736,20.567558041958044,8.9317166771952,9.024701831964624,-0.8206709844559585,10.214629500947568,26.383128475551292,17.627497409326423,23.59619475878499,20.484495197438637,14.8073906122449,9.504604548325963,9.112799115603284,22.700108194965186,10.371239107883817,25.957508780036967,27.458972540045767,26.744708309122604,25.094878453038675,2.0283738920225622,6.748336832061068,26.996834337349398,0.09580385344283004,21.452989119170983,26.91686266589729,20.615513304305757,27.216379332477533,23.125663223140496,27.16345599489796,26.291620638085742,24.450801898734177,23.237967557251906,19.935974230044,26.44047248677249,7.46020593809223,14.688179987212276,25.45196166746526,26.784996015936255,23.30140309155767,8.76090176879343,-5.521881912681913,19.244422183507552,26.61049185043145,25.85218600191755,26.646838446788113,26.61049185043145,4.223059955113818,26.78944870565676,26.33186249232658,13.83142229943146,25.794386167146975,25.546407835258666,27.967375,9.986563171193936,26.738423142370962,26.022571277159514,26.52310282651072,26.61049185043145,7.527216993051168,9.659700568540746,26.62503698979592,26.877085169743896,17.27098291510945,21.823920081967213,1.4010251017639077,11.849048745173745,13.61283417561592,26.947687001594897,27.09335942857143,26.17166313763234,-7.448027925531916,18.839807261078484,2.3863319646241314,6.992051484523057,17.917548596990645,21.937427536231883,4.016035217794253,22.34791097178683,25.986800979519145,25.96633271832718,26.87178275666478,23.236247852760737,26.118751198465965,19.97059047314578,11.631567300916139,14.781998181818182,26.662733508082134,23.03296871378911,7.653507264687303,27.693994700582934,8.489325331648768,8.655788060644346,8.60357252215955,17.149306774809162,12.278015938069217,25.025685522531163,23.688365504061156,26.336523239099186,22.319817823343847,26.253596725288055,21.282955621301774,21.117547246376812,5.291383449147189],\"xaxis\":\"x\",\"y\":[9.22562808625195,1.767354847496902,6.992006287211512,7.710150754484953,0.6120770600169315,5.928616295931718,1.7184771947955395,1.3555329238374858,1.2857756404667053,4.846885372622607,9.129693354475645,1.3911996311105628,10.175788761725702,4.892713813117062,7.456458427285005,8.560555380867868,2.474313549852231,6.958616798690009,0.6156200033763826,3.8328640822696864,0.9945080788027457,9.178329682789132,6.126352152150472,1.8155079646035455,1.72026516574545,5.13554248378667,1.8602313412544929,1.2863402710379725,7.438805502807681,4.197290454208352,0.9787871649300676,1.3855149270052693,7.896491130298435,2.266461331357714,2.9020568074838216,0.6970731459822641,1.5142333525568399,1.1077033169722081,12.8780740920338,1.940633570916004,1.6596842496868078,1.2769302192082443,3.2090259277101514,3.179080620264985,9.949540012363524,0.7286037777380647,0.629906483493919,1.347392624748093,0.8808244931649554,0.676270803659174,0.8414134137944984,7.57692966498353,1.8401068038996988,1.2472216694377878,5.686996152989589,7.6219770945783125,1.2385920825038106,10.751181257805143,6.383069875476387,3.1389393423531535,1.16056970673339,1.4020999902936253,0.723098900533994,6.163713892631002,1.0887503202727669,1.0735528632667226,2.3732843144775573,8.90192810226672,1.0837167249740771,7.312509526753876,2.4303221490417837,2.7969551150558947,0.46502803851094626,1.3271885666119596,9.582648586002069,4.85715722461509,5.914469821783125,0.7772037506226586,0.9034971898203613,2.390626525797838,1.0899023139111501,1.801731772934069,6.064324719576567,7.740732654924595,6.913426969118257,1.4590526633375913,6.848276813677991,10.850605640881401,0.8569940230214902,1.241968944604149,0.6870656891128817,1.6318559759764726,3.8809929454169105,1.6410205972307552,1.463588717849196,0.7527485149691309,1.3795929917869032,1.8654320631338301,1.476551904111696,4.831397319666742,8.315091682597352,4.665084039602603,4.325811210417991,0.5192638063275156,8.559339449287426,9.18955363380385,3.8037139517942484,3.5755028938769087,5.855596821462984,6.479437813825746,1.238230705668306,8.18912107262786,3.8809929454169105,7.064419230433743,13.323474545386347,1.0409934603285838,0.633833721942144,0.723480365632823,8.482860767559828,10.361933462918305,3.0968406824426897,8.844474224655611,6.222384288501838,4.335276266985067,1.0212396567854427,6.524369972676989,7.024037957710207,8.572383550473319,6.400047729428072,5.115221895198282,7.896083693168045,2.1632107953472732,2.2665803823613735,0.6855729481499326,4.2298143743470185,4.978016816637608,1.16056970673339,4.919364870931217,2.074372356301235,1.0284689830693687,3.7533429683386887,9.21911513782327,6.756792980560951,14.21542472575486,7.622459793474105,1.2653199475141477,5.859243751042344,2.4009784901078564,3.4426913736974907,5.703862023446658,5.777653896425959,5.880785372431089,2.105586605163983,3.472039712894213,1.0786138265352279,4.763516977111742,1.8131788104287703,1.2961738724322363,9.991894879337812,10.896580789331265,0.6870656891128817,7.259076788253062,4.56247544520099,4.7773584686941035,7.473851268608296,0.5436005766251644,1.5102326600747018,0.6388624667427812,0.7650615030141591,0.6530560365110317,3.4155243242360545,0.8505738817212155,1.0081956735588649,8.185233947420553,5.005202432697652,1.4539354490474652,6.557316209732736,1.8809133074491164,8.505562202460276,14.567358222183051,0.6525613486969798,1.3555329238374858,1.2191359360688585,0.9844426366342042,1.3555329238374858,7.319507776421297,0.9429259401154897,0.5776201158884994,6.171293913614088,0.9768395591784897,6.88015184662242,2.1615205251455154,8.076215645477042,0.8192731622474805,1.1803446802707607,0.7423962997429727,1.3555329238374858,7.91486767679719,7.5084078630321445,0.5778498323545078,1.1828620023399568,4.260834041398516,1.5703509872750294,2.523158482231555,9.311358406756831,6.060843589215606,1.1484435677729694,2.8517637306756605,0.829581464335104,7.541880935093506,3.1989530353111917,8.45461766247738,6.843239589583634,8.22364710850564,4.069457394667414,9.615267616490376,1.1986129921673931,2.014082000267877,1.0611423710755945,1.4758982035567627,1.850832665775587,0.8294061577532131,6.9252052200226935,7.925874465700971,10.514954391070392,1.9042102725258458,0.8594340943311791,9.426926321862831,6.182019453702234,4.006873254863422,4.40041938367515,8.976108782767001,4.5344242553825245,11.149489105396862,0.7031891858045796,3.000440643657776,1.3855149270052693,4.022151748590809,3.78862463107117,2.373674334666076,3.0972839305997493,7.168691665440248],\"yaxis\":\"y\",\"type\":\"scatter\"}],                        {\"template\":{\"data\":{\"histogram2dcontour\":[{\"type\":\"histogram2dcontour\",\"colorbar\":{\"outlinewidth\":0,\"ticks\":\"\"},\"colorscale\":[[0.0,\"#0d0887\"],[0.1111111111111111,\"#46039f\"],[0.2222222222222222,\"#7201a8\"],[0.3333333333333333,\"#9c179e\"],[0.4444444444444444,\"#bd3786\"],[0.5555555555555556,\"#d8576b\"],[0.6666666666666666,\"#ed7953\"],[0.7777777777777778,\"#fb9f3a\"],[0.8888888888888888,\"#fdca26\"],[1.0,\"#f0f921\"]]}],\"choropleth\":[{\"type\":\"choropleth\",\"colorbar\":{\"outlinewidth\":0,\"ticks\":\"\"}}],\"histogram2d\":[{\"type\":\"histogram2d\",\"colorbar\":{\"outlinewidth\":0,\"ticks\":\"\"},\"colorscale\":[[0.0,\"#0d0887\"],[0.1111111111111111,\"#46039f\"],[0.2222222222222222,\"#7201a8\"],[0.3333333333333333,\"#9c179e\"],[0.4444444444444444,\"#bd3786\"],[0.5555555555555556,\"#d8576b\"],[0.6666666666666666,\"#ed7953\"],[0.7777777777777778,\"#fb9f3a\"],[0.8888888888888888,\"#fdca26\"],[1.0,\"#f0f921\"]]}],\"heatmap\":[{\"type\":\"heatmap\",\"colorbar\":{\"outlinewidth\":0,\"ticks\":\"\"},\"colorscale\":[[0.0,\"#0d0887\"],[0.1111111111111111,\"#46039f\"],[0.2222222222222222,\"#7201a8\"],[0.3333333333333333,\"#9c179e\"],[0.4444444444444444,\"#bd3786\"],[0.5555555555555556,\"#d8576b\"],[0.6666666666666666,\"#ed7953\"],[0.7777777777777778,\"#fb9f3a\"],[0.8888888888888888,\"#fdca26\"],[1.0,\"#f0f921\"]]}],\"heatmapgl\":[{\"type\":\"heatmapgl\",\"colorbar\":{\"outlinewidth\":0,\"ticks\":\"\"},\"colorscale\":[[0.0,\"#0d0887\"],[0.1111111111111111,\"#46039f\"],[0.2222222222222222,\"#7201a8\"],[0.3333333333333333,\"#9c179e\"],[0.4444444444444444,\"#bd3786\"],[0.5555555555555556,\"#d8576b\"],[0.6666666666666666,\"#ed7953\"],[0.7777777777777778,\"#fb9f3a\"],[0.8888888888888888,\"#fdca26\"],[1.0,\"#f0f921\"]]}],\"contourcarpet\":[{\"type\":\"contourcarpet\",\"colorbar\":{\"outlinewidth\":0,\"ticks\":\"\"}}],\"contour\":[{\"type\":\"contour\",\"colorbar\":{\"outlinewidth\":0,\"ticks\":\"\"},\"colorscale\":[[0.0,\"#0d0887\"],[0.1111111111111111,\"#46039f\"],[0.2222222222222222,\"#7201a8\"],[0.3333333333333333,\"#9c179e\"],[0.4444444444444444,\"#bd3786\"],[0.5555555555555556,\"#d8576b\"],[0.6666666666666666,\"#ed7953\"],[0.7777777777777778,\"#fb9f3a\"],[0.8888888888888888,\"#fdca26\"],[1.0,\"#f0f921\"]]}],\"surface\":[{\"type\":\"surface\",\"colorbar\":{\"outlinewidth\":0,\"ticks\":\"\"},\"colorscale\":[[0.0,\"#0d0887\"],[0.1111111111111111,\"#46039f\"],[0.2222222222222222,\"#7201a8\"],[0.3333333333333333,\"#9c179e\"],[0.4444444444444444,\"#bd3786\"],[0.5555555555555556,\"#d8576b\"],[0.6666666666666666,\"#ed7953\"],[0.7777777777777778,\"#fb9f3a\"],[0.8888888888888888,\"#fdca26\"],[1.0,\"#f0f921\"]]}],\"mesh3d\":[{\"type\":\"mesh3d\",\"colorbar\":{\"outlinewidth\":0,\"ticks\":\"\"}}],\"scatter\":[{\"fillpattern\":{\"fillmode\":\"overlay\",\"size\":10,\"solidity\":0.2},\"type\":\"scatter\"}],\"parcoords\":[{\"type\":\"parcoords\",\"line\":{\"colorbar\":{\"outlinewidth\":0,\"ticks\":\"\"}}}],\"scatterpolargl\":[{\"type\":\"scatterpolargl\",\"marker\":{\"colorbar\":{\"outlinewidth\":0,\"ticks\":\"\"}}}],\"bar\":[{\"error_x\":{\"color\":\"#2a3f5f\"},\"error_y\":{\"color\":\"#2a3f5f\"},\"marker\":{\"line\":{\"color\":\"#E5ECF6\",\"width\":0.5},\"pattern\":{\"fillmode\":\"overlay\",\"size\":10,\"solidity\":0.2}},\"type\":\"bar\"}],\"scattergeo\":[{\"type\":\"scattergeo\",\"marker\":{\"colorbar\":{\"outlinewidth\":0,\"ticks\":\"\"}}}],\"scatterpolar\":[{\"type\":\"scatterpolar\",\"marker\":{\"colorbar\":{\"outlinewidth\":0,\"ticks\":\"\"}}}],\"histogram\":[{\"marker\":{\"pattern\":{\"fillmode\":\"overlay\",\"size\":10,\"solidity\":0.2}},\"type\":\"histogram\"}],\"scattergl\":[{\"type\":\"scattergl\",\"marker\":{\"colorbar\":{\"outlinewidth\":0,\"ticks\":\"\"}}}],\"scatter3d\":[{\"type\":\"scatter3d\",\"line\":{\"colorbar\":{\"outlinewidth\":0,\"ticks\":\"\"}},\"marker\":{\"colorbar\":{\"outlinewidth\":0,\"ticks\":\"\"}}}],\"scattermapbox\":[{\"type\":\"scattermapbox\",\"marker\":{\"colorbar\":{\"outlinewidth\":0,\"ticks\":\"\"}}}],\"scatterternary\":[{\"type\":\"scatterternary\",\"marker\":{\"colorbar\":{\"outlinewidth\":0,\"ticks\":\"\"}}}],\"scattercarpet\":[{\"type\":\"scattercarpet\",\"marker\":{\"colorbar\":{\"outlinewidth\":0,\"ticks\":\"\"}}}],\"carpet\":[{\"aaxis\":{\"endlinecolor\":\"#2a3f5f\",\"gridcolor\":\"white\",\"linecolor\":\"white\",\"minorgridcolor\":\"white\",\"startlinecolor\":\"#2a3f5f\"},\"baxis\":{\"endlinecolor\":\"#2a3f5f\",\"gridcolor\":\"white\",\"linecolor\":\"white\",\"minorgridcolor\":\"white\",\"startlinecolor\":\"#2a3f5f\"},\"type\":\"carpet\"}],\"table\":[{\"cells\":{\"fill\":{\"color\":\"#EBF0F8\"},\"line\":{\"color\":\"white\"}},\"header\":{\"fill\":{\"color\":\"#C8D4E3\"},\"line\":{\"color\":\"white\"}},\"type\":\"table\"}],\"barpolar\":[{\"marker\":{\"line\":{\"color\":\"#E5ECF6\",\"width\":0.5},\"pattern\":{\"fillmode\":\"overlay\",\"size\":10,\"solidity\":0.2}},\"type\":\"barpolar\"}],\"pie\":[{\"automargin\":true,\"type\":\"pie\"}]},\"layout\":{\"autotypenumbers\":\"strict\",\"colorway\":[\"#636efa\",\"#EF553B\",\"#00cc96\",\"#ab63fa\",\"#FFA15A\",\"#19d3f3\",\"#FF6692\",\"#B6E880\",\"#FF97FF\",\"#FECB52\"],\"font\":{\"color\":\"#2a3f5f\"},\"hovermode\":\"closest\",\"hoverlabel\":{\"align\":\"left\"},\"paper_bgcolor\":\"white\",\"plot_bgcolor\":\"#E5ECF6\",\"polar\":{\"bgcolor\":\"#E5ECF6\",\"angularaxis\":{\"gridcolor\":\"white\",\"linecolor\":\"white\",\"ticks\":\"\"},\"radialaxis\":{\"gridcolor\":\"white\",\"linecolor\":\"white\",\"ticks\":\"\"}},\"ternary\":{\"bgcolor\":\"#E5ECF6\",\"aaxis\":{\"gridcolor\":\"white\",\"linecolor\":\"white\",\"ticks\":\"\"},\"baxis\":{\"gridcolor\":\"white\",\"linecolor\":\"white\",\"ticks\":\"\"},\"caxis\":{\"gridcolor\":\"white\",\"linecolor\":\"white\",\"ticks\":\"\"}},\"coloraxis\":{\"colorbar\":{\"outlinewidth\":0,\"ticks\":\"\"}},\"colorscale\":{\"sequential\":[[0.0,\"#0d0887\"],[0.1111111111111111,\"#46039f\"],[0.2222222222222222,\"#7201a8\"],[0.3333333333333333,\"#9c179e\"],[0.4444444444444444,\"#bd3786\"],[0.5555555555555556,\"#d8576b\"],[0.6666666666666666,\"#ed7953\"],[0.7777777777777778,\"#fb9f3a\"],[0.8888888888888888,\"#fdca26\"],[1.0,\"#f0f921\"]],\"sequentialminus\":[[0.0,\"#0d0887\"],[0.1111111111111111,\"#46039f\"],[0.2222222222222222,\"#7201a8\"],[0.3333333333333333,\"#9c179e\"],[0.4444444444444444,\"#bd3786\"],[0.5555555555555556,\"#d8576b\"],[0.6666666666666666,\"#ed7953\"],[0.7777777777777778,\"#fb9f3a\"],[0.8888888888888888,\"#fdca26\"],[1.0,\"#f0f921\"]],\"diverging\":[[0,\"#8e0152\"],[0.1,\"#c51b7d\"],[0.2,\"#de77ae\"],[0.3,\"#f1b6da\"],[0.4,\"#fde0ef\"],[0.5,\"#f7f7f7\"],[0.6,\"#e6f5d0\"],[0.7,\"#b8e186\"],[0.8,\"#7fbc41\"],[0.9,\"#4d9221\"],[1,\"#276419\"]]},\"xaxis\":{\"gridcolor\":\"white\",\"linecolor\":\"white\",\"ticks\":\"\",\"title\":{\"standoff\":15},\"zerolinecolor\":\"white\",\"automargin\":true,\"zerolinewidth\":2},\"yaxis\":{\"gridcolor\":\"white\",\"linecolor\":\"white\",\"ticks\":\"\",\"title\":{\"standoff\":15},\"zerolinecolor\":\"white\",\"automargin\":true,\"zerolinewidth\":2},\"scene\":{\"xaxis\":{\"backgroundcolor\":\"#E5ECF6\",\"gridcolor\":\"white\",\"linecolor\":\"white\",\"showbackground\":true,\"ticks\":\"\",\"zerolinecolor\":\"white\",\"gridwidth\":2},\"yaxis\":{\"backgroundcolor\":\"#E5ECF6\",\"gridcolor\":\"white\",\"linecolor\":\"white\",\"showbackground\":true,\"ticks\":\"\",\"zerolinecolor\":\"white\",\"gridwidth\":2},\"zaxis\":{\"backgroundcolor\":\"#E5ECF6\",\"gridcolor\":\"white\",\"linecolor\":\"white\",\"showbackground\":true,\"ticks\":\"\",\"zerolinecolor\":\"white\",\"gridwidth\":2}},\"shapedefaults\":{\"line\":{\"color\":\"#2a3f5f\"}},\"annotationdefaults\":{\"arrowcolor\":\"#2a3f5f\",\"arrowhead\":0,\"arrowwidth\":1},\"geo\":{\"bgcolor\":\"white\",\"landcolor\":\"#E5ECF6\",\"subunitcolor\":\"white\",\"showland\":true,\"showlakes\":true,\"lakecolor\":\"white\"},\"title\":{\"x\":0.05},\"mapbox\":{\"style\":\"light\"}}},\"xaxis\":{\"anchor\":\"y\",\"domain\":[0.0,1.0],\"title\":{\"text\":\"mean\"}},\"yaxis\":{\"anchor\":\"x\",\"domain\":[0.0,1.0],\"title\":{\"text\":\"std\"}},\"coloraxis\":{\"colorbar\":{\"title\":{\"text\":\"cluster_index\"}},\"colorscale\":[[0.0,\"#0d0887\"],[0.1111111111111111,\"#46039f\"],[0.2222222222222222,\"#7201a8\"],[0.3333333333333333,\"#9c179e\"],[0.4444444444444444,\"#bd3786\"],[0.5555555555555556,\"#d8576b\"],[0.6666666666666666,\"#ed7953\"],[0.7777777777777778,\"#fb9f3a\"],[0.8888888888888888,\"#fdca26\"],[1.0,\"#f0f921\"]]},\"legend\":{\"tracegroupgap\":0},\"margin\":{\"t\":60}},                        {\"responsive\": true}                    ).then(function(){\n",
       "                            \n",
       "var gd = document.getElementById('e6eee585-71be-49e8-9735-ae39e0caf52d');\n",
       "var x = new MutationObserver(function (mutations, observer) {{\n",
       "        var display = window.getComputedStyle(gd).display;\n",
       "        if (!display || display === 'none') {{\n",
       "            console.log([gd, 'removed!']);\n",
       "            Plotly.purge(gd);\n",
       "            observer.disconnect();\n",
       "        }}\n",
       "}});\n",
       "\n",
       "// Listen for the removal of the full notebook cells\n",
       "var notebookContainer = gd.closest('#notebook-container');\n",
       "if (notebookContainer) {{\n",
       "    x.observe(notebookContainer, {childList: true});\n",
       "}}\n",
       "\n",
       "// Listen for the clearing of the current output cell\n",
       "var outputEl = gd.closest('.output');\n",
       "if (outputEl) {{\n",
       "    x.observe(outputEl, {childList: true});\n",
       "}}\n",
       "\n",
       "                        })                };                });            </script>        </div>"
      ]
     },
     "metadata": {},
     "output_type": "display_data"
    }
   ],
   "source": [
    "fig = px.scatter(group_stat, x='mean', y='std', color=\"cluster_index\", hover_data=[group_stat.index])\n",
    "fig.show()"
   ]
  },
  {
   "cell_type": "markdown",
   "id": "72b81248",
   "metadata": {},
   "source": [
    "### 🥇 Clustering hiérarchique\n",
    "\n",
    "- A partir de données calculées précédemment, effectuer un **clustering hiérarchique**. Afficher le **dendrogramme des données**. Valider le nombre de clusters trouvés avec l'algorithme de k-means. Ajouter un colonne au dataframe pour indiquer le **numéro du cluster de la prédiction** et afficher les données sur un graphique de **nuage de points** de la bibliothèque **Plotly**.\n",
    "\n",
    "*Ressources :*\n",
    "\n",
    "   - [scipy.cluster.hierarchy.dendrogram](https://docs.scipy.org/doc/scipy/reference/generated/scipy.cluster.hierarchy.dendrogram.html)\n",
    "   - [scipy.cluster.hierarchy.linkage](https://docs.scipy.org/doc/scipy/reference/generated/scipy.cluster.hierarchy.linkage.html)\n",
    "   - [scipy.cluster.hierarchy.fcluster](https://docs.scipy.org/doc/scipy/reference/generated/scipy.cluster.hierarchy.fcluster.html)"
   ]
  },
  {
   "cell_type": "code",
   "execution_count": 16,
   "id": "0196cdf5",
   "metadata": {},
   "outputs": [],
   "source": [
    "from scipy.cluster.hierarchy import dendrogram, linkage, fcluster"
   ]
  },
  {
   "cell_type": "code",
   "execution_count": 17,
   "id": "ff1aeff8",
   "metadata": {},
   "outputs": [
    {
     "data": {
      "image/png": "[encoded data removed]",
      "text/plain": [
       "<Figure size 1000x1000 with 1 Axes>"
      ]
     },
     "metadata": {},
     "output_type": "display_data"
    }
   ],
   "source": [
    "plt.figure(figsize=(10, 10))\n",
    "linkage_data = linkage(group_stat, method='ward', metric='euclidean')\n",
    "dendrogram(linkage_data)\n",
    "plt.show()"
   ]
  },
  {
   "cell_type": "code",
   "execution_count": 18,
   "id": "4d28253c",
   "metadata": {},
   "outputs": [],
   "source": [
    "group_stat = df[[\"AverageTemperature\", \"Country\"]].groupby(\"Country\").agg([\"mean\", \"median\", \"std\"])\n",
    "group_stat.columns = group_stat.columns.droplevel()\n",
    "group_stat = group_stat.dropna()\n",
    "group_stat[\"cluster_index\"] = fcluster(linkage_data, 5, criterion=\"maxclust\")"
   ]
  },
  {
   "cell_type": "code",
   "execution_count": 19,
   "id": "3bb3ac5d",
   "metadata": {},
   "outputs": [
    {
     "data": {
      "application/vnd.plotly.v1+json": {
       "config": {
        "plotlyServerURL": "https://plot.ly"
       },
       "data": [
        {
         "customdata": [
          [
           "Afghanistan"
          ],
          [
           "Africa"
          ],
          [
           "Albania"
          ],
          [
           "Algeria"
          ],
          [
           "American Samoa"
          ],
          [
           "Andorra"
          ],
          [
           "Angola"
          ],
          [
           "Anguilla"
          ],
          [
           "Antigua And Barbuda"
          ],
          [
           "Argentina"
          ],
          [
           "Armenia"
          ],
          [
           "Aruba"
          ],
          [
           "Asia"
          ],
          [
           "Australia"
          ],
          [
           "Austria"
          ],
          [
           "Azerbaijan"
          ],
          [
           "Bahamas"
          ],
          [
           "Bahrain"
          ],
          [
           "Baker Island"
          ],
          [
           "Bangladesh"
          ],
          [
           "Barbados"
          ],
          [
           "Belarus"
          ],
          [
           "Belgium"
          ],
          [
           "Belize"
          ],
          [
           "Benin"
          ],
          [
           "Bhutan"
          ],
          [
           "Bolivia"
          ],
          [
           "Bonaire, Saint Eustatius And Saba"
          ],
          [
           "Bosnia And Herzegovina"
          ],
          [
           "Botswana"
          ],
          [
           "Brazil"
          ],
          [
           "British Virgin Islands"
          ],
          [
           "Bulgaria"
          ],
          [
           "Burkina Faso"
          ],
          [
           "Burma"
          ],
          [
           "Burundi"
          ],
          [
           "Cambodia"
          ],
          [
           "Cameroon"
          ],
          [
           "Canada"
          ],
          [
           "Cape Verde"
          ],
          [
           "Cayman Islands"
          ],
          [
           "Central African Republic"
          ],
          [
           "Chad"
          ],
          [
           "Chile"
          ],
          [
           "China"
          ],
          [
           "Christmas Island"
          ],
          [
           "Colombia"
          ],
          [
           "Comoros"
          ],
          [
           "Congo"
          ],
          [
           "Congo (Democratic Republic Of The)"
          ],
          [
           "Costa Rica"
          ],
          [
           "Croatia"
          ],
          [
           "Cuba"
          ],
          [
           "Curaçao"
          ],
          [
           "Cyprus"
          ],
          [
           "Czech Republic"
          ],
          [
           "Côte D'Ivoire"
          ],
          [
           "Denmark"
          ],
          [
           "Denmark (Europe)"
          ],
          [
           "Djibouti"
          ],
          [
           "Dominica"
          ],
          [
           "Dominican Republic"
          ],
          [
           "Ecuador"
          ],
          [
           "Egypt"
          ],
          [
           "El Salvador"
          ],
          [
           "Equatorial Guinea"
          ],
          [
           "Eritrea"
          ],
          [
           "Estonia"
          ],
          [
           "Ethiopia"
          ],
          [
           "Europe"
          ],
          [
           "Falkland Islands (Islas Malvinas)"
          ],
          [
           "Faroe Islands"
          ],
          [
           "Federated States Of Micronesia"
          ],
          [
           "Fiji"
          ],
          [
           "Finland"
          ],
          [
           "France"
          ],
          [
           "France (Europe)"
          ],
          [
           "French Guiana"
          ],
          [
           "French Polynesia"
          ],
          [
           "French Southern And Antarctic Lands"
          ],
          [
           "Gabon"
          ],
          [
           "Gambia"
          ],
          [
           "Gaza Strip"
          ],
          [
           "Georgia"
          ],
          [
           "Germany"
          ],
          [
           "Ghana"
          ],
          [
           "Greece"
          ],
          [
           "Greenland"
          ],
          [
           "Grenada"
          ],
          [
           "Guadeloupe"
          ],
          [
           "Guam"
          ],
          [
           "Guatemala"
          ],
          [
           "Guernsey"
          ],
          [
           "Guinea"
          ],
          [
           "Guinea Bissau"
          ],
          [
           "Guyana"
          ],
          [
           "Haiti"
          ],
          [
           "Heard Island And Mcdonald Islands"
          ],
          [
           "Honduras"
          ],
          [
           "Hong Kong"
          ],
          [
           "Hungary"
          ],
          [
           "Iceland"
          ],
          [
           "India"
          ],
          [
           "Indonesia"
          ],
          [
           "Iran"
          ],
          [
           "Iraq"
          ],
          [
           "Ireland"
          ],
          [
           "Isle Of Man"
          ],
          [
           "Israel"
          ],
          [
           "Italy"
          ],
          [
           "Jamaica"
          ],
          [
           "Japan"
          ],
          [
           "Jersey"
          ],
          [
           "Jordan"
          ],
          [
           "Kazakhstan"
          ],
          [
           "Kenya"
          ],
          [
           "Kingman Reef"
          ],
          [
           "Kiribati"
          ],
          [
           "Kuwait"
          ],
          [
           "Kyrgyzstan"
          ],
          [
           "Laos"
          ],
          [
           "Latvia"
          ],
          [
           "Lebanon"
          ],
          [
           "Lesotho"
          ],
          [
           "Liberia"
          ],
          [
           "Libya"
          ],
          [
           "Liechtenstein"
          ],
          [
           "Lithuania"
          ],
          [
           "Luxembourg"
          ],
          [
           "Macau"
          ],
          [
           "Macedonia"
          ],
          [
           "Madagascar"
          ],
          [
           "Malawi"
          ],
          [
           "Malaysia"
          ],
          [
           "Mali"
          ],
          [
           "Malta"
          ],
          [
           "Martinique"
          ],
          [
           "Mauritania"
          ],
          [
           "Mauritius"
          ],
          [
           "Mayotte"
          ],
          [
           "Mexico"
          ],
          [
           "Moldova"
          ],
          [
           "Monaco"
          ],
          [
           "Mongolia"
          ],
          [
           "Montenegro"
          ],
          [
           "Montserrat"
          ],
          [
           "Morocco"
          ],
          [
           "Mozambique"
          ],
          [
           "Namibia"
          ],
          [
           "Nepal"
          ],
          [
           "Netherlands"
          ],
          [
           "Netherlands (Europe)"
          ],
          [
           "New Caledonia"
          ],
          [
           "New Zealand"
          ],
          [
           "Nicaragua"
          ],
          [
           "Niger"
          ],
          [
           "Nigeria"
          ],
          [
           "Niue"
          ],
          [
           "North America"
          ],
          [
           "North Korea"
          ],
          [
           "Northern Mariana Islands"
          ],
          [
           "Norway"
          ],
          [
           "Oceania"
          ],
          [
           "Oman"
          ],
          [
           "Pakistan"
          ],
          [
           "Palau"
          ],
          [
           "Palestina"
          ],
          [
           "Palmyra Atoll"
          ],
          [
           "Panama"
          ],
          [
           "Papua New Guinea"
          ],
          [
           "Paraguay"
          ],
          [
           "Peru"
          ],
          [
           "Philippines"
          ],
          [
           "Poland"
          ],
          [
           "Portugal"
          ],
          [
           "Puerto Rico"
          ],
          [
           "Qatar"
          ],
          [
           "Reunion"
          ],
          [
           "Romania"
          ],
          [
           "Russia"
          ],
          [
           "Rwanda"
          ],
          [
           "Saint Barthélemy"
          ],
          [
           "Saint Kitts And Nevis"
          ],
          [
           "Saint Lucia"
          ],
          [
           "Saint Martin"
          ],
          [
           "Saint Pierre And Miquelon"
          ],
          [
           "Saint Vincent And The Grenadines"
          ],
          [
           "Samoa"
          ],
          [
           "San Marino"
          ],
          [
           "Sao Tome And Principe"
          ],
          [
           "Saudi Arabia"
          ],
          [
           "Senegal"
          ],
          [
           "Serbia"
          ],
          [
           "Seychelles"
          ],
          [
           "Sierra Leone"
          ],
          [
           "Singapore"
          ],
          [
           "Sint Maarten"
          ],
          [
           "Slovakia"
          ],
          [
           "Slovenia"
          ],
          [
           "Solomon Islands"
          ],
          [
           "Somalia"
          ],
          [
           "South Africa"
          ],
          [
           "South America"
          ],
          [
           "South Georgia And The South Sandwich Isla"
          ],
          [
           "South Korea"
          ],
          [
           "Spain"
          ],
          [
           "Sri Lanka"
          ],
          [
           "Sudan"
          ],
          [
           "Suriname"
          ],
          [
           "Svalbard And Jan Mayen"
          ],
          [
           "Swaziland"
          ],
          [
           "Sweden"
          ],
          [
           "Switzerland"
          ],
          [
           "Syria"
          ],
          [
           "Taiwan"
          ],
          [
           "Tajikistan"
          ],
          [
           "Tanzania"
          ],
          [
           "Thailand"
          ],
          [
           "Timor Leste"
          ],
          [
           "Togo"
          ],
          [
           "Tonga"
          ],
          [
           "Trinidad And Tobago"
          ],
          [
           "Tunisia"
          ],
          [
           "Turkey"
          ],
          [
           "Turkmenistan"
          ],
          [
           "Turks And Caicas Islands"
          ],
          [
           "Uganda"
          ],
          [
           "Ukraine"
          ],
          [
           "United Arab Emirates"
          ],
          [
           "United Kingdom"
          ],
          [
           "United Kingdom (Europe)"
          ],
          [
           "United States"
          ],
          [
           "Uruguay"
          ],
          [
           "Uzbekistan"
          ],
          [
           "Venezuela"
          ],
          [
           "Vietnam"
          ],
          [
           "Virgin Islands"
          ],
          [
           "Western Sahara"
          ],
          [
           "Yemen"
          ],
          [
           "Zambia"
          ],
          [
           "Zimbabwe"
          ],
          [
           "Åland"
          ]
         ],
         "hovertemplate": "mean=%{x}<br>std=%{y}<br>Country=%{customdata[0]}<br>cluster_index=%{marker.color}<extra></extra>",
         "legendgroup": "",
         "marker": {
          "color": [
           4,
           1,
           4,
           2,
           1,
           4,
           2,
           1,
           1,
           4,
           5,
           1,
           5,
           2,
           5,
           4,
           1,
           1,
           1,
           1,
           1,
           5,
           4,
           1,
           1,
           4,
           2,
           1,
           4,
           2,
           1,
           1,
           4,
           1,
           1,
           2,
           1,
           1,
           3,
           1,
           1,
           1,
           1,
           4,
           5,
           1,
           1,
           1,
           1,
           1,
           1,
           4,
           1,
           1,
           2,
           5,
           1,
           3,
           5,
           1,
           1,
           1,
           2,
           2,
           1,
           1,
           1,
           5,
           2,
           5,
           5,
           5,
           1,
           1,
           5,
           4,
           4,
           1,
           1,
           5,
           1,
           1,
           2,
           5,
           5,
           1,
           4,
           3,
           1,
           1,
           1,
           2,
           4,
           1,
           1,
           1,
           1,
           5,
           1,
           2,
           4,
           5,
           1,
           1,
           2,
           2,
           4,
           4,
           2,
           4,
           1,
           4,
           4,
           2,
           5,
           1,
           1,
           1,
           1,
           5,
           1,
           5,
           2,
           4,
           1,
           2,
           5,
           5,
           4,
           2,
           4,
           2,
           2,
           1,
           1,
           2,
           1,
           1,
           2,
           1,
           2,
           5,
           4,
           3,
           4,
           1,
           2,
           1,
           2,
           4,
           4,
           4,
           2,
           4,
           1,
           1,
           1,
           1,
           5,
           5,
           1,
           5,
           2,
           1,
           2,
           1,
           2,
           1,
           1,
           1,
           1,
           2,
           1,
           5,
           4,
           1,
           1,
           2,
           5,
           3,
           2,
           1,
           1,
           1,
           1,
           5,
           1,
           1,
           4,
           1,
           1,
           1,
           4,
           1,
           1,
           1,
           1,
           5,
           4,
           1,
           1,
           2,
           2,
           5,
           4,
           4,
           1,
           1,
           1,
           3,
           2,
           5,
           5,
           2,
           2,
           5,
           2,
           1,
           1,
           1,
           2,
           1,
           2,
           4,
           4,
           1,
           2,
           5,
           1,
           4,
           4,
           5,
           2,
           4,
           1,
           1,
           1,
           2,
           1,
           2,
           2,
           5
          ],
          "coloraxis": "coloraxis",
          "symbol": "circle"
         },
         "mode": "markers",
         "name": "",
         "orientation": "v",
         "showlegend": false,
         "type": "scatter",
         "x": [
          14.045007194244604,
          24.074202745512142,
          12.610645925457991,
          22.98511176905996,
          26.611965009208106,
          11.201553063802905,
          21.824549189814817,
          26.61049185043145,
          26.437924256951103,
          14.621194210526316,
          8.551647926634768,
          27.92039022051774,
          7.3478922231614545,
          21.62469689119171,
          6.210731838281744,
          11.175936074918567,
          25.12822004008016,
          25.9308093346574,
          25.37235023279876,
          24.820242783708977,
          26.458547938638542,
          5.819288060644346,
          9.483378395451673,
          25.052099776286354,
          27.17199943181818,
          11.811878969957082,
          20.87723052631579,
          27.17329482262704,
          10.421283954516742,
          21.87929669156884,
          24.699255545286505,
          26.336523239099186,
          10.482968414403032,
          28.083506760411034,
          23.706197239536955,
          20.07099012775842,
          26.65685403576607,
          24.352585590778098,
          -5.216658945686901,
          24.185563568376068,
          26.722504150283967,
          25.280406916426514,
          27.120466282420747,
          9.383473684210525,
          6.612731031349386,
          25.784654071314527,
          24.716870967741936,
          25.70220930232558,
          24.462931988472622,
          23.77366493955095,
          25.61578443420379,
          11.342399873657612,
          25.40742638706859,
          27.353414669223397,
          18.787745686421605,
          7.62601926721415,
          25.94853606027987,
          -18.053050699300698,
          7.832859444093493,
          28.8166025331725,
          26.110151486097795,
          25.547511210762334,
          21.869970347003154,
          22.620693031209917,
          24.906704545454545,
          24.921677809798272,
          26.802653110047846,
          4.819805748578648,
          23.01235675997618,
          7.830063802905875,
          6.076773492667029,
          6.619001579279849,
          26.944357771260997,
          25.038671779141108,
          1.244742261528743,
          12.772445672773216,
          10.416045799115604,
          25.718151106833492,
          26.10709611829945,
          4.9831111111111115,
          24.254725648414986,
          27.538551816239316,
          19.192636960985627,
          8.106881895881896,
          8.152496209728364,
          26.711013551665726,
          14.773012002526848,
          -18.58745804195804,
          26.741952061361456,
          26.32956088207095,
          26.996834337349398,
          23.111650494159928,
          10.928408717624762,
          25.452353098290597,
          26.76136664885088,
          25.930920115495667,
          26.295837740923353,
          2.5621149425287357,
          24.69554799459216,
          22.65989491362764,
          9.722423246999368,
          1.4050650663297535,
          23.873789473684212,
          25.684483767961684,
          17.607076451156207,
          21.775628879310347,
          9.419558433354391,
          9.365805432722679,
          19.62657730263158,
          12.737121920404297,
          26.096339563862927,
          11.951907335907336,
          10.928408717624762,
          19.346512587701195,
          5.202144758735441,
          24.102428231089934,
          27.13303443877551,
          26.73686534779834,
          25.098140232108317,
          3.2204981651376143,
          23.574696349065007,
          5.320545167403664,
          17.63161773078487,
          13.726681793913508,
          25.37773793103448,
          22.268253938484623,
          4.642939039797852,
          5.9079917877447885,
          9.165196462413139,
          22.418374760076777,
          10.375550852811118,
          22.74904594441293,
          21.431086144578316,
          25.80544200779727,
          28.44197657082002,
          18.494875319693094,
          26.110151486097795,
          27.62025550435228,
          23.522653983353152,
          26.340961429381736,
          20.567558041958044,
          8.9317166771952,
          9.024701831964624,
          -0.8206709844559585,
          10.214629500947568,
          26.383128475551292,
          17.627497409326423,
          23.59619475878499,
          20.484495197438637,
          14.8073906122449,
          9.504604548325963,
          9.112799115603284,
          22.700108194965186,
          10.371239107883817,
          25.957508780036967,
          27.458972540045767,
          26.744708309122604,
          25.094878453038675,
          2.0283738920225622,
          6.748336832061068,
          26.996834337349398,
          0.09580385344283004,
          21.452989119170983,
          26.91686266589729,
          20.615513304305757,
          27.216379332477533,
          23.125663223140496,
          27.16345599489796,
          26.291620638085742,
          24.450801898734177,
          23.237967557251906,
          19.935974230044,
          26.44047248677249,
          7.46020593809223,
          14.688179987212276,
          25.45196166746526,
          26.784996015936255,
          23.30140309155767,
          8.76090176879343,
          -5.521881912681913,
          19.244422183507552,
          26.61049185043145,
          25.85218600191755,
          26.646838446788113,
          26.61049185043145,
          4.223059955113818,
          26.78944870565676,
          26.33186249232658,
          13.83142229943146,
          25.794386167146975,
          25.546407835258666,
          27.967375,
          9.986563171193936,
          26.738423142370962,
          26.022571277159514,
          26.52310282651072,
          26.61049185043145,
          7.527216993051168,
          9.659700568540746,
          26.62503698979592,
          26.877085169743896,
          17.27098291510945,
          21.823920081967213,
          1.4010251017639077,
          11.849048745173745,
          13.61283417561592,
          26.947687001594897,
          27.09335942857143,
          26.17166313763234,
          -7.448027925531916,
          18.839807261078484,
          2.3863319646241314,
          6.992051484523057,
          17.917548596990645,
          21.937427536231883,
          4.016035217794253,
          22.34791097178683,
          25.986800979519145,
          25.96633271832718,
          26.87178275666478,
          23.236247852760737,
          26.118751198465965,
          19.97059047314578,
          11.631567300916139,
          14.781998181818182,
          26.662733508082134,
          23.03296871378911,
          7.653507264687303,
          27.693994700582934,
          8.489325331648768,
          8.655788060644346,
          8.60357252215955,
          17.149306774809162,
          12.278015938069217,
          25.025685522531163,
          23.688365504061156,
          26.336523239099186,
          22.319817823343847,
          26.253596725288055,
          21.282955621301774,
          21.117547246376812,
          5.291383449147189
         ],
         "xaxis": "x",
         "y": [
          9.22562808625195,
          1.767354847496902,
          6.992006287211512,
          7.710150754484953,
          0.6120770600169315,
          5.928616295931718,
          1.7184771947955395,
          1.3555329238374858,
          1.2857756404667053,
          4.846885372622607,
          9.129693354475645,
          1.3911996311105628,
          10.175788761725702,
          4.892713813117062,
          7.456458427285005,
          8.560555380867868,
          2.474313549852231,
          6.958616798690009,
          0.6156200033763826,
          3.8328640822696864,
          0.9945080788027457,
          9.178329682789132,
          6.126352152150472,
          1.8155079646035455,
          1.72026516574545,
          5.13554248378667,
          1.8602313412544929,
          1.2863402710379725,
          7.438805502807681,
          4.197290454208352,
          0.9787871649300676,
          1.3855149270052693,
          7.896491130298435,
          2.266461331357714,
          2.9020568074838216,
          0.6970731459822641,
          1.5142333525568399,
          1.1077033169722081,
          12.8780740920338,
          1.940633570916004,
          1.6596842496868078,
          1.2769302192082443,
          3.2090259277101514,
          3.179080620264985,
          9.949540012363524,
          0.7286037777380647,
          0.629906483493919,
          1.347392624748093,
          0.8808244931649554,
          0.676270803659174,
          0.8414134137944984,
          7.57692966498353,
          1.8401068038996988,
          1.2472216694377878,
          5.686996152989589,
          7.6219770945783125,
          1.2385920825038106,
          10.751181257805143,
          6.383069875476387,
          3.1389393423531535,
          1.16056970673339,
          1.4020999902936253,
          0.723098900533994,
          6.163713892631002,
          1.0887503202727669,
          1.0735528632667226,
          2.3732843144775573,
          8.90192810226672,
          1.0837167249740771,
          7.312509526753876,
          2.4303221490417837,
          2.7969551150558947,
          0.46502803851094626,
          1.3271885666119596,
          9.582648586002069,
          4.85715722461509,
          5.914469821783125,
          0.7772037506226586,
          0.9034971898203613,
          2.390626525797838,
          1.0899023139111501,
          1.801731772934069,
          6.064324719576567,
          7.740732654924595,
          6.913426969118257,
          1.4590526633375913,
          6.848276813677991,
          10.850605640881401,
          0.8569940230214902,
          1.241968944604149,
          0.6870656891128817,
          1.6318559759764726,
          3.8809929454169105,
          1.6410205972307552,
          1.463588717849196,
          0.7527485149691309,
          1.3795929917869032,
          1.8654320631338301,
          1.476551904111696,
          4.831397319666742,
          8.315091682597352,
          4.665084039602603,
          4.325811210417991,
          0.5192638063275156,
          8.559339449287426,
          9.18955363380385,
          3.8037139517942484,
          3.5755028938769087,
          5.855596821462984,
          6.479437813825746,
          1.238230705668306,
          8.18912107262786,
          3.8809929454169105,
          7.064419230433743,
          13.323474545386347,
          1.0409934603285838,
          0.633833721942144,
          0.723480365632823,
          8.482860767559828,
          10.361933462918305,
          3.0968406824426897,
          8.844474224655611,
          6.222384288501838,
          4.335276266985067,
          1.0212396567854427,
          6.524369972676989,
          7.024037957710207,
          8.572383550473319,
          6.400047729428072,
          5.115221895198282,
          7.896083693168045,
          2.1632107953472732,
          2.2665803823613735,
          0.6855729481499326,
          4.2298143743470185,
          4.978016816637608,
          1.16056970673339,
          4.919364870931217,
          2.074372356301235,
          1.0284689830693687,
          3.7533429683386887,
          9.21911513782327,
          6.756792980560951,
          14.21542472575486,
          7.622459793474105,
          1.2653199475141477,
          5.859243751042344,
          2.4009784901078564,
          3.4426913736974907,
          5.703862023446658,
          5.777653896425959,
          5.880785372431089,
          2.105586605163983,
          3.472039712894213,
          1.0786138265352279,
          4.763516977111742,
          1.8131788104287703,
          1.2961738724322363,
          9.991894879337812,
          10.896580789331265,
          0.6870656891128817,
          7.259076788253062,
          4.56247544520099,
          4.7773584686941035,
          7.473851268608296,
          0.5436005766251644,
          1.5102326600747018,
          0.6388624667427812,
          0.7650615030141591,
          0.6530560365110317,
          3.4155243242360545,
          0.8505738817212155,
          1.0081956735588649,
          8.185233947420553,
          5.005202432697652,
          1.4539354490474652,
          6.557316209732736,
          1.8809133074491164,
          8.505562202460276,
          14.567358222183051,
          0.6525613486969798,
          1.3555329238374858,
          1.2191359360688585,
          0.9844426366342042,
          1.3555329238374858,
          7.319507776421297,
          0.9429259401154897,
          0.5776201158884994,
          6.171293913614088,
          0.9768395591784897,
          6.88015184662242,
          2.1615205251455154,
          8.076215645477042,
          0.8192731622474805,
          1.1803446802707607,
          0.7423962997429727,
          1.3555329238374858,
          7.91486767679719,
          7.5084078630321445,
          0.5778498323545078,
          1.1828620023399568,
          4.260834041398516,
          1.5703509872750294,
          2.523158482231555,
          9.311358406756831,
          6.060843589215606,
          1.1484435677729694,
          2.8517637306756605,
          0.829581464335104,
          7.541880935093506,
          3.1989530353111917,
          8.45461766247738,
          6.843239589583634,
          8.22364710850564,
          4.069457394667414,
          9.615267616490376,
          1.1986129921673931,
          2.014082000267877,
          1.0611423710755945,
          1.4758982035567627,
          1.850832665775587,
          0.8294061577532131,
          6.9252052200226935,
          7.925874465700971,
          10.514954391070392,
          1.9042102725258458,
          0.8594340943311791,
          9.426926321862831,
          6.182019453702234,
          4.006873254863422,
          4.40041938367515,
          8.976108782767001,
          4.5344242553825245,
          11.149489105396862,
          0.7031891858045796,
          3.000440643657776,
          1.3855149270052693,
          4.022151748590809,
          3.78862463107117,
          2.373674334666076,
          3.0972839305997493,
          7.168691665440248
         ],
         "yaxis": "y"
        }
       ],
       "layout": {
        "coloraxis": {
         "colorbar": {
          "title": {
           "text": "cluster_index"
          }
         },
         "colorscale": [
          [
           0,
           "#0d0887"
          ],
          [
           0.1111111111111111,
           "#46039f"
          ],
          [
           0.2222222222222222,
           "#7201a8"
          ],
          [
           0.3333333333333333,
           "#9c179e"
          ],
          [
           0.4444444444444444,
           "#bd3786"
          ],
          [
           0.5555555555555556,
           "#d8576b"
          ],
          [
           0.6666666666666666,
           "#ed7953"
          ],
          [
           0.7777777777777778,
           "#fb9f3a"
          ],
          [
           0.8888888888888888,
           "#fdca26"
          ],
          [
           1,
           "#f0f921"
          ]
         ]
        },
        "legend": {
         "tracegroupgap": 0
        },
        "margin": {
         "t": 60
        },
        "template": {
         "data": {
          "bar": [
           {
            "error_x": {
             "color": "#2a3f5f"
            },
            "error_y": {
             "color": "#2a3f5f"
            },
            "marker": {
             "line": {
              "color": "#E5ECF6",
              "width": 0.5
             },
             "pattern": {
              "fillmode": "overlay",
              "size": 10,
              "solidity": 0.2
             }
            },
            "type": "bar"
           }
          ],
          "barpolar": [
           {
            "marker": {
             "line": {
              "color": "#E5ECF6",
              "width": 0.5
             },
             "pattern": {
              "fillmode": "overlay",
              "size": 10,
              "solidity": 0.2
             }
            },
            "type": "barpolar"
           }
          ],
          "carpet": [
           {
            "aaxis": {
             "endlinecolor": "#2a3f5f",
             "gridcolor": "white",
             "linecolor": "white",
             "minorgridcolor": "white",
             "startlinecolor": "#2a3f5f"
            },
            "baxis": {
             "endlinecolor": "#2a3f5f",
             "gridcolor": "white",
             "linecolor": "white",
             "minorgridcolor": "white",
             "startlinecolor": "#2a3f5f"
            },
            "type": "carpet"
           }
          ],
          "choropleth": [
           {
            "colorbar": {
             "outlinewidth": 0,
             "ticks": ""
            },
            "type": "choropleth"
           }
          ],
          "contour": [
           {
            "colorbar": {
             "outlinewidth": 0,
             "ticks": ""
            },
            "colorscale": [
             [
              0,
              "#0d0887"
             ],
             [
              0.1111111111111111,
              "#46039f"
             ],
             [
              0.2222222222222222,
              "#7201a8"
             ],
             [
              0.3333333333333333,
              "#9c179e"
             ],
             [
              0.4444444444444444,
              "#bd3786"
             ],
             [
              0.5555555555555556,
              "#d8576b"
             ],
             [
              0.6666666666666666,
              "#ed7953"
             ],
             [
              0.7777777777777778,
              "#fb9f3a"
             ],
             [
              0.8888888888888888,
              "#fdca26"
             ],
             [
              1,
              "#f0f921"
             ]
            ],
            "type": "contour"
           }
          ],
          "contourcarpet": [
           {
            "colorbar": {
             "outlinewidth": 0,
             "ticks": ""
            },
            "type": "contourcarpet"
           }
          ],
          "heatmap": [
           {
            "colorbar": {
             "outlinewidth": 0,
             "ticks": ""
            },
            "colorscale": [
             [
              0,
              "#0d0887"
             ],
             [
              0.1111111111111111,
              "#46039f"
             ],
             [
              0.2222222222222222,
              "#7201a8"
             ],
             [
              0.3333333333333333,
              "#9c179e"
             ],
             [
              0.4444444444444444,
              "#bd3786"
             ],
             [
              0.5555555555555556,
              "#d8576b"
             ],
             [
              0.6666666666666666,
              "#ed7953"
             ],
             [
              0.7777777777777778,
              "#fb9f3a"
             ],
             [
              0.8888888888888888,
              "#fdca26"
             ],
             [
              1,
              "#f0f921"
             ]
            ],
            "type": "heatmap"
           }
          ],
          "heatmapgl": [
           {
            "colorbar": {
             "outlinewidth": 0,
             "ticks": ""
            },
            "colorscale": [
             [
              0,
              "#0d0887"
             ],
             [
              0.1111111111111111,
              "#46039f"
             ],
             [
              0.2222222222222222,
              "#7201a8"
             ],
             [
              0.3333333333333333,
              "#9c179e"
             ],
             [
              0.4444444444444444,
              "#bd3786"
             ],
             [
              0.5555555555555556,
              "#d8576b"
             ],
             [
              0.6666666666666666,
              "#ed7953"
             ],
             [
              0.7777777777777778,
              "#fb9f3a"
             ],
             [
              0.8888888888888888,
              "#fdca26"
             ],
             [
              1,
              "#f0f921"
             ]
            ],
            "type": "heatmapgl"
           }
          ],
          "histogram": [
           {
            "marker": {
             "pattern": {
              "fillmode": "overlay",
              "size": 10,
              "solidity": 0.2
             }
            },
            "type": "histogram"
           }
          ],
          "histogram2d": [
           {
            "colorbar": {
             "outlinewidth": 0,
             "ticks": ""
            },
            "colorscale": [
             [
              0,
              "#0d0887"
             ],
             [
              0.1111111111111111,
              "#46039f"
             ],
             [
              0.2222222222222222,
              "#7201a8"
             ],
             [
              0.3333333333333333,
              "#9c179e"
             ],
             [
              0.4444444444444444,
              "#bd3786"
             ],
             [
              0.5555555555555556,
              "#d8576b"
             ],
             [
              0.6666666666666666,
              "#ed7953"
             ],
             [
              0.7777777777777778,
              "#fb9f3a"
             ],
             [
              0.8888888888888888,
              "#fdca26"
             ],
             [
              1,
              "#f0f921"
             ]
            ],
            "type": "histogram2d"
           }
          ],
          "histogram2dcontour": [
           {
            "colorbar": {
             "outlinewidth": 0,
             "ticks": ""
            },
            "colorscale": [
             [
              0,
              "#0d0887"
             ],
             [
              0.1111111111111111,
              "#46039f"
             ],
             [
              0.2222222222222222,
              "#7201a8"
             ],
             [
              0.3333333333333333,
              "#9c179e"
             ],
             [
              0.4444444444444444,
              "#bd3786"
             ],
             [
              0.5555555555555556,
              "#d8576b"
             ],
             [
              0.6666666666666666,
              "#ed7953"
             ],
             [
              0.7777777777777778,
              "#fb9f3a"
             ],
             [
              0.8888888888888888,
              "#fdca26"
             ],
             [
              1,
              "#f0f921"
             ]
            ],
            "type": "histogram2dcontour"
           }
          ],
          "mesh3d": [
           {
            "colorbar": {
             "outlinewidth": 0,
             "ticks": ""
            },
            "type": "mesh3d"
           }
          ],
          "parcoords": [
           {
            "line": {
             "colorbar": {
              "outlinewidth": 0,
              "ticks": ""
             }
            },
            "type": "parcoords"
           }
          ],
          "pie": [
           {
            "automargin": true,
            "type": "pie"
           }
          ],
          "scatter": [
           {
            "fillpattern": {
             "fillmode": "overlay",
             "size": 10,
             "solidity": 0.2
            },
            "type": "scatter"
           }
          ],
          "scatter3d": [
           {
            "line": {
             "colorbar": {
              "outlinewidth": 0,
              "ticks": ""
             }
            },
            "marker": {
             "colorbar": {
              "outlinewidth": 0,
              "ticks": ""
             }
            },
            "type": "scatter3d"
           }
          ],
          "scattercarpet": [
           {
            "marker": {
             "colorbar": {
              "outlinewidth": 0,
              "ticks": ""
             }
            },
            "type": "scattercarpet"
           }
          ],
          "scattergeo": [
           {
            "marker": {
             "colorbar": {
              "outlinewidth": 0,
              "ticks": ""
             }
            },
            "type": "scattergeo"
           }
          ],
          "scattergl": [
           {
            "marker": {
             "colorbar": {
              "outlinewidth": 0,
              "ticks": ""
             }
            },
            "type": "scattergl"
           }
          ],
          "scattermapbox": [
           {
            "marker": {
             "colorbar": {
              "outlinewidth": 0,
              "ticks": ""
             }
            },
            "type": "scattermapbox"
           }
          ],
          "scatterpolar": [
           {
            "marker": {
             "colorbar": {
              "outlinewidth": 0,
              "ticks": ""
             }
            },
            "type": "scatterpolar"
           }
          ],
          "scatterpolargl": [
           {
            "marker": {
             "colorbar": {
              "outlinewidth": 0,
              "ticks": ""
             }
            },
            "type": "scatterpolargl"
           }
          ],
          "scatterternary": [
           {
            "marker": {
             "colorbar": {
              "outlinewidth": 0,
              "ticks": ""
             }
            },
            "type": "scatterternary"
           }
          ],
          "surface": [
           {
            "colorbar": {
             "outlinewidth": 0,
             "ticks": ""
            },
            "colorscale": [
             [
              0,
              "#0d0887"
             ],
             [
              0.1111111111111111,
              "#46039f"
             ],
             [
              0.2222222222222222,
              "#7201a8"
             ],
             [
              0.3333333333333333,
              "#9c179e"
             ],
             [
              0.4444444444444444,
              "#bd3786"
             ],
             [
              0.5555555555555556,
              "#d8576b"
             ],
             [
              0.6666666666666666,
              "#ed7953"
             ],
             [
              0.7777777777777778,
              "#fb9f3a"
             ],
             [
              0.8888888888888888,
              "#fdca26"
             ],
             [
              1,
              "#f0f921"
             ]
            ],
            "type": "surface"
           }
          ],
          "table": [
           {
            "cells": {
             "fill": {
              "color": "#EBF0F8"
             },
             "line": {
              "color": "white"
             }
            },
            "header": {
             "fill": {
              "color": "#C8D4E3"
             },
             "line": {
              "color": "white"
             }
            },
            "type": "table"
           }
          ]
         },
         "layout": {
          "annotationdefaults": {
           "arrowcolor": "#2a3f5f",
           "arrowhead": 0,
           "arrowwidth": 1
          },
          "autotypenumbers": "strict",
          "coloraxis": {
           "colorbar": {
            "outlinewidth": 0,
            "ticks": ""
           }
          },
          "colorscale": {
           "diverging": [
            [
             0,
             "#8e0152"
            ],
            [
             0.1,
             "#c51b7d"
            ],
            [
             0.2,
             "#de77ae"
            ],
            [
             0.3,
             "#f1b6da"
            ],
            [
             0.4,
             "#fde0ef"
            ],
            [
             0.5,
             "#f7f7f7"
            ],
            [
             0.6,
             "#e6f5d0"
            ],
            [
             0.7,
             "#b8e186"
            ],
            [
             0.8,
             "#7fbc41"
            ],
            [
             0.9,
             "#4d9221"
            ],
            [
             1,
             "#276419"
            ]
           ],
           "sequential": [
            [
             0,
             "#0d0887"
            ],
            [
             0.1111111111111111,
             "#46039f"
            ],
            [
             0.2222222222222222,
             "#7201a8"
            ],
            [
             0.3333333333333333,
             "#9c179e"
            ],
            [
             0.4444444444444444,
             "#bd3786"
            ],
            [
             0.5555555555555556,
             "#d8576b"
            ],
            [
             0.6666666666666666,
             "#ed7953"
            ],
            [
             0.7777777777777778,
             "#fb9f3a"
            ],
            [
             0.8888888888888888,
             "#fdca26"
            ],
            [
             1,
             "#f0f921"
            ]
           ],
           "sequentialminus": [
            [
             0,
             "#0d0887"
            ],
            [
             0.1111111111111111,
             "#46039f"
            ],
            [
             0.2222222222222222,
             "#7201a8"
            ],
            [
             0.3333333333333333,
             "#9c179e"
            ],
            [
             0.4444444444444444,
             "#bd3786"
            ],
            [
             0.5555555555555556,
             "#d8576b"
            ],
            [
             0.6666666666666666,
             "#ed7953"
            ],
            [
             0.7777777777777778,
             "#fb9f3a"
            ],
            [
             0.8888888888888888,
             "#fdca26"
            ],
            [
             1,
             "#f0f921"
            ]
           ]
          },
          "colorway": [
           "#636efa",
           "#EF553B",
           "#00cc96",
           "#ab63fa",
           "#FFA15A",
           "#19d3f3",
           "#FF6692",
           "#B6E880",
           "#FF97FF",
           "#FECB52"
          ],
          "font": {
           "color": "#2a3f5f"
          },
          "geo": {
           "bgcolor": "white",
           "lakecolor": "white",
           "landcolor": "#E5ECF6",
           "showlakes": true,
           "showland": true,
           "subunitcolor": "white"
          },
          "hoverlabel": {
           "align": "left"
          },
          "hovermode": "closest",
          "mapbox": {
           "style": "light"
          },
          "paper_bgcolor": "white",
          "plot_bgcolor": "#E5ECF6",
          "polar": {
           "angularaxis": {
            "gridcolor": "white",
            "linecolor": "white",
            "ticks": ""
           },
           "bgcolor": "#E5ECF6",
           "radialaxis": {
            "gridcolor": "white",
            "linecolor": "white",
            "ticks": ""
           }
          },
          "scene": {
           "xaxis": {
            "backgroundcolor": "#E5ECF6",
            "gridcolor": "white",
            "gridwidth": 2,
            "linecolor": "white",
            "showbackground": true,
            "ticks": "",
            "zerolinecolor": "white"
           },
           "yaxis": {
            "backgroundcolor": "#E5ECF6",
            "gridcolor": "white",
            "gridwidth": 2,
            "linecolor": "white",
            "showbackground": true,
            "ticks": "",
            "zerolinecolor": "white"
           },
           "zaxis": {
            "backgroundcolor": "#E5ECF6",
            "gridcolor": "white",
            "gridwidth": 2,
            "linecolor": "white",
            "showbackground": true,
            "ticks": "",
            "zerolinecolor": "white"
           }
          },
          "shapedefaults": {
           "line": {
            "color": "#2a3f5f"
           }
          },
          "ternary": {
           "aaxis": {
            "gridcolor": "white",
            "linecolor": "white",
            "ticks": ""
           },
           "baxis": {
            "gridcolor": "white",
            "linecolor": "white",
            "ticks": ""
           },
           "bgcolor": "#E5ECF6",
           "caxis": {
            "gridcolor": "white",
            "linecolor": "white",
            "ticks": ""
           }
          },
          "title": {
           "x": 0.05
          },
          "xaxis": {
           "automargin": true,
           "gridcolor": "white",
           "linecolor": "white",
           "ticks": "",
           "title": {
            "standoff": 15
           },
           "zerolinecolor": "white",
           "zerolinewidth": 2
          },
          "yaxis": {
           "automargin": true,
           "gridcolor": "white",
           "linecolor": "white",
           "ticks": "",
           "title": {
            "standoff": 15
           },
           "zerolinecolor": "white",
           "zerolinewidth": 2
          }
         }
        },
        "xaxis": {
         "anchor": "y",
         "domain": [
          0,
          1
         ],
         "title": {
          "text": "mean"
         }
        },
        "yaxis": {
         "anchor": "x",
         "domain": [
          0,
          1
         ],
         "title": {
          "text": "std"
         }
        }
       }
      },
      "text/html": [
       "<div>                            <div id=\"6c32731a-0ec4-4430-8041-8d4693ea5d2b\" class=\"plotly-graph-div\" style=\"height:525px; width:100%;\"></div>            <script type=\"text/javascript\">                require([\"plotly\"], function(Plotly) {                    window.PLOTLYENV=window.PLOTLYENV || {};                                    if (document.getElementById(\"6c32731a-0ec4-4430-8041-8d4693ea5d2b\")) {                    Plotly.newPlot(                        \"6c32731a-0ec4-4430-8041-8d4693ea5d2b\",                        [{\"customdata\":[[\"Afghanistan\"],[\"Africa\"],[\"Albania\"],[\"Algeria\"],[\"American Samoa\"],[\"Andorra\"],[\"Angola\"],[\"Anguilla\"],[\"Antigua And Barbuda\"],[\"Argentina\"],[\"Armenia\"],[\"Aruba\"],[\"Asia\"],[\"Australia\"],[\"Austria\"],[\"Azerbaijan\"],[\"Bahamas\"],[\"Bahrain\"],[\"Baker Island\"],[\"Bangladesh\"],[\"Barbados\"],[\"Belarus\"],[\"Belgium\"],[\"Belize\"],[\"Benin\"],[\"Bhutan\"],[\"Bolivia\"],[\"Bonaire, Saint Eustatius And Saba\"],[\"Bosnia And Herzegovina\"],[\"Botswana\"],[\"Brazil\"],[\"British Virgin Islands\"],[\"Bulgaria\"],[\"Burkina Faso\"],[\"Burma\"],[\"Burundi\"],[\"Cambodia\"],[\"Cameroon\"],[\"Canada\"],[\"Cape Verde\"],[\"Cayman Islands\"],[\"Central African Republic\"],[\"Chad\"],[\"Chile\"],[\"China\"],[\"Christmas Island\"],[\"Colombia\"],[\"Comoros\"],[\"Congo\"],[\"Congo (Democratic Republic Of The)\"],[\"Costa Rica\"],[\"Croatia\"],[\"Cuba\"],[\"Cura\\u00e7ao\"],[\"Cyprus\"],[\"Czech Republic\"],[\"C\\u00f4te D'Ivoire\"],[\"Denmark\"],[\"Denmark (Europe)\"],[\"Djibouti\"],[\"Dominica\"],[\"Dominican Republic\"],[\"Ecuador\"],[\"Egypt\"],[\"El Salvador\"],[\"Equatorial Guinea\"],[\"Eritrea\"],[\"Estonia\"],[\"Ethiopia\"],[\"Europe\"],[\"Falkland Islands (Islas Malvinas)\"],[\"Faroe Islands\"],[\"Federated States Of Micronesia\"],[\"Fiji\"],[\"Finland\"],[\"France\"],[\"France (Europe)\"],[\"French Guiana\"],[\"French Polynesia\"],[\"French Southern And Antarctic Lands\"],[\"Gabon\"],[\"Gambia\"],[\"Gaza Strip\"],[\"Georgia\"],[\"Germany\"],[\"Ghana\"],[\"Greece\"],[\"Greenland\"],[\"Grenada\"],[\"Guadeloupe\"],[\"Guam\"],[\"Guatemala\"],[\"Guernsey\"],[\"Guinea\"],[\"Guinea Bissau\"],[\"Guyana\"],[\"Haiti\"],[\"Heard Island And Mcdonald Islands\"],[\"Honduras\"],[\"Hong Kong\"],[\"Hungary\"],[\"Iceland\"],[\"India\"],[\"Indonesia\"],[\"Iran\"],[\"Iraq\"],[\"Ireland\"],[\"Isle Of Man\"],[\"Israel\"],[\"Italy\"],[\"Jamaica\"],[\"Japan\"],[\"Jersey\"],[\"Jordan\"],[\"Kazakhstan\"],[\"Kenya\"],[\"Kingman Reef\"],[\"Kiribati\"],[\"Kuwait\"],[\"Kyrgyzstan\"],[\"Laos\"],[\"Latvia\"],[\"Lebanon\"],[\"Lesotho\"],[\"Liberia\"],[\"Libya\"],[\"Liechtenstein\"],[\"Lithuania\"],[\"Luxembourg\"],[\"Macau\"],[\"Macedonia\"],[\"Madagascar\"],[\"Malawi\"],[\"Malaysia\"],[\"Mali\"],[\"Malta\"],[\"Martinique\"],[\"Mauritania\"],[\"Mauritius\"],[\"Mayotte\"],[\"Mexico\"],[\"Moldova\"],[\"Monaco\"],[\"Mongolia\"],[\"Montenegro\"],[\"Montserrat\"],[\"Morocco\"],[\"Mozambique\"],[\"Namibia\"],[\"Nepal\"],[\"Netherlands\"],[\"Netherlands (Europe)\"],[\"New Caledonia\"],[\"New Zealand\"],[\"Nicaragua\"],[\"Niger\"],[\"Nigeria\"],[\"Niue\"],[\"North America\"],[\"North Korea\"],[\"Northern Mariana Islands\"],[\"Norway\"],[\"Oceania\"],[\"Oman\"],[\"Pakistan\"],[\"Palau\"],[\"Palestina\"],[\"Palmyra Atoll\"],[\"Panama\"],[\"Papua New Guinea\"],[\"Paraguay\"],[\"Peru\"],[\"Philippines\"],[\"Poland\"],[\"Portugal\"],[\"Puerto Rico\"],[\"Qatar\"],[\"Reunion\"],[\"Romania\"],[\"Russia\"],[\"Rwanda\"],[\"Saint Barth\\u00e9lemy\"],[\"Saint Kitts And Nevis\"],[\"Saint Lucia\"],[\"Saint Martin\"],[\"Saint Pierre And Miquelon\"],[\"Saint Vincent And The Grenadines\"],[\"Samoa\"],[\"San Marino\"],[\"Sao Tome And Principe\"],[\"Saudi Arabia\"],[\"Senegal\"],[\"Serbia\"],[\"Seychelles\"],[\"Sierra Leone\"],[\"Singapore\"],[\"Sint Maarten\"],[\"Slovakia\"],[\"Slovenia\"],[\"Solomon Islands\"],[\"Somalia\"],[\"South Africa\"],[\"South America\"],[\"South Georgia And The South Sandwich Isla\"],[\"South Korea\"],[\"Spain\"],[\"Sri Lanka\"],[\"Sudan\"],[\"Suriname\"],[\"Svalbard And Jan Mayen\"],[\"Swaziland\"],[\"Sweden\"],[\"Switzerland\"],[\"Syria\"],[\"Taiwan\"],[\"Tajikistan\"],[\"Tanzania\"],[\"Thailand\"],[\"Timor Leste\"],[\"Togo\"],[\"Tonga\"],[\"Trinidad And Tobago\"],[\"Tunisia\"],[\"Turkey\"],[\"Turkmenistan\"],[\"Turks And Caicas Islands\"],[\"Uganda\"],[\"Ukraine\"],[\"United Arab Emirates\"],[\"United Kingdom\"],[\"United Kingdom (Europe)\"],[\"United States\"],[\"Uruguay\"],[\"Uzbekistan\"],[\"Venezuela\"],[\"Vietnam\"],[\"Virgin Islands\"],[\"Western Sahara\"],[\"Yemen\"],[\"Zambia\"],[\"Zimbabwe\"],[\"\\u00c5land\"]],\"hovertemplate\":\"mean=%{x}<br>std=%{y}<br>Country=%{customdata[0]}<br>cluster_index=%{marker.color}<extra></extra>\",\"legendgroup\":\"\",\"marker\":{\"color\":[4,1,4,2,1,4,2,1,1,4,5,1,5,2,5,4,1,1,1,1,1,5,4,1,1,4,2,1,4,2,1,1,4,1,1,2,1,1,3,1,1,1,1,4,5,1,1,1,1,1,1,4,1,1,2,5,1,3,5,1,1,1,2,2,1,1,1,5,2,5,5,5,1,1,5,4,4,1,1,5,1,1,2,5,5,1,4,3,1,1,1,2,4,1,1,1,1,5,1,2,4,5,1,1,2,2,4,4,2,4,1,4,4,2,5,1,1,1,1,5,1,5,2,4,1,2,5,5,4,2,4,2,2,1,1,2,1,1,2,1,2,5,4,3,4,1,2,1,2,4,4,4,2,4,1,1,1,1,5,5,1,5,2,1,2,1,2,1,1,1,1,2,1,5,4,1,1,2,5,3,2,1,1,1,1,5,1,1,4,1,1,1,4,1,1,1,1,5,4,1,1,2,2,5,4,4,1,1,1,3,2,5,5,2,2,5,2,1,1,1,2,1,2,4,4,1,2,5,1,4,4,5,2,4,1,1,1,2,1,2,2,5],\"coloraxis\":\"coloraxis\",\"symbol\":\"circle\"},\"mode\":\"markers\",\"name\":\"\",\"orientation\":\"v\",\"showlegend\":false,\"x\":[14.045007194244604,24.074202745512142,12.610645925457991,22.98511176905996,26.611965009208106,11.201553063802905,21.824549189814817,26.61049185043145,26.437924256951103,14.621194210526316,8.551647926634768,27.92039022051774,7.3478922231614545,21.62469689119171,6.210731838281744,11.175936074918567,25.12822004008016,25.9308093346574,25.37235023279876,24.820242783708977,26.458547938638542,5.819288060644346,9.483378395451673,25.052099776286354,27.17199943181818,11.811878969957082,20.87723052631579,27.17329482262704,10.421283954516742,21.87929669156884,24.699255545286505,26.336523239099186,10.482968414403032,28.083506760411034,23.706197239536955,20.07099012775842,26.65685403576607,24.352585590778098,-5.216658945686901,24.185563568376068,26.722504150283967,25.280406916426514,27.120466282420747,9.383473684210525,6.612731031349386,25.784654071314527,24.716870967741936,25.70220930232558,24.462931988472622,23.77366493955095,25.61578443420379,11.342399873657612,25.40742638706859,27.353414669223397,18.787745686421605,7.62601926721415,25.94853606027987,-18.053050699300698,7.832859444093493,28.8166025331725,26.110151486097795,25.547511210762334,21.869970347003154,22.620693031209917,24.906704545454545,24.921677809798272,26.802653110047846,4.819805748578648,23.01235675997618,7.830063802905875,6.076773492667029,6.619001579279849,26.944357771260997,25.038671779141108,1.244742261528743,12.772445672773216,10.416045799115604,25.718151106833492,26.10709611829945,4.9831111111111115,24.254725648414986,27.538551816239316,19.192636960985627,8.106881895881896,8.152496209728364,26.711013551665726,14.773012002526848,-18.58745804195804,26.741952061361456,26.32956088207095,26.996834337349398,23.111650494159928,10.928408717624762,25.452353098290597,26.76136664885088,25.930920115495667,26.295837740923353,2.5621149425287357,24.69554799459216,22.65989491362764,9.722423246999368,1.4050650663297535,23.873789473684212,25.684483767961684,17.607076451156207,21.775628879310347,9.419558433354391,9.365805432722679,19.62657730263158,12.737121920404297,26.096339563862927,11.951907335907336,10.928408717624762,19.346512587701195,5.202144758735441,24.102428231089934,27.13303443877551,26.73686534779834,25.098140232108317,3.2204981651376143,23.574696349065007,5.320545167403664,17.63161773078487,13.726681793913508,25.37773793103448,22.268253938484623,4.642939039797852,5.9079917877447885,9.165196462413139,22.418374760076777,10.375550852811118,22.74904594441293,21.431086144578316,25.80544200779727,28.44197657082002,18.494875319693094,26.110151486097795,27.62025550435228,23.522653983353152,26.340961429381736,20.567558041958044,8.9317166771952,9.024701831964624,-0.8206709844559585,10.214629500947568,26.383128475551292,17.627497409326423,23.59619475878499,20.484495197438637,14.8073906122449,9.504604548325963,9.112799115603284,22.700108194965186,10.371239107883817,25.957508780036967,27.458972540045767,26.744708309122604,25.094878453038675,2.0283738920225622,6.748336832061068,26.996834337349398,0.09580385344283004,21.452989119170983,26.91686266589729,20.615513304305757,27.216379332477533,23.125663223140496,27.16345599489796,26.291620638085742,24.450801898734177,23.237967557251906,19.935974230044,26.44047248677249,7.46020593809223,14.688179987212276,25.45196166746526,26.784996015936255,23.30140309155767,8.76090176879343,-5.521881912681913,19.244422183507552,26.61049185043145,25.85218600191755,26.646838446788113,26.61049185043145,4.223059955113818,26.78944870565676,26.33186249232658,13.83142229943146,25.794386167146975,25.546407835258666,27.967375,9.986563171193936,26.738423142370962,26.022571277159514,26.52310282651072,26.61049185043145,7.527216993051168,9.659700568540746,26.62503698979592,26.877085169743896,17.27098291510945,21.823920081967213,1.4010251017639077,11.849048745173745,13.61283417561592,26.947687001594897,27.09335942857143,26.17166313763234,-7.448027925531916,18.839807261078484,2.3863319646241314,6.992051484523057,17.917548596990645,21.937427536231883,4.016035217794253,22.34791097178683,25.986800979519145,25.96633271832718,26.87178275666478,23.236247852760737,26.118751198465965,19.97059047314578,11.631567300916139,14.781998181818182,26.662733508082134,23.03296871378911,7.653507264687303,27.693994700582934,8.489325331648768,8.655788060644346,8.60357252215955,17.149306774809162,12.278015938069217,25.025685522531163,23.688365504061156,26.336523239099186,22.319817823343847,26.253596725288055,21.282955621301774,21.117547246376812,5.291383449147189],\"xaxis\":\"x\",\"y\":[9.22562808625195,1.767354847496902,6.992006287211512,7.710150754484953,0.6120770600169315,5.928616295931718,1.7184771947955395,1.3555329238374858,1.2857756404667053,4.846885372622607,9.129693354475645,1.3911996311105628,10.175788761725702,4.892713813117062,7.456458427285005,8.560555380867868,2.474313549852231,6.958616798690009,0.6156200033763826,3.8328640822696864,0.9945080788027457,9.178329682789132,6.126352152150472,1.8155079646035455,1.72026516574545,5.13554248378667,1.8602313412544929,1.2863402710379725,7.438805502807681,4.197290454208352,0.9787871649300676,1.3855149270052693,7.896491130298435,2.266461331357714,2.9020568074838216,0.6970731459822641,1.5142333525568399,1.1077033169722081,12.8780740920338,1.940633570916004,1.6596842496868078,1.2769302192082443,3.2090259277101514,3.179080620264985,9.949540012363524,0.7286037777380647,0.629906483493919,1.347392624748093,0.8808244931649554,0.676270803659174,0.8414134137944984,7.57692966498353,1.8401068038996988,1.2472216694377878,5.686996152989589,7.6219770945783125,1.2385920825038106,10.751181257805143,6.383069875476387,3.1389393423531535,1.16056970673339,1.4020999902936253,0.723098900533994,6.163713892631002,1.0887503202727669,1.0735528632667226,2.3732843144775573,8.90192810226672,1.0837167249740771,7.312509526753876,2.4303221490417837,2.7969551150558947,0.46502803851094626,1.3271885666119596,9.582648586002069,4.85715722461509,5.914469821783125,0.7772037506226586,0.9034971898203613,2.390626525797838,1.0899023139111501,1.801731772934069,6.064324719576567,7.740732654924595,6.913426969118257,1.4590526633375913,6.848276813677991,10.850605640881401,0.8569940230214902,1.241968944604149,0.6870656891128817,1.6318559759764726,3.8809929454169105,1.6410205972307552,1.463588717849196,0.7527485149691309,1.3795929917869032,1.8654320631338301,1.476551904111696,4.831397319666742,8.315091682597352,4.665084039602603,4.325811210417991,0.5192638063275156,8.559339449287426,9.18955363380385,3.8037139517942484,3.5755028938769087,5.855596821462984,6.479437813825746,1.238230705668306,8.18912107262786,3.8809929454169105,7.064419230433743,13.323474545386347,1.0409934603285838,0.633833721942144,0.723480365632823,8.482860767559828,10.361933462918305,3.0968406824426897,8.844474224655611,6.222384288501838,4.335276266985067,1.0212396567854427,6.524369972676989,7.024037957710207,8.572383550473319,6.400047729428072,5.115221895198282,7.896083693168045,2.1632107953472732,2.2665803823613735,0.6855729481499326,4.2298143743470185,4.978016816637608,1.16056970673339,4.919364870931217,2.074372356301235,1.0284689830693687,3.7533429683386887,9.21911513782327,6.756792980560951,14.21542472575486,7.622459793474105,1.2653199475141477,5.859243751042344,2.4009784901078564,3.4426913736974907,5.703862023446658,5.777653896425959,5.880785372431089,2.105586605163983,3.472039712894213,1.0786138265352279,4.763516977111742,1.8131788104287703,1.2961738724322363,9.991894879337812,10.896580789331265,0.6870656891128817,7.259076788253062,4.56247544520099,4.7773584686941035,7.473851268608296,0.5436005766251644,1.5102326600747018,0.6388624667427812,0.7650615030141591,0.6530560365110317,3.4155243242360545,0.8505738817212155,1.0081956735588649,8.185233947420553,5.005202432697652,1.4539354490474652,6.557316209732736,1.8809133074491164,8.505562202460276,14.567358222183051,0.6525613486969798,1.3555329238374858,1.2191359360688585,0.9844426366342042,1.3555329238374858,7.319507776421297,0.9429259401154897,0.5776201158884994,6.171293913614088,0.9768395591784897,6.88015184662242,2.1615205251455154,8.076215645477042,0.8192731622474805,1.1803446802707607,0.7423962997429727,1.3555329238374858,7.91486767679719,7.5084078630321445,0.5778498323545078,1.1828620023399568,4.260834041398516,1.5703509872750294,2.523158482231555,9.311358406756831,6.060843589215606,1.1484435677729694,2.8517637306756605,0.829581464335104,7.541880935093506,3.1989530353111917,8.45461766247738,6.843239589583634,8.22364710850564,4.069457394667414,9.615267616490376,1.1986129921673931,2.014082000267877,1.0611423710755945,1.4758982035567627,1.850832665775587,0.8294061577532131,6.9252052200226935,7.925874465700971,10.514954391070392,1.9042102725258458,0.8594340943311791,9.426926321862831,6.182019453702234,4.006873254863422,4.40041938367515,8.976108782767001,4.5344242553825245,11.149489105396862,0.7031891858045796,3.000440643657776,1.3855149270052693,4.022151748590809,3.78862463107117,2.373674334666076,3.0972839305997493,7.168691665440248],\"yaxis\":\"y\",\"type\":\"scatter\"}],                        {\"template\":{\"data\":{\"histogram2dcontour\":[{\"type\":\"histogram2dcontour\",\"colorbar\":{\"outlinewidth\":0,\"ticks\":\"\"},\"colorscale\":[[0.0,\"#0d0887\"],[0.1111111111111111,\"#46039f\"],[0.2222222222222222,\"#7201a8\"],[0.3333333333333333,\"#9c179e\"],[0.4444444444444444,\"#bd3786\"],[0.5555555555555556,\"#d8576b\"],[0.6666666666666666,\"#ed7953\"],[0.7777777777777778,\"#fb9f3a\"],[0.8888888888888888,\"#fdca26\"],[1.0,\"#f0f921\"]]}],\"choropleth\":[{\"type\":\"choropleth\",\"colorbar\":{\"outlinewidth\":0,\"ticks\":\"\"}}],\"histogram2d\":[{\"type\":\"histogram2d\",\"colorbar\":{\"outlinewidth\":0,\"ticks\":\"\"},\"colorscale\":[[0.0,\"#0d0887\"],[0.1111111111111111,\"#46039f\"],[0.2222222222222222,\"#7201a8\"],[0.3333333333333333,\"#9c179e\"],[0.4444444444444444,\"#bd3786\"],[0.5555555555555556,\"#d8576b\"],[0.6666666666666666,\"#ed7953\"],[0.7777777777777778,\"#fb9f3a\"],[0.8888888888888888,\"#fdca26\"],[1.0,\"#f0f921\"]]}],\"heatmap\":[{\"type\":\"heatmap\",\"colorbar\":{\"outlinewidth\":0,\"ticks\":\"\"},\"colorscale\":[[0.0,\"#0d0887\"],[0.1111111111111111,\"#46039f\"],[0.2222222222222222,\"#7201a8\"],[0.3333333333333333,\"#9c179e\"],[0.4444444444444444,\"#bd3786\"],[0.5555555555555556,\"#d8576b\"],[0.6666666666666666,\"#ed7953\"],[0.7777777777777778,\"#fb9f3a\"],[0.8888888888888888,\"#fdca26\"],[1.0,\"#f0f921\"]]}],\"heatmapgl\":[{\"type\":\"heatmapgl\",\"colorbar\":{\"outlinewidth\":0,\"ticks\":\"\"},\"colorscale\":[[0.0,\"#0d0887\"],[0.1111111111111111,\"#46039f\"],[0.2222222222222222,\"#7201a8\"],[0.3333333333333333,\"#9c179e\"],[0.4444444444444444,\"#bd3786\"],[0.5555555555555556,\"#d8576b\"],[0.6666666666666666,\"#ed7953\"],[0.7777777777777778,\"#fb9f3a\"],[0.8888888888888888,\"#fdca26\"],[1.0,\"#f0f921\"]]}],\"contourcarpet\":[{\"type\":\"contourcarpet\",\"colorbar\":{\"outlinewidth\":0,\"ticks\":\"\"}}],\"contour\":[{\"type\":\"contour\",\"colorbar\":{\"outlinewidth\":0,\"ticks\":\"\"},\"colorscale\":[[0.0,\"#0d0887\"],[0.1111111111111111,\"#46039f\"],[0.2222222222222222,\"#7201a8\"],[0.3333333333333333,\"#9c179e\"],[0.4444444444444444,\"#bd3786\"],[0.5555555555555556,\"#d8576b\"],[0.6666666666666666,\"#ed7953\"],[0.7777777777777778,\"#fb9f3a\"],[0.8888888888888888,\"#fdca26\"],[1.0,\"#f0f921\"]]}],\"surface\":[{\"type\":\"surface\",\"colorbar\":{\"outlinewidth\":0,\"ticks\":\"\"},\"colorscale\":[[0.0,\"#0d0887\"],[0.1111111111111111,\"#46039f\"],[0.2222222222222222,\"#7201a8\"],[0.3333333333333333,\"#9c179e\"],[0.4444444444444444,\"#bd3786\"],[0.5555555555555556,\"#d8576b\"],[0.6666666666666666,\"#ed7953\"],[0.7777777777777778,\"#fb9f3a\"],[0.8888888888888888,\"#fdca26\"],[1.0,\"#f0f921\"]]}],\"mesh3d\":[{\"type\":\"mesh3d\",\"colorbar\":{\"outlinewidth\":0,\"ticks\":\"\"}}],\"scatter\":[{\"fillpattern\":{\"fillmode\":\"overlay\",\"size\":10,\"solidity\":0.2},\"type\":\"scatter\"}],\"parcoords\":[{\"type\":\"parcoords\",\"line\":{\"colorbar\":{\"outlinewidth\":0,\"ticks\":\"\"}}}],\"scatterpolargl\":[{\"type\":\"scatterpolargl\",\"marker\":{\"colorbar\":{\"outlinewidth\":0,\"ticks\":\"\"}}}],\"bar\":[{\"error_x\":{\"color\":\"#2a3f5f\"},\"error_y\":{\"color\":\"#2a3f5f\"},\"marker\":{\"line\":{\"color\":\"#E5ECF6\",\"width\":0.5},\"pattern\":{\"fillmode\":\"overlay\",\"size\":10,\"solidity\":0.2}},\"type\":\"bar\"}],\"scattergeo\":[{\"type\":\"scattergeo\",\"marker\":{\"colorbar\":{\"outlinewidth\":0,\"ticks\":\"\"}}}],\"scatterpolar\":[{\"type\":\"scatterpolar\",\"marker\":{\"colorbar\":{\"outlinewidth\":0,\"ticks\":\"\"}}}],\"histogram\":[{\"marker\":{\"pattern\":{\"fillmode\":\"overlay\",\"size\":10,\"solidity\":0.2}},\"type\":\"histogram\"}],\"scattergl\":[{\"type\":\"scattergl\",\"marker\":{\"colorbar\":{\"outlinewidth\":0,\"ticks\":\"\"}}}],\"scatter3d\":[{\"type\":\"scatter3d\",\"line\":{\"colorbar\":{\"outlinewidth\":0,\"ticks\":\"\"}},\"marker\":{\"colorbar\":{\"outlinewidth\":0,\"ticks\":\"\"}}}],\"scattermapbox\":[{\"type\":\"scattermapbox\",\"marker\":{\"colorbar\":{\"outlinewidth\":0,\"ticks\":\"\"}}}],\"scatterternary\":[{\"type\":\"scatterternary\",\"marker\":{\"colorbar\":{\"outlinewidth\":0,\"ticks\":\"\"}}}],\"scattercarpet\":[{\"type\":\"scattercarpet\",\"marker\":{\"colorbar\":{\"outlinewidth\":0,\"ticks\":\"\"}}}],\"carpet\":[{\"aaxis\":{\"endlinecolor\":\"#2a3f5f\",\"gridcolor\":\"white\",\"linecolor\":\"white\",\"minorgridcolor\":\"white\",\"startlinecolor\":\"#2a3f5f\"},\"baxis\":{\"endlinecolor\":\"#2a3f5f\",\"gridcolor\":\"white\",\"linecolor\":\"white\",\"minorgridcolor\":\"white\",\"startlinecolor\":\"#2a3f5f\"},\"type\":\"carpet\"}],\"table\":[{\"cells\":{\"fill\":{\"color\":\"#EBF0F8\"},\"line\":{\"color\":\"white\"}},\"header\":{\"fill\":{\"color\":\"#C8D4E3\"},\"line\":{\"color\":\"white\"}},\"type\":\"table\"}],\"barpolar\":[{\"marker\":{\"line\":{\"color\":\"#E5ECF6\",\"width\":0.5},\"pattern\":{\"fillmode\":\"overlay\",\"size\":10,\"solidity\":0.2}},\"type\":\"barpolar\"}],\"pie\":[{\"automargin\":true,\"type\":\"pie\"}]},\"layout\":{\"autotypenumbers\":\"strict\",\"colorway\":[\"#636efa\",\"#EF553B\",\"#00cc96\",\"#ab63fa\",\"#FFA15A\",\"#19d3f3\",\"#FF6692\",\"#B6E880\",\"#FF97FF\",\"#FECB52\"],\"font\":{\"color\":\"#2a3f5f\"},\"hovermode\":\"closest\",\"hoverlabel\":{\"align\":\"left\"},\"paper_bgcolor\":\"white\",\"plot_bgcolor\":\"#E5ECF6\",\"polar\":{\"bgcolor\":\"#E5ECF6\",\"angularaxis\":{\"gridcolor\":\"white\",\"linecolor\":\"white\",\"ticks\":\"\"},\"radialaxis\":{\"gridcolor\":\"white\",\"linecolor\":\"white\",\"ticks\":\"\"}},\"ternary\":{\"bgcolor\":\"#E5ECF6\",\"aaxis\":{\"gridcolor\":\"white\",\"linecolor\":\"white\",\"ticks\":\"\"},\"baxis\":{\"gridcolor\":\"white\",\"linecolor\":\"white\",\"ticks\":\"\"},\"caxis\":{\"gridcolor\":\"white\",\"linecolor\":\"white\",\"ticks\":\"\"}},\"coloraxis\":{\"colorbar\":{\"outlinewidth\":0,\"ticks\":\"\"}},\"colorscale\":{\"sequential\":[[0.0,\"#0d0887\"],[0.1111111111111111,\"#46039f\"],[0.2222222222222222,\"#7201a8\"],[0.3333333333333333,\"#9c179e\"],[0.4444444444444444,\"#bd3786\"],[0.5555555555555556,\"#d8576b\"],[0.6666666666666666,\"#ed7953\"],[0.7777777777777778,\"#fb9f3a\"],[0.8888888888888888,\"#fdca26\"],[1.0,\"#f0f921\"]],\"sequentialminus\":[[0.0,\"#0d0887\"],[0.1111111111111111,\"#46039f\"],[0.2222222222222222,\"#7201a8\"],[0.3333333333333333,\"#9c179e\"],[0.4444444444444444,\"#bd3786\"],[0.5555555555555556,\"#d8576b\"],[0.6666666666666666,\"#ed7953\"],[0.7777777777777778,\"#fb9f3a\"],[0.8888888888888888,\"#fdca26\"],[1.0,\"#f0f921\"]],\"diverging\":[[0,\"#8e0152\"],[0.1,\"#c51b7d\"],[0.2,\"#de77ae\"],[0.3,\"#f1b6da\"],[0.4,\"#fde0ef\"],[0.5,\"#f7f7f7\"],[0.6,\"#e6f5d0\"],[0.7,\"#b8e186\"],[0.8,\"#7fbc41\"],[0.9,\"#4d9221\"],[1,\"#276419\"]]},\"xaxis\":{\"gridcolor\":\"white\",\"linecolor\":\"white\",\"ticks\":\"\",\"title\":{\"standoff\":15},\"zerolinecolor\":\"white\",\"automargin\":true,\"zerolinewidth\":2},\"yaxis\":{\"gridcolor\":\"white\",\"linecolor\":\"white\",\"ticks\":\"\",\"title\":{\"standoff\":15},\"zerolinecolor\":\"white\",\"automargin\":true,\"zerolinewidth\":2},\"scene\":{\"xaxis\":{\"backgroundcolor\":\"#E5ECF6\",\"gridcolor\":\"white\",\"linecolor\":\"white\",\"showbackground\":true,\"ticks\":\"\",\"zerolinecolor\":\"white\",\"gridwidth\":2},\"yaxis\":{\"backgroundcolor\":\"#E5ECF6\",\"gridcolor\":\"white\",\"linecolor\":\"white\",\"showbackground\":true,\"ticks\":\"\",\"zerolinecolor\":\"white\",\"gridwidth\":2},\"zaxis\":{\"backgroundcolor\":\"#E5ECF6\",\"gridcolor\":\"white\",\"linecolor\":\"white\",\"showbackground\":true,\"ticks\":\"\",\"zerolinecolor\":\"white\",\"gridwidth\":2}},\"shapedefaults\":{\"line\":{\"color\":\"#2a3f5f\"}},\"annotationdefaults\":{\"arrowcolor\":\"#2a3f5f\",\"arrowhead\":0,\"arrowwidth\":1},\"geo\":{\"bgcolor\":\"white\",\"landcolor\":\"#E5ECF6\",\"subunitcolor\":\"white\",\"showland\":true,\"showlakes\":true,\"lakecolor\":\"white\"},\"title\":{\"x\":0.05},\"mapbox\":{\"style\":\"light\"}}},\"xaxis\":{\"anchor\":\"y\",\"domain\":[0.0,1.0],\"title\":{\"text\":\"mean\"}},\"yaxis\":{\"anchor\":\"x\",\"domain\":[0.0,1.0],\"title\":{\"text\":\"std\"}},\"coloraxis\":{\"colorbar\":{\"title\":{\"text\":\"cluster_index\"}},\"colorscale\":[[0.0,\"#0d0887\"],[0.1111111111111111,\"#46039f\"],[0.2222222222222222,\"#7201a8\"],[0.3333333333333333,\"#9c179e\"],[0.4444444444444444,\"#bd3786\"],[0.5555555555555556,\"#d8576b\"],[0.6666666666666666,\"#ed7953\"],[0.7777777777777778,\"#fb9f3a\"],[0.8888888888888888,\"#fdca26\"],[1.0,\"#f0f921\"]]},\"legend\":{\"tracegroupgap\":0},\"margin\":{\"t\":60}},                        {\"responsive\": true}                    ).then(function(){\n",
       "                            \n",
       "var gd = document.getElementById('6c32731a-0ec4-4430-8041-8d4693ea5d2b');\n",
       "var x = new MutationObserver(function (mutations, observer) {{\n",
       "        var display = window.getComputedStyle(gd).display;\n",
       "        if (!display || display === 'none') {{\n",
       "            console.log([gd, 'removed!']);\n",
       "            Plotly.purge(gd);\n",
       "            observer.disconnect();\n",
       "        }}\n",
       "}});\n",
       "\n",
       "// Listen for the removal of the full notebook cells\n",
       "var notebookContainer = gd.closest('#notebook-container');\n",
       "if (notebookContainer) {{\n",
       "    x.observe(notebookContainer, {childList: true});\n",
       "}}\n",
       "\n",
       "// Listen for the clearing of the current output cell\n",
       "var outputEl = gd.closest('.output');\n",
       "if (outputEl) {{\n",
       "    x.observe(outputEl, {childList: true});\n",
       "}}\n",
       "\n",
       "                        })                };                });            </script>        </div>"
      ]
     },
     "metadata": {},
     "output_type": "display_data"
    }
   ],
   "source": [
    "fig = px.scatter(group_stat, x='mean', y='std', color=\"cluster_index\", hover_data=[group_stat.index])\n",
    "fig.show()"
   ]
  },
  {
   "cell_type": "markdown",
   "id": "d4ef6754",
   "metadata": {},
   "source": [
    "## 🚀 Pour aller plus loin\n",
    "\n",
    "- [Unsupervised learning - Scikit-learn](https://scikit-learn.org/stable/unsupervised_learning.html)"
   ]
  },
  {
   "cell_type": "markdown",
   "id": "4e62ea41",
   "metadata": {},
   "source": [
    "___\n",
    "*👨‍🏫 [Pierre-Loic BAYART](https://www.linkedin.com/in/pierreloicbayart/) - Formation développeur d'applications spécialisation data analyst - Webforce3 - Grenoble Ecole de Management*\n",
    "___\n",
    "Source images d'illustration : Image Wikipedia"
   ]
  }
 ],
 "metadata": {
  "kernelspec": {
   "display_name": "Python 3 (ipykernel)",
   "language": "python",
   "name": "python3"
  },
  "language_info": {
   "codemirror_mode": {
    "name": "ipython",
    "version": 3
   },
   "file_extension": ".py",
   "mimetype": "text/x-python",
   "name": "python",
   "nbconvert_exporter": "python",
   "pygments_lexer": "ipython3",
   "version": "3.9.6"
  }
 },
 "nbformat": 4,
 "nbformat_minor": 5
}
