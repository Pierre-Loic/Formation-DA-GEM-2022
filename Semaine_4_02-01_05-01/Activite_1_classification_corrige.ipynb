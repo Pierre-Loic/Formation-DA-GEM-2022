{
 "cells": [
  {
   "cell_type": "markdown",
   "id": "3f4de1f7",
   "metadata": {},
   "source": [
    "# Activité 1 : classification\n",
    "\n",
    "<img src=\"https://cdn.pixabay.com/photo/2012/02/29/15/47/consumption-19150_1280.jpg\" alt=\"classification\" width=\"400\"/>\n",
    "\n",
    "#### [Pierre-Loic BAYART](https://www.linkedin.com/in/pierreloicbayart/) - Formation développeur d'applications spécialisation data analyst - Webforce3 - Grenoble Ecole de Management\n",
    "\n",
    "### Code pour indiquer l'importance des notions traitées dans cette activité\n",
    "\n",
    "- #### 🥇 : connaissance fondamentale pour l'analyse de données\n",
    "- #### 🥈 : connaissance importante pour l'analyse de données\n",
    "- #### 🥉 : connaissance moins importante pour l'analyse de données\n",
    "> Si rien n'est indiqué, il s'agit de connaissances fondamentales pour l'analyse de données"
   ]
  },
  {
   "cell_type": "markdown",
   "id": "c343052f",
   "metadata": {},
   "source": [
    "## 🔍 Recherche d'informations\n",
    "\n",
    "En recherchant sur le web, trouver les réponses aux questions suivantes :\n",
    "### - En quoi consiste un algorithme de classification ?\n",
    "___\n",
    "Un algorithme de classification est un modèle de machine learning dont la variable cible (target variable) est une catégorie.\n",
    "\n",
    "Source : https://fr.wikipedia.org/wiki/Classement_automatique\n",
    "___\n",
    "### - Donner 5 exemples de modèles de classification (3 modèles simples et 2 ensemblistes)\n",
    "___\n",
    "**Modèles simples** de classification :\n",
    "- régression logistique : [sklearn.linear_model.LogisticRegression](https://scikit-learn.org/stable/modules/generated/sklearn.linear_model.LogisticRegression.html)\n",
    "- arbre de décision : [sklearn.tree.DecisionTreeClassifier](https://scikit-learn.org/stable/modules/generated/sklearn.tree.DecisionTreeClassifier.html)\n",
    "- k plus proches voisins : [sklearn.neighbors.KNeighborsClassifier](https://scikit-learn.org/stable/modules/generated/sklearn.neighbors.KNeighborsClassifier.html)\n",
    "- SVM : [sklearn.svm.SVC](https://scikit-learn.org/stable/modules/generated/sklearn.svm.SVC.html)\n",
    "- classifieur baïf bayésien : [sklearn.naive_bayes.GaussianNB](https://scikit-learn.org/stable/modules/generated/sklearn.naive_bayes.GaussianNB.html#sklearn.naive_bayes.GaussianNB)\n",
    "\n",
    "**Modèles ensemblistes** de classification :\n",
    "- random forest classifier : [sklearn.ensemble.RandomForestClassifier](https://scikit-learn.org/stable/modules/generated/sklearn.ensemble.RandomForestClassifier.html)\n",
    "- gradient boosting classifier : [sklearn.ensemble.GradientBoostingClassifier](https://scikit-learn.org/stable/modules/generated/sklearn.ensemble.GradientBoostingClassifier.html)\n",
    "- extra trees classifier : [sklearn.ensemble.ExtraTreesClassifier](https://scikit-learn.org/stable/modules/generated/sklearn.ensemble.ExtraTreesClassifier.html#sklearn.ensemble.ExtraTreesClassifier)\n",
    "- adaboost classifier : [sklearn.ensemble.AdaBoostClassifier](https://scikit-learn.org/stable/modules/generated/sklearn.ensemble.AdaBoostClassifier.html)\n",
    "\n",
    "___\n",
    "### - Qu'est-ce qu'une classification binaire ? multiclasse ? multilabel ? Donner un exemple dans chaque cas.\n",
    "___\n",
    "Une **classification binaire** est un type de classification où la **variable cible** n'a que **2 modalités** (classer des images de chiens et de chats). La **classification multiclasse** correspond au cas au la variable cible a **plus de deux modalités** (classer des images de chiens, de chats et de lapin). La **classification multilabel** correspond au cas où l'algorithme peut prédire **plus d'une classe** (image avec un chien et un chat).\n",
    "\n",
    "Source :\n",
    "\n",
    "- Multiclass classification : https://en.wikipedia.org/wiki/Multiclass_classification\n",
    "- Multi-label classification : https://en.wikipedia.org/wiki/Multi-label_classification\n",
    "___\n",
    "### - Lister les différentes métriques de classification\n",
    "___\n",
    "- Accuracy : https://scikit-learn.org/stable/modules/generated/sklearn.metrics.accuracy_score.html\n",
    "- Precision : https://scikit-learn.org/stable/modules/generated/sklearn.metrics.precision_score.html\n",
    "- Recall (rappel) : https://scikit-learn.org/stable/modules/generated/sklearn.metrics.recall_score.html\n",
    "- F1-score : https://scikit-learn.org/stable/modules/generated/sklearn.metrics.f1_score.html\n",
    "- FBeta-score : https://scikit-learn.org/stable/modules/generated/sklearn.metrics.fbeta_score.html\n",
    "___\n",
    "### - Qu'est-ce que la matrice de confusion ?\n",
    "___\n",
    "C'est un tableau qui indique la **qualité des prédictions** et qui **classe les prédictions** en fonction des **données réelles (valeur cible)**.\n",
    "\n",
    "Source :\n",
    "\n",
    "- https://fr.wikipedia.org/wiki/Matrice_de_confusion\n",
    "- https://scikit-learn.org/stable/auto_examples/model_selection/plot_confusion_matrix.html\n",
    "___\n"
   ]
  },
  {
   "cell_type": "markdown",
   "id": "5205e5c4",
   "metadata": {},
   "source": [
    "## ✏️ Activités\n",
    "\n",
    "Pour cette activité, nous allons utiliser le jeu de données [Résultats des contrôles officiels sanitaires : dispositif d'information « Alim’confiance »](https://www.data.gouv.fr/fr/datasets/resultats-des-controles-officiels-sanitaires-dispositif-dinformation-alimconfiance/). Ce jeu de données présente les résultats des **contrôles sanitaires dans le secteur alimentaire (restaurants, cantines, abattoirs, etc.)**. L'**objectif** de l'activité est de **créer un modèle de classification** pour **prioriser** les établissements pour les contrôles sanitaires.\n",
    "\n",
    "### 🥇 Analyse exploratoire et nettoyage des données\n",
    "\n",
    "- Récupérer les données dans un **dataframe Pandas** et conserver une **copie des données d'origine** (url des données : https://www.data.gouv.fr/fr/datasets/r/fff0cc27-977b-40d5-9c11-f7e4e79a0b72)"
   ]
  },
  {
   "cell_type": "code",
   "execution_count": 1,
   "id": "a803e5ad",
   "metadata": {},
   "outputs": [],
   "source": [
    "import pandas as pd\n",
    "import matplotlib.pyplot as plt\n",
    "import seaborn as sns"
   ]
  },
  {
   "cell_type": "code",
   "execution_count": 2,
   "id": "9b7e5c69",
   "metadata": {},
   "outputs": [],
   "source": [
    "df_init = pd.read_csv(\"https://www.data.gouv.fr/fr/datasets/r/fff0cc27-977b-40d5-9c11-f7e4e79a0b72\", sep=\";\")"
   ]
  },
  {
   "cell_type": "code",
   "execution_count": 3,
   "id": "2a9be720",
   "metadata": {},
   "outputs": [],
   "source": [
    "df = df_init.copy()"
   ]
  },
  {
   "cell_type": "code",
   "execution_count": 8,
   "id": "95f637df",
   "metadata": {},
   "outputs": [
    {
     "data": {
      "text/html": [
       "<div>\n",
       "<style scoped>\n",
       "    .dataframe tbody tr th:only-of-type {\n",
       "        vertical-align: middle;\n",
       "    }\n",
       "\n",
       "    .dataframe tbody tr th {\n",
       "        vertical-align: top;\n",
       "    }\n",
       "\n",
       "    .dataframe thead th {\n",
       "        text-align: right;\n",
       "    }\n",
       "</style>\n",
       "<table border=\"1\" class=\"dataframe\">\n",
       "  <thead>\n",
       "    <tr style=\"text-align: right;\">\n",
       "      <th></th>\n",
       "      <th>APP_Libelle_etablissement</th>\n",
       "      <th>SIRET</th>\n",
       "      <th>Adresse_2_UA</th>\n",
       "      <th>Code_postal</th>\n",
       "      <th>Libelle_commune</th>\n",
       "      <th>Numero_inspection</th>\n",
       "      <th>Date_inspection</th>\n",
       "      <th>APP_Libelle_activite_etablissement</th>\n",
       "      <th>Synthese_eval_sanit</th>\n",
       "      <th>Agrement</th>\n",
       "      <th>geores</th>\n",
       "      <th>filtre</th>\n",
       "      <th>ods_type_activite</th>\n",
       "    </tr>\n",
       "  </thead>\n",
       "  <tbody>\n",
       "    <tr>\n",
       "      <th>0</th>\n",
       "      <td>DE CERGY NEUVILLE (SYND MIXTE D'ETUDE AMENA GE...</td>\n",
       "      <td>25950062700015</td>\n",
       "      <td>29 R DES ETANGS</td>\n",
       "      <td>95800</td>\n",
       "      <td>CERGY</td>\n",
       "      <td>16527453</td>\n",
       "      <td>2022-07-13T02:00:00+02:00</td>\n",
       "      <td>_</td>\n",
       "      <td>A améliorer</td>\n",
       "      <td>NaN</td>\n",
       "      <td>NaN</td>\n",
       "      <td>NaN</td>\n",
       "      <td>Autres</td>\n",
       "    </tr>\n",
       "    <tr>\n",
       "      <th>1</th>\n",
       "      <td>LE SAINT JOSEPH (RESTAURANT DE LA BOULANGERIE)</td>\n",
       "      <td>31017429700013</td>\n",
       "      <td>46 R MERCIERE</td>\n",
       "      <td>69002</td>\n",
       "      <td>LYON</td>\n",
       "      <td>16463805</td>\n",
       "      <td>2022-04-05T02:00:00+02:00</td>\n",
       "      <td>Restaurant</td>\n",
       "      <td>Très satisfaisant</td>\n",
       "      <td>NaN</td>\n",
       "      <td>45.762926,4.832648</td>\n",
       "      <td>Restaurant</td>\n",
       "      <td>Autres</td>\n",
       "    </tr>\n",
       "    <tr>\n",
       "      <th>2</th>\n",
       "      <td>MUSEE DE LA RENAISSANCE CHATEAU D'ECOUEN</td>\n",
       "      <td>16004612400014</td>\n",
       "      <td>R JEAN BULLANT</td>\n",
       "      <td>95440</td>\n",
       "      <td>ECOUEN</td>\n",
       "      <td>16354089</td>\n",
       "      <td>2022-02-17T01:00:00+01:00</td>\n",
       "      <td>_</td>\n",
       "      <td>Satisfaisant</td>\n",
       "      <td>NaN</td>\n",
       "      <td>49.017271,2.380653</td>\n",
       "      <td>NaN</td>\n",
       "      <td>Autres</td>\n",
       "    </tr>\n",
       "    <tr>\n",
       "      <th>3</th>\n",
       "      <td>NATURALIA (NATURALIA FRANCE)</td>\n",
       "      <td>30247464801894</td>\n",
       "      <td>36 RUE EUGENE EICHENBERGER</td>\n",
       "      <td>92800</td>\n",
       "      <td>PUTEAUX</td>\n",
       "      <td>16611978</td>\n",
       "      <td>2022-10-04T02:00:00+02:00</td>\n",
       "      <td>Alimentation générale</td>\n",
       "      <td>Satisfaisant</td>\n",
       "      <td>NaN</td>\n",
       "      <td>48.881317,2.23746</td>\n",
       "      <td>Alimentation générale</td>\n",
       "      <td>Autres</td>\n",
       "    </tr>\n",
       "    <tr>\n",
       "      <th>4</th>\n",
       "      <td>SOCIETE CAPOCCI</td>\n",
       "      <td>31544532000031</td>\n",
       "      <td>CARRE A LA VIANDE</td>\n",
       "      <td>78000</td>\n",
       "      <td>VERSAILLES</td>\n",
       "      <td>16404936</td>\n",
       "      <td>2022-03-08T01:00:00+01:00</td>\n",
       "      <td>_</td>\n",
       "      <td>Satisfaisant</td>\n",
       "      <td>NaN</td>\n",
       "      <td>48.797148,2.127159</td>\n",
       "      <td>NaN</td>\n",
       "      <td>Autres</td>\n",
       "    </tr>\n",
       "    <tr>\n",
       "      <th>...</th>\n",
       "      <td>...</td>\n",
       "      <td>...</td>\n",
       "      <td>...</td>\n",
       "      <td>...</td>\n",
       "      <td>...</td>\n",
       "      <td>...</td>\n",
       "      <td>...</td>\n",
       "      <td>...</td>\n",
       "      <td>...</td>\n",
       "      <td>...</td>\n",
       "      <td>...</td>\n",
       "      <td>...</td>\n",
       "      <td>...</td>\n",
       "    </tr>\n",
       "    <tr>\n",
       "      <th>34403</th>\n",
       "      <td>OGEC SOC ELISABETH DE PLAISANC</td>\n",
       "      <td>77568307100010</td>\n",
       "      <td>12 RUE CROCE-SPINELLI</td>\n",
       "      <td>75014</td>\n",
       "      <td>Paris 14e  Arrondissement</td>\n",
       "      <td>22-075149-1</td>\n",
       "      <td>2022-09-26T02:00:00+02:00</td>\n",
       "      <td>Restauration collective</td>\n",
       "      <td>Satisfaisant</td>\n",
       "      <td>NaN</td>\n",
       "      <td>48.835253,2.3169</td>\n",
       "      <td>Restauration collective</td>\n",
       "      <td>Autres</td>\n",
       "    </tr>\n",
       "    <tr>\n",
       "      <th>34404</th>\n",
       "      <td>EURL LA ST CHRISTOPHE</td>\n",
       "      <td>48322532200021</td>\n",
       "      <td>route carrière</td>\n",
       "      <td>39130</td>\n",
       "      <td>Largillay-Marsonnay</td>\n",
       "      <td>22-066746-1</td>\n",
       "      <td>2022-08-29T02:00:00+02:00</td>\n",
       "      <td>Découpe de fromages</td>\n",
       "      <td>Satisfaisant</td>\n",
       "      <td>39278002</td>\n",
       "      <td>46.553788,5.671371</td>\n",
       "      <td>NaN</td>\n",
       "      <td>Lait et produits laitiers</td>\n",
       "    </tr>\n",
       "    <tr>\n",
       "      <th>34405</th>\n",
       "      <td>GAEC DES THIBAUDS</td>\n",
       "      <td>53903833100010</td>\n",
       "      <td>375 CHE DES TERRAIONS</td>\n",
       "      <td>26310</td>\n",
       "      <td>Miscon</td>\n",
       "      <td>22-001364-1</td>\n",
       "      <td>2022-11-30T01:00:00+01:00</td>\n",
       "      <td>Transformation de lait ou produits laitiers</td>\n",
       "      <td>Très satisfaisant</td>\n",
       "      <td>26186081</td>\n",
       "      <td>44.6289,5.520219</td>\n",
       "      <td>NaN</td>\n",
       "      <td>Lait et produits laitiers</td>\n",
       "    </tr>\n",
       "    <tr>\n",
       "      <th>34406</th>\n",
       "      <td>RAMAY FREDERIC</td>\n",
       "      <td>50995783300015</td>\n",
       "      <td>54 CHE LA GRAVETTE</td>\n",
       "      <td>33460</td>\n",
       "      <td>Lamarque</td>\n",
       "      <td>22-067996-1</td>\n",
       "      <td>2022-08-30T02:00:00+02:00</td>\n",
       "      <td>Restaurant</td>\n",
       "      <td>Satisfaisant</td>\n",
       "      <td>NaN</td>\n",
       "      <td>45.088165,-0.701619</td>\n",
       "      <td>Restaurant</td>\n",
       "      <td>Autres</td>\n",
       "    </tr>\n",
       "    <tr>\n",
       "      <th>34407</th>\n",
       "      <td>CROUS-REST UNIVERS</td>\n",
       "      <td>18750006100283</td>\n",
       "      <td>4 RUE DE CITEAUX</td>\n",
       "      <td>75012</td>\n",
       "      <td>Paris 12e  Arrondissement</td>\n",
       "      <td>22-037959-1</td>\n",
       "      <td>2022-05-17T02:00:00+02:00</td>\n",
       "      <td>Restauration collective</td>\n",
       "      <td>Satisfaisant</td>\n",
       "      <td>75112087</td>\n",
       "      <td>48.84696,2.380043</td>\n",
       "      <td>Restauration collective</td>\n",
       "      <td>Autres</td>\n",
       "    </tr>\n",
       "  </tbody>\n",
       "</table>\n",
       "<p>34408 rows × 13 columns</p>\n",
       "</div>"
      ],
      "text/plain": [
       "                               APP_Libelle_etablissement           SIRET  \\\n",
       "0      DE CERGY NEUVILLE (SYND MIXTE D'ETUDE AMENA GE...  25950062700015   \n",
       "1         LE SAINT JOSEPH (RESTAURANT DE LA BOULANGERIE)  31017429700013   \n",
       "2               MUSEE DE LA RENAISSANCE CHATEAU D'ECOUEN  16004612400014   \n",
       "3                           NATURALIA (NATURALIA FRANCE)  30247464801894   \n",
       "4                                        SOCIETE CAPOCCI  31544532000031   \n",
       "...                                                  ...             ...   \n",
       "34403                     OGEC SOC ELISABETH DE PLAISANC  77568307100010   \n",
       "34404                              EURL LA ST CHRISTOPHE  48322532200021   \n",
       "34405                                  GAEC DES THIBAUDS  53903833100010   \n",
       "34406                                     RAMAY FREDERIC  50995783300015   \n",
       "34407                                 CROUS-REST UNIVERS  18750006100283   \n",
       "\n",
       "                     Adresse_2_UA Code_postal            Libelle_commune  \\\n",
       "0                 29 R DES ETANGS       95800                      CERGY   \n",
       "1                   46 R MERCIERE       69002                       LYON   \n",
       "2                  R JEAN BULLANT       95440                     ECOUEN   \n",
       "3      36 RUE EUGENE EICHENBERGER       92800                    PUTEAUX   \n",
       "4               CARRE A LA VIANDE       78000                 VERSAILLES   \n",
       "...                           ...         ...                        ...   \n",
       "34403       12 RUE CROCE-SPINELLI       75014  Paris 14e  Arrondissement   \n",
       "34404              route carrière       39130        Largillay-Marsonnay   \n",
       "34405       375 CHE DES TERRAIONS       26310                     Miscon   \n",
       "34406          54 CHE LA GRAVETTE       33460                   Lamarque   \n",
       "34407            4 RUE DE CITEAUX       75012  Paris 12e  Arrondissement   \n",
       "\n",
       "      Numero_inspection            Date_inspection  \\\n",
       "0              16527453  2022-07-13T02:00:00+02:00   \n",
       "1              16463805  2022-04-05T02:00:00+02:00   \n",
       "2              16354089  2022-02-17T01:00:00+01:00   \n",
       "3              16611978  2022-10-04T02:00:00+02:00   \n",
       "4              16404936  2022-03-08T01:00:00+01:00   \n",
       "...                 ...                        ...   \n",
       "34403       22-075149-1  2022-09-26T02:00:00+02:00   \n",
       "34404       22-066746-1  2022-08-29T02:00:00+02:00   \n",
       "34405       22-001364-1  2022-11-30T01:00:00+01:00   \n",
       "34406       22-067996-1  2022-08-30T02:00:00+02:00   \n",
       "34407       22-037959-1  2022-05-17T02:00:00+02:00   \n",
       "\n",
       "                APP_Libelle_activite_etablissement Synthese_eval_sanit  \\\n",
       "0                                                _         A améliorer   \n",
       "1                                       Restaurant   Très satisfaisant   \n",
       "2                                                _        Satisfaisant   \n",
       "3                            Alimentation générale        Satisfaisant   \n",
       "4                                                _        Satisfaisant   \n",
       "...                                            ...                 ...   \n",
       "34403                      Restauration collective        Satisfaisant   \n",
       "34404                          Découpe de fromages        Satisfaisant   \n",
       "34405  Transformation de lait ou produits laitiers   Très satisfaisant   \n",
       "34406                                   Restaurant        Satisfaisant   \n",
       "34407                      Restauration collective        Satisfaisant   \n",
       "\n",
       "       Agrement               geores                   filtre  \\\n",
       "0           NaN                  NaN                      NaN   \n",
       "1           NaN   45.762926,4.832648               Restaurant   \n",
       "2           NaN   49.017271,2.380653                      NaN   \n",
       "3           NaN    48.881317,2.23746    Alimentation générale   \n",
       "4           NaN   48.797148,2.127159                      NaN   \n",
       "...         ...                  ...                      ...   \n",
       "34403       NaN     48.835253,2.3169  Restauration collective   \n",
       "34404  39278002   46.553788,5.671371                      NaN   \n",
       "34405  26186081     44.6289,5.520219                      NaN   \n",
       "34406       NaN  45.088165,-0.701619               Restaurant   \n",
       "34407  75112087    48.84696,2.380043  Restauration collective   \n",
       "\n",
       "               ods_type_activite  \n",
       "0                         Autres  \n",
       "1                         Autres  \n",
       "2                         Autres  \n",
       "3                         Autres  \n",
       "4                         Autres  \n",
       "...                          ...  \n",
       "34403                     Autres  \n",
       "34404  Lait et produits laitiers  \n",
       "34405  Lait et produits laitiers  \n",
       "34406                     Autres  \n",
       "34407                     Autres  \n",
       "\n",
       "[34408 rows x 13 columns]"
      ]
     },
     "execution_count": 8,
     "metadata": {},
     "output_type": "execute_result"
    }
   ],
   "source": [
    "df"
   ]
  },
  {
   "cell_type": "markdown",
   "id": "2a5d29ab",
   "metadata": {},
   "source": [
    "- Analyser les **valeurs manquantes statistiquement et graphiquement**"
   ]
  },
  {
   "cell_type": "code",
   "execution_count": 6,
   "id": "d530fee5",
   "metadata": {},
   "outputs": [
    {
     "name": "stdout",
     "output_type": "stream",
     "text": [
      "Pourcentage de valeurs manquantes :\n"
     ]
    },
    {
     "data": {
      "text/plain": [
       "APP_Libelle_etablissement              0.00\n",
       "SIRET                                  0.00\n",
       "Adresse_2_UA                           1.42\n",
       "Code_postal                            0.00\n",
       "Libelle_commune                        0.00\n",
       "Numero_inspection                      0.00\n",
       "Date_inspection                        0.00\n",
       "APP_Libelle_activite_etablissement     0.00\n",
       "Synthese_eval_sanit                    0.00\n",
       "Agrement                              73.33\n",
       "geores                                 1.98\n",
       "filtre                                25.34\n",
       "ods_type_activite                      0.00\n",
       "dtype: float64"
      ]
     },
     "execution_count": 6,
     "metadata": {},
     "output_type": "execute_result"
    }
   ],
   "source": [
    "print(\"Pourcentage de valeurs manquantes :\")\n",
    "(df.isna().sum()/df.shape[0]*100).round(2)"
   ]
  },
  {
   "cell_type": "code",
   "execution_count": 7,
   "id": "e218319c",
   "metadata": {},
   "outputs": [
    {
     "data": {
      "image/png": "[encoded data removed]",
      "text/plain": [
       "<Figure size 1000x600 with 2 Axes>"
      ]
     },
     "metadata": {},
     "output_type": "display_data"
    }
   ],
   "source": [
    "plt.figure(figsize=(10,6))\n",
    "sns.heatmap(df.isna())\n",
    "plt.show()"
   ]
  },
  {
   "cell_type": "markdown",
   "id": "62e4b157",
   "metadata": {},
   "source": [
    "- **Supprimer les lignes** avec des **valeurs manquantes** dans la **colonne \"geores\"** et **vérifier** que les lignes ont bien été supprimées et uniquement ces lignes"
   ]
  },
  {
   "cell_type": "code",
   "execution_count": 9,
   "id": "61574b6c",
   "metadata": {},
   "outputs": [],
   "source": [
    "df = df.dropna(subset=[\"geores\"])"
   ]
  },
  {
   "cell_type": "code",
   "execution_count": 10,
   "id": "8eb31e03",
   "metadata": {},
   "outputs": [
    {
     "data": {
      "image/png": "[encoded data removed]",
      "text/plain": [
       "<Figure size 1000x600 with 2 Axes>"
      ]
     },
     "metadata": {},
     "output_type": "display_data"
    }
   ],
   "source": [
    "plt.figure(figsize=(10,6))\n",
    "sns.heatmap(df.isna())\n",
    "plt.show()"
   ]
  },
  {
   "cell_type": "code",
   "execution_count": 11,
   "id": "d29ef939",
   "metadata": {},
   "outputs": [
    {
     "name": "stdout",
     "output_type": "stream",
     "text": [
      "Nombre de valeurs manquantes :\n"
     ]
    },
    {
     "data": {
      "text/plain": [
       "APP_Libelle_etablissement                 0\n",
       "SIRET                                     0\n",
       "Adresse_2_UA                            488\n",
       "Code_postal                               0\n",
       "Libelle_commune                           0\n",
       "Numero_inspection                         0\n",
       "Date_inspection                           0\n",
       "APP_Libelle_activite_etablissement        0\n",
       "Synthese_eval_sanit                       0\n",
       "Agrement                              24800\n",
       "geores                                    0\n",
       "filtre                                 8461\n",
       "ods_type_activite                         0\n",
       "dtype: int64"
      ]
     },
     "execution_count": 11,
     "metadata": {},
     "output_type": "execute_result"
    }
   ],
   "source": [
    "print(\"Nombre de valeurs manquantes :\")\n",
    "df.isna().sum()"
   ]
  },
  {
   "cell_type": "code",
   "execution_count": 12,
   "id": "0560d378",
   "metadata": {},
   "outputs": [
    {
     "data": {
      "text/plain": [
       "0         True\n",
       "1        False\n",
       "2        False\n",
       "3        False\n",
       "4        False\n",
       "         ...  \n",
       "34403    False\n",
       "34404    False\n",
       "34405    False\n",
       "34406    False\n",
       "34407    False\n",
       "Name: geores, Length: 34408, dtype: bool"
      ]
     },
     "execution_count": 12,
     "metadata": {},
     "output_type": "execute_result"
    }
   ],
   "source": [
    "df_init[\"geores\"].isna()"
   ]
  },
  {
   "cell_type": "code",
   "execution_count": 13,
   "id": "8230022b",
   "metadata": {},
   "outputs": [
    {
     "data": {
      "text/plain": [
       "True"
      ]
     },
     "execution_count": 13,
     "metadata": {},
     "output_type": "execute_result"
    }
   ],
   "source": [
    "# Vérification que les lignes supprimées sont les bonnes\n",
    "(~df_init.index.isin(df.index) == df_init[\"geores\"].isna()).sum() == df_init.shape[0]"
   ]
  },
  {
   "cell_type": "markdown",
   "id": "164e653f",
   "metadata": {},
   "source": [
    "- **Conserver uniquement les colonnes** 'Date_inspection', 'APP_Libelle_activite_etablissement', 'Synthese_eval_sanit', 'geores' et 'ods_type_activite'. Vérifier qu'il n'y a **pas de valeurs manquantes**."
   ]
  },
  {
   "cell_type": "code",
   "execution_count": 14,
   "id": "2ac8f7b6",
   "metadata": {},
   "outputs": [],
   "source": [
    "useful_cols = ['Date_inspection', 'APP_Libelle_activite_etablissement', 'Synthese_eval_sanit', 'geores', 'ods_type_activite']\n",
    "df = df[useful_cols]"
   ]
  },
  {
   "cell_type": "code",
   "execution_count": 15,
   "id": "b6cf762e",
   "metadata": {},
   "outputs": [
    {
     "name": "stdout",
     "output_type": "stream",
     "text": [
      "Nombre total de valeurs manquantes : 0\n"
     ]
    }
   ],
   "source": [
    "print(f\"Nombre total de valeurs manquantes : {df.isna().sum().sum()}\")"
   ]
  },
  {
   "cell_type": "markdown",
   "id": "72eba559",
   "metadata": {},
   "source": [
    "- Etudier la colonne de la valeur cible 'Synthese_eval_sanit' : **analyser le nombre de valeurs par modalités** statistiquement et graphiquement. Y a-t-il un désiquilibre de classes ?"
   ]
  },
  {
   "cell_type": "code",
   "execution_count": 19,
   "id": "44df472a",
   "metadata": {},
   "outputs": [
    {
     "data": {
      "text/plain": [
       "Satisfaisant                     18088\n",
       "Très satisfaisant                13692\n",
       "A améliorer                       1813\n",
       "A corriger de manière urgente      135\n",
       "Name: Synthese_eval_sanit, dtype: int64"
      ]
     },
     "execution_count": 19,
     "metadata": {},
     "output_type": "execute_result"
    }
   ],
   "source": [
    "df['Synthese_eval_sanit'].value_counts()"
   ]
  },
  {
   "cell_type": "code",
   "execution_count": 20,
   "id": "89014dad",
   "metadata": {},
   "outputs": [
    {
     "data": {
      "image/png": "[encoded data removed]",
      "text/plain": [
       "<Figure size 1000x600 with 1 Axes>"
      ]
     },
     "metadata": {},
     "output_type": "display_data"
    }
   ],
   "source": [
    "plt.figure(figsize=(10,6))\n",
    "sns.countplot(x=df['Synthese_eval_sanit'])\n",
    "plt.show()"
   ]
  },
  {
   "cell_type": "markdown",
   "id": "d6068176",
   "metadata": {},
   "source": [
    "Les contrôles \"satisfaisant\" et \"très satisfaisant\" sont **beaucoup plus représentés** que les autres. Il y a un **fort désiquilibre de classes**."
   ]
  },
  {
   "cell_type": "markdown",
   "id": "55c58c07",
   "metadata": {},
   "source": [
    "- **Analyser le nombre de valeurs par modalités** de la colonne 'ods_type_activite' statistiquement et graphiquement"
   ]
  },
  {
   "cell_type": "code",
   "execution_count": 21,
   "id": "ce2dd5db",
   "metadata": {},
   "outputs": [
    {
     "data": {
      "text/plain": [
       "Autres                                              25797\n",
       "Viandes et produits carnés                           2418\n",
       "Lait et produits laitiers                            1661\n",
       "Produits de la mer et d'eau douce                    1644\n",
       "Abattoirs                                            1001\n",
       "Transport et entreposage de denrées alimentaires      783\n",
       "Œufs et ovoproduits                                   424\n",
       "Name: ods_type_activite, dtype: int64"
      ]
     },
     "execution_count": 21,
     "metadata": {},
     "output_type": "execute_result"
    }
   ],
   "source": [
    "df['ods_type_activite'].value_counts()"
   ]
  },
  {
   "cell_type": "code",
   "execution_count": 22,
   "id": "9433898e",
   "metadata": {},
   "outputs": [
    {
     "data": {
      "image/png": "[encoded data removed]",
      "text/plain": [
       "<Figure size 1000x600 with 1 Axes>"
      ]
     },
     "metadata": {},
     "output_type": "display_data"
    }
   ],
   "source": [
    "plt.figure(figsize=(10,6))\n",
    "sns.countplot(y=df['ods_type_activite'])\n",
    "plt.show()"
   ]
  },
  {
   "cell_type": "markdown",
   "id": "e7d8215e",
   "metadata": {},
   "source": [
    "- **Analyser le nombre de valeurs par modalités** de la colonne 'APP_Libelle_activite_etablissement' statistiquement. Calculer le **nombre de modalités** qui ont un **nombre d'élèments inférieur à 100** et le **nombre d'élèments** de toutes ces modalités. Renommer ces modalités par 'Autres'."
   ]
  },
  {
   "cell_type": "code",
   "execution_count": 23,
   "id": "b415d0af",
   "metadata": {},
   "outputs": [
    {
     "data": {
      "text/plain": [
       "Restaurant                                                              11805\n",
       "Restauration collective                                                  7140\n",
       "Producteur fermier                                                       1546\n",
       "Transformation de lait ou produits laitiers                              1425\n",
       "Boucherie-Charcuterie                                                    1206\n",
       "                                                                        ...  \n",
       "Libre service|Alimentation générale|Poissonnerie                            1\n",
       "Fromagerie|Libre service|Boucherie-Charcuterie                              1\n",
       "Fromagerie|Traiteur                                                         1\n",
       "Chocolatier|Boulangerie-Pâtisserie|Traiteur|Boucherie-Charcuterie           1\n",
       "Fromagerie|Boulangerie-Pâtisserie|Poissonnerie|Boucherie-Charcuterie        1\n",
       "Name: APP_Libelle_activite_etablissement, Length: 155, dtype: int64"
      ]
     },
     "execution_count": 23,
     "metadata": {},
     "output_type": "execute_result"
    }
   ],
   "source": [
    "df['APP_Libelle_activite_etablissement'].value_counts()"
   ]
  },
  {
   "cell_type": "code",
   "execution_count": 24,
   "id": "ad14a201",
   "metadata": {},
   "outputs": [
    {
     "name": "stdout",
     "output_type": "stream",
     "text": [
      "Nombre de modalités dont le nombre d'élèments est inférieur à 100 :\n"
     ]
    },
    {
     "data": {
      "text/plain": [
       "126"
      ]
     },
     "execution_count": 24,
     "metadata": {},
     "output_type": "execute_result"
    }
   ],
   "source": [
    "print(\"Nombre de modalités dont le nombre d'élèments est inférieur à 100 :\")\n",
    "(df['APP_Libelle_activite_etablissement'].value_counts()<100).sum()"
   ]
  },
  {
   "cell_type": "code",
   "execution_count": 25,
   "id": "d03afdaf",
   "metadata": {},
   "outputs": [
    {
     "name": "stdout",
     "output_type": "stream",
     "text": [
      "Nombre total d'élèments des modalités dont le nombre d'élèments est inférieur à 100 :\n"
     ]
    },
    {
     "data": {
      "text/plain": [
       "1831"
      ]
     },
     "execution_count": 25,
     "metadata": {},
     "output_type": "execute_result"
    }
   ],
   "source": [
    "print(\"Nombre total d'élèments des modalités dont le nombre d'élèments est inférieur à 100 :\")\n",
    "df['APP_Libelle_activite_etablissement'].value_counts()[-127:].sum()"
   ]
  },
  {
   "cell_type": "code",
   "execution_count": 26,
   "id": "74fd8f2b",
   "metadata": {},
   "outputs": [],
   "source": [
    "autres = df['APP_Libelle_activite_etablissement'].value_counts()[df['APP_Libelle_activite_etablissement'].value_counts()<100].index"
   ]
  },
  {
   "cell_type": "code",
   "execution_count": 27,
   "id": "86c5ac53",
   "metadata": {},
   "outputs": [],
   "source": [
    "def clean(row):\n",
    "    if row[\"APP_Libelle_activite_etablissement\"] in autres:\n",
    "        row[\"APP_Libelle_activite_etablissement\"] = \"Autres\"\n",
    "    return row"
   ]
  },
  {
   "cell_type": "code",
   "execution_count": 28,
   "id": "8d545cf3",
   "metadata": {},
   "outputs": [
    {
     "data": {
      "text/plain": [
       "Restaurant                                                     11805\n",
       "Restauration collective                                         7140\n",
       "Autres                                                          1716\n",
       "Producteur fermier                                              1546\n",
       "Transformation de lait ou produits laitiers                     1425\n",
       "Boucherie-Charcuterie                                           1206\n",
       "Transformation de produits carnés                               1024\n",
       "Purification/Expédition de coquillages                           799\n",
       "Chaîne d'abattage de volaille/lagomorphe/petit gibier            685\n",
       "Découpe de viande de boucherie                                   639\n",
       "Boulangerie-Pâtisserie                                           595\n",
       "Centre d'emballage des oeufs                                     424\n",
       "Libre service|Alimentation générale                              414\n",
       "VH, VSM, préparation viandes boucherie                           359\n",
       "Libre service                                                    351\n",
       "Mareyage et préparation de produits de la pêche                  315\n",
       "Traiteur                                                         310\n",
       "Transformation de produits de la pêche                           309\n",
       "Traiteur|Boucherie-Charcuterie                                   289\n",
       "Rayon boucherie-charcuterie                                      276\n",
       "Entreposage de distribution de denrées alimentaires              274\n",
       "Transport de denrées alimentaires                                259\n",
       "Découpe de viandes de volailles/lagomorphe                       244\n",
       "Poissonnerie                                                     239\n",
       "Chaîne d'abattage d'animaux boucherie/Gibier ongulé élevage      233\n",
       "Alimentation générale                                            224\n",
       "Rayon poissonnerie                                               201\n",
       "Commerce alimentaire                                             166\n",
       "Caves d'affinage                                                 146\n",
       "Métier de bouche                                                 115\n",
       "Name: APP_Libelle_activite_etablissement, dtype: int64"
      ]
     },
     "execution_count": 28,
     "metadata": {},
     "output_type": "execute_result"
    }
   ],
   "source": [
    "df.apply(clean, axis=1)[\"APP_Libelle_activite_etablissement\"].value_counts()"
   ]
  },
  {
   "cell_type": "code",
   "execution_count": 29,
   "id": "991d535c",
   "metadata": {},
   "outputs": [
    {
     "data": {
      "text/html": [
       "<div>\n",
       "<style scoped>\n",
       "    .dataframe tbody tr th:only-of-type {\n",
       "        vertical-align: middle;\n",
       "    }\n",
       "\n",
       "    .dataframe tbody tr th {\n",
       "        vertical-align: top;\n",
       "    }\n",
       "\n",
       "    .dataframe thead th {\n",
       "        text-align: right;\n",
       "    }\n",
       "</style>\n",
       "<table border=\"1\" class=\"dataframe\">\n",
       "  <thead>\n",
       "    <tr style=\"text-align: right;\">\n",
       "      <th></th>\n",
       "      <th>Date_inspection</th>\n",
       "      <th>APP_Libelle_activite_etablissement</th>\n",
       "      <th>Synthese_eval_sanit</th>\n",
       "      <th>geores</th>\n",
       "      <th>ods_type_activite</th>\n",
       "    </tr>\n",
       "  </thead>\n",
       "  <tbody>\n",
       "    <tr>\n",
       "      <th>1</th>\n",
       "      <td>2022-04-05T02:00:00+02:00</td>\n",
       "      <td>Restaurant</td>\n",
       "      <td>Très satisfaisant</td>\n",
       "      <td>45.762926,4.832648</td>\n",
       "      <td>Autres</td>\n",
       "    </tr>\n",
       "    <tr>\n",
       "      <th>2</th>\n",
       "      <td>2022-02-17T01:00:00+01:00</td>\n",
       "      <td>Autres</td>\n",
       "      <td>Satisfaisant</td>\n",
       "      <td>49.017271,2.380653</td>\n",
       "      <td>Autres</td>\n",
       "    </tr>\n",
       "    <tr>\n",
       "      <th>3</th>\n",
       "      <td>2022-10-04T02:00:00+02:00</td>\n",
       "      <td>Alimentation générale</td>\n",
       "      <td>Satisfaisant</td>\n",
       "      <td>48.881317,2.23746</td>\n",
       "      <td>Autres</td>\n",
       "    </tr>\n",
       "    <tr>\n",
       "      <th>4</th>\n",
       "      <td>2022-03-08T01:00:00+01:00</td>\n",
       "      <td>Autres</td>\n",
       "      <td>Satisfaisant</td>\n",
       "      <td>48.797148,2.127159</td>\n",
       "      <td>Autres</td>\n",
       "    </tr>\n",
       "    <tr>\n",
       "      <th>5</th>\n",
       "      <td>2022-05-12T02:00:00+02:00</td>\n",
       "      <td>Autres</td>\n",
       "      <td>A améliorer</td>\n",
       "      <td>48.703268,1.855354</td>\n",
       "      <td>Autres</td>\n",
       "    </tr>\n",
       "    <tr>\n",
       "      <th>...</th>\n",
       "      <td>...</td>\n",
       "      <td>...</td>\n",
       "      <td>...</td>\n",
       "      <td>...</td>\n",
       "      <td>...</td>\n",
       "    </tr>\n",
       "    <tr>\n",
       "      <th>34403</th>\n",
       "      <td>2022-09-26T02:00:00+02:00</td>\n",
       "      <td>Restauration collective</td>\n",
       "      <td>Satisfaisant</td>\n",
       "      <td>48.835253,2.3169</td>\n",
       "      <td>Autres</td>\n",
       "    </tr>\n",
       "    <tr>\n",
       "      <th>34404</th>\n",
       "      <td>2022-08-29T02:00:00+02:00</td>\n",
       "      <td>Autres</td>\n",
       "      <td>Satisfaisant</td>\n",
       "      <td>46.553788,5.671371</td>\n",
       "      <td>Lait et produits laitiers</td>\n",
       "    </tr>\n",
       "    <tr>\n",
       "      <th>34405</th>\n",
       "      <td>2022-11-30T01:00:00+01:00</td>\n",
       "      <td>Transformation de lait ou produits laitiers</td>\n",
       "      <td>Très satisfaisant</td>\n",
       "      <td>44.6289,5.520219</td>\n",
       "      <td>Lait et produits laitiers</td>\n",
       "    </tr>\n",
       "    <tr>\n",
       "      <th>34406</th>\n",
       "      <td>2022-08-30T02:00:00+02:00</td>\n",
       "      <td>Restaurant</td>\n",
       "      <td>Satisfaisant</td>\n",
       "      <td>45.088165,-0.701619</td>\n",
       "      <td>Autres</td>\n",
       "    </tr>\n",
       "    <tr>\n",
       "      <th>34407</th>\n",
       "      <td>2022-05-17T02:00:00+02:00</td>\n",
       "      <td>Restauration collective</td>\n",
       "      <td>Satisfaisant</td>\n",
       "      <td>48.84696,2.380043</td>\n",
       "      <td>Autres</td>\n",
       "    </tr>\n",
       "  </tbody>\n",
       "</table>\n",
       "<p>33728 rows × 5 columns</p>\n",
       "</div>"
      ],
      "text/plain": [
       "                 Date_inspection           APP_Libelle_activite_etablissement  \\\n",
       "1      2022-04-05T02:00:00+02:00                                   Restaurant   \n",
       "2      2022-02-17T01:00:00+01:00                                       Autres   \n",
       "3      2022-10-04T02:00:00+02:00                        Alimentation générale   \n",
       "4      2022-03-08T01:00:00+01:00                                       Autres   \n",
       "5      2022-05-12T02:00:00+02:00                                       Autres   \n",
       "...                          ...                                          ...   \n",
       "34403  2022-09-26T02:00:00+02:00                      Restauration collective   \n",
       "34404  2022-08-29T02:00:00+02:00                                       Autres   \n",
       "34405  2022-11-30T01:00:00+01:00  Transformation de lait ou produits laitiers   \n",
       "34406  2022-08-30T02:00:00+02:00                                   Restaurant   \n",
       "34407  2022-05-17T02:00:00+02:00                      Restauration collective   \n",
       "\n",
       "      Synthese_eval_sanit               geores          ods_type_activite  \n",
       "1       Très satisfaisant   45.762926,4.832648                     Autres  \n",
       "2            Satisfaisant   49.017271,2.380653                     Autres  \n",
       "3            Satisfaisant    48.881317,2.23746                     Autres  \n",
       "4            Satisfaisant   48.797148,2.127159                     Autres  \n",
       "5             A améliorer   48.703268,1.855354                     Autres  \n",
       "...                   ...                  ...                        ...  \n",
       "34403        Satisfaisant     48.835253,2.3169                     Autres  \n",
       "34404        Satisfaisant   46.553788,5.671371  Lait et produits laitiers  \n",
       "34405   Très satisfaisant     44.6289,5.520219  Lait et produits laitiers  \n",
       "34406        Satisfaisant  45.088165,-0.701619                     Autres  \n",
       "34407        Satisfaisant    48.84696,2.380043                     Autres  \n",
       "\n",
       "[33728 rows x 5 columns]"
      ]
     },
     "execution_count": 29,
     "metadata": {},
     "output_type": "execute_result"
    }
   ],
   "source": [
    "df"
   ]
  },
  {
   "cell_type": "markdown",
   "id": "1dbd06e5",
   "metadata": {},
   "source": [
    "- **Transformer la colonne** \"geores\" en deux colonnes \"latitude\" et \"longitude\" (de type float)"
   ]
  },
  {
   "cell_type": "code",
   "execution_count": null,
   "id": "c22cd838",
   "metadata": {},
   "outputs": [],
   "source": [
    "# A COMPLETER"
   ]
  },
  {
   "cell_type": "markdown",
   "id": "696086e3",
   "metadata": {},
   "source": [
    "- **Transformer** la colonne \"Date_inspection\" en **datetime**"
   ]
  },
  {
   "cell_type": "code",
   "execution_count": null,
   "id": "cc72354b",
   "metadata": {},
   "outputs": [],
   "source": [
    "# A COMPLETER"
   ]
  },
  {
   "cell_type": "markdown",
   "id": "21def207",
   "metadata": {},
   "source": [
    "- **Créer des nouvelles caractéristiques** à partir de la caractéristique \"Date_inspection\" : numéro de semaine dans l'année et numéro du jour dans la semaine. Supprimer la colonne \"Date_inspection\".\n",
    "\n",
    "Ressource : https://pandas.pydata.org/docs/reference/api/pandas.Series.dt.isocalendar.html"
   ]
  },
  {
   "cell_type": "code",
   "execution_count": null,
   "id": "eeef99cc",
   "metadata": {},
   "outputs": [],
   "source": [
    "# A COMPLETER"
   ]
  },
  {
   "cell_type": "markdown",
   "id": "11b64a15",
   "metadata": {},
   "source": [
    "- **Analyser** les données de latitude et de longitude **statistiquement**. **Afficher les données sur une carte** grace à une **carte de chaleur (heatmap)** à l'aide de la bibliothèque **Folium**. **Conclure** sur la présence de **données aberrantes**. \n",
    "\n",
    "Ressource : https://www.kaggle.com/code/daveianhickey/how-to-folium-for-maps-heatmaps-time-data/notebook#Heatmaps,-boo-ya!"
   ]
  },
  {
   "cell_type": "code",
   "execution_count": null,
   "id": "e1b79df1",
   "metadata": {},
   "outputs": [],
   "source": [
    "# A COMPLETER"
   ]
  },
  {
   "cell_type": "markdown",
   "id": "eb6d7a6f",
   "metadata": {},
   "source": [
    "- Grâce à la bibliothèque **Geopandas** et au **GeoJSON de la France métropolitaine** (https://france-geojson.gregoiredavid.fr/repo/regions.geojson), **récupérer uniquement** les données des contrôles en **France métropolitaine**."
   ]
  },
  {
   "cell_type": "code",
   "execution_count": null,
   "id": "a6db66da",
   "metadata": {},
   "outputs": [],
   "source": [
    "# A COMPLETER"
   ]
  },
  {
   "cell_type": "markdown",
   "id": "15a4dbe0",
   "metadata": {},
   "source": [
    "- **Enregistrer** le dataframe obtenu au **format CSV**"
   ]
  },
  {
   "cell_type": "code",
   "execution_count": null,
   "id": "fd1f378e",
   "metadata": {},
   "outputs": [],
   "source": [
    "# A COMPLETER"
   ]
  },
  {
   "cell_type": "markdown",
   "id": "be29f101",
   "metadata": {},
   "source": [
    "### 🥇 Création du pipeline de pré-traitement et d'entrainer d'un modèle de base (baseline) de classification\n",
    "\n",
    "Pour avoir une référence de modèle de base pour les métriques de classification, on utilisation un modèle naïf ([dummy classifier](https://scikit-learn.org/stable/modules/generated/sklearn.dummy.DummyClassifier.html)) et un modèle de [régression logistique](https://scikit-learn.org/stable/modules/generated/sklearn.linear_model.LogisticRegression.html)\n",
    "\n",
    "- Séparer la colonne de la **valeur cible \"Synthese_eval_sanit\" (noté y)**, des **autres colonnes (notés X)**. Grâce à la fonction [sklearn.model_selection.train_test_split()](https://scikit-learn.org/stable/modules/generated/sklearn.model_selection.train_test_split.html), mettre de côté le jeu de données de test avec **20% des données**"
   ]
  },
  {
   "cell_type": "code",
   "execution_count": null,
   "id": "b47f64a6",
   "metadata": {},
   "outputs": [],
   "source": [
    "# A COMPLETER"
   ]
  },
  {
   "cell_type": "markdown",
   "id": "8a1ed671",
   "metadata": {},
   "source": [
    "- Créer une liste pour les **caractéristiques numériques** et une liste pour la **caractéristique catégorielle**"
   ]
  },
  {
   "cell_type": "code",
   "execution_count": null,
   "id": "e12cbae5",
   "metadata": {},
   "outputs": [],
   "source": [
    "# A COMPLETER"
   ]
  },
  {
   "cell_type": "markdown",
   "id": "fd194c36",
   "metadata": {},
   "source": [
    "- Créer un **pipeline de pré-traitement** avec une transformation de **RobustScaler()** sur les données **numériques** et une transformation de **OneHotEncoder()** sur les données **catégorielles**\n",
    "\n",
    "> ℹ️ les fonctions suivantes peuvent être utiles :\n",
    "> - [Column Transformer with Mixed Types](https://scikit-learn.org/stable/auto_examples/compose/plot_column_transformer_mixed_types.html)\n",
    "> - [sklearn.compose.ColumnTransformer](https://scikit-learn.org/stable/modules/generated/sklearn.compose.ColumnTransformer.html#sklearn.compose.ColumnTransformer)\n",
    "> - [sklearn.preprocessing.RobustScaler](https://scikit-learn.org/stable/modules/generated/sklearn.preprocessing.RobustScaler.html)\n",
    "> - [sklearn.preprocessing.OneHotEncoder](https://scikit-learn.org/stable/modules/generated/sklearn.preprocessing.OneHotEncoder.html)"
   ]
  },
  {
   "cell_type": "code",
   "execution_count": null,
   "id": "5db663a6",
   "metadata": {},
   "outputs": [],
   "source": [
    "# A COMPLETER"
   ]
  },
  {
   "cell_type": "markdown",
   "id": "aa8bc0af",
   "metadata": {},
   "source": [
    "- Créer un pipeline **global** de **pré-traitement** et **d'entrainement** d'un modèle naïf de classification puis d'un modèle de **régression logistique**. Calculer l'**accuracy des deux modèles** sur les jeux de données de test et d'entrainement.\n",
    "\n",
    "> ℹ️ les fonctions suivantes peuvent être utiles :\n",
    "> - [sklearn.pipeline.Pipeline](https://scikit-learn.org/stable/modules/generated/sklearn.pipeline.Pipeline.html#sklearn.pipeline.Pipeline)\n",
    "> - [sklearn.dummy.DummyClassifier](https://scikit-learn.org/stable/modules/generated/sklearn.dummy.DummyClassifier.html)\n",
    "> - [sklearn.linear_model.LogisticRegression](https://scikit-learn.org/stable/modules/generated/sklearn.linear_model.LogisticRegression.html)"
   ]
  },
  {
   "cell_type": "code",
   "execution_count": null,
   "id": "ee0a06ba",
   "metadata": {},
   "outputs": [],
   "source": [
    "# A COMPLETER"
   ]
  },
  {
   "cell_type": "markdown",
   "id": "003337ac",
   "metadata": {},
   "source": [
    "- Pour ces deux modèles, calculer les métriques de **précision**, de **rappel (recall)** et le **F1-score**. Calculer aussi un **F-beta** avec un paramètre beta en lien avec le cas d'usage. Afficher la **matrice de confusion**.\n",
    "\n",
    "> ℹ️ les fonctions suivantes peuvent être utiles :\n",
    "> - [sklearn.metrics.classification_report](https://scikit-learn.org/stable/modules/generated/sklearn.metrics.classification_report.html)\n",
    "> - [sklearn.metrics.confusion_matrix](https://scikit-learn.org/stable/modules/generated/sklearn.metrics.confusion_matrix.html#sklearn.metrics.confusion_matrix)\n",
    "> - [sklearn.metrics.fbeta_score](https://scikit-learn.org/stable/modules/generated/sklearn.metrics.fbeta_score.html)"
   ]
  },
  {
   "cell_type": "code",
   "execution_count": null,
   "id": "2d8fc1da",
   "metadata": {},
   "outputs": [],
   "source": [
    "# A COMPLETER"
   ]
  },
  {
   "cell_type": "markdown",
   "id": "4f64da6d",
   "metadata": {},
   "source": [
    "### 🥇 Test de différents modèles et optimisation des hyperparamètres\n",
    "\n",
    "- Créer un pipeline avec un **arbre de décision** et **comparer** les résultats avec **la régression logistique** (métriques et matrice de confusion)\n",
    "\n",
    "> ℹ️ les fonctions suivantes peuvent être utiles :\n",
    "> - [sklearn.tree.DecisionTreeClassifier](https://scikit-learn.org/stable/modules/generated/sklearn.tree.DecisionTreeClassifier.html)"
   ]
  },
  {
   "cell_type": "code",
   "execution_count": null,
   "id": "a552f5b3",
   "metadata": {},
   "outputs": [],
   "source": [
    "# A COMPLETER"
   ]
  },
  {
   "cell_type": "markdown",
   "id": "b61dd35f",
   "metadata": {},
   "source": [
    "- Créer un pipeline avec un modèle de **k plus proches voisins** et **comparer** les résultats avec **la régression logistique** (métriques et matrice de confusion)\n",
    "\n",
    "> ℹ️ les fonctions suivantes peuvent être utiles :\n",
    "> - [sklearn.neighbors.KNeighborsClassifier](https://scikit-learn.org/stable/modules/generated/sklearn.neighbors.KNeighborsClassifier.html)"
   ]
  },
  {
   "cell_type": "code",
   "execution_count": null,
   "id": "4000dda7",
   "metadata": {},
   "outputs": [],
   "source": [
    "# A COMPLETER"
   ]
  },
  {
   "cell_type": "markdown",
   "id": "626bcf0b",
   "metadata": {},
   "source": [
    "- Créer un pipeline avec un modèle de **random forest** et **comparer** les résultats avec les modèles précédents\n",
    "\n",
    "> ℹ️ les fonctions suivantes peuvent être utiles :\n",
    "> - [sklearn.ensemble.RandomForestClassifier](https://scikit-learn.org/stable/modules/generated/sklearn.ensemble.RandomForestClassifier.html)"
   ]
  },
  {
   "cell_type": "code",
   "execution_count": null,
   "id": "0358cd17",
   "metadata": {},
   "outputs": [],
   "source": [
    "# A COMPLETER"
   ]
  },
  {
   "cell_type": "markdown",
   "id": "cac7a73b",
   "metadata": {},
   "source": [
    "- Créer un pipeline avec un modèle de **gradient boosting** et **comparer** les résultats avec les modèles précédents\n",
    "\n",
    "> ℹ️ les fonctions suivantes peuvent être utiles :\n",
    "> - [sklearn.ensemble.GradientBoostingClassifier](https://scikit-learn.org/stable/modules/generated/sklearn.ensemble.GradientBoostingClassifier.html)"
   ]
  },
  {
   "cell_type": "code",
   "execution_count": null,
   "id": "70b5ca2f",
   "metadata": {},
   "outputs": [],
   "source": [
    "# A COMPLETER"
   ]
  },
  {
   "cell_type": "markdown",
   "id": "54c19ad6",
   "metadata": {},
   "source": [
    "- Effectuer une **recherche par grille (grid search)** sur le pipeline du modèle le plus intéressant. Essayer différentes valeurs pour les paramètres et **optimiser l'algorithme** grâce au **F-beta score**. Afficher les métriques de classification et les meilleurs hyperparamètres\n",
    "\n",
    "> ℹ️ les fonctions suivantes peuvent être utiles :\n",
    "> - [Putting it all together](https://scikit-learn.org/stable/tutorial/statistical_inference/putting_together.html)\n",
    "> - [sklearn.model_selection.GridSearchCV](https://scikit-learn.org/stable/modules/generated/sklearn.model_selection.GridSearchCV.html)"
   ]
  },
  {
   "cell_type": "code",
   "execution_count": null,
   "id": "c75ebd92",
   "metadata": {},
   "outputs": [],
   "source": [
    "# A COMPLETER"
   ]
  },
  {
   "cell_type": "code",
   "execution_count": null,
   "id": "35e440a9",
   "metadata": {},
   "outputs": [],
   "source": [
    "show_metrics(search.best_estimator_)"
   ]
  },
  {
   "cell_type": "markdown",
   "id": "9e70d58f",
   "metadata": {},
   "source": [
    "### 🚢 Exporter le modèle"
   ]
  },
  {
   "cell_type": "markdown",
   "id": "590ac6c0",
   "metadata": {},
   "source": [
    "- **Sauvegarder (serialiser) le meilleur pipeline** dans un fichier joblib grâce à la fonction `joblib.dump()`\n",
    "\n",
    "> ℹ️ les fonctions suivantes peuvent être utiles :\n",
    "> - [Model persistence](https://scikit-learn.org/stable/model_persistence.html)"
   ]
  },
  {
   "cell_type": "code",
   "execution_count": null,
   "id": "6613b023",
   "metadata": {},
   "outputs": [],
   "source": [
    "# A COMPLETER"
   ]
  },
  {
   "cell_type": "markdown",
   "id": "a8c61b6c",
   "metadata": {},
   "source": [
    "## 🚀 Pour aller plus loin\n",
    "\n",
    "- [Binary classification - Wikipedia](https://en.wikipedia.org/wiki/Binary_classification)\n",
    "- [Multiclass classification - Wikipedia](https://en.wikipedia.org/wiki/Multiclass_classification)\n",
    "- [Multi-label classification - Wikipedia](https://en.wikipedia.org/wiki/Multi-label_classification)"
   ]
  },
  {
   "cell_type": "markdown",
   "id": "0e75a49b",
   "metadata": {},
   "source": [
    "___\n",
    "*👨‍🏫 [Pierre-Loic BAYART](https://www.linkedin.com/in/pierreloicbayart/) - Formation développeur d'applications spécialisation data analyst - Webforce3 - Grenoble Ecole de Management*\n",
    "___\n",
    "Source images d'illustration : Image par PublicDomainPictures de Pixabay"
   ]
  }
 ],
 "metadata": {
  "kernelspec": {
   "display_name": "Python 3 (ipykernel)",
   "language": "python",
   "name": "python3"
  },
  "language_info": {
   "codemirror_mode": {
    "name": "ipython",
    "version": 3
   },
   "file_extension": ".py",
   "mimetype": "text/x-python",
   "name": "python",
   "nbconvert_exporter": "python",
   "pygments_lexer": "ipython3",
   "version": "3.9.6"
  }
 },
 "nbformat": 4,
 "nbformat_minor": 5
}
