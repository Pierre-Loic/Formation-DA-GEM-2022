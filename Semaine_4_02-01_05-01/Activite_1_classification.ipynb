{
 "cells": [
  {
   "cell_type": "markdown",
   "id": "3f4de1f7",
   "metadata": {},
   "source": [
    "# Activité 1 : classification\n",
    "\n",
    "<img src=\"https://cdn.pixabay.com/photo/2012/02/29/15/47/consumption-19150_1280.jpg\" alt=\"classification\" width=\"400\"/>\n",
    "\n",
    "#### [Pierre-Loic BAYART](https://www.linkedin.com/in/pierreloicbayart/) - Formation développeur d'applications spécialisation data analyst - Webforce3 - Grenoble Ecole de Management\n",
    "\n",
    "### Code pour indiquer l'importance des notions traitées dans cette activité\n",
    "\n",
    "- #### 🥇 : connaissance fondamentale pour l'analyse de données\n",
    "- #### 🥈 : connaissance importante pour l'analyse de données\n",
    "- #### 🥉 : connaissance moins importante pour l'analyse de données\n",
    "> Si rien n'est indiqué, il s'agit de connaissances fondamentales pour l'analyse de données"
   ]
  },
  {
   "cell_type": "markdown",
   "id": "c343052f",
   "metadata": {},
   "source": [
    "## 🔍 Recherche d'informations\n",
    "\n",
    "En recherchant sur le web, trouver les réponses aux questions suivantes :\n",
    "### - En quoi consiste un algorithme de classification ?\n",
    "___\n",
    "*A COMPLETER*\n",
    "___\n",
    "### - Donner 5 exemples de modèles de classification (3 modèles simples et 2 ensemblistes)\n",
    "___\n",
    "*A COMPLETER*\n",
    "___\n",
    "### - Qu'est-ce qu'une classification binaire ? multiclasse ? multilabel ? Donner un exemple dans chaque cas.\n",
    "___\n",
    "*A COMPLETER*\n",
    "___\n",
    "### - Lister les différentes métriques de classification\n",
    "___\n",
    "*A COMPLETER*\n",
    "___\n",
    "### - Qu'est-ce que la matrice de confusion ?\n",
    "___\n",
    "*A COMPLETER*\n",
    "___\n"
   ]
  },
  {
   "cell_type": "markdown",
   "id": "5205e5c4",
   "metadata": {},
   "source": [
    "## ✏️ Activités\n",
    "\n",
    "Pour cette activité, nous allons utiliser le jeu de données [Résultats des contrôles officiels sanitaires : dispositif d'information « Alim’confiance »](https://www.data.gouv.fr/fr/datasets/resultats-des-controles-officiels-sanitaires-dispositif-dinformation-alimconfiance/). Ce jeu de données présente les résultats des **contrôles sanitaires dans le secteur alimentaire (restaurants, cantines, abattoirs, etc.)**. L'**objectif** de l'activité est de **créer un modèle de classification** pour **prioriser** les établissements pour les contrôles sanitaires.\n",
    "\n",
    "### 🥇 Analyse exploratoire et nettoyage des données\n",
    "\n",
    "- Récupérer les données dans un **dataframe Pandas** et conserver une **copie des données d'origine** (url des données : https://www.data.gouv.fr/fr/datasets/r/fff0cc27-977b-40d5-9c11-f7e4e79a0b72)"
   ]
  },
  {
   "cell_type": "code",
   "execution_count": null,
   "id": "a803e5ad",
   "metadata": {},
   "outputs": [],
   "source": [
    "# A COMPLETER"
   ]
  },
  {
   "cell_type": "markdown",
   "id": "2a5d29ab",
   "metadata": {},
   "source": [
    "- Analyser les **valeurs manquantes statistiquement et graphiquement**"
   ]
  },
  {
   "cell_type": "code",
   "execution_count": null,
   "id": "d530fee5",
   "metadata": {},
   "outputs": [],
   "source": [
    "# A COMPLETER"
   ]
  },
  {
   "cell_type": "markdown",
   "id": "62e4b157",
   "metadata": {},
   "source": [
    "- **Supprimer les lignes** avec des **valeurs manquantes** dans la **colonne \"geores\"** et **vérifier** que les lignes ont bien été supprimées et uniquement ces lignes"
   ]
  },
  {
   "cell_type": "code",
   "execution_count": null,
   "id": "61574b6c",
   "metadata": {},
   "outputs": [],
   "source": [
    "# A COMPLETER"
   ]
  },
  {
   "cell_type": "markdown",
   "id": "164e653f",
   "metadata": {},
   "source": [
    "- **Conserver uniquement les colonnes** 'Date_inspection', 'APP_Libelle_activite_etablissement', 'Synthese_eval_sanit', 'geores' et 'ods_type_activite'. Vérifier qu'il n'y a **pas de valeurs manquantes**."
   ]
  },
  {
   "cell_type": "code",
   "execution_count": null,
   "id": "2ac8f7b6",
   "metadata": {},
   "outputs": [],
   "source": [
    "# A COMPLETER"
   ]
  },
  {
   "cell_type": "markdown",
   "id": "72eba559",
   "metadata": {},
   "source": [
    "- Etudier la colonne de la valeur cible 'Synthese_eval_sanit' : **analyser le nombre de valeurs par modalités** statistiquement et graphiquement. Y a-t-il un désiquilibre de classes ?"
   ]
  },
  {
   "cell_type": "code",
   "execution_count": null,
   "id": "44df472a",
   "metadata": {},
   "outputs": [],
   "source": [
    "# A COMPLETER"
   ]
  },
  {
   "cell_type": "markdown",
   "id": "55c58c07",
   "metadata": {},
   "source": [
    "- **Analyser le nombre de valeurs par modalités** de la colonne 'ods_type_activite' statistiquement et graphiquement"
   ]
  },
  {
   "cell_type": "code",
   "execution_count": null,
   "id": "ce2dd5db",
   "metadata": {},
   "outputs": [],
   "source": [
    "# A COMPLETER"
   ]
  },
  {
   "cell_type": "markdown",
   "id": "e7d8215e",
   "metadata": {},
   "source": [
    "- **Analyser le nombre de valeurs par modalités** de la colonne 'APP_Libelle_activite_etablissement' statistiquement. Calculer le **nombre de modalités** qui ont un **nombre d'élèments inférieur à 100** et le **nombre d'élèments** de toutes ces modalités. Renommer ces modalités par 'Autres'."
   ]
  },
  {
   "cell_type": "code",
   "execution_count": null,
   "id": "b415d0af",
   "metadata": {},
   "outputs": [],
   "source": [
    "# A COMPLETER"
   ]
  },
  {
   "cell_type": "markdown",
   "id": "1dbd06e5",
   "metadata": {},
   "source": [
    "- **Transformer la colonne** \"geores\" en deux colonnes \"latitude\" et \"longitude\" (de type float)"
   ]
  },
  {
   "cell_type": "code",
   "execution_count": null,
   "id": "c22cd838",
   "metadata": {},
   "outputs": [],
   "source": [
    "# A COMPLETER"
   ]
  },
  {
   "cell_type": "markdown",
   "id": "696086e3",
   "metadata": {},
   "source": [
    "- **Transformer** la colonne \"Date_inspection\" en **datetime**"
   ]
  },
  {
   "cell_type": "code",
   "execution_count": null,
   "id": "cc72354b",
   "metadata": {},
   "outputs": [],
   "source": [
    "# A COMPLETER"
   ]
  },
  {
   "cell_type": "markdown",
   "id": "21def207",
   "metadata": {},
   "source": [
    "- **Créer des nouvelles caractéristiques** à partir de la caractéristique \"Date_inspection\" : numéro de semaine dans l'année et numéro du jour dans la semaine. Supprimer la colonne \"Date_inspection\".\n",
    "\n",
    "Ressource : https://pandas.pydata.org/docs/reference/api/pandas.Series.dt.isocalendar.html"
   ]
  },
  {
   "cell_type": "code",
   "execution_count": null,
   "id": "eeef99cc",
   "metadata": {},
   "outputs": [],
   "source": [
    "# A COMPLETER"
   ]
  },
  {
   "cell_type": "markdown",
   "id": "11b64a15",
   "metadata": {},
   "source": [
    "- **Analyser** les données de latitude et de longitude **statistiquement**. **Afficher les données sur une carte** grace à une **carte de chaleur (heatmap)** à l'aide de la bibliothèque **Folium**. **Conclure** sur la présence de **données aberrantes**. \n",
    "\n",
    "Ressource : https://www.kaggle.com/code/daveianhickey/how-to-folium-for-maps-heatmaps-time-data/notebook#Heatmaps,-boo-ya!"
   ]
  },
  {
   "cell_type": "code",
   "execution_count": null,
   "id": "e1b79df1",
   "metadata": {},
   "outputs": [],
   "source": [
    "# A COMPLETER"
   ]
  },
  {
   "cell_type": "markdown",
   "id": "eb6d7a6f",
   "metadata": {},
   "source": [
    "- Grâce à la bibliothèque **Geopandas** et au **GeoJSON de la France métropolitaine** (https://france-geojson.gregoiredavid.fr/repo/regions.geojson), **récupérer uniquement** les données des contrôles en **France métropolitaine**."
   ]
  },
  {
   "cell_type": "code",
   "execution_count": null,
   "id": "a6db66da",
   "metadata": {},
   "outputs": [],
   "source": [
    "# A COMPLETER"
   ]
  },
  {
   "cell_type": "markdown",
   "id": "15a4dbe0",
   "metadata": {},
   "source": [
    "- **Enregistrer** le dataframe obtenu au **format CSV**"
   ]
  },
  {
   "cell_type": "code",
   "execution_count": null,
   "id": "fd1f378e",
   "metadata": {},
   "outputs": [],
   "source": [
    "# A COMPLETER"
   ]
  },
  {
   "cell_type": "markdown",
   "id": "be29f101",
   "metadata": {},
   "source": [
    "### 🥇 Création du pipeline de pré-traitement et d'entrainer d'un modèle de base (baseline) de classification\n",
    "\n",
    "Pour avoir une référence de modèle de base pour les métriques de classification, on utilisation un modèle naïf ([dummy classifier](https://scikit-learn.org/stable/modules/generated/sklearn.dummy.DummyClassifier.html)) et un modèle de [régression logistique](https://scikit-learn.org/stable/modules/generated/sklearn.linear_model.LogisticRegression.html)\n",
    "\n",
    "- Séparer la colonne de la **valeur cible \"Synthese_eval_sanit\" (noté y)**, des **autres colonnes (notés X)**. Grâce à la fonction [sklearn.model_selection.train_test_split()](https://scikit-learn.org/stable/modules/generated/sklearn.model_selection.train_test_split.html), mettre de côté le jeu de données de test avec **20% des données**"
   ]
  },
  {
   "cell_type": "code",
   "execution_count": null,
   "id": "b47f64a6",
   "metadata": {},
   "outputs": [],
   "source": [
    "# A COMPLETER"
   ]
  },
  {
   "cell_type": "markdown",
   "id": "8a1ed671",
   "metadata": {},
   "source": [
    "- Créer une liste pour les **caractéristiques numériques** et une liste pour la **caractéristique catégorielle**"
   ]
  },
  {
   "cell_type": "code",
   "execution_count": null,
   "id": "e12cbae5",
   "metadata": {},
   "outputs": [],
   "source": [
    "# A COMPLETER"
   ]
  },
  {
   "cell_type": "markdown",
   "id": "fd194c36",
   "metadata": {},
   "source": [
    "- Créer un **pipeline de pré-traitement** avec une transformation de **RobustScaler()** sur les données **numériques** et une transformation de **OneHotEncoder()** sur les données **catégorielles**\n",
    "\n",
    "> ℹ️ les fonctions suivantes peuvent être utiles :\n",
    "> - [Column Transformer with Mixed Types](https://scikit-learn.org/stable/auto_examples/compose/plot_column_transformer_mixed_types.html)\n",
    "> - [sklearn.compose.ColumnTransformer](https://scikit-learn.org/stable/modules/generated/sklearn.compose.ColumnTransformer.html#sklearn.compose.ColumnTransformer)\n",
    "> - [sklearn.preprocessing.RobustScaler](https://scikit-learn.org/stable/modules/generated/sklearn.preprocessing.RobustScaler.html)\n",
    "> - [sklearn.preprocessing.OneHotEncoder](https://scikit-learn.org/stable/modules/generated/sklearn.preprocessing.OneHotEncoder.html)"
   ]
  },
  {
   "cell_type": "code",
   "execution_count": null,
   "id": "5db663a6",
   "metadata": {},
   "outputs": [],
   "source": [
    "# A COMPLETER"
   ]
  },
  {
   "cell_type": "markdown",
   "id": "aa8bc0af",
   "metadata": {},
   "source": [
    "- Créer un pipeline **global** de **pré-traitement** et **d'entrainement** d'un modèle naïf de classification puis d'un modèle de **régression logistique**. Calculer l'**accuracy des deux modèles** sur les jeux de données de test et d'entrainement.\n",
    "\n",
    "> ℹ️ les fonctions suivantes peuvent être utiles :\n",
    "> - [sklearn.pipeline.Pipeline](https://scikit-learn.org/stable/modules/generated/sklearn.pipeline.Pipeline.html#sklearn.pipeline.Pipeline)\n",
    "> - [sklearn.dummy.DummyClassifier](https://scikit-learn.org/stable/modules/generated/sklearn.dummy.DummyClassifier.html)\n",
    "> - [sklearn.linear_model.LogisticRegression](https://scikit-learn.org/stable/modules/generated/sklearn.linear_model.LogisticRegression.html)"
   ]
  },
  {
   "cell_type": "code",
   "execution_count": null,
   "id": "ee0a06ba",
   "metadata": {},
   "outputs": [],
   "source": [
    "# A COMPLETER"
   ]
  },
  {
   "cell_type": "markdown",
   "id": "003337ac",
   "metadata": {},
   "source": [
    "- Pour ces deux modèles, calculer les métriques de **précision**, de **rappel (recall)** et le **F1-score**. Calculer aussi un **F-beta** avec un paramètre beta en lien avec le cas d'usage. Afficher la **matrice de confusion**.\n",
    "\n",
    "> ℹ️ les fonctions suivantes peuvent être utiles :\n",
    "> - [sklearn.metrics.classification_report](https://scikit-learn.org/stable/modules/generated/sklearn.metrics.classification_report.html)\n",
    "> - [sklearn.metrics.confusion_matrix](https://scikit-learn.org/stable/modules/generated/sklearn.metrics.confusion_matrix.html#sklearn.metrics.confusion_matrix)\n",
    "> - [sklearn.metrics.fbeta_score](https://scikit-learn.org/stable/modules/generated/sklearn.metrics.fbeta_score.html)"
   ]
  },
  {
   "cell_type": "code",
   "execution_count": null,
   "id": "2d8fc1da",
   "metadata": {},
   "outputs": [],
   "source": [
    "# A COMPLETER"
   ]
  },
  {
   "cell_type": "markdown",
   "id": "4f64da6d",
   "metadata": {},
   "source": [
    "### 🥇 Test de différents modèles et optimisation des hyperparamètres\n",
    "\n",
    "- Créer un pipeline avec un **arbre de décision** et **comparer** les résultats avec **la régression logistique** (métriques et matrice de confusion)\n",
    "\n",
    "> ℹ️ les fonctions suivantes peuvent être utiles :\n",
    "> - [sklearn.tree.DecisionTreeClassifier](https://scikit-learn.org/stable/modules/generated/sklearn.tree.DecisionTreeClassifier.html)"
   ]
  },
  {
   "cell_type": "code",
   "execution_count": null,
   "id": "a552f5b3",
   "metadata": {},
   "outputs": [],
   "source": [
    "# A COMPLETER"
   ]
  },
  {
   "cell_type": "markdown",
   "id": "b61dd35f",
   "metadata": {},
   "source": [
    "- Créer un pipeline avec un modèle de **k plus proches voisins** et **comparer** les résultats avec **la régression logistique** (métriques et matrice de confusion)\n",
    "\n",
    "> ℹ️ les fonctions suivantes peuvent être utiles :\n",
    "> - [sklearn.neighbors.KNeighborsClassifier](https://scikit-learn.org/stable/modules/generated/sklearn.neighbors.KNeighborsClassifier.html)"
   ]
  },
  {
   "cell_type": "code",
   "execution_count": null,
   "id": "4000dda7",
   "metadata": {},
   "outputs": [],
   "source": [
    "# A COMPLETER"
   ]
  },
  {
   "cell_type": "markdown",
   "id": "626bcf0b",
   "metadata": {},
   "source": [
    "- Créer un pipeline avec un modèle de **random forest** et **comparer** les résultats avec les modèles précédents\n",
    "\n",
    "> ℹ️ les fonctions suivantes peuvent être utiles :\n",
    "> - [sklearn.ensemble.RandomForestClassifier](https://scikit-learn.org/stable/modules/generated/sklearn.ensemble.RandomForestClassifier.html)"
   ]
  },
  {
   "cell_type": "code",
   "execution_count": null,
   "id": "0358cd17",
   "metadata": {},
   "outputs": [],
   "source": [
    "# A COMPLETER"
   ]
  },
  {
   "cell_type": "markdown",
   "id": "cac7a73b",
   "metadata": {},
   "source": [
    "- Créer un pipeline avec un modèle de **gradient boosting** et **comparer** les résultats avec les modèles précédents\n",
    "\n",
    "> ℹ️ les fonctions suivantes peuvent être utiles :\n",
    "> - [sklearn.ensemble.GradientBoostingClassifier](https://scikit-learn.org/stable/modules/generated/sklearn.ensemble.GradientBoostingClassifier.html)"
   ]
  },
  {
   "cell_type": "code",
   "execution_count": null,
   "id": "70b5ca2f",
   "metadata": {},
   "outputs": [],
   "source": [
    "# A COMPLETER"
   ]
  },
  {
   "cell_type": "markdown",
   "id": "54c19ad6",
   "metadata": {},
   "source": [
    "- Effectuer une **recherche par grille (grid search)** sur le pipeline du modèle le plus intéressant. Essayer différentes valeurs pour les paramètres et **optimiser l'algorithme** grâce au **F-beta score**. Afficher les métriques de classification et les meilleurs hyperparamètres\n",
    "\n",
    "> ℹ️ les fonctions suivantes peuvent être utiles :\n",
    "> - [Putting it all together](https://scikit-learn.org/stable/tutorial/statistical_inference/putting_together.html)\n",
    "> - [sklearn.model_selection.GridSearchCV](https://scikit-learn.org/stable/modules/generated/sklearn.model_selection.GridSearchCV.html)"
   ]
  },
  {
   "cell_type": "code",
   "execution_count": null,
   "id": "c75ebd92",
   "metadata": {},
   "outputs": [],
   "source": [
    "# A COMPLETER"
   ]
  },
  {
   "cell_type": "markdown",
   "id": "9e70d58f",
   "metadata": {},
   "source": [
    "### 🚢 Exporter le modèle"
   ]
  },
  {
   "cell_type": "markdown",
   "id": "590ac6c0",
   "metadata": {},
   "source": [
    "- **Sauvegarder (serialiser) le meilleur pipeline** dans un fichier joblib grâce à la fonction `joblib.dump()`\n",
    "\n",
    "> ℹ️ les fonctions suivantes peuvent être utiles :\n",
    "> - [Model persistence](https://scikit-learn.org/stable/model_persistence.html)"
   ]
  },
  {
   "cell_type": "code",
   "execution_count": null,
   "id": "6613b023",
   "metadata": {},
   "outputs": [],
   "source": [
    "# A COMPLETER"
   ]
  },
  {
   "cell_type": "markdown",
   "id": "a8c61b6c",
   "metadata": {},
   "source": [
    "## 🚀 Pour aller plus loin\n",
    "\n",
    "- [Binary classification - Wikipedia](https://en.wikipedia.org/wiki/Binary_classification)\n",
    "- [Multiclass classification - Wikipedia](https://en.wikipedia.org/wiki/Multiclass_classification)\n",
    "- [Multi-label classification - Wikipedia](https://en.wikipedia.org/wiki/Multi-label_classification)"
   ]
  },
  {
   "cell_type": "markdown",
   "id": "0e75a49b",
   "metadata": {},
   "source": [
    "___\n",
    "*👨‍🏫 [Pierre-Loic BAYART](https://www.linkedin.com/in/pierreloicbayart/) - Formation développeur d'applications spécialisation data analyst - Webforce3 - Grenoble Ecole de Management*\n",
    "___\n",
    "Source images d'illustration : Image par PublicDomainPictures de Pixabay"
   ]
  }
 ],
 "metadata": {
  "kernelspec": {
   "display_name": "Python 3 (ipykernel)",
   "language": "python",
   "name": "python3"
  },
  "language_info": {
   "codemirror_mode": {
    "name": "ipython",
    "version": 3
   },
   "file_extension": ".py",
   "mimetype": "text/x-python",
   "name": "python",
   "nbconvert_exporter": "python",
   "pygments_lexer": "ipython3",
   "version": "3.10.8"
  }
 },
 "nbformat": 4,
 "nbformat_minor": 5
}
