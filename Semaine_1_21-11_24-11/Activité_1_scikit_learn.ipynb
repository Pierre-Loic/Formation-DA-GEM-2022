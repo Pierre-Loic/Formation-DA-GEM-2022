{
 "cells": [
  {
   "cell_type": "markdown",
   "id": "4473ab00",
   "metadata": {},
   "source": [
    "# 👩‍💻 Activité 1 : Comment est construite la bibliothèque Scikit-Learn ?\n",
    "\n",
    "<img src=\"https://upload.wikimedia.org/wikipedia/commons/thumb/0/05/Scikit_learn_logo_small.svg/2560px-Scikit_learn_logo_small.svg.png\" alt=\"Logo Scikit-Learn\" width=\"200\"/>\n",
    "\n",
    "#### [Pierre-Loic BAYART](https://www.linkedin.com/in/pierreloicbayart/) - Formation développeur d'applications spécialisation data analyst - Webforce3 - Grenoble Ecole de Management"
   ]
  },
  {
   "cell_type": "markdown",
   "id": "afae853a",
   "metadata": {},
   "source": [
    "## 🔍 Recherche d'informations\n",
    "\n",
    "En recherchant sur le web, trouver les réponses aux questions suivantes :\n",
    "\n",
    "### - Quels sont les 6 grands blocs de la bibliothèque Scikit-Learn ?\n",
    "___\n",
    "*A COMPLETER*\n",
    "___\n",
    "### - De quand date le projet de Scikit-Learn ?\n",
    "___\n",
    "*A COMPLETER*\n",
    "___\n",
    "### - Quelle est la version de Scikit-Learn la plus récente et quand a-t-elle été publiée ? \n",
    "___\n",
    "*A COMPLETER*\n",
    "___\n",
    "### - Quelle est la différence entre les bibliothèques `sklearn` et `scikit-learn` ?\n",
    "___\n",
    "*A COMPLETER*\n",
    "___\n",
    "### - Parmi les dépendances de la bibliothèque Scikit-Learn (ou des bibliothèques utilisées pour la documentation de Scikit-Learn), citer 2 bibliothèques de visualisation de données, 2 bibliothèques de manipulation de données et 2 bibliothèques utiles pour travailler avec des images\n",
    "___\n",
    "*A COMPLETER*\n",
    "___\n",
    "### - Qu'est-ce qu'un estimateur dans la bibliothèque Scikit-Learn ?\n",
    "___\n",
    "*A COMPLETER*\n",
    "___\n",
    "### - Qu'est-ce qu'un transformeur dans la bibliothèque Scikit-Learn ?\n",
    "___\n",
    "*A COMPLETER*\n",
    "___\n",
    "### - Quelles sont les deux principales méthodes d'un transformeur dans la bibliothèque Scikit-Learn ?\n",
    "___\n",
    "*A COMPLETER*\n",
    "___\n",
    "### - Qu'est-ce qu'un prédicteur dans la bibliothèque Scikit-Learn ?\n",
    "___\n",
    "*A COMPLETER*\n",
    "___"
   ]
  },
  {
   "cell_type": "markdown",
   "id": "57ce6564",
   "metadata": {},
   "source": [
    "## ✏️ Activités\n",
    "\n",
    "- Installer ou vérifier que la bibliothèque Scikit-Learn est installée sur votre ordinateur (avec votre installateur de paquets conda ou pip)"
   ]
  },
  {
   "cell_type": "code",
   "execution_count": null,
   "id": "4d184964",
   "metadata": {},
   "outputs": [],
   "source": [
    "# A COMPLETER"
   ]
  },
  {
   "cell_type": "markdown",
   "id": "c204897a",
   "metadata": {},
   "source": [
    "- Vérifier la version de la bibliothèque Scikit-Learn"
   ]
  },
  {
   "cell_type": "code",
   "execution_count": null,
   "id": "edb1b2a2",
   "metadata": {},
   "outputs": [],
   "source": [
    "# A COMPLETER"
   ]
  },
  {
   "cell_type": "markdown",
   "id": "795d31e5",
   "metadata": {},
   "source": [
    "___\n",
    "*👨‍🏫 [Pierre-Loic BAYART](https://www.linkedin.com/in/pierreloicbayart/) - Formation développeur d'applications spécialisation data analyst - Webforce3 - Grenoble Ecole de Management*\n",
    "___"
   ]
  }
 ],
 "metadata": {
  "kernelspec": {
   "display_name": "Python 3 (ipykernel)",
   "language": "python",
   "name": "python3"
  },
  "language_info": {
   "codemirror_mode": {
    "name": "ipython",
    "version": 3
   },
   "file_extension": ".py",
   "mimetype": "text/x-python",
   "name": "python",
   "nbconvert_exporter": "python",
   "pygments_lexer": "ipython3",
   "version": "3.9.6"
  }
 },
 "nbformat": 4,
 "nbformat_minor": 5
}
