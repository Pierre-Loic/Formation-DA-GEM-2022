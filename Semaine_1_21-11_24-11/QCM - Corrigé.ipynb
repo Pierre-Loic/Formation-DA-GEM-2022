{
 "cells": [
  {
   "cell_type": "markdown",
   "id": "4f6737d1",
   "metadata": {},
   "source": [
    "# Questionnaire d'évaluation de connaissances du module \"Modéliser des variables grâce à Scikit-Learn\"\n",
    "\n",
    "<img src=\"https://cdn.pixabay.com/photo/2017/06/28/10/53/board-2450236_960_720.jpg\" alt=\"board\" width=\"400\"/>\n",
    "\n",
    "#### [Pierre-Loic BAYART](https://www.linkedin.com/in/pierreloicbayart/) - Formation développeur d'applications spécialisation data analyst - Webforce3 - Grenoble Ecole de Management"
   ]
  },
  {
   "cell_type": "markdown",
   "id": "1c224020",
   "metadata": {},
   "source": [
    "## Question N°1\n",
    "\n",
    "### Quelle tranformation est appliquée par le `StandardScaler` de Scikit-Learn ?\n",
    "\n",
    "#### 1 - Pour chaque donnée, il soustrait la médiane et divise par la distance interquartile\n",
    "\n",
    "#### 2 - Pour chaque donnée, il soustrait la moyenne et divise par l'écart-type\n",
    "\n",
    "#### 3 - Pour chaque donnée, il soustrait l'écart-type et divise par la moyenne\n",
    "\n",
    "#### 4 - Pour chaque donnée, il soustrait la distance interquartile et divise par la médiane"
   ]
  },
  {
   "cell_type": "markdown",
   "id": "af52880d",
   "metadata": {},
   "source": [
    "Bonne réponse : 2"
   ]
  },
  {
   "cell_type": "markdown",
   "id": "0944d140",
   "metadata": {},
   "source": [
    "## Question N°2\n",
    "\n",
    "### Quels sont les deux principaux types de structures de données dans la bibliothèque Pandas ?\n",
    "\n",
    "#### 1 - Series\n",
    "\n",
    "#### 2 - Array\n",
    "\n",
    "#### 3 - List\n",
    "\n",
    "#### 4 - DataFrames"
   ]
  },
  {
   "cell_type": "markdown",
   "id": "74517c87",
   "metadata": {},
   "source": [
    "Bonne réponse : 1 et 4"
   ]
  },
  {
   "cell_type": "markdown",
   "id": "6fc036ad",
   "metadata": {},
   "source": [
    "## Question N°3\n",
    "\n",
    "### Quelle méthode de DataFrame Pandas peut-on utiliser pour faire une analyse statistique univariée du DataFrame ?\n",
    "\n",
    "#### 1 - `pandas.DataFrame.iloc()`\n",
    "\n",
    "#### 2 - `pandas.DataFrame.iterrows()`\n",
    "\n",
    "#### 3 - `pandas.DataFrame.describe()`\n",
    "\n",
    "#### 4 - `pandas.DataFrame.head()`"
   ]
  },
  {
   "cell_type": "markdown",
   "id": "e47fd7a9",
   "metadata": {},
   "source": [
    "Bonne réponse : 3"
   ]
  },
  {
   "cell_type": "markdown",
   "id": "1323ee50",
   "metadata": {},
   "source": [
    "## Question N°4\n",
    "\n",
    "### Laquelle de ces bibliothèque est une dépendance de la bibliothèque Scikit-Learn ?\n",
    "\n",
    "#### 1 - Requests\n",
    "\n",
    "#### 2 - Tensorflow\n",
    "\n",
    "#### 3 - Numpy\n",
    "\n",
    "#### 4 - Keras"
   ]
  },
  {
   "cell_type": "markdown",
   "id": "de9b5bdf",
   "metadata": {},
   "source": [
    "Bonne réponse : 3"
   ]
  },
  {
   "cell_type": "markdown",
   "id": "7d9b9b85",
   "metadata": {},
   "source": [
    "## Question N°5\n",
    "\n",
    "### Quelles sont les 2 principales méthodes d'un tranformeur dans la bibliothèque Scikit-Learn ?\n",
    "\n",
    "#### 1 - fit()\n",
    "\n",
    "#### 2 - predict()\n",
    "\n",
    "#### 3 - transform()\n",
    "\n",
    "#### 4 - score()"
   ]
  },
  {
   "cell_type": "markdown",
   "id": "5cfdd2bd",
   "metadata": {},
   "source": [
    "Bonne réponse : 1 et 3"
   ]
  },
  {
   "cell_type": "markdown",
   "id": "8272d050",
   "metadata": {},
   "source": [
    "## Question N°6\n",
    "\n",
    "### Laquelle de ces métriques N'EST PAS une métrique de modèle de régression ?\n",
    "\n",
    "#### 1 - Mean Absolute Error (MAE)\n",
    "\n",
    "#### 2 - Root Mean Square Error (RMSE)\n",
    "\n",
    "#### 3 - F1-score\n",
    "\n",
    "#### 4 - R2"
   ]
  },
  {
   "cell_type": "markdown",
   "id": "2758954a",
   "metadata": {},
   "source": [
    "Bonne réponse : 3"
   ]
  },
  {
   "cell_type": "markdown",
   "id": "8c2ff61a",
   "metadata": {},
   "source": [
    "## Question N°7\n",
    "\n",
    "### Que calcule le code suivant : `(df[col]-df[col].mean())/df[col].std()` ?\n",
    "\n",
    "#### 1 - le z-score des données de la colonne \"col\"\n",
    "\n",
    "#### 2 - la distance interquartile des données de la colonne \"col\"\n",
    "\n",
    "#### 3 - la variance des données de la colonne \"col\"\n",
    "\n",
    "#### 4 - le maximum des données de la colonne \"col\""
   ]
  },
  {
   "cell_type": "markdown",
   "id": "d3d697c0",
   "metadata": {},
   "source": [
    "Bonne réponse : 1"
   ]
  },
  {
   "cell_type": "markdown",
   "id": "0758970d",
   "metadata": {},
   "source": [
    "## Question N°8\n",
    "\n",
    "### Lequel de ces modèles N'EST PAS une méthode de régularisation d'un modèle de regression linéaire ?\n",
    "\n",
    "#### 1 - Ridge\n",
    "\n",
    "#### 2 - Lasso\n",
    "\n",
    "#### 3 - ElasticNet\n",
    "\n",
    "#### 4 - Logistic regression"
   ]
  },
  {
   "cell_type": "markdown",
   "id": "14101d90",
   "metadata": {},
   "source": [
    "Bonne réponse : 4"
   ]
  },
  {
   "cell_type": "markdown",
   "id": "e32575ca",
   "metadata": {},
   "source": [
    "## Question N°9\n",
    "\n",
    "### En appliquant une analyse en composantes principales (PCA) sur un jeu de données à 4 dimensions, quel est le pourcentage de variance expliquée minimale possible pour la composante 1 ?\n",
    "\n",
    "#### 1 - 50 %\n",
    "\n",
    "#### 2 - 25 %\n",
    "\n",
    "#### 3 - 10 %\n",
    "\n",
    "#### 4 - 5 %"
   ]
  },
  {
   "cell_type": "markdown",
   "id": "be25be94",
   "metadata": {},
   "source": [
    "Bonne réponse : 2"
   ]
  },
  {
   "cell_type": "markdown",
   "id": "cbb479e7",
   "metadata": {},
   "source": [
    "## Question N°10\n",
    "\n",
    "### Laquelle de ces étapes N'EST PAS effectuée en amont de l'entrainement d'un modèle de regression ?\n",
    "\n",
    "#### 1 - la collecte des données\n",
    "\n",
    "#### 2 - le nettoyage des données\n",
    "\n",
    "#### 3 - l'évaluation du modèle\n",
    "\n",
    "#### 4 - l'augmentation des donnée"
   ]
  },
  {
   "cell_type": "markdown",
   "id": "9eb4ae8d",
   "metadata": {},
   "source": [
    "Bonne réponse : 3"
   ]
  },
  {
   "cell_type": "markdown",
   "id": "df10119a",
   "metadata": {},
   "source": [
    "___\n",
    "*👨‍🏫 [Pierre-Loic BAYART](https://www.linkedin.com/in/pierreloicbayart/) - Formation développeur d'applications spécialisation data analyst - Webforce3 - Grenoble Ecole de Management*\n",
    "___\n",
    "Source image d'illustration : *Image par Gerd Altmann de Pixabay*"
   ]
  }
 ],
 "metadata": {
  "kernelspec": {
   "display_name": "Python 3 (ipykernel)",
   "language": "python",
   "name": "python3"
  },
  "language_info": {
   "codemirror_mode": {
    "name": "ipython",
    "version": 3
   },
   "file_extension": ".py",
   "mimetype": "text/x-python",
   "name": "python",
   "nbconvert_exporter": "python",
   "pygments_lexer": "ipython3",
   "version": "3.9.6"
  }
 },
 "nbformat": 4,
 "nbformat_minor": 5
}
