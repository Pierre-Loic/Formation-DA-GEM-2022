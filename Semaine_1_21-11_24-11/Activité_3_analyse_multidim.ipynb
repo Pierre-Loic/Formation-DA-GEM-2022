{
 "cells": [
  {
   "cell_type": "markdown",
   "id": "4473ab00",
   "metadata": {},
   "source": [
    "# 👩‍💻 Activité 3 : Comment analyser des données multidimensionnelles ?\n",
    "\n",
    "<img src=\"https://cdn.pixabay.com/photo/2022/08/01/22/03/rubiks-cube-7359071_960_720.jpg\" alt=\"rubik\" width=\"400\"/>\n",
    "\n",
    "#### [Pierre-Loic BAYART](https://www.linkedin.com/in/pierreloicbayart/) - Formation développeur d'applications spécialisation data analyst - Webforce3 - Grenoble Ecole de Management"
   ]
  },
  {
   "cell_type": "markdown",
   "id": "afae853a",
   "metadata": {},
   "source": [
    "## 🔍 Recherche d'informations\n",
    "\n",
    "En recherchant sur le web, trouver les réponses aux questions suivantes :\n",
    "\n",
    "### - Comment s'effectue une analyse univariée des données ?\n",
    "___\n",
    "*A COMPLETER*\n",
    "___\n",
    "### - Comment s'effectue une analyse bivariée des données ?\n",
    "___\n",
    "*A COMPLETER*\n",
    "___\n",
    "### - Comment s'effectue une analyse multivariée des données ?\n",
    "___\n",
    "*A COMPLETER*\n",
    "___\n",
    "### - Comment fonctionne l'algorithme d'analyse en composantes principales (ACP / PCA en anglais) ?\n",
    "___\n",
    "*A COMPLETER*\n",
    "___\n",
    "### - Citer d'autres algorithmes de réduction de dimensions\n",
    "___\n",
    "*A COMPLETER*\n",
    "___"
   ]
  },
  {
   "cell_type": "markdown",
   "id": "57ce6564",
   "metadata": {},
   "source": [
    "## ✏️ Activités\n",
    "\n",
    "Le jeu de données utilisé dans cet exercice a été construit à partir du fichier de [\"Demandes de valeurs foncières - DVF\"](https://www.data.gouv.fr/fr/datasets/demandes-de-valeurs-foncieres/) du **premier semestre 2022**. Les données ont été **nettoyées** et **sélectionnées** pour ne conserver que les ventes d'**appartements** dans le département de l'**isère**.\n",
    "\n",
    "Fichier source : https://www.data.gouv.fr/fr/datasets/r/87038926-fb31-4959-b2ae-7a24321c599a\n",
    "\n",
    "<img src=\"https://upload.wikimedia.org/wikipedia/fr/thumb/8/84/Data_gouv_fr_logo.svg/1280px-Data_gouv_fr_logo.svg.png\" alt=\"datagouv\" width=\"400\"/>\n",
    "\n",
    "### Analyse univariée\n",
    "\n",
    "- Importer les bibliothèques suivantes : **Pandas** et **Matplotlib**"
   ]
  },
  {
   "cell_type": "code",
   "execution_count": null,
   "id": "3d2e97e6",
   "metadata": {},
   "outputs": [],
   "source": [
    "# A COMPLETER"
   ]
  },
  {
   "cell_type": "markdown",
   "id": "2bbb24d5",
   "metadata": {},
   "source": [
    "- Importer le fichier de données \"data_immo_38_S1_2022.csv\" dans un **dataframe Pandas**"
   ]
  },
  {
   "cell_type": "code",
   "execution_count": null,
   "id": "61fa4804",
   "metadata": {},
   "outputs": [],
   "source": [
    "# A COMPLETER"
   ]
  },
  {
   "cell_type": "markdown",
   "id": "3fcc5649",
   "metadata": {},
   "source": [
    "- Vérifier qu'il n'y a pas de **données manquantes**"
   ]
  },
  {
   "cell_type": "code",
   "execution_count": null,
   "id": "6cf29007",
   "metadata": {},
   "outputs": [],
   "source": [
    "# A COMPLETER"
   ]
  },
  {
   "cell_type": "markdown",
   "id": "4a226336",
   "metadata": {},
   "source": [
    "- Analyser **statistiquement** les caractéristiques (analyse univariée). Calculer la moyenne, les quartiles, le minimum, le maximum, l'écart-type, le coefficient d'asymétrie (skewness), le coefficient d'aplatissement (kurtosis), les z-scores"
   ]
  },
  {
   "cell_type": "code",
   "execution_count": null,
   "id": "6c05b6ea",
   "metadata": {},
   "outputs": [],
   "source": [
    "# A COMPLETER"
   ]
  },
  {
   "cell_type": "markdown",
   "id": "7aa3d360",
   "metadata": {},
   "source": [
    "- Analyser **graphiquement** les caractéristiques (analyse univariée) : histogrammes, boîtes à moustache..."
   ]
  },
  {
   "cell_type": "code",
   "execution_count": null,
   "id": "487f6403",
   "metadata": {},
   "outputs": [],
   "source": [
    "# A COMPLETER"
   ]
  },
  {
   "cell_type": "markdown",
   "id": "431f7a5e",
   "metadata": {},
   "source": [
    "### Analyse bivariée\n",
    "\n",
    "- Importer la bibliothèque **Seaborn**"
   ]
  },
  {
   "cell_type": "code",
   "execution_count": null,
   "id": "0077b078",
   "metadata": {},
   "outputs": [],
   "source": [
    "# A COMPLETER"
   ]
  },
  {
   "cell_type": "markdown",
   "id": "1cd3902e",
   "metadata": {},
   "source": [
    "- Calculer la **covariance** pour l'ensemble des caractéristiques du jeu de données"
   ]
  },
  {
   "cell_type": "code",
   "execution_count": null,
   "id": "e84553e9",
   "metadata": {},
   "outputs": [],
   "source": [
    "# A COMPLETER"
   ]
  },
  {
   "cell_type": "markdown",
   "id": "c1151f89",
   "metadata": {},
   "source": [
    "Source : https://pandas.pydata.org/pandas-docs/stable/reference/api/pandas.DataFrame.cov.html"
   ]
  },
  {
   "cell_type": "markdown",
   "id": "4c7739db",
   "metadata": {},
   "source": [
    "- Calculer la **corrélation de Pearson** pour l'ensemble des caractéristiques du jeu de données et afficher une **carte de chaleur (heatmap)** du résultat"
   ]
  },
  {
   "cell_type": "code",
   "execution_count": null,
   "id": "20e772c1",
   "metadata": {},
   "outputs": [],
   "source": [
    "# A COMPLETER"
   ]
  },
  {
   "cell_type": "markdown",
   "id": "4866e4ac",
   "metadata": {},
   "source": [
    "- Calculer la **corrélation de Kendall** pour l'ensemble des caractéristiques du jeu de données et afficher une **carte de chaleur (heatmap)** du résultat"
   ]
  },
  {
   "cell_type": "code",
   "execution_count": null,
   "id": "ca907a6b",
   "metadata": {},
   "outputs": [],
   "source": [
    "# A COMPLETER"
   ]
  },
  {
   "cell_type": "markdown",
   "id": "7f4cb9fa",
   "metadata": {},
   "source": [
    "- Calculer la **corrélation de Spearman** pour l'ensemble des caractéristiques du jeu de données et afficher une **carte de chaleur (heatmap)** du résultat"
   ]
  },
  {
   "cell_type": "code",
   "execution_count": null,
   "id": "ee1522de",
   "metadata": {},
   "outputs": [],
   "source": [
    "# A COMPLETER"
   ]
  },
  {
   "cell_type": "markdown",
   "id": "3dbd951c",
   "metadata": {},
   "source": [
    "- Analyser **graphiquement** les caractéristiques deux à deux"
   ]
  },
  {
   "cell_type": "code",
   "execution_count": null,
   "id": "1d131f1f",
   "metadata": {},
   "outputs": [],
   "source": [
    "# A COMPLETER"
   ]
  },
  {
   "cell_type": "markdown",
   "id": "7fbb6a6a",
   "metadata": {},
   "source": [
    "### Analyse multivariée\n",
    "\n",
    "- Importer **PCA** du package **sklearn.decomposition** et **StandardScaler** du package **sklearn.preprocessing**"
   ]
  },
  {
   "cell_type": "code",
   "execution_count": null,
   "id": "06c67521",
   "metadata": {},
   "outputs": [],
   "source": [
    "# A COMPLETER"
   ]
  },
  {
   "cell_type": "markdown",
   "id": "4e267af4",
   "metadata": {},
   "source": [
    "- **Standardiser** les données"
   ]
  },
  {
   "cell_type": "code",
   "execution_count": null,
   "id": "41078bcb",
   "metadata": {},
   "outputs": [],
   "source": [
    "# A COMPLETER"
   ]
  },
  {
   "cell_type": "markdown",
   "id": "201c0ffd",
   "metadata": {},
   "source": [
    "- Appliquer l'**analyse en composantes principales** et analyser la **variance expliquée**"
   ]
  },
  {
   "cell_type": "code",
   "execution_count": null,
   "id": "a6674a4f",
   "metadata": {},
   "outputs": [],
   "source": [
    "# A COMPLETER"
   ]
  },
  {
   "cell_type": "markdown",
   "id": "8c526541",
   "metadata": {},
   "source": [
    "- Tracer le **graphique des éboulis** (décroissance de la variance expliquée par composante principale)"
   ]
  },
  {
   "cell_type": "code",
   "execution_count": null,
   "id": "a1514a57",
   "metadata": {},
   "outputs": [],
   "source": [
    "# A COMPLETER"
   ]
  },
  {
   "cell_type": "markdown",
   "id": "3049d566",
   "metadata": {},
   "source": [
    "- Pour visualiser l'**importance de la standardisation**, appliquer l'**analyse en composantes principales** sur les données **non standardisée** et analyser le résultat. Tracer le **graphique des éboulis** (décroissance de la variance expliquée par composante principale)"
   ]
  },
  {
   "cell_type": "code",
   "execution_count": null,
   "id": "50b1c911",
   "metadata": {},
   "outputs": [],
   "source": [
    "# A COMPLETER"
   ]
  },
  {
   "cell_type": "markdown",
   "id": "4493ed52",
   "metadata": {},
   "source": [
    "- Créer un **dataframe avec les composantes principales** à partir de l'attribut `component_` de l'objet PCA (l'index correspond aux composante qu'on peut nommer C1, C2, C3, C4 et C5 - le nom des colonnes correspond aux caractéristiques du dataframe d'origine)"
   ]
  },
  {
   "cell_type": "code",
   "execution_count": null,
   "id": "76c89bdf",
   "metadata": {},
   "outputs": [],
   "source": [
    "# A COMPLETER"
   ]
  },
  {
   "cell_type": "markdown",
   "id": "0ff1f789",
   "metadata": {},
   "source": [
    "- Afficher le dataframe sur une **carte de chaleur (heatmap)** pour l'analyser"
   ]
  },
  {
   "cell_type": "code",
   "execution_count": null,
   "id": "70763b8d",
   "metadata": {},
   "outputs": [],
   "source": [
    "# A COMPLETER"
   ]
  },
  {
   "cell_type": "markdown",
   "id": "ca81ad30",
   "metadata": {},
   "source": [
    "- Créer le **cercle des corrélations** pour les deux premières composantes principales (exécuter le code). **Analyser le résultat**"
   ]
  },
  {
   "cell_type": "code",
   "execution_count": null,
   "id": "7aa44b7e",
   "metadata": {},
   "outputs": [],
   "source": [
    "import numpy as np\n",
    "\n",
    "fig, ax = plt.subplots(figsize=(10, 9))\n",
    "for i in range(0, pca.components_.shape[1]):\n",
    "    ax.arrow(0,\n",
    "             0,  # Fléche à l'origine\n",
    "             pca.components_[0, i],  #0 for PC1\n",
    "             pca.components_[1, i],  #1 for PC2\n",
    "             head_width=0.07,\n",
    "             head_length=0.07, \n",
    "             width=0.02,              )\n",
    "\n",
    "    plt.text(pca.components_[0, i] + 0.05,\n",
    "             pca.components_[1, i] + 0.05,\n",
    "             df.columns[i])\n",
    "    \n",
    "# affichage des lignes horizontales et verticales\n",
    "plt.plot([-1, 1], [0, 0], color='grey', ls='--')\n",
    "plt.plot([0, 0], [-1, 1], color='grey', ls='--')\n",
    "plt.xlabel(f'C_1 ({round(100*pca.explained_variance_ratio_[0], 1)})')\n",
    "plt.ylabel(f'C_2 ({round(100*pca.explained_variance_ratio_[1], 1)})')\n",
    "plt.title(\"Cercle des corrélations (C_1 et C_2)\")\n",
    "\n",
    "# Ajout du cercle unité\n",
    "an = np.linspace(0, 2 * np.pi, 100)\n",
    "plt.plot(np.cos(an), np.sin(an))\n",
    "plt.axis('equal')\n",
    "plt.show(block=False)"
   ]
  },
  {
   "cell_type": "markdown",
   "id": "f0fbdf5d",
   "metadata": {},
   "source": [
    "## 🚀 Pour aller plus loin\n",
    "\n",
    "- StatQuest : Principal Component Analysis (PCA) (étape par étape) : https://www.youtube.com/watch?v=FgakZw6K1QQ\n",
    "\n",
    "- Principal Component Analysis (PCA) with Scikit-learn : https://towardsdatascience.com/principal-component-analysis-pca-with-scikit-learn-1e84a0c731b0"
   ]
  },
  {
   "cell_type": "markdown",
   "id": "795d31e5",
   "metadata": {},
   "source": [
    "___\n",
    "*👨‍🏫 [Pierre-Loic BAYART](https://www.linkedin.com/in/pierreloicbayart/) - Formation développeur d'applications spécialisation data analyst - Webforce3 - Grenoble Ecole de Management*\n",
    "___\n",
    "Source image d'illustration : *Image par Adam Małycha de Pixabay*"
   ]
  }
 ],
 "metadata": {
  "kernelspec": {
   "display_name": "Python 3 (ipykernel)",
   "language": "python",
   "name": "python3"
  },
  "language_info": {
   "codemirror_mode": {
    "name": "ipython",
    "version": 3
   },
   "file_extension": ".py",
   "mimetype": "text/x-python",
   "name": "python",
   "nbconvert_exporter": "python",
   "pygments_lexer": "ipython3",
   "version": "3.9.6"
  }
 },
 "nbformat": 4,
 "nbformat_minor": 5
}
