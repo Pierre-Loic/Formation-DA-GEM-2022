{
 "cells": [
  {
   "cell_type": "markdown",
   "id": "4473ab00",
   "metadata": {},
   "source": [
    "# 👩‍💻 Activité 1 : Comment est construite la bibliothèque Scikit-Learn ?\n",
    "\n",
    "<img src=\"https://upload.wikimedia.org/wikipedia/commons/thumb/0/05/Scikit_learn_logo_small.svg/2560px-Scikit_learn_logo_small.svg.png\" alt=\"Logo Scikit-Learn\" width=\"200\"/>\n",
    "\n",
    "#### [Pierre-Loic BAYART](https://www.linkedin.com/in/pierreloicbayart/) - Formation développeur d'applications spécialisation data analyst - Webforce3 - Grenoble Ecole de Management"
   ]
  },
  {
   "cell_type": "markdown",
   "id": "afae853a",
   "metadata": {},
   "source": [
    "## 🔍 Recherche d'informations\n",
    "\n",
    "En recherchant sur le web, trouver les réponses aux questions suivantes :\n",
    "\n",
    "### - Quels sont les 6 grands blocs de la bibliothèque Scikit-Learn ?\n",
    "___\n",
    "Les 6 grands blocs de la bibliothèque Scikit-Learn sont :\n",
    "\n",
    "- Classification : Identifying which category an object belongs to.\n",
    "- Regression : Predicting a continuous-valued attribute associated with an object.\n",
    "- Clustering : Automatic grouping of similar objects into sets.\n",
    "- Dimensionality reduction : Reducing the number of random variables to consider.\n",
    "- Model selection : Comparing, validating and choosing parameters and models.\n",
    "- Preprocessing : Feature extraction and normalization.\n",
    "\n",
    "Source : https://scikit-learn.org/stable/\n",
    "___\n",
    "### - De quand date le projet de Scikit-Learn ?\n",
    "___\n",
    "Le projet de Scikit-Learn date de 2007\n",
    "\n",
    "Source : https://github.com/scikit-learn/scikit-learn/blob/main/README.rst\n",
    "___\n",
    "### - Quelle est la version de Scikit-Learn la plus récente et quand a-t-elle été publiée ? \n",
    "___\n",
    "Version 1.1.3 publiée en octobre 2022\n",
    "\n",
    "Source : https://scikit-learn.org/stable/whats_new/v1.1.html#version-1-1-3\n",
    "___\n",
    "### - Quelle est la différence entre les bibliothèques `sklearn` et `scikit-learn` ?\n",
    "___\n",
    "La bibliothèque `sklearn` est vide et renvoie vers l'installation de la bibliothèque `scikit-learn`. Donc si vous désinstallez `sklearn`, `scikit-learn` restera installé.\n",
    "\n",
    "Source : https://towardsdatascience.com/scikit-learn-vs-sklearn-6944b9dc1736\n",
    "___\n",
    "### - Parmi les dépendances de la bibliothèque Scikit-Learn (ou des bibliothèques utilisées pour la documentation de Scikit-Learn), citer 2 bibliothèques de visualisation de données, 2 bibliothèques de manipulation de données et 2 bibliothèques utiles pour travailler avec des images\n",
    "___\n",
    "- 2 bibliothèques de visualisation de données : [Matplotlib](https://matplotlib.org/) et [Seaborn](https://seaborn.pydata.org/)\n",
    "- 2 bibliothèques de manipulation de données : [Numpy](https://numpy.org/) et [Pandas](https://pandas.pydata.org/)\n",
    "- 2 bibliothèques utiles pour travailler avec des images : [Pillow](https://pillow.readthedocs.io/en/stable/) et [Scikit-image](https://scikit-image.org/)\n",
    "\n",
    "Source : https://scikit-learn.org/stable/install.html\n",
    "___\n",
    "### - Qu'est-ce qu'un estimateur dans la bibliothèque Scikit-Learn ?\n",
    "___\n",
    "Un **estimateur (estimator)** est un type de classe dans Scikit-Learn qui permet d'**apprendre** d'un jeu de données grâce à la méthode `fit()`.\n",
    "\n",
    "Source : https://scikit-learn.org/stable/developers/develop.html#estimators\n",
    "___\n",
    "### - Qu'est-ce qu'un transformeur dans la bibliothèque Scikit-Learn ?\n",
    "___\n",
    "Un **transformeur (transformer)** est un type d'estimateur dans Scikit-Learn qui permet d'effectuer un **pré-traitement** sur un jeu de données en **amont de l'entrainement** d'un modèle de machine learning. Il prend en **entrée un jeu de données** (tableau Numpy ou dataframe Pandas) et renvoie un **jeu de données modifié**.\n",
    "\n",
    "Source : https://scikit-learn.org/stable/modules/generated/sklearn.base.TransformerMixin.html\n",
    "___\n",
    "### - Quelles sont les deux principales méthodes d'un transformeur dans la bibliothèque Scikit-Learn ?\n",
    "___\n",
    "Les deux **principales méthodes** d'un **transformeur** dans la bibliothèque Scikit-Learn :\n",
    "- **fit()**\n",
    "- **transform()**\n",
    "\n",
    "Par exemple, le **StandardScaler()** possède les méthodes suivantes :\n",
    "- **fit(X[, y, sample_weight]) : Compute the mean and std to be used for later scaling**\n",
    "- fit_transform(X[, y]) : Fit to data, then transform it\n",
    "- get_feature_names_out([input_features]) : Get output feature names for transformation\n",
    "- get_params([deep]) : Get parameters for this estimator\n",
    "- inverse_transform(X[, copy]) : Scale back the data to the original representation\n",
    "- partial_fit(X[, y, sample_weight]) : Online computation of mean and std on X for later scaling\n",
    "- set_params(**params) : Set the parameters of this estimator\n",
    "- **transform(X[, copy]): Perform standardization by centering and scaling**\n",
    "\n",
    "Source : https://scikit-learn.org/stable/modules/generated/sklearn.preprocessing.StandardScaler.html\n",
    "___\n",
    "### - Qu'est-ce qu'un prédicteur dans la bibliothèque Scikit-Learn ?\n",
    "___\n",
    "Un **prédicteur (predictor)** est un type d'estimateur dans Scikit-Learn qui permet d'effectuer des **prédictions** suite à un apprentissage sur un jeu de données. Il implémente les méthodes `predict()` et pour certains classifieurs `predict_proba()`.\n",
    "\n",
    "Source : https://scikit-learn.org/stable/developers/develop.html\n",
    "___"
   ]
  },
  {
   "cell_type": "markdown",
   "id": "57ce6564",
   "metadata": {},
   "source": [
    "## ✏️ Activités\n",
    "\n",
    "- Installer ou vérifier que la bibliothèque Scikit-Learn est installée sur votre ordinateur (avec votre installateur de paquets conda ou pip)"
   ]
  },
  {
   "cell_type": "code",
   "execution_count": 1,
   "id": "4d184964",
   "metadata": {},
   "outputs": [],
   "source": [
    "import sklearn"
   ]
  },
  {
   "cell_type": "markdown",
   "id": "c204897a",
   "metadata": {},
   "source": [
    "- Vérifier la version de la bibliothèque Scikit-Learn"
   ]
  },
  {
   "cell_type": "code",
   "execution_count": 2,
   "id": "edb1b2a2",
   "metadata": {},
   "outputs": [
    {
     "data": {
      "text/plain": [
       "'1.1.3'"
      ]
     },
     "execution_count": 2,
     "metadata": {},
     "output_type": "execute_result"
    }
   ],
   "source": [
    "sklearn.__version__"
   ]
  },
  {
   "cell_type": "markdown",
   "id": "795d31e5",
   "metadata": {},
   "source": [
    "___\n",
    "*👨‍🏫 [Pierre-Loic BAYART](https://www.linkedin.com/in/pierreloicbayart/) - Formation développeur d'applications spécialisation data analyst - Webforce3 - Grenoble Ecole de Management*\n",
    "___"
   ]
  }
 ],
 "metadata": {
  "kernelspec": {
   "display_name": "Python 3 (ipykernel)",
   "language": "python",
   "name": "python3"
  },
  "language_info": {
   "codemirror_mode": {
    "name": "ipython",
    "version": 3
   },
   "file_extension": ".py",
   "mimetype": "text/x-python",
   "name": "python",
   "nbconvert_exporter": "python",
   "pygments_lexer": "ipython3",
   "version": "3.9.6"
  }
 },
 "nbformat": 4,
 "nbformat_minor": 5
}
