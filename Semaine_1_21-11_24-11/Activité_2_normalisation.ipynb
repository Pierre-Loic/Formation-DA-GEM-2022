{
 "cells": [
  {
   "cell_type": "markdown",
   "id": "4473ab00",
   "metadata": {},
   "source": [
    "# 👩‍💻 Activité 2 : Pourquoi et comment normaliser des données avant d’entrainer un modèle de machine learning ?\n",
    "\n",
    "<img src=\"https://cdn.pixabay.com/photo/2018/04/28/03/04/road-3356478_960_720.jpg\" alt=\"Logo Scikit-Learn\" width=\"400\"/>\n",
    "\n",
    "#### [Pierre-Loic BAYART](https://www.linkedin.com/in/pierreloicbayart/) - Formation développeur d'applications spécialisation data analyst - Webforce3 - Grenoble Ecole de Management"
   ]
  },
  {
   "cell_type": "markdown",
   "id": "afae853a",
   "metadata": {},
   "source": [
    "## 🔍 Recherche d'informations\n",
    "\n",
    "En recherchant sur le web, trouver les réponses aux questions suivantes :\n",
    "\n",
    "### - Pourquoi est-il important de normaliser les données avant d'entrainer des modèles de machine learning ?\n",
    "___\n",
    "*A COMPLETER*\n",
    "___\n",
    "### - Les résultats des modèles de machine learning sont-ils forcément améliorés avec la normalisation des données ?\n",
    "___\n",
    "*A COMPLETER*\n",
    "___\n",
    "### - Pourquoi est-il plus intéressant d'utiliser un transformeur de la bibliothèque Scikit-Learn pour effectuer la normalisation plutôt que de la coder directement en Python ?\n",
    "___\n",
    "*A COMPLETER*\n",
    "___\n",
    "### - Citer 3 manières de normaliser les données avec la bibliothèque Scikit-Learn et expliquer les différences\n",
    "___\n",
    "*A COMPLETER*\n",
    "___"
   ]
  },
  {
   "cell_type": "markdown",
   "id": "57ce6564",
   "metadata": {},
   "source": [
    "## ✏️ Activités\n",
    "\n",
    "- Importer les bibliothèques suivantes : Pandas, Matplotlib, et Scikit-Learn (load_iris de sklearn.datasets)"
   ]
  },
  {
   "cell_type": "code",
   "execution_count": null,
   "id": "e0f7b4da",
   "metadata": {},
   "outputs": [],
   "source": [
    "# A COMPLETER"
   ]
  },
  {
   "cell_type": "markdown",
   "id": "5ae2a540",
   "metadata": {},
   "source": [
    "- Le jeu de données **Iris** est un des **plus utilisé comme exemple** en datascience. Il est directement **intégré** dans la bibliothèque Scikit-Learn. Récupérer le jeu de données depuis Scikit-Learn dans un dataframe Pandas : https://scikit-learn.org/stable/modules/generated/sklearn.datasets.load_iris.html"
   ]
  },
  {
   "cell_type": "code",
   "execution_count": null,
   "id": "4d184964",
   "metadata": {},
   "outputs": [],
   "source": [
    "# A COMPLETER"
   ]
  },
  {
   "cell_type": "markdown",
   "id": "922846de",
   "metadata": {},
   "source": [
    "- Supprimer la colonne \"target\" du dataframe"
   ]
  },
  {
   "cell_type": "code",
   "execution_count": null,
   "id": "49a1690d",
   "metadata": {},
   "outputs": [],
   "source": [
    "# A COMPLETER"
   ]
  },
  {
   "cell_type": "markdown",
   "id": "770e5787",
   "metadata": {},
   "source": [
    "- Vérifier qu'il n'y a **pas de valeurs manquantes** dans le dataframe"
   ]
  },
  {
   "cell_type": "code",
   "execution_count": null,
   "id": "b40d9879",
   "metadata": {},
   "outputs": [],
   "source": [
    "# A COMPLETER"
   ]
  },
  {
   "cell_type": "markdown",
   "id": "c204897a",
   "metadata": {},
   "source": [
    "- **Analyser statistiquement** le dataframe : afficher la moyenne arithmétique, l'écart-type, les quartiles, la médiane et les valeurs extrêmes (min et max) pour les différentes caractéristiques du jeu de données"
   ]
  },
  {
   "cell_type": "code",
   "execution_count": null,
   "id": "04d74fc7",
   "metadata": {},
   "outputs": [],
   "source": [
    "# A COMPLETER"
   ]
  },
  {
   "cell_type": "markdown",
   "id": "e6129033",
   "metadata": {},
   "source": [
    "- **Analyser graphiquement** la distribution des données. Pour chaque caractèristique, tracer l'**histogramme** de la distribution des données et un diagramme de **boîtes à moustaches (box plot)** pour l'ensemble des caractéristiques"
   ]
  },
  {
   "cell_type": "code",
   "execution_count": null,
   "id": "12a9d691",
   "metadata": {},
   "outputs": [],
   "source": [
    "# A COMPLETER"
   ]
  },
  {
   "cell_type": "markdown",
   "id": "64709126",
   "metadata": {},
   "source": [
    "### Standardisation des données\n",
    "\n",
    "- Importer la classe `StandardScaler` de la bibliothèque Scikit-Learn"
   ]
  },
  {
   "cell_type": "code",
   "execution_count": null,
   "id": "df220163",
   "metadata": {},
   "outputs": [],
   "source": [
    "# A COMPLETER"
   ]
  },
  {
   "cell_type": "markdown",
   "id": "8ce7e5e2",
   "metadata": {},
   "source": [
    "- Créer un dataframe avec les données des iris **standardisées**"
   ]
  },
  {
   "cell_type": "code",
   "execution_count": null,
   "id": "6b9cc394",
   "metadata": {},
   "outputs": [],
   "source": [
    "# A COMPLETER"
   ]
  },
  {
   "cell_type": "markdown",
   "id": "a13dfb8e",
   "metadata": {},
   "source": [
    "- Afficher les **attributs** de l'instance de `StandardScaler` pour retrouver la **moyenne** et l'**écart-type** du jeu de données"
   ]
  },
  {
   "cell_type": "code",
   "execution_count": null,
   "id": "cf87d4fc",
   "metadata": {},
   "outputs": [],
   "source": [
    "# A COMPLETER"
   ]
  },
  {
   "cell_type": "markdown",
   "id": "29f5a1e6",
   "metadata": {},
   "source": [
    "- **Analyser statistiquement** le dataframe standardisé et vérifier la valeur de la moyenne et de l'écart-type"
   ]
  },
  {
   "cell_type": "code",
   "execution_count": null,
   "id": "49caad47",
   "metadata": {},
   "outputs": [],
   "source": [
    "# A COMPLETER"
   ]
  },
  {
   "cell_type": "markdown",
   "id": "7aa74b09",
   "metadata": {},
   "source": [
    "On retrouve une **moyenne** d'environ **0** et un **écart-type** de **1**"
   ]
  },
  {
   "cell_type": "markdown",
   "id": "bac057d0",
   "metadata": {},
   "source": [
    "- **Analyser graphiquement** la distribution des données avec des histogrammes et des boîtes à moustaches (box plot)."
   ]
  },
  {
   "cell_type": "code",
   "execution_count": null,
   "id": "721bb4f4",
   "metadata": {},
   "outputs": [],
   "source": [
    "# A COMPLETER"
   ]
  },
  {
   "cell_type": "markdown",
   "id": "ab12a10b",
   "metadata": {},
   "source": [
    "### Normalisation min/max des données\n",
    "\n",
    "- Importer la classe `MinMaxScaler` de la bibliothèque Scikit-Learn"
   ]
  },
  {
   "cell_type": "code",
   "execution_count": null,
   "id": "7a8d6c15",
   "metadata": {},
   "outputs": [],
   "source": [
    "# A COMPLETER"
   ]
  },
  {
   "cell_type": "markdown",
   "id": "2480f477",
   "metadata": {},
   "source": [
    "- Créer un dataframe avec les données des iris **normalisées**"
   ]
  },
  {
   "cell_type": "code",
   "execution_count": null,
   "id": "ed045764",
   "metadata": {},
   "outputs": [],
   "source": [
    "# A COMPLETER"
   ]
  },
  {
   "cell_type": "markdown",
   "id": "cc90504b",
   "metadata": {},
   "source": [
    "- Afficher les attributs de l'instance de MinMaxScaler pour retrouver la **valeur minimale** et la **valeur maximale** du jeu de données"
   ]
  },
  {
   "cell_type": "code",
   "execution_count": null,
   "id": "99fe822f",
   "metadata": {},
   "outputs": [],
   "source": [
    "# A COMPLETER"
   ]
  },
  {
   "cell_type": "markdown",
   "id": "18029744",
   "metadata": {},
   "source": [
    "- **Analyser statistiquement** le dataframe normalisé et vérifier la valeur minimale et maximale du jeu de données"
   ]
  },
  {
   "cell_type": "code",
   "execution_count": null,
   "id": "da6cb034",
   "metadata": {},
   "outputs": [],
   "source": [
    "# A COMPLETER"
   ]
  },
  {
   "cell_type": "markdown",
   "id": "c4a37e64",
   "metadata": {},
   "source": [
    "- **Analyser graphiquement** la distribution des données avec des histogrammes et des boîtes à moustaches (box plot)."
   ]
  },
  {
   "cell_type": "code",
   "execution_count": null,
   "id": "df24f39c",
   "metadata": {},
   "outputs": [],
   "source": [
    "# A COMPLETER"
   ]
  },
  {
   "cell_type": "markdown",
   "id": "4870e326",
   "metadata": {},
   "source": [
    "### Normalisation par RobustScaler des données\n",
    "\n",
    "- Importer la classe `RobustScaler` de la bibliothèque Scikit-Learn"
   ]
  },
  {
   "cell_type": "code",
   "execution_count": null,
   "id": "f564ba0a",
   "metadata": {},
   "outputs": [],
   "source": [
    "# A COMPLETER"
   ]
  },
  {
   "cell_type": "markdown",
   "id": "8104bd2d",
   "metadata": {},
   "source": [
    "- Créer un dataframe avec les données des iris normalisées par `RobustScaler`"
   ]
  },
  {
   "cell_type": "code",
   "execution_count": null,
   "id": "5771451e",
   "metadata": {},
   "outputs": [],
   "source": [
    "# A COMPLETER"
   ]
  },
  {
   "cell_type": "markdown",
   "id": "3e2b0615",
   "metadata": {},
   "source": [
    "- Afficher les attributs de l'instance de `RobustScaler` pour retrouver la **médiane** et la **distance interquartile (IQR)** du jeu de données"
   ]
  },
  {
   "cell_type": "code",
   "execution_count": null,
   "id": "d51daca3",
   "metadata": {},
   "outputs": [],
   "source": [
    "# A COMPLETER"
   ]
  },
  {
   "cell_type": "markdown",
   "id": "6e9de3c9",
   "metadata": {},
   "source": [
    "- **Analyser statistiquement** le dataframe normalisé par `RobustScaler`"
   ]
  },
  {
   "cell_type": "code",
   "execution_count": null,
   "id": "82bd68bd",
   "metadata": {},
   "outputs": [],
   "source": [
    "# A COMPLETER"
   ]
  },
  {
   "cell_type": "markdown",
   "id": "d29f63b4",
   "metadata": {},
   "source": [
    "- **Analyser graphiquement** la distribution des données avec des **histogrammes** et des **boîtes à moustaches (box plot)**."
   ]
  },
  {
   "cell_type": "code",
   "execution_count": null,
   "id": "4ffc2e71",
   "metadata": {},
   "outputs": [],
   "source": [
    "# A COMPLETER"
   ]
  },
  {
   "cell_type": "markdown",
   "id": "78c13ef3",
   "metadata": {},
   "source": [
    "## 🚀 Pour aller plus loin\n",
    "\n",
    "- Comparaison de **différentes méthodes de normalisation** avec la bibliothèque Scikit-Learn : https://scikit-learn.org/stable/auto_examples/preprocessing/plot_all_scaling.html\n",
    "\n",
    "- ⚠️ Dans le cadre de l'**analyse du langage naturel (NLP)** ou du **clustering**, la normalisation correspond à ramener chaque ligne du jeu de données à une **norme (L1, L2 ou autre) de valeur 1** : https://scikit-learn.org/stable/modules/generated/sklearn.preprocessing.Normalizer.html"
   ]
  },
  {
   "cell_type": "markdown",
   "id": "795d31e5",
   "metadata": {},
   "source": [
    "___\n",
    "*👨‍🏫 [Pierre-Loic BAYART](https://www.linkedin.com/in/pierreloicbayart/) - Formation développeur d'applications spécialisation data analyst - Webforce3 - Grenoble Ecole de Management*\n",
    "___\n",
    "Source image d'illustration : *Image par Tom de Pixabay*"
   ]
  }
 ],
 "metadata": {
  "kernelspec": {
   "display_name": "Python 3 (ipykernel)",
   "language": "python",
   "name": "python3"
  },
  "language_info": {
   "codemirror_mode": {
    "name": "ipython",
    "version": 3
   },
   "file_extension": ".py",
   "mimetype": "text/x-python",
   "name": "python",
   "nbconvert_exporter": "python",
   "pygments_lexer": "ipython3",
   "version": "3.9.6"
  }
 },
 "nbformat": 4,
 "nbformat_minor": 5
}
