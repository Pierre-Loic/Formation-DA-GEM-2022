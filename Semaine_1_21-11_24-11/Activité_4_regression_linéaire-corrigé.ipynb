{
 "cells": [
  {
   "cell_type": "markdown",
   "id": "4473ab00",
   "metadata": {},
   "source": [
    "# 👩‍💻 Activité 4 : Comment entrainer et évaluer un modèle de régression linéaire ?\n",
    "\n",
    "<img src=\"https://cdn.pixabay.com/photo/2017/10/04/16/43/table-2816806_960_720.jpg\" alt=\"rubik\" width=\"400\"/>\n",
    "\n",
    "#### [Pierre-Loic BAYART](https://www.linkedin.com/in/pierreloicbayart/) - Formation développeur d'applications spécialisation data analyst - Webforce3 - Grenoble Ecole de Management"
   ]
  },
  {
   "cell_type": "markdown",
   "id": "afae853a",
   "metadata": {},
   "source": [
    "## 🔍 Recherche d'informations\n",
    "\n",
    "En recherchant sur le web, trouver les réponses aux questions suivantes :\n",
    "\n",
    "### - Quelles sont les étapes à réaliser en amont de l'entrainement du modèle de regression linéaire ?\n",
    "___\n",
    "Les étapes en amont de l'entrainement d'un modèle de regression linéaire sont :\n",
    "\n",
    "- **Collecte des données** (API, Scraping, bases de données...)\n",
    "\n",
    "- **Nettoyage des données** (données manquantes, données aberrantes...)\n",
    "\n",
    "- **Pré-traitement des données** (normalisation, standardisation...)\n",
    "\n",
    "- **Augmentation des données** (ingénierie des caractéristiques)\n",
    "\n",
    "___\n",
    "### - Quelles sont les métriques d'évaluation d'un modèle de regression linéaire ?\n",
    "___\n",
    "Les principales métriques de régression sont :\n",
    "\n",
    "- **R2** : proportion de la variance expliquée par le modèle de regression linéaire\n",
    "\n",
    "- **RMSE** : écart quadratique moyen (root mean square error)\n",
    "\n",
    "- **MAE** : erreur absolue moyenne (mean absolute error)\n",
    "\n",
    "Source :\n",
    "\n",
    "- https://scikit-learn.org/stable/modules/classes.html#regression-metrics\n",
    "___\n",
    "### - Quelles sont les méthodes de régularisation pour la régression linéaire ?\n",
    "___\n",
    "La **régularisation** vise à **réduire le surapprentissage** des modèles de machine learning. Pour la régression linéaire, les méthodes de régularisation cherchent à **contraindre les coefficients** de la régression à être les **plus faibles possibles** suivant différentes normes :\n",
    "\n",
    "- Avec la norme L1 : régression Lasso\n",
    "\n",
    "- Avec la norme L2 : régression Ridge\n",
    "\n",
    "- Avec les norme L1 et L2 : régression Elastic Net\n",
    "\n",
    "Source : \n",
    "\n",
    "- https://scikit-learn.org/stable/modules/linear_model.html#ridge-regression-and-classification\n",
    "\n",
    "- https://scikit-learn.org/stable/modules/linear_model.html#lasso\n",
    "\n",
    "- https://scikit-learn.org/stable/modules/linear_model.html#elastic-net\n",
    "___"
   ]
  },
  {
   "cell_type": "markdown",
   "id": "57ce6564",
   "metadata": {},
   "source": [
    "## ✏️ Activités\n",
    "\n",
    "Le jeu de données utilisé dans cet exercice a été construit à partir du fichier de [\"Demandes de valeurs foncières - DVF\"](https://www.data.gouv.fr/fr/datasets/demandes-de-valeurs-foncieres/) du **premier semestre 2022**. Les données ont été **nettoyées** et **sélectionnées** pour ne conserver que les ventes d'**appartements** dans le département de l'**isère**.\n",
    "\n",
    "Fichier source : https://www.data.gouv.fr/fr/datasets/r/87038926-fb31-4959-b2ae-7a24321c599a\n",
    "\n",
    "<img src=\"https://upload.wikimedia.org/wikipedia/fr/thumb/8/84/Data_gouv_fr_logo.svg/1280px-Data_gouv_fr_logo.svg.png\" alt=\"datagouv\" width=\"400\"/>\n",
    "\n",
    "Pour éviter la **fuite de données (data leakage)**, il est préférable d'utiliser un [pipeline Scikit-Learn](https://scikit-learn.org/stable/modules/generated/sklearn.pipeline.Pipeline.html) pour entrainer un modèle de machine learning.\n",
    "\n",
    "- Importer les bibliothèques suivantes : **Pandas**, **Matplotlib** et **Scikit-Learn** (sklearn.preprocessing.StandardScaler, sklearn.pipeline.Pipeline, sklearn.linear_model.LinearRegression, sklearn.model_selection.train_test_split)"
   ]
  },
  {
   "cell_type": "code",
   "execution_count": 1,
   "id": "3d2e97e6",
   "metadata": {},
   "outputs": [],
   "source": [
    "import pandas as pd\n",
    "import matplotlib.pyplot as plt\n",
    "from sklearn.preprocessing import StandardScaler\n",
    "from sklearn.linear_model import LinearRegression\n",
    "from sklearn.model_selection import train_test_split\n",
    "from sklearn.pipeline import Pipeline"
   ]
  },
  {
   "cell_type": "markdown",
   "id": "05c40393",
   "metadata": {},
   "source": [
    "- Créer un **pipeline** avec un **StandardScaler** et un modèle de **régression linéaire**"
   ]
  },
  {
   "cell_type": "code",
   "execution_count": 2,
   "id": "39edff53",
   "metadata": {},
   "outputs": [],
   "source": [
    "linear_regression_pipe = Pipeline([\n",
    "    ('scaler', StandardScaler()),\n",
    "    ('linear_regression', LinearRegression()),\n",
    "])"
   ]
  },
  {
   "cell_type": "markdown",
   "id": "84cfecbc",
   "metadata": {},
   "source": [
    "- Importer le fichier de données \"data_immo_38_S1_2022.csv\" dans un **dataframe Pandas**"
   ]
  },
  {
   "cell_type": "code",
   "execution_count": 3,
   "id": "ca72ebf9",
   "metadata": {},
   "outputs": [
    {
     "name": "stdout",
     "output_type": "stream",
     "text": [
      "<class 'pandas.core.frame.DataFrame'>\n",
      "RangeIndex: 618 entries, 0 to 617\n",
      "Data columns (total 5 columns):\n",
      " #   Column                     Non-Null Count  Dtype  \n",
      "---  ------                     --------------  -----  \n",
      " 0   Valeur fonciere            618 non-null    float64\n",
      " 1   Nombre pieces principales  618 non-null    float64\n",
      " 2   Surface reelle bati        618 non-null    float64\n",
      " 3   lat                        618 non-null    float64\n",
      " 4   long                       618 non-null    float64\n",
      "dtypes: float64(5)\n",
      "memory usage: 24.3 KB\n"
     ]
    }
   ],
   "source": [
    "df = pd.read_csv(\"data_immo_38_S1_2022.csv\")\n",
    "df.info()"
   ]
  },
  {
   "cell_type": "markdown",
   "id": "ed6fe5bf",
   "metadata": {},
   "source": [
    "- Séparer la **valeur cible** (\"Valeur fonciere\") du reste des caractéristiques"
   ]
  },
  {
   "cell_type": "code",
   "execution_count": 4,
   "id": "db0bd0dd",
   "metadata": {},
   "outputs": [],
   "source": [
    "X = df.drop(\"Valeur fonciere\", axis=1)\n",
    "y = df[[\"Valeur fonciere\"]]"
   ]
  },
  {
   "cell_type": "markdown",
   "id": "87437c83",
   "metadata": {},
   "source": [
    "- Séparer les données en un jeu de données d'**entrainement** et de **test**"
   ]
  },
  {
   "cell_type": "code",
   "execution_count": 5,
   "id": "9fae59ae",
   "metadata": {},
   "outputs": [],
   "source": [
    "X_train, X_test, y_train, y_test = train_test_split(\n",
    "    X, y, test_size=0.2, random_state=1)"
   ]
  },
  {
   "cell_type": "markdown",
   "id": "d2d50dbc",
   "metadata": {},
   "source": [
    "- **Entrainer le pipeline** du modèle de régression linéaire"
   ]
  },
  {
   "cell_type": "code",
   "execution_count": 6,
   "id": "360eacf7",
   "metadata": {},
   "outputs": [
    {
     "data": {
      "text/html": [
       "<style>#sk-container-id-1 {color: black;background-color: white;}#sk-container-id-1 pre{padding: 0;}#sk-container-id-1 div.sk-toggleable {background-color: white;}#sk-container-id-1 label.sk-toggleable__label {cursor: pointer;display: block;width: 100%;margin-bottom: 0;padding: 0.3em;box-sizing: border-box;text-align: center;}#sk-container-id-1 label.sk-toggleable__label-arrow:before {content: \"▸\";float: left;margin-right: 0.25em;color: #696969;}#sk-container-id-1 label.sk-toggleable__label-arrow:hover:before {color: black;}#sk-container-id-1 div.sk-estimator:hover label.sk-toggleable__label-arrow:before {color: black;}#sk-container-id-1 div.sk-toggleable__content {max-height: 0;max-width: 0;overflow: hidden;text-align: left;background-color: #f0f8ff;}#sk-container-id-1 div.sk-toggleable__content pre {margin: 0.2em;color: black;border-radius: 0.25em;background-color: #f0f8ff;}#sk-container-id-1 input.sk-toggleable__control:checked~div.sk-toggleable__content {max-height: 200px;max-width: 100%;overflow: auto;}#sk-container-id-1 input.sk-toggleable__control:checked~label.sk-toggleable__label-arrow:before {content: \"▾\";}#sk-container-id-1 div.sk-estimator input.sk-toggleable__control:checked~label.sk-toggleable__label {background-color: #d4ebff;}#sk-container-id-1 div.sk-label input.sk-toggleable__control:checked~label.sk-toggleable__label {background-color: #d4ebff;}#sk-container-id-1 input.sk-hidden--visually {border: 0;clip: rect(1px 1px 1px 1px);clip: rect(1px, 1px, 1px, 1px);height: 1px;margin: -1px;overflow: hidden;padding: 0;position: absolute;width: 1px;}#sk-container-id-1 div.sk-estimator {font-family: monospace;background-color: #f0f8ff;border: 1px dotted black;border-radius: 0.25em;box-sizing: border-box;margin-bottom: 0.5em;}#sk-container-id-1 div.sk-estimator:hover {background-color: #d4ebff;}#sk-container-id-1 div.sk-parallel-item::after {content: \"\";width: 100%;border-bottom: 1px solid gray;flex-grow: 1;}#sk-container-id-1 div.sk-label:hover label.sk-toggleable__label {background-color: #d4ebff;}#sk-container-id-1 div.sk-serial::before {content: \"\";position: absolute;border-left: 1px solid gray;box-sizing: border-box;top: 0;bottom: 0;left: 50%;z-index: 0;}#sk-container-id-1 div.sk-serial {display: flex;flex-direction: column;align-items: center;background-color: white;padding-right: 0.2em;padding-left: 0.2em;position: relative;}#sk-container-id-1 div.sk-item {position: relative;z-index: 1;}#sk-container-id-1 div.sk-parallel {display: flex;align-items: stretch;justify-content: center;background-color: white;position: relative;}#sk-container-id-1 div.sk-item::before, #sk-container-id-1 div.sk-parallel-item::before {content: \"\";position: absolute;border-left: 1px solid gray;box-sizing: border-box;top: 0;bottom: 0;left: 50%;z-index: -1;}#sk-container-id-1 div.sk-parallel-item {display: flex;flex-direction: column;z-index: 1;position: relative;background-color: white;}#sk-container-id-1 div.sk-parallel-item:first-child::after {align-self: flex-end;width: 50%;}#sk-container-id-1 div.sk-parallel-item:last-child::after {align-self: flex-start;width: 50%;}#sk-container-id-1 div.sk-parallel-item:only-child::after {width: 0;}#sk-container-id-1 div.sk-dashed-wrapped {border: 1px dashed gray;margin: 0 0.4em 0.5em 0.4em;box-sizing: border-box;padding-bottom: 0.4em;background-color: white;}#sk-container-id-1 div.sk-label label {font-family: monospace;font-weight: bold;display: inline-block;line-height: 1.2em;}#sk-container-id-1 div.sk-label-container {text-align: center;}#sk-container-id-1 div.sk-container {/* jupyter's `normalize.less` sets `[hidden] { display: none; }` but bootstrap.min.css set `[hidden] { display: none !important; }` so we also need the `!important` here to be able to override the default hidden behavior on the sphinx rendered scikit-learn.org. See: https://github.com/scikit-learn/scikit-learn/issues/21755 */display: inline-block !important;position: relative;}#sk-container-id-1 div.sk-text-repr-fallback {display: none;}</style><div id=\"sk-container-id-1\" class=\"sk-top-container\"><div class=\"sk-text-repr-fallback\"><pre>Pipeline(steps=[(&#x27;scaler&#x27;, StandardScaler()),\n",
       "                (&#x27;linear_regression&#x27;, LinearRegression())])</pre><b>In a Jupyter environment, please rerun this cell to show the HTML representation or trust the notebook. <br />On GitHub, the HTML representation is unable to render, please try loading this page with nbviewer.org.</b></div><div class=\"sk-container\" hidden><div class=\"sk-item sk-dashed-wrapped\"><div class=\"sk-label-container\"><div class=\"sk-label sk-toggleable\"><input class=\"sk-toggleable__control sk-hidden--visually\" id=\"sk-estimator-id-1\" type=\"checkbox\" ><label for=\"sk-estimator-id-1\" class=\"sk-toggleable__label sk-toggleable__label-arrow\">Pipeline</label><div class=\"sk-toggleable__content\"><pre>Pipeline(steps=[(&#x27;scaler&#x27;, StandardScaler()),\n",
       "                (&#x27;linear_regression&#x27;, LinearRegression())])</pre></div></div></div><div class=\"sk-serial\"><div class=\"sk-item\"><div class=\"sk-estimator sk-toggleable\"><input class=\"sk-toggleable__control sk-hidden--visually\" id=\"sk-estimator-id-2\" type=\"checkbox\" ><label for=\"sk-estimator-id-2\" class=\"sk-toggleable__label sk-toggleable__label-arrow\">StandardScaler</label><div class=\"sk-toggleable__content\"><pre>StandardScaler()</pre></div></div></div><div class=\"sk-item\"><div class=\"sk-estimator sk-toggleable\"><input class=\"sk-toggleable__control sk-hidden--visually\" id=\"sk-estimator-id-3\" type=\"checkbox\" ><label for=\"sk-estimator-id-3\" class=\"sk-toggleable__label sk-toggleable__label-arrow\">LinearRegression</label><div class=\"sk-toggleable__content\"><pre>LinearRegression()</pre></div></div></div></div></div></div></div>"
      ],
      "text/plain": [
       "Pipeline(steps=[('scaler', StandardScaler()),\n",
       "                ('linear_regression', LinearRegression())])"
      ]
     },
     "execution_count": 6,
     "metadata": {},
     "output_type": "execute_result"
    }
   ],
   "source": [
    "linear_regression_pipe.fit(X_train, y_train)"
   ]
  },
  {
   "cell_type": "markdown",
   "id": "93e96b78",
   "metadata": {},
   "source": [
    "### Evaluation du modèle de regression linéaire\n",
    "\n",
    "- Evaluer la **qualité de la prédiction** du modèle à l'aide de la métrique de la méthode `score()` (R2)"
   ]
  },
  {
   "cell_type": "code",
   "execution_count": 7,
   "id": "182ff23b",
   "metadata": {},
   "outputs": [
    {
     "data": {
      "text/plain": [
       "0.390734227977246"
      ]
     },
     "execution_count": 7,
     "metadata": {},
     "output_type": "execute_result"
    }
   ],
   "source": [
    "linear_regression_pipe.score(X_test, y_test)"
   ]
  },
  {
   "cell_type": "code",
   "execution_count": 8,
   "id": "f9465806",
   "metadata": {},
   "outputs": [
    {
     "data": {
      "text/plain": [
       "['accuracy',\n",
       " 'adjusted_mutual_info_score',\n",
       " 'adjusted_rand_score',\n",
       " 'average_precision',\n",
       " 'balanced_accuracy',\n",
       " 'completeness_score',\n",
       " 'explained_variance',\n",
       " 'f1',\n",
       " 'f1_macro',\n",
       " 'f1_micro',\n",
       " 'f1_samples',\n",
       " 'f1_weighted',\n",
       " 'fowlkes_mallows_score',\n",
       " 'homogeneity_score',\n",
       " 'jaccard',\n",
       " 'jaccard_macro',\n",
       " 'jaccard_micro',\n",
       " 'jaccard_samples',\n",
       " 'jaccard_weighted',\n",
       " 'matthews_corrcoef',\n",
       " 'max_error',\n",
       " 'mutual_info_score',\n",
       " 'neg_brier_score',\n",
       " 'neg_log_loss',\n",
       " 'neg_mean_absolute_error',\n",
       " 'neg_mean_absolute_percentage_error',\n",
       " 'neg_mean_gamma_deviance',\n",
       " 'neg_mean_poisson_deviance',\n",
       " 'neg_mean_squared_error',\n",
       " 'neg_mean_squared_log_error',\n",
       " 'neg_median_absolute_error',\n",
       " 'neg_root_mean_squared_error',\n",
       " 'normalized_mutual_info_score',\n",
       " 'precision',\n",
       " 'precision_macro',\n",
       " 'precision_micro',\n",
       " 'precision_samples',\n",
       " 'precision_weighted',\n",
       " 'r2',\n",
       " 'rand_score',\n",
       " 'recall',\n",
       " 'recall_macro',\n",
       " 'recall_micro',\n",
       " 'recall_samples',\n",
       " 'recall_weighted',\n",
       " 'roc_auc',\n",
       " 'roc_auc_ovo',\n",
       " 'roc_auc_ovo_weighted',\n",
       " 'roc_auc_ovr',\n",
       " 'roc_auc_ovr_weighted',\n",
       " 'top_k_accuracy',\n",
       " 'v_measure_score']"
      ]
     },
     "execution_count": 8,
     "metadata": {},
     "output_type": "execute_result"
    }
   ],
   "source": [
    "from sklearn.metrics import get_scorer_names\n",
    "\n",
    "get_scorer_names()"
   ]
  },
  {
   "cell_type": "code",
   "execution_count": 9,
   "id": "79e0419b",
   "metadata": {},
   "outputs": [
    {
     "name": "stdout",
     "output_type": "stream",
     "text": [
      "Moyenne de la métrique : 0.4483535972163364\n",
      "Ecart-type de la métrique : 0.23659778756147656\n",
      "Liste des valeurs de la métrique : [ 0.61181486  0.51518284  0.66803605  0.51762091  0.43234013 -0.08870076\n",
      "  0.08759817  0.63446895  0.56571103  0.53946381]\n"
     ]
    }
   ],
   "source": [
    "from sklearn.model_selection import cross_val_score\n",
    "\n",
    "scores = cross_val_score(linear_regression_pipe, X, y, cv=10, scoring=\"r2\")\n",
    "print(f\"Moyenne de la métrique : {scores.mean()}\")\n",
    "print(f\"Ecart-type de la métrique : {scores.std()}\")\n",
    "print(f\"Liste des valeurs de la métrique : {scores}\")"
   ]
  },
  {
   "cell_type": "markdown",
   "id": "4cc67e64",
   "metadata": {},
   "source": [
    "- Calculer les **métriques** suivantes : [max_error](https://scikit-learn.org/stable/modules/generated/sklearn.metrics.max_error.html#sklearn.metrics.max_error), [mean_absolute_error](https://scikit-learn.org/stable/modules/generated/sklearn.metrics.mean_absolute_error.html), [mean_squared_error](https://scikit-learn.org/stable/modules/generated/sklearn.metrics.mean_squared_error.html), [median_absolute_error](https://scikit-learn.org/stable/modules/generated/sklearn.metrics.median_absolute_error.html)"
   ]
  },
  {
   "cell_type": "code",
   "execution_count": 10,
   "id": "ab4fadf7",
   "metadata": {},
   "outputs": [],
   "source": [
    "import math\n",
    "from sklearn.metrics import max_error\n",
    "from sklearn.metrics import mean_absolute_error\n",
    "from sklearn.metrics import mean_squared_error\n",
    "from sklearn.metrics import median_absolute_error"
   ]
  },
  {
   "cell_type": "code",
   "execution_count": 11,
   "id": "aee0bc51",
   "metadata": {},
   "outputs": [
    {
     "name": "stdout",
     "output_type": "stream",
     "text": [
      "Max error : 251095.0974708453\n",
      "Mean absolute error : 51644.815711523304\n",
      "Root mean squarred error : 70108.27849176741\n",
      "Median absolute error : 41290.95663850289\n"
     ]
    }
   ],
   "source": [
    "y_pred = linear_regression_pipe.predict(X_test)\n",
    "print(f\"Max error : {max_error(y_test, y_pred)}\")\n",
    "print(f\"Mean absolute error : {mean_absolute_error(y_test, y_pred)}\")\n",
    "print(f\"Root mean squarred error : {math.sqrt(mean_squared_error(y_test, y_pred))}\")\n",
    "print(f\"Median absolute error : {median_absolute_error(y_test, y_pred)}\")"
   ]
  },
  {
   "cell_type": "markdown",
   "id": "dedc903b",
   "metadata": {},
   "source": [
    "- Analyser la **distribution des résidus**"
   ]
  },
  {
   "cell_type": "code",
   "execution_count": 12,
   "id": "9d4cb233",
   "metadata": {},
   "outputs": [
    {
     "data": {
      "image/png": "[encoded data removed]",
      "text/plain": [
       "<Figure size 640x480 with 1 Axes>"
      ]
     },
     "metadata": {},
     "output_type": "display_data"
    }
   ],
   "source": [
    "residus = y_test - linear_regression_pipe.predict(X_test)\n",
    "residus.hist(bins=20)\n",
    "plt.show()"
   ]
  },
  {
   "cell_type": "code",
   "execution_count": 13,
   "id": "4435a598",
   "metadata": {},
   "outputs": [
    {
     "data": {
      "text/html": [
       "<div>\n",
       "<style scoped>\n",
       "    .dataframe tbody tr th:only-of-type {\n",
       "        vertical-align: middle;\n",
       "    }\n",
       "\n",
       "    .dataframe tbody tr th {\n",
       "        vertical-align: top;\n",
       "    }\n",
       "\n",
       "    .dataframe thead th {\n",
       "        text-align: right;\n",
       "    }\n",
       "</style>\n",
       "<table border=\"1\" class=\"dataframe\">\n",
       "  <thead>\n",
       "    <tr style=\"text-align: right;\">\n",
       "      <th></th>\n",
       "      <th>Valeur fonciere</th>\n",
       "      <th>Nombre pieces principales</th>\n",
       "      <th>Surface reelle bati</th>\n",
       "      <th>lat</th>\n",
       "      <th>long</th>\n",
       "    </tr>\n",
       "  </thead>\n",
       "  <tbody>\n",
       "    <tr>\n",
       "      <th>312</th>\n",
       "      <td>345000.0</td>\n",
       "      <td>1.0</td>\n",
       "      <td>29.0</td>\n",
       "      <td>45.191743</td>\n",
       "      <td>5.730509</td>\n",
       "    </tr>\n",
       "    <tr>\n",
       "      <th>160</th>\n",
       "      <td>69000.0</td>\n",
       "      <td>1.0</td>\n",
       "      <td>28.0</td>\n",
       "      <td>45.182853</td>\n",
       "      <td>5.730358</td>\n",
       "    </tr>\n",
       "    <tr>\n",
       "      <th>223</th>\n",
       "      <td>53500.0</td>\n",
       "      <td>1.0</td>\n",
       "      <td>14.0</td>\n",
       "      <td>45.105123</td>\n",
       "      <td>5.875954</td>\n",
       "    </tr>\n",
       "    <tr>\n",
       "      <th>429</th>\n",
       "      <td>201600.0</td>\n",
       "      <td>1.0</td>\n",
       "      <td>33.0</td>\n",
       "      <td>45.091147</td>\n",
       "      <td>6.072563</td>\n",
       "    </tr>\n",
       "    <tr>\n",
       "      <th>23</th>\n",
       "      <td>65300.0</td>\n",
       "      <td>1.0</td>\n",
       "      <td>16.0</td>\n",
       "      <td>45.180855</td>\n",
       "      <td>5.747203</td>\n",
       "    </tr>\n",
       "    <tr>\n",
       "      <th>...</th>\n",
       "      <td>...</td>\n",
       "      <td>...</td>\n",
       "      <td>...</td>\n",
       "      <td>...</td>\n",
       "      <td>...</td>\n",
       "    </tr>\n",
       "    <tr>\n",
       "      <th>480</th>\n",
       "      <td>358000.0</td>\n",
       "      <td>4.0</td>\n",
       "      <td>90.0</td>\n",
       "      <td>45.176266</td>\n",
       "      <td>5.729770</td>\n",
       "    </tr>\n",
       "    <tr>\n",
       "      <th>9</th>\n",
       "      <td>191400.0</td>\n",
       "      <td>4.0</td>\n",
       "      <td>77.0</td>\n",
       "      <td>45.160668</td>\n",
       "      <td>5.746200</td>\n",
       "    </tr>\n",
       "    <tr>\n",
       "      <th>274</th>\n",
       "      <td>242800.0</td>\n",
       "      <td>3.0</td>\n",
       "      <td>67.0</td>\n",
       "      <td>45.241657</td>\n",
       "      <td>5.681689</td>\n",
       "    </tr>\n",
       "    <tr>\n",
       "      <th>311</th>\n",
       "      <td>345000.0</td>\n",
       "      <td>1.0</td>\n",
       "      <td>28.0</td>\n",
       "      <td>45.191743</td>\n",
       "      <td>5.730509</td>\n",
       "    </tr>\n",
       "    <tr>\n",
       "      <th>563</th>\n",
       "      <td>130000.0</td>\n",
       "      <td>2.0</td>\n",
       "      <td>43.0</td>\n",
       "      <td>45.177680</td>\n",
       "      <td>5.751747</td>\n",
       "    </tr>\n",
       "  </tbody>\n",
       "</table>\n",
       "<p>124 rows × 5 columns</p>\n",
       "</div>"
      ],
      "text/plain": [
       "     Valeur fonciere  Nombre pieces principales  Surface reelle bati  \\\n",
       "312         345000.0                        1.0                 29.0   \n",
       "160          69000.0                        1.0                 28.0   \n",
       "223          53500.0                        1.0                 14.0   \n",
       "429         201600.0                        1.0                 33.0   \n",
       "23           65300.0                        1.0                 16.0   \n",
       "..               ...                        ...                  ...   \n",
       "480         358000.0                        4.0                 90.0   \n",
       "9           191400.0                        4.0                 77.0   \n",
       "274         242800.0                        3.0                 67.0   \n",
       "311         345000.0                        1.0                 28.0   \n",
       "563         130000.0                        2.0                 43.0   \n",
       "\n",
       "           lat      long  \n",
       "312  45.191743  5.730509  \n",
       "160  45.182853  5.730358  \n",
       "223  45.105123  5.875954  \n",
       "429  45.091147  6.072563  \n",
       "23   45.180855  5.747203  \n",
       "..         ...       ...  \n",
       "480  45.176266  5.729770  \n",
       "9    45.160668  5.746200  \n",
       "274  45.241657  5.681689  \n",
       "311  45.191743  5.730509  \n",
       "563  45.177680  5.751747  \n",
       "\n",
       "[124 rows x 5 columns]"
      ]
     },
     "execution_count": 13,
     "metadata": {},
     "output_type": "execute_result"
    }
   ],
   "source": [
    "df.iloc[(residus.abs()>150000).index]"
   ]
  },
  {
   "cell_type": "code",
   "execution_count": 14,
   "id": "4357e342",
   "metadata": {},
   "outputs": [
    {
     "data": {
      "text/html": [
       "<div>\n",
       "<style scoped>\n",
       "    .dataframe tbody tr th:only-of-type {\n",
       "        vertical-align: middle;\n",
       "    }\n",
       "\n",
       "    .dataframe tbody tr th {\n",
       "        vertical-align: top;\n",
       "    }\n",
       "\n",
       "    .dataframe thead th {\n",
       "        text-align: right;\n",
       "    }\n",
       "</style>\n",
       "<table border=\"1\" class=\"dataframe\">\n",
       "  <thead>\n",
       "    <tr style=\"text-align: right;\">\n",
       "      <th></th>\n",
       "      <th>Valeur fonciere</th>\n",
       "      <th>Nombre pieces principales</th>\n",
       "      <th>Surface reelle bati</th>\n",
       "      <th>lat</th>\n",
       "      <th>long</th>\n",
       "    </tr>\n",
       "  </thead>\n",
       "  <tbody>\n",
       "    <tr>\n",
       "      <th>312</th>\n",
       "      <td>345000.0</td>\n",
       "      <td>1.0</td>\n",
       "      <td>29.0</td>\n",
       "      <td>45.191743</td>\n",
       "      <td>5.730509</td>\n",
       "    </tr>\n",
       "    <tr>\n",
       "      <th>314</th>\n",
       "      <td>345000.0</td>\n",
       "      <td>1.0</td>\n",
       "      <td>25.0</td>\n",
       "      <td>45.191743</td>\n",
       "      <td>5.730509</td>\n",
       "    </tr>\n",
       "    <tr>\n",
       "      <th>165</th>\n",
       "      <td>333550.0</td>\n",
       "      <td>6.0</td>\n",
       "      <td>210.0</td>\n",
       "      <td>45.403048</td>\n",
       "      <td>5.608775</td>\n",
       "    </tr>\n",
       "    <tr>\n",
       "      <th>378</th>\n",
       "      <td>40000.0</td>\n",
       "      <td>2.0</td>\n",
       "      <td>82.0</td>\n",
       "      <td>45.138708</td>\n",
       "      <td>5.585822</td>\n",
       "    </tr>\n",
       "    <tr>\n",
       "      <th>311</th>\n",
       "      <td>345000.0</td>\n",
       "      <td>1.0</td>\n",
       "      <td>28.0</td>\n",
       "      <td>45.191743</td>\n",
       "      <td>5.730509</td>\n",
       "    </tr>\n",
       "  </tbody>\n",
       "</table>\n",
       "</div>"
      ],
      "text/plain": [
       "     Valeur fonciere  Nombre pieces principales  Surface reelle bati  \\\n",
       "312         345000.0                        1.0                 29.0   \n",
       "314         345000.0                        1.0                 25.0   \n",
       "165         333550.0                        6.0                210.0   \n",
       "378          40000.0                        2.0                 82.0   \n",
       "311         345000.0                        1.0                 28.0   \n",
       "\n",
       "           lat      long  \n",
       "312  45.191743  5.730509  \n",
       "314  45.191743  5.730509  \n",
       "165  45.403048  5.608775  \n",
       "378  45.138708  5.585822  \n",
       "311  45.191743  5.730509  "
      ]
     },
     "execution_count": 14,
     "metadata": {},
     "output_type": "execute_result"
    }
   ],
   "source": [
    "df.iloc[residus[(residus.abs()>150000)].dropna().index]"
   ]
  },
  {
   "cell_type": "code",
   "execution_count": 15,
   "id": "90dc860b",
   "metadata": {},
   "outputs": [
    {
     "data": {
      "image/png": "[encoded data removed]",
      "text/plain": [
       "<Figure size 800x500 with 1 Axes>"
      ]
     },
     "metadata": {},
     "output_type": "display_data"
    }
   ],
   "source": [
    "plt.figure(figsize=(8, 5))\n",
    "plt.boxplot(residus)\n",
    "plt.title(\"Distribution des résidus\")\n",
    "plt.show()"
   ]
  },
  {
   "cell_type": "markdown",
   "id": "1be2490a",
   "metadata": {},
   "source": [
    "### Amélioration de la qualité des données d'entrée\n",
    "\n",
    "- Ajouter une colonne pour le prix au m2"
   ]
  },
  {
   "cell_type": "code",
   "execution_count": 16,
   "id": "fcd49bf3",
   "metadata": {},
   "outputs": [
    {
     "data": {
      "text/html": [
       "<div>\n",
       "<style scoped>\n",
       "    .dataframe tbody tr th:only-of-type {\n",
       "        vertical-align: middle;\n",
       "    }\n",
       "\n",
       "    .dataframe tbody tr th {\n",
       "        vertical-align: top;\n",
       "    }\n",
       "\n",
       "    .dataframe thead th {\n",
       "        text-align: right;\n",
       "    }\n",
       "</style>\n",
       "<table border=\"1\" class=\"dataframe\">\n",
       "  <thead>\n",
       "    <tr style=\"text-align: right;\">\n",
       "      <th></th>\n",
       "      <th>Valeur fonciere</th>\n",
       "      <th>Nombre pieces principales</th>\n",
       "      <th>Surface reelle bati</th>\n",
       "      <th>lat</th>\n",
       "      <th>long</th>\n",
       "      <th>prix au m2</th>\n",
       "    </tr>\n",
       "  </thead>\n",
       "  <tbody>\n",
       "    <tr>\n",
       "      <th>count</th>\n",
       "      <td>618.000000</td>\n",
       "      <td>618.000000</td>\n",
       "      <td>618.000000</td>\n",
       "      <td>618.000000</td>\n",
       "      <td>618.000000</td>\n",
       "      <td>618.000000</td>\n",
       "    </tr>\n",
       "    <tr>\n",
       "      <th>mean</th>\n",
       "      <td>171502.465825</td>\n",
       "      <td>2.533981</td>\n",
       "      <td>57.019417</td>\n",
       "      <td>45.193309</td>\n",
       "      <td>5.753124</td>\n",
       "      <td>3265.855345</td>\n",
       "    </tr>\n",
       "    <tr>\n",
       "      <th>std</th>\n",
       "      <td>101785.142629</td>\n",
       "      <td>1.242016</td>\n",
       "      <td>29.091032</td>\n",
       "      <td>0.100137</td>\n",
       "      <td>0.143955</td>\n",
       "      <td>2006.765124</td>\n",
       "    </tr>\n",
       "    <tr>\n",
       "      <th>min</th>\n",
       "      <td>1000.000000</td>\n",
       "      <td>0.000000</td>\n",
       "      <td>10.000000</td>\n",
       "      <td>44.740806</td>\n",
       "      <td>4.815098</td>\n",
       "      <td>15.384615</td>\n",
       "    </tr>\n",
       "    <tr>\n",
       "      <th>25%</th>\n",
       "      <td>103352.500000</td>\n",
       "      <td>2.000000</td>\n",
       "      <td>35.000000</td>\n",
       "      <td>45.158335</td>\n",
       "      <td>5.697246</td>\n",
       "      <td>2258.300000</td>\n",
       "    </tr>\n",
       "    <tr>\n",
       "      <th>50%</th>\n",
       "      <td>152550.000000</td>\n",
       "      <td>2.000000</td>\n",
       "      <td>55.000000</td>\n",
       "      <td>45.185524</td>\n",
       "      <td>5.726515</td>\n",
       "      <td>2944.468599</td>\n",
       "    </tr>\n",
       "    <tr>\n",
       "      <th>75%</th>\n",
       "      <td>219542.750000</td>\n",
       "      <td>3.000000</td>\n",
       "      <td>73.000000</td>\n",
       "      <td>45.212316</td>\n",
       "      <td>5.770547</td>\n",
       "      <td>3710.171156</td>\n",
       "    </tr>\n",
       "    <tr>\n",
       "      <th>max</th>\n",
       "      <td>825000.000000</td>\n",
       "      <td>7.000000</td>\n",
       "      <td>226.000000</td>\n",
       "      <td>45.563775</td>\n",
       "      <td>6.125753</td>\n",
       "      <td>27500.000000</td>\n",
       "    </tr>\n",
       "  </tbody>\n",
       "</table>\n",
       "</div>"
      ],
      "text/plain": [
       "       Valeur fonciere  Nombre pieces principales  Surface reelle bati  \\\n",
       "count       618.000000                 618.000000           618.000000   \n",
       "mean     171502.465825                   2.533981            57.019417   \n",
       "std      101785.142629                   1.242016            29.091032   \n",
       "min        1000.000000                   0.000000            10.000000   \n",
       "25%      103352.500000                   2.000000            35.000000   \n",
       "50%      152550.000000                   2.000000            55.000000   \n",
       "75%      219542.750000                   3.000000            73.000000   \n",
       "max      825000.000000                   7.000000           226.000000   \n",
       "\n",
       "              lat        long    prix au m2  \n",
       "count  618.000000  618.000000    618.000000  \n",
       "mean    45.193309    5.753124   3265.855345  \n",
       "std      0.100137    0.143955   2006.765124  \n",
       "min     44.740806    4.815098     15.384615  \n",
       "25%     45.158335    5.697246   2258.300000  \n",
       "50%     45.185524    5.726515   2944.468599  \n",
       "75%     45.212316    5.770547   3710.171156  \n",
       "max     45.563775    6.125753  27500.000000  "
      ]
     },
     "execution_count": 16,
     "metadata": {},
     "output_type": "execute_result"
    }
   ],
   "source": [
    "df[\"prix au m2\"] = df[\"Valeur fonciere\"]/df[\"Surface reelle bati\"]\n",
    "df.describe()"
   ]
  },
  {
   "cell_type": "markdown",
   "id": "2b84d842",
   "metadata": {},
   "source": [
    "- Suivant les prix **min** et **max** observés en Isère, supprimer les **données aberrantes**\n",
    "\n",
    "Source : https://www.consortium-immobilier.fr/prix/isere-38.html"
   ]
  },
  {
   "cell_type": "code",
   "execution_count": 17,
   "id": "a39d8b8f",
   "metadata": {},
   "outputs": [
    {
     "data": {
      "text/html": [
       "<div>\n",
       "<style scoped>\n",
       "    .dataframe tbody tr th:only-of-type {\n",
       "        vertical-align: middle;\n",
       "    }\n",
       "\n",
       "    .dataframe tbody tr th {\n",
       "        vertical-align: top;\n",
       "    }\n",
       "\n",
       "    .dataframe thead th {\n",
       "        text-align: right;\n",
       "    }\n",
       "</style>\n",
       "<table border=\"1\" class=\"dataframe\">\n",
       "  <thead>\n",
       "    <tr style=\"text-align: right;\">\n",
       "      <th></th>\n",
       "      <th>Valeur fonciere</th>\n",
       "      <th>Nombre pieces principales</th>\n",
       "      <th>Surface reelle bati</th>\n",
       "      <th>lat</th>\n",
       "      <th>long</th>\n",
       "      <th>prix au m2</th>\n",
       "    </tr>\n",
       "  </thead>\n",
       "  <tbody>\n",
       "    <tr>\n",
       "      <th>count</th>\n",
       "      <td>614.000000</td>\n",
       "      <td>614.000000</td>\n",
       "      <td>614.000000</td>\n",
       "      <td>614.000000</td>\n",
       "      <td>614.000000</td>\n",
       "      <td>614.000000</td>\n",
       "    </tr>\n",
       "    <tr>\n",
       "      <th>mean</th>\n",
       "      <td>172510.625212</td>\n",
       "      <td>2.529316</td>\n",
       "      <td>56.951140</td>\n",
       "      <td>45.193739</td>\n",
       "      <td>5.753012</td>\n",
       "      <td>3285.584682</td>\n",
       "    </tr>\n",
       "    <tr>\n",
       "      <th>std</th>\n",
       "      <td>101334.735973</td>\n",
       "      <td>1.242906</td>\n",
       "      <td>29.164677</td>\n",
       "      <td>0.100173</td>\n",
       "      <td>0.143432</td>\n",
       "      <td>1998.205015</td>\n",
       "    </tr>\n",
       "    <tr>\n",
       "      <th>min</th>\n",
       "      <td>19100.000000</td>\n",
       "      <td>0.000000</td>\n",
       "      <td>10.000000</td>\n",
       "      <td>44.740806</td>\n",
       "      <td>4.815098</td>\n",
       "      <td>853.658537</td>\n",
       "    </tr>\n",
       "    <tr>\n",
       "      <th>25%</th>\n",
       "      <td>104000.000000</td>\n",
       "      <td>2.000000</td>\n",
       "      <td>35.000000</td>\n",
       "      <td>45.158918</td>\n",
       "      <td>5.697871</td>\n",
       "      <td>2265.837104</td>\n",
       "    </tr>\n",
       "    <tr>\n",
       "      <th>50%</th>\n",
       "      <td>153000.000000</td>\n",
       "      <td>2.000000</td>\n",
       "      <td>55.000000</td>\n",
       "      <td>45.185907</td>\n",
       "      <td>5.726565</td>\n",
       "      <td>2963.485017</td>\n",
       "    </tr>\n",
       "    <tr>\n",
       "      <th>75%</th>\n",
       "      <td>219912.500000</td>\n",
       "      <td>3.000000</td>\n",
       "      <td>73.000000</td>\n",
       "      <td>45.212767</td>\n",
       "      <td>5.770547</td>\n",
       "      <td>3713.744589</td>\n",
       "    </tr>\n",
       "    <tr>\n",
       "      <th>max</th>\n",
       "      <td>825000.000000</td>\n",
       "      <td>7.000000</td>\n",
       "      <td>226.000000</td>\n",
       "      <td>45.563775</td>\n",
       "      <td>6.125753</td>\n",
       "      <td>27500.000000</td>\n",
       "    </tr>\n",
       "  </tbody>\n",
       "</table>\n",
       "</div>"
      ],
      "text/plain": [
       "       Valeur fonciere  Nombre pieces principales  Surface reelle bati  \\\n",
       "count       614.000000                 614.000000           614.000000   \n",
       "mean     172510.625212                   2.529316            56.951140   \n",
       "std      101334.735973                   1.242906            29.164677   \n",
       "min       19100.000000                   0.000000            10.000000   \n",
       "25%      104000.000000                   2.000000            35.000000   \n",
       "50%      153000.000000                   2.000000            55.000000   \n",
       "75%      219912.500000                   3.000000            73.000000   \n",
       "max      825000.000000                   7.000000           226.000000   \n",
       "\n",
       "              lat        long    prix au m2  \n",
       "count  614.000000  614.000000    614.000000  \n",
       "mean    45.193739    5.753012   3285.584682  \n",
       "std      0.100173    0.143432   1998.205015  \n",
       "min     44.740806    4.815098    853.658537  \n",
       "25%     45.158918    5.697871   2265.837104  \n",
       "50%     45.185907    5.726565   2963.485017  \n",
       "75%     45.212767    5.770547   3713.744589  \n",
       "max     45.563775    6.125753  27500.000000  "
      ]
     },
     "execution_count": 17,
     "metadata": {},
     "output_type": "execute_result"
    }
   ],
   "source": [
    "df = df[df[\"prix au m2\"]>800]\n",
    "df.describe()"
   ]
  },
  {
   "cell_type": "code",
   "execution_count": 18,
   "id": "a7e38d4e",
   "metadata": {},
   "outputs": [
    {
     "data": {
      "text/html": [
       "<div>\n",
       "<style scoped>\n",
       "    .dataframe tbody tr th:only-of-type {\n",
       "        vertical-align: middle;\n",
       "    }\n",
       "\n",
       "    .dataframe tbody tr th {\n",
       "        vertical-align: top;\n",
       "    }\n",
       "\n",
       "    .dataframe thead th {\n",
       "        text-align: right;\n",
       "    }\n",
       "</style>\n",
       "<table border=\"1\" class=\"dataframe\">\n",
       "  <thead>\n",
       "    <tr style=\"text-align: right;\">\n",
       "      <th></th>\n",
       "      <th>Valeur fonciere</th>\n",
       "      <th>Nombre pieces principales</th>\n",
       "      <th>Surface reelle bati</th>\n",
       "      <th>lat</th>\n",
       "      <th>long</th>\n",
       "      <th>prix au m2</th>\n",
       "    </tr>\n",
       "  </thead>\n",
       "  <tbody>\n",
       "    <tr>\n",
       "      <th>count</th>\n",
       "      <td>603.000000</td>\n",
       "      <td>603.000000</td>\n",
       "      <td>603.000000</td>\n",
       "      <td>603.000000</td>\n",
       "      <td>603.000000</td>\n",
       "      <td>603.000000</td>\n",
       "    </tr>\n",
       "    <tr>\n",
       "      <th>mean</th>\n",
       "      <td>168911.316551</td>\n",
       "      <td>2.555556</td>\n",
       "      <td>57.519071</td>\n",
       "      <td>45.193951</td>\n",
       "      <td>5.752887</td>\n",
       "      <td>3086.982740</td>\n",
       "    </tr>\n",
       "    <tr>\n",
       "      <th>std</th>\n",
       "      <td>96381.476592</td>\n",
       "      <td>1.238159</td>\n",
       "      <td>29.114293</td>\n",
       "      <td>0.100998</td>\n",
       "      <td>0.144142</td>\n",
       "      <td>1214.520872</td>\n",
       "    </tr>\n",
       "    <tr>\n",
       "      <th>min</th>\n",
       "      <td>19100.000000</td>\n",
       "      <td>0.000000</td>\n",
       "      <td>10.000000</td>\n",
       "      <td>44.740806</td>\n",
       "      <td>4.815098</td>\n",
       "      <td>853.658537</td>\n",
       "    </tr>\n",
       "    <tr>\n",
       "      <th>25%</th>\n",
       "      <td>103535.000000</td>\n",
       "      <td>2.000000</td>\n",
       "      <td>36.000000</td>\n",
       "      <td>45.157259</td>\n",
       "      <td>5.697197</td>\n",
       "      <td>2258.866667</td>\n",
       "    </tr>\n",
       "    <tr>\n",
       "      <th>50%</th>\n",
       "      <td>152000.000000</td>\n",
       "      <td>2.000000</td>\n",
       "      <td>55.000000</td>\n",
       "      <td>45.185430</td>\n",
       "      <td>5.726345</td>\n",
       "      <td>2942.068966</td>\n",
       "    </tr>\n",
       "    <tr>\n",
       "      <th>75%</th>\n",
       "      <td>217250.000000</td>\n",
       "      <td>3.000000</td>\n",
       "      <td>73.000000</td>\n",
       "      <td>45.214675</td>\n",
       "      <td>5.771763</td>\n",
       "      <td>3657.868304</td>\n",
       "    </tr>\n",
       "    <tr>\n",
       "      <th>max</th>\n",
       "      <td>825000.000000</td>\n",
       "      <td>7.000000</td>\n",
       "      <td>226.000000</td>\n",
       "      <td>45.563775</td>\n",
       "      <td>6.125753</td>\n",
       "      <td>9269.662921</td>\n",
       "    </tr>\n",
       "  </tbody>\n",
       "</table>\n",
       "</div>"
      ],
      "text/plain": [
       "       Valeur fonciere  Nombre pieces principales  Surface reelle bati  \\\n",
       "count       603.000000                 603.000000           603.000000   \n",
       "mean     168911.316551                   2.555556            57.519071   \n",
       "std       96381.476592                   1.238159            29.114293   \n",
       "min       19100.000000                   0.000000            10.000000   \n",
       "25%      103535.000000                   2.000000            36.000000   \n",
       "50%      152000.000000                   2.000000            55.000000   \n",
       "75%      217250.000000                   3.000000            73.000000   \n",
       "max      825000.000000                   7.000000           226.000000   \n",
       "\n",
       "              lat        long   prix au m2  \n",
       "count  603.000000  603.000000   603.000000  \n",
       "mean    45.193951    5.752887  3086.982740  \n",
       "std      0.100998    0.144142  1214.520872  \n",
       "min     44.740806    4.815098   853.658537  \n",
       "25%     45.157259    5.697197  2258.866667  \n",
       "50%     45.185430    5.726345  2942.068966  \n",
       "75%     45.214675    5.771763  3657.868304  \n",
       "max     45.563775    6.125753  9269.662921  "
      ]
     },
     "execution_count": 18,
     "metadata": {},
     "output_type": "execute_result"
    }
   ],
   "source": [
    "df = df[df[\"prix au m2\"]<10000]\n",
    "df.describe()"
   ]
  },
  {
   "cell_type": "markdown",
   "id": "98d98bed",
   "metadata": {},
   "source": [
    "- Supprimer les appartements avec **0 pièce principale**"
   ]
  },
  {
   "cell_type": "code",
   "execution_count": 19,
   "id": "8e9b1fe5",
   "metadata": {},
   "outputs": [
    {
     "data": {
      "text/html": [
       "<div>\n",
       "<style scoped>\n",
       "    .dataframe tbody tr th:only-of-type {\n",
       "        vertical-align: middle;\n",
       "    }\n",
       "\n",
       "    .dataframe tbody tr th {\n",
       "        vertical-align: top;\n",
       "    }\n",
       "\n",
       "    .dataframe thead th {\n",
       "        text-align: right;\n",
       "    }\n",
       "</style>\n",
       "<table border=\"1\" class=\"dataframe\">\n",
       "  <thead>\n",
       "    <tr style=\"text-align: right;\">\n",
       "      <th></th>\n",
       "      <th>Valeur fonciere</th>\n",
       "      <th>Nombre pieces principales</th>\n",
       "      <th>Surface reelle bati</th>\n",
       "      <th>lat</th>\n",
       "      <th>long</th>\n",
       "      <th>prix au m2</th>\n",
       "    </tr>\n",
       "  </thead>\n",
       "  <tbody>\n",
       "    <tr>\n",
       "      <th>count</th>\n",
       "      <td>601.000000</td>\n",
       "      <td>601.000000</td>\n",
       "      <td>601.000000</td>\n",
       "      <td>601.000000</td>\n",
       "      <td>601.000000</td>\n",
       "      <td>601.000000</td>\n",
       "    </tr>\n",
       "    <tr>\n",
       "      <th>mean</th>\n",
       "      <td>169225.497304</td>\n",
       "      <td>2.564060</td>\n",
       "      <td>57.658902</td>\n",
       "      <td>45.193975</td>\n",
       "      <td>5.752983</td>\n",
       "      <td>3080.743399</td>\n",
       "    </tr>\n",
       "    <tr>\n",
       "      <th>std</th>\n",
       "      <td>96380.196602</td>\n",
       "      <td>1.231384</td>\n",
       "      <td>29.059625</td>\n",
       "      <td>0.101166</td>\n",
       "      <td>0.144372</td>\n",
       "      <td>1211.437696</td>\n",
       "    </tr>\n",
       "    <tr>\n",
       "      <th>min</th>\n",
       "      <td>19100.000000</td>\n",
       "      <td>1.000000</td>\n",
       "      <td>10.000000</td>\n",
       "      <td>44.740806</td>\n",
       "      <td>4.815098</td>\n",
       "      <td>853.658537</td>\n",
       "    </tr>\n",
       "    <tr>\n",
       "      <th>25%</th>\n",
       "      <td>104000.000000</td>\n",
       "      <td>2.000000</td>\n",
       "      <td>36.000000</td>\n",
       "      <td>45.156183</td>\n",
       "      <td>5.697197</td>\n",
       "      <td>2257.733333</td>\n",
       "    </tr>\n",
       "    <tr>\n",
       "      <th>50%</th>\n",
       "      <td>152000.000000</td>\n",
       "      <td>2.000000</td>\n",
       "      <td>55.000000</td>\n",
       "      <td>45.185327</td>\n",
       "      <td>5.726345</td>\n",
       "      <td>2936.507937</td>\n",
       "    </tr>\n",
       "    <tr>\n",
       "      <th>75%</th>\n",
       "      <td>217500.000000</td>\n",
       "      <td>3.000000</td>\n",
       "      <td>73.000000</td>\n",
       "      <td>45.214808</td>\n",
       "      <td>5.771887</td>\n",
       "      <td>3640.625000</td>\n",
       "    </tr>\n",
       "    <tr>\n",
       "      <th>max</th>\n",
       "      <td>825000.000000</td>\n",
       "      <td>7.000000</td>\n",
       "      <td>226.000000</td>\n",
       "      <td>45.563775</td>\n",
       "      <td>6.125753</td>\n",
       "      <td>9269.662921</td>\n",
       "    </tr>\n",
       "  </tbody>\n",
       "</table>\n",
       "</div>"
      ],
      "text/plain": [
       "       Valeur fonciere  Nombre pieces principales  Surface reelle bati  \\\n",
       "count       601.000000                 601.000000           601.000000   \n",
       "mean     169225.497304                   2.564060            57.658902   \n",
       "std       96380.196602                   1.231384            29.059625   \n",
       "min       19100.000000                   1.000000            10.000000   \n",
       "25%      104000.000000                   2.000000            36.000000   \n",
       "50%      152000.000000                   2.000000            55.000000   \n",
       "75%      217500.000000                   3.000000            73.000000   \n",
       "max      825000.000000                   7.000000           226.000000   \n",
       "\n",
       "              lat        long   prix au m2  \n",
       "count  601.000000  601.000000   601.000000  \n",
       "mean    45.193975    5.752983  3080.743399  \n",
       "std      0.101166    0.144372  1211.437696  \n",
       "min     44.740806    4.815098   853.658537  \n",
       "25%     45.156183    5.697197  2257.733333  \n",
       "50%     45.185327    5.726345  2936.507937  \n",
       "75%     45.214808    5.771887  3640.625000  \n",
       "max     45.563775    6.125753  9269.662921  "
      ]
     },
     "execution_count": 19,
     "metadata": {},
     "output_type": "execute_result"
    }
   ],
   "source": [
    "df = df[(df[\"Nombre pieces principales\"]>0)]\n",
    "df.describe()"
   ]
  },
  {
   "cell_type": "markdown",
   "id": "6548c8d7",
   "metadata": {},
   "source": [
    "- Supprimer la colonne \"prix au m2\" du dataset"
   ]
  },
  {
   "cell_type": "code",
   "execution_count": 20,
   "id": "a47b2b46",
   "metadata": {},
   "outputs": [],
   "source": [
    "df = df.drop(\"prix au m2\", axis=1)"
   ]
  },
  {
   "cell_type": "code",
   "execution_count": 21,
   "id": "b7559936",
   "metadata": {},
   "outputs": [
    {
     "data": {
      "text/html": [
       "<div>\n",
       "<style scoped>\n",
       "    .dataframe tbody tr th:only-of-type {\n",
       "        vertical-align: middle;\n",
       "    }\n",
       "\n",
       "    .dataframe tbody tr th {\n",
       "        vertical-align: top;\n",
       "    }\n",
       "\n",
       "    .dataframe thead th {\n",
       "        text-align: right;\n",
       "    }\n",
       "</style>\n",
       "<table border=\"1\" class=\"dataframe\">\n",
       "  <thead>\n",
       "    <tr style=\"text-align: right;\">\n",
       "      <th></th>\n",
       "      <th>Valeur fonciere</th>\n",
       "      <th>Nombre pieces principales</th>\n",
       "      <th>Surface reelle bati</th>\n",
       "      <th>lat</th>\n",
       "      <th>long</th>\n",
       "    </tr>\n",
       "  </thead>\n",
       "  <tbody>\n",
       "    <tr>\n",
       "      <th>count</th>\n",
       "      <td>601.000000</td>\n",
       "      <td>601.000000</td>\n",
       "      <td>601.000000</td>\n",
       "      <td>601.000000</td>\n",
       "      <td>601.000000</td>\n",
       "    </tr>\n",
       "    <tr>\n",
       "      <th>mean</th>\n",
       "      <td>169225.497304</td>\n",
       "      <td>2.564060</td>\n",
       "      <td>57.658902</td>\n",
       "      <td>45.193975</td>\n",
       "      <td>5.752983</td>\n",
       "    </tr>\n",
       "    <tr>\n",
       "      <th>std</th>\n",
       "      <td>96380.196602</td>\n",
       "      <td>1.231384</td>\n",
       "      <td>29.059625</td>\n",
       "      <td>0.101166</td>\n",
       "      <td>0.144372</td>\n",
       "    </tr>\n",
       "    <tr>\n",
       "      <th>min</th>\n",
       "      <td>19100.000000</td>\n",
       "      <td>1.000000</td>\n",
       "      <td>10.000000</td>\n",
       "      <td>44.740806</td>\n",
       "      <td>4.815098</td>\n",
       "    </tr>\n",
       "    <tr>\n",
       "      <th>25%</th>\n",
       "      <td>104000.000000</td>\n",
       "      <td>2.000000</td>\n",
       "      <td>36.000000</td>\n",
       "      <td>45.156183</td>\n",
       "      <td>5.697197</td>\n",
       "    </tr>\n",
       "    <tr>\n",
       "      <th>50%</th>\n",
       "      <td>152000.000000</td>\n",
       "      <td>2.000000</td>\n",
       "      <td>55.000000</td>\n",
       "      <td>45.185327</td>\n",
       "      <td>5.726345</td>\n",
       "    </tr>\n",
       "    <tr>\n",
       "      <th>75%</th>\n",
       "      <td>217500.000000</td>\n",
       "      <td>3.000000</td>\n",
       "      <td>73.000000</td>\n",
       "      <td>45.214808</td>\n",
       "      <td>5.771887</td>\n",
       "    </tr>\n",
       "    <tr>\n",
       "      <th>max</th>\n",
       "      <td>825000.000000</td>\n",
       "      <td>7.000000</td>\n",
       "      <td>226.000000</td>\n",
       "      <td>45.563775</td>\n",
       "      <td>6.125753</td>\n",
       "    </tr>\n",
       "  </tbody>\n",
       "</table>\n",
       "</div>"
      ],
      "text/plain": [
       "       Valeur fonciere  Nombre pieces principales  Surface reelle bati  \\\n",
       "count       601.000000                 601.000000           601.000000   \n",
       "mean     169225.497304                   2.564060            57.658902   \n",
       "std       96380.196602                   1.231384            29.059625   \n",
       "min       19100.000000                   1.000000            10.000000   \n",
       "25%      104000.000000                   2.000000            36.000000   \n",
       "50%      152000.000000                   2.000000            55.000000   \n",
       "75%      217500.000000                   3.000000            73.000000   \n",
       "max      825000.000000                   7.000000           226.000000   \n",
       "\n",
       "              lat        long  \n",
       "count  601.000000  601.000000  \n",
       "mean    45.193975    5.752983  \n",
       "std      0.101166    0.144372  \n",
       "min     44.740806    4.815098  \n",
       "25%     45.156183    5.697197  \n",
       "50%     45.185327    5.726345  \n",
       "75%     45.214808    5.771887  \n",
       "max     45.563775    6.125753  "
      ]
     },
     "execution_count": 21,
     "metadata": {},
     "output_type": "execute_result"
    }
   ],
   "source": [
    "df.describe()"
   ]
  },
  {
   "cell_type": "markdown",
   "id": "c84f4eff",
   "metadata": {},
   "source": [
    "- **Réentrainer** le modèle avec ces données nettoyées et calculer les **métriques**. Analyser la **distribution des résidus**"
   ]
  },
  {
   "cell_type": "code",
   "execution_count": 22,
   "id": "05966537",
   "metadata": {},
   "outputs": [
    {
     "name": "stdout",
     "output_type": "stream",
     "text": [
      "R2 : 0.3638137742471603\n",
      "Max error : 229898.11817940336\n",
      "Mean absolute error : 46251.343073147626\n",
      "Root mean squarred error : 59491.035296095\n",
      "Median absolute error : 37605.3437490213\n",
      "Moyenne de la métrique : 0.5558406477657228\n",
      "Ecart-type de la métrique : 0.0933771838595326\n",
      "Liste des valeurs de la métrique : [0.62456312 0.55025436 0.65924899 0.5296314  0.56509518 0.55146186\n",
      " 0.30694945 0.64919049 0.5719509  0.55006071]\n"
     ]
    },
    {
     "data": {
      "image/png": "[encoded data removed]",
      "text/plain": [
       "<Figure size 640x480 with 1 Axes>"
      ]
     },
     "metadata": {},
     "output_type": "display_data"
    }
   ],
   "source": [
    "def train_model(df, test_set=True):\n",
    "    X = df.drop(\"Valeur fonciere\", axis=1)\n",
    "    y = df[[\"Valeur fonciere\"]]\n",
    "    X_train, X_test, y_train, y_test = train_test_split(\n",
    "        X, y, test_size=0.2, random_state=1)\n",
    "    linear_regression_pipe = Pipeline([\n",
    "        ('scaler', StandardScaler()),\n",
    "        ('linear_regression', LinearRegression()),\n",
    "    ])\n",
    "    linear_regression_pipe.fit(X_train, y_train)\n",
    "    if test_set is True:\n",
    "        X_result = X_test\n",
    "        y_result = y_test\n",
    "    else:\n",
    "        X_result = X_train\n",
    "        y_result = y_train\n",
    "        \n",
    "    r2 = linear_regression_pipe.score(X_result, y_result)\n",
    "    # Metrics\n",
    "    print(f\"R2 : {r2}\")\n",
    "    print(f\"Max error : {max_error(y_result, linear_regression_pipe.predict(X_result))}\")\n",
    "    print(f\"Mean absolute error : {mean_absolute_error(y_result, linear_regression_pipe.predict(X_result))}\")\n",
    "    print(f\"Root mean squarred error : {math.sqrt(mean_squared_error(y_result, linear_regression_pipe.predict(X_result)))}\")\n",
    "    print(f\"Median absolute error : {median_absolute_error(y_result, linear_regression_pipe.predict(X_result))}\")\n",
    "    scores = cross_val_score(linear_regression_pipe, X, y, cv=10, scoring=\"r2\")\n",
    "    print(f\"Moyenne de la métrique : {scores.mean()}\")\n",
    "    print(f\"Ecart-type de la métrique : {scores.std()}\")\n",
    "    print(f\"Liste des valeurs de la métrique : {scores}\")\n",
    "    # Residus\n",
    "    residus = y_result - linear_regression_pipe.predict(X_result)\n",
    "    residus.hist(bins=20)\n",
    "    plt.show()\n",
    "\n",
    "train_model(df, test_set=True)"
   ]
  },
  {
   "cell_type": "markdown",
   "id": "9e462e95",
   "metadata": {},
   "source": [
    "- Le modèle est-il en **surapprentissage (overfitting)** ?"
   ]
  },
  {
   "cell_type": "code",
   "execution_count": 23,
   "id": "a94c6914",
   "metadata": {},
   "outputs": [
    {
     "name": "stdout",
     "output_type": "stream",
     "text": [
      "R2 : 0.6066274569035359\n",
      "Max error : 530209.2275643061\n",
      "Mean absolute error : 45743.15875069145\n",
      "Root mean squarred error : 63334.12241818518\n",
      "Median absolute error : 36874.61780942268\n",
      "Moyenne de la métrique : 0.5558406477657228\n",
      "Ecart-type de la métrique : 0.0933771838595326\n",
      "Liste des valeurs de la métrique : [0.62456312 0.55025436 0.65924899 0.5296314  0.56509518 0.55146186\n",
      " 0.30694945 0.64919049 0.5719509  0.55006071]\n"
     ]
    },
    {
     "data": {
      "image/png": "[encoded data removed]",
      "text/plain": [
       "<Figure size 640x480 with 1 Axes>"
      ]
     },
     "metadata": {},
     "output_type": "display_data"
    }
   ],
   "source": [
    "train_model(df, test_set=False)"
   ]
  },
  {
   "cell_type": "markdown",
   "id": "827f05e1",
   "metadata": {},
   "source": [
    "### Amélioration du modèle\n",
    "\n",
    "Il existe différentes **méthodes de régularisation** pour **réduire le surapprentissage** : [Ridge](https://scikit-learn.org/stable/modules/generated/sklearn.linear_model.Ridge.html), [Lasso](https://scikit-learn.org/stable/modules/generated/sklearn.linear_model.Lasso.html) et [ElasticNet](https://scikit-learn.org/stable/modules/generated/sklearn.linear_model.ElasticNet.html)\n",
    "\n",
    "- Entrainer un modèle de **régression Lasso (Ridge ou ElasticNet)** pour réduire le surapprentissage"
   ]
  },
  {
   "cell_type": "code",
   "execution_count": 24,
   "id": "5177a704",
   "metadata": {},
   "outputs": [],
   "source": [
    "from sklearn.linear_model import Ridge, Lasso, ElasticNet\n",
    "from sklearn.model_selection import GridSearchCV"
   ]
  },
  {
   "cell_type": "code",
   "execution_count": 31,
   "id": "5471a9e5",
   "metadata": {},
   "outputs": [
    {
     "name": "stdout",
     "output_type": "stream",
     "text": [
      "R2 : 0.4535384486417018\n",
      "Max error : 189629.64099549298\n",
      "Mean absolute error : 44411.436522538286\n",
      "Root mean squarred error : 55136.50090366511\n",
      "Median absolute error : 37629.604367815744\n",
      "Moyenne de la métrique : 0.5425629063308688\n",
      "Ecart-type de la métrique : 0.1244489068889631\n",
      "Liste des valeurs de la métrique : [0.57268302 0.54819523 0.70872424 0.62181856 0.57244577 0.54438408\n",
      " 0.21323075 0.61889993 0.55179829 0.47344918]\n"
     ]
    }
   ],
   "source": [
    "def train_model(df, test_set=True):\n",
    "    X = df.drop(\"Valeur fonciere\", axis=1)\n",
    "    y = df[[\"Valeur fonciere\"]]\n",
    "    X_train, X_test, y_train, y_test = train_test_split(\n",
    "        X, y, test_size=0.2, random_state=1)\n",
    "    linear_regression_pipe = Pipeline([\n",
    "        ('scaler', StandardScaler()),\n",
    "        ('Lasso_regression', Lasso(10000)),\n",
    "    ])\n",
    "    linear_regression_pipe.fit(X_train, y_train)\n",
    "    if test_set is True:\n",
    "        X_result = X_test\n",
    "        y_result = y_test\n",
    "    else:\n",
    "        X_result = X_train\n",
    "        y_result = y_train\n",
    "        \n",
    "    r2 = linear_regression_pipe.score(X_result, y_result)\n",
    "    # Metrics\n",
    "    print(f\"R2 : {r2}\")\n",
    "    print(f\"Max error : {max_error(y_result, linear_regression_pipe.predict(X_result))}\")\n",
    "    print(f\"Mean absolute error : {mean_absolute_error(y_result, linear_regression_pipe.predict(X_result))}\")\n",
    "    print(f\"Root mean squarred error : {math.sqrt(mean_squared_error(y_result, linear_regression_pipe.predict(X_result)))}\")\n",
    "    print(f\"Median absolute error : {median_absolute_error(y_result, linear_regression_pipe.predict(X_result))}\")\n",
    "    scores = cross_val_score(linear_regression_pipe, X, y, cv=10, scoring=\"r2\")\n",
    "    print(f\"Moyenne de la métrique : {scores.mean()}\")\n",
    "    print(f\"Ecart-type de la métrique : {scores.std()}\")\n",
    "    print(f\"Liste des valeurs de la métrique : {scores}\")\n",
    "    return linear_regression_pipe\n",
    "\n",
    "lin_reg = train_model(df, test_set=True)"
   ]
  },
  {
   "cell_type": "markdown",
   "id": "456bc166",
   "metadata": {},
   "source": [
    "- **Interpréter l'importance de chaque caractéristique** sur la prédiction du modèle"
   ]
  },
  {
   "cell_type": "code",
   "execution_count": 32,
   "id": "ce9ea3bb",
   "metadata": {},
   "outputs": [
    {
     "data": {
      "text/html": [
       "<div>\n",
       "<style scoped>\n",
       "    .dataframe tbody tr th:only-of-type {\n",
       "        vertical-align: middle;\n",
       "    }\n",
       "\n",
       "    .dataframe tbody tr th {\n",
       "        vertical-align: top;\n",
       "    }\n",
       "\n",
       "    .dataframe thead th {\n",
       "        text-align: right;\n",
       "    }\n",
       "</style>\n",
       "<table border=\"1\" class=\"dataframe\">\n",
       "  <thead>\n",
       "    <tr style=\"text-align: right;\">\n",
       "      <th></th>\n",
       "      <th>Nombre pieces principales</th>\n",
       "      <th>Surface reelle bati</th>\n",
       "      <th>lat</th>\n",
       "      <th>long</th>\n",
       "    </tr>\n",
       "  </thead>\n",
       "  <tbody>\n",
       "    <tr>\n",
       "      <th>0</th>\n",
       "      <td>0.0</td>\n",
       "      <td>67061.838159</td>\n",
       "      <td>-0.0</td>\n",
       "      <td>3510.733654</td>\n",
       "    </tr>\n",
       "  </tbody>\n",
       "</table>\n",
       "</div>"
      ],
      "text/plain": [
       "   Nombre pieces principales  Surface reelle bati  lat         long\n",
       "0                        0.0         67061.838159 -0.0  3510.733654"
      ]
     },
     "execution_count": 32,
     "metadata": {},
     "output_type": "execute_result"
    }
   ],
   "source": [
    "coef = pd.DataFrame([lin_reg.steps[1][1].coef_], columns=df.columns[1:])\n",
    "coef"
   ]
  },
  {
   "cell_type": "code",
   "execution_count": 33,
   "id": "18aca882",
   "metadata": {},
   "outputs": [
    {
     "data": {
      "image/png": "[encoded data removed]",
      "text/plain": [
       "<Figure size 640x480 with 1 Axes>"
      ]
     },
     "metadata": {},
     "output_type": "display_data"
    }
   ],
   "source": [
    "coef.plot.bar()\n",
    "plt.title(\"Valeur des coefficients de la régression Lasso\")\n",
    "plt.show()"
   ]
  },
  {
   "cell_type": "markdown",
   "id": "f0fbdf5d",
   "metadata": {},
   "source": [
    "## 🚀 Pour aller plus loin\n",
    "\n",
    "- Regularization Part 1: Ridge (L2) Regression : https://www.youtube.com/watch?v=Q81RR3yKn30\n",
    "\n",
    "- Regularization Part 2: Lasso (L1) Regression : https://www.youtube.com/watch?v=NGf0voTMlcs\n",
    "\n",
    "- Regularization Part 3: Elastic Net Regression : https://www.youtube.com/watch?v=1dKRdX9bfIo"
   ]
  },
  {
   "cell_type": "markdown",
   "id": "795d31e5",
   "metadata": {},
   "source": [
    "___\n",
    "*👨‍🏫 [Pierre-Loic BAYART](https://www.linkedin.com/in/pierreloicbayart/) - Formation développeur d'applications spécialisation data analyst - Webforce3 - Grenoble Ecole de Management*\n",
    "___\n",
    "Source image d'illustration : *Image par tomfield de Pixabay*"
   ]
  }
 ],
 "metadata": {
  "kernelspec": {
   "display_name": "Python 3 (ipykernel)",
   "language": "python",
   "name": "python3"
  },
  "language_info": {
   "codemirror_mode": {
    "name": "ipython",
    "version": 3
   },
   "file_extension": ".py",
   "mimetype": "text/x-python",
   "name": "python",
   "nbconvert_exporter": "python",
   "pygments_lexer": "ipython3",
   "version": "3.9.6"
  }
 },
 "nbformat": 4,
 "nbformat_minor": 5
}
