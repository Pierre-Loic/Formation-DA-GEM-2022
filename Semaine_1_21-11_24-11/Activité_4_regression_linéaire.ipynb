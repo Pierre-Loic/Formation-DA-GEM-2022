{
 "cells": [
  {
   "cell_type": "markdown",
   "id": "4473ab00",
   "metadata": {},
   "source": [
    "# 👩‍💻 Activité 4 : Comment entrainer et évaluer un modèle de régression linéaire ?\n",
    "\n",
    "<img src=\"https://cdn.pixabay.com/photo/2017/10/04/16/43/table-2816806_960_720.jpg\" alt=\"rubik\" width=\"400\"/>\n",
    "\n",
    "#### [Pierre-Loic BAYART](https://www.linkedin.com/in/pierreloicbayart/) - Formation développeur d'applications spécialisation data analyst - Webforce3 - Grenoble Ecole de Management"
   ]
  },
  {
   "cell_type": "markdown",
   "id": "afae853a",
   "metadata": {},
   "source": [
    "## 🔍 Recherche d'informations\n",
    "\n",
    "En recherchant sur le web, trouver les réponses aux questions suivantes :\n",
    "\n",
    "### - Quelles sont les étapes à réaliser en amont de l'entrainement du modèle de regression linéaire ?\n",
    "___\n",
    "*A COMPLETER*\n",
    "___\n",
    "### - Quelles sont les métriques d'évaluation d'un modèle de regression linéaire ?\n",
    "___\n",
    "*A COMPLETER*\n",
    "___\n",
    "### - Quelles sont les méthodes de régularisation pour la régression linéaire ?\n",
    "___\n",
    "*A COMPLETER*\n",
    "___"
   ]
  },
  {
   "cell_type": "markdown",
   "id": "57ce6564",
   "metadata": {},
   "source": [
    "## ✏️ Activités\n",
    "\n",
    "Le jeu de données utilisé dans cet exercice a été construit à partir du fichier de [\"Demandes de valeurs foncières - DVF\"](https://www.data.gouv.fr/fr/datasets/demandes-de-valeurs-foncieres/) du **premier semestre 2022**. Les données ont été **nettoyées** et **sélectionnées** pour ne conserver que les ventes d'**appartements** dans le département de l'**isère**.\n",
    "\n",
    "Fichier source : https://www.data.gouv.fr/fr/datasets/r/87038926-fb31-4959-b2ae-7a24321c599a\n",
    "\n",
    "<img src=\"https://upload.wikimedia.org/wikipedia/fr/thumb/8/84/Data_gouv_fr_logo.svg/1280px-Data_gouv_fr_logo.svg.png\" alt=\"datagouv\" width=\"400\"/>\n",
    "\n",
    "Pour éviter la **fuite de données (data leakage)**, il est préférable d'utiliser un [pipeline Scikit-Learn](https://scikit-learn.org/stable/modules/generated/sklearn.pipeline.Pipeline.html) pour entrainer un modèle de machine learning.\n",
    "\n",
    "- Importer les bibliothèques suivantes : **Pandas**, **Matplotlib** et **Scikit-Learn** (sklearn.preprocessing.StandardScaler, sklearn.pipeline.Pipeline, sklearn.linear_model.LinearRegression, sklearn.model_selection.train_test_split)"
   ]
  },
  {
   "cell_type": "code",
   "execution_count": null,
   "id": "3d2e97e6",
   "metadata": {},
   "outputs": [],
   "source": [
    "# A COMPLETER"
   ]
  },
  {
   "cell_type": "markdown",
   "id": "05c40393",
   "metadata": {},
   "source": [
    "- Créer un **pipeline** avec un **StandardScaler** et un modèle de **régression linéaire**"
   ]
  },
  {
   "cell_type": "code",
   "execution_count": null,
   "id": "39edff53",
   "metadata": {},
   "outputs": [],
   "source": [
    "# A COMPLETER"
   ]
  },
  {
   "cell_type": "markdown",
   "id": "84cfecbc",
   "metadata": {},
   "source": [
    "- Importer le fichier de données \"data_immo_38_S1_2022.csv\" dans un **dataframe Pandas**"
   ]
  },
  {
   "cell_type": "code",
   "execution_count": null,
   "id": "ca72ebf9",
   "metadata": {},
   "outputs": [],
   "source": [
    "# A COMPLETER"
   ]
  },
  {
   "cell_type": "markdown",
   "id": "ed6fe5bf",
   "metadata": {},
   "source": [
    "- Séparer la **valeur cible** (\"Valeur fonciere\") du reste des caractéristiques"
   ]
  },
  {
   "cell_type": "code",
   "execution_count": null,
   "id": "db0bd0dd",
   "metadata": {},
   "outputs": [],
   "source": [
    "# A COMPLETER"
   ]
  },
  {
   "cell_type": "markdown",
   "id": "87437c83",
   "metadata": {},
   "source": [
    "- Séparer les données en un jeu de données d'**entrainement** et de **test**"
   ]
  },
  {
   "cell_type": "code",
   "execution_count": null,
   "id": "9fae59ae",
   "metadata": {},
   "outputs": [],
   "source": [
    "# A COMPLETER"
   ]
  },
  {
   "cell_type": "markdown",
   "id": "d2d50dbc",
   "metadata": {},
   "source": [
    "- **Entrainer le pipeline** du modèle de régression linéaire"
   ]
  },
  {
   "cell_type": "code",
   "execution_count": null,
   "id": "360eacf7",
   "metadata": {},
   "outputs": [],
   "source": [
    "# A COMPLETER"
   ]
  },
  {
   "cell_type": "markdown",
   "id": "93e96b78",
   "metadata": {},
   "source": [
    "### Evaluation du modèle de regression linéaire\n",
    "\n",
    "- Evaluer la **qualité de la prédiction** du modèle à l'aide de la métrique de la méthode `score()` (R2)"
   ]
  },
  {
   "cell_type": "code",
   "execution_count": null,
   "id": "182ff23b",
   "metadata": {},
   "outputs": [],
   "source": [
    "# A COMPLETER"
   ]
  },
  {
   "cell_type": "markdown",
   "id": "4cc67e64",
   "metadata": {},
   "source": [
    "- Calculer les **métriques** suivantes : [max_error](https://scikit-learn.org/stable/modules/generated/sklearn.metrics.max_error.html#sklearn.metrics.max_error), [mean_absolute_error](https://scikit-learn.org/stable/modules/generated/sklearn.metrics.mean_absolute_error.html), [mean_squared_error](https://scikit-learn.org/stable/modules/generated/sklearn.metrics.mean_squared_error.html), [median_absolute_error](https://scikit-learn.org/stable/modules/generated/sklearn.metrics.median_absolute_error.html)"
   ]
  },
  {
   "cell_type": "code",
   "execution_count": null,
   "id": "ab4fadf7",
   "metadata": {},
   "outputs": [],
   "source": [
    "# A COMPLETER"
   ]
  },
  {
   "cell_type": "markdown",
   "id": "dedc903b",
   "metadata": {},
   "source": [
    "- Analyser la **distribution des résidus**"
   ]
  },
  {
   "cell_type": "code",
   "execution_count": null,
   "id": "9d4cb233",
   "metadata": {},
   "outputs": [],
   "source": [
    "# A COMPLETER"
   ]
  },
  {
   "cell_type": "markdown",
   "id": "1be2490a",
   "metadata": {},
   "source": [
    "### Amélioration de la qualité des données d'entrée\n",
    "\n",
    "- Ajouter une colonne pour le prix au m2"
   ]
  },
  {
   "cell_type": "code",
   "execution_count": null,
   "id": "fcd49bf3",
   "metadata": {},
   "outputs": [],
   "source": [
    "# A COMPLETER"
   ]
  },
  {
   "cell_type": "markdown",
   "id": "2b84d842",
   "metadata": {},
   "source": [
    "- Suivant les prix **min** et **max** observés en Isère, supprimer les **données aberrantes**\n",
    "\n",
    "Source : https://www.consortium-immobilier.fr/prix/isere-38.html"
   ]
  },
  {
   "cell_type": "code",
   "execution_count": null,
   "id": "a39d8b8f",
   "metadata": {},
   "outputs": [],
   "source": [
    "# A COMPLETER"
   ]
  },
  {
   "cell_type": "markdown",
   "id": "98d98bed",
   "metadata": {},
   "source": [
    "- Supprimer les appartements avec **0 pièce principale**"
   ]
  },
  {
   "cell_type": "code",
   "execution_count": null,
   "id": "8e9b1fe5",
   "metadata": {},
   "outputs": [],
   "source": [
    "# A COMPLETER"
   ]
  },
  {
   "cell_type": "markdown",
   "id": "6548c8d7",
   "metadata": {},
   "source": [
    "- Supprimer la colonne \"prix au m2\" du dataset"
   ]
  },
  {
   "cell_type": "code",
   "execution_count": null,
   "id": "a47b2b46",
   "metadata": {},
   "outputs": [],
   "source": [
    "# A COMPLETER"
   ]
  },
  {
   "cell_type": "markdown",
   "id": "c84f4eff",
   "metadata": {},
   "source": [
    "- **Réentrainer** le modèle avec ces données nettoyées et calculer les **métriques**. Analyser la **distribution des résidus**"
   ]
  },
  {
   "cell_type": "code",
   "execution_count": null,
   "id": "05966537",
   "metadata": {},
   "outputs": [],
   "source": [
    "# A COMPLETER"
   ]
  },
  {
   "cell_type": "markdown",
   "id": "9e462e95",
   "metadata": {},
   "source": [
    "- Le modèle est-il en **surapprentissage (overfitting)** ?"
   ]
  },
  {
   "cell_type": "code",
   "execution_count": null,
   "id": "a94c6914",
   "metadata": {},
   "outputs": [],
   "source": [
    "# A COMPLETER"
   ]
  },
  {
   "cell_type": "markdown",
   "id": "827f05e1",
   "metadata": {},
   "source": [
    "### Amélioration du modèle\n",
    "\n",
    "Il existe différentes **méthodes de régularisation** pour **réduire le surapprentissage** : [Ridge](https://scikit-learn.org/stable/modules/generated/sklearn.linear_model.Ridge.html), [Lasso](https://scikit-learn.org/stable/modules/generated/sklearn.linear_model.Lasso.html) et [ElasticNet](https://scikit-learn.org/stable/modules/generated/sklearn.linear_model.ElasticNet.html)\n",
    "\n",
    "- Entrainer un modèle de **régression Lasso (Ridge ou ElasticNet)** pour réduire le surapprentissage"
   ]
  },
  {
   "cell_type": "code",
   "execution_count": null,
   "id": "5177a704",
   "metadata": {},
   "outputs": [],
   "source": [
    "# A COMPLETER"
   ]
  },
  {
   "cell_type": "markdown",
   "id": "456bc166",
   "metadata": {},
   "source": [
    "- **Interpréter l'importance de chaque caractéristique** sur la prédiction du modèle"
   ]
  },
  {
   "cell_type": "code",
   "execution_count": null,
   "id": "ce9ea3bb",
   "metadata": {},
   "outputs": [],
   "source": [
    "# A COMPLETER"
   ]
  },
  {
   "cell_type": "markdown",
   "id": "f0fbdf5d",
   "metadata": {},
   "source": [
    "## 🚀 Pour aller plus loin\n",
    "\n",
    "- Regularization Part 1: Ridge (L2) Regression : https://www.youtube.com/watch?v=Q81RR3yKn30\n",
    "\n",
    "- Regularization Part 2: Lasso (L1) Regression : https://www.youtube.com/watch?v=NGf0voTMlcs\n",
    "\n",
    "- Regularization Part 3: Elastic Net Regression : https://www.youtube.com/watch?v=1dKRdX9bfIo"
   ]
  },
  {
   "cell_type": "markdown",
   "id": "795d31e5",
   "metadata": {},
   "source": [
    "___\n",
    "*👨‍🏫 [Pierre-Loic BAYART](https://www.linkedin.com/in/pierreloicbayart/) - Formation développeur d'applications spécialisation data analyst - Webforce3 - Grenoble Ecole de Management*\n",
    "___\n",
    "Source image d'illustration : *Image par tomfield de Pixabay*"
   ]
  }
 ],
 "metadata": {
  "kernelspec": {
   "display_name": "Python 3 (ipykernel)",
   "language": "python",
   "name": "python3"
  },
  "language_info": {
   "codemirror_mode": {
    "name": "ipython",
    "version": 3
   },
   "file_extension": ".py",
   "mimetype": "text/x-python",
   "name": "python",
   "nbconvert_exporter": "python",
   "pygments_lexer": "ipython3",
   "version": "3.9.6"
  }
 },
 "nbformat": 4,
 "nbformat_minor": 5
}
