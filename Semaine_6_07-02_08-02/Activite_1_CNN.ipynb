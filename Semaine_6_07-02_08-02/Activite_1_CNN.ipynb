{
 "cells": [
  {
   "cell_type": "markdown",
   "id": "3904d575",
   "metadata": {},
   "source": [
    "# 👩‍💻 Activité 1 : réseaux de neurones convolutifs\n",
    "\n",
    "<img src=\"https://cdn.pixabay.com/photo/2017/11/07/09/05/nerves-2926087_1280.jpg\" alt=\"etoiles\" width=\"400\"/>\n",
    "\n",
    "#### [Pierre-Loic BAYART](https://www.linkedin.com/in/pierreloicbayart/) - Formation développeur d'applications spécialisation data analyst - Webforce3 - Grenoble Ecole de Management"
   ]
  },
  {
   "cell_type": "markdown",
   "id": "d118217b",
   "metadata": {},
   "source": [
    "## 🔁 Révisions\n",
    "\n",
    "> \"Nous sommes ce que nous faisons à répétition. L’excellence n’est donc pas un acte mais une habitude.\"\n",
    "> **Aristote**\n",
    "\n",
    "### - A quoi sert la bibliothèque Keras ?\n",
    "### - Qu'est-ce qu'une fonction d'activation ? \n",
    "### - Qu'est-ce qu'une fonction de perte ? \n",
    "### - Qu'est-ce que la couche de neurones d'entrée ? Par quoi est-elle définie ?\n",
    "### - Qu'est-ce qu'une couche de neurones cachée ? Par quoi est-elle définie ?\n",
    "### - Qu'est-ce que la couche de neurones de sortie ? Par quoi est-elle définie ?\n",
    "### - Qu'est-ce qu'un optimiseur ? \n",
    "### - Qu'est-ce qu'une époque ? \n",
    "### - Qu'est-ce qu'un batch (lot) ?\n",
    "### - Sous quelle forme est stockée une image en informatique ?\n",
    "### - Qu'est-ce que l'encodage RGB (ou RVB en français) ?\n",
    "### - Quels sont les différents formats d'images ?\n",
    "### - Quelles sont les bibliothèques Python utiles pour manipuler des images ?\n",
    "### - Si vous traitez des images couleur de résolution 3840 x 2160 (4K) avec un modèle de machine learning classique sans réduction de dimensions, comment y a-t-il des caractéristiques (features) à ce jeu de données d'images ?"
   ]
  },
  {
   "cell_type": "markdown",
   "id": "1d7a7f99",
   "metadata": {},
   "source": [
    "## 🔍 Recherche d'informations\n",
    "\n",
    "En recherchant sur le web, trouver les réponses aux questions suivantes :\n",
    "\n",
    "### - A quoi servent les couches de neurones de convolution ?\n",
    "___\n",
    "A COMPLETER\n",
    "___\n",
    "### - A quoi servent les couches de neurones de pooling ?\n",
    "___\n",
    "A COMPLETER\n",
    "___\n",
    "### - A quoi servent les couches de neurones de dropout ?\n",
    "___\n",
    "A COMPLETER\n",
    "___"
   ]
  },
  {
   "cell_type": "markdown",
   "id": "97b23874",
   "metadata": {},
   "source": [
    "## ✏️ Activités\n",
    "\n",
    "### Détecter les chiffres sur une image sans couche de neurones de convolution\n",
    "\n",
    "- Importer de la bibliothèque **Keras** le jeu de données [Fashion MNIST](https://keras.io/api/datasets/fashion_mnist/)"
   ]
  },
  {
   "cell_type": "code",
   "execution_count": null,
   "id": "e4f06fcf",
   "metadata": {},
   "outputs": [],
   "source": [
    "# A COMPLETER"
   ]
  },
  {
   "cell_type": "markdown",
   "id": "b71dd5f5",
   "metadata": {},
   "source": [
    "- **Analyser la taille** des jeux de données et le **type de données**"
   ]
  },
  {
   "cell_type": "code",
   "execution_count": null,
   "id": "0782031f",
   "metadata": {},
   "outputs": [],
   "source": [
    "# A COMPLETER"
   ]
  },
  {
   "cell_type": "markdown",
   "id": "b80147e9",
   "metadata": {},
   "source": [
    "- Créer un jeu de données de **validation** à partir du jeu de données d'**entrainement**"
   ]
  },
  {
   "cell_type": "code",
   "execution_count": null,
   "id": "066c1e69",
   "metadata": {},
   "outputs": [],
   "source": [
    "# A COMPLETER"
   ]
  },
  {
   "cell_type": "markdown",
   "id": "c155a1a5",
   "metadata": {},
   "source": [
    "- **Normer l'intensité des pixels** entre 0 et 1 pour les 3 jeux de données"
   ]
  },
  {
   "cell_type": "code",
   "execution_count": null,
   "id": "1bd36116",
   "metadata": {},
   "outputs": [],
   "source": [
    "# A COMPLETER"
   ]
  },
  {
   "cell_type": "markdown",
   "id": "931079c4",
   "metadata": {},
   "source": [
    "- Récupération des **étiquettes (labels)**"
   ]
  },
  {
   "cell_type": "code",
   "execution_count": null,
   "id": "79d11c76",
   "metadata": {},
   "outputs": [],
   "source": [
    "class_names = [\"T-shirt\", \"Pantalon\", \"Pull-over\", \"Robe\", \"Manteau\", \"Sandales\", \"Chemise\", \"Baskets\", \"Sac\", \"Bottines\"]"
   ]
  },
  {
   "cell_type": "markdown",
   "id": "13f0a423",
   "metadata": {},
   "source": [
    "- Afficher la **classe** et l'**image** de la première donnée du jeu d'entrainement"
   ]
  },
  {
   "cell_type": "code",
   "execution_count": null,
   "id": "b35aafb5",
   "metadata": {},
   "outputs": [],
   "source": [
    "# A COMPLETER"
   ]
  },
  {
   "cell_type": "markdown",
   "id": "6704200c",
   "metadata": {},
   "source": [
    "- Créer un modèle **Keras séquentiel** avec l'architecture suivante :\n",
    "    - Couche \"Flatten\" d'**entrée** en dimension **28x28**\n",
    "    - Couche dense à **300 neurones** avec fonction d'activation **Relu**\n",
    "    - Couche dense à **100 neurones** avec fonction d'activation **Relu**\n",
    "    - Couche dense de **sortie** à **10 neurones** avec fonction d'activation **Softmax**"
   ]
  },
  {
   "cell_type": "code",
   "execution_count": null,
   "id": "208935c2",
   "metadata": {},
   "outputs": [],
   "source": [
    "# A COMPLETER"
   ]
  },
  {
   "cell_type": "markdown",
   "id": "0a881dfc",
   "metadata": {},
   "source": [
    "- Vérifier l'**architecture du modèle**"
   ]
  },
  {
   "cell_type": "code",
   "execution_count": null,
   "id": "16001df0",
   "metadata": {},
   "outputs": [],
   "source": [
    "# A COMPLETER"
   ]
  },
  {
   "cell_type": "markdown",
   "id": "59de5999",
   "metadata": {},
   "source": [
    "- **Compiler** le modèle avec comme **fonction de perte** \"sparse_categorical_crossentropy\", comme **optimiseur** \"sgd\" et comme **métrique** \"accuracy\""
   ]
  },
  {
   "cell_type": "code",
   "execution_count": null,
   "id": "a5ca9732",
   "metadata": {},
   "outputs": [],
   "source": [
    "# A COMPLETER"
   ]
  },
  {
   "cell_type": "markdown",
   "id": "b0151202",
   "metadata": {},
   "source": [
    "- **Entrainer** le modèle pour **50 époques** et afficher les **métriques de validation**. **Stocker le résultat** de l'entrainement dans une variable \"history\""
   ]
  },
  {
   "cell_type": "code",
   "execution_count": null,
   "id": "07a47595",
   "metadata": {},
   "outputs": [],
   "source": [
    "# A COMPLETER"
   ]
  },
  {
   "cell_type": "markdown",
   "id": "6c709035",
   "metadata": {},
   "source": [
    "- Afficher le **graphique de l'accuracy**"
   ]
  },
  {
   "cell_type": "code",
   "execution_count": null,
   "id": "d32d5f79",
   "metadata": {},
   "outputs": [],
   "source": [
    "# A COMPLETER"
   ]
  },
  {
   "cell_type": "markdown",
   "id": "55e0fec0",
   "metadata": {},
   "source": [
    "- Effectuer une **prédiction** sur les **3 premiers élèments** du jeu de test"
   ]
  },
  {
   "cell_type": "code",
   "execution_count": null,
   "id": "840fb90e",
   "metadata": {},
   "outputs": [],
   "source": [
    "# A COMPLETER"
   ]
  },
  {
   "cell_type": "markdown",
   "id": "e129baa3",
   "metadata": {},
   "source": [
    "### Détecter les chiffres sur une image avec des couches  de neurones de convolution\n",
    "\n",
    "- Créer un modèle **Keras séquentiel** avec l'architecture suivante :\n",
    "    - Couche de convolution \"Conv2D\" de dimension 64, de noyau 7, de padding \"same\" et de fonction d'activation \"relu\". Ajouter l'input shape des données d'entrée [28,28,1]\n",
    "    - Couche de Maxpooling2D de noyau 2\n",
    "    - 2 couches de convolution \"Conv2D\" de dimension 128, de noyau 3, de padding \"same\" et de fonction d'activation \"relu\"\n",
    "    - Couche de Maxpooling2D de noyau 2\n",
    "    - 2 couches de convolution \"Conv2D\" de dimension 256, de noyau 3, de padding \"same\" et de fonction d'activation \"relu\"\n",
    "    - Couche de Maxpooling2D de noyau 2\n",
    "    - Couche Flatten\n",
    "    - Couche dense de 128 neurones avec une fonction d'activation \"relu\"\n",
    "    - Couche de dropout à 0.5\n",
    "    - Couche dense de 64 neurones avec une fonction d'activation \"relu\"\n",
    "    - Couche de dropout à 0.5\n",
    "    - Couche dense de 10 neurones avec une fonction d'activation \"softmax\""
   ]
  },
  {
   "cell_type": "code",
   "execution_count": null,
   "id": "b412fbdb",
   "metadata": {},
   "outputs": [],
   "source": [
    "# A COMPLETER"
   ]
  },
  {
   "cell_type": "markdown",
   "id": "3463bc6d",
   "metadata": {},
   "source": [
    "- Vérifier l'**architecture du modèle**"
   ]
  },
  {
   "cell_type": "code",
   "execution_count": null,
   "id": "ee2d8071",
   "metadata": {},
   "outputs": [],
   "source": [
    "# A COMPLETER"
   ]
  },
  {
   "cell_type": "markdown",
   "id": "610c9629",
   "metadata": {},
   "source": [
    "- **Compiler** le modèle avec comme **fonction de perte** \"sparse_categorical_crossentropy\", comme **optimiseur** \"sgd\" et comme **métrique** \"accuracy\""
   ]
  },
  {
   "cell_type": "code",
   "execution_count": null,
   "id": "e3e5ccfa",
   "metadata": {},
   "outputs": [],
   "source": [
    "# A COMPLETER"
   ]
  },
  {
   "cell_type": "markdown",
   "id": "11db1351",
   "metadata": {},
   "source": [
    "- **Entrainer** le modèle pour **10 époques** et afficher les **métriques de validation**. **Stocker le résultat** de l'entrainement dans une variable \"history\""
   ]
  },
  {
   "cell_type": "code",
   "execution_count": null,
   "id": "d384da87",
   "metadata": {},
   "outputs": [],
   "source": [
    "# A COMPLETER"
   ]
  },
  {
   "cell_type": "markdown",
   "id": "3eaa91e7",
   "metadata": {},
   "source": [
    "- Afficher le **graphique de l'accuracy**"
   ]
  },
  {
   "cell_type": "code",
   "execution_count": null,
   "id": "3892ff23",
   "metadata": {},
   "outputs": [],
   "source": [
    "# A COMPLETER"
   ]
  },
  {
   "cell_type": "markdown",
   "id": "8f3e6f80",
   "metadata": {},
   "source": [
    "## 🚀 Pour aller plus loin\n",
    "\n",
    "- [Build and Train a Convolutional Neural Network with TensorFlow's Keras API](https://www.youtube.com/watch?v=3V9YFPfgyAY)"
   ]
  },
  {
   "cell_type": "markdown",
   "id": "5c73ba7d",
   "metadata": {},
   "source": [
    "___\n",
    "*👨‍🏫 [Pierre-Loic BAYART](https://www.linkedin.com/in/pierreloicbayart/) - Formation développeur d'applications spécialisation data analyst - Webforce3 - Grenoble Ecole de Management*\n",
    "___\n",
    "Source images d'illustration : Image par Gerd Altmann de Pixabay"
   ]
  }
 ],
 "metadata": {
  "kernelspec": {
   "display_name": "Python 3 (ipykernel)",
   "language": "python",
   "name": "python3"
  },
  "language_info": {
   "codemirror_mode": {
    "name": "ipython",
    "version": 3
   },
   "file_extension": ".py",
   "mimetype": "text/x-python",
   "name": "python",
   "nbconvert_exporter": "python",
   "pygments_lexer": "ipython3",
   "version": "3.10.8"
  }
 },
 "nbformat": 4,
 "nbformat_minor": 5
}
