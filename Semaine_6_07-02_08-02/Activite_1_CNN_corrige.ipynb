{
 "cells": [
  {
   "cell_type": "markdown",
   "id": "3904d575",
   "metadata": {},
   "source": [
    "# 👩‍💻 Activité 1 : réseaux de neurones convolutifs\n",
    "\n",
    "<img src=\"https://cdn.pixabay.com/photo/2017/11/07/09/05/nerves-2926087_1280.jpg\" alt=\"etoiles\" width=\"400\"/>\n",
    "\n",
    "#### [Pierre-Loic BAYART](https://www.linkedin.com/in/pierreloicbayart/) - Formation développeur d'applications spécialisation data analyst - Webforce3 - Grenoble Ecole de Management"
   ]
  },
  {
   "cell_type": "markdown",
   "id": "d118217b",
   "metadata": {},
   "source": [
    "## 🔁 Révisions\n",
    "\n",
    "> \"Nous sommes ce que nous faisons à répétition. L’excellence n’est donc pas un acte mais une habitude.\"\n",
    "> **Aristote**\n",
    "\n",
    "### - A quoi sert la bibliothèque Keras ?\n",
    "### - Qu'est-ce qu'une fonction d'activation ? \n",
    "### - Qu'est-ce qu'une fonction de perte ? \n",
    "### - Qu'est-ce que la couche de neurones d'entrée ? Par quoi est-elle définie ?\n",
    "### - Qu'est-ce qu'une couche de neurones cachée ? Par quoi est-elle définie ?\n",
    "### - Qu'est-ce que la couche de neurones de sortie ? Par quoi est-elle définie ?\n",
    "### - Qu'est-ce qu'un optimiseur ? \n",
    "### - Qu'est-ce qu'une époque ? \n",
    "### - Qu'est-ce qu'un batch (lot) ?\n",
    "### - Sous quelle forme est stockée une image en informatique ?\n",
    "### - Qu'est-ce que l'encodage RGB (ou RVB en français) ?\n",
    "### - Quels sont les différents formats d'images ?\n",
    "### - Quelles sont les bibliothèques Python utiles pour manipuler des images ?\n",
    "### - Si vous traitez des images couleur de résolution 3840 x 2160 (4K) avec un modèle de machine learning classique sans réduction de dimensions, comment y a-t-il des caractéristiques (features) à ce jeu de données d'images ?"
   ]
  },
  {
   "cell_type": "markdown",
   "id": "1d7a7f99",
   "metadata": {},
   "source": [
    "## 🔍 Recherche d'informations\n",
    "\n",
    "En recherchant sur le web, trouver les réponses aux questions suivantes :\n",
    "\n",
    "### - A quoi servent les couches de neurones de convolution ?\n",
    "___\n",
    "Les **couches de convolution** permettent des détecter des **features** sur une image en faisant glisser un filtre sur l'image.\n",
    "Illustration : [Convolutional Neural Networks](https://mukulrathi.com/demystifying-deep-learning/convolutional-neural-network-from-scratch/)\n",
    "\n",
    "![Convolution](https://mukulrathi.com/aad8a78e265cb76c3b0ebe17a058b19c/conv-slide.gif)\n",
    "___\n",
    "### - A quoi servent les couches de neurones de pooling ?\n",
    "___\n",
    "Les **couches de pooling** sont en général placées **entre deux couches de convolution**. Elles permettent de **réduire la taille des images** en conservant les caractéristiques importantes.\n",
    "\n",
    "Illustration : [Towards AI](https://pub.towardsai.net/introduction-to-pooling-layers-in-cnn-dafe61eabe34?gi=00ff04d9e8db)\n",
    "\n",
    "![Pooling](https://miro.medium.com/max/1400/1*fXxDBsJ96FKEtMOa9vNgjA.gif)\n",
    "___\n",
    "### - A quoi servent les couches de neurones de dropout ?\n",
    "___\n",
    "Le **dropout** est une méthode qui permet de **réduire le surapprentissage** des réseaux de neurones. A **chaque époque**, un **déactive** une partie des neurones de manière **aléatoire**.\n",
    "\n",
    "Illustration : [Medium](https://medium.com/@adityaraj_64455/it-all-started-with-cnns-alexnet-3023b21bb891)\n",
    "\n",
    "![Dropout](https://miro.medium.com/max/1100/1*WPr205gm0CsQXGa0oltOew.gif)\n",
    "___"
   ]
  },
  {
   "cell_type": "markdown",
   "id": "97b23874",
   "metadata": {},
   "source": [
    "## ✏️ Activités\n",
    "\n",
    "### Détecter les chiffres sur une image sans couche de neurones de convolution\n",
    "\n",
    "- Importer de la bibliothèque **Keras** le jeu de données [Fashion MNIST](https://keras.io/api/datasets/fashion_mnist/)"
   ]
  },
  {
   "cell_type": "code",
   "execution_count": 1,
   "id": "e4f06fcf",
   "metadata": {},
   "outputs": [
    {
     "ename": "ModuleNotFoundError",
     "evalue": "No module named 'tensorflow'",
     "output_type": "error",
     "traceback": [
      "\u001b[1;31m--------------------------------------------------------------\u001b[0m",
      "\u001b[1;31mModuleNotFoundError\u001b[0m          Traceback (most recent call last)",
      "Input \u001b[1;32mIn [1]\u001b[0m, in \u001b[0;36m<module>\u001b[1;34m\u001b[0m\n\u001b[1;32m----> 1\u001b[0m \u001b[38;5;28;01mfrom\u001b[39;00m \u001b[38;5;21;01mtensorflow\u001b[39;00m \u001b[38;5;28;01mimport\u001b[39;00m keras\n\u001b[0;32m      2\u001b[0m \u001b[38;5;28;01mimport\u001b[39;00m \u001b[38;5;21;01mmatplotlib\u001b[39;00m\u001b[38;5;21;01m.\u001b[39;00m\u001b[38;5;21;01mpyplot\u001b[39;00m \u001b[38;5;28;01mas\u001b[39;00m \u001b[38;5;21;01mplt\u001b[39;00m\n\u001b[0;32m      3\u001b[0m \u001b[38;5;28;01mimport\u001b[39;00m \u001b[38;5;21;01mpandas\u001b[39;00m \u001b[38;5;28;01mas\u001b[39;00m \u001b[38;5;21;01mpd\u001b[39;00m\n",
      "\u001b[1;31mModuleNotFoundError\u001b[0m: No module named 'tensorflow'"
     ]
    }
   ],
   "source": [
    "from tensorflow import keras\n",
    "import matplotlib.pyplot as plt\n",
    "import pandas as pd\n",
    "import numpy as np"
   ]
  },
  {
   "cell_type": "code",
   "execution_count": null,
   "id": "2e29bd95",
   "metadata": {},
   "outputs": [],
   "source": [
    "fashion_mnist = keras.datasets.fashion_mnist\n",
    "(X_train, y_train), (X_test, y_test) = fashion_mnist.load_data()"
   ]
  },
  {
   "cell_type": "markdown",
   "id": "b71dd5f5",
   "metadata": {},
   "source": [
    "- **Analyser la taille** des jeux de données et le **type de données**"
   ]
  },
  {
   "cell_type": "code",
   "execution_count": null,
   "id": "0782031f",
   "metadata": {},
   "outputs": [],
   "source": [
    "X_train.shape, X_test.shape"
   ]
  },
  {
   "cell_type": "code",
   "execution_count": null,
   "id": "915386dc",
   "metadata": {},
   "outputs": [],
   "source": [
    "X_train.dtype"
   ]
  },
  {
   "cell_type": "markdown",
   "id": "b80147e9",
   "metadata": {},
   "source": [
    "- Créer un jeu de données de **validation** à partir du jeu de données d'**entrainement**"
   ]
  },
  {
   "cell_type": "code",
   "execution_count": null,
   "id": "066c1e69",
   "metadata": {},
   "outputs": [],
   "source": [
    "X_valid, X_train = X_train[:5000], X_train[5000:]\n",
    "y_valid, y_train = y_train[:5000], y_train[5000:]"
   ]
  },
  {
   "cell_type": "markdown",
   "id": "c155a1a5",
   "metadata": {},
   "source": [
    "- **Normer l'intensité des pixels** entre 0 et 1 pour les 3 jeux de données"
   ]
  },
  {
   "cell_type": "code",
   "execution_count": null,
   "id": "1bd36116",
   "metadata": {},
   "outputs": [],
   "source": [
    "X_train = X_train / 255.0\n",
    "X_valid = X_valid / 255.0\n",
    "X_test = X_test / 255.0"
   ]
  },
  {
   "cell_type": "markdown",
   "id": "931079c4",
   "metadata": {},
   "source": [
    "- Récupération des **étiquettes (labels)**"
   ]
  },
  {
   "cell_type": "code",
   "execution_count": null,
   "id": "79d11c76",
   "metadata": {},
   "outputs": [],
   "source": [
    "class_names = [\"T-shirt\", \"Pantalon\", \"Pull-over\", \"Robe\", \"Manteau\", \"Sandales\", \"Chemise\", \"Baskets\", \"Sac\", \"Bottines\"]"
   ]
  },
  {
   "cell_type": "markdown",
   "id": "13f0a423",
   "metadata": {},
   "source": [
    "- Afficher la **classe** et l'**image** de la première donnée du jeu d'entrainement"
   ]
  },
  {
   "cell_type": "code",
   "execution_count": null,
   "id": "b35aafb5",
   "metadata": {},
   "outputs": [],
   "source": [
    "class_names[y_train[0]]"
   ]
  },
  {
   "cell_type": "code",
   "execution_count": null,
   "id": "765daf37",
   "metadata": {},
   "outputs": [],
   "source": [
    "plt.imshow(X_train[0])\n",
    "plt.show()"
   ]
  },
  {
   "cell_type": "markdown",
   "id": "6704200c",
   "metadata": {},
   "source": [
    "- Créer un modèle **Keras séquentiel** avec l'architecture suivante :\n",
    "    - Couche \"Flatten\" d'**entrée** en dimension **28x28**\n",
    "    - Couche dense à **300 neurones** avec fonction d'activation **Relu**\n",
    "    - Couche dense à **100 neurones** avec fonction d'activation **Relu**\n",
    "    - Couche dense de **sortie** à **10 neurones** avec fonction d'activation **Softmax**"
   ]
  },
  {
   "cell_type": "code",
   "execution_count": null,
   "id": "208935c2",
   "metadata": {},
   "outputs": [],
   "source": [
    "model = keras.models.Sequential([\n",
    "    keras.layers.Flatten(input_shape=[28, 28]),\n",
    "    keras.layers.Dense(300, activation=\"relu\"),\n",
    "    keras.layers.Dense(100, activation=\"relu\"),\n",
    "    keras.layers.Dense(10, activation=\"softmax\"),\n",
    "])"
   ]
  },
  {
   "cell_type": "markdown",
   "id": "0a881dfc",
   "metadata": {},
   "source": [
    "- Vérifier l'**architecture du modèle**"
   ]
  },
  {
   "cell_type": "code",
   "execution_count": null,
   "id": "16001df0",
   "metadata": {},
   "outputs": [],
   "source": [
    "model.summary()"
   ]
  },
  {
   "cell_type": "markdown",
   "id": "59de5999",
   "metadata": {},
   "source": [
    "- **Compiler** le modèle avec comme **fonction de perte** \"sparse_categorical_crossentropy\", comme **optimiseur** \"sgd\" et comme **métrique** \"accuracy\""
   ]
  },
  {
   "cell_type": "code",
   "execution_count": null,
   "id": "a5ca9732",
   "metadata": {},
   "outputs": [],
   "source": [
    "model.compile(\n",
    "    loss=\"sparse_categorical_crossentropy\",\n",
    "    optimizer=\"sgd\",\n",
    "    metrics=[\"accuracy\"]\n",
    ")"
   ]
  },
  {
   "cell_type": "markdown",
   "id": "b0151202",
   "metadata": {},
   "source": [
    "- **Entrainer** le modèle pour **50 époques** et afficher les **métriques de validation**. **Stocker le résultat** de l'entrainement dans une variable \"history\""
   ]
  },
  {
   "cell_type": "code",
   "execution_count": null,
   "id": "07a47595",
   "metadata": {},
   "outputs": [],
   "source": [
    "X_train.shape"
   ]
  },
  {
   "cell_type": "code",
   "execution_count": null,
   "id": "6b1e9342",
   "metadata": {},
   "outputs": [],
   "source": [
    "history = model.fit(X_train, y_train, epochs=50, validation_data=(X_valid, y_valid))"
   ]
  },
  {
   "cell_type": "markdown",
   "id": "6c709035",
   "metadata": {},
   "source": [
    "- Afficher le **graphique de l'accuracy**"
   ]
  },
  {
   "cell_type": "code",
   "execution_count": null,
   "id": "d32d5f79",
   "metadata": {},
   "outputs": [],
   "source": [
    "df = pd.DataFrame(history.history)\n",
    "df.plot()\n",
    "plt.gca().set_ylim(0, 1)\n",
    "plt.show()"
   ]
  },
  {
   "cell_type": "markdown",
   "id": "55e0fec0",
   "metadata": {},
   "source": [
    "- Effectuer une **prédiction** sur les **3 premiers élèments** du jeu de test"
   ]
  },
  {
   "cell_type": "code",
   "execution_count": null,
   "id": "840fb90e",
   "metadata": {},
   "outputs": [],
   "source": [
    "model.predict(X_test[:3])"
   ]
  },
  {
   "cell_type": "code",
   "execution_count": null,
   "id": "b4548426",
   "metadata": {},
   "outputs": [],
   "source": [
    "np.array(class_names)[np.argmax(model.predict(X_test[:3]), axis=1)]"
   ]
  },
  {
   "cell_type": "code",
   "execution_count": null,
   "id": "61815e9f",
   "metadata": {},
   "outputs": [],
   "source": [
    "np.array(class_names)[y_test[:3]]"
   ]
  },
  {
   "cell_type": "code",
   "execution_count": null,
   "id": "781b2022",
   "metadata": {},
   "outputs": [],
   "source": [
    "plt.imshow(X_test[0])\n",
    "plt.show()"
   ]
  },
  {
   "cell_type": "code",
   "execution_count": null,
   "id": "46a0b7fa",
   "metadata": {},
   "outputs": [],
   "source": [
    "plt.imshow(X_test[1])\n",
    "plt.show()"
   ]
  },
  {
   "cell_type": "code",
   "execution_count": null,
   "id": "324ef015",
   "metadata": {},
   "outputs": [],
   "source": [
    "plt.imshow(X_test[2])\n",
    "plt.show()"
   ]
  },
  {
   "cell_type": "markdown",
   "id": "e129baa3",
   "metadata": {},
   "source": [
    "### Détecter les chiffres sur une image avec des couches  de neurones de convolution\n",
    "\n",
    "- Créer un modèle **Keras séquentiel** avec l'architecture suivante :\n",
    "    - Couche de convolution \"Conv2D\" de dimension 64, de noyau 7, de padding \"same\" et de fonction d'activation \"relu\". Ajouter l'input shape des données d'entrée [28,28,1]\n",
    "    - Couche de Maxpooling2D de noyau 2\n",
    "    - 2 couches de convolution \"Conv2D\" de dimension 128, de noyau 3, de padding \"same\" et de fonction d'activation \"relu\"\n",
    "    - Couche de Maxpooling2D de noyau 2\n",
    "    - 2 couches de convolution \"Conv2D\" de dimension 256, de noyau 3, de padding \"same\" et de fonction d'activation \"relu\"\n",
    "    - Couche de Maxpooling2D de noyau 2\n",
    "    - Couche Flatten\n",
    "    - Couche dense de 128 neurones avec une fonction d'activation \"relu\"\n",
    "    - Couche de dropout à 0.5\n",
    "    - Couche dense de 64 neurones avec une fonction d'activation \"relu\"\n",
    "    - Couche de dropout à 0.5\n",
    "    - Couche dense de 10 neurones avec une fonction d'activation \"softmax\""
   ]
  },
  {
   "cell_type": "code",
   "execution_count": null,
   "id": "b412fbdb",
   "metadata": {},
   "outputs": [],
   "source": [
    "model = keras.models.Sequential([\n",
    "    keras.layers.Conv2D(64, 7, activation=\"relu\", padding=\"same\", input_shape=[28, 28, 1]),\n",
    "    keras.layers.MaxPool2D(2),\n",
    "    keras.layers.Conv2D(128, 3, activation=\"relu\", padding=\"same\"),\n",
    "    keras.layers.Conv2D(128, 3, activation=\"relu\", padding=\"same\"),\n",
    "    keras.layers.MaxPool2D(2),\n",
    "    keras.layers.Conv2D(256, 3, activation=\"relu\", padding=\"same\"),\n",
    "    keras.layers.Conv2D(256, 3, activation=\"relu\", padding=\"same\"),\n",
    "    keras.layers.MaxPool2D(2),\n",
    "    keras.layers.Flatten(),\n",
    "    keras.layers.Dense(128, activation=\"relu\"),\n",
    "    keras.layers.Dropout(0.5),\n",
    "    keras.layers.Dense(64, activation=\"relu\"),\n",
    "    keras.layers.Dropout(0.5),\n",
    "    keras.layers.Dense(10, activation=\"softmax\"),\n",
    "])"
   ]
  },
  {
   "cell_type": "markdown",
   "id": "3463bc6d",
   "metadata": {},
   "source": [
    "- Vérifier l'**architecture du modèle**"
   ]
  },
  {
   "cell_type": "code",
   "execution_count": null,
   "id": "ee2d8071",
   "metadata": {},
   "outputs": [],
   "source": [
    "model.summary()"
   ]
  },
  {
   "cell_type": "markdown",
   "id": "610c9629",
   "metadata": {},
   "source": [
    "- **Compiler** le modèle avec comme **fonction de perte** \"sparse_categorical_crossentropy\", comme **optimiseur** \"sgd\" et comme **métrique** \"accuracy\""
   ]
  },
  {
   "cell_type": "code",
   "execution_count": null,
   "id": "e3e5ccfa",
   "metadata": {},
   "outputs": [],
   "source": [
    "model.compile(\n",
    "    loss=\"sparse_categorical_crossentropy\",\n",
    "    optimizer=\"sgd\",\n",
    "    metrics=[\"accuracy\"]\n",
    ")"
   ]
  },
  {
   "cell_type": "markdown",
   "id": "11db1351",
   "metadata": {},
   "source": [
    "- **Entrainer** le modèle pour **10 époques** et afficher les **métriques de validation**. **Stocker le résultat** de l'entrainement dans une variable \"history\""
   ]
  },
  {
   "cell_type": "code",
   "execution_count": null,
   "id": "d384da87",
   "metadata": {},
   "outputs": [],
   "source": [
    "history = model.fit(X_train, y_train, epochs=10, validation_data=(X_valid, y_valid))"
   ]
  },
  {
   "cell_type": "markdown",
   "id": "3eaa91e7",
   "metadata": {},
   "source": [
    "- Afficher le **graphique de l'accuracy**"
   ]
  },
  {
   "cell_type": "code",
   "execution_count": null,
   "id": "3892ff23",
   "metadata": {},
   "outputs": [],
   "source": [
    "df = pd.DataFrame(history.history)\n",
    "df.plot()\n",
    "plt.gca().set_ylim(0, 1)\n",
    "plt.show()"
   ]
  },
  {
   "cell_type": "markdown",
   "id": "8f3e6f80",
   "metadata": {},
   "source": [
    "## 🚀 Pour aller plus loin\n",
    "\n",
    "- [Build and Train a Convolutional Neural Network with TensorFlow's Keras API](https://www.youtube.com/watch?v=3V9YFPfgyAY)"
   ]
  },
  {
   "cell_type": "markdown",
   "id": "5c73ba7d",
   "metadata": {},
   "source": [
    "___\n",
    "*👨‍🏫 [Pierre-Loic BAYART](https://www.linkedin.com/in/pierreloicbayart/) - Formation développeur d'applications spécialisation data analyst - Webforce3 - Grenoble Ecole de Management*\n",
    "___\n",
    "Source images d'illustration : Image par Gerd Altmann de Pixabay"
   ]
  }
 ],
 "metadata": {
  "kernelspec": {
   "display_name": "Python 3 (ipykernel)",
   "language": "python",
   "name": "python3"
  },
  "language_info": {
   "codemirror_mode": {
    "name": "ipython",
    "version": 3
   },
   "file_extension": ".py",
   "mimetype": "text/x-python",
   "name": "python",
   "nbconvert_exporter": "python",
   "pygments_lexer": "ipython3",
   "version": "3.9.6"
  }
 },
 "nbformat": 4,
 "nbformat_minor": 5
}
