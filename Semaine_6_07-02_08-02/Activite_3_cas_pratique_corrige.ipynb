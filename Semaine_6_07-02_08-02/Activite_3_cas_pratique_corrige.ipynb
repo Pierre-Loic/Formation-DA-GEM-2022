{
 "cells": [
  {
   "cell_type": "markdown",
   "id": "e80e475e",
   "metadata": {},
   "source": [
    "# 👩‍💻 Activité 3 : cas pratique de modèle de classification d'images\n",
    "\n",
    "<img src=\"https://cdn.pixabay.com/photo/2020/03/03/12/15/mask-4898571_1280.jpg\" alt=\"masque\" width=\"400\"/>\n",
    "\n",
    "#### [Pierre-Loic BAYART](https://www.linkedin.com/in/pierreloicbayart/) - Formation développeur d'applications spécialisation data analyst - Webforce3 - Grenoble Ecole de Management"
   ]
  },
  {
   "cell_type": "markdown",
   "id": "35ceb75a",
   "metadata": {},
   "source": [
    "## ✏️ Activités\n",
    "\n",
    "- Aller sur le site **[Teachable Machine](https://teachablemachine.withgoogle.com/)** et commencer un **\"Projet Images\"**\n",
    "- Créer **deux classes** \"avec_masque\" et \"sans_masque\"\n",
    "- Ajouter environ **100 images** pour chaque classe à partir de la **webcam** ou d'**images récupérées**\n",
    "- **Entrainer** le modèle\n",
    "- Vérifier le **bon fonctionnement** avec la webcam dans la **cellule d'aperçu**\n",
    "- **Exporter** le modèle **keras** entrainé\n",
    "- Copier le **code Keras de test** dans ce notebook\n",
    "- **Vérifier** que le modèle fonctionne sur votre ordinateur"
   ]
  },
  {
   "cell_type": "code",
   "execution_count": null,
   "id": "039cffd3",
   "metadata": {},
   "outputs": [],
   "source": [
    "from keras.models import load_model  # TensorFlow is required for Keras to work\n",
    "from PIL import Image, ImageOps  # Install pillow instead of PIL\n",
    "import numpy as np\n",
    "\n",
    "# Disable scientific notation for clarity\n",
    "np.set_printoptions(suppress=True)\n",
    "\n",
    "# Load the model\n",
    "model = load_model(\"keras_Model.h5\", compile=False)\n",
    "\n",
    "# Load the labels\n",
    "class_names = open(\"labels.txt\", \"r\").readlines()\n",
    "\n",
    "# Create the array of the right shape to feed into the keras model\n",
    "# The 'length' or number of images you can put into the array is\n",
    "# determined by the first position in the shape tuple, in this case 1\n",
    "data = np.ndarray(shape=(1, 224, 224, 3), dtype=np.float32)\n",
    "\n",
    "# Replace this with the path to your image\n",
    "image = Image.open(\"image_2.jpg\").convert(\"RGB\")\n",
    "\n",
    "# resizing the image to be at least 224x224 and then cropping from the center\n",
    "size = (224, 224)\n",
    "image = ImageOps.fit(image, size, Image.Resampling.LANCZOS)\n",
    "\n",
    "# turn the image into a numpy array\n",
    "image_array = np.asarray(image)\n",
    "\n",
    "# Normalize the image\n",
    "normalized_image_array = (image_array.astype(np.float32) / 127.5) - 1\n",
    "\n",
    "# Load the image into the array\n",
    "data[0] = normalized_image_array\n",
    "\n",
    "# Predicts the model\n",
    "prediction = model.predict(data)\n",
    "index = np.argmax(prediction)\n",
    "class_name = class_names[index]\n",
    "confidence_score = prediction[0][index]\n",
    "\n",
    "# Print prediction and confidence score\n",
    "print(\"Class:\", class_name[2:], end=\"\")\n",
    "print(\"Confidence Score:\", confidence_score)"
   ]
  },
  {
   "cell_type": "markdown",
   "id": "428c0fa2",
   "metadata": {},
   "source": [
    "## 🚀 Pour aller plus loin\n",
    "\n",
    "- https://experiments.withgoogle.com/teachable-machine"
   ]
  },
  {
   "cell_type": "markdown",
   "id": "eff31416",
   "metadata": {},
   "source": [
    "___\n",
    "*👨‍🏫 [Pierre-Loic BAYART](https://www.linkedin.com/in/pierreloicbayart/) - Formation développeur d'applications spécialisation data analyst - Webforce3 - Grenoble Ecole de Management*\n",
    "___\n",
    "Source images d'illustration : Image par Juraj Varga de Pixabay"
   ]
  }
 ],
 "metadata": {
  "kernelspec": {
   "display_name": "Python 3 (ipykernel)",
   "language": "python",
   "name": "python3"
  },
  "language_info": {
   "codemirror_mode": {
    "name": "ipython",
    "version": 3
   },
   "file_extension": ".py",
   "mimetype": "text/x-python",
   "name": "python",
   "nbconvert_exporter": "python",
   "pygments_lexer": "ipython3",
   "version": "3.10.8"
  }
 },
 "nbformat": 4,
 "nbformat_minor": 5
}
