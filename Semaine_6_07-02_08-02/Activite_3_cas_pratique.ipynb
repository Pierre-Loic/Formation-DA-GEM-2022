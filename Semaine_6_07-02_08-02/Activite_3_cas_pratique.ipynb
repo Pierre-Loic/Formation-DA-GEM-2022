{
 "cells": [
  {
   "cell_type": "markdown",
   "id": "e80e475e",
   "metadata": {},
   "source": [
    "# 👩‍💻 Activité 3 : cas pratique de modèle de classification d'images\n",
    "\n",
    "<img src=\"https://cdn.pixabay.com/photo/2020/03/03/12/15/mask-4898571_1280.jpg\" alt=\"masque\" width=\"400\"/>\n",
    "\n",
    "#### [Pierre-Loic BAYART](https://www.linkedin.com/in/pierreloicbayart/) - Formation développeur d'applications spécialisation data analyst - Webforce3 - Grenoble Ecole de Management"
   ]
  },
  {
   "cell_type": "markdown",
   "id": "35ceb75a",
   "metadata": {},
   "source": [
    "## ✏️ Activités\n",
    "\n",
    "- Aller sur le site **[Teachable Machine](https://teachablemachine.withgoogle.com/)** et commencer un **\"Projet Images\"**\n",
    "- Créer **deux classes** \"avec_masque\" et \"sans_masque\"\n",
    "- Ajouter environ **100 images** pour chaque classe à partir de la **webcam** ou d'**images récupérées**\n",
    "- **Entrainer** le modèle\n",
    "- Vérifier le **bon fonctionnement** avec la webcam dans la **cellule d'aperçu**\n",
    "- **Exporter** le modèle **keras** entrainé\n",
    "- Copier le **code Keras de test** dans ce notebook\n",
    "- **Vérifier** que le modèle fonctionne sur votre ordinateur"
   ]
  },
  {
   "cell_type": "code",
   "execution_count": null,
   "id": "039cffd3",
   "metadata": {},
   "outputs": [],
   "source": [
    "# A COMPLETER"
   ]
  },
  {
   "cell_type": "markdown",
   "id": "428c0fa2",
   "metadata": {},
   "source": [
    "## 🚀 Pour aller plus loin\n",
    "\n",
    "- https://experiments.withgoogle.com/teachable-machine"
   ]
  },
  {
   "cell_type": "markdown",
   "id": "eff31416",
   "metadata": {},
   "source": [
    "___\n",
    "*👨‍🏫 [Pierre-Loic BAYART](https://www.linkedin.com/in/pierreloicbayart/) - Formation développeur d'applications spécialisation data analyst - Webforce3 - Grenoble Ecole de Management*\n",
    "___\n",
    "Source images d'illustration : Image par Juraj Varga de Pixabay"
   ]
  }
 ],
 "metadata": {
  "kernelspec": {
   "display_name": "Python 3 (ipykernel)",
   "language": "python",
   "name": "python3"
  },
  "language_info": {
   "codemirror_mode": {
    "name": "ipython",
    "version": 3
   },
   "file_extension": ".py",
   "mimetype": "text/x-python",
   "name": "python",
   "nbconvert_exporter": "python",
   "pygments_lexer": "ipython3",
   "version": "3.10.8"
  }
 },
 "nbformat": 4,
 "nbformat_minor": 5
}
