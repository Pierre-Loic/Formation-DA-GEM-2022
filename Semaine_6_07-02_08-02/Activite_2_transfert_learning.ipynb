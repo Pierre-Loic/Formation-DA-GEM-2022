{
 "cells": [
  {
   "cell_type": "markdown",
   "id": "7855758d",
   "metadata": {},
   "source": [
    "# 👩‍💻 Activité 2 : transfert learning\n",
    "\n",
    "<img src=\"https://cdn.pixabay.com/photo/2018/04/04/18/58/network-3290670_1280.jpg\" alt=\"cable\" width=\"400\"/>\n",
    "\n",
    "#### [Pierre-Loic BAYART](https://www.linkedin.com/in/pierreloicbayart/) - Formation développeur d'applications spécialisation data analyst - Webforce3 - Grenoble Ecole de Management"
   ]
  },
  {
   "cell_type": "markdown",
   "id": "1eff7e29",
   "metadata": {},
   "source": [
    "## 🔍 Recherche d'informations\n",
    "\n",
    "En recherchant sur le web, trouver les réponses aux questions suivantes :\n",
    "\n",
    "### - En quoi consiste le transfert learning ?\n",
    "___\n",
    "A COMPLETER\n",
    "___\n",
    "### - A quoi correspond le modèle VGG16 ?\n",
    "___\n",
    "A COMPLETER\n",
    "___"
   ]
  },
  {
   "cell_type": "markdown",
   "id": "b0af50a0",
   "metadata": {},
   "source": [
    "## ✏️ Activités\n",
    "\n",
    "### Classification d'images par transfert learning\n",
    "\n",
    "- Récupérer les photos de chiens et de chats à l'adresse suivante : https://storage.googleapis.com/mledu-datasets/cats_and_dogs_filtered.zip\n",
    "- Créer des variables des chemins d'accès aux dossiers d'images"
   ]
  },
  {
   "cell_type": "code",
   "execution_count": null,
   "id": "8b664d15",
   "metadata": {},
   "outputs": [],
   "source": [
    "import os\n",
    "import matplotlib.pyplot as plt\n",
    "from tensorflow.keras.preprocessing.image import ImageDataGenerator\n",
    "from tensorflow.keras.applications.vgg16 import VGG16\n",
    "import tensorflow as tf\n",
    "import scipy"
   ]
  },
  {
   "cell_type": "code",
   "execution_count": null,
   "id": "febe21e6",
   "metadata": {},
   "outputs": [],
   "source": [
    "base_dir = 'cats_and_dogs_filtered'\n",
    "train_dir = os.path.join(base_dir, 'train')\n",
    "validation_dir = os.path.join(base_dir, 'validation')\n",
    "\n",
    "# Créer la variable du dossier des photos d'entrainement de chats\n",
    "train_cats_dir = None # A COMPLETER\n",
    "\n",
    "# Créer la variable du dossier des photos d'entrainement de chiens\n",
    "train_dogs_dir = None # A COMPLETER\n",
    "\n",
    "# Créer la variable du dossier des photos de validation de chats\n",
    "validation_cats_dir = None # A COMPLETER\n",
    "\n",
    "# Créer la variable du dossier des photos de validation de chiens\n",
    "validation_dogs_dir = None # A COMPLETER"
   ]
  },
  {
   "cell_type": "markdown",
   "id": "4b8eb841",
   "metadata": {},
   "source": [
    "- Visualiser des **images du jeu de données**"
   ]
  },
  {
   "cell_type": "code",
   "execution_count": null,
   "id": "e430e8dc",
   "metadata": {},
   "outputs": [],
   "source": [
    "# A COMPLETER"
   ]
  },
  {
   "cell_type": "markdown",
   "id": "d4c0af0e",
   "metadata": {},
   "source": [
    "- Création de **2 générateurs d'images** (un pour l'entrainement et un pour la validation) avec augmentation des données. Utilisation la classe \"ImageDataGenerator\" de Keras"
   ]
  },
  {
   "cell_type": "code",
   "execution_count": null,
   "id": "3f22014e",
   "metadata": {},
   "outputs": [],
   "source": [
    "train_datagen = ImageDataGenerator(rescale = 1.0/255.0, rotation_range = 40, width_shift_range = 0.2, height_shift_range = 0.2, shear_range = 0.2, zoom_range = 0.2, horizontal_flip = True)\n",
    "train_generator = train_datagen.flow_from_directory(train_dir, batch_size = 10, class_mode = 'binary', target_size = (224, 224))\n",
    "\n",
    "test_datagen = ImageDataGenerator(rescale = 1.0/255.0)\n",
    "validation_generator = test_datagen.flow_from_directory(validation_dir,  batch_size = 20, class_mode = 'binary', target_size = (224, 224))"
   ]
  },
  {
   "cell_type": "markdown",
   "id": "7f988578",
   "metadata": {},
   "source": [
    "- Récupération le modèle **pré-entrainé VGG-16** dans la bibliothèque Keras"
   ]
  },
  {
   "cell_type": "code",
   "execution_count": null,
   "id": "219a3854",
   "metadata": {},
   "outputs": [],
   "source": [
    "model = VGG16(\n",
    "    input_shape = (224, 224, 3),\n",
    "    include_top = False,\n",
    "    weights = 'imagenet',\n",
    ")"
   ]
  },
  {
   "cell_type": "markdown",
   "id": "204ec0b0",
   "metadata": {},
   "source": [
    "- Rendre les poids du modèle pré-entrainé **non-entrainables**. **Vérifier** que les paramètres sont bien passés en non-entrainables\n",
    "\n",
    "Ressource :\n",
    "\n",
    "- https://keras.io/api/models/model/#summary-method"
   ]
  },
  {
   "cell_type": "code",
   "execution_count": null,
   "id": "f688b0d3",
   "metadata": {},
   "outputs": [],
   "source": [
    "# A COMPLETER"
   ]
  },
  {
   "cell_type": "markdown",
   "id": "180f147d",
   "metadata": {},
   "source": [
    "- Créer un modèle Keras avec le modèle VGG-16 comme **architecture** :\n",
    "    - Modèle **Vgg-16 pré-entrainé**\n",
    "    - Couche **Flatten()**\n",
    "    - Couche **dense à 512 neurones** avec fonction d'**activation Relu**\n",
    "    - Couche de **dropout à 0.5**\n",
    "    - Couche **dense** de sortie à un neurone et fonction d'**activation sigmoid**"
   ]
  },
  {
   "cell_type": "code",
   "execution_count": null,
   "id": "0c3682fa",
   "metadata": {},
   "outputs": [],
   "source": [
    "# A COMPLETER"
   ]
  },
  {
   "cell_type": "markdown",
   "id": "bd8a63df",
   "metadata": {},
   "source": [
    "- **Compiler** le modèle avec l'optimiseur tf.keras.optimizers.RMSprop(learning_rate=0.001)"
   ]
  },
  {
   "cell_type": "code",
   "execution_count": null,
   "id": "897f8f77",
   "metadata": {},
   "outputs": [],
   "source": [
    "# A COMPLETER"
   ]
  },
  {
   "cell_type": "markdown",
   "id": "743bcdea",
   "metadata": {},
   "source": [
    "- **Entrainer** le modèle"
   ]
  },
  {
   "cell_type": "code",
   "execution_count": null,
   "id": "076669a4",
   "metadata": {},
   "outputs": [],
   "source": [
    "# A COMPLETER"
   ]
  },
  {
   "cell_type": "markdown",
   "id": "a931f572",
   "metadata": {},
   "source": [
    "- Faire une **prédiction** sur une nouvelle image"
   ]
  },
  {
   "cell_type": "code",
   "execution_count": null,
   "id": "87e0b898",
   "metadata": {},
   "outputs": [],
   "source": [
    "# A COMPLETER"
   ]
  },
  {
   "cell_type": "markdown",
   "id": "061c7e94",
   "metadata": {},
   "source": [
    "## 🚀 Pour aller plus loin\n",
    "\n",
    "- https://fr.wikipedia.org/wiki/Apprentissage_par_transfert"
   ]
  },
  {
   "cell_type": "markdown",
   "id": "933e1e96",
   "metadata": {},
   "source": [
    "___\n",
    "*👨‍🏫 [Pierre-Loic BAYART](https://www.linkedin.com/in/pierreloicbayart/) - Formation développeur d'applications spécialisation data analyst - Webforce3 - Grenoble Ecole de Management*\n",
    "___\n",
    "Source images d'illustration : Image par Andreas Lischka de Pixabay"
   ]
  }
 ],
 "metadata": {
  "kernelspec": {
   "display_name": "Python 3 (ipykernel)",
   "language": "python",
   "name": "python3"
  },
  "language_info": {
   "codemirror_mode": {
    "name": "ipython",
    "version": 3
   },
   "file_extension": ".py",
   "mimetype": "text/x-python",
   "name": "python",
   "nbconvert_exporter": "python",
   "pygments_lexer": "ipython3",
   "version": "3.10.8"
  }
 },
 "nbformat": 4,
 "nbformat_minor": 5
}
