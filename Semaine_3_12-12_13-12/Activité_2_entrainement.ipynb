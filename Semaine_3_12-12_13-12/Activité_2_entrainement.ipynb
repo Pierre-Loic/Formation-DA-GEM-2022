{
 "cells": [
  {
   "cell_type": "markdown",
   "id": "5be22f39",
   "metadata": {},
   "source": [
    "# 👩‍💻 Activité 2 : entrainement de modèles de régression\n",
    "\n",
    "<img src=\"https://cdn.pixabay.com/photo/2012/04/18/12/46/graph-36929_1280.png\" alt=\"rubik\" width=\"400\"/>\n",
    "\n",
    "#### [Pierre-Loic BAYART](https://www.linkedin.com/in/pierreloicbayart/) - Formation développeur d'applications spécialisation data analyst - Webforce3 - Grenoble Ecole de Management\n",
    "\n",
    "### Code pour indiquer l'importance des notions traitées dans cette activité\n",
    "\n",
    "- #### 🥇 : connaissance fondamentale pour l'analyse de données\n",
    "- #### 🥈 : connaissance importante pour l'analyse de données\n",
    "- #### 🥉 : connaissance moins importante pour l'analyse de données\n",
    "> Si rien n'est indiqué, il s'agit de connaissances fondamentales pour l'analyse de données"
   ]
  },
  {
   "cell_type": "markdown",
   "id": "0fdae17d",
   "metadata": {},
   "source": [
    "## 🔍 Recherche d'informations\n",
    "\n",
    "En recherchant sur le web, trouver les réponses aux questions suivantes :\n",
    "\n",
    "### - Citer différents modèles simples de régression\n",
    "___\n",
    "*A COMPLETER*\n",
    "___\n",
    "### - Citer différents modèles ensemblistes de régression\n",
    "___\n",
    "*A COMPLETER*\n",
    "___"
   ]
  },
  {
   "cell_type": "markdown",
   "id": "4665eb77",
   "metadata": {},
   "source": [
    "## ✏️ Activités\n",
    "\n",
    "- Récupérer les données pré-traitées du module `dvfprep`"
   ]
  },
  {
   "cell_type": "code",
   "execution_count": null,
   "id": "0858e251",
   "metadata": {},
   "outputs": [],
   "source": [
    "# A COMPLETER"
   ]
  },
  {
   "cell_type": "markdown",
   "id": "7f4765fb",
   "metadata": {},
   "source": [
    "- Vérifier qu'il n'y a **pas de données manquantes** dans le dataframe"
   ]
  },
  {
   "cell_type": "code",
   "execution_count": null,
   "id": "f1c318cd",
   "metadata": {},
   "outputs": [],
   "source": [
    "# A COMPLETER"
   ]
  },
  {
   "cell_type": "markdown",
   "id": "b0c2b380",
   "metadata": {},
   "source": [
    "- Séparer la colonne de la **valeur cible \"valeur_fonciere\" (noté y)**, des **autres colonnes (notés X)**. Grâce à la fonction [sklearn.model_selection.train_test_split()](https://scikit-learn.org/stable/modules/generated/sklearn.model_selection.train_test_split.html), mettre de côté le jeu de données de test avec **20% des données**"
   ]
  },
  {
   "cell_type": "code",
   "execution_count": null,
   "id": "d7ca2475",
   "metadata": {},
   "outputs": [],
   "source": [
    "# A COMPLETER"
   ]
  },
  {
   "cell_type": "markdown",
   "id": "e74f4a44",
   "metadata": {},
   "source": [
    "⚠️ A partir de maintenant, le jeu de **données de test ne doit plus être modifié**. Il servira à **évaluer le modèle après l'entrainement**"
   ]
  },
  {
   "cell_type": "markdown",
   "id": "09d8949f",
   "metadata": {},
   "source": [
    "### 🗺️ Analyse exploratoire des données - Données aberrantes"
   ]
  },
  {
   "cell_type": "markdown",
   "id": "a8de1530",
   "metadata": {},
   "source": [
    "- Analyser **statistiquement** et **graphiquement** de manière **univariée** les **données d'entrainement**. Conclure sur la présence de **données aberrantes**"
   ]
  },
  {
   "cell_type": "code",
   "execution_count": null,
   "id": "eaa5223f",
   "metadata": {},
   "outputs": [],
   "source": [
    "# A COMPLETER"
   ]
  },
  {
   "cell_type": "markdown",
   "id": "1020717d",
   "metadata": {},
   "source": [
    "- Effectuer une **analyse bivariée graphique** grâce à la carte de chaleur (heatmap) des corrélations"
   ]
  },
  {
   "cell_type": "code",
   "execution_count": null,
   "id": "52b112a1",
   "metadata": {},
   "outputs": [],
   "source": [
    "# A COMPLETER"
   ]
  },
  {
   "cell_type": "markdown",
   "id": "bb8d1b21",
   "metadata": {},
   "source": [
    "- Compléter la fonction Python suivante **`remove_0_room()`** pour qu'elle retourne le **dataframe** sans les données où la colonne \"nombre_pieces_principales\" vaut 0"
   ]
  },
  {
   "cell_type": "code",
   "execution_count": null,
   "id": "f0381521",
   "metadata": {},
   "outputs": [],
   "source": [
    "def remove_0_room(X_train: pd.DataFrame, y_train: pd.Series) -> tuple[pd.DataFrame, pd.Series]:\n",
    "    \"\"\"\n",
    "    Renvoie les données X_train et y_train modifiées sans les logements sans pièce principale\n",
    "        Parameters:\n",
    "                X_train (pandas.DataFrame): caractéristiques d'entrainement\n",
    "                y_train (pandas.Series): valeurs cibles d'entrainement\n",
    "        Returns:\n",
    "                X_train, y_train tuple[pd.DataFrame, pd.Series]: données X_train et y_train modifiées\n",
    "    \"\"\"\n",
    "    # A COMPLETER"
   ]
  },
  {
   "cell_type": "code",
   "execution_count": null,
   "id": "13c91ee2",
   "metadata": {},
   "outputs": [],
   "source": [
    "X_train, y_train = remove_0_room(X_train, y_train)"
   ]
  },
  {
   "cell_type": "markdown",
   "id": "85457ef4",
   "metadata": {},
   "source": [
    "- Compléter la fonction Python suivante **`remove_outlier_price_m2()`** pour qu'elle retourne le **dataframe** dont le prix au mètre carré est compris entre 500€ et 12 000€"
   ]
  },
  {
   "cell_type": "code",
   "execution_count": null,
   "id": "6cb50017",
   "metadata": {},
   "outputs": [],
   "source": [
    "def remove_outlier_price_m2(X_train: pd.DataFrame, y_train: pd.Series) -> tuple[pd.DataFrame, pd.Series]:\n",
    "    \"\"\"\n",
    "    Renvoie les données X_train et y_train modifiées sans les logements dont le prix au mètre carré est inférieur à 500€ ou\n",
    "    supérieur à 12 000€\n",
    "        Parameters:\n",
    "                X_train (pandas.DataFrame): caractéristiques d'entrainement\n",
    "                y_train (pandas.Series): valeurs cibles d'entrainement\n",
    "        Returns:\n",
    "                X_train, y_train tuple[pd.DataFrame, pd.Series]: données X_train et y_train modifiées\n",
    "    \"\"\"\n",
    "    # A COMPLETER"
   ]
  },
  {
   "cell_type": "code",
   "execution_count": null,
   "id": "a7eeadbd",
   "metadata": {},
   "outputs": [],
   "source": [
    "X_train, y_train = remove_outlier_price_m2(X_train, y_train)"
   ]
  },
  {
   "cell_type": "markdown",
   "id": "2eac7ec1",
   "metadata": {},
   "source": [
    "- Compléter la fonction Python suivante **`remove_outlier_2_zscore()`** pour qu'elle retourne le **dataframe** dont le prix au mètre carré est compris entre -2 et +2 zscores"
   ]
  },
  {
   "cell_type": "code",
   "execution_count": null,
   "id": "7ef66f17",
   "metadata": {},
   "outputs": [],
   "source": [
    "def remove_outlier_2_zscore(X_train: pd.DataFrame, y_train: pd.Series) -> tuple[pd.DataFrame, pd.Series]:\n",
    "    \"\"\"\n",
    "    Renvoie les données X_train et y_train modifiées sans les logements dont le prix au mètre carré est \n",
    "    compris entre -2 et +2 zscores\n",
    "        Parameters:\n",
    "                X_train (pandas.DataFrame): caractéristiques d'entrainement\n",
    "                y_train (pandas.Series): valeurs cibles d'entrainement\n",
    "        Returns:\n",
    "                X_train, y_train tuple[pd.DataFrame, pd.Series]: données X_train et y_train modifiées\n",
    "    \"\"\"\n",
    "    # A COMPLETER"
   ]
  },
  {
   "cell_type": "code",
   "execution_count": null,
   "id": "19868ad1",
   "metadata": {},
   "outputs": [],
   "source": [
    "X_train, y_train = remove_outlier_3_zscore(X_train, y_train)"
   ]
  },
  {
   "cell_type": "markdown",
   "id": "605f4c0a",
   "metadata": {},
   "source": [
    "### 👷 Création du pipeline de pré-traitement"
   ]
  },
  {
   "cell_type": "markdown",
   "id": "df1d532a",
   "metadata": {},
   "source": [
    "- Créer une liste pour les **caractéristiques numériques** et une liste pour la **caractéristique catégorielle**"
   ]
  },
  {
   "cell_type": "code",
   "execution_count": null,
   "id": "cc86fbaa",
   "metadata": {},
   "outputs": [],
   "source": [
    "# A COMPLETER"
   ]
  },
  {
   "cell_type": "markdown",
   "id": "07eabd04",
   "metadata": {},
   "source": [
    "- Créer un **pipeline de pré-traitement** avec une transformation de **RobustScaler()** sur les données **numériques** et une transformation de **OneHotEncoder()** sur les données **catégorielles**\n",
    "\n",
    "> ℹ️ les fonctions suivantes peuvent être utiles :\n",
    "> - [Column Transformer with Mixed Types](https://scikit-learn.org/stable/auto_examples/compose/plot_column_transformer_mixed_types.html)\n",
    "> - [sklearn.compose.ColumnTransformer](https://scikit-learn.org/stable/modules/generated/sklearn.compose.ColumnTransformer.html#sklearn.compose.ColumnTransformer)\n",
    "> - [sklearn.preprocessing.RobustScaler](https://scikit-learn.org/stable/modules/generated/sklearn.preprocessing.RobustScaler.html)\n",
    "> - [sklearn.preprocessing.OneHotEncoder](https://scikit-learn.org/stable/modules/generated/sklearn.preprocessing.OneHotEncoder.html)"
   ]
  },
  {
   "cell_type": "code",
   "execution_count": null,
   "id": "2b01c929",
   "metadata": {},
   "outputs": [],
   "source": [
    "# A COMPLETER"
   ]
  },
  {
   "cell_type": "markdown",
   "id": "317080ec",
   "metadata": {},
   "source": [
    "### 👷 Création du pipeline d'entrainement et évaluation du modèle\n",
    "\n",
    "- Créer un pipeline **global** de **pré-traitement** et **d'entrainement** d'un modèle de **régression linéaire**\n",
    "\n",
    "> ℹ️ les fonctions suivantes peuvent être utiles :\n",
    "> - [sklearn.pipeline.Pipeline](https://scikit-learn.org/stable/modules/generated/sklearn.pipeline.Pipeline.html#sklearn.pipeline.Pipeline)\n",
    "> - [sklearn.linear_model.LinearRegression](https://scikit-learn.org/stable/modules/generated/sklearn.linear_model.LinearRegression.html)"
   ]
  },
  {
   "cell_type": "code",
   "execution_count": null,
   "id": "050aafab",
   "metadata": {},
   "outputs": [],
   "source": [
    "# A COMPLETER"
   ]
  },
  {
   "cell_type": "markdown",
   "id": "2191c479",
   "metadata": {},
   "source": [
    "- **Entrainer** le modèle grâce au **pipeline**. **Evaluer le modèle** grâce au jeu de **test**"
   ]
  },
  {
   "cell_type": "code",
   "execution_count": null,
   "id": "252c53d3",
   "metadata": {},
   "outputs": [],
   "source": [
    "# A COMPLETER"
   ]
  },
  {
   "cell_type": "markdown",
   "id": "98caaff5",
   "metadata": {},
   "source": [
    "### 🧪 Test de différents modèles et optimisation des hyperparamètres"
   ]
  },
  {
   "cell_type": "markdown",
   "id": "72cfeafc",
   "metadata": {},
   "source": [
    "- Créer un pipeline avec un **arbre de décision** et **comparer** les résultats avec **la régression linéaire**\n",
    "\n",
    "> ℹ️ les fonctions suivantes peuvent être utiles :\n",
    "> - [sklearn.tree.DecisionTreeRegressor](https://scikit-learn.org/stable/modules/generated/sklearn.tree.DecisionTreeRegressor.html)"
   ]
  },
  {
   "cell_type": "code",
   "execution_count": null,
   "id": "58390a26",
   "metadata": {},
   "outputs": [],
   "source": [
    "# A COMPLETER"
   ]
  },
  {
   "cell_type": "markdown",
   "id": "d00a6c6b",
   "metadata": {},
   "source": [
    "- Créer un pipeline avec un modèle de **random forest** et **comparer** les résultats avec les modèles précédents\n",
    "\n",
    "> ℹ️ les fonctions suivantes peuvent être utiles :\n",
    "> - [sklearn.ensemble.RandomForestRegressor](https://scikit-learn.org/stable/modules/generated/sklearn.ensemble.RandomForestRegressor.html)"
   ]
  },
  {
   "cell_type": "code",
   "execution_count": null,
   "id": "f54ef871",
   "metadata": {},
   "outputs": [],
   "source": [
    "# A COMPLETER"
   ]
  },
  {
   "cell_type": "markdown",
   "id": "6806c52e",
   "metadata": {},
   "source": [
    "- Effectuer une **recherche par grille (grid search)** sur le pipeline du modèle de **random forest**. Essayer différentes valeurs pour les paramètres \"n_estimators\" et \"max_depth\". Afficher le R2 maximum en validation croisée et les meilleurs hyperparamètres\n",
    "\n",
    "> ℹ️ les fonctions suivantes peuvent être utiles :\n",
    "> - [sklearn.ensemble.RandomForestRegressor](https://scikit-learn.org/stable/modules/generated/sklearn.ensemble.RandomForestRegressor.html)\n",
    "> - [Putting it all together](https://scikit-learn.org/stable/tutorial/statistical_inference/putting_together.html)\n",
    "> - [sklearn.model_selection.GridSearchCV](sklearn.model_selection.GridSearchCV)"
   ]
  },
  {
   "cell_type": "code",
   "execution_count": null,
   "id": "e2911301",
   "metadata": {},
   "outputs": [],
   "source": [
    "# A COMPLETER"
   ]
  },
  {
   "cell_type": "markdown",
   "id": "6b80ceeb",
   "metadata": {},
   "source": [
    "- **comparer** les résultats du meilleur modèle avec les modèles précédents grâce au paramètre \"best_estimator_\""
   ]
  },
  {
   "cell_type": "code",
   "execution_count": null,
   "id": "0e0cbfb7",
   "metadata": {},
   "outputs": [],
   "source": [
    "# A COMPLETER"
   ]
  },
  {
   "cell_type": "markdown",
   "id": "a071c886",
   "metadata": {},
   "source": [
    "### 🚢 Exporter le modèle"
   ]
  },
  {
   "cell_type": "markdown",
   "id": "bb8f8ff5",
   "metadata": {},
   "source": [
    "- **Sauvegarder (serialiser) le meilleur pipeline** dans un fichier joblib grâce à la fonction `joblib.dump()`\n",
    "\n",
    "> ℹ️ les fonctions suivantes peuvent être utiles :\n",
    "> - [Model persistence](https://scikit-learn.org/stable/model_persistence.html)"
   ]
  },
  {
   "cell_type": "code",
   "execution_count": null,
   "id": "406e7fc8",
   "metadata": {},
   "outputs": [],
   "source": [
    "# A COMPLETER"
   ]
  },
  {
   "cell_type": "markdown",
   "id": "77c2a42b",
   "metadata": {},
   "source": [
    "## 🚀 Pour aller plus loin\n",
    "\n",
    "- [Regression Trees, Clearly Explained!!!](https://www.youtube.com/watch?v=g9c66TUylZ4&t=1s)\n",
    "- [StatQuest: Random Forests Part 1 - Building, Using and Evaluating](https://www.youtube.com/watch?v=J4Wdy0Wc_xQ)"
   ]
  },
  {
   "cell_type": "markdown",
   "id": "b799f00c",
   "metadata": {},
   "source": [
    "___\n",
    "*👨‍🏫 [Pierre-Loic BAYART](https://www.linkedin.com/in/pierreloicbayart/) - Formation développeur d'applications spécialisation data analyst - Webforce3 - Grenoble Ecole de Management*\n",
    "___\n",
    "Source images d'illustration : Image par Clker-Free-Vector-Images de Pixabay"
   ]
  }
 ],
 "metadata": {
  "kernelspec": {
   "display_name": "Python 3 (ipykernel)",
   "language": "python",
   "name": "python3"
  },
  "language_info": {
   "codemirror_mode": {
    "name": "ipython",
    "version": 3
   },
   "file_extension": ".py",
   "mimetype": "text/x-python",
   "name": "python",
   "nbconvert_exporter": "python",
   "pygments_lexer": "ipython3",
   "version": "3.9.6"
  }
 },
 "nbformat": 4,
 "nbformat_minor": 5
}
