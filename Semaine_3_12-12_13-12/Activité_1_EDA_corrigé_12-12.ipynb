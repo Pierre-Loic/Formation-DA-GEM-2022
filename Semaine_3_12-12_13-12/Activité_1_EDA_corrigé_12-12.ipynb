{
 "cells": [
  {
   "cell_type": "markdown",
   "id": "5be22f39",
   "metadata": {},
   "source": [
    "# 👩‍💻 Activité 1 : analyse exploratoire des données (EDA) et pré-traitement des données\n",
    "\n",
    "<img src=\"https://cdn.pixabay.com/photo/2017/07/22/11/46/adventure-2528477_1280.jpg\" alt=\"rubik\" width=\"400\"/>\n",
    "\n",
    "#### [Pierre-Loic BAYART](https://www.linkedin.com/in/pierreloicbayart/) - Formation développeur d'applications spécialisation data analyst - Webforce3 - Grenoble Ecole de Management\n",
    "\n",
    "### Code pour indiquer l'importance des notions traitées dans cette activité\n",
    "\n",
    "- #### 🥇 : connaissance fondamentale pour l'analyse de données\n",
    "- #### 🥈 : connaissance importante pour l'analyse de données\n",
    "- #### 🥉 : connaissance moins importante pour l'analyse de données\n",
    "> Si rien n'est indiqué, il s'agit de connaissances fondamentales pour l'analyse de données"
   ]
  },
  {
   "cell_type": "markdown",
   "id": "0fdae17d",
   "metadata": {},
   "source": [
    "## 🔍 Recherche d'informations\n",
    "\n",
    "En recherchant sur le web, trouver les réponses aux questions suivantes :\n",
    "### - Quel est l'intérêt d'écrire des fonctions Python pour traiter des données ?\n",
    "___\n",
    "Cela permet d'**automatiser** et de **tester** le pré-traitement des données en amont de l'entrainement d'un modèle de machine learning.\n",
    "___\n",
    "### - Pourquoi est-il important de créer des fonctions Python courtes ?\n",
    "___\n",
    "Les fonctions courtes sont plus **facilement testables**.\n",
    "___\n",
    "### - Qu'est-ce que l'ingénierie des caractéristiques (feature engineering) ?\n",
    "___\n",
    "L'ingénierie des caractéristiques consiste à utiliser des **connaissances métier** et les données qui en découlent pour extraire des propriétés pour les **ajouter au jeu de données**.\n",
    "___\n",
    "### - Comment faire de l'ingénierie des caractéristiques avec des données temporelles ?\n",
    "___\n",
    "On peut indiquer à quel jour de la semaine correspond la date, s'il s'agit d'un jour férié...\n",
    "___"
   ]
  },
  {
   "cell_type": "markdown",
   "id": "4665eb77",
   "metadata": {},
   "source": [
    "## ✏️ Activités\n",
    "\n",
    "Dans cette activité, nous allons travailler avec le fichier des transactions immobilières par département que l'on peut récupérer à cette url : https://files.data.gouv.fr/geo-dvf/latest/csv/2022/departements/\n",
    "\n",
    "- Compléter la fonction Python suivante **`get_dvf_data()`** pour qu'elle retourne le **dataframe** des données immobilières de l'**année** et du **département** choisis en paramètres. Créer un dataframe de données grâce à cette fonction"
   ]
  },
  {
   "cell_type": "code",
   "execution_count": null,
   "id": "8f50e6f2",
   "metadata": {},
   "outputs": [],
   "source": [
    "from datetime import date\n",
    "import pandas as pd\n",
    "import seaborn as sns\n",
    "import matplotlib.pyplot as plt"
   ]
  },
  {
   "cell_type": "code",
   "execution_count": null,
   "id": "03340e8f",
   "metadata": {},
   "outputs": [],
   "source": [
    "def get_dvf_data(year: str = \"2022\", department: str = \"38\") -> pd.DataFrame:\n",
    "    \"\"\"\n",
    "    Renvoie un dataframe des données des transactions immobilières d'une année pour un département\n",
    "        Parameters:\n",
    "                year (str): années des données\n",
    "                department (str): numéro de département des données sur 2 chiffres (01, 02...)\n",
    "        Returns:\n",
    "                df (pandas.DataFrame): dataframe des données immobilières\n",
    "    \"\"\"\n",
    "    url = f\"https://files.data.gouv.fr/geo-dvf/latest/csv/{year}/departements/{department}.csv.gz\"\n",
    "    df = pd.read_csv(url, compression=\"gzip\")\n",
    "    return df"
   ]
  },
  {
   "cell_type": "code",
   "execution_count": null,
   "id": "b946063e",
   "metadata": {},
   "outputs": [],
   "source": [
    "df = get_dvf_data(year=\"2022\", department=\"38\")\n",
    "df"
   ]
  },
  {
   "cell_type": "markdown",
   "id": "b33ce565",
   "metadata": {},
   "source": [
    "- Compléter la fonction Python suivante **`select_columns()`** pour qu'elle sélectionne **certaines colonnes** du dataframe suivant un **tuple fourni en paramètre**"
   ]
  },
  {
   "cell_type": "code",
   "execution_count": null,
   "id": "314835da",
   "metadata": {},
   "outputs": [],
   "source": [
    "def select_columns(house_dataframe: pd.DataFrame, selected_columns: tuple[str]) -> pd.DataFrame:\n",
    "    \"\"\"\n",
    "    Renvoie un dataframe des données avec uniquement les colonnes sélectionnées\n",
    "        Parameters:\n",
    "                house_dataframe (pandas.DataFrame): dataframe des données immobilières\n",
    "                selected_columns (tuple[str]): tuple contenant les noms des colonnes du dataframe à sélectionner\n",
    "        Returns:\n",
    "                df (pandas.DataFrame): dataframe des données immobilières traitées\n",
    "    \"\"\"\n",
    "    df = house_dataframe.copy()\n",
    "    return df.loc[:,selected_columns]"
   ]
  },
  {
   "cell_type": "code",
   "execution_count": null,
   "id": "ad0bfa06",
   "metadata": {},
   "outputs": [],
   "source": [
    "selected_columns = (\n",
    "    \"date_mutation\", \"valeur_fonciere\", \"surface_reelle_bati\",\n",
    "    \"nombre_pieces_principales\", \"longitude\", \"latitude\",\n",
    "    \"type_local\", \"nature_mutation\",\n",
    ")\n",
    "df = select_columns(df, selected_columns)\n",
    "df"
   ]
  },
  {
   "cell_type": "markdown",
   "id": "c7e4dcd5",
   "metadata": {},
   "source": [
    "- Compléter la fonction Python suivante **`select_type()`** pour qu'elle sélectionne **uniquement** les **appartements** et les **maisons**. Vérifier son bon fonctionnement"
   ]
  },
  {
   "cell_type": "code",
   "execution_count": null,
   "id": "fdfcf089",
   "metadata": {},
   "outputs": [],
   "source": [
    "def select_type(house_dataframe: pd.DataFrame, house_types: tuple[str]) -> pd.DataFrame:\n",
    "    \"\"\"\n",
    "    Renvoie un dataframe des données avec uniquement les données des types d'habitations sélectionnées\n",
    "        Parameters:\n",
    "                house_dataframe (pandas.DataFrame): dataframe des données immobilières\n",
    "                house_types (tuple[str]): tuple contenant les noms des types d'habitations à sélectionner\n",
    "        Returns:\n",
    "                df (pandas.DataFrame): dataframe des données immobilières traitées\n",
    "    \"\"\"\n",
    "    df = house_dataframe.copy()\n",
    "    return df[df[\"type_local\"].isin(house_types)]"
   ]
  },
  {
   "cell_type": "code",
   "execution_count": null,
   "id": "07f8b6f3",
   "metadata": {},
   "outputs": [],
   "source": [
    "df = select_type(df, (\"Maison\", \"Appartement\"))\n",
    "df"
   ]
  },
  {
   "cell_type": "code",
   "execution_count": null,
   "id": "da9bdf40",
   "metadata": {},
   "outputs": [],
   "source": [
    "df[\"type_local\"].value_counts()"
   ]
  },
  {
   "cell_type": "markdown",
   "id": "9f804adc",
   "metadata": {},
   "source": [
    "- Compléter la fonction Python suivante **`select_sales()`** pour qu'elle sélectionne **uniquement** les **ventes**. Vérifier son bon fonctionnement"
   ]
  },
  {
   "cell_type": "code",
   "execution_count": null,
   "id": "09adc56f",
   "metadata": {},
   "outputs": [],
   "source": [
    "def select_sales(house_dataframe: pd.DataFrame) -> pd.DataFrame:\n",
    "    \"\"\"\n",
    "    Renvoie un dataframe des données avec uniquement les données des ventes\n",
    "        Parameters:\n",
    "                house_dataframe (pandas.DataFrame): dataframe des données immobilières\n",
    "        Returns:\n",
    "                df (pandas.DataFrame): dataframe des données immobilières traitées\n",
    "    \"\"\"\n",
    "    df = house_dataframe.copy()\n",
    "    return df[df[\"nature_mutation\"]==\"Vente\"]"
   ]
  },
  {
   "cell_type": "code",
   "execution_count": null,
   "id": "d6367586",
   "metadata": {},
   "outputs": [],
   "source": [
    "df = select_sales(df)\n",
    "df"
   ]
  },
  {
   "cell_type": "code",
   "execution_count": null,
   "id": "ae99ba55",
   "metadata": {},
   "outputs": [],
   "source": [
    "df[\"nature_mutation\"].value_counts()"
   ]
  },
  {
   "cell_type": "markdown",
   "id": "709dc8ec",
   "metadata": {},
   "source": [
    "- Compléter la fonction Python suivante **`drop_na()`** pour qu'elle supprime les lignes avec des données manquantes et affiche le nombre de lignes supprimées. Vérifier son bon fonctionnement"
   ]
  },
  {
   "cell_type": "code",
   "execution_count": null,
   "id": "e56e8f25",
   "metadata": {},
   "outputs": [],
   "source": [
    "def drop_na(house_dataframe: pd.DataFrame) -> pd.DataFrame:\n",
    "    \"\"\"\n",
    "    Renvoie un dataframe des données sans données manquantes\n",
    "        Parameters:\n",
    "                house_dataframe (pandas.DataFrame): dataframe des données immobilières\n",
    "        Returns:\n",
    "                df (pandas.DataFrame): dataframe des données immobilières traitées\n",
    "    \"\"\"\n",
    "    df = house_dataframe.copy()\n",
    "    print(f\"Nombre de lignes supprimées : {df.shape[0]-df.dropna().shape[0]}\")\n",
    "    return df.dropna()"
   ]
  },
  {
   "cell_type": "code",
   "execution_count": null,
   "id": "0afdbba5",
   "metadata": {},
   "outputs": [],
   "source": [
    "df = drop_na(df)"
   ]
  },
  {
   "cell_type": "markdown",
   "id": "71a24cc6",
   "metadata": {},
   "source": [
    "- Compléter la fonction Python suivante **`check_na()`** pour qu'elle vérifie qu'il **ne reste plus** de valeurs manquantes. Si ce n'est pas le cas, **afficher le nombre** des **valeurs manquantes** par colonne et le **graphique des valeurs manquantes**"
   ]
  },
  {
   "cell_type": "code",
   "execution_count": null,
   "id": "2a81d3b1",
   "metadata": {},
   "outputs": [],
   "source": [
    "def check_na(house_dataframe: pd.DataFrame) -> None:\n",
    "    \"\"\"\n",
    "    Renvoie le nombre de données manquantes\n",
    "        Parameters:\n",
    "                house_dataframe (pandas.DataFrame): dataframe des données immobilières\n",
    "        Returns:\n",
    "                None\n",
    "    \"\"\"\n",
    "    df = house_dataframe.copy()\n",
    "    if df.isna().sum().sum()==0:\n",
    "        print(\"Il n'y a pas de données manquantes dans le dataframe\")\n",
    "    else:\n",
    "        print(\"Nombre de données manquantes par colonne :\")\n",
    "        print(df.isna().sum())\n",
    "        sns.heatmap(df.isna(), cbar=False)\n",
    "        plt.show()"
   ]
  },
  {
   "cell_type": "code",
   "execution_count": null,
   "id": "421e23d1",
   "metadata": {},
   "outputs": [],
   "source": [
    "check_na(df)"
   ]
  },
  {
   "cell_type": "markdown",
   "id": "da804865",
   "metadata": {},
   "source": [
    "- Compléter la fonction Python suivante **`split_datetime()`** pour qu'elle transforme la colonne \"date_mutation\" en objet \"datetime\" et crée deux colonnes pour le **numéro du jour dans la semaine** de l'achat et le **nombre de jours passés depuis l'achat**\n",
    "\n",
    "> ℹ️ les fonctions suivantes peuvent être utiles :\n",
    "> - [pandas.to_datetime](https://pandas.pydata.org/docs/reference/api/pandas.to_datetime.html)\n",
    "> - [pandas.Series.dt.dayofweek](https://pandas.pydata.org/docs/reference/api/pandas.Series.dt.dayofweek.html)\n",
    "> - [pandas.Series.dt.days](https://pandas.pydata.org/pandas-docs/stable/reference/api/pandas.Series.dt.days.html)\n",
    "> - [pandas.Timestamp.now](https://pandas.pydata.org/pandas-docs/stable/reference/api/pandas.Timestamp.now.html)"
   ]
  },
  {
   "cell_type": "code",
   "execution_count": null,
   "id": "c32b6ebb",
   "metadata": {},
   "outputs": [],
   "source": []
  },
  {
   "cell_type": "markdown",
   "id": "c0d8b183",
   "metadata": {},
   "source": [
    "- Compléter la fonction Python suivante **`drop_columns()`** pour qu'elle **supprime les colonnes non utiles** pour l'entrainement du modèle de régression : \"date_mutation\" et \"nature_mutation\""
   ]
  },
  {
   "cell_type": "code",
   "execution_count": null,
   "id": "88a99c70",
   "metadata": {},
   "outputs": [],
   "source": []
  },
  {
   "cell_type": "markdown",
   "id": "d61eae32",
   "metadata": {},
   "source": [
    "- Compléter la fonction Python suivante **`to_csv()`** pour qu'elle **crée un fichier CSV** à partir du dataframe fourni avec comme nom la date de création du fichier et les méta-données \"département\" et \"année\""
   ]
  },
  {
   "cell_type": "code",
   "execution_count": null,
   "id": "707eac5e",
   "metadata": {},
   "outputs": [],
   "source": []
  },
  {
   "cell_type": "markdown",
   "id": "f03c9ccd",
   "metadata": {},
   "source": [
    "- Compléter le code du **module `dvfprep.py`** en y ajoutant toutes les **fonctions créées** dans ce notebook"
   ]
  },
  {
   "cell_type": "markdown",
   "id": "77c2a42b",
   "metadata": {},
   "source": [
    "## 🚀 Pour aller plus loin\n",
    "\n",
    "- [Feature Engineering](https://en.wikipedia.org/wiki/Feature_engineering)\n",
    "- [Art of Feature Engineering for Data Science - Nabeel Sarwar](https://www.youtube.com/watch?v=leTyvBPhYzw)\n"
   ]
  },
  {
   "cell_type": "markdown",
   "id": "b799f00c",
   "metadata": {},
   "source": [
    "___\n",
    "*👨‍🏫 [Pierre-Loic BAYART](https://www.linkedin.com/in/pierreloicbayart/) - Formation développeur d'applications spécialisation data analyst - Webforce3 - Grenoble Ecole de Management*\n",
    "___\n",
    "Source images d'illustration : Image par MasterTux de Pixabay"
   ]
  }
 ],
 "metadata": {
  "kernelspec": {
   "display_name": "Python 3 (ipykernel)",
   "language": "python",
   "name": "python3"
  },
  "language_info": {
   "codemirror_mode": {
    "name": "ipython",
    "version": 3
   },
   "file_extension": ".py",
   "mimetype": "text/x-python",
   "name": "python",
   "nbconvert_exporter": "python",
   "pygments_lexer": "ipython3",
   "version": "3.9.6"
  }
 },
 "nbformat": 4,
 "nbformat_minor": 5
}
