{
 "cells": [
  {
   "cell_type": "markdown",
   "id": "5be22f39",
   "metadata": {},
   "source": [
    "# 👩‍💻 Activité 3 : utilisation du modèle entrainé\n",
    "\n",
    "<img src=\"https://cdn.pixabay.com/photo/2020/03/02/18/19/clairvoyance-4896472_960_720.jpg\" alt=\"voyance\" width=\"400\"/>\n",
    "\n",
    "#### [Pierre-Loic BAYART](https://www.linkedin.com/in/pierreloicbayart/) - Formation développeur d'applications spécialisation data analyst - Webforce3 - Grenoble Ecole de Management\n",
    "\n",
    "### Code pour indiquer l'importance des notions traitées dans cette activité\n",
    "\n",
    "- #### 🥇 : connaissance fondamentale pour l'analyse de données\n",
    "- #### 🥈 : connaissance importante pour l'analyse de données\n",
    "- #### 🥉 : connaissance moins importante pour l'analyse de données\n",
    "> Si rien n'est indiqué, il s'agit de connaissances fondamentales pour l'analyse de données"
   ]
  },
  {
   "cell_type": "markdown",
   "id": "0fdae17d",
   "metadata": {},
   "source": [
    "## 🔍 Recherche d'informations\n",
    "\n",
    "En recherchant sur le web, trouver les réponses aux questions suivantes :\n",
    "\n",
    "### - A quoi correspond la phase d'inférence d'un modèle de machine learning ?\n",
    "___\n",
    "L'inférence correspond à la phase où **la prédiction** est effectuée par un **modèle de machine learning entrainé**.\n",
    "___\n",
    "### - A quoi sert la bibliothèque `ipywidgets` ?\n",
    "___\n",
    "La bibliothèque `ipywidgets` permet d'ajouter des **controles intéractifs** dans un notebook.\n",
    "\n",
    "Source : https://ipywidgets.readthedocs.io/en/stable/\n",
    "___\n",
    "### - Doit-on passer toutes les caractéristiques au modèle entrainé pour obtenir une prédiction ?\n",
    "___\n",
    "Il faut que **toutes les caractéristiques** fournies au modèles pour l'entrainement soient présentes. Par contre, certaines caractéristiques peuvent être **déduites des informations fournies** par l'utilisateur pour l'inférence.\n",
    "___"
   ]
  },
  {
   "cell_type": "markdown",
   "id": "4665eb77",
   "metadata": {},
   "source": [
    "## ✏️ Activités\n",
    "\n",
    "Dans cette partie, vous allez effectuer une **prédiction du prix d'un bien immobilier** à partir des **données fournies par un utilisateur** dans un **formulaire ipywidget**.\n",
    "\n",
    "- Charger le pipeline du **modèle sérialisé** avec la fonction [`joblib.load()`](https://joblib.readthedocs.io/en/latest/generated/joblib.load.html)"
   ]
  },
  {
   "cell_type": "code",
   "execution_count": 1,
   "id": "1bb4a213",
   "metadata": {},
   "outputs": [],
   "source": [
    "import joblib\n",
    "import pandas as pd\n",
    "import numpy as np"
   ]
  },
  {
   "cell_type": "code",
   "execution_count": 2,
   "id": "534c39c2",
   "metadata": {},
   "outputs": [],
   "source": [
    "reg = joblib.load('model.joblib')"
   ]
  },
  {
   "cell_type": "code",
   "execution_count": 3,
   "id": "aa539f47",
   "metadata": {},
   "outputs": [
    {
     "data": {
      "text/html": [
       "<style>#sk-container-id-1 {color: black;background-color: white;}#sk-container-id-1 pre{padding: 0;}#sk-container-id-1 div.sk-toggleable {background-color: white;}#sk-container-id-1 label.sk-toggleable__label {cursor: pointer;display: block;width: 100%;margin-bottom: 0;padding: 0.3em;box-sizing: border-box;text-align: center;}#sk-container-id-1 label.sk-toggleable__label-arrow:before {content: \"▸\";float: left;margin-right: 0.25em;color: #696969;}#sk-container-id-1 label.sk-toggleable__label-arrow:hover:before {color: black;}#sk-container-id-1 div.sk-estimator:hover label.sk-toggleable__label-arrow:before {color: black;}#sk-container-id-1 div.sk-toggleable__content {max-height: 0;max-width: 0;overflow: hidden;text-align: left;background-color: #f0f8ff;}#sk-container-id-1 div.sk-toggleable__content pre {margin: 0.2em;color: black;border-radius: 0.25em;background-color: #f0f8ff;}#sk-container-id-1 input.sk-toggleable__control:checked~div.sk-toggleable__content {max-height: 200px;max-width: 100%;overflow: auto;}#sk-container-id-1 input.sk-toggleable__control:checked~label.sk-toggleable__label-arrow:before {content: \"▾\";}#sk-container-id-1 div.sk-estimator input.sk-toggleable__control:checked~label.sk-toggleable__label {background-color: #d4ebff;}#sk-container-id-1 div.sk-label input.sk-toggleable__control:checked~label.sk-toggleable__label {background-color: #d4ebff;}#sk-container-id-1 input.sk-hidden--visually {border: 0;clip: rect(1px 1px 1px 1px);clip: rect(1px, 1px, 1px, 1px);height: 1px;margin: -1px;overflow: hidden;padding: 0;position: absolute;width: 1px;}#sk-container-id-1 div.sk-estimator {font-family: monospace;background-color: #f0f8ff;border: 1px dotted black;border-radius: 0.25em;box-sizing: border-box;margin-bottom: 0.5em;}#sk-container-id-1 div.sk-estimator:hover {background-color: #d4ebff;}#sk-container-id-1 div.sk-parallel-item::after {content: \"\";width: 100%;border-bottom: 1px solid gray;flex-grow: 1;}#sk-container-id-1 div.sk-label:hover label.sk-toggleable__label {background-color: #d4ebff;}#sk-container-id-1 div.sk-serial::before {content: \"\";position: absolute;border-left: 1px solid gray;box-sizing: border-box;top: 0;bottom: 0;left: 50%;z-index: 0;}#sk-container-id-1 div.sk-serial {display: flex;flex-direction: column;align-items: center;background-color: white;padding-right: 0.2em;padding-left: 0.2em;position: relative;}#sk-container-id-1 div.sk-item {position: relative;z-index: 1;}#sk-container-id-1 div.sk-parallel {display: flex;align-items: stretch;justify-content: center;background-color: white;position: relative;}#sk-container-id-1 div.sk-item::before, #sk-container-id-1 div.sk-parallel-item::before {content: \"\";position: absolute;border-left: 1px solid gray;box-sizing: border-box;top: 0;bottom: 0;left: 50%;z-index: -1;}#sk-container-id-1 div.sk-parallel-item {display: flex;flex-direction: column;z-index: 1;position: relative;background-color: white;}#sk-container-id-1 div.sk-parallel-item:first-child::after {align-self: flex-end;width: 50%;}#sk-container-id-1 div.sk-parallel-item:last-child::after {align-self: flex-start;width: 50%;}#sk-container-id-1 div.sk-parallel-item:only-child::after {width: 0;}#sk-container-id-1 div.sk-dashed-wrapped {border: 1px dashed gray;margin: 0 0.4em 0.5em 0.4em;box-sizing: border-box;padding-bottom: 0.4em;background-color: white;}#sk-container-id-1 div.sk-label label {font-family: monospace;font-weight: bold;display: inline-block;line-height: 1.2em;}#sk-container-id-1 div.sk-label-container {text-align: center;}#sk-container-id-1 div.sk-container {/* jupyter's `normalize.less` sets `[hidden] { display: none; }` but bootstrap.min.css set `[hidden] { display: none !important; }` so we also need the `!important` here to be able to override the default hidden behavior on the sphinx rendered scikit-learn.org. See: https://github.com/scikit-learn/scikit-learn/issues/21755 */display: inline-block !important;position: relative;}#sk-container-id-1 div.sk-text-repr-fallback {display: none;}</style><div id=\"sk-container-id-1\" class=\"sk-top-container\"><div class=\"sk-text-repr-fallback\"><pre>Pipeline(steps=[(&#x27;preprocessor&#x27;,\n",
       "                 ColumnTransformer(transformers=[(&#x27;num&#x27;, RobustScaler(),\n",
       "                                                  [&#x27;surface_reelle_bati&#x27;,\n",
       "                                                   &#x27;nombre_pieces_principales&#x27;,\n",
       "                                                   &#x27;longitude&#x27;, &#x27;latitude&#x27;,\n",
       "                                                   &#x27;jour_semaine&#x27;,\n",
       "                                                   &#x27;jours_depuis_achat&#x27;]),\n",
       "                                                 (&#x27;cat&#x27;,\n",
       "                                                  OneHotEncoder(handle_unknown=&#x27;ignore&#x27;),\n",
       "                                                  [&#x27;type_local&#x27;])])),\n",
       "                (&#x27;regressor&#x27;,\n",
       "                 RandomForestRegressor(max_depth=100, n_estimators=450))])</pre><b>In a Jupyter environment, please rerun this cell to show the HTML representation or trust the notebook. <br />On GitHub, the HTML representation is unable to render, please try loading this page with nbviewer.org.</b></div><div class=\"sk-container\" hidden><div class=\"sk-item sk-dashed-wrapped\"><div class=\"sk-label-container\"><div class=\"sk-label sk-toggleable\"><input class=\"sk-toggleable__control sk-hidden--visually\" id=\"sk-estimator-id-1\" type=\"checkbox\" ><label for=\"sk-estimator-id-1\" class=\"sk-toggleable__label sk-toggleable__label-arrow\">Pipeline</label><div class=\"sk-toggleable__content\"><pre>Pipeline(steps=[(&#x27;preprocessor&#x27;,\n",
       "                 ColumnTransformer(transformers=[(&#x27;num&#x27;, RobustScaler(),\n",
       "                                                  [&#x27;surface_reelle_bati&#x27;,\n",
       "                                                   &#x27;nombre_pieces_principales&#x27;,\n",
       "                                                   &#x27;longitude&#x27;, &#x27;latitude&#x27;,\n",
       "                                                   &#x27;jour_semaine&#x27;,\n",
       "                                                   &#x27;jours_depuis_achat&#x27;]),\n",
       "                                                 (&#x27;cat&#x27;,\n",
       "                                                  OneHotEncoder(handle_unknown=&#x27;ignore&#x27;),\n",
       "                                                  [&#x27;type_local&#x27;])])),\n",
       "                (&#x27;regressor&#x27;,\n",
       "                 RandomForestRegressor(max_depth=100, n_estimators=450))])</pre></div></div></div><div class=\"sk-serial\"><div class=\"sk-item sk-dashed-wrapped\"><div class=\"sk-label-container\"><div class=\"sk-label sk-toggleable\"><input class=\"sk-toggleable__control sk-hidden--visually\" id=\"sk-estimator-id-2\" type=\"checkbox\" ><label for=\"sk-estimator-id-2\" class=\"sk-toggleable__label sk-toggleable__label-arrow\">preprocessor: ColumnTransformer</label><div class=\"sk-toggleable__content\"><pre>ColumnTransformer(transformers=[(&#x27;num&#x27;, RobustScaler(),\n",
       "                                 [&#x27;surface_reelle_bati&#x27;,\n",
       "                                  &#x27;nombre_pieces_principales&#x27;, &#x27;longitude&#x27;,\n",
       "                                  &#x27;latitude&#x27;, &#x27;jour_semaine&#x27;,\n",
       "                                  &#x27;jours_depuis_achat&#x27;]),\n",
       "                                (&#x27;cat&#x27;, OneHotEncoder(handle_unknown=&#x27;ignore&#x27;),\n",
       "                                 [&#x27;type_local&#x27;])])</pre></div></div></div><div class=\"sk-parallel\"><div class=\"sk-parallel-item\"><div class=\"sk-item\"><div class=\"sk-label-container\"><div class=\"sk-label sk-toggleable\"><input class=\"sk-toggleable__control sk-hidden--visually\" id=\"sk-estimator-id-3\" type=\"checkbox\" ><label for=\"sk-estimator-id-3\" class=\"sk-toggleable__label sk-toggleable__label-arrow\">num</label><div class=\"sk-toggleable__content\"><pre>[&#x27;surface_reelle_bati&#x27;, &#x27;nombre_pieces_principales&#x27;, &#x27;longitude&#x27;, &#x27;latitude&#x27;, &#x27;jour_semaine&#x27;, &#x27;jours_depuis_achat&#x27;]</pre></div></div></div><div class=\"sk-serial\"><div class=\"sk-item\"><div class=\"sk-estimator sk-toggleable\"><input class=\"sk-toggleable__control sk-hidden--visually\" id=\"sk-estimator-id-4\" type=\"checkbox\" ><label for=\"sk-estimator-id-4\" class=\"sk-toggleable__label sk-toggleable__label-arrow\">RobustScaler</label><div class=\"sk-toggleable__content\"><pre>RobustScaler()</pre></div></div></div></div></div></div><div class=\"sk-parallel-item\"><div class=\"sk-item\"><div class=\"sk-label-container\"><div class=\"sk-label sk-toggleable\"><input class=\"sk-toggleable__control sk-hidden--visually\" id=\"sk-estimator-id-5\" type=\"checkbox\" ><label for=\"sk-estimator-id-5\" class=\"sk-toggleable__label sk-toggleable__label-arrow\">cat</label><div class=\"sk-toggleable__content\"><pre>[&#x27;type_local&#x27;]</pre></div></div></div><div class=\"sk-serial\"><div class=\"sk-item\"><div class=\"sk-estimator sk-toggleable\"><input class=\"sk-toggleable__control sk-hidden--visually\" id=\"sk-estimator-id-6\" type=\"checkbox\" ><label for=\"sk-estimator-id-6\" class=\"sk-toggleable__label sk-toggleable__label-arrow\">OneHotEncoder</label><div class=\"sk-toggleable__content\"><pre>OneHotEncoder(handle_unknown=&#x27;ignore&#x27;)</pre></div></div></div></div></div></div></div></div><div class=\"sk-item\"><div class=\"sk-estimator sk-toggleable\"><input class=\"sk-toggleable__control sk-hidden--visually\" id=\"sk-estimator-id-7\" type=\"checkbox\" ><label for=\"sk-estimator-id-7\" class=\"sk-toggleable__label sk-toggleable__label-arrow\">RandomForestRegressor</label><div class=\"sk-toggleable__content\"><pre>RandomForestRegressor(max_depth=100, n_estimators=450)</pre></div></div></div></div></div></div></div>"
      ],
      "text/plain": [
       "Pipeline(steps=[('preprocessor',\n",
       "                 ColumnTransformer(transformers=[('num', RobustScaler(),\n",
       "                                                  ['surface_reelle_bati',\n",
       "                                                   'nombre_pieces_principales',\n",
       "                                                   'longitude', 'latitude',\n",
       "                                                   'jour_semaine',\n",
       "                                                   'jours_depuis_achat']),\n",
       "                                                 ('cat',\n",
       "                                                  OneHotEncoder(handle_unknown='ignore'),\n",
       "                                                  ['type_local'])])),\n",
       "                ('regressor',\n",
       "                 RandomForestRegressor(max_depth=100, n_estimators=450))])"
      ]
     },
     "execution_count": 3,
     "metadata": {},
     "output_type": "execute_result"
    }
   ],
   "source": [
    "reg"
   ]
  },
  {
   "cell_type": "markdown",
   "id": "b6604503",
   "metadata": {},
   "source": [
    "- Effectuer une **prédiction** grâce à la méthode `predict()` du modèle"
   ]
  },
  {
   "cell_type": "code",
   "execution_count": 4,
   "id": "08dcabdc",
   "metadata": {},
   "outputs": [],
   "source": [
    "test_data = pd.DataFrame(np.array([[150, 2, 6.0, 45.3, \"Appartement\", 2, 0], [50, 1, 6.0, 45.3, \"Maison\", 2, 0]]), columns=[\"surface_reelle_bati\", \"nombre_pieces_principales\", \"longitude\", \"latitude\", \"type_local\", \"jour_semaine\", \"jours_depuis_achat\"])"
   ]
  },
  {
   "cell_type": "code",
   "execution_count": 5,
   "id": "77599bbd",
   "metadata": {},
   "outputs": [
    {
     "data": {
      "text/html": [
       "<div>\n",
       "<style scoped>\n",
       "    .dataframe tbody tr th:only-of-type {\n",
       "        vertical-align: middle;\n",
       "    }\n",
       "\n",
       "    .dataframe tbody tr th {\n",
       "        vertical-align: top;\n",
       "    }\n",
       "\n",
       "    .dataframe thead th {\n",
       "        text-align: right;\n",
       "    }\n",
       "</style>\n",
       "<table border=\"1\" class=\"dataframe\">\n",
       "  <thead>\n",
       "    <tr style=\"text-align: right;\">\n",
       "      <th></th>\n",
       "      <th>surface_reelle_bati</th>\n",
       "      <th>nombre_pieces_principales</th>\n",
       "      <th>longitude</th>\n",
       "      <th>latitude</th>\n",
       "      <th>type_local</th>\n",
       "      <th>jour_semaine</th>\n",
       "      <th>jours_depuis_achat</th>\n",
       "    </tr>\n",
       "  </thead>\n",
       "  <tbody>\n",
       "    <tr>\n",
       "      <th>0</th>\n",
       "      <td>150</td>\n",
       "      <td>2</td>\n",
       "      <td>6.0</td>\n",
       "      <td>45.3</td>\n",
       "      <td>Appartement</td>\n",
       "      <td>2</td>\n",
       "      <td>0</td>\n",
       "    </tr>\n",
       "    <tr>\n",
       "      <th>1</th>\n",
       "      <td>50</td>\n",
       "      <td>1</td>\n",
       "      <td>6.0</td>\n",
       "      <td>45.3</td>\n",
       "      <td>Maison</td>\n",
       "      <td>2</td>\n",
       "      <td>0</td>\n",
       "    </tr>\n",
       "  </tbody>\n",
       "</table>\n",
       "</div>"
      ],
      "text/plain": [
       "  surface_reelle_bati nombre_pieces_principales longitude latitude  \\\n",
       "0                 150                         2       6.0     45.3   \n",
       "1                  50                         1       6.0     45.3   \n",
       "\n",
       "    type_local jour_semaine jours_depuis_achat  \n",
       "0  Appartement            2                  0  \n",
       "1       Maison            2                  0  "
      ]
     },
     "execution_count": 5,
     "metadata": {},
     "output_type": "execute_result"
    }
   ],
   "source": [
    "test_data"
   ]
  },
  {
   "cell_type": "code",
   "execution_count": 6,
   "id": "2fb67457",
   "metadata": {},
   "outputs": [
    {
     "data": {
      "text/plain": [
       "array([461199.92333333, 151612.27777778])"
      ]
     },
     "execution_count": 6,
     "metadata": {},
     "output_type": "execute_result"
    }
   ],
   "source": [
    "reg.predict(\n",
    "    test_data\n",
    ")"
   ]
  },
  {
   "cell_type": "markdown",
   "id": "0bc40f33",
   "metadata": {},
   "source": [
    "- 🥉 Créer un **formulaire ipywidget** pour effectuer une **prédiction sur le modèle**"
   ]
  },
  {
   "cell_type": "code",
   "execution_count": 7,
   "id": "30cff2a1",
   "metadata": {},
   "outputs": [],
   "source": [
    "import ipywidgets as widgets"
   ]
  },
  {
   "cell_type": "code",
   "execution_count": 9,
   "id": "575f59f4",
   "metadata": {},
   "outputs": [
    {
     "name": "stdout",
     "output_type": "stream",
     "text": [
      "Formulaire d'estimation de prix immobiliers\n"
     ]
    },
    {
     "data": {
      "application/vnd.jupyter.widget-view+json": {
       "model_id": "2c807f3e95ce497092a54b1d5ce68979",
       "version_major": 2,
       "version_minor": 0
      },
      "text/plain": [
       "IntSlider(value=3, description='Nombre de pièces principales', max=10, min=1, style=SliderStyle(description_wi…"
      ]
     },
     "metadata": {},
     "output_type": "display_data"
    },
    {
     "data": {
      "application/vnd.jupyter.widget-view+json": {
       "model_id": "82c9751b32d145789261e8de61c2f9ae",
       "version_major": 2,
       "version_minor": 0
      },
      "text/plain": [
       "IntSlider(value=50, description='Surface', max=600, min=10, style=SliderStyle(description_width='initial'))"
      ]
     },
     "metadata": {},
     "output_type": "display_data"
    },
    {
     "data": {
      "application/vnd.jupyter.widget-view+json": {
       "model_id": "1d1caee7bdac4b09b268dd22b3299fea",
       "version_major": 2,
       "version_minor": 0
      },
      "text/plain": [
       "FloatSlider(value=5.7, description='Longitude', max=6.2, min=4.8, step=0.01, style=SliderStyle(description_wid…"
      ]
     },
     "metadata": {},
     "output_type": "display_data"
    },
    {
     "data": {
      "application/vnd.jupyter.widget-view+json": {
       "model_id": "28fc79a92bab4acc8bc19c6481aa3a5f",
       "version_major": 2,
       "version_minor": 0
      },
      "text/plain": [
       "FloatSlider(value=45.2, description='Latitude', max=45.9, min=44.7, step=0.01, style=SliderStyle(description_w…"
      ]
     },
     "metadata": {},
     "output_type": "display_data"
    },
    {
     "data": {
      "application/vnd.jupyter.widget-view+json": {
       "model_id": "58dfa334017441618ad2997899539f18",
       "version_major": 2,
       "version_minor": 0
      },
      "text/plain": [
       "ToggleButtons(button_style='info', description=\"Type d'habitation :\", options=('Appartement', 'Maison'), value…"
      ]
     },
     "metadata": {},
     "output_type": "display_data"
    },
    {
     "data": {
      "application/vnd.jupyter.widget-view+json": {
       "model_id": "e3e9923762904d13a5041758bc8c0617",
       "version_major": 2,
       "version_minor": 0
      },
      "text/plain": [
       "Button(button_style='success', description=\"Lancer l'estimation\", icon='home', style=ButtonStyle())"
      ]
     },
     "metadata": {},
     "output_type": "display_data"
    },
    {
     "name": "stdout",
     "output_type": "stream",
     "text": [
      "Votre appartement de 3 pièces et 50 m2 est estimée à 124853€\n"
     ]
    }
   ],
   "source": [
    "print(\"Formulaire d'estimation de prix immobiliers\")\n",
    "style = {'description_width': 'initial'}\n",
    "w_surface = widgets.IntSlider(\n",
    "    value=50, min=10, max=600,\n",
    "    description=\"Surface\", style=style)\n",
    "w_pieces = widgets.IntSlider(\n",
    "    value=3, min=1, max=10,\n",
    "    description=\"Nombre de pièces principales\", style=style)\n",
    "w_longitude = widgets.FloatSlider(\n",
    "    value=5.7, min=4.8, max=6.2, step=0.01,\n",
    "    description=\"Longitude\", style=style)\n",
    "w_latitude = widgets.FloatSlider(\n",
    "    value=45.2, min=44.7, max=45.9, step=0.01,\n",
    "    description=\"Latitude\", style=style)\n",
    "w_habitat = widgets.ToggleButtons(\n",
    "    options=[\"Appartement\", \"Maison\"],\n",
    "    description=\"Type d'habitation :\",\n",
    "    disabled=False,\n",
    "    button_style=\"info\",\n",
    ")\n",
    "w_button = widgets.Button(\n",
    "    description=\"Lancer l'estimation\",\n",
    "    disabled=False,\n",
    "    button_style=\"success\",\n",
    "    icon=\"home\",\n",
    ")\n",
    "\n",
    "def on_click_button(b):\n",
    "    user_data = pd.DataFrame(\n",
    "        np.array([[w_surface.value, w_pieces.value, w_longitude.value, w_latitude.value, w_habitat.value, 2, 0]]),\n",
    "        columns=[\"surface_reelle_bati\", \"nombre_pieces_principales\", \"longitude\", \"latitude\", \"type_local\", \"jour_semaine\", \"jours_depuis_achat\"]\n",
    "    )\n",
    "    print(f\"Votre {w_habitat.value.lower()} de {w_pieces.value} pièces et {w_surface.value} m2 est estimée à {round(reg.predict(user_data)[0])}€\")\n",
    "w_button.on_click(on_click_button)\n",
    "display(w_pieces, w_surface, w_longitude, w_latitude, w_habitat, w_button)"
   ]
  },
  {
   "cell_type": "markdown",
   "id": "77c2a42b",
   "metadata": {},
   "source": [
    "## 🚀 Pour aller plus loin\n",
    "\n",
    "- [Introduction to ipywidgets | Jupyter Widgets Introduction | What is ipywidgets with an example](https://www.youtube.com/watch?v=wb6k_T4rKBQ)\n",
    "- [Build a Quick Animation with ipywidgets // ipywidgets play example](https://www.youtube.com/watch?v=0bNh3kbONXo)"
   ]
  },
  {
   "cell_type": "markdown",
   "id": "b799f00c",
   "metadata": {},
   "source": [
    "___\n",
    "*👨‍🏫 [Pierre-Loic BAYART](https://www.linkedin.com/in/pierreloicbayart/) - Formation développeur d'applications spécialisation data analyst - Webforce3 - Grenoble Ecole de Management*\n",
    "___\n",
    "Source images d'illustration : Image par Jean Didier de Pixabay"
   ]
  }
 ],
 "metadata": {
  "kernelspec": {
   "display_name": "Python 3 (ipykernel)",
   "language": "python",
   "name": "python3"
  },
  "language_info": {
   "codemirror_mode": {
    "name": "ipython",
    "version": 3
   },
   "file_extension": ".py",
   "mimetype": "text/x-python",
   "name": "python",
   "nbconvert_exporter": "python",
   "pygments_lexer": "ipython3",
   "version": "3.9.6"
  }
 },
 "nbformat": 4,
 "nbformat_minor": 5
}
