{
 "cells": [
  {
   "cell_type": "markdown",
   "id": "5be22f39",
   "metadata": {},
   "source": [
    "# 👩‍💻 Activité 3 : utilisation du modèle entrainé\n",
    "\n",
    "<img src=\"https://cdn.pixabay.com/photo/2020/03/02/18/19/clairvoyance-4896472_960_720.jpg\" alt=\"voyance\" width=\"400\"/>\n",
    "\n",
    "#### [Pierre-Loic BAYART](https://www.linkedin.com/in/pierreloicbayart/) - Formation développeur d'applications spécialisation data analyst - Webforce3 - Grenoble Ecole de Management\n",
    "\n",
    "### Code pour indiquer l'importance des notions traitées dans cette activité\n",
    "\n",
    "- #### 🥇 : connaissance fondamentale pour l'analyse de données\n",
    "- #### 🥈 : connaissance importante pour l'analyse de données\n",
    "- #### 🥉 : connaissance moins importante pour l'analyse de données\n",
    "> Si rien n'est indiqué, il s'agit de connaissances fondamentales pour l'analyse de données"
   ]
  },
  {
   "cell_type": "markdown",
   "id": "0fdae17d",
   "metadata": {},
   "source": [
    "## 🔍 Recherche d'informations\n",
    "\n",
    "En recherchant sur le web, trouver les réponses aux questions suivantes :\n",
    "\n",
    "### - A quoi correspond la phase d'inférence d'un modèle de machine learning ?\n",
    "___\n",
    "*A COMPLETER*\n",
    "___\n",
    "### - A quoi sert la bibliothèque `ipywidgets` ?\n",
    "___\n",
    "*A COMPLETER*\n",
    "___\n",
    "### - Doit-on passer toutes les caractéristiques au modèle entrainé pour obtenir une prédiction ?\n",
    "___\n",
    "*A COMPLETER*\n",
    "___"
   ]
  },
  {
   "cell_type": "markdown",
   "id": "4665eb77",
   "metadata": {},
   "source": [
    "## ✏️ Activités\n",
    "\n",
    "Dans cette partie, vous allez effectuer une **prédiction du prix d'un bien immobilier** à partir des **données fournies par un utilisateur** dans un **formulaire ipywidget**.\n",
    "\n",
    "- Charger le pipeline du **modèle sérialisé** avec la fonction [`joblib.load()`](https://joblib.readthedocs.io/en/latest/generated/joblib.load.html)"
   ]
  },
  {
   "cell_type": "code",
   "execution_count": 7,
   "id": "1bb4a213",
   "metadata": {},
   "outputs": [],
   "source": [
    "# A COMPLETER"
   ]
  },
  {
   "cell_type": "markdown",
   "id": "b6604503",
   "metadata": {},
   "source": [
    "- Effectuer une **prédiction** grâce à la méthode `predict()` du modèle"
   ]
  },
  {
   "cell_type": "code",
   "execution_count": 23,
   "id": "08dcabdc",
   "metadata": {},
   "outputs": [],
   "source": [
    "# A COMPLETER"
   ]
  },
  {
   "cell_type": "markdown",
   "id": "0bc40f33",
   "metadata": {},
   "source": [
    "- 🥉 Créer un **formulaire ipywidget** pour effectuer une **prédiction sur le modèle**"
   ]
  },
  {
   "cell_type": "code",
   "execution_count": 25,
   "id": "30cff2a1",
   "metadata": {},
   "outputs": [],
   "source": [
    "# A COMPLETER"
   ]
  },
  {
   "cell_type": "markdown",
   "id": "77c2a42b",
   "metadata": {},
   "source": [
    "## 🚀 Pour aller plus loin\n",
    "\n",
    "- [Introduction to ipywidgets | Jupyter Widgets Introduction | What is ipywidgets with an example](https://www.youtube.com/watch?v=wb6k_T4rKBQ)\n",
    "- [Build a Quick Animation with ipywidgets // ipywidgets play example](https://www.youtube.com/watch?v=0bNh3kbONXo)"
   ]
  },
  {
   "cell_type": "markdown",
   "id": "b799f00c",
   "metadata": {},
   "source": [
    "___\n",
    "*👨‍🏫 [Pierre-Loic BAYART](https://www.linkedin.com/in/pierreloicbayart/) - Formation développeur d'applications spécialisation data analyst - Webforce3 - Grenoble Ecole de Management*\n",
    "___\n",
    "Source images d'illustration : Image par Jean Didier de Pixabay"
   ]
  }
 ],
 "metadata": {
  "kernelspec": {
   "display_name": "Python 3 (ipykernel)",
   "language": "python",
   "name": "python3"
  },
  "language_info": {
   "codemirror_mode": {
    "name": "ipython",
    "version": 3
   },
   "file_extension": ".py",
   "mimetype": "text/x-python",
   "name": "python",
   "nbconvert_exporter": "python",
   "pygments_lexer": "ipython3",
   "version": "3.9.6"
  }
 },
 "nbformat": 4,
 "nbformat_minor": 5
}
