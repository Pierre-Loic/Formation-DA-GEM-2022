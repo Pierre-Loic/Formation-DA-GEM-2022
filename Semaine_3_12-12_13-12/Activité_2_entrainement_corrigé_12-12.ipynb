{
 "cells": [
  {
   "cell_type": "markdown",
   "id": "5be22f39",
   "metadata": {},
   "source": [
    "# 👩‍💻 Activité 2 : entrainement de modèles de régression\n",
    "\n",
    "<img src=\"https://cdn.pixabay.com/photo/2012/04/18/12/46/graph-36929_1280.png\" alt=\"rubik\" width=\"400\"/>\n",
    "\n",
    "#### [Pierre-Loic BAYART](https://www.linkedin.com/in/pierreloicbayart/) - Formation développeur d'applications spécialisation data analyst - Webforce3 - Grenoble Ecole de Management\n",
    "\n",
    "### Code pour indiquer l'importance des notions traitées dans cette activité\n",
    "\n",
    "- #### 🥇 : connaissance fondamentale pour l'analyse de données\n",
    "- #### 🥈 : connaissance importante pour l'analyse de données\n",
    "- #### 🥉 : connaissance moins importante pour l'analyse de données\n",
    "> Si rien n'est indiqué, il s'agit de connaissances fondamentales pour l'analyse de données"
   ]
  },
  {
   "cell_type": "markdown",
   "id": "0fdae17d",
   "metadata": {},
   "source": [
    "## 🔍 Recherche d'informations\n",
    "\n",
    "En recherchant sur le web, trouver les réponses aux questions suivantes :\n",
    "\n",
    "### - Citer différents modèles simples de régression\n",
    "___\n",
    "- Régression linéaire\n",
    "- Régression Ridge, Lasso et ElasticNet\n",
    "- [Arbres de décision](https://scikit-learn.org/stable/modules/tree.html#regression)\n",
    "- [K plus proches voisins](https://scikit-learn.org/stable/modules/neighbors.html#nearest-neighbors-regression)\n",
    "- [Support Vector Regression (SVR)](https://scikit-learn.org/stable/modules/svm.html#regression)\n",
    "- ...\n",
    "___\n",
    "### - Citer différents modèles ensemblistes de régression\n",
    "___\n",
    "- [Random Forest](https://scikit-learn.org/stable/modules/ensemble.html#forests-of-randomized-trees)\n",
    "- [Gradient Boosting](https://scikit-learn.org/stable/modules/ensemble.html#gradient-tree-boosting)\n",
    "- ...\n",
    "___"
   ]
  },
  {
   "cell_type": "markdown",
   "id": "4665eb77",
   "metadata": {},
   "source": [
    "## ✏️ Activités\n",
    "\n",
    "- Récupérer les données pré-traitées du module `dvfprep`"
   ]
  },
  {
   "cell_type": "code",
   "execution_count": 1,
   "id": "0858e251",
   "metadata": {},
   "outputs": [],
   "source": [
    "import dvfprep\n",
    "import pandas as pd"
   ]
  },
  {
   "cell_type": "code",
   "execution_count": 2,
   "id": "69402725",
   "metadata": {},
   "outputs": [
    {
     "name": "stdout",
     "output_type": "stream",
     "text": [
      "Nombre de lignes supprimées : 0\n",
      "Il n'y a pas de données manquantes dans le dataframe\n"
     ]
    },
    {
     "data": {
      "text/html": [
       "<div>\n",
       "<style scoped>\n",
       "    .dataframe tbody tr th:only-of-type {\n",
       "        vertical-align: middle;\n",
       "    }\n",
       "\n",
       "    .dataframe tbody tr th {\n",
       "        vertical-align: top;\n",
       "    }\n",
       "\n",
       "    .dataframe thead th {\n",
       "        text-align: right;\n",
       "    }\n",
       "</style>\n",
       "<table border=\"1\" class=\"dataframe\">\n",
       "  <thead>\n",
       "    <tr style=\"text-align: right;\">\n",
       "      <th></th>\n",
       "      <th>valeur_fonciere</th>\n",
       "      <th>surface_reelle_bati</th>\n",
       "      <th>nombre_pieces_principales</th>\n",
       "      <th>longitude</th>\n",
       "      <th>latitude</th>\n",
       "      <th>type_local</th>\n",
       "      <th>jour_semaine</th>\n",
       "      <th>jours_depuis_achat</th>\n",
       "    </tr>\n",
       "  </thead>\n",
       "  <tbody>\n",
       "    <tr>\n",
       "      <th>0</th>\n",
       "      <td>229000.0</td>\n",
       "      <td>64.0</td>\n",
       "      <td>2.0</td>\n",
       "      <td>5.791164</td>\n",
       "      <td>45.139141</td>\n",
       "      <td>Appartement</td>\n",
       "      <td>4</td>\n",
       "      <td>339</td>\n",
       "    </tr>\n",
       "    <tr>\n",
       "      <th>4</th>\n",
       "      <td>151500.0</td>\n",
       "      <td>54.0</td>\n",
       "      <td>2.0</td>\n",
       "      <td>5.711105</td>\n",
       "      <td>45.181912</td>\n",
       "      <td>Appartement</td>\n",
       "      <td>1</td>\n",
       "      <td>342</td>\n",
       "    </tr>\n",
       "    <tr>\n",
       "      <th>6</th>\n",
       "      <td>62000.0</td>\n",
       "      <td>66.0</td>\n",
       "      <td>3.0</td>\n",
       "      <td>5.702079</td>\n",
       "      <td>45.144146</td>\n",
       "      <td>Appartement</td>\n",
       "      <td>0</td>\n",
       "      <td>343</td>\n",
       "    </tr>\n",
       "    <tr>\n",
       "      <th>7</th>\n",
       "      <td>110000.0</td>\n",
       "      <td>65.0</td>\n",
       "      <td>4.0</td>\n",
       "      <td>5.766423</td>\n",
       "      <td>45.183840</td>\n",
       "      <td>Appartement</td>\n",
       "      <td>4</td>\n",
       "      <td>339</td>\n",
       "    </tr>\n",
       "    <tr>\n",
       "      <th>9</th>\n",
       "      <td>157000.0</td>\n",
       "      <td>100.0</td>\n",
       "      <td>5.0</td>\n",
       "      <td>5.708358</td>\n",
       "      <td>45.173086</td>\n",
       "      <td>Appartement</td>\n",
       "      <td>0</td>\n",
       "      <td>336</td>\n",
       "    </tr>\n",
       "    <tr>\n",
       "      <th>...</th>\n",
       "      <td>...</td>\n",
       "      <td>...</td>\n",
       "      <td>...</td>\n",
       "      <td>...</td>\n",
       "      <td>...</td>\n",
       "      <td>...</td>\n",
       "      <td>...</td>\n",
       "      <td>...</td>\n",
       "    </tr>\n",
       "    <tr>\n",
       "      <th>5816</th>\n",
       "      <td>416901.0</td>\n",
       "      <td>150.0</td>\n",
       "      <td>4.0</td>\n",
       "      <td>5.615595</td>\n",
       "      <td>45.550246</td>\n",
       "      <td>Maison</td>\n",
       "      <td>2</td>\n",
       "      <td>166</td>\n",
       "    </tr>\n",
       "    <tr>\n",
       "      <th>5817</th>\n",
       "      <td>416901.0</td>\n",
       "      <td>48.0</td>\n",
       "      <td>3.0</td>\n",
       "      <td>5.615595</td>\n",
       "      <td>45.550246</td>\n",
       "      <td>Maison</td>\n",
       "      <td>2</td>\n",
       "      <td>166</td>\n",
       "    </tr>\n",
       "    <tr>\n",
       "      <th>5818</th>\n",
       "      <td>416901.0</td>\n",
       "      <td>150.0</td>\n",
       "      <td>4.0</td>\n",
       "      <td>5.615595</td>\n",
       "      <td>45.550246</td>\n",
       "      <td>Maison</td>\n",
       "      <td>2</td>\n",
       "      <td>166</td>\n",
       "    </tr>\n",
       "    <tr>\n",
       "      <th>5819</th>\n",
       "      <td>416901.0</td>\n",
       "      <td>48.0</td>\n",
       "      <td>3.0</td>\n",
       "      <td>5.615595</td>\n",
       "      <td>45.550246</td>\n",
       "      <td>Maison</td>\n",
       "      <td>2</td>\n",
       "      <td>166</td>\n",
       "    </tr>\n",
       "    <tr>\n",
       "      <th>5823</th>\n",
       "      <td>360000.0</td>\n",
       "      <td>102.0</td>\n",
       "      <td>4.0</td>\n",
       "      <td>5.190719</td>\n",
       "      <td>45.752555</td>\n",
       "      <td>Maison</td>\n",
       "      <td>0</td>\n",
       "      <td>168</td>\n",
       "    </tr>\n",
       "  </tbody>\n",
       "</table>\n",
       "<p>1897 rows × 8 columns</p>\n",
       "</div>"
      ],
      "text/plain": [
       "      valeur_fonciere  surface_reelle_bati  nombre_pieces_principales  \\\n",
       "0            229000.0                 64.0                        2.0   \n",
       "4            151500.0                 54.0                        2.0   \n",
       "6             62000.0                 66.0                        3.0   \n",
       "7            110000.0                 65.0                        4.0   \n",
       "9            157000.0                100.0                        5.0   \n",
       "...               ...                  ...                        ...   \n",
       "5816         416901.0                150.0                        4.0   \n",
       "5817         416901.0                 48.0                        3.0   \n",
       "5818         416901.0                150.0                        4.0   \n",
       "5819         416901.0                 48.0                        3.0   \n",
       "5823         360000.0                102.0                        4.0   \n",
       "\n",
       "      longitude   latitude   type_local  jour_semaine  jours_depuis_achat  \n",
       "0      5.791164  45.139141  Appartement             4                 339  \n",
       "4      5.711105  45.181912  Appartement             1                 342  \n",
       "6      5.702079  45.144146  Appartement             0                 343  \n",
       "7      5.766423  45.183840  Appartement             4                 339  \n",
       "9      5.708358  45.173086  Appartement             0                 336  \n",
       "...         ...        ...          ...           ...                 ...  \n",
       "5816   5.615595  45.550246       Maison             2                 166  \n",
       "5817   5.615595  45.550246       Maison             2                 166  \n",
       "5818   5.615595  45.550246       Maison             2                 166  \n",
       "5819   5.615595  45.550246       Maison             2                 166  \n",
       "5823   5.190719  45.752555       Maison             0                 168  \n",
       "\n",
       "[1897 rows x 8 columns]"
      ]
     },
     "execution_count": 2,
     "metadata": {},
     "output_type": "execute_result"
    }
   ],
   "source": [
    "df = dvfprep.run()\n",
    "df"
   ]
  },
  {
   "cell_type": "markdown",
   "id": "7f4765fb",
   "metadata": {},
   "source": [
    "- Vérifier qu'il n'y a **pas de données manquantes** dans le dataframe"
   ]
  },
  {
   "cell_type": "code",
   "execution_count": 3,
   "id": "f1c318cd",
   "metadata": {},
   "outputs": [
    {
     "data": {
      "text/plain": [
       "valeur_fonciere              0\n",
       "surface_reelle_bati          0\n",
       "nombre_pieces_principales    0\n",
       "longitude                    0\n",
       "latitude                     0\n",
       "type_local                   0\n",
       "jour_semaine                 0\n",
       "jours_depuis_achat           0\n",
       "dtype: int64"
      ]
     },
     "execution_count": 3,
     "metadata": {},
     "output_type": "execute_result"
    }
   ],
   "source": [
    "df.isna().sum()"
   ]
  },
  {
   "cell_type": "markdown",
   "id": "b0c2b380",
   "metadata": {},
   "source": [
    "- Séparer la colonne de la **valeur cible \"valeur_fonciere\" (noté y)**, des **autres colonnes (notés X)**. Grâce à la fonction [sklearn.model_selection.train_test_split()](https://scikit-learn.org/stable/modules/generated/sklearn.model_selection.train_test_split.html), mettre de côté le jeu de données de test avec **20% des données**"
   ]
  },
  {
   "cell_type": "code",
   "execution_count": 5,
   "id": "d7ca2475",
   "metadata": {},
   "outputs": [],
   "source": [
    "from sklearn.model_selection import train_test_split"
   ]
  },
  {
   "cell_type": "code",
   "execution_count": 6,
   "id": "01898903",
   "metadata": {},
   "outputs": [],
   "source": [
    "X = df.drop(\"valeur_fonciere\", axis=1)\n",
    "y = df[\"valeur_fonciere\"]"
   ]
  },
  {
   "cell_type": "code",
   "execution_count": 7,
   "id": "74cec104",
   "metadata": {},
   "outputs": [
    {
     "name": "stdout",
     "output_type": "stream",
     "text": [
      "Shape X_train : (1517, 7)\n",
      "Shape y_train : (1517,)\n",
      "Shape X_test : (380, 7)\n",
      "Shape y_test : (380,)\n"
     ]
    }
   ],
   "source": [
    "X_train, X_test, y_train, y_test = train_test_split(X, y, test_size=0.2, random_state=42)\n",
    "print(f\"Shape X_train : {X_train.shape}\")\n",
    "print(f\"Shape y_train : {y_train.shape}\")\n",
    "print(f\"Shape X_test : {X_test.shape}\")\n",
    "print(f\"Shape y_test : {y_test.shape}\")"
   ]
  },
  {
   "cell_type": "markdown",
   "id": "e74f4a44",
   "metadata": {},
   "source": [
    "⚠️ A partir de maintenant, le jeu de **données de test ne doit plus être modifié**. Il servira à **évaluer le modèle après l'entrainement**"
   ]
  },
  {
   "cell_type": "markdown",
   "id": "09d8949f",
   "metadata": {},
   "source": [
    "### 🗺️ Analyse exploratoire des données - Données aberrantes"
   ]
  },
  {
   "cell_type": "markdown",
   "id": "a8de1530",
   "metadata": {},
   "source": [
    "- Analyser **statistiquement** et **graphiquement** de manière **univariée** les **données d'entrainement**. Conclure sur la présence de **données aberrantes**"
   ]
  },
  {
   "cell_type": "code",
   "execution_count": null,
   "id": "eaa5223f",
   "metadata": {},
   "outputs": [],
   "source": [
    "# A COMPLETER"
   ]
  },
  {
   "cell_type": "markdown",
   "id": "1020717d",
   "metadata": {},
   "source": [
    "- Effectuer une **analyse bivariée graphique** grâce à la carte de chaleur (heatmap) des corrélations"
   ]
  },
  {
   "cell_type": "code",
   "execution_count": null,
   "id": "52b112a1",
   "metadata": {},
   "outputs": [],
   "source": [
    "# A COMPLETER"
   ]
  },
  {
   "cell_type": "markdown",
   "id": "bb8d1b21",
   "metadata": {},
   "source": [
    "- Compléter la fonction Python suivante **`remove_0_room()`** pour qu'elle retourne le **dataframe** sans les données où la colonne \"nombre_pieces_principales\" vaut 0"
   ]
  },
  {
   "cell_type": "code",
   "execution_count": null,
   "id": "f0381521",
   "metadata": {},
   "outputs": [],
   "source": [
    "# A COMPLETER"
   ]
  },
  {
   "cell_type": "markdown",
   "id": "85457ef4",
   "metadata": {},
   "source": [
    "- Compléter la fonction Python suivante **`remove_outlier_price_m2()`** pour qu'elle retourne le **dataframe** dont le prix au mètre carré est compris entre 500€ et 12 000€"
   ]
  },
  {
   "cell_type": "code",
   "execution_count": null,
   "id": "6cb50017",
   "metadata": {},
   "outputs": [],
   "source": [
    "# A COMPLETER"
   ]
  },
  {
   "cell_type": "markdown",
   "id": "2eac7ec1",
   "metadata": {},
   "source": [
    "- Compléter la fonction Python suivante **`remove_outlier_2_zscore()`** pour qu'elle retourne le **dataframe** dont le prix au mètre carré est compris entre -2 et +2 zscores"
   ]
  },
  {
   "cell_type": "code",
   "execution_count": null,
   "id": "7ef66f17",
   "metadata": {},
   "outputs": [],
   "source": [
    "# A COMPLETER"
   ]
  },
  {
   "cell_type": "markdown",
   "id": "605f4c0a",
   "metadata": {},
   "source": [
    "### 👷 Création du pipeline de pré-traitement"
   ]
  },
  {
   "cell_type": "markdown",
   "id": "df1d532a",
   "metadata": {},
   "source": [
    "- Créer une liste pour les **caractéristiques numériques** et une liste pour la **caractéristique catégorielle**"
   ]
  },
  {
   "cell_type": "code",
   "execution_count": null,
   "id": "cc86fbaa",
   "metadata": {},
   "outputs": [],
   "source": [
    "# A COMPLETER"
   ]
  },
  {
   "cell_type": "markdown",
   "id": "07eabd04",
   "metadata": {},
   "source": [
    "- Créer un **pipeline de pré-traitement** avec une transformation de **RobustScaler()** sur les données **numériques** et une transformation de **OneHotEncoder()** sur les données **catégorielles**\n",
    "\n",
    "> ℹ️ les fonctions suivantes peuvent être utiles :\n",
    "> - [Column Transformer with Mixed Types](https://scikit-learn.org/stable/auto_examples/compose/plot_column_transformer_mixed_types.html)\n",
    "> - [sklearn.compose.ColumnTransformer](https://scikit-learn.org/stable/modules/generated/sklearn.compose.ColumnTransformer.html#sklearn.compose.ColumnTransformer)\n",
    "> - [sklearn.preprocessing.RobustScaler](https://scikit-learn.org/stable/modules/generated/sklearn.preprocessing.RobustScaler.html)\n",
    "> - [sklearn.preprocessing.OneHotEncoder](https://scikit-learn.org/stable/modules/generated/sklearn.preprocessing.OneHotEncoder.html)"
   ]
  },
  {
   "cell_type": "code",
   "execution_count": null,
   "id": "2b01c929",
   "metadata": {},
   "outputs": [],
   "source": [
    "# A COMPLETER"
   ]
  },
  {
   "cell_type": "markdown",
   "id": "317080ec",
   "metadata": {},
   "source": [
    "### 👷 Création du pipeline d'entrainement et évaluation du modèle\n",
    "\n",
    "- Créer un pipeline **global** de **pré-traitement** et **d'entrainement** d'un modèle de **régression linéaire**\n",
    "\n",
    "> ℹ️ les fonctions suivantes peuvent être utiles :\n",
    "> - [sklearn.pipeline.Pipeline](https://scikit-learn.org/stable/modules/generated/sklearn.pipeline.Pipeline.html#sklearn.pipeline.Pipeline)\n",
    "> - [sklearn.linear_model.LinearRegression](https://scikit-learn.org/stable/modules/generated/sklearn.linear_model.LinearRegression.html)"
   ]
  },
  {
   "cell_type": "code",
   "execution_count": null,
   "id": "050aafab",
   "metadata": {},
   "outputs": [],
   "source": [
    "# A COMPLETER"
   ]
  },
  {
   "cell_type": "markdown",
   "id": "2191c479",
   "metadata": {},
   "source": [
    "- **Entrainer** le modèle grâce au **pipeline**. **Evaluer le modèle** grâce au jeu de **test**"
   ]
  },
  {
   "cell_type": "code",
   "execution_count": null,
   "id": "252c53d3",
   "metadata": {},
   "outputs": [],
   "source": [
    "# A COMPLETER"
   ]
  },
  {
   "cell_type": "markdown",
   "id": "98caaff5",
   "metadata": {},
   "source": [
    "### 🧪 Test de différents modèles et optimisation des hyperparamètres"
   ]
  },
  {
   "cell_type": "markdown",
   "id": "72cfeafc",
   "metadata": {},
   "source": [
    "- Créer un pipeline avec un **arbre de décision** et **comparer** les résultats avec **la régression linéaire**\n",
    "\n",
    "> ℹ️ les fonctions suivantes peuvent être utiles :\n",
    "> - [sklearn.tree.DecisionTreeRegressor](https://scikit-learn.org/stable/modules/generated/sklearn.tree.DecisionTreeRegressor.html)"
   ]
  },
  {
   "cell_type": "code",
   "execution_count": null,
   "id": "58390a26",
   "metadata": {},
   "outputs": [],
   "source": [
    "# A COMPLETER"
   ]
  },
  {
   "cell_type": "markdown",
   "id": "d00a6c6b",
   "metadata": {},
   "source": [
    "- Créer un pipeline avec un modèle de **random forest** et **comparer** les résultats avec les modèles précédents\n",
    "\n",
    "> ℹ️ les fonctions suivantes peuvent être utiles :\n",
    "> - [sklearn.ensemble.RandomForestRegressor](https://scikit-learn.org/stable/modules/generated/sklearn.ensemble.RandomForestRegressor.html)"
   ]
  },
  {
   "cell_type": "code",
   "execution_count": null,
   "id": "f54ef871",
   "metadata": {},
   "outputs": [],
   "source": [
    "# A COMPLETER"
   ]
  },
  {
   "cell_type": "markdown",
   "id": "6806c52e",
   "metadata": {},
   "source": [
    "- Effectuer une **recherche par grille (grid search)** sur le pipeline du modèle de **random forest**. Essayer différentes valeurs pour les paramètres \"n_estimators\" et \"max_depth\". Afficher le R2 maximum en validation croisée et les meilleurs hyperparamètres\n",
    "\n",
    "> ℹ️ les fonctions suivantes peuvent être utiles :\n",
    "> - [sklearn.ensemble.RandomForestRegressor](https://scikit-learn.org/stable/modules/generated/sklearn.ensemble.RandomForestRegressor.html)\n",
    "> - [Putting it all together](https://scikit-learn.org/stable/tutorial/statistical_inference/putting_together.html)\n",
    "> - [sklearn.model_selection.GridSearchCV](sklearn.model_selection.GridSearchCV)"
   ]
  },
  {
   "cell_type": "code",
   "execution_count": null,
   "id": "e2911301",
   "metadata": {},
   "outputs": [],
   "source": [
    "# A COMPLETER"
   ]
  },
  {
   "cell_type": "markdown",
   "id": "6b80ceeb",
   "metadata": {},
   "source": [
    "- **comparer** les résultats du meilleur modèle avec les modèles précédents grâce au paramètre \"best_estimator_\""
   ]
  },
  {
   "cell_type": "code",
   "execution_count": null,
   "id": "0e0cbfb7",
   "metadata": {},
   "outputs": [],
   "source": [
    "# A COMPLETER"
   ]
  },
  {
   "cell_type": "markdown",
   "id": "a071c886",
   "metadata": {},
   "source": [
    "### 🚢 Exporter le modèle"
   ]
  },
  {
   "cell_type": "markdown",
   "id": "bb8f8ff5",
   "metadata": {},
   "source": [
    "- **Sauvegarder (serialiser) le meilleur pipeline** dans un fichier joblib grâce à la fonction `joblib.dump()`\n",
    "\n",
    "> ℹ️ les fonctions suivantes peuvent être utiles :\n",
    "> - [Model persistence](https://scikit-learn.org/stable/model_persistence.html)"
   ]
  },
  {
   "cell_type": "code",
   "execution_count": null,
   "id": "406e7fc8",
   "metadata": {},
   "outputs": [],
   "source": [
    "# A COMPLETER"
   ]
  },
  {
   "cell_type": "markdown",
   "id": "77c2a42b",
   "metadata": {},
   "source": [
    "## 🚀 Pour aller plus loin\n",
    "\n",
    "- [Regression Trees, Clearly Explained!!!](https://www.youtube.com/watch?v=g9c66TUylZ4&t=1s)\n",
    "- [StatQuest: Random Forests Part 1 - Building, Using and Evaluating](https://www.youtube.com/watch?v=J4Wdy0Wc_xQ)"
   ]
  },
  {
   "cell_type": "markdown",
   "id": "b799f00c",
   "metadata": {},
   "source": [
    "___\n",
    "*👨‍🏫 [Pierre-Loic BAYART](https://www.linkedin.com/in/pierreloicbayart/) - Formation développeur d'applications spécialisation data analyst - Webforce3 - Grenoble Ecole de Management*\n",
    "___\n",
    "Source images d'illustration : Image par Clker-Free-Vector-Images de Pixabay"
   ]
  }
 ],
 "metadata": {
  "kernelspec": {
   "display_name": "Python 3 (ipykernel)",
   "language": "python",
   "name": "python3"
  },
  "language_info": {
   "codemirror_mode": {
    "name": "ipython",
    "version": 3
   },
   "file_extension": ".py",
   "mimetype": "text/x-python",
   "name": "python",
   "nbconvert_exporter": "python",
   "pygments_lexer": "ipython3",
   "version": "3.9.6"
  }
 },
 "nbformat": 4,
 "nbformat_minor": 5
}
