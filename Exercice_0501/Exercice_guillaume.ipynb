{
 "cells": [
  {
   "cell_type": "markdown",
   "id": "61c7f12f-95c7-4737-8b4a-84aedc10f6e0",
   "metadata": {},
   "source": [
    "# 🖊️ Exercice d'analyse exploratoire des données\n",
    "\n",
    "<img src=\"https://cdn.pixabay.com/photo/2013/01/27/13/15/flower-76336_960_720.jpg\" alt=\"classification\" width=\"400\"/>\n",
    "\n",
    "#### [Pierre-Loic BAYART](https://www.linkedin.com/in/pierreloicbayart/) - Formation développeur d'applications spécialisation data analyst - Webforce3 - Grenoble Ecole de Management\n",
    "\n",
    "# ❗ Pensez bien à enregistrer le notebook à la fin\n",
    "\n",
    "- **Récupérer** le jeu de données des iris dans la bibliothèque Scikit-Learn dans un **dataframe pandas** à partir de la documentation suivante : https://scikit-learn.org/stable/modules/generated/sklearn.datasets.load_iris.html"
   ]
  },
  {
   "cell_type": "code",
   "execution_count": 73,
   "id": "bbf13f89-3ba2-427c-8026-e8a27fa45720",
   "metadata": {},
   "outputs": [
    {
     "ename": "SyntaxError",
     "evalue": "expression cannot contain assignment, perhaps you meant \"==\"? (3313260770.py, line 12)",
     "output_type": "error",
     "traceback": [
      "\u001b[0;36m  Cell \u001b[0;32mIn[73], line 12\u001b[0;36m\u001b[0m\n\u001b[0;31m    classe_1 = pd.DataFrame(iris.target=0)\u001b[0m\n\u001b[0m                            ^\u001b[0m\n\u001b[0;31mSyntaxError\u001b[0m\u001b[0;31m:\u001b[0m expression cannot contain assignment, perhaps you meant \"==\"?\n"
     ]
    }
   ],
   "source": [
    "import matplotlib.pyplot as plt\n",
    "import mpl_toolkits.mplot3d\n",
    "from sklearn import datasets\n",
    "from sklearn.decomposition import PCA\n",
    "import numpy as np\n",
    "import pandas as pd\n",
    "\n",
    "iris = datasets.load_iris()\n",
    "# print(iris)\n",
    "classe = iris.target\n",
    "# print(classe)\n",
    "classe_1 = pd.DataFrame(iris.data)\n",
    "print(classe_1)\n",
    "sepal_length = pd.DataFrame(iris.data[: , 0])\n",
    "# print(sepal_length)\n",
    "sepal_width = pd.DataFrame(iris.data[: , 1])\n",
    "# print(sepal_width)\n",
    "petal_length = pd.DataFrame(iris.data[: , 2])\n",
    "# print(petal_length)\n",
    "petal_width = pd.DataFrame(iris.data[: , 3])\n",
    "# print(petal_width)"
   ]
  },
  {
   "cell_type": "markdown",
   "id": "9947144e-6763-415c-b122-0dc3b52efebc",
   "metadata": {},
   "source": [
    "- Calculer les **indicateurs** suivants pour toutes les colonnes numériques : **moyenne, médiane, mode, variance, écart type, skewness, kurtosis**"
   ]
  },
  {
   "cell_type": "code",
   "execution_count": 59,
   "id": "0a530514-e1e7-4906-8077-9ad959b2c1df",
   "metadata": {},
   "outputs": [
    {
     "name": "stdout",
     "output_type": "stream",
     "text": [
      "moyenne\n",
      "0    5.843333\n",
      "dtype: float64\n",
      "0    3.057333\n",
      "dtype: float64\n",
      "0    3.758\n",
      "dtype: float64\n",
      "0    1.199333\n",
      "dtype: float64\n",
      "médiane\n",
      "0    5.8\n",
      "dtype: float64\n",
      "0    3.0\n",
      "dtype: float64\n",
      "0    4.35\n",
      "dtype: float64\n",
      "0    1.3\n",
      "dtype: float64\n",
      "mode\n",
      "     0\n",
      "0  5.0\n",
      "     0\n",
      "0  3.0\n",
      "     0\n",
      "0  1.4\n",
      "1  1.5\n",
      "     0\n",
      "0  0.2\n",
      "variance\n",
      "0    0.685694\n",
      "dtype: float64\n",
      "0    0.189979\n",
      "dtype: float64\n",
      "0    3.116278\n",
      "dtype: float64\n",
      "0    0.581006\n",
      "dtype: float64\n",
      "ecart_type\n",
      "0    0.828066\n",
      "dtype: float64\n",
      "0    0.435866\n",
      "dtype: float64\n",
      "0    1.765298\n",
      "dtype: float64\n",
      "0    0.762238\n",
      "dtype: float64\n",
      "skewness\n",
      "0    0.314911\n",
      "dtype: float64\n",
      "0    0.318966\n",
      "dtype: float64\n",
      "0   -0.274884\n",
      "dtype: float64\n",
      "0   -0.102967\n",
      "dtype: float64\n",
      "kurtosis\n",
      "0   -0.552064\n",
      "dtype: float64\n",
      "0    0.228249\n",
      "dtype: float64\n",
      "0   -1.402103\n",
      "dtype: float64\n",
      "0   -1.340604\n",
      "dtype: float64\n"
     ]
    }
   ],
   "source": [
    " # moyenne\n",
    "print(\"moyenne\")\n",
    "print(sepal_length.mean())\n",
    "print(sepal_width.mean())\n",
    "print(petal_length.mean())\n",
    "print(petal_width.mean())\n",
    "# médiane\n",
    "print(\"médiane\")\n",
    "print(sepal_length.median())\n",
    "print(sepal_width.median())\n",
    "print(petal_length.median())\n",
    "print(petal_width.median())\n",
    "# mode\n",
    "print(\"mode\")\n",
    "print(sepal_length.mode())\n",
    "print(sepal_width.mode())\n",
    "print(petal_length.mode())\n",
    "print(petal_width.mode())\n",
    "# variance\n",
    "print(\"variance\")\n",
    "print(sepal_length.var())\n",
    "print(sepal_width.var())\n",
    "print(petal_length.var())\n",
    "print(petal_width.var())\n",
    "# ecart_type\n",
    "print(\"ecart_type\")\n",
    "print(sepal_length.std())\n",
    "print(sepal_width.std())\n",
    "print(petal_length.std())\n",
    "print(petal_width.std())\n",
    "# skewness\n",
    "print(\"skewness\")\n",
    "print(sepal_length.skew())\n",
    "print(sepal_width.skew())\n",
    "print(petal_length.skew())\n",
    "print(petal_width.skew())\n",
    "# kurtosis\n",
    "print(\"kurtosis\")\n",
    "print(sepal_length.kurtosis())\n",
    "print(sepal_width.kurtosis())\n",
    "print(petal_length.kurtosis())\n",
    "print(petal_width.kurtosis())"
   ]
  },
  {
   "cell_type": "markdown",
   "id": "bc91adc6-6d2f-46ef-b415-e3a7d670e330",
   "metadata": {},
   "source": [
    "- Calculer ces **mêmes indicateurs** mais cette fois-ci pour **chacune des classes d'iris**"
   ]
  },
  {
   "cell_type": "code",
   "execution_count": 67,
   "id": "0c5f4a4a-22a1-4c0c-b44a-9fead99a5998",
   "metadata": {},
   "outputs": [
    {
     "name": "stdout",
     "output_type": "stream",
     "text": [
      "moyenne\n"
     ]
    },
    {
     "ename": "AttributeError",
     "evalue": "'DataFrame' object has no attribute 'target'",
     "output_type": "error",
     "traceback": [
      "\u001b[0;31m---------------------------------------------------------------------------\u001b[0m",
      "\u001b[0;31mAttributeError\u001b[0m                            Traceback (most recent call last)",
      "Cell \u001b[0;32mIn[67], line 3\u001b[0m\n\u001b[1;32m      1\u001b[0m \u001b[38;5;66;03m# moyenne\u001b[39;00m\n\u001b[1;32m      2\u001b[0m \u001b[38;5;28mprint\u001b[39m(\u001b[38;5;124m\"\u001b[39m\u001b[38;5;124mmoyenne\u001b[39m\u001b[38;5;124m\"\u001b[39m)\n\u001b[0;32m----> 3\u001b[0m \u001b[38;5;28mprint\u001b[39m(\u001b[43msepal_length\u001b[49m\u001b[38;5;241;43m.\u001b[39;49m\u001b[43mtarget\u001b[49m(\u001b[38;5;241m0\u001b[39m)\u001b[38;5;241m.\u001b[39mmean())\n\u001b[1;32m      4\u001b[0m \u001b[38;5;28mprint\u001b[39m(sepal_width\u001b[38;5;241m.\u001b[39mmean())\n\u001b[1;32m      5\u001b[0m \u001b[38;5;28mprint\u001b[39m(petal_length\u001b[38;5;241m.\u001b[39mmean())\n",
      "File \u001b[0;32m/opt/tljh/user/lib/python3.9/site-packages/pandas/core/generic.py:5902\u001b[0m, in \u001b[0;36mNDFrame.__getattr__\u001b[0;34m(self, name)\u001b[0m\n\u001b[1;32m   5895\u001b[0m \u001b[38;5;28;01mif\u001b[39;00m (\n\u001b[1;32m   5896\u001b[0m     name \u001b[38;5;129;01mnot\u001b[39;00m \u001b[38;5;129;01min\u001b[39;00m \u001b[38;5;28mself\u001b[39m\u001b[38;5;241m.\u001b[39m_internal_names_set\n\u001b[1;32m   5897\u001b[0m     \u001b[38;5;129;01mand\u001b[39;00m name \u001b[38;5;129;01mnot\u001b[39;00m \u001b[38;5;129;01min\u001b[39;00m \u001b[38;5;28mself\u001b[39m\u001b[38;5;241m.\u001b[39m_metadata\n\u001b[1;32m   5898\u001b[0m     \u001b[38;5;129;01mand\u001b[39;00m name \u001b[38;5;129;01mnot\u001b[39;00m \u001b[38;5;129;01min\u001b[39;00m \u001b[38;5;28mself\u001b[39m\u001b[38;5;241m.\u001b[39m_accessors\n\u001b[1;32m   5899\u001b[0m     \u001b[38;5;129;01mand\u001b[39;00m \u001b[38;5;28mself\u001b[39m\u001b[38;5;241m.\u001b[39m_info_axis\u001b[38;5;241m.\u001b[39m_can_hold_identifiers_and_holds_name(name)\n\u001b[1;32m   5900\u001b[0m ):\n\u001b[1;32m   5901\u001b[0m     \u001b[38;5;28;01mreturn\u001b[39;00m \u001b[38;5;28mself\u001b[39m[name]\n\u001b[0;32m-> 5902\u001b[0m \u001b[38;5;28;01mreturn\u001b[39;00m \u001b[38;5;28;43mobject\u001b[39;49m\u001b[38;5;241;43m.\u001b[39;49m\u001b[38;5;21;43m__getattribute__\u001b[39;49m\u001b[43m(\u001b[49m\u001b[38;5;28;43mself\u001b[39;49m\u001b[43m,\u001b[49m\u001b[43m \u001b[49m\u001b[43mname\u001b[49m\u001b[43m)\u001b[49m\n",
      "\u001b[0;31mAttributeError\u001b[0m: 'DataFrame' object has no attribute 'target'"
     ]
    }
   ],
   "source": [
    " # moyenne\n",
    "print(\"moyenne\")\n",
    "print(sepal_length.target(0).mean())\n",
    "print(sepal_width.mean())\n",
    "print(petal_length.mean())\n",
    "print(petal_width.mean())"
   ]
  },
  {
   "cell_type": "markdown",
   "id": "15c7a2ea-817e-4f24-bae8-342240fcb79e",
   "metadata": {},
   "source": [
    "- A l'aide des bibliothèques **Seaborn** et **Plotly**, **analyser graphiquement** le **lien** entre la **classe d'Iris** et la **longueur des pétales**"
   ]
  },
  {
   "cell_type": "code",
   "execution_count": null,
   "id": "edc9ff91-95c3-4da9-bbf7-6459d950a920",
   "metadata": {},
   "outputs": [],
   "source": []
  },
  {
   "cell_type": "markdown",
   "id": "39ab08f0-1700-4ad6-b4a9-4147b19a8fac",
   "metadata": {},
   "source": [
    "Source images d'illustration : Image par Manfred Nimbs de Pixabay"
   ]
  }
 ],
 "metadata": {
  "kernelspec": {
   "display_name": "Python 3 (ipykernel)",
   "language": "python",
   "name": "python3"
  },
  "language_info": {
   "codemirror_mode": {
    "name": "ipython",
    "version": 3
   },
   "file_extension": ".py",
   "mimetype": "text/x-python",
   "name": "python",
   "nbconvert_exporter": "python",
   "pygments_lexer": "ipython3",
   "version": "3.10.8"
  }
 },
 "nbformat": 4,
 "nbformat_minor": 5
}
