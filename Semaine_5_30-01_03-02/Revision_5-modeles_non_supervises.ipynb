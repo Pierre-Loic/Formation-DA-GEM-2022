{
 "cells": [
  {
   "cell_type": "markdown",
   "id": "8068dcb3",
   "metadata": {},
   "source": [
    "# Révision 5 : modèles non supervisés\n",
    "\n",
    "<img src=\"https://upload.wikimedia.org/wikipedia/commons/thumb/c/c8/Cluster-2.svg/1200px-Cluster-2.svg.png\" alt=\"cluster\" width=\"400\"/>\n",
    "\n",
    "*Source images d'illustration : Image Wikipedia*\n",
    "\n",
    "#### [Pierre-Loic BAYART](https://www.linkedin.com/in/pierreloicbayart/) - Formation développeur d'applications spécialisation data analyst - Webforce3 - Grenoble Ecole de Management"
   ]
  },
  {
   "cell_type": "markdown",
   "id": "a997c4ce",
   "metadata": {},
   "source": [
    "## Récupération et nettoyage des données\n",
    "\n",
    "- Récupérer le **jeu de données** des résultats des lycées à cette adresse : https://raw.githubusercontent.com/Pierre-Loic/Formation-DA-GEM-2022/main/Datasets/resultat_lycees.csv\n",
    "\n",
    "*Informations sur la source de données : https://www.data.gouv.fr/fr/datasets/indicateurs-de-valeur-ajoutee-des-lycees-denseignement-general-et-technologique/*"
   ]
  },
  {
   "cell_type": "code",
   "execution_count": null,
   "id": "95f6928c",
   "metadata": {},
   "outputs": [],
   "source": [
    "# A COMPLETER"
   ]
  },
  {
   "cell_type": "markdown",
   "id": "c4f167cb",
   "metadata": {},
   "source": [
    "- Sélectionner uniquement les **lycées d'une académie**"
   ]
  },
  {
   "cell_type": "code",
   "execution_count": null,
   "id": "99312cd6",
   "metadata": {},
   "outputs": [],
   "source": [
    "# A COMPLETER"
   ]
  },
  {
   "cell_type": "markdown",
   "id": "0c59ad6c",
   "metadata": {},
   "source": [
    "- Conserver uniquement les colonnes qui ont **moins de 10% de valeurs manquantes**"
   ]
  },
  {
   "cell_type": "code",
   "execution_count": null,
   "id": "b19ae267",
   "metadata": {},
   "outputs": [],
   "source": [
    "# A COMPLETER"
   ]
  },
  {
   "cell_type": "markdown",
   "id": "ba5db9cf",
   "metadata": {},
   "source": [
    "- Créer une **nouvelle colonne** avec le **nom du lycée** et de la **ville**. Ajouter cette colonne comme **index**"
   ]
  },
  {
   "cell_type": "code",
   "execution_count": null,
   "id": "233b2bbc",
   "metadata": {},
   "outputs": [],
   "source": [
    "# A COMPLETER"
   ]
  },
  {
   "cell_type": "markdown",
   "id": "0eab9c69",
   "metadata": {},
   "source": [
    "- Sélectionner uniquement les **données numériques**. Supprimer les colonnes à **variance trop faible**"
   ]
  },
  {
   "cell_type": "code",
   "execution_count": null,
   "id": "2c466341",
   "metadata": {},
   "outputs": [],
   "source": [
    "# A COMPLETER"
   ]
  },
  {
   "cell_type": "markdown",
   "id": "cb127e23",
   "metadata": {},
   "source": [
    "- Traiter les **valeurs manquantes**"
   ]
  },
  {
   "cell_type": "code",
   "execution_count": null,
   "id": "3525dfd4",
   "metadata": {},
   "outputs": [],
   "source": [
    "# A COMPLETER"
   ]
  },
  {
   "cell_type": "markdown",
   "id": "e6b0294b",
   "metadata": {},
   "source": [
    "## K-means clustering\n",
    "\n",
    "- A partir de données calculées précédemment, effectuer un **clustering** à l'aide de l'algorithme de **K-means**. Ajouter un colonne au dataframe pour indiquer le **numéro du cluster de la prédiction** et afficher les données sur un graphique de **nuage de points** de la bibliothèque **Plotly**. Justifier le choix du **meilleur nombre de clusters** (méthode du coude ou score de silhouette).\n",
    "\n",
    "Ressources :\n",
    "    \n",
    "   - [sklearn.preprocessing.StandardScaler](https://scikit-learn.org/stable/modules/generated/sklearn.preprocessing.StandardScaler.html)\n",
    "   - [sklearn.pipeline.make_pipeline](https://scikit-learn.org/stable/modules/generated/sklearn.pipeline.make_pipeline.html)\n",
    "   - [sklearn.cluster.KMeans](https://scikit-learn.org/stable/modules/generated/sklearn.cluster.KMeans.html)\n",
    "   - [sklearn.metrics.silhouette_score](https://scikit-learn.org/stable/modules/generated/sklearn.metrics.silhouette_score.html)\n",
    "   - [Selecting the number of clusters with silhouette analysis on KMeans clustering](https://scikit-learn.org/stable/auto_examples/cluster/plot_kmeans_silhouette_analysis.html)\n",
    "   - [Scatter Plots in Python](https://plotly.com/python/line-and-scatter/)"
   ]
  },
  {
   "cell_type": "code",
   "execution_count": null,
   "id": "158ca4b3",
   "metadata": {},
   "outputs": [],
   "source": [
    "# A COMPLETER"
   ]
  },
  {
   "cell_type": "markdown",
   "id": "3f96bbea",
   "metadata": {},
   "source": [
    "## Clustering hiérarchique\n",
    "\n",
    "- A partir de données calculées précédemment, effectuer un **clustering hiérarchique**. Afficher le **dendrogramme des données**. Valider le nombre de clusters trouvés avec l'algorithme de k-means. Ajouter un colonne au dataframe pour indiquer le **numéro du cluster de la prédiction** et afficher les données sur un graphique de **nuage de points** de la bibliothèque **Plotly**.\n",
    "\n",
    "*Ressources :*\n",
    "\n",
    "   - [scipy.cluster.hierarchy.dendrogram](https://docs.scipy.org/doc/scipy/reference/generated/scipy.cluster.hierarchy.dendrogram.html)\n",
    "   - [scipy.cluster.hierarchy.linkage](https://docs.scipy.org/doc/scipy/reference/generated/scipy.cluster.hierarchy.linkage.html)\n",
    "   - [scipy.cluster.hierarchy.fcluster](https://docs.scipy.org/doc/scipy/reference/generated/scipy.cluster.hierarchy.fcluster.html)"
   ]
  },
  {
   "cell_type": "code",
   "execution_count": null,
   "id": "25f2d163",
   "metadata": {},
   "outputs": [],
   "source": [
    "# A COMPLETER"
   ]
  }
 ],
 "metadata": {
  "kernelspec": {
   "display_name": "Python 3 (ipykernel)",
   "language": "python",
   "name": "python3"
  },
  "language_info": {
   "codemirror_mode": {
    "name": "ipython",
    "version": 3
   },
   "file_extension": ".py",
   "mimetype": "text/x-python",
   "name": "python",
   "nbconvert_exporter": "python",
   "pygments_lexer": "ipython3",
   "version": "3.10.8"
  }
 },
 "nbformat": 4,
 "nbformat_minor": 5
}
