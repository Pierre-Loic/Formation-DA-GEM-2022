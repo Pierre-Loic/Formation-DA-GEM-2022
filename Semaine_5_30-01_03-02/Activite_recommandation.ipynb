{
 "cells": [
  {
   "cell_type": "markdown",
   "id": "11697353",
   "metadata": {
    "id": "11697353"
   },
   "source": [
    "# Activité 5 : modèles de recommandation\n",
    "\n",
    "<img src=\"https://cdn.pixabay.com/photo/2013/07/12/18/38/rating-153609_1280.png\" alt=\"étoile\" width=\"400\"/>\n",
    "\n",
    "#### [Pierre-Loic BAYART](https://www.linkedin.com/in/pierreloicbayart/) - Formation développeur d'applications spécialisation data analyst - Webforce3 - Grenoble Ecole de Management"
   ]
  },
  {
   "cell_type": "markdown",
   "id": "5af4049f",
   "metadata": {
    "id": "5af4049f"
   },
   "source": [
    "## 🔍 Recherche d'informations\n",
    "\n",
    "En recherchant sur le web, trouver les réponses aux questions suivantes :\n",
    "\n",
    "### - Qu'est-ce qu'un système de recommandation ? Donner des exemples d'utilisations\n",
    "___\n",
    "A COMPLETER\n",
    "___\n",
    "### - Comment fonctionne les systèmes de recommandation basés sur le contenu (content based filtering) ? Lister un avantage et un inconvénients de ces systèmes de recommandation\n",
    "___\n",
    "A COMPLETER\n",
    "___\n",
    "### - Comment fonctionne les systèmes de filtrage collaboratif (collaborative filtering) ? Lister un avantage et un inconvénients de ces systèmes de recommandation\n",
    "___\n",
    "A COMPLETER\n",
    "___\n",
    "### - En quoi consiste le problème du \"démarrage à froid\" (cold start) pour les systèmes de recommandation ? Quelle solution peut-on utiliser pour résoudre le problème ?\n",
    "___\n",
    "A COMPLETER\n",
    "___\n",
    "### - A quoi sert la bibliothèque Surprise ?\n",
    "___\n",
    "A COMPLETER\n",
    "___"
   ]
  },
  {
   "cell_type": "markdown",
   "id": "37372757",
   "metadata": {
    "id": "37372757"
   },
   "source": [
    "## ✏️ Activités\n",
    "\n",
    "Ressources : \n",
    "\n",
    "- [Jeu de données complet](https://grouplens.org/datasets/movielens/20m/)\n",
    "- [Base d'inspiration de l'activité](https://github.com/hyunjoonbok/Python-Projects/blob/master/GeneralML/RecommendationModel/Recommendation%20System%20-%20Matrix%20Factoization%20(Collaboratvie%20Filtering)%20using%20Surprise%20Library.ipynb)\n",
    "\n",
    "___\n",
    "\n",
    "- Récupérer les données dans un **dataframe Pandas**"
   ]
  },
  {
   "cell_type": "code",
   "execution_count": null,
   "id": "J-Ss8aZP29Hk",
   "metadata": {
    "id": "J-Ss8aZP29Hk"
   },
   "outputs": [],
   "source": [
    "from io import BytesIO\n",
    "from zipfile import ZipFile\n",
    "from urllib.request import urlopen\n",
    "\n",
    "r = urlopen(\"http://files.grouplens.org/datasets/movielens/ml-latest-small.zip\")\n",
    "zipfile = ZipFile(BytesIO(r.read()))\n",
    "\n",
    "rating_data = pd.read_csv(zipfile.open('ml-latest-small/ratings.csv'))\n",
    "movie_data = pd.read_csv(zipfile.open('ml-latest-small/movies.csv'))"
   ]
  },
  {
   "cell_type": "code",
   "execution_count": null,
   "id": "068f13ae",
   "metadata": {
    "id": "068f13ae"
   },
   "outputs": [],
   "source": [
    "# A COMPLETER"
   ]
  },
  {
   "cell_type": "markdown",
   "id": "65a823cf",
   "metadata": {
    "id": "65a823cf"
   },
   "source": [
    "- Trouver les **valeurs extrêmes** pour les critiques. Afficher la **distribution des valeurs des critiques**"
   ]
  },
  {
   "cell_type": "code",
   "execution_count": null,
   "id": "e92d2762",
   "metadata": {
    "colab": {
     "base_uri": "https://localhost:8080/"
    },
    "id": "e92d2762",
    "outputId": "02a6573b-dfd6-4d74-e673-ca2f708afdc0"
   },
   "outputs": [],
   "source": [
    "# A COMPLETER"
   ]
  },
  {
   "cell_type": "markdown",
   "id": "bc204d35",
   "metadata": {
    "id": "bc204d35"
   },
   "source": [
    "- Trouver la liste des **10 films avec le plus de critiques**"
   ]
  },
  {
   "cell_type": "code",
   "execution_count": null,
   "id": "adb94386",
   "metadata": {
    "colab": {
     "base_uri": "https://localhost:8080/"
    },
    "id": "adb94386",
    "outputId": "7ed51860-78ff-425f-ccf7-7e01d129ac71"
   },
   "outputs": [],
   "source": [
    "# A COMPLETER"
   ]
  },
  {
   "cell_type": "markdown",
   "id": "bb1806e3",
   "metadata": {
    "id": "bb1806e3"
   },
   "source": [
    "- Trouver la liste des **10 films les plus appréciés en moyenne**"
   ]
  },
  {
   "cell_type": "code",
   "execution_count": null,
   "id": "a835d590",
   "metadata": {
    "colab": {
     "base_uri": "https://localhost:8080/"
    },
    "id": "a835d590",
    "outputId": "906ddfeb-56f5-4762-81ce-8e465a99284d"
   },
   "outputs": [],
   "source": [
    "# A COMPLETER"
   ]
  },
  {
   "cell_type": "markdown",
   "id": "3ce92a4d",
   "metadata": {
    "id": "3ce92a4d"
   },
   "source": [
    "- Trouver la liste des **10 films les plus clivants**"
   ]
  },
  {
   "cell_type": "code",
   "execution_count": null,
   "id": "492f0eb0",
   "metadata": {
    "colab": {
     "base_uri": "https://localhost:8080/"
    },
    "id": "492f0eb0",
    "outputId": "d947f62d-83a5-498b-f7fa-82c82750727c"
   },
   "outputs": [],
   "source": [
    "# A COMPLETER"
   ]
  },
  {
   "cell_type": "markdown",
   "id": "87406fa6",
   "metadata": {
    "id": "87406fa6"
   },
   "source": [
    "- Créer un dataframe des films avec **plus de 2 critiques** et les utilisateurs avec plus de **5 critiques**"
   ]
  },
  {
   "cell_type": "code",
   "execution_count": null,
   "id": "67fd8b6a",
   "metadata": {
    "colab": {
     "base_uri": "https://localhost:8080/",
     "height": 424
    },
    "id": "67fd8b6a",
    "outputId": "2574416b-8abe-4165-8697-f8814b091dff"
   },
   "outputs": [],
   "source": [
    "# A COMPLETER"
   ]
  },
  {
   "cell_type": "markdown",
   "id": "9a0f3252",
   "metadata": {
    "id": "9a0f3252"
   },
   "source": [
    "- Parmi ces films, trouver la liste des **10 films** les **plus appréciés en moyenne**, les **moins appréciés en moyenne**, les **plus clivants** et les **moins clivants**"
   ]
  },
  {
   "cell_type": "code",
   "execution_count": null,
   "id": "51f6fffc",
   "metadata": {
    "colab": {
     "base_uri": "https://localhost:8080/"
    },
    "id": "51f6fffc",
    "outputId": "c4ec47ad-eadd-4e10-8750-c23538a8ae6f"
   },
   "outputs": [],
   "source": [
    "# A COMPLETER"
   ]
  },
  {
   "cell_type": "markdown",
   "id": "b7b25ea2",
   "metadata": {
    "id": "b7b25ea2"
   },
   "source": [
    "- Créer une **matrice** avec les **colonnes** correspondant aux **id des films** et les **lignes** aux **id des utilisateurs** (matrice creuse)"
   ]
  },
  {
   "cell_type": "code",
   "execution_count": null,
   "id": "cb420f62",
   "metadata": {
    "id": "cb420f62"
   },
   "outputs": [],
   "source": [
    "# A COMPLETER"
   ]
  },
  {
   "cell_type": "markdown",
   "id": "Ae7llZgg7VNq",
   "metadata": {
    "id": "Ae7llZgg7VNq"
   },
   "source": [
    "- A l'aide de la bibliothèque **surprise**, entrainer un **modèle SVD**"
   ]
  },
  {
   "cell_type": "code",
   "execution_count": null,
   "id": "24854011",
   "metadata": {
    "id": "24854011"
   },
   "outputs": [],
   "source": [
    "# A COMPLETER"
   ]
  },
  {
   "cell_type": "markdown",
   "id": "0-PXPYEh_1EU",
   "metadata": {
    "id": "0-PXPYEh_1EU"
   },
   "source": [
    "- Trouver le meilleur **nombre de facteurs latents** grâce à une **recherche par grille**"
   ]
  },
  {
   "cell_type": "code",
   "execution_count": null,
   "id": "aKdX_UkDAOak",
   "metadata": {
    "id": "aKdX_UkDAOak"
   },
   "outputs": [],
   "source": [
    "# A COMPLETER"
   ]
  },
  {
   "cell_type": "markdown",
   "id": "JWbSyl_nAgYx",
   "metadata": {
    "id": "JWbSyl_nAgYx"
   },
   "source": [
    "- Entrainer le **modèle SVD** avec le **nombre de facteurs latents** trouvés à la **question précédente**"
   ]
  },
  {
   "cell_type": "code",
   "execution_count": null,
   "id": "gxWcc9jOAghq",
   "metadata": {
    "colab": {
     "base_uri": "https://localhost:8080/"
    },
    "id": "gxWcc9jOAghq",
    "outputId": "b9bd73b7-0277-4046-db6e-9084299343ea"
   },
   "outputs": [],
   "source": [
    "# A COMPLETER"
   ]
  },
  {
   "cell_type": "markdown",
   "id": "ielJ9A0PEPRK",
   "metadata": {
    "id": "ielJ9A0PEPRK"
   },
   "source": [
    "- Utiliser le code suivant pour effectuer une **recommandation par utilisateur**"
   ]
  },
  {
   "cell_type": "code",
   "execution_count": null,
   "id": "6RehmrGeEPZ1",
   "metadata": {
    "id": "6RehmrGeEPZ1"
   },
   "outputs": [],
   "source": [
    "from collections import defaultdict\n",
    "\n",
    "def get_top_n(predictions, userId, movies_df, ratings_df, n = 10):\n",
    "    '''Return the top N (default) movieId for a user,.i.e. userID and history for comparisom\n",
    "    Args:\n",
    "    Returns: \n",
    "  \n",
    "    '''\n",
    "    #Peart I.: Surprise docomuntation\n",
    "    \n",
    "    #1. First map the predictions to each user.\n",
    "    top_n = defaultdict(list)\n",
    "    for uid, iid, true_r, est, _ in predictions:\n",
    "        top_n[uid].append((iid, est))\n",
    "\n",
    "    #2. Then sort the predictions for each user and retrieve the k highest ones.\n",
    "    for uid, user_ratings in top_n.items():\n",
    "        user_ratings.sort(key = lambda x: x[1], reverse = True)\n",
    "        top_n[uid] = user_ratings[: n ]\n",
    "    \n",
    "    #Part II.: inspired by: https://beckernick.github.io/matrix-factorization-recommender/\n",
    "    \n",
    "    #3. Tells how many movies the user has already rated\n",
    "    user_data = ratings_df[ratings_df.userId == (userId)]\n",
    "    print('User {0} has already rated {1} movies.'.format(userId, user_data.shape[0]))\n",
    "\n",
    "    \n",
    "    #4. Data Frame with predictions. \n",
    "    preds_df = pd.DataFrame([(id, pair[0],pair[1]) for id, row in top_n.items() for pair in row],\n",
    "                        columns=[\"userId\" ,\"movieId\",\"rat_pred\"])\n",
    "    \n",
    "    \n",
    "    #5. Return pred_usr, i.e. top N recommended movies with (merged) titles and genres. \n",
    "    pred_usr = preds_df[preds_df[\"userId\"] == (userId)].merge(movies_df, how = 'left', left_on = 'movieId', right_on = 'movieId')\n",
    "            \n",
    "    #6. Return hist_usr, i.e. top N historically rated movies with (merged) titles and genres for holistic evaluation\n",
    "    hist_usr = ratings_df[ratings_df.userId == (userId) ].sort_values(\"rating\", ascending = False).merge\\\n",
    "    (movies_df, how = 'left', left_on = 'movieId', right_on = 'movieId')\n",
    "    \n",
    "    \n",
    "    return hist_usr, pred_usr"
   ]
  },
  {
   "cell_type": "code",
   "execution_count": null,
   "id": "paMn4sVPETCp",
   "metadata": {
    "colab": {
     "base_uri": "https://localhost:8080/",
     "height": 537
    },
    "id": "paMn4sVPETCp",
    "outputId": "a3fc76e0-7f1f-4547-9fea-b1b84b3a224d"
   },
   "outputs": [],
   "source": [
    "# A COMPLETER"
   ]
  },
  {
   "cell_type": "markdown",
   "id": "ec343372",
   "metadata": {
    "id": "ec343372"
   },
   "source": [
    "## 🚀 Pour aller plus loin\n",
    "\n",
    "- [Recommender system - Wikipedia](https://en.wikipedia.org/wiki/Recommender_system)"
   ]
  },
  {
   "cell_type": "markdown",
   "id": "d06d23cd",
   "metadata": {
    "id": "d06d23cd"
   },
   "source": [
    "___\n",
    "*👨‍🏫 [Pierre-Loic BAYART](https://www.linkedin.com/in/pierreloicbayart/) - Formation développeur d'applications spécialisation data analyst - Webforce3 - Grenoble Ecole de Management*\n",
    "___\n",
    "Source images d'illustration : Image par OpenClipart-Vectors de Pixabay"
   ]
  }
 ],
 "metadata": {
  "colab": {
   "provenance": []
  },
  "kernelspec": {
   "display_name": "Python 3 (ipykernel)",
   "language": "python",
   "name": "python3"
  },
  "language_info": {
   "codemirror_mode": {
    "name": "ipython",
    "version": 3
   },
   "file_extension": ".py",
   "mimetype": "text/x-python",
   "name": "python",
   "nbconvert_exporter": "python",
   "pygments_lexer": "ipython3",
   "version": "3.10.8"
  }
 },
 "nbformat": 4,
 "nbformat_minor": 5
}
