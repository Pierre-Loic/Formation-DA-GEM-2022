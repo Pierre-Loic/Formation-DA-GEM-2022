{
 "cells": [
  {
   "cell_type": "markdown",
   "id": "a8e862fd",
   "metadata": {},
   "source": [
    "# Révision 1 : la bibliothèque Numpy\n",
    "\n",
    "<img src=\"https://upload.wikimedia.org/wikipedia/commons/thumb/3/31/NumPy_logo_2020.svg/512px-NumPy_logo_2020.svg.png\" alt=\"numpy\" width=\"400\"/>\n",
    "\n",
    "#### [Pierre-Loic BAYART](https://www.linkedin.com/in/pierreloicbayart/) - Formation développeur d'applications spécialisation data analyst - Webforce3 - Grenoble Ecole de Management\n",
    "\n",
    "## Création de tableaux Numpy\n",
    "\n",
    "- **Import** de la bibliothèque avec son **alias** et vérification de la **version**"
   ]
  },
  {
   "cell_type": "code",
   "execution_count": 1,
   "id": "92828b82",
   "metadata": {},
   "outputs": [
    {
     "name": "stdout",
     "output_type": "stream",
     "text": [
      "1.23.5\n"
     ]
    }
   ],
   "source": [
    "import numpy as np\n",
    "print(np.__version__)"
   ]
  },
  {
   "cell_type": "markdown",
   "id": "71f4fee0",
   "metadata": {},
   "source": [
    "- Création d'un tableau Numpy à partir d'une **liste Python**"
   ]
  },
  {
   "cell_type": "code",
   "execution_count": 2,
   "id": "266f0819",
   "metadata": {},
   "outputs": [
    {
     "data": {
      "text/plain": [
       "(array([1, 8, 9]), dtype('int32'), 12)"
      ]
     },
     "execution_count": 2,
     "metadata": {},
     "output_type": "execute_result"
    }
   ],
   "source": [
    "array_1 = np.array([1, 8, 9])\n",
    "array_1, array_1.dtype, array_1.nbytes"
   ]
  },
  {
   "cell_type": "code",
   "execution_count": 3,
   "id": "1bbdc2ba",
   "metadata": {},
   "outputs": [
    {
     "data": {
      "text/plain": [
       "(array([1, 8, 9], dtype=int16), dtype('int16'), 6)"
      ]
     },
     "execution_count": 3,
     "metadata": {},
     "output_type": "execute_result"
    }
   ],
   "source": [
    "array_1 = np.array([1, 8, 9], dtype=\"int16\")\n",
    "array_1, array_1.dtype, array_1.nbytes"
   ]
  },
  {
   "cell_type": "code",
   "execution_count": 4,
   "id": "673570d4",
   "metadata": {},
   "outputs": [
    {
     "data": {
      "text/plain": [
       "(array([1., 2., 3.]), dtype('float64'))"
      ]
     },
     "execution_count": 4,
     "metadata": {},
     "output_type": "execute_result"
    }
   ],
   "source": [
    "# Typage le plus contraignant\n",
    "arr = np.array([1, 2, 3.0])\n",
    "arr, arr.dtype"
   ]
  },
  {
   "cell_type": "markdown",
   "id": "c52c9f95",
   "metadata": {},
   "source": [
    "- Création de **tableau Numpy** à partir de **fonctions Numpy**"
   ]
  },
  {
   "cell_type": "code",
   "execution_count": 5,
   "id": "7b4f9e67",
   "metadata": {},
   "outputs": [
    {
     "data": {
      "text/plain": [
       "array([0., 0., 0., 0., 0.])"
      ]
     },
     "execution_count": 5,
     "metadata": {},
     "output_type": "execute_result"
    }
   ],
   "source": [
    "# Tableau de 0\n",
    "np.zeros(5)"
   ]
  },
  {
   "cell_type": "code",
   "execution_count": 6,
   "id": "8bb49a21",
   "metadata": {},
   "outputs": [
    {
     "data": {
      "text/plain": [
       "array([[1., 1., 1., 1., 1.],\n",
       "       [1., 1., 1., 1., 1.],\n",
       "       [1., 1., 1., 1., 1.]])"
      ]
     },
     "execution_count": 6,
     "metadata": {},
     "output_type": "execute_result"
    }
   ],
   "source": [
    "# Tableau de 1\n",
    "np.ones((3, 5))"
   ]
  },
  {
   "cell_type": "code",
   "execution_count": 7,
   "id": "f4264102",
   "metadata": {},
   "outputs": [
    {
     "data": {
      "text/plain": [
       "(array([0., 0., 0., 0., 0.]), array([1., 1., 1., 1., 1.]))"
      ]
     },
     "execution_count": 7,
     "metadata": {},
     "output_type": "execute_result"
    }
   ],
   "source": [
    "# Tableau de 1 de même dimension (existe aussi empty_like, zeros_like, full_like)\n",
    "zero = np.zeros(5)\n",
    "zero, np.ones_like(zero)"
   ]
  },
  {
   "cell_type": "code",
   "execution_count": 8,
   "id": "243b74a9",
   "metadata": {},
   "outputs": [
    {
     "data": {
      "text/plain": [
       "array([[1., 1., 1., 1., 1.],\n",
       "       [1., 1., 1., 1., 1.],\n",
       "       [1., 1., 1., 1., 1.]])"
      ]
     },
     "execution_count": 8,
     "metadata": {},
     "output_type": "execute_result"
    }
   ],
   "source": [
    "# Tableau non initialisé (petit gain de temps à la création)\n",
    "np.empty((3, 5))"
   ]
  },
  {
   "cell_type": "code",
   "execution_count": 9,
   "id": "0371a6c9",
   "metadata": {},
   "outputs": [
    {
     "data": {
      "text/plain": [
       "array([[10.5, 10.5, 10.5, 10.5, 10.5],\n",
       "       [10.5, 10.5, 10.5, 10.5, 10.5],\n",
       "       [10.5, 10.5, 10.5, 10.5, 10.5]])"
      ]
     },
     "execution_count": 9,
     "metadata": {},
     "output_type": "execute_result"
    }
   ],
   "source": [
    "# Tableau de constantes\n",
    "np.full((3, 5), 10.5)"
   ]
  },
  {
   "cell_type": "code",
   "execution_count": 10,
   "id": "be47351d",
   "metadata": {},
   "outputs": [
    {
     "data": {
      "text/plain": [
       "array([[0.54587679, 0.11011045, 0.18083963],\n",
       "       [0.30286428, 0.6877064 , 0.64831136],\n",
       "       [0.2564825 , 0.00602657, 0.25785916]])"
      ]
     },
     "execution_count": 10,
     "metadata": {},
     "output_type": "execute_result"
    }
   ],
   "source": [
    "# Tableau de nombres aléatoires uniforme entre 0 et 1\n",
    "np.random.random((3, 3))"
   ]
  },
  {
   "cell_type": "code",
   "execution_count": 11,
   "id": "c05a54d9",
   "metadata": {},
   "outputs": [
    {
     "data": {
      "text/plain": [
       "array([-1.38499665,  0.09835093, -0.12441976])"
      ]
     },
     "execution_count": 11,
     "metadata": {},
     "output_type": "execute_result"
    }
   ],
   "source": [
    "# Tableau de nombres aléatoires loi normale\n",
    "np.random.randn(3)"
   ]
  },
  {
   "cell_type": "code",
   "execution_count": 12,
   "id": "896db2f6",
   "metadata": {},
   "outputs": [
    {
     "data": {
      "text/plain": [
       "array([6, 8, 3, 3, 5, 7])"
      ]
     },
     "execution_count": 12,
     "metadata": {},
     "output_type": "execute_result"
    }
   ],
   "source": [
    "# Tableau de nombres aléatoires uniforme entre deux bornes\n",
    "np.random.randint(3, 10, size=6)"
   ]
  },
  {
   "cell_type": "code",
   "execution_count": 13,
   "id": "5da783bd",
   "metadata": {},
   "outputs": [
    {
     "data": {
      "text/plain": [
       "array([[1., 0., 0., 0., 0.],\n",
       "       [0., 1., 0., 0., 0.],\n",
       "       [0., 0., 1., 0., 0.],\n",
       "       [0., 0., 0., 1., 0.],\n",
       "       [0., 0., 0., 0., 1.]])"
      ]
     },
     "execution_count": 13,
     "metadata": {},
     "output_type": "execute_result"
    }
   ],
   "source": [
    "# Matrice identité\n",
    "np.eye(5)"
   ]
  },
  {
   "cell_type": "code",
   "execution_count": 14,
   "id": "df8bd684",
   "metadata": {},
   "outputs": [
    {
     "data": {
      "text/plain": [
       "array([1, 3, 5, 7, 9])"
      ]
     },
     "execution_count": 14,
     "metadata": {},
     "output_type": "execute_result"
    }
   ],
   "source": [
    "# Suite de nombres entiers (comme range en Python standard)\n",
    "np.arange(1, 10, 2)"
   ]
  },
  {
   "cell_type": "code",
   "execution_count": 15,
   "id": "30f71f8a",
   "metadata": {},
   "outputs": [
    {
     "data": {
      "text/plain": [
       "array([ 0. ,  2.5,  5. ,  7.5, 10. ])"
      ]
     },
     "execution_count": 15,
     "metadata": {},
     "output_type": "execute_result"
    }
   ],
   "source": [
    "# Suite de nombres espacés uniformément\n",
    "np.linspace(0, 10, 5)"
   ]
  },
  {
   "cell_type": "markdown",
   "id": "5fba64f7",
   "metadata": {},
   "source": [
    "## Propriétés des tableaux Numpy"
   ]
  },
  {
   "cell_type": "code",
   "execution_count": 16,
   "id": "a69220c2",
   "metadata": {},
   "outputs": [
    {
     "data": {
      "text/plain": [
       "array([[[0.1504547 , 0.6987096 ],\n",
       "        [0.51492037, 0.25273601],\n",
       "        [0.42129869, 0.78363255]],\n",
       "\n",
       "       [[0.60019616, 0.23827322],\n",
       "        [0.264075  , 0.49465843],\n",
       "        [0.71496203, 0.63001784]],\n",
       "\n",
       "       [[0.61667011, 0.46909905],\n",
       "        [0.12372677, 0.00441394],\n",
       "        [0.44961723, 0.83273682]]])"
      ]
     },
     "execution_count": 16,
     "metadata": {},
     "output_type": "execute_result"
    }
   ],
   "source": [
    "data = np.random.random((3, 3, 2))\n",
    "data"
   ]
  },
  {
   "cell_type": "code",
   "execution_count": 17,
   "id": "8b1a7007",
   "metadata": {},
   "outputs": [
    {
     "name": "stdout",
     "output_type": "stream",
     "text": [
      "Nombre de dimensions : 3\n",
      "Taille de chaque dimension : (3, 3, 2)\n",
      "Nombre d'élèments au total : 18\n",
      "Type de données : float64\n"
     ]
    }
   ],
   "source": [
    "print(f\"Nombre de dimensions : {data.ndim}\")\n",
    "print(f\"Taille de chaque dimension : {data.shape}\")\n",
    "print(f\"Nombre d'élèments au total : {data.size}\")\n",
    "print(f\"Type de données : {data.dtype}\")"
   ]
  },
  {
   "cell_type": "markdown",
   "id": "dba3a35e",
   "metadata": {},
   "source": [
    "## Indexation et slicing des tableaux Numpy\n",
    "\n",
    "L'**indexation** et le **slicing** de tableaux Numpy s'effectuent **comme avec les listes Python**"
   ]
  },
  {
   "cell_type": "code",
   "execution_count": 18,
   "id": "f1e37696",
   "metadata": {},
   "outputs": [
    {
     "data": {
      "text/plain": [
       "array([0, 1, 2, 3, 4, 5, 6, 7, 8, 9])"
      ]
     },
     "execution_count": 18,
     "metadata": {},
     "output_type": "execute_result"
    }
   ],
   "source": [
    "arr = np.arange(10)\n",
    "arr"
   ]
  },
  {
   "cell_type": "code",
   "execution_count": 19,
   "id": "4aafc099",
   "metadata": {},
   "outputs": [
    {
     "name": "stdout",
     "output_type": "stream",
     "text": [
      "Premier élément : 0\n",
      "Dernier élément : 9\n",
      "Tableau à partir du troisième élément : [2 3 4 5 6 7 8 9]\n"
     ]
    }
   ],
   "source": [
    "print(f\"Premier élément : {arr[0]}\")\n",
    "print(f\"Dernier élément : {arr[-1]}\")\n",
    "print(f\"Tableau à partir du troisième élément : {arr[2:]}\")"
   ]
  },
  {
   "cell_type": "markdown",
   "id": "747cbc12",
   "metadata": {},
   "source": [
    "## ✏️ Exercice\n",
    "\n",
    "Transformer la **matrice identité 5x5** en une **croix de 1** (ajout de la seconde diagonale)"
   ]
  },
  {
   "cell_type": "code",
   "execution_count": 20,
   "id": "808fc097",
   "metadata": {},
   "outputs": [
    {
     "data": {
      "text/plain": [
       "array([[1., 0., 0., 0., 1.],\n",
       "       [0., 1., 0., 1., 0.],\n",
       "       [0., 0., 1., 0., 0.],\n",
       "       [0., 1., 0., 1., 0.],\n",
       "       [1., 0., 0., 0., 1.]])"
      ]
     },
     "execution_count": 20,
     "metadata": {},
     "output_type": "execute_result"
    }
   ],
   "source": [
    "arr = np.eye(5)\n",
    "for i in range(5):\n",
    "    arr[i,-i-1] = 1\n",
    "arr"
   ]
  },
  {
   "cell_type": "code",
   "execution_count": 21,
   "id": "3882204d",
   "metadata": {},
   "outputs": [
    {
     "data": {
      "text/plain": [
       "array([[1, 0, 0, 0, 1],\n",
       "       [0, 1, 0, 1, 0],\n",
       "       [0, 0, 1, 0, 0],\n",
       "       [0, 1, 0, 1, 0],\n",
       "       [1, 0, 0, 0, 1]])"
      ]
     },
     "execution_count": 21,
     "metadata": {},
     "output_type": "execute_result"
    }
   ],
   "source": [
    "np.logical_or(np.eye(5),np.eye(5)[::-1]).astype(\"int\")"
   ]
  },
  {
   "cell_type": "markdown",
   "id": "e9d5c4cb",
   "metadata": {},
   "source": [
    "## Concaténation de tableaux Numpy\n",
    "\n",
    "Ressources :\n",
    "\n",
    "- https://numpy.org/doc/stable/reference/generated/numpy.concatenate.html\n",
    "- https://numpy.org/doc/stable/reference/generated/numpy.hstack.html\n",
    "- https://numpy.org/doc/stable/reference/generated/numpy.vstack.html"
   ]
  },
  {
   "cell_type": "code",
   "execution_count": null,
   "id": "0486ba7b",
   "metadata": {},
   "outputs": [],
   "source": [
    "a = np.array([[1, 2], [3, 4]])\n",
    "b = np.array([[5, 6]])\n",
    "np.concatenate((a, b), axis=0)"
   ]
  },
  {
   "cell_type": "code",
   "execution_count": null,
   "id": "dfa7fa18",
   "metadata": {},
   "outputs": [],
   "source": [
    "a = np.array([[1, 2], [3, 4]])\n",
    "b = np.array([[5, 6]])\n",
    "np.concatenate((a, b.T), axis=1)"
   ]
  },
  {
   "cell_type": "code",
   "execution_count": null,
   "id": "5084bfb5",
   "metadata": {},
   "outputs": [],
   "source": [
    "a = np.array([[1, 2], [3, 4]])\n",
    "b = np.array([[5, 6]])\n",
    "np.vstack([a, b])"
   ]
  },
  {
   "cell_type": "code",
   "execution_count": null,
   "id": "ff722f91",
   "metadata": {},
   "outputs": [],
   "source": [
    "a = np.array([[1, 2], [3, 4]])\n",
    "b = np.array([[5, 6]])\n",
    "np.hstack([a, b.T])"
   ]
  },
  {
   "cell_type": "markdown",
   "id": "888bfe0e",
   "metadata": {},
   "source": [
    "## Masques booléens\n",
    "\n",
    "Ressources :\n",
    "\n",
    "- https://numpy.org/doc/stable/reference/generated/numpy.where.html"
   ]
  },
  {
   "cell_type": "code",
   "execution_count": null,
   "id": "17567414",
   "metadata": {},
   "outputs": [],
   "source": [
    "x = np.random.rand(5, 3)\n",
    "x"
   ]
  },
  {
   "cell_type": "code",
   "execution_count": null,
   "id": "0311797d",
   "metadata": {},
   "outputs": [],
   "source": [
    "x > 0.8"
   ]
  },
  {
   "cell_type": "code",
   "execution_count": null,
   "id": "5d1f356a",
   "metadata": {},
   "outputs": [],
   "source": [
    "x[x > 0.8]"
   ]
  },
  {
   "cell_type": "code",
   "execution_count": null,
   "id": "212b5d09",
   "metadata": {},
   "outputs": [],
   "source": [
    "np.where(x > 0.8)"
   ]
  },
  {
   "cell_type": "markdown",
   "id": "5ab223c4",
   "metadata": {},
   "source": [
    "## Calculs sur les tableaux Numpy"
   ]
  },
  {
   "cell_type": "code",
   "execution_count": null,
   "id": "8ecdd657",
   "metadata": {},
   "outputs": [],
   "source": [
    "# Multiplication par un scalaire\n",
    "arr = np.arange(10)\n",
    "arr * 10"
   ]
  },
  {
   "cell_type": "code",
   "execution_count": null,
   "id": "45b00346",
   "metadata": {},
   "outputs": [],
   "source": [
    "# Division par un scalaire\n",
    "arr = np.arange(10)\n",
    "arr / 10"
   ]
  },
  {
   "cell_type": "code",
   "execution_count": null,
   "id": "abca73b4",
   "metadata": {},
   "outputs": [],
   "source": [
    "# Addition d'un scalaire\n",
    "arr = np.arange(10)\n",
    "arr + 10"
   ]
  },
  {
   "cell_type": "code",
   "execution_count": null,
   "id": "6f78bdcb",
   "metadata": {},
   "outputs": [],
   "source": [
    "# Soustraction d'un scalaire\n",
    "arr = np.arange(10)\n",
    "arr - 10"
   ]
  },
  {
   "cell_type": "code",
   "execution_count": null,
   "id": "6e3313d9",
   "metadata": {},
   "outputs": [],
   "source": [
    "# Modulo\n",
    "arr = np.arange(10)\n",
    "arr % 3"
   ]
  },
  {
   "cell_type": "code",
   "execution_count": null,
   "id": "7e24f38e",
   "metadata": {},
   "outputs": [],
   "source": [
    "arr_1 = np.arange(10)\n",
    "arr_2 = np.arange(10, 20)\n",
    "arr_1, arr_2"
   ]
  },
  {
   "cell_type": "code",
   "execution_count": null,
   "id": "0eee6a98",
   "metadata": {},
   "outputs": [],
   "source": [
    "# Multiplication de deux tableaux\n",
    "arr_1 * arr_2"
   ]
  },
  {
   "cell_type": "code",
   "execution_count": null,
   "id": "0c67aa00",
   "metadata": {},
   "outputs": [],
   "source": [
    "# Division de deux tableaux\n",
    "arr_1 / arr_2"
   ]
  },
  {
   "cell_type": "code",
   "execution_count": null,
   "id": "4dfb5c54",
   "metadata": {},
   "outputs": [],
   "source": [
    "# Addition de deux tableaux\n",
    "arr_1 + arr_2"
   ]
  },
  {
   "cell_type": "code",
   "execution_count": null,
   "id": "49a6c39f",
   "metadata": {},
   "outputs": [],
   "source": [
    "# Soustraction de deux tableaux\n",
    "arr_1 - arr_2"
   ]
  },
  {
   "cell_type": "code",
   "execution_count": null,
   "id": "42e1864a",
   "metadata": {},
   "outputs": [],
   "source": [
    "arr_1 = np.ones((2, 3))\n",
    "arr_2 = np.arange(6).reshape((3, 2))\n",
    "arr_1, arr_2"
   ]
  },
  {
   "cell_type": "code",
   "execution_count": null,
   "id": "916d7cf6",
   "metadata": {},
   "outputs": [],
   "source": [
    "# Produit matriciel\n",
    "np.dot(arr_1, arr_2)"
   ]
  },
  {
   "cell_type": "code",
   "execution_count": null,
   "id": "afce34d7",
   "metadata": {},
   "outputs": [],
   "source": [
    "# Produit matriciel\n",
    "arr_1 @ arr_2"
   ]
  },
  {
   "cell_type": "markdown",
   "id": "a9a6a447",
   "metadata": {},
   "source": [
    "## 🏅 Exercice bilan\n",
    "\n",
    "**Calculer manuellement la trace** (somme des élèments diagonaux) de la matrice suivante. Vérifier à l'aide de la function [numpy.trace](https://numpy.org/doc/stable/reference/generated/numpy.trace.html)"
   ]
  },
  {
   "cell_type": "code",
   "execution_count": 22,
   "id": "29d0bb24",
   "metadata": {},
   "outputs": [],
   "source": [
    "matrix = np.array([\n",
    "        [12, 8, 7],\n",
    "        [7, 15, 16],\n",
    "        [-1, 32, -8],\n",
    "])"
   ]
  },
  {
   "cell_type": "code",
   "execution_count": 23,
   "id": "23def047",
   "metadata": {},
   "outputs": [
    {
     "name": "stdout",
     "output_type": "stream",
     "text": [
      "19\n"
     ]
    }
   ],
   "source": [
    "trace = 0\n",
    "for i in range(matrix.shape[0]):\n",
    "    trace += matrix[i, i]\n",
    "print(trace)"
   ]
  },
  {
   "cell_type": "code",
   "execution_count": 25,
   "id": "01db2b39",
   "metadata": {},
   "outputs": [
    {
     "data": {
      "text/plain": [
       "19"
      ]
     },
     "execution_count": 25,
     "metadata": {},
     "output_type": "execute_result"
    }
   ],
   "source": [
    "sum([matrix[i, i] for i in range(matrix.shape[0])])"
   ]
  },
  {
   "cell_type": "code",
   "execution_count": 24,
   "id": "d4801d88",
   "metadata": {},
   "outputs": [
    {
     "data": {
      "text/plain": [
       "19"
      ]
     },
     "execution_count": 24,
     "metadata": {},
     "output_type": "execute_result"
    }
   ],
   "source": [
    "np.trace(matrix)"
   ]
  },
  {
   "cell_type": "code",
   "execution_count": null,
   "id": "a7b82c6a",
   "metadata": {},
   "outputs": [],
   "source": []
  }
 ],
 "metadata": {
  "kernelspec": {
   "display_name": "Python 3 (ipykernel)",
   "language": "python",
   "name": "python3"
  },
  "language_info": {
   "codemirror_mode": {
    "name": "ipython",
    "version": 3
   },
   "file_extension": ".py",
   "mimetype": "text/x-python",
   "name": "python",
   "nbconvert_exporter": "python",
   "pygments_lexer": "ipython3",
   "version": "3.9.6"
  }
 },
 "nbformat": 4,
 "nbformat_minor": 5
}
