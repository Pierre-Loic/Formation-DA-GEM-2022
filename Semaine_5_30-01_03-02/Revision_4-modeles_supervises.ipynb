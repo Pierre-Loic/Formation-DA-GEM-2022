{
 "cells": [
  {
   "cell_type": "markdown",
   "id": "66c9747c",
   "metadata": {},
   "source": [
    "# Révision 4 : modèles supervisés\n",
    "\n",
    "<img src=\"https://cdn.pixabay.com/photo/2017/01/31/18/16/blackboard-2026160_960_720.png\" alt=\"carte\" width=\"400\"/>\n",
    "\n",
    "*Source : Image par OpenClipart-Vectors de Pixabay*\n",
    "\n",
    "#### [Pierre-Loic BAYART](https://www.linkedin.com/in/pierreloicbayart/) - Formation développeur d'applications spécialisation data analyst - Webforce3 - Grenoble Ecole de Management\n",
    "\n",
    "## Récupération et préparation des données\n",
    "\n",
    "- Récupération du **dataset du Titanic** : https://raw.githubusercontent.com/Pierre-Loic/Formation-DA-GEM-2022/main/Datasets/titanic.csv"
   ]
  },
  {
   "cell_type": "code",
   "execution_count": null,
   "id": "00efab6b",
   "metadata": {},
   "outputs": [],
   "source": [
    "import pandas as pd"
   ]
  },
  {
   "cell_type": "code",
   "execution_count": null,
   "id": "a12be829",
   "metadata": {},
   "outputs": [],
   "source": [
    "url = \"https://raw.githubusercontent.com/Pierre-Loic/Formation-DA-GEM-2022/main/Datasets/titanic.csv\"\n",
    "df = pd.read_csv(url, index_col=\"PassengerId\", usecols=[\"Survived\", \"Pclass\", \"Sex\", \"Fare\", \"PassengerId\", \"Age\"])\n",
    "df"
   ]
  },
  {
   "cell_type": "markdown",
   "id": "f4ec9510",
   "metadata": {},
   "source": [
    "- Analyse des **données manquantes**"
   ]
  },
  {
   "cell_type": "code",
   "execution_count": null,
   "id": "8a2b713a",
   "metadata": {},
   "outputs": [],
   "source": [
    "df.isna().sum()"
   ]
  },
  {
   "cell_type": "markdown",
   "id": "3563617e",
   "metadata": {},
   "source": [
    "## Modèles de régression\n",
    "\n",
    "## ✏️ Exercice\n",
    "\n",
    "**Entrainer** et **évaluer 3 modèles de régression** pour prédire le **prix des billets** connaissant le **sexe**, la **classe** et si la personne a **survécu**. Optimiser les **hyperparamètres**."
   ]
  },
  {
   "cell_type": "code",
   "execution_count": null,
   "id": "d80450e4",
   "metadata": {},
   "outputs": [],
   "source": [
    "# A COMPLETER"
   ]
  },
  {
   "cell_type": "markdown",
   "id": "80ae44b6",
   "metadata": {},
   "source": [
    "## Modèles de classification\n",
    "\n",
    "## ✏️ Exercice\n",
    "\n",
    "**Entrainer** et **évaluer 3 modèles de classification** pour prédire si la personne a survécu connaissant le **sexe**, la **classe** et le **prix** du billet. Optimiser les **hyperparamètres**."
   ]
  },
  {
   "cell_type": "code",
   "execution_count": null,
   "id": "e630543a",
   "metadata": {},
   "outputs": [],
   "source": [
    "# A COMPLETER"
   ]
  }
 ],
 "metadata": {
  "kernelspec": {
   "display_name": "Python 3 (ipykernel)",
   "language": "python",
   "name": "python3"
  },
  "language_info": {
   "codemirror_mode": {
    "name": "ipython",
    "version": 3
   },
   "file_extension": ".py",
   "mimetype": "text/x-python",
   "name": "python",
   "nbconvert_exporter": "python",
   "pygments_lexer": "ipython3",
   "version": "3.10.8"
  }
 },
 "nbformat": 4,
 "nbformat_minor": 5
}
