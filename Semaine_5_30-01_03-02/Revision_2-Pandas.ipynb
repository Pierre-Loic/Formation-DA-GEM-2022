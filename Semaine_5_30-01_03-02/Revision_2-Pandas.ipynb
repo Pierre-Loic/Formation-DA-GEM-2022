{
 "cells": [
  {
   "cell_type": "markdown",
   "id": "d73b5a66",
   "metadata": {},
   "source": [
    "# Révision 2 : la bibliothèque Pandas\n",
    "\n",
    "<img src=\"https://upload.wikimedia.org/wikipedia/commons/thumb/e/ed/Pandas_logo.svg/450px-Pandas_logo.svg.png\" alt=\"pandas\" width=\"400\"/>\n",
    "\n",
    "#### [Pierre-Loic BAYART](https://www.linkedin.com/in/pierreloicbayart/) - Formation développeur d'applications spécialisation data analyst - Webforce3 - Grenoble Ecole de Management\n",
    "\n",
    "## Création de dataframes Pandas\n",
    "\n",
    "- **Import** de la bibliothèque avec son **alias** et vérification de la **version**"
   ]
  },
  {
   "cell_type": "code",
   "execution_count": null,
   "id": "edfe34a7",
   "metadata": {},
   "outputs": [],
   "source": [
    "import numpy as np\n",
    "import pandas as pd\n",
    "\n",
    "print(f\"Version de la bibliothèque Numpy : {np.__version__}\")\n",
    "print(f\"Version de la bibliothèque Pandas : {pd.__version__}\")"
   ]
  },
  {
   "cell_type": "markdown",
   "id": "d6f7d03d",
   "metadata": {},
   "source": [
    "- Création d'un **dataframe Pandas** à partir d'un **dictionnaire**\n",
    "\n",
    "Ressources :\n",
    "\n",
    "- https://pandas.pydata.org/docs/reference/api/pandas.DataFrame.html"
   ]
  },
  {
   "cell_type": "code",
   "execution_count": null,
   "id": "a5467f72",
   "metadata": {},
   "outputs": [],
   "source": [
    "data = {\n",
    "    \"id\" : range(5),\n",
    "    \"name\" : [f\"nom_{i}\" for i in range(5)],\n",
    "}\n",
    "df = pd.DataFrame(data)\n",
    "df"
   ]
  },
  {
   "cell_type": "markdown",
   "id": "912f13a4",
   "metadata": {},
   "source": [
    "- Création d'un **dataframe Pandas** à partir d'une **liste**"
   ]
  },
  {
   "cell_type": "code",
   "execution_count": null,
   "id": "9641bc8f",
   "metadata": {},
   "outputs": [],
   "source": [
    "data = [\n",
    "    range(5),\n",
    "    [f\"nom_{i}\" for i in range(5)],\n",
    "]\n",
    "df = pd.DataFrame(data, index=[\"id\", \"name\"])\n",
    "df"
   ]
  },
  {
   "cell_type": "code",
   "execution_count": null,
   "id": "5ffdacba",
   "metadata": {},
   "outputs": [],
   "source": [
    "df.T"
   ]
  },
  {
   "cell_type": "markdown",
   "id": "8a3b645b",
   "metadata": {},
   "source": [
    "- Création d'un **dataframe Pandas** à partir d'un **tableau Numpy**"
   ]
  },
  {
   "cell_type": "code",
   "execution_count": null,
   "id": "102d52d7",
   "metadata": {},
   "outputs": [],
   "source": [
    "data = np.array([\n",
    "    range(5),\n",
    "    [f\"nom_{i}\" for i in range(5)],\n",
    "])\n",
    "data, data.shape"
   ]
  },
  {
   "cell_type": "code",
   "execution_count": null,
   "id": "f3c40f10",
   "metadata": {},
   "outputs": [],
   "source": [
    "df = pd.DataFrame(data.T, columns=[\"id\", \"name\"])\n",
    "df"
   ]
  },
  {
   "cell_type": "markdown",
   "id": "a475f5fd",
   "metadata": {},
   "source": [
    "- Création d'un **dataframe Pandas** par concaténation d'un **Dataframe** et d'une **Serie**"
   ]
  },
  {
   "cell_type": "code",
   "execution_count": null,
   "id": "3c313346",
   "metadata": {},
   "outputs": [],
   "source": [
    "df"
   ]
  },
  {
   "cell_type": "code",
   "execution_count": null,
   "id": "721471c6",
   "metadata": {},
   "outputs": [],
   "source": [
    "ser = pd.Series([f\"prenom_{i}\" for i in range(5)], name=\"firstname\")\n",
    "ser"
   ]
  },
  {
   "cell_type": "code",
   "execution_count": null,
   "id": "a530582b",
   "metadata": {},
   "outputs": [],
   "source": [
    "pd.concat([df, ser], axis=1)"
   ]
  },
  {
   "cell_type": "markdown",
   "id": "1d724b03",
   "metadata": {},
   "source": [
    "## Récupération de données dans un dataframe Pandas\n",
    "\n",
    "Ressources :\n",
    "\n",
    "- https://pandas.pydata.org/docs/user_guide/io.html\n",
    "\n",
    "___\n",
    "\n",
    "- Récupération des données à partir d'un **fichier CSV**"
   ]
  },
  {
   "cell_type": "code",
   "execution_count": null,
   "id": "41fee472",
   "metadata": {},
   "outputs": [],
   "source": [
    "url = \"https://raw.githubusercontent.com/datasciencedojo/datasets/master/titanic.csv\"\n",
    "df = pd.read_csv(url)\n",
    "df"
   ]
  },
  {
   "cell_type": "markdown",
   "id": "0032dc2f",
   "metadata": {},
   "source": [
    "- Récupération d'un **sous-ensemble de colonnes** d'un fichier CSV et **changement d'index**"
   ]
  },
  {
   "cell_type": "code",
   "execution_count": null,
   "id": "bdd5bed5",
   "metadata": {},
   "outputs": [],
   "source": [
    "df = pd.read_csv(url, usecols=[\"PassengerId\", \"Survived\", \"Pclass\", \"Sex\", \"Age\", \"Fare\"], index_col=\"PassengerId\")\n",
    "df"
   ]
  },
  {
   "cell_type": "markdown",
   "id": "f49c1775",
   "metadata": {},
   "source": [
    "- Récupération d'un **sous-ensemble de lignes** d'un fichier CSV"
   ]
  },
  {
   "cell_type": "code",
   "execution_count": null,
   "id": "7fbcd18b",
   "metadata": {},
   "outputs": [],
   "source": [
    "df = pd.read_csv(url, nrows=100)\n",
    "df"
   ]
  },
  {
   "cell_type": "markdown",
   "id": "a7abc22a",
   "metadata": {},
   "source": [
    "## Manipulation des données d'un dataframe Pandas\n",
    "\n",
    "- Sélection d'une **partie du dataframe**"
   ]
  },
  {
   "cell_type": "code",
   "execution_count": null,
   "id": "1a470f60",
   "metadata": {},
   "outputs": [],
   "source": [
    "df.loc[2:10, \"Survived\":\"Name\"]"
   ]
  },
  {
   "cell_type": "code",
   "execution_count": null,
   "id": "f48c64f3",
   "metadata": {},
   "outputs": [],
   "source": [
    "df.iloc[2:11, 1:4]"
   ]
  },
  {
   "cell_type": "markdown",
   "id": "d1411613",
   "metadata": {},
   "source": [
    "- **Renommage des colonnes** du datframe"
   ]
  },
  {
   "cell_type": "code",
   "execution_count": null,
   "id": "d8f642f7",
   "metadata": {},
   "outputs": [],
   "source": [
    "df.columns"
   ]
  },
  {
   "cell_type": "code",
   "execution_count": null,
   "id": "740fab92",
   "metadata": {},
   "outputs": [],
   "source": [
    "df.rename(columns={\"Name\" : \"Nom\"})"
   ]
  },
  {
   "cell_type": "markdown",
   "id": "12d613ab",
   "metadata": {},
   "source": [
    "## Manipulation de données temporelles Pandas"
   ]
  },
  {
   "cell_type": "markdown",
   "id": "0102e32a",
   "metadata": {},
   "source": [
    "- Création d'un **index datetime** à partir de **données textuelles**"
   ]
  },
  {
   "cell_type": "code",
   "execution_count": null,
   "id": "81c319ee",
   "metadata": {},
   "outputs": [],
   "source": [
    "data = {\n",
    "    \"year\" : np.random.randint(1980, 2025, size=100),\n",
    "    \"month\" : np.random.randint(1, 13, size=100),\n",
    "    \"day\" : np.random.randint(1, 29, size=100),\n",
    "}\n",
    "df = pd.DataFrame(data)\n",
    "df"
   ]
  },
  {
   "cell_type": "code",
   "execution_count": null,
   "id": "b4af5beb",
   "metadata": {},
   "outputs": [],
   "source": [
    "df[\"date\"] = pd.to_datetime(df)\n",
    "df"
   ]
  },
  {
   "cell_type": "code",
   "execution_count": null,
   "id": "c1b0934e",
   "metadata": {},
   "outputs": [],
   "source": [
    "df = df.set_index(\"date\")\n",
    "df"
   ]
  },
  {
   "cell_type": "code",
   "execution_count": null,
   "id": "cd4e8aaa",
   "metadata": {},
   "outputs": [],
   "source": [
    "df = df.sort_index()\n",
    "df"
   ]
  },
  {
   "cell_type": "markdown",
   "id": "2aac9a43",
   "metadata": {},
   "source": [
    "## ✏️ Exercice\n",
    "\n",
    "- **Récupérer** le jeu de données à cette url : https://raw.githubusercontent.com/Pierre-Loic/Formation-DA-GEM-2022/main/Datasets/CAC40.csv\n",
    "- Sélectionner uniquement une entreprise (colonne \"Name\")\n",
    "- **Ajouter** des données pour les jours de **week-end** et **fériés**\n",
    "- Effectuer une **imputation des données manquantes** sur les jours ajoutés"
   ]
  },
  {
   "cell_type": "code",
   "execution_count": null,
   "id": "be8049ee",
   "metadata": {},
   "outputs": [],
   "source": [
    "# A COMPLETER"
   ]
  },
  {
   "cell_type": "markdown",
   "id": "bb0a3544",
   "metadata": {},
   "source": [
    "## Manipulation de données textuelles avec Pandas"
   ]
  },
  {
   "cell_type": "markdown",
   "id": "f3dca2ea",
   "metadata": {},
   "source": [
    "- Changement des chaines de caractères en **majuscules**"
   ]
  },
  {
   "cell_type": "code",
   "execution_count": null,
   "id": "736e0ea4",
   "metadata": {},
   "outputs": [],
   "source": [
    "df = pd.read_csv(url, nrows=100)\n",
    "df"
   ]
  },
  {
   "cell_type": "code",
   "execution_count": null,
   "id": "bf3c6acf",
   "metadata": {},
   "outputs": [],
   "source": [
    "df.Sex.str.upper()"
   ]
  },
  {
   "cell_type": "markdown",
   "id": "49d8e144",
   "metadata": {},
   "source": [
    "- **Séparation des éléments** d'une colonne"
   ]
  },
  {
   "cell_type": "code",
   "execution_count": null,
   "id": "f5cd2d81",
   "metadata": {},
   "outputs": [],
   "source": [
    "df.Name.str.split(expand=True)"
   ]
  },
  {
   "cell_type": "markdown",
   "id": "7c4bed2d",
   "metadata": {},
   "source": [
    "- Récupération du numéro des billets avec une **expression régulière**"
   ]
  },
  {
   "cell_type": "code",
   "execution_count": null,
   "id": "5a885a37",
   "metadata": {},
   "outputs": [],
   "source": [
    "df.Ticket.str.replace(r\"^[^\\d][^ ]*\", \"\", regex=True).astype(\"int\")"
   ]
  },
  {
   "cell_type": "markdown",
   "id": "6317113f",
   "metadata": {},
   "source": [
    "## Manipulation de catégories avec Pandas\n",
    "\n",
    "- Transformation de **chaines de caractères** en **catégories**"
   ]
  },
  {
   "cell_type": "code",
   "execution_count": null,
   "id": "4b470a31",
   "metadata": {},
   "outputs": [],
   "source": [
    "df.memory_usage(deep=True)"
   ]
  },
  {
   "cell_type": "code",
   "execution_count": null,
   "id": "337e2a52",
   "metadata": {},
   "outputs": [],
   "source": [
    "df.info(memory_usage=\"deep\")"
   ]
  },
  {
   "cell_type": "code",
   "execution_count": null,
   "id": "e530b176",
   "metadata": {},
   "outputs": [],
   "source": [
    "df[\"Embarked\"] = df.Embarked.astype('category')\n",
    "df.info()"
   ]
  },
  {
   "cell_type": "code",
   "execution_count": null,
   "id": "704a2053",
   "metadata": {},
   "outputs": [],
   "source": [
    "df.memory_usage(deep=True)"
   ]
  },
  {
   "cell_type": "markdown",
   "id": "3cd16e5d",
   "metadata": {},
   "source": [
    "## Fusion de dataframes Pandas"
   ]
  },
  {
   "cell_type": "code",
   "execution_count": null,
   "id": "6fee31af",
   "metadata": {},
   "outputs": [],
   "source": [
    "df1 = pd.DataFrame({'colonne_commune': ['donnée_commune', 'donnée_df1'], 'colonne_df1': [1, 1]})\n",
    "df2 = pd.DataFrame({'colonne_commune': ['donnée_commune', 'donnée_df2'], 'colonne_df2': [2, 2]})\n",
    "display(df1, df2)"
   ]
  },
  {
   "cell_type": "code",
   "execution_count": null,
   "id": "9b56d591",
   "metadata": {},
   "outputs": [],
   "source": [
    "df1.merge(df2, how='inner', on='colonne_commune')"
   ]
  },
  {
   "cell_type": "code",
   "execution_count": null,
   "id": "8963a27b",
   "metadata": {},
   "outputs": [],
   "source": [
    "df1.merge(df2, how='outer', on='colonne_commune')"
   ]
  },
  {
   "cell_type": "code",
   "execution_count": null,
   "id": "824ea3df",
   "metadata": {},
   "outputs": [],
   "source": [
    "df1.merge(df2, how='left', on='colonne_commune')"
   ]
  },
  {
   "cell_type": "code",
   "execution_count": null,
   "id": "e9b3aa0d",
   "metadata": {},
   "outputs": [],
   "source": [
    "df1.merge(df2, how='right', on='colonne_commune')"
   ]
  },
  {
   "cell_type": "markdown",
   "id": "7ed9b205",
   "metadata": {},
   "source": [
    "## 🏅 Exercice bilan\n",
    "\n",
    "- Créer un **index datetime** pour toutes les lignes du Dataframe suivant :"
   ]
  },
  {
   "cell_type": "code",
   "execution_count": null,
   "id": "e9efcc66",
   "metadata": {},
   "outputs": [],
   "source": [
    "data = {\n",
    "    \"Année\" : np.random.randint(1980, 2025, size=100),\n",
    "    \"Trimestre\" : [f\"T{np.random.randint(1, 5)}\" for _ in range(100)],\n",
    "    \"Mois\" : [np.random.randint(1, 13) if np.random.randn()<0.8 else np.nan for _ in range(100)],\n",
    "    \"Prix\" : np.random.randint(5, 250, size=100),\n",
    "}\n",
    "df = pd.DataFrame(data)\n",
    "df"
   ]
  },
  {
   "cell_type": "code",
   "execution_count": null,
   "id": "b2f195de",
   "metadata": {},
   "outputs": [],
   "source": [
    "# A COMPLETER"
   ]
  }
 ],
 "metadata": {
  "kernelspec": {
   "display_name": "Python 3 (ipykernel)",
   "language": "python",
   "name": "python3"
  },
  "language_info": {
   "codemirror_mode": {
    "name": "ipython",
    "version": 3
   },
   "file_extension": ".py",
   "mimetype": "text/x-python",
   "name": "python",
   "nbconvert_exporter": "python",
   "pygments_lexer": "ipython3",
   "version": "3.10.8"
  }
 },
 "nbformat": 4,
 "nbformat_minor": 5
}
