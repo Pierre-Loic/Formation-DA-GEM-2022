{
 "cells": [
  {
   "cell_type": "markdown",
   "id": "1330e5ef",
   "metadata": {},
   "source": [
    "# Révision 3 : analyse exploratoire des données\n",
    "\n",
    "<img src=\"https://cdn.pixabay.com/photo/2017/07/22/11/46/adventure-2528477_1280.jpg\" alt=\"carte\" width=\"400\"/>\n",
    "\n",
    "*Source : Image par MasterTux de Pixabay*\n",
    "\n",
    "#### [Pierre-Loic BAYART](https://www.linkedin.com/in/pierreloicbayart/) - Formation développeur d'applications spécialisation data analyst - Webforce3 - Grenoble Ecole de Management\n",
    "\n",
    "## Analyse statistique simple et nettoyage\n",
    "\n",
    "- Récupération du **dataset du Titanic** : https://raw.githubusercontent.com/Pierre-Loic/Formation-DA-GEM-2022/main/Datasets/titanic.csv"
   ]
  },
  {
   "cell_type": "code",
   "execution_count": null,
   "id": "bc347756",
   "metadata": {},
   "outputs": [],
   "source": [
    "import numpy as np\n",
    "import pandas as pd"
   ]
  },
  {
   "cell_type": "code",
   "execution_count": null,
   "id": "89ce4a7a",
   "metadata": {},
   "outputs": [],
   "source": [
    "url = \"https://raw.githubusercontent.com/Pierre-Loic/Formation-DA-GEM-2022/main/Datasets/titanic.csv\"\n",
    "df = pd.read_csv(url, index_col=\"PassengerId\")\n",
    "df"
   ]
  },
  {
   "cell_type": "code",
   "execution_count": null,
   "id": "b0b49fe0",
   "metadata": {},
   "outputs": [],
   "source": [
    "df.info()"
   ]
  },
  {
   "cell_type": "code",
   "execution_count": null,
   "id": "abd84b48",
   "metadata": {},
   "outputs": [],
   "source": [
    "df.describe()"
   ]
  },
  {
   "cell_type": "markdown",
   "id": "dc708ecf",
   "metadata": {},
   "source": [
    "- Analyse des **valeurs manquantes**"
   ]
  },
  {
   "cell_type": "code",
   "execution_count": null,
   "id": "3a1587d7",
   "metadata": {},
   "outputs": [],
   "source": [
    "import matplotlib.pyplot as plt\n",
    "import seaborn as sns"
   ]
  },
  {
   "cell_type": "code",
   "execution_count": null,
   "id": "dd6e0d11",
   "metadata": {},
   "outputs": [],
   "source": [
    "df.isna().sum()"
   ]
  },
  {
   "cell_type": "code",
   "execution_count": null,
   "id": "b470ab67",
   "metadata": {},
   "outputs": [],
   "source": [
    "sns.heatmap(df.isna())\n",
    "plt.show()"
   ]
  },
  {
   "cell_type": "markdown",
   "id": "0db9cddc",
   "metadata": {},
   "source": [
    "- Analyse des **corrélations** entre **grandeurs quantitatives**"
   ]
  },
  {
   "cell_type": "code",
   "execution_count": null,
   "id": "c1aa1a83",
   "metadata": {},
   "outputs": [],
   "source": [
    "# Corrélation de Pearson\n",
    "sns.heatmap(df.corr(ethod='pearson', numeric_only=True), annot=True)\n",
    "plt.show()"
   ]
  },
  {
   "cell_type": "code",
   "execution_count": null,
   "id": "eabdff87",
   "metadata": {},
   "outputs": [],
   "source": [
    "# Corrélation de Spearman\n",
    "sns.heatmap(df.corr(method='spearman', numeric_only=True), annot=True)\n",
    "plt.show()"
   ]
  },
  {
   "cell_type": "code",
   "execution_count": null,
   "id": "273d0ef0",
   "metadata": {},
   "outputs": [],
   "source": [
    "# Corrélation de Kendall\n",
    "sns.heatmap(df.corr(method='kendall', numeric_only=True), annot=True)\n",
    "plt.show()"
   ]
  },
  {
   "cell_type": "code",
   "execution_count": null,
   "id": "a19d08b8",
   "metadata": {},
   "outputs": [],
   "source": [
    "sns.pairplot(df.select_dtypes(include=[\"float64\", \"int64\"]), hue=\"Survived\")\n",
    "plt.show()"
   ]
  },
  {
   "cell_type": "markdown",
   "id": "8f13e0af",
   "metadata": {},
   "source": [
    "- Analyse des **corrélations** entre **grandeurs qualitatives**"
   ]
  },
  {
   "cell_type": "code",
   "execution_count": null,
   "id": "d33ef1b3",
   "metadata": {},
   "outputs": [],
   "source": [
    "from scipy.stats import chi2_contingency\n",
    "from scipy.stats.contingency import association"
   ]
  },
  {
   "cell_type": "code",
   "execution_count": null,
   "id": "938b9a1b",
   "metadata": {},
   "outputs": [],
   "source": [
    "khi2, pval , ddl , contingent_theorique = chi2_contingency(pd.crosstab(df[\"Survived\"], df[\"Pclass\"]))\n",
    "v_cramer = association(pd.crosstab(df[\"Survived\"], df[\"Pclass\"]), method=\"cramer\")\n",
    "print(f\"P-value pour le lien entre 'Survived' et 'Pclass' :  {pval}\")\n",
    "print(f\"V de Cramer pour le lien entre 'Survived' et 'Pclass' :  {v_cramer}\")"
   ]
  },
  {
   "cell_type": "code",
   "execution_count": null,
   "id": "93c3fb09",
   "metadata": {},
   "outputs": [],
   "source": [
    "khi2, pval , ddl , contingent_theorique = chi2_contingency(pd.crosstab(df[\"Survived\"], df[\"Sex\"]))\n",
    "v_cramer = association(pd.crosstab(df[\"Survived\"], df[\"Sex\"]), method=\"cramer\")\n",
    "print(f\"P-value pour le lien entre 'Survived' et 'Sex' :  {pval}\")\n",
    "print(f\"V de Cramer pour le lien entre 'Survived' et 'Sex' :  {v_cramer}\")"
   ]
  },
  {
   "cell_type": "code",
   "execution_count": null,
   "id": "16941711",
   "metadata": {},
   "outputs": [],
   "source": [
    "cross = pd.crosstab(df[\"Survived\"], df[\"Sex\"])\n",
    "cross = cross.div(cross.sum(axis=1), axis=0)\n",
    "cross.plot(\n",
    "    kind='bar', stacked=True, colormap='tab10', figsize=(10, 6),\n",
    ")\n",
    "plt.show()"
   ]
  },
  {
   "cell_type": "code",
   "execution_count": null,
   "id": "f5393af2",
   "metadata": {},
   "outputs": [],
   "source": [
    "cross = pd.crosstab(df[\"Survived\"], df[\"Pclass\"])\n",
    "cross = cross.div(cross.sum(axis=1), axis=0)\n",
    "cross.plot(\n",
    "    kind='bar', stacked=True, colormap='tab10', figsize=(10, 6),\n",
    ")\n",
    "plt.show()"
   ]
  },
  {
   "cell_type": "markdown",
   "id": "990df224",
   "metadata": {},
   "source": [
    "- Analyse des **corrélations** entre une **grandeur qualitative** et une **grandeur quantitative**"
   ]
  },
  {
   "cell_type": "code",
   "execution_count": null,
   "id": "5b20ff26",
   "metadata": {},
   "outputs": [],
   "source": [
    "from scipy import stats"
   ]
  },
  {
   "cell_type": "code",
   "execution_count": null,
   "id": "1544383d",
   "metadata": {},
   "outputs": [],
   "source": [
    "kstat, pval = stats.kruskal(*[group[\"Fare\"].values for name, group in df.groupby(\"Pclass\")])\n",
    "kstat, pval"
   ]
  },
  {
   "cell_type": "code",
   "execution_count": null,
   "id": "bb66aeff",
   "metadata": {},
   "outputs": [],
   "source": [
    "plt.figure(figsize=(10, 5))\n",
    "sns.boxplot(data=df, x=\"Pclass\", y=\"Fare\")\n",
    "#plt.yscale(\"log\")\n",
    "plt.show()"
   ]
  },
  {
   "cell_type": "markdown",
   "id": "9143ca70",
   "metadata": {},
   "source": [
    "- Traitement des **valeurs manquantes**"
   ]
  },
  {
   "cell_type": "code",
   "execution_count": null,
   "id": "506e97b8",
   "metadata": {},
   "outputs": [],
   "source": [
    "# Trop de valeurs manquantes\n",
    "df = df.drop(\"Cabin\", axis=1)\n",
    "df"
   ]
  },
  {
   "cell_type": "code",
   "execution_count": null,
   "id": "e9ed1977",
   "metadata": {},
   "outputs": [],
   "source": [
    "# Très peu de valeurs manquantes : imputation par le mode\n",
    "df[\"Embarked\"] = df[\"Embarked\"].fillna(df[\"Embarked\"].mode()[0])\n",
    "df.isna().sum()"
   ]
  },
  {
   "cell_type": "code",
   "execution_count": null,
   "id": "302c39e8",
   "metadata": {},
   "outputs": [],
   "source": [
    "# Beaucoup de valeurs manquantes mais colonne intéressante\n",
    "from sklearn.experimental import enable_iterative_imputer\n",
    "from sklearn.impute import IterativeImputer\n",
    "\n",
    "imp_mean = IterativeImputer(random_state=0)\n",
    "num_df = df.select_dtypes(include=[\"int64\", \"float64\"])\n",
    "num_df = pd.DataFrame(imp_mean.fit_transform(num_df), columns=num_df.columns)\n",
    "num_df"
   ]
  },
  {
   "cell_type": "code",
   "execution_count": null,
   "id": "2a7d6b93",
   "metadata": {},
   "outputs": [],
   "source": [
    "num_df.isna().sum()"
   ]
  },
  {
   "cell_type": "markdown",
   "id": "35432212",
   "metadata": {},
   "source": [
    "## Nettoyage des données aberrantes (outliers)\n",
    "\n",
    "- **Analyse graphique** des données aberrantes"
   ]
  },
  {
   "cell_type": "code",
   "execution_count": null,
   "id": "6cad72df",
   "metadata": {},
   "outputs": [],
   "source": [
    "sns.histplot(data=df, x=\"Fare\")\n",
    "plt.show()"
   ]
  },
  {
   "cell_type": "code",
   "execution_count": null,
   "id": "b7a0d1df",
   "metadata": {},
   "outputs": [],
   "source": [
    "sns.boxplot(data=df, x=\"Fare\")\n",
    "plt.show()"
   ]
  },
  {
   "cell_type": "markdown",
   "id": "5d0aa45b",
   "metadata": {},
   "source": [
    "- **Analyse statistique** des données aberrantes"
   ]
  },
  {
   "cell_type": "code",
   "execution_count": null,
   "id": "28c19d74",
   "metadata": {},
   "outputs": [],
   "source": [
    "#z-score\n",
    "df[((df[\"Fare\"]-df[\"Fare\"].mean())/df[\"Fare\"].std()).abs()>3]"
   ]
  },
  {
   "cell_type": "code",
   "execution_count": null,
   "id": "c19510ee",
   "metadata": {},
   "outputs": [],
   "source": [
    "# IQR\n",
    "iqr = df[\"Fare\"].quantile(0.75) - df[\"Fare\"].quantile(0.25)\n",
    "display(df[df[\"Fare\"] < df[\"Fare\"].quantile(0.25) - 1.5*iqr], df[df[\"Fare\"] > df[\"Fare\"].quantile(0.75) + 1.5*iqr])"
   ]
  },
  {
   "cell_type": "markdown",
   "id": "e5acc809",
   "metadata": {},
   "source": [
    "## Analyse en composantes principales\n",
    "\n",
    "- **Standardisation** des donnéees"
   ]
  },
  {
   "cell_type": "code",
   "execution_count": null,
   "id": "11e3dbd5",
   "metadata": {},
   "outputs": [],
   "source": [
    "from sklearn.decomposition import PCA\n",
    "from sklearn.preprocessing import StandardScaler"
   ]
  },
  {
   "cell_type": "code",
   "execution_count": null,
   "id": "b045e6ff",
   "metadata": {},
   "outputs": [],
   "source": [
    "scaler = StandardScaler()\n",
    "data_scaled = scaler.fit_transform(num_df)"
   ]
  },
  {
   "cell_type": "markdown",
   "id": "6a583940",
   "metadata": {},
   "source": [
    "- Calcul des **composantes principales**"
   ]
  },
  {
   "cell_type": "code",
   "execution_count": null,
   "id": "ca3db797",
   "metadata": {},
   "outputs": [],
   "source": [
    "pca = PCA()\n",
    "pca.fit(data_scaled)\n",
    "print(pca.explained_variance_ratio_)\n",
    "print(sum(pca.explained_variance_ratio_[:3]))"
   ]
  },
  {
   "cell_type": "code",
   "execution_count": null,
   "id": "9c73ba6a",
   "metadata": {},
   "outputs": [],
   "source": [
    "plt.figure(figsize=(10, 5))\n",
    "plt.bar(x=range(1, num_df.shape[1]+1), height=pca.explained_variance_ratio_*100)\n",
    "plt.plot(range(1, num_df.shape[1]+1), (pca.explained_variance_ratio_*100).cumsum(), c=\"red\", marker='o')\n",
    "plt.axhline(y=80, color='black', linestyle='--')\n",
    "plt.title(\"Graphique des éboulis\")\n",
    "plt.ylabel(\"% de variance expliquée\")\n",
    "plt.xlabel(\"Rang de la composante principale\")\n",
    "plt.show()"
   ]
  },
  {
   "cell_type": "markdown",
   "id": "daa592ce",
   "metadata": {},
   "source": [
    "- Affichage du **cercle des corrélations**"
   ]
  },
  {
   "cell_type": "code",
   "execution_count": null,
   "id": "671dc432",
   "metadata": {},
   "outputs": [],
   "source": [
    "fig, ax = plt.subplots(figsize=(7, 7))\n",
    "for i in range(0, pca.components_.shape[1]):\n",
    "    ax.arrow(0,\n",
    "             0,  # Fléche à l'origine\n",
    "             pca.components_[0, i],  #0 for PC1\n",
    "             pca.components_[1, i],  #1 for PC2\n",
    "             head_width=0.07,\n",
    "             head_length=0.07, \n",
    "             width=0.02,              )\n",
    "\n",
    "    plt.text(pca.components_[0, i] + 0.05,\n",
    "             pca.components_[1, i] + 0.05,\n",
    "             num_df.columns[i])\n",
    "    \n",
    "# affichage des lignes horizontales et verticales\n",
    "plt.plot([-1, 1], [0, 0], color='grey', ls='--')\n",
    "plt.plot([0, 0], [-1, 1], color='grey', ls='--')\n",
    "plt.xlabel(f'C_1 ({round(100*pca.explained_variance_ratio_[0], 1)})')\n",
    "plt.ylabel(f'C_2 ({round(100*pca.explained_variance_ratio_[1], 1)})')\n",
    "plt.title(\"Cercle des corrélations (C_1 et C_2)\")\n",
    "\n",
    "# Ajout du cercle unité\n",
    "an = np.linspace(0, 2 * np.pi, 100)\n",
    "plt.plot(np.cos(an), np.sin(an))\n",
    "plt.axis('equal')\n",
    "plt.show(block=False)"
   ]
  },
  {
   "cell_type": "markdown",
   "id": "f00950af",
   "metadata": {},
   "source": [
    "## 🏅 Exercice bilan\n",
    "\n",
    "- Effectuer un **analyse en composantes principales (ACP)** pour le jeu de données des pingouins : https://raw.githubusercontent.com/Pierre-Loic/Formation-DA-GEM-2022/main/Datasets/penguins.csv"
   ]
  },
  {
   "cell_type": "code",
   "execution_count": null,
   "id": "3904bfae",
   "metadata": {},
   "outputs": [],
   "source": [
    "# A COMPLETER"
   ]
  }
 ],
 "metadata": {
  "kernelspec": {
   "display_name": "Python 3 (ipykernel)",
   "language": "python",
   "name": "python3"
  },
  "language_info": {
   "codemirror_mode": {
    "name": "ipython",
    "version": 3
   },
   "file_extension": ".py",
   "mimetype": "text/x-python",
   "name": "python",
   "nbconvert_exporter": "python",
   "pygments_lexer": "ipython3",
   "version": "3.10.8"
  }
 },
 "nbformat": 4,
 "nbformat_minor": 5
}
