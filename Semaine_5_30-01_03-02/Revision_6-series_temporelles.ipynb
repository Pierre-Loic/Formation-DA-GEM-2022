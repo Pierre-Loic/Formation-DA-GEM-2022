{
 "cells": [
  {
   "cell_type": "markdown",
   "id": "3f04c206",
   "metadata": {},
   "source": [
    "# Révision 6 : séries temporelles\n",
    "\n",
    "<img src=\"https://cdn.pixabay.com/photo/2013/07/12/16/01/clock-150754_1280.png\" alt=\"horloge\" width=\"400\"/>\n",
    "\n",
    "*Source : Image par OpenClipart-Vectors de Pixabay*\n",
    "\n",
    "#### [Pierre-Loic BAYART](https://www.linkedin.com/in/pierreloicbayart/) - Formation développeur d'applications spécialisation data analyst - Webforce3 - Grenoble Ecole de Management"
   ]
  },
  {
   "cell_type": "markdown",
   "id": "50bf876d",
   "metadata": {},
   "source": [
    "## Analyse exploratoire des données temporelles\n",
    "\n",
    "- **Récupérer** dans un **dataframe** Pandas les données du fichier à cette url : https://raw.githubusercontent.com/Pierre-Loic/Formation-DA-GEM-2022/main/Datasets/CAC40.csv"
   ]
  },
  {
   "cell_type": "code",
   "execution_count": null,
   "id": "4a9adda0",
   "metadata": {},
   "outputs": [],
   "source": [
    "# A COMPLETER"
   ]
  },
  {
   "cell_type": "markdown",
   "id": "a1b8ca05",
   "metadata": {},
   "source": [
    "- Sélectionner uniquement une entreprise (colonne \"Name\")"
   ]
  },
  {
   "cell_type": "code",
   "execution_count": null,
   "id": "b9de493f",
   "metadata": {},
   "outputs": [],
   "source": [
    "# A COMPLETER"
   ]
  },
  {
   "cell_type": "markdown",
   "id": "11597a37",
   "metadata": {},
   "source": [
    "- Transformer l'index en **datetime**"
   ]
  },
  {
   "cell_type": "code",
   "execution_count": null,
   "id": "a187de80",
   "metadata": {},
   "outputs": [],
   "source": [
    "# A COMPLETER"
   ]
  },
  {
   "cell_type": "markdown",
   "id": "6d8382a5",
   "metadata": {},
   "source": [
    "- Conserver uniquement la colonne du **maximum de cours de la journée**"
   ]
  },
  {
   "cell_type": "code",
   "execution_count": null,
   "id": "6e4931db",
   "metadata": {},
   "outputs": [],
   "source": [
    "# A COMPLETER"
   ]
  },
  {
   "cell_type": "markdown",
   "id": "14c5f2b1",
   "metadata": {},
   "source": [
    "- **Trier les données** grâce à l'index"
   ]
  },
  {
   "cell_type": "code",
   "execution_count": null,
   "id": "1966ff74",
   "metadata": {},
   "outputs": [],
   "source": [
    "# A COMPLETER"
   ]
  },
  {
   "cell_type": "markdown",
   "id": "a89ac21a",
   "metadata": {},
   "source": [
    "- **Ré-échantillonner** les données **par jour** et effectuer une **imputation** des données par **\"ffill\"**"
   ]
  },
  {
   "cell_type": "code",
   "execution_count": null,
   "id": "bf4fa7a2",
   "metadata": {},
   "outputs": [],
   "source": [
    "# A COMPLETER"
   ]
  },
  {
   "cell_type": "markdown",
   "id": "42f215f7",
   "metadata": {},
   "source": [
    "- Tracer 4 graphiques superposés verticalement : \n",
    "    - le graphique de la **série temporelle brute**\n",
    "    - le graphique de la **série temporelle colorée par année**\n",
    "    - le graphique des **moyennes mobiles (moving averages)** à 20 jours et à 50 jours\n",
    "    - le graphique de la **moyenne**, **médiane**, l'**écart type**, le **minimum** et le **maximum** par mois\n",
    "\n",
    "*Ressources :*\n",
    "\n",
    "   - [pandas.DataFrame.rolling](https://pandas.pydata.org/docs/reference/api/pandas.DataFrame.rolling.html)"
   ]
  },
  {
   "cell_type": "code",
   "execution_count": null,
   "id": "bb1205d2",
   "metadata": {},
   "outputs": [],
   "source": [
    "# A COMPLETER"
   ]
  },
  {
   "cell_type": "markdown",
   "id": "a1ed3126",
   "metadata": {},
   "source": [
    "- Séparer les données en un **jeu d'entrainement** et un **jeu de test** suivant l'**ordre chronologique** (20 derniers jours)"
   ]
  },
  {
   "cell_type": "code",
   "execution_count": null,
   "id": "cbc47b24",
   "metadata": {},
   "outputs": [],
   "source": [
    "# A COMPLETER"
   ]
  },
  {
   "cell_type": "markdown",
   "id": "80ce8405",
   "metadata": {},
   "source": [
    "- Utiliser la fonction `auto_arima` de la bibliothèque `pmdarima` pour obtenir les meilleurs paramètres du modèle SARIMAX à entrainer\n",
    "\n",
    "*Ressources :*\n",
    "\n",
    "[pmdarima.arima.auto_arima](https://alkaline-ml.com/pmdarima/modules/generated/pmdarima.arima.auto_arima.html)"
   ]
  },
  {
   "cell_type": "code",
   "execution_count": null,
   "id": "cacc4234",
   "metadata": {},
   "outputs": [],
   "source": [
    "# A COMPLETER"
   ]
  },
  {
   "cell_type": "markdown",
   "id": "252f76d2",
   "metadata": {},
   "source": [
    "- Entrainer un **modèle SARIMAX** et effectuer le graphique pour comparer les **données réelles** et les **prédictions**\n",
    "\n",
    "Ressources : https://www.statsmodels.org/dev/generated/statsmodels.tsa.statespace.sarimax.SARIMAX.html"
   ]
  },
  {
   "cell_type": "code",
   "execution_count": null,
   "id": "43406ae4",
   "metadata": {},
   "outputs": [],
   "source": [
    "# A COMPLETER"
   ]
  },
  {
   "cell_type": "markdown",
   "id": "f64b5964",
   "metadata": {},
   "source": [
    "- Calculer la **MAE**, **RMSE** et la **MAPE** pour le jeu de **données d'entrainement**"
   ]
  },
  {
   "cell_type": "code",
   "execution_count": null,
   "id": "78232816",
   "metadata": {},
   "outputs": [],
   "source": [
    "# A COMPLETER"
   ]
  },
  {
   "cell_type": "markdown",
   "id": "c5d6c976",
   "metadata": {},
   "source": [
    "- Effectuer une **prédiction** sur **les données de test** et afficher le **graphique des données**. Calculer la **MAE**, **RMSE** et la **MAPE** pour le jeu de **données de test**"
   ]
  },
  {
   "cell_type": "code",
   "execution_count": null,
   "id": "e2b7fa12",
   "metadata": {},
   "outputs": [],
   "source": [
    "# A COMPLETER"
   ]
  }
 ],
 "metadata": {
  "kernelspec": {
   "display_name": "Python 3 (ipykernel)",
   "language": "python",
   "name": "python3"
  },
  "language_info": {
   "codemirror_mode": {
    "name": "ipython",
    "version": 3
   },
   "file_extension": ".py",
   "mimetype": "text/x-python",
   "name": "python",
   "nbconvert_exporter": "python",
   "pygments_lexer": "ipython3",
   "version": "3.10.8"
  }
 },
 "nbformat": 4,
 "nbformat_minor": 5
}
