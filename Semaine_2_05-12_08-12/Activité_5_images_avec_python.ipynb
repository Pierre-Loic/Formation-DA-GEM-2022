{
 "cells": [
  {
   "cell_type": "markdown",
   "id": "6e08b982",
   "metadata": {},
   "source": [
    "# 👩‍💻 Activité 5 : utilisation des images avec Python\n",
    "\n",
    "<img src=\"https://cdn.pixabay.com/photo/2016/03/21/20/05/image-1271454_960_720.png\" alt=\"images\" width=\"400\"/>\n",
    "\n",
    "#### [Pierre-Loic BAYART](https://www.linkedin.com/in/pierreloicbayart/) - Formation développeur d'applications spécialisation data analyst - Webforce3 - Grenoble Ecole de Management\n",
    "\n",
    "### Code pour indiquer l'importance des notions traitées dans cette activité\n",
    "\n",
    "- #### 🥇 : connaissance fondamentale pour l'analyse de données\n",
    "- #### 🥈 : connaissance importante pour l'analyse de données\n",
    "- #### 🥉 : connaissance moins importante pour l'analyse de données"
   ]
  },
  {
   "cell_type": "markdown",
   "id": "90e9fefc",
   "metadata": {},
   "source": [
    "## 🔍 Recherche d'informations\n",
    "\n",
    "En recherchant sur le web, trouver les réponses aux questions suivantes :\n",
    "\n",
    "### - Sous quelle forme est stockée une image en informatique ?\n",
    "___\n",
    "*A COMPLETER*\n",
    "___\n",
    "### - Qu'est-ce que l'encodage RGB (ou RVB en français) ?\n",
    "___\n",
    "*A COMPLETER*\n",
    "___\n",
    "### - Quels sont les différents formats d'images ?\n",
    "___\n",
    "*A COMPLETER*\n",
    "___\n",
    "### - Quelles sont les bibliothèques Python utiles pour manipuler des images ?\n",
    "___\n",
    "*A COMPLETER*\n",
    "___\n",
    "### - Si vous traitez des images couleur de résolution 3840 x 2160 (4K) avec un modèle de machine learning classique sans réduction de dimensions, combien y a-t-il de caractéristiques (features) à ce jeu de données d'images ?\n",
    "___\n",
    "*A COMPLETER*\n",
    "___"
   ]
  },
  {
   "cell_type": "markdown",
   "id": "f5d78f6d",
   "metadata": {},
   "source": [
    "## ✏️ Activités\n",
    "\n",
    "### 🥇 Partie 1: image en niveaux de gris\n",
    "\n",
    "Dans cette première partie, on analyse une image en **niveau de gris** comme un **tableau de données**. On peut le faire car l'image ne contient qu'**un channel**.\n",
    "\n",
    "- **Télécharger** le fichier \"image.csv\"\n",
    "- Ouvrir le fichier à l'aide d'**un tableur** (Google sheet, Calc, Excel...)\n",
    "- Trouver un moyen d'afficher l'image contenue dans le fichier CSV dans la feuille de calcul à partir des **valeurs de pixels**. Que représente cette image ?"
   ]
  },
  {
   "cell_type": "markdown",
   "id": "b00d73c0",
   "metadata": {},
   "source": [
    "___\n",
    "*A COMPLETER*\n",
    "___"
   ]
  },
  {
   "cell_type": "markdown",
   "id": "09f6ee7e",
   "metadata": {},
   "source": [
    "- Importer le fichier \"image.csv\" dans un **dataframe** Pandas sans entêtes"
   ]
  },
  {
   "cell_type": "code",
   "execution_count": null,
   "id": "c7a8f7a4",
   "metadata": {},
   "outputs": [],
   "source": [
    "# A COMPLETER"
   ]
  },
  {
   "cell_type": "markdown",
   "id": "97d95992",
   "metadata": {},
   "source": [
    "- Afficher le **nombre de pixels** en **hauteur** et en **largeur** de l'image"
   ]
  },
  {
   "cell_type": "code",
   "execution_count": null,
   "id": "538b515e",
   "metadata": {},
   "outputs": [],
   "source": [
    "# A COMPLETER"
   ]
  },
  {
   "cell_type": "markdown",
   "id": "3dad967b",
   "metadata": {},
   "source": [
    "- Afficher la **valeur minimale** et la **valeur maximale** du dataframe"
   ]
  },
  {
   "cell_type": "code",
   "execution_count": null,
   "id": "363fc452",
   "metadata": {},
   "outputs": [],
   "source": [
    "# A COMPLETER"
   ]
  },
  {
   "cell_type": "markdown",
   "id": "55efa261",
   "metadata": {},
   "source": [
    "- **Afficher l'image** contenue dans le dataframe à l'aide de la fonction [`matplotlib.pyplot.imshow()`](https://matplotlib.org/stable/api/_as_gen/matplotlib.pyplot.imshow.html) de matplotlib"
   ]
  },
  {
   "cell_type": "code",
   "execution_count": null,
   "id": "eb31ee7d",
   "metadata": {},
   "outputs": [],
   "source": [
    "# A COMPLETER"
   ]
  },
  {
   "cell_type": "markdown",
   "id": "06c83cb9",
   "metadata": {},
   "source": [
    "### 🥇 Partie 2 : image en couleurs\n",
    "\n",
    "Dans cette **deuxième partie**, on analyse une image en **couleurs** grâce à la bibliothèque Pillow qui permet de traiter différents formats d'images.\n",
    "\n",
    "- **Récupérer le fichier d'image** à partir de l'url [image national geographic](https://static.nationalgeographic.fr/files/styles/image_3200/public/pangolin-cites-03.ngsversion.1501687833883.adapt_.1900.1.jpg) à l'aide d'[urllib](https://docs.python.org/fr/3/library/urllib.request.html#module-urllib.request) et de [Pillow](https://pillow.readthedocs.io/en/stable/)"
   ]
  },
  {
   "cell_type": "code",
   "execution_count": null,
   "id": "5735e615",
   "metadata": {},
   "outputs": [],
   "source": [
    "# A COMPLETER"
   ]
  },
  {
   "cell_type": "markdown",
   "id": "a3604af3",
   "metadata": {},
   "source": [
    "- **Afficher l'image** à l'aide de Pillow"
   ]
  },
  {
   "cell_type": "code",
   "execution_count": null,
   "id": "9fab8c40",
   "metadata": {},
   "outputs": [],
   "source": [
    "# A COMPLETER"
   ]
  },
  {
   "cell_type": "markdown",
   "id": "ed42a7d1",
   "metadata": {},
   "source": [
    "- Afficher le **format** et la **taille** de l'image"
   ]
  },
  {
   "cell_type": "code",
   "execution_count": null,
   "id": "2daedaaf",
   "metadata": {},
   "outputs": [],
   "source": [
    "# A COMPLETER"
   ]
  },
  {
   "cell_type": "markdown",
   "id": "6729a317",
   "metadata": {},
   "source": [
    "- Transformer l'image de Pillow en **tableau Numpy** et **afficher l'image** à l'aide de **matplotlib**"
   ]
  },
  {
   "cell_type": "code",
   "execution_count": null,
   "id": "aa879ac7",
   "metadata": {},
   "outputs": [],
   "source": [
    "# A COMPLETER"
   ]
  },
  {
   "cell_type": "markdown",
   "id": "3168763b",
   "metadata": {},
   "source": [
    "- Changer **tous les pixels rouge** à la valeur **0** et **afficher** la nouvelle image"
   ]
  },
  {
   "cell_type": "code",
   "execution_count": null,
   "id": "20ece58b",
   "metadata": {},
   "outputs": [],
   "source": [
    "# A COMPLETER"
   ]
  },
  {
   "cell_type": "markdown",
   "id": "e13cdcba",
   "metadata": {},
   "source": [
    "- **Transformer** le nouveau tableau Numpy en **image Pillow** à l'aide de la fonction `fromarray()` et **enregistrer l'image** sur votre ordinateur au format JPEG"
   ]
  },
  {
   "cell_type": "code",
   "execution_count": null,
   "id": "81e37e26",
   "metadata": {},
   "outputs": [],
   "source": [
    "# A COMPLETER"
   ]
  },
  {
   "cell_type": "markdown",
   "id": "3507506e",
   "metadata": {},
   "source": [
    "### 🥈 Partie 3 : création d'une image en couleurs à partir d'un tableau numpy\n",
    "\n",
    "Dans cette troisième partie, on va créer directement des **images à partir de tableaux numpy**. Pour la mise en application, on va créer le **[drapeau de l'Ukraine](https://fr.wikipedia.org/wiki/Drapeau_de_l%27Ukraine)** à partir de zéro.\n",
    "\n",
    "- Récupérer la **couleur en RGB** du haut du drapeau (la couleur bleue) et du bas (la couleur jaune)"
   ]
  },
  {
   "cell_type": "markdown",
   "id": "2ed7ac62",
   "metadata": {},
   "source": [
    "*A COMPLETER*"
   ]
  },
  {
   "cell_type": "markdown",
   "id": "4d727310",
   "metadata": {},
   "source": [
    "- Créer le **tableau numpy** du **haut** du drapeau en dimension (shape) 75x225x3 avec les **valeur de RGB**"
   ]
  },
  {
   "cell_type": "code",
   "execution_count": null,
   "id": "21cd6b87",
   "metadata": {},
   "outputs": [],
   "source": [
    "# A COMPLETER"
   ]
  },
  {
   "cell_type": "markdown",
   "id": "f222aa2f",
   "metadata": {},
   "source": [
    "- Créer le **tableau numpy** du **bas** du drapeau en dimension (shape) 75x225x3 avec les **valeur de RGB**"
   ]
  },
  {
   "cell_type": "code",
   "execution_count": null,
   "id": "8c296b42",
   "metadata": {},
   "outputs": [],
   "source": [
    "# A COMPLETER"
   ]
  },
  {
   "cell_type": "markdown",
   "id": "30dec67d",
   "metadata": {},
   "source": [
    "- **Concaténer les deux tableaux** pour obtenir un tableau de dimension **150x225x3**"
   ]
  },
  {
   "cell_type": "code",
   "execution_count": null,
   "id": "485dcd07",
   "metadata": {},
   "outputs": [],
   "source": [
    "# A COMPLETER"
   ]
  },
  {
   "cell_type": "markdown",
   "id": "a65f0503",
   "metadata": {},
   "source": [
    "- **Afficher le résultat** grâce à la bibliothèque **Matplotlib**"
   ]
  },
  {
   "cell_type": "code",
   "execution_count": null,
   "id": "17e6d318",
   "metadata": {},
   "outputs": [],
   "source": [
    "# A COMPLETER"
   ]
  },
  {
   "cell_type": "markdown",
   "id": "517333ec",
   "metadata": {},
   "source": [
    "### 🥈 Partie 4 : manipulation d'une image en couleurs avec de la transparence\n",
    "\n",
    "Dans cette quatrième partie, on va utiliser des images au **format PNG** qui permettent d'avoir de la **transparence** grâce à un **channel supplémentaire**.\n",
    "\n",
    "- A l'aide de la fonction [`matplotlib.pyplot.imread()`](https://matplotlib.org/stable/api/_as_gen/matplotlib.pyplot.imread.html) de matplotlib, récupérer l'image \"chat.png\" dans un **tableau numpy**."
   ]
  },
  {
   "cell_type": "code",
   "execution_count": null,
   "id": "bc110f61",
   "metadata": {},
   "outputs": [],
   "source": [
    "# A COMPLETER"
   ]
  },
  {
   "cell_type": "markdown",
   "id": "7353f7ac",
   "metadata": {},
   "source": [
    "- Afficher **les dimensions** du tableau Numpy et vérifier la présence du **channel de transparence**"
   ]
  },
  {
   "cell_type": "code",
   "execution_count": null,
   "id": "1286123f",
   "metadata": {},
   "outputs": [],
   "source": [
    "# A COMPLETER"
   ]
  },
  {
   "cell_type": "markdown",
   "id": "8488b56f",
   "metadata": {},
   "source": [
    "- Afficher l'image avec **tous les channels** à l'aide de matplotlib"
   ]
  },
  {
   "cell_type": "code",
   "execution_count": null,
   "id": "3170a28a",
   "metadata": {},
   "outputs": [],
   "source": [
    "# A COMPLETER"
   ]
  },
  {
   "cell_type": "markdown",
   "id": "113e83f1",
   "metadata": {},
   "source": [
    "- Afficher uniquement le **channel de transparence**"
   ]
  },
  {
   "cell_type": "code",
   "execution_count": null,
   "id": "f9c8b11f",
   "metadata": {},
   "outputs": [],
   "source": [
    "# A COMPLETER"
   ]
  },
  {
   "cell_type": "markdown",
   "id": "df5f448b",
   "metadata": {},
   "source": [
    "- Sur une **même ligne horizontale**, afficher les images des **4 channels** de l'image à l'aide de la fonction [`matplotlib.pyplot.subplots()`](https://matplotlib.org/stable/api/_as_gen/matplotlib.pyplot.subplots.html) de matplotlib"
   ]
  },
  {
   "cell_type": "code",
   "execution_count": null,
   "id": "4182806e",
   "metadata": {},
   "outputs": [],
   "source": [
    "# A COMPLETER"
   ]
  },
  {
   "cell_type": "markdown",
   "id": "6e636754",
   "metadata": {},
   "source": [
    "## 🚀 Pour aller plus loin\n",
    "\n",
    "- Images, Pixels and RGB : https://www.youtube.com/watch?v=15aqFQQVBWU"
   ]
  },
  {
   "cell_type": "markdown",
   "id": "806b59ba",
   "metadata": {},
   "source": [
    "___\n",
    "*👨‍🏫 [Pierre-Loic BAYART](https://www.linkedin.com/in/pierreloicbayart/) - Formation développeur d'applications spécialisation data analyst - Webforce3 - Grenoble Ecole de Management*\n",
    "___\n",
    "Source images d'illustration : Image par Maicon Fonseca Zanco de Pixabay"
   ]
  }
 ],
 "metadata": {
  "kernelspec": {
   "display_name": "Python 3 (ipykernel)",
   "language": "python",
   "name": "python3"
  },
  "language_info": {
   "codemirror_mode": {
    "name": "ipython",
    "version": 3
   },
   "file_extension": ".py",
   "mimetype": "text/x-python",
   "name": "python",
   "nbconvert_exporter": "python",
   "pygments_lexer": "ipython3",
   "version": "3.9.6"
  }
 },
 "nbformat": 4,
 "nbformat_minor": 5
}
