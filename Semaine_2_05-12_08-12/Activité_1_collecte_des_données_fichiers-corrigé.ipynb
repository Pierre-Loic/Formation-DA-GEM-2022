{
 "cells": [
  {
   "cell_type": "markdown",
   "id": "5be22f39",
   "metadata": {},
   "source": [
    "# 👩‍💻 Activité 1 : Comment récupérer des données ? - PARTIE 1 : fichiers de données\n",
    "\n",
    "<img src=\"https://cdn.pixabay.com/photo/2016/11/30/15/00/apples-1872997_1280.jpg\" alt=\"rubik\" width=\"400\"/>\n",
    "\n",
    "#### [Pierre-Loic BAYART](https://www.linkedin.com/in/pierreloicbayart/) - Formation développeur d'applications spécialisation data analyst - Webforce3 - Grenoble Ecole de Management\n",
    "\n",
    "### Code pour indiquer l'importance des notions traitées dans cette activité\n",
    "\n",
    "- #### 🥇 : connaissance fondamentale pour l'analyse de données\n",
    "- #### 🥈 : connaissance importante pour l'analyse de données\n",
    "- #### 🥉 : connaissance moins importante pour l'analyse de données"
   ]
  },
  {
   "cell_type": "markdown",
   "id": "0fdae17d",
   "metadata": {},
   "source": [
    "## 🔍 Recherche d'informations\n",
    "\n",
    "En recherchant sur le web, trouver les réponses aux questions suivantes :\n",
    "\n",
    "### - Quels sont les 2 types de structures de données que peut contenir un fichier JSON ?\n",
    "___\n",
    "Les fichiers JSON peuvent contenir deux types de structures de données : les **dictionnaires** (objet JSON) et les **listes** (array JSON).\n",
    "\n",
    "Source : https://www.json.org/json-fr.html\n",
    "___\n",
    "### - Quels sont les différences entre des données contenues dans les structures Python et dans des structures JSON ?\n",
    "___\n",
    "Les JSON sont issues de la **syntaxe Javascript**, il y a donc les **différences** suivantes entre la syntaxe **JSON** et la syntaxe **Python** :\n",
    "\n",
    "|**Syntaxe JSON**|**Syntaxe Python**|\n",
    "|-|-|\n",
    "|true|True|\n",
    "|false|False|\n",
    "|null|None|\n",
    "|object|dict|\n",
    "|array|list, tuple|\n",
    "|string|str|\n",
    "|number|int, float|\n",
    "\n",
    "La **bibliothèque standard** Python possède le module **[json](https://docs.python.org/fr/3/library/json.html)** pour traiter les fichiers JSON.\n",
    "\n",
    "Source :\n",
    "\n",
    "- https://docs.python.org/fr/3/library/json.html#encoders-and-decoders\n",
    "___\n",
    "### - Comment sont construits les fichiers GeoJSON et TopoJSON ?\n",
    "___\n",
    "Le fichier GeoJSON est un format d'encodage de **données géospatiales** en utilisant un fichier JSON. Le fichier TopoJSON encode les données geographiques de façon **plus condensée** que le fichier GeoJSON.\n",
    "\n",
    "Source :\n",
    "\n",
    "- https://fr.wikipedia.org/wiki/GeoJSON\n",
    "\n",
    "- https://fr.wikipedia.org/wiki/TopoJSON\n",
    "___\n",
    "### - Quelles différences y a-t-il entre un fichier JSON et un fichier CSV ?\n",
    "___\n",
    "Le fichier **JSON** est un format **léger de stockage de données** très utilisé par les **API**. Le format CSV est **plus verbeux** de le JSON et il stocke les données sous un **format tabulaire** à l'aide d'un **caractère de séparation** des données. La **bibliothèque standard** Python possède le module **[csv](https://docs.python.org/3/library/csv.html)** pour traiter les fichiers CSV.\n",
    "\n",
    "Source :\n",
    "\n",
    "- https://docs.python.org/3/library/csv.html\n",
    "___"
   ]
  },
  {
   "cell_type": "markdown",
   "id": "4665eb77",
   "metadata": {},
   "source": [
    "## ✏️ Activités\n",
    "\n",
    "Un processus d'**analyse de données** commence par une étape de **collecte de données**. Si les données ne sont pas trop volumineuses (< quelques Go de données), on importe les données dans un dataframe Pandas. Si les données sont trop volumineuses, il faudra passer à des technologies big data (Hadoop, Spark...).\n",
    "Dans cette partie, on effectuera la collecte des données mais aussi le **traitement des valeurs manquantes** et les premières **visualisations de données**."
   ]
  },
  {
   "cell_type": "markdown",
   "id": "683761a3",
   "metadata": {},
   "source": [
    "Dans cette partie, on va étudier le **prix de vente des carburants** dans les différentes **stations service de France**. La données peuvent être récupérées à cette url : https://www.data.gouv.fr/fr/datasets/prix-des-carburants-en-france-flux-instantane/\n",
    "\n",
    "Les données sont présentées **sous différents formats** (XML, CSV, JSON, GeoJSON, Shapefile). L'objectif de cette activité va être de récupérer les données de ces fichiers dans des **dataframes Pandas**.\n",
    "\n",
    "<img src=\"https://cdn.pixabay.com/photo/2016/08/15/22/20/fuel-1596622_1280.jpg\" alt=\"datagouv\" width=\"400\"/>"
   ]
  },
  {
   "cell_type": "markdown",
   "id": "b1ce5c32",
   "metadata": {},
   "source": [
    "### 🥇 Fichiers CSV (Comma-separated values) \n",
    "\n",
    "Les **fichiers CSV** sont des fichiers au **format texte** contenant des données **séparées par des virgules**. Il existe des **variantes** utilisant d'**autres symboles** pour séparer les données (Delimiter-separated values - DSV) : le point virgule, la tabulation... Tous ces fichiers sont récupérables dans un dataframe Pandas grâce à la fonction [`read_csv()`](https://pandas.pydata.org/docs/reference/api/pandas.read_csv.html) et au paramètre `sep` pour indiquer le délimiteur.\n",
    "\n",
    "- Importer les bibliothèques Pandas, Matplotlib et Seaborn"
   ]
  },
  {
   "cell_type": "code",
   "execution_count": null,
   "id": "7309f072",
   "metadata": {},
   "outputs": [],
   "source": [
    "import pandas as pd\n",
    "import seaborn as sns\n",
    "import matplotlib.pyplot as plt"
   ]
  },
  {
   "cell_type": "markdown",
   "id": "db17ab8a",
   "metadata": {},
   "source": [
    "- Récupérer les données du **fichier CSV** (https://www.data.gouv.fr/fr/datasets/r/64e02cff-9e53-4cb2-adfd-5fcc88b2dc09) dans un **dataframe Pandas**."
   ]
  },
  {
   "cell_type": "code",
   "execution_count": null,
   "id": "d669da18",
   "metadata": {},
   "outputs": [],
   "source": [
    "df = pd.read_csv(\"prix-carburants-fichier-instantane-test-ods-copie.csv\", sep=\";\")\n",
    "df.info()"
   ]
  },
  {
   "cell_type": "markdown",
   "id": "6dc3670f",
   "metadata": {},
   "source": [
    "- Afficher la **proportion des valeurs manquantes par colonne**."
   ]
  },
  {
   "cell_type": "code",
   "execution_count": null,
   "id": "e9238b06",
   "metadata": {},
   "outputs": [],
   "source": [
    "(df.isna().sum()/df.shape[0]*100).round(2)"
   ]
  },
  {
   "cell_type": "markdown",
   "id": "2909eede",
   "metadata": {},
   "source": [
    "- Tracer le **graphique des valeurs manquantes** grâce à la bibliothèque Seaborn pour pouvoir les **localiser** (https://seaborn.pydata.org/generated/seaborn.heatmap.html). Analyser la **corrélation des valeurs manquantes**. Quelle conclusion en tirer sur le nettoyage des données ?\n",
    "\n",
    "> ℹ️ La localisation des valeurs manquantes est aussi possible avec la bibliothèque [Missingno](https://github.com/ResidentMario/missingno) spécialisée dans l'analyse des données manquantes"
   ]
  },
  {
   "cell_type": "code",
   "execution_count": null,
   "id": "867278e4",
   "metadata": {},
   "outputs": [],
   "source": [
    "plt.figure(figsize=(10,6))\n",
    "sns.heatmap(df.isna(), cbar=False)\n",
    "plt.show()"
   ]
  },
  {
   "cell_type": "code",
   "execution_count": null,
   "id": "6db3aa39",
   "metadata": {},
   "outputs": [],
   "source": [
    "sns.heatmap(df.isna().corr().fillna(0))\n",
    "plt.show()"
   ]
  },
  {
   "cell_type": "markdown",
   "id": "671f64b5",
   "metadata": {},
   "source": [
    "On oberve **deux groupes** de données où les valeurs manquantes sont **très corrélées**. Au vu de la **faible proportion de données manquantes** et de leur **forte corrélation**, on peut **supprimer ces lignes de données**."
   ]
  },
  {
   "cell_type": "markdown",
   "id": "112b88de",
   "metadata": {},
   "source": [
    "- Supprimer certaines **données manquantes** suite aux conclusions précédentes et réindexer les données (https://pandas.pydata.org/docs/reference/api/pandas.DataFrame.reset_index.html). Tracer le **graphique des données manquantes** pour **valider le bon traitement** "
   ]
  },
  {
   "cell_type": "code",
   "execution_count": null,
   "id": "bbecc4f0",
   "metadata": {},
   "outputs": [],
   "source": [
    "drop_df = df.dropna(how=\"any\", subset=[\n",
    "    \"prix_maj\", \"prix_id\", \"prix_valeur\", \"prix_nom\", \"com_arm_code\",\n",
    "    \"com_arm_name\", \"epci_code\", \"epci_name\", \"dep_code\", \"dep_name\",\n",
    "    \"reg_code\", \"reg_name\", \"com_code\", \"com_name\",\n",
    "])\n",
    "drop_df = drop_df.reset_index()"
   ]
  },
  {
   "cell_type": "code",
   "execution_count": null,
   "id": "318d2e7d",
   "metadata": {},
   "outputs": [],
   "source": [
    "plt.figure(figsize=(10,6))\n",
    "sns.heatmap(drop_df.isna(), cbar=False)\n",
    "plt.show()"
   ]
  },
  {
   "cell_type": "markdown",
   "id": "a37ca6ce",
   "metadata": {},
   "source": [
    "### 🥇 Fichiers JSON (JavaScript Object Notation) \n",
    "\n",
    "Les **fichiers JSON** sont des fichiers au **format texte**. Il existe aussi 2 sous familles de fichiers **JSON** spécialisés pour la manipulation de **données géographiques** : [GeoJSON](https://fr.wikipedia.org/wiki/GeoJSON) et [TopoJSON](https://fr.wikipedia.org/wiki/TopoJSON)"
   ]
  },
  {
   "cell_type": "markdown",
   "id": "cdff82eb",
   "metadata": {},
   "source": [
    "- Récupérer les données du **fichier JSON** (https://www.data.gouv.fr/fr/datasets/prix-des-carburants-en-france-flux-instantane/) dans un **dataframe Pandas**."
   ]
  },
  {
   "cell_type": "code",
   "execution_count": null,
   "id": "ed16da58",
   "metadata": {},
   "outputs": [],
   "source": [
    "df_json = pd.read_json(\"https://www.data.gouv.fr/fr/datasets/r/b3393fc7-1bee-42fb-a351-d7aedf5d5ff0\")\n",
    "df_json"
   ]
  },
  {
   "cell_type": "markdown",
   "id": "4dc0f23e",
   "metadata": {},
   "source": [
    "- Séparer les différentes données de la **colonne \"fields\"** grâce à la fonction de Pandas [`json_normalize()`](https://pandas.pydata.org/docs/reference/api/pandas.json_normalize.html)"
   ]
  },
  {
   "cell_type": "code",
   "execution_count": null,
   "id": "5aeadbbf",
   "metadata": {},
   "outputs": [],
   "source": [
    "df_json = pd.json_normalize(df_json[\"fields\"])"
   ]
  },
  {
   "cell_type": "markdown",
   "id": "bf380c3b",
   "metadata": {},
   "source": [
    "- Analyser **statistiquement** et **graphiquement** la colonne \"prix_valeur\". Quelle **conclusion** faites-vous à partir de la **distribution des données** ? Valider cette conclusion statistiquement et graphiquement "
   ]
  },
  {
   "cell_type": "code",
   "execution_count": null,
   "id": "1ead9280",
   "metadata": {},
   "outputs": [],
   "source": [
    "df_json[[\"prix_valeur\"]].describe()"
   ]
  },
  {
   "cell_type": "code",
   "execution_count": null,
   "id": "21790090",
   "metadata": {},
   "outputs": [],
   "source": [
    "df_json[[\"prix_valeur\"]].hist()\n",
    "df_json[[\"prix_valeur\"]].plot.kde()\n",
    "plt.show()"
   ]
  },
  {
   "cell_type": "markdown",
   "id": "29d9c181",
   "metadata": {},
   "source": [
    "La distribution présente **deux modalités** sûrement à cause des **différents types de carburants**."
   ]
  },
  {
   "cell_type": "code",
   "execution_count": null,
   "id": "29d4750a",
   "metadata": {},
   "outputs": [],
   "source": [
    "df_json[[\"prix_nom\", \"prix_valeur\"]].groupby([\"prix_nom\"]).agg([\"mean\", \"std\"])"
   ]
  },
  {
   "cell_type": "code",
   "execution_count": null,
   "id": "b5001372",
   "metadata": {},
   "outputs": [],
   "source": [
    "plt.figure(figsize=(10, 5))\n",
    "sns.histplot(data=df_json, x=\"prix_valeur\", hue=\"prix_nom\")\n",
    "plt.show()"
   ]
  },
  {
   "cell_type": "code",
   "execution_count": null,
   "id": "2ca63e4b",
   "metadata": {},
   "outputs": [],
   "source": [
    "plt.figure(figsize=(10, 5))\n",
    "sns.boxplot(data=df_json, x=\"prix_valeur\", y=\"prix_nom\", hue=\"pop\")\n",
    "plt.show()"
   ]
  },
  {
   "cell_type": "markdown",
   "id": "a38deec1",
   "metadata": {},
   "source": [
    "### 🥈 Fichiers GeoJSON () \n",
    "\n",
    "Les **fichiers GeoJSON** sont des fichiers JSON avec un **formalisme spécifique** pour stocker des **données géographiques** donc ils peuvent contenir à la fois des **données \"métier\"** et des **données géographiques**."
   ]
  },
  {
   "cell_type": "markdown",
   "id": "44ed5456",
   "metadata": {},
   "source": [
    "- Récupérer les données du **fichier GeoJSON** (https://www.data.gouv.fr/fr/datasets/prix-des-carburants-en-france-flux-instantane/) dans un **dataframe Pandas**."
   ]
  },
  {
   "cell_type": "code",
   "execution_count": null,
   "id": "a3164169",
   "metadata": {},
   "outputs": [],
   "source": [
    "df_geojson = pd.read_json(\"https://www.data.gouv.fr/fr/datasets/r/b9a8d9cb-4dcf-41cc-b66e-dc0b49cd21d4\")\n",
    "df_geojson"
   ]
  },
  {
   "cell_type": "markdown",
   "id": "f4c8b6bc",
   "metadata": {},
   "source": [
    "- Afficher le contenu de la **colonne \"features\"** dans un dataframe grâce à la fonction de Pandas [`json_normalize()`](https://pandas.pydata.org/docs/reference/api/pandas.json_normalize.html) et retrouver les différentes parties d'un GeoJSON (\"type\", \"geometry\" et \"properties\")"
   ]
  },
  {
   "cell_type": "code",
   "execution_count": null,
   "id": "5c58d027",
   "metadata": {},
   "outputs": [],
   "source": [
    "pd.json_normalize(df_geojson[\"features\"])"
   ]
  },
  {
   "cell_type": "markdown",
   "id": "2e6df743",
   "metadata": {},
   "source": [
    "- Installer dans l'**environnement virtuel** et importer la bibliothèque [GeoPandas](https://geopandas.org/en/stable/) \n",
    "\n",
    "> ℹ️ La bibliothèque **GeoPandas** est une bibliothèque de **manipulation de données cartographiques** en Python. Elle permet de manipuler des GeoDataFrames et des GeoSeries pour effectuer des calculs sur les données géographiques."
   ]
  },
  {
   "cell_type": "code",
   "execution_count": null,
   "id": "3c080956",
   "metadata": {},
   "outputs": [],
   "source": [
    "import geopandas"
   ]
  },
  {
   "cell_type": "markdown",
   "id": "0a501afa",
   "metadata": {},
   "source": [
    "- Récupérer le **fichier GeoJSON** de la **région** de votre choix sur ce site : https://france-geojson.gregoiredavid.fr/. Créer un **geoDataFrame** de ces données"
   ]
  },
  {
   "cell_type": "code",
   "execution_count": null,
   "id": "82ca553f",
   "metadata": {},
   "outputs": [],
   "source": [
    "url_geojson_aura = \"https://france-geojson.gregoiredavid.fr/repo/regions/auvergne-rhone-alpes/region-auvergne-rhone-alpes.geojson\"\n",
    "aura_gdf = geopandas.read_file(url_geojson_aura)\n",
    "aura_gdf"
   ]
  },
  {
   "cell_type": "markdown",
   "id": "6463d73a",
   "metadata": {},
   "source": [
    "- Récupérer les données du **fichier GeoJSON** (https://www.data.gouv.fr/fr/datasets/prix-des-carburants-en-france-flux-instantane/) dans un **Geodataframe GeoPandas**."
   ]
  },
  {
   "cell_type": "code",
   "execution_count": null,
   "id": "a23b33c6",
   "metadata": {},
   "outputs": [],
   "source": [
    "gdf = geopandas.read_file(\"https://www.data.gouv.fr/fr/datasets/r/b9a8d9cb-4dcf-41cc-b66e-dc0b49cd21d4\")\n",
    "gdf"
   ]
  },
  {
   "cell_type": "markdown",
   "id": "6324a2ca",
   "metadata": {},
   "source": [
    "- Effectuer une **jointure** entre les deux **GeoDataFrame** à l'aide de la fonction [`sjoin()`](https://geopandas.org/en/stable/docs/reference/api/geopandas.sjoin.html#geopandas.sjoin) de GeoPandas pour ne conserver que les stations de la région choisie"
   ]
  },
  {
   "cell_type": "code",
   "execution_count": null,
   "id": "313bc54a",
   "metadata": {},
   "outputs": [],
   "source": [
    "aura_gdf_small = geopandas.sjoin(gdf, aura_gdf)\n",
    "aura_gdf_small = aura_gdf_small.reset_index(drop=True)\n",
    "aura_gdf_small"
   ]
  },
  {
   "cell_type": "markdown",
   "id": "99abc5d6",
   "metadata": {},
   "source": [
    "- Sélectionner uniquement les **stations d'autoroute** (utiliser la colonne \"pop\")"
   ]
  },
  {
   "cell_type": "code",
   "execution_count": null,
   "id": "168ff61c",
   "metadata": {},
   "outputs": [],
   "source": [
    "aura_gdf_small = aura_gdf_small[aura_gdf_small[\"pop\"]==\"A\"]"
   ]
  },
  {
   "cell_type": "markdown",
   "id": "7a8ab634",
   "metadata": {},
   "source": [
    "- **Exporter** le GeoDataFrame obtenu sous forme d'un fichier GeoJSON grâce à la méthode de GeoDataFrame [`to_file()`](https://geopandas.org/en/stable/docs/reference/api/geopandas.GeoDataFrame.to_file.html)"
   ]
  },
  {
   "cell_type": "code",
   "execution_count": null,
   "id": "0e120746",
   "metadata": {},
   "outputs": [],
   "source": [
    "aura_gdf_small.to_file('aura_autoroute.geojson', driver='GeoJSON')"
   ]
  },
  {
   "cell_type": "markdown",
   "id": "96fbfd79",
   "metadata": {},
   "source": [
    "- Installer dans l'**environnement virtuel** et importer la bibliothèque [Folium](https://python-visualization.github.io/folium/) \n",
    "\n",
    "> ℹ️ La bibliothèque **Folium** est une des bibliothèques de **cartographie** en Python. Il s'agit d'un **\"wrapper\"** sur la bibliothèque Javascript [Leaflet.js](https://leafletjs.com/)"
   ]
  },
  {
   "cell_type": "code",
   "execution_count": null,
   "id": "bd3fd2a9",
   "metadata": {},
   "outputs": [],
   "source": [
    "import folium"
   ]
  },
  {
   "cell_type": "markdown",
   "id": "e414517e",
   "metadata": {},
   "source": [
    "- Créer un **carte Folium vide** centrée sur le **centre de la France** (latitude : 46.227638, longitude : 2.213749) et avec un zoom de 6 (https://python-visualization.github.io/folium/quickstart.html)"
   ]
  },
  {
   "cell_type": "code",
   "execution_count": null,
   "id": "01f83d7e",
   "metadata": {},
   "outputs": [],
   "source": [
    "m = folium.Map(location=[46.227638, 2.213749], zoom_start=6)\n",
    "m"
   ]
  },
  {
   "cell_type": "markdown",
   "id": "21eb364c",
   "metadata": {},
   "source": [
    "- Essayer d'afficher grâce l'object `GeoJson` de Folium toutes les stations services des autoroute de la région choisie à partir du fichier **GeoJSON créé précédemment**"
   ]
  },
  {
   "cell_type": "code",
   "execution_count": null,
   "id": "5b83c89e",
   "metadata": {},
   "outputs": [],
   "source": [
    "folium.GeoJson('aura_autoroute.geojson', name=\"geojson\").add_to(m)\n",
    "m"
   ]
  },
  {
   "cell_type": "markdown",
   "id": "c2c336f4",
   "metadata": {},
   "source": [
    "### 🥈 Fichiers XML (Extensible Markup Language) \n",
    "\n",
    "Les **fichiers XML** sont des fichiers au **format texte**. Tous ces fichiers sont récupérables dans un dataframe Pandas grâce à la fonction [`read_xml()`](https://pandas.pydata.org/pandas-docs/stable/reference/api/pandas.read_xml.html). Pour fonctionner correctement, la bibliothèque `lxml` doit être installée dans l'environnement virtuel."
   ]
  },
  {
   "cell_type": "markdown",
   "id": "57be4632",
   "metadata": {},
   "source": [
    "- Récupérer les données d'un des **fichiers XML** (https://www.data.gouv.fr/fr/datasets/prix-des-carburants-en-france-flux-instantane/) dans un **dataframe Pandas**.\n",
    "\n",
    "> ℹ️ Lors de l'utilisation de fonctions d'importation de données avec Pandas, il peut y avoir des erreurs dues à l'**encodage des données**. L'encodage \"classique\" d'un texte est l'**utf-8** mais il en existe beaucoup d'autres (ascii, utf-16, utf-32...) qui permettent de visualiser les différents alphabets ou encore les émojis. Dans les fonctions de Pandas, il faut en général utiliser le paramètre `encoding` pour définir l'encodage."
   ]
  },
  {
   "cell_type": "code",
   "execution_count": null,
   "id": "e21a478d",
   "metadata": {},
   "outputs": [],
   "source": [
    "# A COMPLETER"
   ]
  },
  {
   "cell_type": "markdown",
   "id": "79efe9c0",
   "metadata": {},
   "source": [
    "- Vérifier que les **prix ont bien été récupérés** dans le dataframe. Si ce n'est pas le cas, essayer de construire le dataframe à partir de la **bibliothèque standard [`xml.etree.ElementTree`](https://docs.python.org/3/library/xml.etree.elementtree.html)**."
   ]
  },
  {
   "cell_type": "code",
   "execution_count": null,
   "id": "3b6d72e3",
   "metadata": {},
   "outputs": [],
   "source": [
    "# A COMPLETER"
   ]
  },
  {
   "cell_type": "markdown",
   "id": "ee6ad8e2",
   "metadata": {},
   "source": [
    "- Calculer la **moyenne** des carburants par **carburants** et par **types de stations**"
   ]
  },
  {
   "cell_type": "code",
   "execution_count": null,
   "id": "24f5ebbe",
   "metadata": {},
   "outputs": [],
   "source": [
    "# A COMPLETER"
   ]
  },
  {
   "cell_type": "markdown",
   "id": "924dcc9d",
   "metadata": {},
   "source": [
    "### 🥇 Fichiers de tableur (Excel, Open Office...)\n",
    "\n",
    "Les **fichiers de tableurs** sont très souvent utilisés. La bibliothèque **Pandas** possède la fonction [`pandas.read_excel()`](https://pandas.pydata.org/pandas-docs/stable/reference/api/pandas.read_excel.html) qui permet de lire ces fichiers.\n",
    "\n",
    "> ℹ️ La bibliothèque Pandas a besoin de la bibliothèque [openpyxl](https://openpyxl.readthedocs.io/en/stable/) pour fonctionner, il faut donc l'installer.\n",
    "\n",
    "- Récupérer dans un **dataframe Pandas** les données des musées des communes de France à cette url au format Excel [Liste des Musées de France (dernière version 2022)](https://www.data.gouv.fr/fr/datasets/liste-et-localisation-des-musees-de-france/)"
   ]
  },
  {
   "cell_type": "code",
   "execution_count": null,
   "id": "9dfee010",
   "metadata": {},
   "outputs": [],
   "source": [
    "# A COMPLETER"
   ]
  },
  {
   "cell_type": "markdown",
   "id": "a6273e34",
   "metadata": {},
   "source": [
    "- Grâce à la bibliothèque **Folium** et au dataframe créé précédemment, afficher les **musées de France** sur une carte sous forme de cercles [`folium.vector_layers.CircleMarker()`](https://python-visualization.github.io/folium/modules.html#folium.vector_layers.CircleMarker) avec un **popup** qui affiche le nom du musée quand on clique sur un cercle"
   ]
  },
  {
   "cell_type": "code",
   "execution_count": null,
   "id": "8f50e6f2",
   "metadata": {},
   "outputs": [],
   "source": [
    "# A COMPLETER"
   ]
  },
  {
   "cell_type": "markdown",
   "id": "77c2a42b",
   "metadata": {},
   "source": [
    "## 🚀 Pour aller plus loin\n",
    "\n",
    "- From XML to Pandas dataframes : https://medium.com/@robertopreste/from-xml-to-pandas-dataframes-9292980b1c1c\n",
    "- CSV Files in Python || Python Tutorial || Learn Python Programming : https://www.youtube.com/watch?v=Xi52tx6phRU&t=460s\n"
   ]
  },
  {
   "cell_type": "markdown",
   "id": "b799f00c",
   "metadata": {},
   "source": [
    "___\n",
    "*👨‍🏫 [Pierre-Loic BAYART](https://www.linkedin.com/in/pierreloicbayart/) - Formation développeur d'applications spécialisation data analyst - Webforce3 - Grenoble Ecole de Management*\n",
    "___\n",
    "Source images d'illustration : Image par lumix2004 de Pixabay, Image par IADE-Michoko de Pixabay"
   ]
  }
 ],
 "metadata": {
  "kernelspec": {
   "display_name": "Python 3 (ipykernel)",
   "language": "python",
   "name": "python3"
  },
  "language_info": {
   "codemirror_mode": {
    "name": "ipython",
    "version": 3
   },
   "file_extension": ".py",
   "mimetype": "text/x-python",
   "name": "python",
   "nbconvert_exporter": "python",
   "pygments_lexer": "ipython3",
   "version": "3.9.6"
  }
 },
 "nbformat": 4,
 "nbformat_minor": 5
}
