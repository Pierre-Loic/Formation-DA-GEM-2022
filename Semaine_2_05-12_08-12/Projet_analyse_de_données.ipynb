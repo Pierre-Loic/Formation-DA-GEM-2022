{
 "cells": [
  {
   "cell_type": "markdown",
   "id": "19835c03",
   "metadata": {},
   "source": [
    "## 🕵️ Projet\n",
    "\n",
    "Par groupe de 2 ou 3, essayer de répondre à une des questions suivantes grâce à des analyses **statistiques** et **graphiques** en faisant de l'**augmentation de données** et du l'**ingénierie des caractéristiques** (feature engineering) :\n",
    "\n",
    "- L'**altitude de la station service** a-t-elle un impact sur les **prix des carburants** ? Y a-t-il un gros avantages à faire la plein avant d'arriver à la montagne ?\n",
    "\n",
    "> 🗺️ Pistes pour l'augmentation de données :\n",
    "\n",
    "> - **Calcul altimétrique (API REST)** : https://geoservices.ign.fr/documentation/services/api-et-services-ogc/calcul-altimetrique-rest\n",
    "\n",
    "- La **distance** de la station service à la **raffinerie la plus proche** a-t-elle un impact sur le prix des carburants ?\n",
    "\n",
    "> 🗺️ Pistes pour l'augmentation de données :\n",
    "\n",
    "> - **Liste des raffineries françaises (Web scraping et Geocoding)** : https://fr.wikipedia.org/wiki/Liste_des_raffineries_fran%C3%A7aises\n",
    "\n",
    "- Le prix des carburants est-il plus important dans les **grandes villes** que dans le reste de la France ?\n",
    "\n",
    "> 🗺️ Pistes pour l'augmentation de données :\n",
    "\n",
    "> - **Villes de France (Web scraping)** : https://www.insee.fr/fr/statistiques/1288636?sommaire=1288637\n",
    "\n",
    "**Rendu du projet :**\n",
    "\n",
    "- Notebook d'analyse\n",
    "- Présentation de 5 minutes des pistes d'analyse étudiées"
   ]
  }
 ],
 "metadata": {
  "kernelspec": {
   "display_name": "Python 3 (ipykernel)",
   "language": "python",
   "name": "python3"
  },
  "language_info": {
   "codemirror_mode": {
    "name": "ipython",
    "version": 3
   },
   "file_extension": ".py",
   "mimetype": "text/x-python",
   "name": "python",
   "nbconvert_exporter": "python",
   "pygments_lexer": "ipython3",
   "version": "3.10.8"
  }
 },
 "nbformat": 4,
 "nbformat_minor": 5
}
