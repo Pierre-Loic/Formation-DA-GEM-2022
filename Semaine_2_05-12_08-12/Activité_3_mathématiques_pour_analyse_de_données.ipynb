{
 "cells": [
  {
   "cell_type": "markdown",
   "id": "873fd4b6",
   "metadata": {},
   "source": [
    "# 👩‍💻 Activité 3 : mathématiques pour l'analyse de données\n",
    "\n",
    "<img src=\"https://cdn.pixabay.com/photo/2016/03/31/15/28/data-1293312_960_720.png\" alt=\"maths\" width=\"400\"/>\n",
    "\n",
    "#### [Pierre-Loic BAYART](https://www.linkedin.com/in/pierreloicbayart/) - Formation développeur d'applications spécialisation data analyst - Webforce3 - Grenoble Ecole de Management\n",
    "\n",
    "### Code pour indiquer l'importance des notions traitées dans cette activité\n",
    "\n",
    "- #### 🥇 : connaissance fondamentale pour l'analyse de données\n",
    "- #### 🥈 : connaissance importante pour l'analyse de données\n",
    "- #### 🥉 : connaissance moins importante pour l'analyse de données"
   ]
  },
  {
   "cell_type": "markdown",
   "id": "dc03100d",
   "metadata": {},
   "source": [
    "## 🔍 Recherche d'informations\n",
    "\n",
    "En recherchant sur le web, trouver les réponses aux questions suivantes :\n",
    "\n",
    "### - Comment calculer la moyenne arithmétique ?\n",
    "___\n",
    "*A COMPLETER*\n",
    "___\n",
    "### - Comment calculer la médiane ?\n",
    "___\n",
    "*A COMPLETER*\n",
    "___\n",
    "### - Il existe deux manières d'analyser un jeu de données : soit du point de vue des individus, soit du point de vue des valeurs. Classer les élèments suivants qu'ils sont du point de vue des individus ou des valeurs : moyenne, écart-type, variance, médiane, coefficient d’aplatissement (kurtosis), coefficient d'asymétrie (skewness), quantiles, z-score, IQR, boîtes à moustaches (box plot), StandardScaler() de Scikit-Learn, RobustScaler() de Scikit-Learn\n",
    "___\n",
    "*A COMPLETER*\n",
    "___"
   ]
  },
  {
   "cell_type": "markdown",
   "id": "20ad9d45",
   "metadata": {},
   "source": [
    "## ✏️ Activités"
   ]
  },
  {
   "cell_type": "markdown",
   "id": "d701e397",
   "metadata": {},
   "source": [
    "- 🥇 Récupérer les données sur la répartition des salaires moyens (fichier CSV créé à l'activité N°2 - Figure 2) et calculer dans quelle tranche se situe le **salaire médian**\n",
    "\n",
    "> ℹ️ La méthode de dataframe [`pandas.DataFrame.cumsum()`](https://pandas.pydata.org/docs/reference/api/pandas.DataFrame.cumsum.html) peut vous aider à trouver le salaire médian. Cette méthode permet de calculer la **somme cumulée** sur les colonnes d'un dataframe"
   ]
  },
  {
   "cell_type": "code",
   "execution_count": null,
   "id": "6672be99",
   "metadata": {},
   "outputs": [],
   "source": [
    "# A COMPLETER"
   ]
  },
  {
   "cell_type": "markdown",
   "id": "03ae5964",
   "metadata": {},
   "source": [
    "- Récupérer les données sur la répartition des salaires moyens (fichier **JSON** créé à l'activité N°2 - Figure 3) dans un **dataframe** Pandas"
   ]
  },
  {
   "cell_type": "code",
   "execution_count": null,
   "id": "423f9199",
   "metadata": {},
   "outputs": [],
   "source": [
    "# A COMPLETER"
   ]
  },
  {
   "cell_type": "markdown",
   "id": "f866b678",
   "metadata": {},
   "source": [
    "- 🥈 Vérifier les **plages d'appartenance** des **déciles** et des **centiles** présentés dans le tableau (le premier décile vaut 1343€, il doit être dans le plage \"de 1300 à 1400\")"
   ]
  },
  {
   "cell_type": "code",
   "execution_count": null,
   "id": "63c2cb3e",
   "metadata": {},
   "outputs": [],
   "source": [
    "# A COMPLETER"
   ]
  },
  {
   "cell_type": "markdown",
   "id": "1d1ad7de",
   "metadata": {},
   "source": [
    "- 🥉 Connaissant la **moyenne globale des salaires nets mensuels**, estimer le **salaire moyen** de la **catégorie \"Plus de 9 000\"**"
   ]
  },
  {
   "cell_type": "code",
   "execution_count": null,
   "id": "4ec5b6d3",
   "metadata": {},
   "outputs": [],
   "source": [
    "# A COMPLETER"
   ]
  },
  {
   "cell_type": "markdown",
   "id": "ec4c54a1",
   "metadata": {},
   "source": [
    "___\n",
    "*👨‍🏫 [Pierre-Loic BAYART](https://www.linkedin.com/in/pierreloicbayart/) - Formation développeur d'applications spécialisation data analyst - Webforce3 - Grenoble Ecole de Management*\n",
    "___\n",
    "Source images d'illustration :\n",
    "\n",
    "    - Image par OpenClipart-Vectors de Pixabay"
   ]
  }
 ],
 "metadata": {
  "kernelspec": {
   "display_name": "Python 3 (ipykernel)",
   "language": "python",
   "name": "python3"
  },
  "language_info": {
   "codemirror_mode": {
    "name": "ipython",
    "version": 3
   },
   "file_extension": ".py",
   "mimetype": "text/x-python",
   "name": "python",
   "nbconvert_exporter": "python",
   "pygments_lexer": "ipython3",
   "version": "3.10.8"
  }
 },
 "nbformat": 4,
 "nbformat_minor": 5
}
