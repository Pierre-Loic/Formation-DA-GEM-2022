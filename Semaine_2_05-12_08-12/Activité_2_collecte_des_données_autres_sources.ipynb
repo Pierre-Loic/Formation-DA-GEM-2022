{
 "cells": [
  {
   "cell_type": "markdown",
   "id": "e394d112",
   "metadata": {},
   "source": [
    "# 👩‍💻 Activité 2 : Comment récupérer des données ? - PARTIE 2 : API, bases de données et web scraping\n",
    "\n",
    "<img src=\"https://cdn.pixabay.com/photo/2022/05/23/17/28/big-data-7216774_960_720.png\" alt=\"base de données\" width=\"400\"/>\n",
    "\n",
    "#### [Pierre-Loic BAYART](https://www.linkedin.com/in/pierreloicbayart/) - Formation développeur d'applications spécialisation data analyst - Webforce3 - Grenoble Ecole de Management\n",
    "\n",
    "### Code pour indiquer l'importance des notions traitées dans cette activité\n",
    "\n",
    "- #### 🥇 : connaissance fondamentale pour l'analyse de données\n",
    "- #### 🥈 : connaissance importante pour l'analyse de données\n",
    "- #### 🥉 : connaissance moins importante pour l'analyse de données"
   ]
  },
  {
   "cell_type": "markdown",
   "id": "ae6d9f0c",
   "metadata": {},
   "source": [
    "## 🔍 Recherche d'informations\n",
    "\n",
    "En recherchant sur le web, trouver les réponses aux questions suivantes :\n",
    "\n",
    "### - A quoi sert une API ?\n",
    "___\n",
    "*A COMPLETER*\n",
    "___\n",
    "### - Quelles sont les deux grandes catégories de bases de données ?\n",
    "___\n",
    "*A COMPLETER*\n",
    "___\n",
    "### - Quelle différence fondamentale existe-t-il entre une base de données SQLite et PostgreSQL ?\n",
    "___\n",
    "*A COMPLETER*\n",
    "___\n",
    "### - Quelles sont les bibliothèques Python utiles pour travailler avec des bases de données ?\n",
    "___\n",
    "*A COMPLETER*\n",
    "___\n",
    "### - En quoi consiste le web scraping ?\n",
    "___\n",
    "*A COMPLETER*\n",
    "___\n",
    "### - Quelles sont les bibliothèques Python utiles pour faire du web scraping ?\n",
    "___\n",
    "*A COMPLETER*\n",
    "___\n",
    "### - Pourquoi les algorithmes de web scraping demandent-ils en général beaucoup de maintenance ?\n",
    "___\n",
    "*A COMPLETER*\n",
    "___"
   ]
  },
  {
   "cell_type": "markdown",
   "id": "eb65b268",
   "metadata": {},
   "source": [
    "## ✏️ Activités\n",
    "\n",
    "### 🥇 API (Application Programming Interface)\n",
    "\n",
    "Les API permettent de **récupérer facilement des données** depuis un serveur de manière **normalisée** et indépendamment du langage de programmation utilisé. Pour récupérer les données d'une **API** en **Python**, il faut utiliser une bibliothèque qui permet d'**appeler un serveur** comme par exemple **[urllib](https://docs.python.org/fr/3/library/urllib.html) (bibliothèque standard)** ou **[requests](https://requests.readthedocs.io/en/latest/) (bibliothèque externe)**\n",
    "\n",
    "- Effectuer une recherche du mot \"Github\" avec l'**API Opensearch de Wikipedia** en Python"
   ]
  },
  {
   "cell_type": "code",
   "execution_count": null,
   "id": "1a01b59c",
   "metadata": {},
   "outputs": [],
   "source": [
    "# A COMPLETER"
   ]
  },
  {
   "cell_type": "markdown",
   "id": "16473f64",
   "metadata": {},
   "source": [
    "### 🥇 Bases de données\n",
    "\n",
    "Les bases de données relationnelles **SQLite** ont l'avantage de **ne pas nécessiter de serveur** de base de données. Dans cette partie, on va créer une base de données SQLite à partir d'un **fichier CSV**.\n",
    "\n",
    "- Grâce à la bibliothèque **sqlalchemy**, créer un **moteur de base de données SQLite** avec la méthode [`sqlalchemy.create_engine()`](https://docs.sqlalchemy.org/en/20/core/engines.html#sqlite)"
   ]
  },
  {
   "cell_type": "code",
   "execution_count": null,
   "id": "f574d11d",
   "metadata": {},
   "outputs": [],
   "source": [
    "# A COMPLETER"
   ]
  },
  {
   "cell_type": "markdown",
   "id": "88727bfe",
   "metadata": {},
   "source": [
    "- Récupérer dans un **dataframe Pandas** les données de la [Base officielle des codes postaux](https://www.data.gouv.fr/fr/datasets/base-officielle-des-codes-postaux/) à partir du **fichier CSV**"
   ]
  },
  {
   "cell_type": "code",
   "execution_count": null,
   "id": "86bebd84",
   "metadata": {},
   "outputs": [],
   "source": [
    "# A COMPLETER"
   ]
  },
  {
   "cell_type": "markdown",
   "id": "74ff1904",
   "metadata": {},
   "source": [
    "- Creér une **table \"CodePostaux\"** dans la base de données grâce à la méthode [`pandas.DataFrame.to_sql()`](https://pandas.pydata.org/docs/reference/api/pandas.DataFrame.to_sql.html)"
   ]
  },
  {
   "cell_type": "code",
   "execution_count": null,
   "id": "fca8debb",
   "metadata": {},
   "outputs": [],
   "source": [
    "# A COMPLETER"
   ]
  },
  {
   "cell_type": "markdown",
   "id": "22e95452",
   "metadata": {},
   "source": [
    "- Exécuter une **requête SQL** sur la base de données pour vérifier que les données ont **bien été insérées**"
   ]
  },
  {
   "cell_type": "code",
   "execution_count": null,
   "id": "b2dd5822",
   "metadata": {},
   "outputs": [],
   "source": [
    "# A COMPLETER"
   ]
  },
  {
   "cell_type": "markdown",
   "id": "5a04a296",
   "metadata": {},
   "source": [
    "### 🥈 Web scraping\n",
    "\n",
    "Dans un premier temps, on va utiliser les fonctions suivantes de **Pandas** qui permettent de **récupérer des données sur le web** : [`pandas.read_html()`](https://pandas.pydata.org/docs/reference/api/pandas.read_html.html) et [`pandas.read_clipboard()`](https://pandas.pydata.org/docs/reference/api/pandas.read_clipboard.html). Ceci fonctionne bien si les **tableaux HTML sont bien construits**. Dans le cas contraire, il faut effectuer un **scraping plus \"manuel\"** (avec les bibliothèques [Beautifulsoup](https://www.crummy.com/software/BeautifulSoup/bs4/doc/), [Scrapy](https://scrapy.org/) ou [Selenium](https://selenium-python.readthedocs.io/) par exemple).\n",
    "\n",
    "- Grâce à la fonction [`pandas.read_html()`](https://pandas.pydata.org/docs/reference/api/pandas.read_html.html) de Pandas, récupérer le tableau de la distribution des salaires mensuels nets en France - [Figure 2](https://www.insee.fr/fr/statistiques/6436313#tableau-figure2). Utiliser le paramètres `attrs` de la méthode `read_html()` pour ne récupérer que le tableau voulu."
   ]
  },
  {
   "cell_type": "code",
   "execution_count": null,
   "id": "5c84588c",
   "metadata": {},
   "outputs": [],
   "source": [
    "# A COMPLETER"
   ]
  },
  {
   "cell_type": "markdown",
   "id": "b951e8c9",
   "metadata": {},
   "source": [
    "- Tranformer la colonne \"Effectifs (en EQTP)\" en **integer** (attention au caractère \"\\xa0\")"
   ]
  },
  {
   "cell_type": "code",
   "execution_count": null,
   "id": "c763e226",
   "metadata": {},
   "outputs": [],
   "source": [
    "# A COMPLETER"
   ]
  },
  {
   "cell_type": "markdown",
   "id": "3d3ce816",
   "metadata": {},
   "source": [
    "- Grâce à la bibliothèque Matplotlib ou Seaborn, tracer l'**histogramme des données**"
   ]
  },
  {
   "cell_type": "code",
   "execution_count": null,
   "id": "b5cf57a0",
   "metadata": {},
   "outputs": [],
   "source": [
    "# A COMPLETER"
   ]
  },
  {
   "cell_type": "markdown",
   "id": "c9133aee",
   "metadata": {},
   "source": [
    "- 🥇 Grâce à la méthode de dataframe [`pandas.DataFrame.to_csv`](https://pandas.pydata.org/docs/reference/api/pandas.DataFrame.to_csv.html), créer un **fichier CSV** à partir des données récupérées sur le web qui sera réutilisé dans l'activité N°3. Vérifier son contenu"
   ]
  },
  {
   "cell_type": "code",
   "execution_count": null,
   "id": "b3aae157",
   "metadata": {},
   "outputs": [],
   "source": [
    "# A COMPLETER"
   ]
  },
  {
   "cell_type": "markdown",
   "id": "14158054",
   "metadata": {},
   "source": [
    "- 🥉Grâce à la fonction [`pandas.read_clipboard()`](https://pandas.pydata.org/docs/reference/api/pandas.read_clipboard.html), récupérer le tableau de la répartition des salaires - [Figure 3](https://www.insee.fr/fr/statistiques/6436313#tableau-figure3) dans un dataframe **depuis le presse-papier**."
   ]
  },
  {
   "cell_type": "code",
   "execution_count": null,
   "id": "8527ff17",
   "metadata": {},
   "outputs": [],
   "source": [
    "# A COMPLETER"
   ]
  },
  {
   "cell_type": "markdown",
   "id": "1cc74957",
   "metadata": {},
   "source": [
    "- 🥇 Grâce à la méthode de dataframe [`pandas.DataFrame.to_json()`](https://pandas.pydata.org/pandas-docs/stable/reference/api/pandas.DataFrame.to_json.html), créer un **fichier JSON** à partir des données récupérées sur le web qui sera réutilisé dans l'activité N°3. Vérifier son contenu"
   ]
  },
  {
   "cell_type": "code",
   "execution_count": null,
   "id": "593cac73",
   "metadata": {},
   "outputs": [],
   "source": [
    "# A COMPLETER"
   ]
  },
  {
   "cell_type": "markdown",
   "id": "049df989",
   "metadata": {},
   "source": [
    "Dans cette partie, on va effectuer du **web scraping** de cette url (https://www.scrapethissite.com/pages/simple/) pour récupérer les **noms de pays** et le **nombre d'habitants**.\n",
    "\n",
    "- Faire une **requête GET** sur l'url https://www.scrapethissite.com/pages/simple/ grâce à la bibliothèque [requests](https://requests.readthedocs.io/en/latest/)"
   ]
  },
  {
   "cell_type": "code",
   "execution_count": null,
   "id": "c0ebc382",
   "metadata": {},
   "outputs": [],
   "source": [
    "# A COMPLETER"
   ]
  },
  {
   "cell_type": "markdown",
   "id": "a0856349",
   "metadata": {},
   "source": [
    "- Analyser la **structure de la page HTML** pour récupérer le **nom du pays** et le **nombre d'habitants** grâce à la bibliothèque [Beautifulsoup](https://www.crummy.com/software/BeautifulSoup/bs4/doc/). Mettre les données dans un **dataframe Pandas**."
   ]
  },
  {
   "cell_type": "code",
   "execution_count": null,
   "id": "e9224446",
   "metadata": {},
   "outputs": [],
   "source": [
    "# A COMPLETER"
   ]
  },
  {
   "cell_type": "markdown",
   "id": "95d6b2f8",
   "metadata": {},
   "source": [
    "## 🚀 Pour aller plus loin\n",
    "\n",
    "- Python Web Scraping - Should I use Selenium, Beautiful Soup or Scrapy? [2020] : https://www.youtube.com/watch?v=zucvHSQsKHA"
   ]
  },
  {
   "cell_type": "markdown",
   "id": "f1409ec6",
   "metadata": {},
   "source": [
    "___\n",
    "*👨‍🏫 [Pierre-Loic BAYART](https://www.linkedin.com/in/pierreloicbayart/) - Formation développeur d'applications spécialisation data analyst - Webforce3 - Grenoble Ecole de Management*\n",
    "___\n",
    "Source images d'illustration : Image par I am AFK  •  So long, and thanks for all the likes! de Pixabay"
   ]
  }
 ],
 "metadata": {
  "kernelspec": {
   "display_name": "Python 3 (ipykernel)",
   "language": "python",
   "name": "python3"
  },
  "language_info": {
   "codemirror_mode": {
    "name": "ipython",
    "version": 3
   },
   "file_extension": ".py",
   "mimetype": "text/x-python",
   "name": "python",
   "nbconvert_exporter": "python",
   "pygments_lexer": "ipython3",
   "version": "3.10.8"
  }
 },
 "nbformat": 4,
 "nbformat_minor": 5
}
