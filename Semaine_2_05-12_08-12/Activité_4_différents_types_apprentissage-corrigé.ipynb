{
 "cells": [
  {
   "cell_type": "markdown",
   "id": "305d3771",
   "metadata": {},
   "source": [
    "# 👩‍💻 Activité 4 : Quels sont les différents types d'apprentissage automatique ?\n",
    "\n",
    "<img src=\"https://cdn.pixabay.com/photo/2020/11/07/10/25/machine-learning-5720531_960_720.png\" alt=\"ia\" width=\"400\"/>\n",
    "\n",
    "#### [Pierre-Loic BAYART](https://www.linkedin.com/in/pierreloicbayart/) - Formation développeur d'applications spécialisation data analyst - Webforce3 - Grenoble Ecole de Management"
   ]
  },
  {
   "cell_type": "markdown",
   "id": "34f605e8",
   "metadata": {},
   "source": [
    "## 🔍 Recherche d'informations\n",
    "\n",
    "En recherchant sur le web, trouver les réponses aux questions suivantes :\n",
    "\n",
    "### - Quels sont les 3 grands types d'apprentissage automatique ? Donner un exemple de cas d'usage pour chaque type \n",
    "___\n",
    "- **Apprentissage supervisé** : reconnaissance faciale\n",
    "- **Apprentissage non supervisé** : segmentation clients\n",
    "- **Apprentissage par renforcement** : alpha Go\n",
    "___\n",
    "### - A quel(s) type(s) d'apprentissage automatique correspondent les réseaux de neurones ?\n",
    "___\n",
    "Les **réseaux de neurones** peuvent effectuer **tous les types d'apprentissage automatique** : supervisé, non supervisé et par renforcement.\n",
    "___\n",
    "### - Comment fonctionne les algorithmes semi-supervisés ?\n",
    "___\n",
    "Les algorithmes **semi-supervisés** utilisent à la fois l'apprentissage non supervisé et supervisé ce qui nécessite **moins de labellisation de données**.\n",
    "___\n",
    "### - Quelle(s) bibliothèque(s) Python peut-on utiliser pour d'apprentissage automatique supervisé ? non-supervisé ? par renforcement ?\n",
    "___\n",
    "- apprentissage supervisé : scikit-learn, statsmodels, keras, tensorflow, pytorch...\n",
    "\n",
    "- apprentissage non-supervisé : scikit-learn, scipy, keras, tensorflow, pytorch...\n",
    "\n",
    "- apprentissage par renforcement : Pyqlearning, KerasRL...\n",
    "___\n",
    "### Quels sont les 2 grands types d'apprentissage supervisé ? Quelles sont les principales métriques de qualité de ces modèles ?\n",
    "___\n",
    "Les deux grands types d'**apprentissage supervisé** sont la **régression** et la **classification**.\n",
    "\n",
    "**Métriques de régression :** R2, MAE, RMSE\n",
    "\n",
    "**Métriques de classification :** accuracy, precision, recall, F-score (F1-score ou Fβ-score), courbe ROC, AUC, matrice de confusion\n",
    "\n",
    "Sources :\n",
    "\n",
    "- https://scikit-learn.org/stable/modules/model_evaluation.html#classification-metrics\n",
    "\n",
    "- https://scikit-learn.org/stable/modules/model_evaluation.html#regression-metrics\n",
    "___\n",
    "### - Quelles métriques sont utilisées pour mesurer la qualité d'un modèle non supervisé ?\n",
    "___\n",
    "Les métriques de qualité d'un modèle non supervisé sont plus difficiles à définir car le jeu de données ne possède pas de valeur cible (référence). On peut néanmoins définir des métriques de qualité des regroupements :\n",
    "\n",
    "- Score de Silhouette\n",
    "- Index de Calinski-Harabasz\n",
    "\n",
    "Source : https://scikit-learn.org/stable/modules/clustering.html#clustering-performance-evaluation\n",
    "___"
   ]
  },
  {
   "cell_type": "markdown",
   "id": "00773e94",
   "metadata": {},
   "source": [
    "## 🔬 Analyse de cas d'usage\n",
    "\n",
    "### Activité : choisir un des exemples de cas d'usage suivants, indiquer à quel(s) type(s) d'apprentissage automatique ils se rapportent et relever les mots-clés\n",
    "\n",
    "#### 📰 [Avec son intelligence artificielle, Disney peut désormais vieillir et rajeunir les acteurs - BFMTV](https://www.bfmtv.com/tech/avec-son-intelligence-artificielle-disney-peut-desormais-vieillir-et-rajeunir-les-acteurs_AV-202212020477.html)\n",
    "\n",
    "- **Type d'apprentissage automatique :** modèles génératifs\n",
    "\n",
    "- **Mots-clés :** deep fake\n",
    "\n",
    "#### 📰 [L’intelligence artificielle et le métier d’actuaire 4.0 - Forbes](https://www.forbes.fr/business/lintelligence-artificielle-et-le-metier-dactuaire-4-0/)\n",
    "\n",
    "- **Type d'apprentissage automatique :** modèles détection d'anomalies (supervisé ou non supervisé), modèles génératifs, modèles de prédiction supervisés et non supervisés\n",
    "\n",
    "- **Mots-clés :** RPA, API, RGPD, détection de fraude, RSSI, objets connectés, open assurance, blockchain, BI, ETL, Low-code, AWS, Azure, Azure Data Factory, données non structurées, big data\n",
    "\n",
    "#### 📰 [Artificial Intelligence Needs To Speak The Language Of Business, Not The Other Way Around - Forbes](https://www.forbes.com/sites/joemckendrick/2022/11/27/artificial-intelligence-needs-to-speak-the-language-of-business-not-the-other-way-around/?sh=696e097211b6)\n",
    "\n",
    "- **Type d'apprentissage automatique :** modèles de prédiction supervisés et non supervisés, modèles génératifs, moteurs de recommandation\n",
    "\n",
    "- **Mots-clés :** data pipeline, bias, NLP, chatbot\n",
    "\n",
    "#### 📰 [How Artificial Intelligence Swayed The Midterm Elections - And Will Become A Permanent Feature Of Democracy - Forbes](https://www.forbes.com/sites/craigsmith/2022/12/02/how-artificial-intelligence-swayed-the-midterm-electionsand-will-become-a-permanent-feature-of-democracy/?sh=52cdbed57b31)\n",
    "\n",
    "- **Type d'apprentissage automatique :** modèles de prédiction supervisés, modèles de prédiction semi-supervisés\n",
    "\n",
    "- **Mots-clés :** Data analytics, bots, social media\n",
    "\n",
    "#### 📰 [OpenAI : comment générer du texte grâce au modèle de langage GPT-3  - Numerama](https://www.numerama.com/tech/1195664-openai-comment-generer-du-texte-grace-au-modele-de-langage-gpt3.html)\n",
    "\n",
    "- **Type d'apprentissage automatique :** modèles génératifs\n",
    "\n",
    "- **Mots-clés :** GPT-3, Copilot, Dall-E\n",
    "\n",
    "#### 📰 [L’IA traque le harcèlement en ligne - CNRS le journal](https://lejournal.cnrs.fr/articles/lia-traque-le-harcelement-en-ligne)\n",
    "\n",
    "- **Type d'apprentissage automatique :** modèles de prédiction supervisés\n",
    "\n",
    "- **Mots-clés :** TAL (NLP), théorie des graphes, Chatbot\n",
    "\n",
    "#### 📰 [Peut-on faire confiance à l'intelligence artificielle ? - CNRS le journal](https://lejournal.cnrs.fr/articles/peut-faire-confiance-a-lintelligence-artificielle)\n",
    "\n",
    "- **Type d'apprentissage automatique :** modèles de prédiction non supervisés, modèles de prédiction supervisés\n",
    "\n",
    "- **Mots-clés :** Chatbot, deep learning, boites noires, biais, interprétabilité"
   ]
  },
  {
   "cell_type": "markdown",
   "id": "110bc52d",
   "metadata": {},
   "source": [
    "## 🚀 Pour aller plus loin\n",
    "\n",
    "- [Artificial Intelligence, A concise conceptual introduction - Towards Data Science](https://towardsdatascience.com/artificial-intelligence-d1e45efc99b4)\n",
    "\n",
    "- [Six scénarios d'un monde sans travail - CNRS le journal](https://lejournal.cnrs.fr/articles/six-scenarios-dun-monde-sans-travail)"
   ]
  },
  {
   "cell_type": "markdown",
   "id": "d1867e26",
   "metadata": {},
   "source": [
    "___\n",
    "*👨‍🏫 [Pierre-Loic BAYART](https://www.linkedin.com/in/pierreloicbayart/) - Formation développeur d'applications spécialisation data analyst - Webforce3 - Grenoble Ecole de Management*\n",
    "___\n",
    "Source images d'illustration : Image par Mohamed Hassan de Pixabay"
   ]
  }
 ],
 "metadata": {
  "kernelspec": {
   "display_name": "Python 3 (ipykernel)",
   "language": "python",
   "name": "python3"
  },
  "language_info": {
   "codemirror_mode": {
    "name": "ipython",
    "version": 3
   },
   "file_extension": ".py",
   "mimetype": "text/x-python",
   "name": "python",
   "nbconvert_exporter": "python",
   "pygments_lexer": "ipython3",
   "version": "3.9.6"
  }
 },
 "nbformat": 4,
 "nbformat_minor": 5
}
