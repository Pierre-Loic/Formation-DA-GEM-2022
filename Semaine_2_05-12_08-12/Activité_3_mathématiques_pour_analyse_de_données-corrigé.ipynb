{
 "cells": [
  {
   "cell_type": "markdown",
   "id": "873fd4b6",
   "metadata": {},
   "source": [
    "# 👩‍💻 Activité 3 : mathématiques pour l'analyse de données\n",
    "\n",
    "<img src=\"https://cdn.pixabay.com/photo/2016/03/31/15/28/data-1293312_960_720.png\" alt=\"maths\" width=\"400\"/>\n",
    "\n",
    "#### [Pierre-Loic BAYART](https://www.linkedin.com/in/pierreloicbayart/) - Formation développeur d'applications spécialisation data analyst - Webforce3 - Grenoble Ecole de Management\n",
    "\n",
    "### Code pour indiquer l'importance des notions traitées dans cette activité\n",
    "\n",
    "- #### 🥇 : connaissance fondamentale pour l'analyse de données\n",
    "- #### 🥈 : connaissance importante pour l'analyse de données\n",
    "- #### 🥉 : connaissance moins importante pour l'analyse de données"
   ]
  },
  {
   "cell_type": "markdown",
   "id": "dc03100d",
   "metadata": {},
   "source": [
    "## 🔍 Recherche d'informations\n",
    "\n",
    "En recherchant sur le web, trouver les réponses aux questions suivantes :\n",
    "\n",
    "### - Comment calculer la moyenne arithmétique ?\n",
    "___\n",
    "Pour calculer la moyenne arithmétique, il faut additionner toutes les valeurs des individus et diviser par le nombre d'individus.\n",
    "\n",
    "$$\\mu= \\frac{1}{n}\\sum_{i=1}^n x_i$$\n",
    "___\n",
    "### - Comment calculer la médiane ?\n",
    "___\n",
    "Il faut **classer** les individus par **ordre croissant**. Si le nombre d'individus est **impair**, la médiane correspond à la valeur de l'individu au **centre du jeu de données**. Si le nombre d'individus est **pair**, la médiane correspond à la **moyenne** des valeurs des deux individus au **centre du jeu de données**.\n",
    "\n",
    "> ℹ️ Illustration avec les salaires. Pour obtenir le salaire médian, on classe les individus par salaire croissant et choisi le salaire du milieu (individus \"central\"):\n",
    "\n",
    "<img src=\"https://cdn.pixabay.com/photo/2013/07/13/10/48/pawns-157818_960_720.png\" alt=\"gens\" width=\"400\"/>\n",
    "\n",
    "> Pour obtenir le salaire moyen, on somme tous les salaires et on divise par le nombre d'individus (le salaire que chacun aurait si les salaires étaient équitablement répartis):\n",
    "\n",
    "<img src=\"https://cdn.pixabay.com/photo/2018/12/23/10/48/money-bag-3890909_960_720.png\" alt=\"or\" width=\"400\"/>\n",
    "\n",
    "___\n",
    "### - Il existe deux manières d'analyser un jeu de données : soit du point de vue des individus, soit du point de vue des valeurs. Classer les élèments suivants qu'ils sont du point de vue des individus ou des valeurs : moyenne, écart-type, variance, médiane, coefficient d’aplatissement (kurtosis), coefficient d'asymétrie (skewness), quantiles, z-score, IQR, boîtes à moustaches (box plot), StandardScaler() de Scikit-Learn, RobustScaler() de Scikit-Learn\n",
    "___\n",
    "|Point de vue des individus|Point de vue valeurs|\n",
    "|-|-|\n",
    "|Médiane|Moyenne|\n",
    "|Quantiles|Ecart-type|\n",
    "|IQR|Variance|\n",
    "|Boîtes à moustaches (box plot)|Coefficient d’aplatissement (kurtosis)|\n",
    "|RobustScaler() de Scikit-Learn|Coefficient d'asymétrie (skewness)|\n",
    "||z-score|\n",
    "||StandardScaler() de Scikit-Learn|\n",
    "___"
   ]
  },
  {
   "cell_type": "markdown",
   "id": "20ad9d45",
   "metadata": {},
   "source": [
    "## ✏️ Activités"
   ]
  },
  {
   "cell_type": "markdown",
   "id": "d701e397",
   "metadata": {},
   "source": [
    "- 🥇 Récupérer les données sur la répartition des salaires moyens (fichier CSV créé à l'activité N°2 - Figure 2) et calculer dans quelle tranche se situe le **salaire médian**\n",
    "\n",
    "> ℹ️ La méthode de dataframe [`pandas.DataFrame.cumsum()`](https://pandas.pydata.org/docs/reference/api/pandas.DataFrame.cumsum.html) peut vous aider à trouver le salaire médian. Cette méthode permet de calculer la **somme cumulée** sur les colonnes d'un dataframe"
   ]
  },
  {
   "cell_type": "code",
   "execution_count": null,
   "id": "6672be99",
   "metadata": {},
   "outputs": [],
   "source": [
    "# A COMPLETER"
   ]
  },
  {
   "cell_type": "markdown",
   "id": "03ae5964",
   "metadata": {},
   "source": [
    "- Récupérer les données sur la répartition des salaires moyens (fichier **JSON** créé à l'activité N°2 - Figure 3) dans un **dataframe** Pandas"
   ]
  },
  {
   "cell_type": "code",
   "execution_count": null,
   "id": "423f9199",
   "metadata": {},
   "outputs": [],
   "source": [
    "# A COMPLETER"
   ]
  },
  {
   "cell_type": "markdown",
   "id": "f866b678",
   "metadata": {},
   "source": [
    "- 🥈 Vérifier les **plages d'appartenance** des **déciles** et des **centiles** présentés dans le tableau (le premier décile vaut 1343€, il doit être dans le plage \"de 1300 à 1400\")"
   ]
  },
  {
   "cell_type": "code",
   "execution_count": null,
   "id": "63c2cb3e",
   "metadata": {},
   "outputs": [],
   "source": [
    "# A COMPLETER"
   ]
  },
  {
   "cell_type": "markdown",
   "id": "1d1ad7de",
   "metadata": {},
   "source": [
    "- 🥉 Connaissant la **moyenne globale des salaires nets mensuels**, estimer le **salaire moyen** de la **catégorie \"Plus de 9 000\"**"
   ]
  },
  {
   "cell_type": "code",
   "execution_count": null,
   "id": "4ec5b6d3",
   "metadata": {},
   "outputs": [],
   "source": [
    "# A COMPLETER"
   ]
  },
  {
   "cell_type": "markdown",
   "id": "ec4c54a1",
   "metadata": {},
   "source": [
    "___\n",
    "*👨‍🏫 [Pierre-Loic BAYART](https://www.linkedin.com/in/pierreloicbayart/) - Formation développeur d'applications spécialisation data analyst - Webforce3 - Grenoble Ecole de Management*\n",
    "___\n",
    "Source images d'illustration :\n",
    "\n",
    "    - Image par OpenClipart-Vectors de Pixabay"
   ]
  }
 ],
 "metadata": {
  "kernelspec": {
   "display_name": "Python 3 (ipykernel)",
   "language": "python",
   "name": "python3"
  },
  "language_info": {
   "codemirror_mode": {
    "name": "ipython",
    "version": 3
   },
   "file_extension": ".py",
   "mimetype": "text/x-python",
   "name": "python",
   "nbconvert_exporter": "python",
   "pygments_lexer": "ipython3",
   "version": "3.9.6"
  }
 },
 "nbformat": 4,
 "nbformat_minor": 5
}
