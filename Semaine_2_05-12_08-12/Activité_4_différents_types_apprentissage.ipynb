{
 "cells": [
  {
   "cell_type": "markdown",
   "id": "305d3771",
   "metadata": {},
   "source": [
    "# 👩‍💻 Activité 4 : Quels sont les différents types d'apprentissage automatique ?\n",
    "\n",
    "<img src=\"https://cdn.pixabay.com/photo/2020/11/07/10/25/machine-learning-5720531_960_720.png\" alt=\"ia\" width=\"400\"/>\n",
    "\n",
    "#### [Pierre-Loic BAYART](https://www.linkedin.com/in/pierreloicbayart/) - Formation développeur d'applications spécialisation data analyst - Webforce3 - Grenoble Ecole de Management"
   ]
  },
  {
   "cell_type": "markdown",
   "id": "34f605e8",
   "metadata": {},
   "source": [
    "## 🔍 Recherche d'informations\n",
    "\n",
    "En recherchant sur le web, trouver les réponses aux questions suivantes :\n",
    "\n",
    "### - Quels sont les 3 grands types d'apprentissage automatique ? Donner un exemple de cas d'usage pour chaque type \n",
    "___\n",
    "*A COMPLETER*\n",
    "___\n",
    "### - A quel(s) type(s) d'apprentissage automatique correspondent les réseaux de neurones ?\n",
    "___\n",
    "*A COMPLETER*\n",
    "___\n",
    "### - Comment fonctionne les algorithmes semi-supervisés ?\n",
    "___\n",
    "*A COMPLETER*\n",
    "___\n",
    "### - Quelle(s) bibliothèque(s) Python peut-on utiliser pour d'apprentissage automatique supervisé ? non-supervisé ? par renforcement ?\n",
    "___\n",
    "*A COMPLETER*\n",
    "___\n",
    "### Quels sont les 2 grands types d'apprentissage supervisé ? Quelles sont les principales métriques de qualité de ces modèles ?\n",
    "___\n",
    "*A COMPLETER*\n",
    "___\n",
    "### - Quelles métriques sont utilisées pour mesurer la qualité d'un modèle non supervisé ?\n",
    "___\n",
    "*A COMPLETER*\n",
    "___"
   ]
  },
  {
   "cell_type": "markdown",
   "id": "00773e94",
   "metadata": {},
   "source": [
    "## 🔬 Analyse de cas d'usage\n",
    "\n",
    "### Activité : choisir un des exemples de cas d'usage suivants, indiquer à quel(s) type(s) d'apprentissage automatique ils se rapportent et relever les mots-clés\n",
    "\n",
    "#### 📰 [Avec son intelligence artificielle, Disney peut désormais vieillir et rajeunir les acteurs - BFMTV](https://www.bfmtv.com/tech/avec-son-intelligence-artificielle-disney-peut-desormais-vieillir-et-rajeunir-les-acteurs_AV-202212020477.html)\n",
    "\n",
    "- **Type d'apprentissage automatique :** *A COMPLETER*\n",
    "\n",
    "- **Mots-clés :** *A COMPLETER*\n",
    "\n",
    "#### 📰 [L’intelligence artificielle et le métier d’actuaire 4.0 - Forbes](https://www.forbes.fr/business/lintelligence-artificielle-et-le-metier-dactuaire-4-0/)\n",
    "\n",
    "- **Type d'apprentissage automatique :** *A COMPLETER*\n",
    "\n",
    "- **Mots-clés :** *A COMPLETER*\n",
    "\n",
    "#### 📰 [Artificial Intelligence Needs To Speak The Language Of Business, Not The Other Way Around - Forbes](https://www.forbes.com/sites/joemckendrick/2022/11/27/artificial-intelligence-needs-to-speak-the-language-of-business-not-the-other-way-around/?sh=696e097211b6)\n",
    "\n",
    "- **Type d'apprentissage automatique :** *A COMPLETER*\n",
    "\n",
    "- **Mots-clés :** *A COMPLETER*\n",
    "\n",
    "#### 📰 [How Artificial Intelligence Swayed The Midterm Elections - And Will Become A Permanent Feature Of Democracy - Forbes](https://www.forbes.com/sites/craigsmith/2022/12/02/how-artificial-intelligence-swayed-the-midterm-electionsand-will-become-a-permanent-feature-of-democracy/?sh=52cdbed57b31)\n",
    "\n",
    "- **Type d'apprentissage automatique :** *A COMPLETER*\n",
    "\n",
    "- **Mots-clés :** *A COMPLETER*\n",
    "\n",
    "#### 📰 [OpenAI : comment générer du texte grâce au modèle de langage GPT-3  - Numerama](https://www.numerama.com/tech/1195664-openai-comment-generer-du-texte-grace-au-modele-de-langage-gpt3.html)\n",
    "\n",
    "- **Type d'apprentissage automatique :** *A COMPLETER*\n",
    "\n",
    "- **Mots-clés :** *A COMPLETER*\n",
    "\n",
    "#### 📰 [L’IA traque le harcèlement en ligne - CNRS le journal](https://lejournal.cnrs.fr/articles/lia-traque-le-harcelement-en-ligne)\n",
    "\n",
    "- **Type d'apprentissage automatique :** *A COMPLETER*\n",
    "\n",
    "- **Mots-clés :** *A COMPLETER*\n",
    "\n",
    "#### 📰 [Peut-on faire confiance à l'intelligence artificielle ? - CNRS le journal](https://lejournal.cnrs.fr/articles/peut-faire-confiance-a-lintelligence-artificielle)\n",
    "\n",
    "- **Type d'apprentissage automatique :** *A COMPLETER*\n",
    "\n",
    "- **Mots-clés :** *A COMPLETER*"
   ]
  },
  {
   "cell_type": "markdown",
   "id": "110bc52d",
   "metadata": {},
   "source": [
    "## 🚀 Pour aller plus loin\n",
    "\n",
    "- [Artificial Intelligence, A concise conceptual introduction - Towards Data Science](https://towardsdatascience.com/artificial-intelligence-d1e45efc99b4)\n",
    "\n",
    "- [Six scénarios d'un monde sans travail - CNRS le journal](https://lejournal.cnrs.fr/articles/six-scenarios-dun-monde-sans-travail)"
   ]
  },
  {
   "cell_type": "markdown",
   "id": "d1867e26",
   "metadata": {},
   "source": [
    "___\n",
    "*👨‍🏫 [Pierre-Loic BAYART](https://www.linkedin.com/in/pierreloicbayart/) - Formation développeur d'applications spécialisation data analyst - Webforce3 - Grenoble Ecole de Management*\n",
    "___\n",
    "Source images d'illustration : Image par Mohamed Hassan de Pixabay"
   ]
  }
 ],
 "metadata": {
  "kernelspec": {
   "display_name": "Python 3 (ipykernel)",
   "language": "python",
   "name": "python3"
  },
  "language_info": {
   "codemirror_mode": {
    "name": "ipython",
    "version": 3
   },
   "file_extension": ".py",
   "mimetype": "text/x-python",
   "name": "python",
   "nbconvert_exporter": "python",
   "pygments_lexer": "ipython3",
   "version": "3.9.6"
  }
 },
 "nbformat": 4,
 "nbformat_minor": 5
}
